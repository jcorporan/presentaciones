{
 "cells": [
  {
   "cell_type": "markdown",
   "metadata": {
    "slideshow": {
     "slide_type": "slide"
    }
   },
   "source": [
    "# Preferencias de Comercios de Clientes de Tarjeta de Crédito\n",
    "\n",
    "El proposito de esta iniciativa es poder determinar cuales son los tipos de comercios preferidos por nuestros clientes, crear un algoritmo que a partir de las transacciones de un cliente determine cuales son sus categorias de comercios preferidos, poder medir que tan preferente es este comercio para poder ordenarlos, y usar los top n comercios preferidos. \n",
    "\n",
    "Esta presentación esta dividida en secciones. Puedes hacer clic en las flechas para navegar, o utilizar la tecla SPACE para avanzar según el orden de la presentación."
   ]
  },
  {
   "cell_type": "code",
   "execution_count": 1,
   "metadata": {
    "slideshow": {
     "slide_type": "skip"
    }
   },
   "outputs": [
    {
     "data": {
      "text/html": [
       "<script type=\"text/javascript\">window.PlotlyConfig = {MathJaxConfig: 'local'};</script><script type=\"text/javascript\">if (window.MathJax) {MathJax.Hub.Config({SVG: {font: \"STIX-Web\"}});}</script><script>requirejs.config({paths: { 'plotly': ['https://cdn.plot.ly/plotly-latest.min']},});if(!window._Plotly) {require(['plotly'],function(plotly) {window._Plotly=plotly;});}</script>"
      ],
      "text/vnd.plotly.v1+html": [
       "<script type=\"text/javascript\">window.PlotlyConfig = {MathJaxConfig: 'local'};</script><script type=\"text/javascript\">if (window.MathJax) {MathJax.Hub.Config({SVG: {font: \"STIX-Web\"}});}</script><script>requirejs.config({paths: { 'plotly': ['https://cdn.plot.ly/plotly-latest.min']},});if(!window._Plotly) {require(['plotly'],function(plotly) {window._Plotly=plotly;});}</script>"
      ]
     },
     "metadata": {},
     "output_type": "display_data"
    }
   ],
   "source": [
    "import pandas as pd \n",
    "import numpy as np\n",
    "import qgrid\n",
    "from sklearn.decomposition import PCA\n",
    "from sklearn.preprocessing import MinMaxScaler\n",
    "import plotly.plotly as py\n",
    "import plotly.graph_objs as go\n",
    "from plotly.offline import iplot as ipy\n",
    "import  plotly\n",
    "import ipywidgets as widgets\n",
    "from ipywidgets import interact, interact_manual\n",
    "\n",
    "plotly.offline.init_notebook_mode(connected=True)\n",
    "plotly_config={'showLink': False}"
   ]
  },
  {
   "cell_type": "markdown",
   "metadata": {
    "slideshow": {
     "slide_type": "slide"
    }
   },
   "source": [
    "# Un vistazo a los datos"
   ]
  },
  {
   "cell_type": "markdown",
   "metadata": {
    "slideshow": {
     "slide_type": "subslide"
    }
   },
   "source": [
    "Para esta proyecto, fueron utilizados las transacciones de Tarjetas de Crédito de clientes de BSC en el año 2018, resumidas por comercio, por mes, por cliente. Este resumen contiene el valor total de las transacciones y la cantidad total de transacciones realizadas por el cliente en un comercio particular."
   ]
  },
  {
   "cell_type": "code",
   "execution_count": 2,
   "metadata": {
    "slideshow": {
     "slide_type": "subslide"
    }
   },
   "outputs": [
    {
     "data": {
      "text/html": [
       "<div>\n",
       "<style scoped>\n",
       "    .dataframe tbody tr th:only-of-type {\n",
       "        vertical-align: middle;\n",
       "    }\n",
       "\n",
       "    .dataframe tbody tr th {\n",
       "        vertical-align: top;\n",
       "    }\n",
       "\n",
       "    .dataframe thead th {\n",
       "        text-align: right;\n",
       "    }\n",
       "</style>\n",
       "<table border=\"1\" class=\"dataframe\">\n",
       "  <thead>\n",
       "    <tr style=\"text-align: right;\">\n",
       "      <th></th>\n",
       "      <th>Codigo_Cliente</th>\n",
       "      <th>DESCRI_PRODUCTO</th>\n",
       "      <th>Moneda</th>\n",
       "      <th>Anio</th>\n",
       "      <th>Mes</th>\n",
       "      <th>Cantidad</th>\n",
       "      <th>Valor_Total_RD</th>\n",
       "      <th>Comercios_Replace</th>\n",
       "      <th>Categoria_Nueva</th>\n",
       "      <th>CODIGO_CATEGORIA_NUEVO</th>\n",
       "    </tr>\n",
       "  </thead>\n",
       "  <tbody>\n",
       "    <tr>\n",
       "      <th>0</th>\n",
       "      <td>230582</td>\n",
       "      <td>VISA CLASICA</td>\n",
       "      <td>USD</td>\n",
       "      <td>2018</td>\n",
       "      <td>5</td>\n",
       "      <td>1</td>\n",
       "      <td>3999.5</td>\n",
       "      <td>Abaenglish</td>\n",
       "      <td>Colegios Y Servicios Educaci</td>\n",
       "      <td>8299</td>\n",
       "    </tr>\n",
       "    <tr>\n",
       "      <th>1</th>\n",
       "      <td>326182</td>\n",
       "      <td>VISA ORO</td>\n",
       "      <td>USD</td>\n",
       "      <td>2018</td>\n",
       "      <td>3</td>\n",
       "      <td>1</td>\n",
       "      <td>3999.5</td>\n",
       "      <td>Abaenglish</td>\n",
       "      <td>Colegios Y Servicios Educaci</td>\n",
       "      <td>8299</td>\n",
       "    </tr>\n",
       "    <tr>\n",
       "      <th>2</th>\n",
       "      <td>126595</td>\n",
       "      <td>VISA CLASICA</td>\n",
       "      <td>USD</td>\n",
       "      <td>2018</td>\n",
       "      <td>9</td>\n",
       "      <td>1</td>\n",
       "      <td>749.5</td>\n",
       "      <td>Abaenglish</td>\n",
       "      <td>Colegios Y Servicios Educaci</td>\n",
       "      <td>8299</td>\n",
       "    </tr>\n",
       "    <tr>\n",
       "      <th>3</th>\n",
       "      <td>350836</td>\n",
       "      <td>VISA CLASICA</td>\n",
       "      <td>USD</td>\n",
       "      <td>2018</td>\n",
       "      <td>6</td>\n",
       "      <td>2</td>\n",
       "      <td>3000.0</td>\n",
       "      <td>Crehana</td>\n",
       "      <td>Colegios Y Servicios Educaci</td>\n",
       "      <td>8299</td>\n",
       "    </tr>\n",
       "    <tr>\n",
       "      <th>4</th>\n",
       "      <td>182727</td>\n",
       "      <td>VISA ORO</td>\n",
       "      <td>USD</td>\n",
       "      <td>2018</td>\n",
       "      <td>11</td>\n",
       "      <td>1</td>\n",
       "      <td>808.5</td>\n",
       "      <td>Crehana</td>\n",
       "      <td>Colegios Y Servicios Educaci</td>\n",
       "      <td>8299</td>\n",
       "    </tr>\n",
       "  </tbody>\n",
       "</table>\n",
       "</div>"
      ],
      "text/plain": [
       "   Codigo_Cliente DESCRI_PRODUCTO Moneda  Anio  Mes  Cantidad  Valor_Total_RD  \\\n",
       "0          230582    VISA CLASICA    USD  2018    5         1          3999.5   \n",
       "1          326182        VISA ORO    USD  2018    3         1          3999.5   \n",
       "2          126595    VISA CLASICA    USD  2018    9         1           749.5   \n",
       "3          350836    VISA CLASICA    USD  2018    6         2          3000.0   \n",
       "4          182727        VISA ORO    USD  2018   11         1           808.5   \n",
       "\n",
       "  Comercios_Replace               Categoria_Nueva  CODIGO_CATEGORIA_NUEVO  \n",
       "0        Abaenglish  Colegios Y Servicios Educaci                    8299  \n",
       "1        Abaenglish  Colegios Y Servicios Educaci                    8299  \n",
       "2        Abaenglish  Colegios Y Servicios Educaci                    8299  \n",
       "3           Crehana  Colegios Y Servicios Educaci                    8299  \n",
       "4           Crehana  Colegios Y Servicios Educaci                    8299  "
      ]
     },
     "execution_count": 2,
     "metadata": {},
     "output_type": "execute_result"
    }
   ],
   "source": [
    "transacciones =  pd.read_csv(\"data/Transacciones_TC_Pre_Categoria_Sample.zip\",compression='zip')\n",
    "                                    \n",
    "transacciones.head()"
   ]
  },
  {
   "cell_type": "markdown",
   "metadata": {
    "slideshow": {
     "slide_type": "slide"
    }
   },
   "source": [
    "# Preparación de Categorias"
   ]
  },
  {
   "cell_type": "markdown",
   "metadata": {
    "slideshow": {
     "slide_type": "subslide"
    }
   },
   "source": [
    "Lo primero que hicimos fue consolidar las categorias de comercios de transacciones de Tarjetas. Esto es debido a que existen más de 300 categorias, las cuales pueden ser agrupadas por sus similitudes."
   ]
  },
  {
   "cell_type": "markdown",
   "metadata": {
    "slideshow": {
     "slide_type": "fragment"
    }
   },
   "source": [
    "Vamos primero a visualizar las categorias y sus comercios utilizando una tabla interactiva. Puede filtrar y buscar en esta tabla para explorar los datos."
   ]
  },
  {
   "cell_type": "code",
   "execution_count": 3,
   "metadata": {
    "slideshow": {
     "slide_type": "skip"
    }
   },
   "outputs": [],
   "source": [
    "transacciones_productos_categoria = (transacciones.groupby([\"CODIGO_CATEGORIA_NUEVO\",\"Categoria_Nueva\",\"Comercios_Replace\"])\n",
    "                                                  [['Cantidad','Valor_Total_RD']]\n",
    "                                                  .sum()\n",
    "                                                  .reset_index()\n",
    "                                                  .sort_values(['Cantidad','Valor_Total_RD'],ascending=[False,False]))\n",
    "productos_categoria_widget = qgrid.show_grid(transacciones_productos_categoria)"
   ]
  },
  {
   "cell_type": "code",
   "execution_count": 4,
   "metadata": {
    "slideshow": {
     "slide_type": "subslide"
    }
   },
   "outputs": [
    {
     "data": {
      "application/vnd.jupyter.widget-view+json": {
       "model_id": "d6b3f4934b374d67bd161a8f167c74c7",
       "version_major": 2,
       "version_minor": 0
      },
      "text/plain": [
       "QgridWidget(grid_options={'fullWidthRows': True, 'syncColumnCellResize': True, 'forceFitColumns': True, 'defau…"
      ]
     },
     "metadata": {},
     "output_type": "display_data"
    }
   ],
   "source": [
    "productos_categoria_widget"
   ]
  },
  {
   "cell_type": "markdown",
   "metadata": {
    "slideshow": {
     "slide_type": "subslide"
    }
   },
   "source": [
    "Se pueden observar las categorias que facturan más tanto en cantidad como en montos, y sus comercios más populares. Sin embargo, analizar este inmenso numero de categorias no es muy sencillo. Afortunadamente, las categorias pueden ser agrupadas, por ejemplo, todas las relacionadas a lineas aereas y viajes en una sola categoria. Para ayudarnos, los primeros digitos de un codigo de categoria usualmente representan una categoria en comun. "
   ]
  },
  {
   "cell_type": "markdown",
   "metadata": {
    "slideshow": {
     "slide_type": "fragment"
    }
   },
   "source": [
    "Vamos a explorar estos codigos para crear una tabla de reemplazos. "
   ]
  },
  {
   "cell_type": "code",
   "execution_count": 5,
   "metadata": {
    "slideshow": {
     "slide_type": "skip"
    }
   },
   "outputs": [
    {
     "data": {
      "text/html": [
       "<div>\n",
       "<style scoped>\n",
       "    .dataframe tbody tr th:only-of-type {\n",
       "        vertical-align: middle;\n",
       "    }\n",
       "\n",
       "    .dataframe tbody tr th {\n",
       "        vertical-align: top;\n",
       "    }\n",
       "\n",
       "    .dataframe thead th {\n",
       "        text-align: right;\n",
       "    }\n",
       "</style>\n",
       "<table border=\"1\" class=\"dataframe\">\n",
       "  <thead>\n",
       "    <tr style=\"text-align: right;\">\n",
       "      <th></th>\n",
       "      <th>CODIGO_CATEGORIA_NUEVO</th>\n",
       "      <th>Categoria_Nueva</th>\n",
       "    </tr>\n",
       "  </thead>\n",
       "  <tbody>\n",
       "    <tr>\n",
       "      <th>407662</th>\n",
       "      <td>0</td>\n",
       "      <td>Ath</td>\n",
       "    </tr>\n",
       "    <tr>\n",
       "      <th>1827461</th>\n",
       "      <td>742</td>\n",
       "      <td>Veterinarias</td>\n",
       "    </tr>\n",
       "    <tr>\n",
       "      <th>1911814</th>\n",
       "      <td>763</td>\n",
       "      <td>Ventas Productos Agricolas</td>\n",
       "    </tr>\n",
       "    <tr>\n",
       "      <th>1970698</th>\n",
       "      <td>780</td>\n",
       "      <td>Ladscaping And Horticultural Servises</td>\n",
       "    </tr>\n",
       "    <tr>\n",
       "      <th>1970583</th>\n",
       "      <td>1520</td>\n",
       "      <td>General Contractors Resid And Comercial</td>\n",
       "    </tr>\n",
       "  </tbody>\n",
       "</table>\n",
       "</div>"
      ],
      "text/plain": [
       "        CODIGO_CATEGORIA_NUEVO                          Categoria_Nueva\n",
       "407662                       0                                      Ath\n",
       "1827461                    742                             Veterinarias\n",
       "1911814                    763               Ventas Productos Agricolas\n",
       "1970698                    780    Ladscaping And Horticultural Servises\n",
       "1970583                   1520  General Contractors Resid And Comercial"
      ]
     },
     "execution_count": 5,
     "metadata": {},
     "output_type": "execute_result"
    }
   ],
   "source": [
    "categorias = transacciones[['CODIGO_CATEGORIA_NUEVO','Categoria_Nueva']].drop_duplicates()\n",
    "categorias = categorias.sort_values(by='CODIGO_CATEGORIA_NUEVO')\n",
    "categorias.CODIGO_CATEGORIA_NUEVO = categorias.CODIGO_CATEGORIA_NUEVO.astype(str)\n",
    "categorias.head()"
   ]
  },
  {
   "cell_type": "code",
   "execution_count": 6,
   "metadata": {
    "slideshow": {
     "slide_type": "skip"
    }
   },
   "outputs": [
    {
     "data": {
      "text/html": [
       "<div>\n",
       "<style scoped>\n",
       "    .dataframe tbody tr th:only-of-type {\n",
       "        vertical-align: middle;\n",
       "    }\n",
       "\n",
       "    .dataframe tbody tr th {\n",
       "        vertical-align: top;\n",
       "    }\n",
       "\n",
       "    .dataframe thead th {\n",
       "        text-align: right;\n",
       "    }\n",
       "</style>\n",
       "<table border=\"1\" class=\"dataframe\">\n",
       "  <thead>\n",
       "    <tr style=\"text-align: right;\">\n",
       "      <th></th>\n",
       "      <th>CODIGO_CATEGORIA_NUEVO</th>\n",
       "      <th>Categoria_Nueva</th>\n",
       "      <th>head_codigo</th>\n",
       "      <th>index_codigo</th>\n",
       "    </tr>\n",
       "  </thead>\n",
       "  <tbody>\n",
       "    <tr>\n",
       "      <th>407662</th>\n",
       "      <td>0000</td>\n",
       "      <td>Ath</td>\n",
       "      <td>00</td>\n",
       "      <td>0</td>\n",
       "    </tr>\n",
       "    <tr>\n",
       "      <th>1827461</th>\n",
       "      <td>0742</td>\n",
       "      <td>Veterinarias</td>\n",
       "      <td>07</td>\n",
       "      <td>0</td>\n",
       "    </tr>\n",
       "    <tr>\n",
       "      <th>1911814</th>\n",
       "      <td>0763</td>\n",
       "      <td>Ventas Productos Agricolas</td>\n",
       "      <td>07</td>\n",
       "      <td>0</td>\n",
       "    </tr>\n",
       "    <tr>\n",
       "      <th>1970698</th>\n",
       "      <td>0780</td>\n",
       "      <td>Ladscaping And Horticultural Servises</td>\n",
       "      <td>07</td>\n",
       "      <td>0</td>\n",
       "    </tr>\n",
       "    <tr>\n",
       "      <th>1970583</th>\n",
       "      <td>1520</td>\n",
       "      <td>General Contractors Resid And Comercial</td>\n",
       "      <td>15</td>\n",
       "      <td>1</td>\n",
       "    </tr>\n",
       "  </tbody>\n",
       "</table>\n",
       "</div>"
      ],
      "text/plain": [
       "        CODIGO_CATEGORIA_NUEVO                          Categoria_Nueva  \\\n",
       "407662                    0000                                      Ath   \n",
       "1827461                   0742                             Veterinarias   \n",
       "1911814                   0763               Ventas Productos Agricolas   \n",
       "1970698                   0780    Ladscaping And Horticultural Servises   \n",
       "1970583                   1520  General Contractors Resid And Comercial   \n",
       "\n",
       "        head_codigo index_codigo  \n",
       "407662           00            0  \n",
       "1827461          07            0  \n",
       "1911814          07            0  \n",
       "1970698          07            0  \n",
       "1970583          15            1  "
      ]
     },
     "execution_count": 6,
     "metadata": {},
     "output_type": "execute_result"
    }
   ],
   "source": [
    "categorias['CODIGO_CATEGORIA_NUEVO'] = categorias['CODIGO_CATEGORIA_NUEVO'].str.pad(4,'left','0')\n",
    "categorias['head_codigo'] = categorias.CODIGO_CATEGORIA_NUEVO.apply(lambda x: x[:2])\n",
    "categorias['index_codigo'] = categorias.CODIGO_CATEGORIA_NUEVO.apply(lambda x: x[0])\n",
    "qgrid_categorias = qgrid.show_grid(categorias)\n",
    "categorias.head()"
   ]
  },
  {
   "cell_type": "code",
   "execution_count": 7,
   "metadata": {
    "slideshow": {
     "slide_type": "subslide"
    }
   },
   "outputs": [
    {
     "data": {
      "application/vnd.jupyter.widget-view+json": {
       "model_id": "58e5b7d904124ec9bc32f4d0ba4fc4df",
       "version_major": 2,
       "version_minor": 0
      },
      "text/plain": [
       "QgridWidget(grid_options={'fullWidthRows': True, 'syncColumnCellResize': True, 'forceFitColumns': True, 'defau…"
      ]
     },
     "metadata": {},
     "output_type": "display_data"
    }
   ],
   "source": [
    "qgrid_categorias"
   ]
  },
  {
   "cell_type": "markdown",
   "metadata": {
    "slideshow": {
     "slide_type": "subslide"
    }
   },
   "source": [
    "Segun estos codigos, creamos una tabla para agrupar las categorias de comercios segun los dos primeros digitos de la categoria."
   ]
  },
  {
   "cell_type": "code",
   "execution_count": 8,
   "metadata": {
    "slideshow": {
     "slide_type": "skip"
    }
   },
   "outputs": [],
   "source": [
    "head_codigo_replacement_dict = {\n",
    "    '07': 'Servicios Agropecuarios',\n",
    "    '00': 'Ath',\n",
    "    '15': 'Servicios de Construccion y Decoracion',\n",
    "    '17': 'Servicios de Construccion y Decoracion',\n",
    "    '27': 'Servicios de Textiles e Imprenta',\n",
    "    '28': 'Servicios de Textiles e Imprenta',\n",
    "    '30': 'Servicios de Transporte y Viajes',\n",
    "    '31': 'Servicios de Transporte y Viajes',\n",
    "    '32': 'Servicios de Transporte y Viajes',\n",
    "    '33': 'Alquiler de Automoviles',\n",
    "    '34': 'Alquiler de Automoviles',\n",
    "    '35': 'Hoteles Moteles Resorts',\n",
    "    '36': 'Hoteles Moteles Resorts',\n",
    "    '37': 'Hoteles Moteles Resorts',\n",
    "    '40': 'Servicios de Transporte y Viajes',\n",
    "    '41': 'Servicios de Transporte y Viajes',\n",
    "    '42': 'Servicios de Transporte y Viajes',\n",
    "    '44': 'Servicios de Transporte y Viajes',\n",
    "    '45': 'Servicios de Transporte y Viajes',\n",
    "    '47': 'Servicios de Transporte y Viajes',\n",
    "    '48': 'Servicios de Comunicacion, Internet y Telecable',\n",
    "    '49': 'Ventas y Servicios de Equipos Electricos',\n",
    "    '50': 'Ventas y Servicios de Equipos Electricos',\n",
    "    '51': 'Articulos de Oficina',\n",
    "    '52': 'Ferreterias y Hogar',\n",
    "    '53':  'Ropas',\n",
    "    '54': 'Supermercados y Alimentos',\n",
    "    '55': 'Gasolineras y Vehiculos',\n",
    "    '56': 'Ropas',\n",
    "    '57': 'Ferreterias y Hogar',\n",
    "    '59': 'Tienda De Venta Especializada',\n",
    "    '60': 'Instituciones Financieras y Aseguradoras',\n",
    "    '62': 'Instituciones Financieras y Aseguradoras',\n",
    "    '63': 'Instituciones Financieras y Aseguradoras',\n",
    "    '65': 'Instituciones Financieras y Aseguradoras',\n",
    "    '70': 'Hoteles Moteles Resorts',\n",
    "    '72': 'Servicios de Salud, Belleza y Recreacion',\n",
    "    '73': 'Otros Servicios',\n",
    "    '75' : 'Gasolineras y Vehiculos',\n",
    "    '76' : 'Ventas y Servicios de Equipos Electricos',\n",
    "    '78': 'Cine y Peliculas',\n",
    "    '79': 'Servicios de Salud, Belleza y Recreacion',\n",
    "    '80': 'Servicios de Salud, Belleza y Recreacion',\n",
    "    '81': 'Otros Servicios',\n",
    "     '82': 'Servicios Educativos',\n",
    "    '83': 'Otros Servicios',\n",
    "    '86': 'Otros Servicios',\n",
    "    '87' : 'Servicios de Salud, Belleza y Recreacion',\n",
    "    '89': 'Otros Servicios',\n",
    "    '92': 'Servicios Gubernamentales',\n",
    "    '93': 'Servicios Gubernamentales',\n",
    "    '94': 'Servicios Gubernamentales'\n",
    "}\n",
    "\n",
    "codigo_replacement_dict = {\n",
    "    '5814':'Comida Rapida',\n",
    "    '5812': 'Restaurantes',\n",
    "    '5811': 'Licores',\n",
    "    '5813': 'Vida Nocturna',\n",
    "    '5734': 'Tecnologia y Software',\n",
    "    '5732': 'Musica',\n",
    "    '5733': 'Musica',\n",
    "    '5735' : 'Musica',\n",
    "    '5921':  'Licores',\n",
    "    '7299' : 'Servicio Personales (Deliveries, etc.)',\n",
    "    '5912': 'Servicios de Salud, Belleza y Recreacion'\n",
    "}\n",
    "\n",
    "head_codigo_df = pd.DataFrame({\"head_codigo\":list(head_codigo_replacement_dict.keys()),\n",
    "                               \"Agrupacion\": list(head_codigo_replacement_dict.values())})\n",
    "head_codigo_df_merge = head_codigo_df.merge(categorias)\n",
    "for codigo,repl in codigo_replacement_dict.items():\n",
    "    head_codigo_df_merge.loc[head_codigo_df_merge.CODIGO_CATEGORIA_NUEVO == codigo, 'Agrupacion'] = repl\n",
    "head_codigo_df_qgrid = qgrid.show_grid(head_codigo_df_merge)"
   ]
  },
  {
   "cell_type": "code",
   "execution_count": 9,
   "metadata": {
    "slideshow": {
     "slide_type": "subslide"
    }
   },
   "outputs": [
    {
     "data": {
      "application/vnd.jupyter.widget-view+json": {
       "model_id": "9b2408cb2fd44cc0b177aa6a8cd51f69",
       "version_major": 2,
       "version_minor": 0
      },
      "text/plain": [
       "QgridWidget(grid_options={'fullWidthRows': True, 'syncColumnCellResize': True, 'forceFitColumns': True, 'defau…"
      ]
     },
     "metadata": {},
     "output_type": "display_data"
    }
   ],
   "source": [
    "head_codigo_df_qgrid "
   ]
  },
  {
   "cell_type": "code",
   "execution_count": 10,
   "metadata": {
    "slideshow": {
     "slide_type": "skip"
    }
   },
   "outputs": [
    {
     "data": {
      "text/html": [
       "<div>\n",
       "<style scoped>\n",
       "    .dataframe tbody tr th:only-of-type {\n",
       "        vertical-align: middle;\n",
       "    }\n",
       "\n",
       "    .dataframe tbody tr th {\n",
       "        vertical-align: top;\n",
       "    }\n",
       "\n",
       "    .dataframe thead th {\n",
       "        text-align: right;\n",
       "    }\n",
       "</style>\n",
       "<table border=\"1\" class=\"dataframe\">\n",
       "  <thead>\n",
       "    <tr style=\"text-align: right;\">\n",
       "      <th></th>\n",
       "      <th>CODIGO_CATEGORIA_NUEVO</th>\n",
       "      <th>Categoria_Nueva</th>\n",
       "      <th>head_codigo</th>\n",
       "      <th>index_codigo</th>\n",
       "      <th>Categoria_Agrupada</th>\n",
       "    </tr>\n",
       "  </thead>\n",
       "  <tbody>\n",
       "    <tr>\n",
       "      <th>407662</th>\n",
       "      <td>0000</td>\n",
       "      <td>Ath</td>\n",
       "      <td>00</td>\n",
       "      <td>0</td>\n",
       "      <td>Ath</td>\n",
       "    </tr>\n",
       "    <tr>\n",
       "      <th>1827461</th>\n",
       "      <td>0742</td>\n",
       "      <td>Veterinarias</td>\n",
       "      <td>07</td>\n",
       "      <td>0</td>\n",
       "      <td>Servicios Agropecuarios</td>\n",
       "    </tr>\n",
       "    <tr>\n",
       "      <th>1911814</th>\n",
       "      <td>0763</td>\n",
       "      <td>Ventas Productos Agricolas</td>\n",
       "      <td>07</td>\n",
       "      <td>0</td>\n",
       "      <td>Servicios Agropecuarios</td>\n",
       "    </tr>\n",
       "    <tr>\n",
       "      <th>1970698</th>\n",
       "      <td>0780</td>\n",
       "      <td>Ladscaping And Horticultural Servises</td>\n",
       "      <td>07</td>\n",
       "      <td>0</td>\n",
       "      <td>Servicios Agropecuarios</td>\n",
       "    </tr>\n",
       "    <tr>\n",
       "      <th>1970583</th>\n",
       "      <td>1520</td>\n",
       "      <td>General Contractors Resid And Comercial</td>\n",
       "      <td>15</td>\n",
       "      <td>1</td>\n",
       "      <td>Servicios de Construccion y Decoracion</td>\n",
       "    </tr>\n",
       "  </tbody>\n",
       "</table>\n",
       "</div>"
      ],
      "text/plain": [
       "        CODIGO_CATEGORIA_NUEVO                          Categoria_Nueva  \\\n",
       "407662                    0000                                      Ath   \n",
       "1827461                   0742                             Veterinarias   \n",
       "1911814                   0763               Ventas Productos Agricolas   \n",
       "1970698                   0780    Ladscaping And Horticultural Servises   \n",
       "1970583                   1520  General Contractors Resid And Comercial   \n",
       "\n",
       "        head_codigo index_codigo                      Categoria_Agrupada  \n",
       "407662           00            0                                     Ath  \n",
       "1827461          07            0                 Servicios Agropecuarios  \n",
       "1911814          07            0                 Servicios Agropecuarios  \n",
       "1970698          07            0                 Servicios Agropecuarios  \n",
       "1970583          15            1  Servicios de Construccion y Decoracion  "
      ]
     },
     "execution_count": 10,
     "metadata": {},
     "output_type": "execute_result"
    }
   ],
   "source": [
    "categorias['Categoria_Agrupada'] = categorias.head_codigo.replace(head_codigo_replacement_dict)\n",
    "for codigo,repl in codigo_replacement_dict.items():\n",
    "    categorias.loc[categorias.CODIGO_CATEGORIA_NUEVO == codigo, 'Categoria_Agrupada'] = repl\n",
    "categorias.head()"
   ]
  },
  {
   "cell_type": "code",
   "execution_count": 11,
   "metadata": {
    "slideshow": {
     "slide_type": "skip"
    }
   },
   "outputs": [
    {
     "data": {
      "text/html": [
       "<div>\n",
       "<style scoped>\n",
       "    .dataframe tbody tr th:only-of-type {\n",
       "        vertical-align: middle;\n",
       "    }\n",
       "\n",
       "    .dataframe tbody tr th {\n",
       "        vertical-align: top;\n",
       "    }\n",
       "\n",
       "    .dataframe thead th {\n",
       "        text-align: right;\n",
       "    }\n",
       "</style>\n",
       "<table border=\"1\" class=\"dataframe\">\n",
       "  <thead>\n",
       "    <tr style=\"text-align: right;\">\n",
       "      <th></th>\n",
       "      <th>CODIGO_CATEGORIA_NUEVO</th>\n",
       "      <th>Categoria_Nueva</th>\n",
       "      <th>head_codigo</th>\n",
       "      <th>index_codigo</th>\n",
       "      <th>Categoria_Agrupada</th>\n",
       "    </tr>\n",
       "  </thead>\n",
       "  <tbody>\n",
       "    <tr>\n",
       "      <th>407662</th>\n",
       "      <td>0</td>\n",
       "      <td>Ath</td>\n",
       "      <td>00</td>\n",
       "      <td>0</td>\n",
       "      <td>Ath</td>\n",
       "    </tr>\n",
       "    <tr>\n",
       "      <th>1827461</th>\n",
       "      <td>742</td>\n",
       "      <td>Veterinarias</td>\n",
       "      <td>07</td>\n",
       "      <td>0</td>\n",
       "      <td>Servicios Agropecuarios</td>\n",
       "    </tr>\n",
       "    <tr>\n",
       "      <th>1911814</th>\n",
       "      <td>763</td>\n",
       "      <td>Ventas Productos Agricolas</td>\n",
       "      <td>07</td>\n",
       "      <td>0</td>\n",
       "      <td>Servicios Agropecuarios</td>\n",
       "    </tr>\n",
       "    <tr>\n",
       "      <th>1970698</th>\n",
       "      <td>780</td>\n",
       "      <td>Ladscaping And Horticultural Servises</td>\n",
       "      <td>07</td>\n",
       "      <td>0</td>\n",
       "      <td>Servicios Agropecuarios</td>\n",
       "    </tr>\n",
       "    <tr>\n",
       "      <th>1970583</th>\n",
       "      <td>1520</td>\n",
       "      <td>General Contractors Resid And Comercial</td>\n",
       "      <td>15</td>\n",
       "      <td>1</td>\n",
       "      <td>Servicios de Construccion y Decoracion</td>\n",
       "    </tr>\n",
       "  </tbody>\n",
       "</table>\n",
       "</div>"
      ],
      "text/plain": [
       "         CODIGO_CATEGORIA_NUEVO                          Categoria_Nueva  \\\n",
       "407662                        0                                      Ath   \n",
       "1827461                     742                             Veterinarias   \n",
       "1911814                     763               Ventas Productos Agricolas   \n",
       "1970698                     780    Ladscaping And Horticultural Servises   \n",
       "1970583                    1520  General Contractors Resid And Comercial   \n",
       "\n",
       "        head_codigo index_codigo                      Categoria_Agrupada  \n",
       "407662           00            0                                     Ath  \n",
       "1827461          07            0                 Servicios Agropecuarios  \n",
       "1911814          07            0                 Servicios Agropecuarios  \n",
       "1970698          07            0                 Servicios Agropecuarios  \n",
       "1970583          15            1  Servicios de Construccion y Decoracion  "
      ]
     },
     "execution_count": 11,
     "metadata": {},
     "output_type": "execute_result"
    }
   ],
   "source": [
    "categorias['CODIGO_CATEGORIA_NUEVO'] = categorias['CODIGO_CATEGORIA_NUEVO'].astype(int)\n",
    "categorias.head()"
   ]
  },
  {
   "cell_type": "code",
   "execution_count": 12,
   "metadata": {
    "slideshow": {
     "slide_type": "skip"
    }
   },
   "outputs": [],
   "source": [
    "transacciones = transacciones.merge(categorias[['CODIGO_CATEGORIA_NUEVO','Categoria_Agrupada']])\n",
    "transacciones = transacciones[['Codigo_Cliente','DESCRI_PRODUCTO','Anio','Mes','Cantidad','Valor_Total_RD',\n",
    "                              'Comercios_Replace','Categoria_Nueva','Categoria_Agrupada']]"
   ]
  },
  {
   "cell_type": "markdown",
   "metadata": {
    "slideshow": {
     "slide_type": "subslide"
    }
   },
   "source": [
    "Con esto, agregamos una nueva agrupación a las transacciones, con la cual haremos el análisis."
   ]
  },
  {
   "cell_type": "code",
   "execution_count": 13,
   "metadata": {
    "slideshow": {
     "slide_type": "fragment"
    }
   },
   "outputs": [
    {
     "data": {
      "text/html": [
       "<div>\n",
       "<style scoped>\n",
       "    .dataframe tbody tr th:only-of-type {\n",
       "        vertical-align: middle;\n",
       "    }\n",
       "\n",
       "    .dataframe tbody tr th {\n",
       "        vertical-align: top;\n",
       "    }\n",
       "\n",
       "    .dataframe thead th {\n",
       "        text-align: right;\n",
       "    }\n",
       "</style>\n",
       "<table border=\"1\" class=\"dataframe\">\n",
       "  <thead>\n",
       "    <tr style=\"text-align: right;\">\n",
       "      <th></th>\n",
       "      <th>Codigo_Cliente</th>\n",
       "      <th>DESCRI_PRODUCTO</th>\n",
       "      <th>Anio</th>\n",
       "      <th>Mes</th>\n",
       "      <th>Cantidad</th>\n",
       "      <th>Valor_Total_RD</th>\n",
       "      <th>Comercios_Replace</th>\n",
       "      <th>Categoria_Nueva</th>\n",
       "      <th>Categoria_Agrupada</th>\n",
       "    </tr>\n",
       "  </thead>\n",
       "  <tbody>\n",
       "    <tr>\n",
       "      <th>0</th>\n",
       "      <td>230582</td>\n",
       "      <td>VISA CLASICA</td>\n",
       "      <td>2018</td>\n",
       "      <td>5</td>\n",
       "      <td>1</td>\n",
       "      <td>3999.5</td>\n",
       "      <td>Abaenglish</td>\n",
       "      <td>Colegios Y Servicios Educaci</td>\n",
       "      <td>Servicios Educativos</td>\n",
       "    </tr>\n",
       "    <tr>\n",
       "      <th>1</th>\n",
       "      <td>326182</td>\n",
       "      <td>VISA ORO</td>\n",
       "      <td>2018</td>\n",
       "      <td>3</td>\n",
       "      <td>1</td>\n",
       "      <td>3999.5</td>\n",
       "      <td>Abaenglish</td>\n",
       "      <td>Colegios Y Servicios Educaci</td>\n",
       "      <td>Servicios Educativos</td>\n",
       "    </tr>\n",
       "    <tr>\n",
       "      <th>2</th>\n",
       "      <td>126595</td>\n",
       "      <td>VISA CLASICA</td>\n",
       "      <td>2018</td>\n",
       "      <td>9</td>\n",
       "      <td>1</td>\n",
       "      <td>749.5</td>\n",
       "      <td>Abaenglish</td>\n",
       "      <td>Colegios Y Servicios Educaci</td>\n",
       "      <td>Servicios Educativos</td>\n",
       "    </tr>\n",
       "    <tr>\n",
       "      <th>3</th>\n",
       "      <td>350836</td>\n",
       "      <td>VISA CLASICA</td>\n",
       "      <td>2018</td>\n",
       "      <td>6</td>\n",
       "      <td>2</td>\n",
       "      <td>3000.0</td>\n",
       "      <td>Crehana</td>\n",
       "      <td>Colegios Y Servicios Educaci</td>\n",
       "      <td>Servicios Educativos</td>\n",
       "    </tr>\n",
       "    <tr>\n",
       "      <th>4</th>\n",
       "      <td>182727</td>\n",
       "      <td>VISA ORO</td>\n",
       "      <td>2018</td>\n",
       "      <td>11</td>\n",
       "      <td>1</td>\n",
       "      <td>808.5</td>\n",
       "      <td>Crehana</td>\n",
       "      <td>Colegios Y Servicios Educaci</td>\n",
       "      <td>Servicios Educativos</td>\n",
       "    </tr>\n",
       "  </tbody>\n",
       "</table>\n",
       "</div>"
      ],
      "text/plain": [
       "   Codigo_Cliente DESCRI_PRODUCTO  Anio  Mes  Cantidad  Valor_Total_RD  \\\n",
       "0          230582    VISA CLASICA  2018    5         1          3999.5   \n",
       "1          326182        VISA ORO  2018    3         1          3999.5   \n",
       "2          126595    VISA CLASICA  2018    9         1           749.5   \n",
       "3          350836    VISA CLASICA  2018    6         2          3000.0   \n",
       "4          182727        VISA ORO  2018   11         1           808.5   \n",
       "\n",
       "  Comercios_Replace               Categoria_Nueva    Categoria_Agrupada  \n",
       "0        Abaenglish  Colegios Y Servicios Educaci  Servicios Educativos  \n",
       "1        Abaenglish  Colegios Y Servicios Educaci  Servicios Educativos  \n",
       "2        Abaenglish  Colegios Y Servicios Educaci  Servicios Educativos  \n",
       "3           Crehana  Colegios Y Servicios Educaci  Servicios Educativos  \n",
       "4           Crehana  Colegios Y Servicios Educaci  Servicios Educativos  "
      ]
     },
     "execution_count": 13,
     "metadata": {},
     "output_type": "execute_result"
    }
   ],
   "source": [
    "transacciones.head()"
   ]
  },
  {
   "cell_type": "code",
   "execution_count": 14,
   "metadata": {
    "slideshow": {
     "slide_type": "skip"
    }
   },
   "outputs": [],
   "source": [
    "transacciones = transacciones.loc[transacciones.Categoria_Agrupada != \"Ath\"]\n",
    "transacciones.Categoria_Agrupada = transacciones.Categoria_Agrupada.str.replace(\"Alquier|Alquiter|Alquilter\",\"Alquiler\")"
   ]
  },
  {
   "cell_type": "markdown",
   "metadata": {
    "slideshow": {
     "slide_type": "slide"
    }
   },
   "source": [
    "# Preparación de Datos"
   ]
  },
  {
   "cell_type": "markdown",
   "metadata": {
    "slideshow": {
     "slide_type": "subslide"
    }
   },
   "source": [
    "#### Fecha"
   ]
  },
  {
   "cell_type": "markdown",
   "metadata": {
    "slideshow": {
     "slide_type": "fragment"
    }
   },
   "source": [
    "Ya que las transacciones no incluyen la fecha, sino que estan resumidas por mes, agruparemos todas las transacciones al primer dia de cada mes, y crearemos una fecha con ellas."
   ]
  },
  {
   "cell_type": "code",
   "execution_count": 15,
   "metadata": {
    "slideshow": {
     "slide_type": "subslide"
    }
   },
   "outputs": [
    {
     "data": {
      "text/plain": [
       "0   2018-05-01\n",
       "1   2018-03-01\n",
       "2   2018-09-01\n",
       "3   2018-06-01\n",
       "4   2018-11-01\n",
       "Name: Fecha, dtype: datetime64[ns]"
      ]
     },
     "execution_count": 15,
     "metadata": {},
     "output_type": "execute_result"
    }
   ],
   "source": [
    "transacciones[\"Fecha\"] = pd.to_datetime(transacciones.Anio.astype(str) + \"-\"\\\n",
    "                         + transacciones.Mes.astype(str).str.pad(2,\"left\",\"0\")\\\n",
    "                         + \"-01\")\n",
    "transacciones.Fecha.head()"
   ]
  },
  {
   "cell_type": "markdown",
   "metadata": {
    "slideshow": {
     "slide_type": "subslide"
    }
   },
   "source": [
    "#### Meses Anteriores "
   ]
  },
  {
   "cell_type": "markdown",
   "metadata": {
    "slideshow": {
     "slide_type": "fragment"
    }
   },
   "source": [
    "Para determinar la recencia de las transacciones, calculamos los meses anteriores a la fecha maxima de los datos, en este caso Diciembre 2018."
   ]
  },
  {
   "cell_type": "code",
   "execution_count": 16,
   "metadata": {
    "slideshow": {
     "slide_type": "skip"
    }
   },
   "outputs": [],
   "source": [
    "def month_diff_indiv(a, b):\n",
    "    return 12 * (a.year - b.dt.year) + (a.month - b.dt.month)\n",
    "transacciones[\"Meses_Anteriores\"] = month_diff_indiv(transacciones.Fecha.max(), transacciones.Fecha)"
   ]
  },
  {
   "cell_type": "code",
   "execution_count": 17,
   "metadata": {
    "slideshow": {
     "slide_type": "subslide"
    }
   },
   "outputs": [
    {
     "data": {
      "text/html": [
       "<div>\n",
       "<style scoped>\n",
       "    .dataframe tbody tr th:only-of-type {\n",
       "        vertical-align: middle;\n",
       "    }\n",
       "\n",
       "    .dataframe tbody tr th {\n",
       "        vertical-align: top;\n",
       "    }\n",
       "\n",
       "    .dataframe thead th {\n",
       "        text-align: right;\n",
       "    }\n",
       "</style>\n",
       "<table border=\"1\" class=\"dataframe\">\n",
       "  <thead>\n",
       "    <tr style=\"text-align: right;\">\n",
       "      <th></th>\n",
       "      <th>Fecha</th>\n",
       "      <th>Meses_Anteriores</th>\n",
       "    </tr>\n",
       "  </thead>\n",
       "  <tbody>\n",
       "    <tr>\n",
       "      <th>0</th>\n",
       "      <td>2018-05-01</td>\n",
       "      <td>7</td>\n",
       "    </tr>\n",
       "    <tr>\n",
       "      <th>1</th>\n",
       "      <td>2018-03-01</td>\n",
       "      <td>9</td>\n",
       "    </tr>\n",
       "    <tr>\n",
       "      <th>2</th>\n",
       "      <td>2018-09-01</td>\n",
       "      <td>3</td>\n",
       "    </tr>\n",
       "    <tr>\n",
       "      <th>3</th>\n",
       "      <td>2018-06-01</td>\n",
       "      <td>6</td>\n",
       "    </tr>\n",
       "    <tr>\n",
       "      <th>4</th>\n",
       "      <td>2018-11-01</td>\n",
       "      <td>1</td>\n",
       "    </tr>\n",
       "  </tbody>\n",
       "</table>\n",
       "</div>"
      ],
      "text/plain": [
       "       Fecha  Meses_Anteriores\n",
       "0 2018-05-01                 7\n",
       "1 2018-03-01                 9\n",
       "2 2018-09-01                 3\n",
       "3 2018-06-01                 6\n",
       "4 2018-11-01                 1"
      ]
     },
     "execution_count": 17,
     "metadata": {},
     "output_type": "execute_result"
    }
   ],
   "source": [
    "transacciones[['Fecha','Meses_Anteriores']].head()"
   ]
  },
  {
   "cell_type": "code",
   "execution_count": 18,
   "metadata": {
    "slideshow": {
     "slide_type": "skip"
    }
   },
   "outputs": [
    {
     "data": {
      "text/plain": [
       "(1981931, 11)"
      ]
     },
     "execution_count": 18,
     "metadata": {},
     "output_type": "execute_result"
    }
   ],
   "source": [
    "transacciones = transacciones.loc[transacciones.Meses_Anteriores <= 12]\n",
    "transacciones.shape"
   ]
  },
  {
   "cell_type": "markdown",
   "metadata": {
    "slideshow": {
     "slide_type": "subslide"
    }
   },
   "source": [
    "Por último, establecemos la configuración de las variables a analizar. Estas son:\n",
    "\n",
    "- Agrupaciones de Interes: Cliente, Producto, Categoria Agrupada de Comercio\n",
    "- Identificador: Cliente + Producto\n",
    "- Valores a Medir: Cantidad, Monto Total Transaccionado, Recencia de Transacciones.\n",
    "- Top N Comercios: Top 3 Comercios segun condiciones."
   ]
  },
  {
   "cell_type": "code",
   "execution_count": 19,
   "metadata": {
    "slideshow": {
     "slide_type": "skip"
    }
   },
   "outputs": [],
   "source": [
    "# CONFIG VARS\n",
    "# Nivel de Interes: Cliente. Puede ser cliente y producto. \n",
    "categoria_comercio_interes = ['DESCRI_PRODUCTO','Categoria_Agrupada']\n",
    "interes_group = ['Codigo_Cliente'] + categoria_comercio_interes\n",
    "identificador_group = ['Codigo_Cliente','DESCRI_PRODUCTO']\n",
    "valores_medida = ['Cantidad','Valor_Total_RD']\n",
    "top_n = 3"
   ]
  },
  {
   "cell_type": "markdown",
   "metadata": {
    "slideshow": {
     "slide_type": "slide"
    }
   },
   "source": [
    "# Metodos para Calcular Preferencias de Comercios"
   ]
  },
  {
   "cell_type": "markdown",
   "metadata": {
    "slideshow": {
     "slide_type": "subslide"
    }
   },
   "source": [
    "## Por Cantidad: Mientras más transacciones mejor"
   ]
  },
  {
   "cell_type": "code",
   "execution_count": 20,
   "metadata": {
    "slideshow": {
     "slide_type": "skip"
    }
   },
   "outputs": [
    {
     "data": {
      "text/html": [
       "<div>\n",
       "<style scoped>\n",
       "    .dataframe tbody tr th:only-of-type {\n",
       "        vertical-align: middle;\n",
       "    }\n",
       "\n",
       "    .dataframe tbody tr th {\n",
       "        vertical-align: top;\n",
       "    }\n",
       "\n",
       "    .dataframe thead th {\n",
       "        text-align: right;\n",
       "    }\n",
       "</style>\n",
       "<table border=\"1\" class=\"dataframe\">\n",
       "  <thead>\n",
       "    <tr style=\"text-align: right;\">\n",
       "      <th></th>\n",
       "      <th>Codigo_Cliente</th>\n",
       "      <th>DESCRI_PRODUCTO</th>\n",
       "      <th>Categoria_Agrupada</th>\n",
       "      <th>Cantidad</th>\n",
       "      <th>Valor_Total_RD</th>\n",
       "    </tr>\n",
       "  </thead>\n",
       "  <tbody>\n",
       "    <tr>\n",
       "      <th>0</th>\n",
       "      <td>1</td>\n",
       "      <td>VISA EMPRESARIAL</td>\n",
       "      <td>Comida Rapida</td>\n",
       "      <td>1</td>\n",
       "      <td>1179.99</td>\n",
       "    </tr>\n",
       "    <tr>\n",
       "      <th>1</th>\n",
       "      <td>1</td>\n",
       "      <td>VISA EMPRESARIAL</td>\n",
       "      <td>Ferreterias y Hogar</td>\n",
       "      <td>2</td>\n",
       "      <td>2114.62</td>\n",
       "    </tr>\n",
       "    <tr>\n",
       "      <th>2</th>\n",
       "      <td>1</td>\n",
       "      <td>VISA EMPRESARIAL</td>\n",
       "      <td>Gasolineras y Vehiculos</td>\n",
       "      <td>8</td>\n",
       "      <td>93185.54</td>\n",
       "    </tr>\n",
       "    <tr>\n",
       "      <th>3</th>\n",
       "      <td>1</td>\n",
       "      <td>VISA EMPRESARIAL</td>\n",
       "      <td>Hoteles Moteles Resorts</td>\n",
       "      <td>12</td>\n",
       "      <td>1079140.22</td>\n",
       "    </tr>\n",
       "    <tr>\n",
       "      <th>4</th>\n",
       "      <td>1</td>\n",
       "      <td>VISA EMPRESARIAL</td>\n",
       "      <td>Licores</td>\n",
       "      <td>8</td>\n",
       "      <td>199882.92</td>\n",
       "    </tr>\n",
       "    <tr>\n",
       "      <th>5</th>\n",
       "      <td>1</td>\n",
       "      <td>VISA EMPRESARIAL</td>\n",
       "      <td>Musica</td>\n",
       "      <td>2</td>\n",
       "      <td>19900.00</td>\n",
       "    </tr>\n",
       "    <tr>\n",
       "      <th>6</th>\n",
       "      <td>1</td>\n",
       "      <td>VISA EMPRESARIAL</td>\n",
       "      <td>Otros Servicios</td>\n",
       "      <td>64</td>\n",
       "      <td>1563185.57</td>\n",
       "    </tr>\n",
       "    <tr>\n",
       "      <th>7</th>\n",
       "      <td>1</td>\n",
       "      <td>VISA EMPRESARIAL</td>\n",
       "      <td>Restaurantes</td>\n",
       "      <td>17</td>\n",
       "      <td>181442.05</td>\n",
       "    </tr>\n",
       "    <tr>\n",
       "      <th>8</th>\n",
       "      <td>1</td>\n",
       "      <td>VISA EMPRESARIAL</td>\n",
       "      <td>Ropas</td>\n",
       "      <td>4</td>\n",
       "      <td>57871.96</td>\n",
       "    </tr>\n",
       "    <tr>\n",
       "      <th>9</th>\n",
       "      <td>1</td>\n",
       "      <td>VISA EMPRESARIAL</td>\n",
       "      <td>Servicios Agropecuarios</td>\n",
       "      <td>1</td>\n",
       "      <td>5900.00</td>\n",
       "    </tr>\n",
       "  </tbody>\n",
       "</table>\n",
       "</div>"
      ],
      "text/plain": [
       "   Codigo_Cliente   DESCRI_PRODUCTO       Categoria_Agrupada  Cantidad  \\\n",
       "0               1  VISA EMPRESARIAL            Comida Rapida         1   \n",
       "1               1  VISA EMPRESARIAL      Ferreterias y Hogar         2   \n",
       "2               1  VISA EMPRESARIAL  Gasolineras y Vehiculos         8   \n",
       "3               1  VISA EMPRESARIAL  Hoteles Moteles Resorts        12   \n",
       "4               1  VISA EMPRESARIAL                  Licores         8   \n",
       "5               1  VISA EMPRESARIAL                   Musica         2   \n",
       "6               1  VISA EMPRESARIAL          Otros Servicios        64   \n",
       "7               1  VISA EMPRESARIAL             Restaurantes        17   \n",
       "8               1  VISA EMPRESARIAL                    Ropas         4   \n",
       "9               1  VISA EMPRESARIAL  Servicios Agropecuarios         1   \n",
       "\n",
       "   Valor_Total_RD  \n",
       "0         1179.99  \n",
       "1         2114.62  \n",
       "2        93185.54  \n",
       "3      1079140.22  \n",
       "4       199882.92  \n",
       "5        19900.00  \n",
       "6      1563185.57  \n",
       "7       181442.05  \n",
       "8        57871.96  \n",
       "9         5900.00  "
      ]
     },
     "execution_count": 20,
     "metadata": {},
     "output_type": "execute_result"
    }
   ],
   "source": [
    "transacciones_agrupadas = transacciones.groupby(interes_group)[valores_medida].sum().reset_index()\n",
    "transacciones_agrupadas.head(10)"
   ]
  },
  {
   "cell_type": "code",
   "execution_count": 21,
   "metadata": {
    "slideshow": {
     "slide_type": "skip"
    }
   },
   "outputs": [],
   "source": [
    "def get_top_n_comercios_medida(transacciones_agrupadas, medida):\n",
    "    top_n_comercios_medida = transacciones_agrupadas.sort_values(medida,ascending=False)\\\n",
    "                                                  .groupby(identificador_group)\\\n",
    "                                                  .head(top_n)\\\n",
    "                                                  .sort_values(identificador_group)\n",
    "    return top_n_comercios_medida\n",
    "    "
   ]
  },
  {
   "cell_type": "code",
   "execution_count": 22,
   "metadata": {
    "slideshow": {
     "slide_type": "subslide"
    }
   },
   "outputs": [
    {
     "data": {
      "text/plain": [
       "Supermercados y Alimentos                          40865\n",
       "Gasolineras y Vehiculos                            24508\n",
       "Servicios de Salud, Belleza y Recreacion           13971\n",
       "Tienda De Venta Especializada                      12891\n",
       "Servicios de Comunicacion, Internet y Telecable    11570\n",
       "Ropas                                               9950\n",
       "Comida Rapida                                       8584\n",
       "Servicios Gubernamentales                           6063\n",
       "Ferreterias y Hogar                                 5772\n",
       "Restaurantes                                        5363\n",
       "Servicios de Transporte y Viajes                    2406\n",
       "Otros Servicios                                     1480\n",
       "Servicios Educativos                                1379\n",
       "Licores                                             1262\n",
       "Musica                                              1241\n",
       "Instituciones Financieras y Aseguradoras            1040\n",
       "Ventas y Servicios de Equipos Electricos             836\n",
       "Vida Nocturna                                        758\n",
       "Hoteles Moteles Resorts                              698\n",
       "Tecnologia y Software                                661\n",
       "Name: Categoria_Agrupada, dtype: int64"
      ]
     },
     "execution_count": 22,
     "metadata": {},
     "output_type": "execute_result"
    }
   ],
   "source": [
    "top_n_comercios_cantidad = get_top_n_comercios_medida(transacciones_agrupadas,'Cantidad')\n",
    "top_n_comercios_cantidad.Categoria_Agrupada.value_counts().head(20)"
   ]
  },
  {
   "cell_type": "markdown",
   "metadata": {
    "slideshow": {
     "slide_type": "subslide"
    }
   },
   "source": [
    "En esta tabla, se muestran la cantidad de clientes que según su total de transacciones, prefieren una categoria de comercio especifica. En esta categoria, se puede visualizar el enfoque en categorias que gastan menos pero que son consumidas más frecuentemente, como *Comida Rapida*, *Musica* y *Vida Nocturna*. "
   ]
  },
  {
   "cell_type": "markdown",
   "metadata": {
    "slideshow": {
     "slide_type": "subslide"
    }
   },
   "source": [
    "# Por Monto: Mientras más gasta, mejor"
   ]
  },
  {
   "cell_type": "code",
   "execution_count": 23,
   "metadata": {
    "slideshow": {
     "slide_type": "subslide"
    }
   },
   "outputs": [
    {
     "data": {
      "text/plain": [
       "Supermercados y Alimentos                          38633\n",
       "Gasolineras y Vehiculos                            21009\n",
       "Servicios de Comunicacion, Internet y Telecable    13363\n",
       "Tienda De Venta Especializada                      13359\n",
       "Ropas                                              12219\n",
       "Servicios de Salud, Belleza y Recreacion           12044\n",
       "Ferreterias y Hogar                                 7737\n",
       "Servicios Gubernamentales                           6740\n",
       "Servicios de Transporte y Viajes                    4624\n",
       "Restaurantes                                        4259\n",
       "Servicios Educativos                                3436\n",
       "Comida Rapida                                       3117\n",
       "Otros Servicios                                     2027\n",
       "Instituciones Financieras y Aseguradoras            1994\n",
       "Hoteles Moteles Resorts                             1426\n",
       "Ventas y Servicios de Equipos Electricos            1416\n",
       "Licores                                             1193\n",
       "Vida Nocturna                                        969\n",
       "Musica                                               893\n",
       "Tecnologia y Software                                771\n",
       "Name: Categoria_Agrupada, dtype: int64"
      ]
     },
     "execution_count": 23,
     "metadata": {},
     "output_type": "execute_result"
    }
   ],
   "source": [
    "top_n_comercios_valor = get_top_n_comercios_medida(transacciones_agrupadas,'Valor_Total_RD')\n",
    "top_n_comercios_valor.Categoria_Agrupada.value_counts().head(20)"
   ]
  },
  {
   "cell_type": "markdown",
   "metadata": {
    "slideshow": {
     "slide_type": "subslide"
    }
   },
   "source": [
    "A diferencia de las preferencias por Cantidad de transacciones, las categorias en las que se suele gastar más dinero tienen mayor preferencia. Tambien, hay mucha mayor participación de categorias como *Viajes*, *Hogar* y *Servicios Educativos*."
   ]
  },
  {
   "cell_type": "markdown",
   "metadata": {
    "slideshow": {
     "slide_type": "subslide"
    }
   },
   "source": [
    "# Por Recencia: Mientras más reciente, mejor"
   ]
  },
  {
   "cell_type": "code",
   "execution_count": 24,
   "metadata": {
    "slideshow": {
     "slide_type": "skip"
    }
   },
   "outputs": [
    {
     "data": {
      "text/plain": [
       "70"
      ]
     },
     "execution_count": 24,
     "metadata": {},
     "output_type": "execute_result"
    }
   ],
   "source": [
    "import gc\n",
    "gc.collect()"
   ]
  },
  {
   "cell_type": "code",
   "execution_count": 25,
   "metadata": {
    "slideshow": {
     "slide_type": "skip"
    }
   },
   "outputs": [],
   "source": [
    "def crear_recencia(transacciones):\n",
    "    recencia = pd.qcut(transacciones.Meses_Anteriores,10,labels=list(range(10,0,-1))).astype(int)\n",
    "    return recencia"
   ]
  },
  {
   "cell_type": "markdown",
   "metadata": {
    "slideshow": {
     "slide_type": "subslide"
    }
   },
   "source": [
    "Definimos la recencia en 10 valores distintos, según los meses anteriores a la última transacción de la categoria. Los rangos de valores se muestran a continuación."
   ]
  },
  {
   "cell_type": "code",
   "execution_count": 26,
   "metadata": {
    "slideshow": {
     "slide_type": "subslide"
    }
   },
   "outputs": [
    {
     "data": {
      "text/plain": [
       "IntervalIndex([(-0.001, 1.0], (1.0, 2.0], (2.0, 3.0], (3.0, 4.0], (4.0, 5.0], (5.0, 6.0], (6.0, 8.0], (8.0, 9.0], (9.0, 10.0], (10.0, 11.0]],\n",
       "              closed='right',\n",
       "              dtype='interval[float64]')"
      ]
     },
     "execution_count": 26,
     "metadata": {},
     "output_type": "execute_result"
    }
   ],
   "source": [
    "pd.qcut(transacciones.Meses_Anteriores,10).cat.categories"
   ]
  },
  {
   "cell_type": "markdown",
   "metadata": {
    "slideshow": {
     "slide_type": "fragment"
    }
   },
   "source": [
    "Estos valores fueron reemplazados con los numeros del 10 al 1, siendo 10 el más reciente (menos de un mes) y 1 el más antiguo."
   ]
  },
  {
   "cell_type": "code",
   "execution_count": 27,
   "metadata": {
    "slideshow": {
     "slide_type": "subslide"
    }
   },
   "outputs": [
    {
     "data": {
      "text/plain": [
       "count    1981931\n",
       "mean           5\n",
       "std            2\n",
       "min            1\n",
       "25%            4\n",
       "50%            6\n",
       "75%            9\n",
       "max           10\n",
       "Name: Recencia, dtype: int32"
      ]
     },
     "execution_count": 27,
     "metadata": {},
     "output_type": "execute_result"
    }
   ],
   "source": [
    "transacciones['Recencia'] = crear_recencia(transacciones)\n",
    "transacciones.Recencia.describe().astype(int)"
   ]
  },
  {
   "cell_type": "code",
   "execution_count": 28,
   "metadata": {
    "slideshow": {
     "slide_type": "skip"
    }
   },
   "outputs": [],
   "source": [
    "def get_top_n_comercios_recencia(transacciones):\n",
    "    \n",
    "    top_n_comercios_recencia= transacciones.sort_values(by=['Codigo_Cliente','Recencia'],ascending=[True,False]\n",
    "                                 ).groupby(interes_group + ['Recencia'])\\\n",
    "                                 ['Cantidad'].count()\\\n",
    "                                 .reset_index()\\\n",
    "                                 .sort_values(by=['Recencia','Cantidad'],ascending=[False,False])\\\n",
    "                                 .groupby(identificador_group)\\\n",
    "                                 .head(top_n)\\\n",
    "                                 .sort_values(identificador_group)\n",
    "                                                \n",
    "    return top_n_comercios_recencia\n",
    "    "
   ]
  },
  {
   "cell_type": "code",
   "execution_count": 29,
   "metadata": {
    "slideshow": {
     "slide_type": "subslide"
    }
   },
   "outputs": [
    {
     "data": {
      "text/plain": [
       "Supermercados y Alimentos                          38126\n",
       "Gasolineras y Vehiculos                            26663\n",
       "Servicios de Comunicacion, Internet y Telecable    12338\n",
       "Servicios de Salud, Belleza y Recreacion           12138\n",
       "Tienda De Venta Especializada                      11990\n",
       "Ropas                                              10995\n",
       "Comida Rapida                                      10149\n",
       "Ferreterias y Hogar                                 6921\n",
       "Servicios Gubernamentales                           6712\n",
       "Restaurantes                                        5705\n",
       "Servicios de Transporte y Viajes                    2504\n",
       "Otros Servicios                                     1947\n",
       "Servicios Educativos                                1683\n",
       "Musica                                              1630\n",
       "Instituciones Financieras y Aseguradoras            1570\n",
       "Licores                                             1560\n",
       "Hoteles Moteles Resorts                              994\n",
       "Ventas y Servicios de Equipos Electricos             767\n",
       "Tecnologia y Software                                737\n",
       "Cine y Peliculas                                     654\n",
       "Name: Categoria_Agrupada, dtype: int64"
      ]
     },
     "execution_count": 29,
     "metadata": {},
     "output_type": "execute_result"
    }
   ],
   "source": [
    "top_n_comercios_recencia = get_top_n_comercios_recencia(transacciones)\n",
    "top_n_comercios_recencia.Categoria_Agrupada.value_counts().head(20)"
   ]
  },
  {
   "cell_type": "markdown",
   "metadata": {
    "slideshow": {
     "slide_type": "subslide"
    }
   },
   "source": [
    "En este metodo, se ve mayor presencia en categorias recurrentes, como *Musica*, *Gasolineras* y *Cine y Peliculas*. "
   ]
  },
  {
   "cell_type": "markdown",
   "metadata": {
    "slideshow": {
     "slide_type": "subslide"
    }
   },
   "source": [
    "# Termometro: Una combinación estadistica de las tres anteriores."
   ]
  },
  {
   "cell_type": "markdown",
   "metadata": {
    "slideshow": {
     "slide_type": "subslide"
    }
   },
   "source": [
    "En este metodo, se utilizan tecnicas matematicas y estadisticas para llevar la Cantidad y Monto de transacciones a la misma escala (ya que una usualmente se mide del 1 al 100, y la otra en millones), combinarlas de tal manera que ambas tengan el mismo peso y por último multiplicar el valor resultante por la recencia. De esta manera se combinan los 3 metodos anteriores de manera estadistica."
   ]
  },
  {
   "cell_type": "code",
   "execution_count": 30,
   "metadata": {
    "slideshow": {
     "slide_type": "skip"
    }
   },
   "outputs": [],
   "source": [
    "def crear_termometro(value_matrix):\n",
    "    value_matrix = MinMaxScaler().fit_transform(value_matrix)\n",
    "    termometro = PCA(n_components=1).fit_transform(value_matrix)\n",
    "    termometro_scaled = MinMaxScaler().fit_transform(termometro)\n",
    "    return termometro_scaled"
   ]
  },
  {
   "cell_type": "code",
   "execution_count": 31,
   "metadata": {
    "slideshow": {
     "slide_type": "skip"
    }
   },
   "outputs": [],
   "source": [
    "transacciones_agrupadas['Recencia'] = transacciones.groupby(interes_group)['Recencia'].max().reset_index()['Recencia']"
   ]
  },
  {
   "cell_type": "markdown",
   "metadata": {
    "slideshow": {
     "slide_type": "subslide"
    }
   },
   "source": [
    "Ejemplo de la combinación creada por el Termometro."
   ]
  },
  {
   "cell_type": "code",
   "execution_count": 32,
   "metadata": {
    "slideshow": {
     "slide_type": "fragment"
    }
   },
   "outputs": [
    {
     "data": {
      "text/html": [
       "<div>\n",
       "<style scoped>\n",
       "    .dataframe tbody tr th:only-of-type {\n",
       "        vertical-align: middle;\n",
       "    }\n",
       "\n",
       "    .dataframe tbody tr th {\n",
       "        vertical-align: top;\n",
       "    }\n",
       "\n",
       "    .dataframe thead th {\n",
       "        text-align: right;\n",
       "    }\n",
       "</style>\n",
       "<table border=\"1\" class=\"dataframe\">\n",
       "  <thead>\n",
       "    <tr style=\"text-align: right;\">\n",
       "      <th></th>\n",
       "      <th>Codigo_Cliente</th>\n",
       "      <th>DESCRI_PRODUCTO</th>\n",
       "      <th>Categoria_Agrupada</th>\n",
       "      <th>Cantidad</th>\n",
       "      <th>Valor_Total_RD</th>\n",
       "      <th>Recencia</th>\n",
       "      <th>Termometro</th>\n",
       "    </tr>\n",
       "  </thead>\n",
       "  <tbody>\n",
       "    <tr>\n",
       "      <th>110153</th>\n",
       "      <td>163427</td>\n",
       "      <td>VISA EMPRESARIAL</td>\n",
       "      <td>Supermercados y Alimentos</td>\n",
       "      <td>6176</td>\n",
       "      <td>7273634.25</td>\n",
       "      <td>10</td>\n",
       "      <td>10.000000</td>\n",
       "    </tr>\n",
       "    <tr>\n",
       "      <th>110143</th>\n",
       "      <td>163427</td>\n",
       "      <td>VISA EMPRESARIAL</td>\n",
       "      <td>Restaurantes</td>\n",
       "      <td>3779</td>\n",
       "      <td>2631648.76</td>\n",
       "      <td>10</td>\n",
       "      <td>6.019038</td>\n",
       "    </tr>\n",
       "    <tr>\n",
       "      <th>110136</th>\n",
       "      <td>163427</td>\n",
       "      <td>VISA EMPRESARIAL</td>\n",
       "      <td>Comida Rapida</td>\n",
       "      <td>3091</td>\n",
       "      <td>1346483.97</td>\n",
       "      <td>10</td>\n",
       "      <td>4.878975</td>\n",
       "    </tr>\n",
       "    <tr>\n",
       "      <th>136062</th>\n",
       "      <td>203354</td>\n",
       "      <td>VISA EMPRESARIAL</td>\n",
       "      <td>Ferreterias y Hogar</td>\n",
       "      <td>40</td>\n",
       "      <td>77518352.00</td>\n",
       "      <td>10</td>\n",
       "      <td>4.288449</td>\n",
       "    </tr>\n",
       "    <tr>\n",
       "      <th>110139</th>\n",
       "      <td>163427</td>\n",
       "      <td>VISA EMPRESARIAL</td>\n",
       "      <td>Hoteles Moteles Resorts</td>\n",
       "      <td>1503</td>\n",
       "      <td>2449575.31</td>\n",
       "      <td>10</td>\n",
       "      <td>2.469494</td>\n",
       "    </tr>\n",
       "    <tr>\n",
       "      <th>32846</th>\n",
       "      <td>58655</td>\n",
       "      <td>VISA ORO</td>\n",
       "      <td>Tienda De Venta Especializada</td>\n",
       "      <td>1414</td>\n",
       "      <td>2969478.50</td>\n",
       "      <td>10</td>\n",
       "      <td>2.359437</td>\n",
       "    </tr>\n",
       "    <tr>\n",
       "      <th>41806</th>\n",
       "      <td>74414</td>\n",
       "      <td>VISA INFINITE</td>\n",
       "      <td>Ropas</td>\n",
       "      <td>98</td>\n",
       "      <td>32134130.00</td>\n",
       "      <td>10</td>\n",
       "      <td>1.903426</td>\n",
       "    </tr>\n",
       "    <tr>\n",
       "      <th>52100</th>\n",
       "      <td>87479</td>\n",
       "      <td>VISA INFINITE</td>\n",
       "      <td>Servicios de Transporte y Viajes</td>\n",
       "      <td>848</td>\n",
       "      <td>7916723.44</td>\n",
       "      <td>10</td>\n",
       "      <td>1.749019</td>\n",
       "    </tr>\n",
       "    <tr>\n",
       "      <th>100652</th>\n",
       "      <td>151842</td>\n",
       "      <td>VISA EMPRESARIAL</td>\n",
       "      <td>Servicios de Transporte y Viajes</td>\n",
       "      <td>14</td>\n",
       "      <td>28069550.00</td>\n",
       "      <td>10</td>\n",
       "      <td>1.551111</td>\n",
       "    </tr>\n",
       "    <tr>\n",
       "      <th>12</th>\n",
       "      <td>1</td>\n",
       "      <td>VISA EMPRESARIAL</td>\n",
       "      <td>Servicios de Comunicacion, Internet y Telecable</td>\n",
       "      <td>171</td>\n",
       "      <td>22761574.59</td>\n",
       "      <td>10</td>\n",
       "      <td>1.505783</td>\n",
       "    </tr>\n",
       "  </tbody>\n",
       "</table>\n",
       "</div>"
      ],
      "text/plain": [
       "        Codigo_Cliente   DESCRI_PRODUCTO  \\\n",
       "110153          163427  VISA EMPRESARIAL   \n",
       "110143          163427  VISA EMPRESARIAL   \n",
       "110136          163427  VISA EMPRESARIAL   \n",
       "136062          203354  VISA EMPRESARIAL   \n",
       "110139          163427  VISA EMPRESARIAL   \n",
       "32846            58655          VISA ORO   \n",
       "41806            74414     VISA INFINITE   \n",
       "52100            87479     VISA INFINITE   \n",
       "100652          151842  VISA EMPRESARIAL   \n",
       "12                   1  VISA EMPRESARIAL   \n",
       "\n",
       "                                     Categoria_Agrupada  Cantidad  \\\n",
       "110153                        Supermercados y Alimentos      6176   \n",
       "110143                                     Restaurantes      3779   \n",
       "110136                                    Comida Rapida      3091   \n",
       "136062                              Ferreterias y Hogar        40   \n",
       "110139                          Hoteles Moteles Resorts      1503   \n",
       "32846                     Tienda De Venta Especializada      1414   \n",
       "41806                                             Ropas        98   \n",
       "52100                  Servicios de Transporte y Viajes       848   \n",
       "100652                 Servicios de Transporte y Viajes        14   \n",
       "12      Servicios de Comunicacion, Internet y Telecable       171   \n",
       "\n",
       "        Valor_Total_RD  Recencia  Termometro  \n",
       "110153      7273634.25        10   10.000000  \n",
       "110143      2631648.76        10    6.019038  \n",
       "110136      1346483.97        10    4.878975  \n",
       "136062     77518352.00        10    4.288449  \n",
       "110139      2449575.31        10    2.469494  \n",
       "32846       2969478.50        10    2.359437  \n",
       "41806      32134130.00        10    1.903426  \n",
       "52100       7916723.44        10    1.749019  \n",
       "100652     28069550.00        10    1.551111  \n",
       "12         22761574.59        10    1.505783  "
      ]
     },
     "execution_count": 32,
     "metadata": {},
     "output_type": "execute_result"
    }
   ],
   "source": [
    "transacciones_agrupadas['Termometro'] = crear_termometro(transacciones_agrupadas[['Cantidad','Valor_Total_RD']].values)\n",
    "transacciones_agrupadas['Termometro'] = transacciones_agrupadas['Termometro'] * transacciones_agrupadas.Recencia\n",
    "transacciones_agrupadas.sort_values(by='Termometro',ascending=False).head(10)"
   ]
  },
  {
   "cell_type": "code",
   "execution_count": 33,
   "metadata": {
    "slideshow": {
     "slide_type": "subslide"
    }
   },
   "outputs": [
    {
     "data": {
      "text/plain": [
       "Supermercados y Alimentos                          40974\n",
       "Gasolineras y Vehiculos                            23940\n",
       "Servicios de Salud, Belleza y Recreacion           13821\n",
       "Tienda De Venta Especializada                      13241\n",
       "Servicios de Comunicacion, Internet y Telecable    12100\n",
       "Ropas                                              10217\n",
       "Comida Rapida                                       7381\n",
       "Servicios Gubernamentales                           6177\n",
       "Ferreterias y Hogar                                 5817\n",
       "Restaurantes                                        5031\n",
       "Servicios de Transporte y Viajes                    2751\n",
       "Servicios Educativos                                1645\n",
       "Otros Servicios                                     1457\n",
       "Licores                                             1225\n",
       "Musica                                              1206\n",
       "Instituciones Financieras y Aseguradoras            1178\n",
       "Ventas y Servicios de Equipos Electricos             962\n",
       "Vida Nocturna                                        788\n",
       "Hoteles Moteles Resorts                              761\n",
       "Tecnologia y Software                                707\n",
       "Name: Categoria_Agrupada, dtype: int64"
      ]
     },
     "execution_count": 33,
     "metadata": {},
     "output_type": "execute_result"
    }
   ],
   "source": [
    "top_n_comercios_termometro = get_top_n_comercios_medida(transacciones_agrupadas,'Termometro')\n",
    "top_n_comercios_termometro.Categoria_Agrupada.value_counts().head(20)"
   ]
  },
  {
   "cell_type": "markdown",
   "metadata": {
    "slideshow": {
     "slide_type": "subslide"
    }
   },
   "source": [
    "Al combinar las metricas, se nota más la presencia de categorias en la que se gasta mucho, se compra mucho, y se va frecuente, como *Supermercados*, *Salud y Belleza*, *Tiendas de Venta Especializadas (aquí caen muchos negocios en Linea como Amazon)*. "
   ]
  },
  {
   "cell_type": "markdown",
   "metadata": {
    "slideshow": {
     "slide_type": "subslide"
    }
   },
   "source": [
    "# RFM: Combinación más heuristica de la Recencia, Cantidad y Valor Monetario"
   ]
  },
  {
   "cell_type": "markdown",
   "metadata": {
    "slideshow": {
     "slide_type": "fragment"
    }
   },
   "source": [
    "Otro metodo parecido al del termometro es el del RFM (Recency, Frequency, Monetary Value). Igual, consideramos las 3 metricas con el mismo peso, pero estos pesos seran llevados a numeros del 1 al 10, como se hizo con la recencia. Las divisiones se encontraran segun los deciles o aproximaciones de los deciles de la distribucion de cada metrica, igual que como se hizo con la recencia."
   ]
  },
  {
   "cell_type": "markdown",
   "metadata": {
    "slideshow": {
     "slide_type": "subslide"
    }
   },
   "source": [
    "División de las cantidades"
   ]
  },
  {
   "cell_type": "code",
   "execution_count": 34,
   "metadata": {
    "slideshow": {
     "slide_type": "fragment"
    }
   },
   "outputs": [
    {
     "data": {
      "text/plain": [
       "IntervalIndex([(0, 1], (1, 3], (3, 5], (5, 7], (7, 10], (10, 20], (20, 30], (30, 50], (50, 100], (100, 100000]],\n",
       "              closed='right',\n",
       "              dtype='interval[int64]')"
      ]
     },
     "execution_count": 34,
     "metadata": {},
     "output_type": "execute_result"
    }
   ],
   "source": [
    " pd.cut(transacciones_agrupadas.Cantidad,[0,1,3,5,7,10,20,30,50,100,100000]).cat.categories"
   ]
  },
  {
   "cell_type": "markdown",
   "metadata": {
    "slideshow": {
     "slide_type": "subslide"
    }
   },
   "source": [
    "División del Valor Monetario"
   ]
  },
  {
   "cell_type": "code",
   "execution_count": 35,
   "metadata": {
    "slideshow": {
     "slide_type": "fragment"
    }
   },
   "outputs": [
    {
     "data": {
      "text/plain": [
       "IntervalIndex([(0.499, 600.0], (600.0, 1150.0], (1150.0, 1896.01], (1896.01, 2950.0], (2950.0, 4487.0], (4487.0, 6870.0], (6870.0, 10909.088], (10909.088, 18799.206], (18799.206, 39246.004], (39246.004, 77518352.0]],\n",
       "              closed='right',\n",
       "              dtype='interval[float64]')"
      ]
     },
     "execution_count": 35,
     "metadata": {},
     "output_type": "execute_result"
    }
   ],
   "source": [
    "pd.qcut(transacciones_agrupadas.Valor_Total_RD,10,).cat.categories"
   ]
  },
  {
   "cell_type": "markdown",
   "metadata": {
    "slideshow": {
     "slide_type": "subslide"
    }
   },
   "source": [
    "Por último, luego de tener el score RFM de las 3 metricas, se calcula el promedio de las 3 para llegar al score RFM final."
   ]
  },
  {
   "cell_type": "code",
   "execution_count": 36,
   "metadata": {
    "slideshow": {
     "slide_type": "skip"
    }
   },
   "outputs": [],
   "source": [
    "def crear_score_RFM(transacciones_agrupadas):\n",
    "    transacciones_agrupadas['Cantidad_RFM'] = pd.cut(transacciones_agrupadas.Cantidad,[0,1,3,5,7,10,20,30,50,100,100000]\n",
    "                                                 ,labels=list(range(1,11))).astype(int)\n",
    "    transacciones_agrupadas['Valor_Monetario_RFM'] = pd.qcut(transacciones_agrupadas.Valor_Total_RD\n",
    "                                                         ,10,labels=list(range(1,11))).astype(int)\n",
    "    transacciones_agrupadas['Score_RFM'] = transacciones_agrupadas[['Recencia','Cantidad_RFM','Valor_Monetario_RFM']\n",
    "                                                              ].mean(axis=1)\n",
    "    return transacciones_agrupadas['Score_RFM']"
   ]
  },
  {
   "cell_type": "markdown",
   "metadata": {
    "slideshow": {
     "slide_type": "subslide"
    }
   },
   "source": [
    "Ejemplo de algunos valores del score RFM en los datos."
   ]
  },
  {
   "cell_type": "code",
   "execution_count": 37,
   "metadata": {
    "slideshow": {
     "slide_type": "fragment"
    }
   },
   "outputs": [
    {
     "data": {
      "text/html": [
       "<div>\n",
       "<style scoped>\n",
       "    .dataframe tbody tr th:only-of-type {\n",
       "        vertical-align: middle;\n",
       "    }\n",
       "\n",
       "    .dataframe tbody tr th {\n",
       "        vertical-align: top;\n",
       "    }\n",
       "\n",
       "    .dataframe thead th {\n",
       "        text-align: right;\n",
       "    }\n",
       "</style>\n",
       "<table border=\"1\" class=\"dataframe\">\n",
       "  <thead>\n",
       "    <tr style=\"text-align: right;\">\n",
       "      <th></th>\n",
       "      <th>Codigo_Cliente</th>\n",
       "      <th>Categoria_Agrupada</th>\n",
       "      <th>Cantidad_RFM</th>\n",
       "      <th>Recencia</th>\n",
       "      <th>Valor_Monetario_RFM</th>\n",
       "      <th>Score_RFM</th>\n",
       "    </tr>\n",
       "  </thead>\n",
       "  <tbody>\n",
       "    <tr>\n",
       "      <th>286862</th>\n",
       "      <td>365702</td>\n",
       "      <td>Tienda De Venta Especializada</td>\n",
       "      <td>3</td>\n",
       "      <td>8</td>\n",
       "      <td>5</td>\n",
       "      <td>5.333333</td>\n",
       "    </tr>\n",
       "    <tr>\n",
       "      <th>359830</th>\n",
       "      <td>423193</td>\n",
       "      <td>Supermercados y Alimentos</td>\n",
       "      <td>7</td>\n",
       "      <td>10</td>\n",
       "      <td>8</td>\n",
       "      <td>8.333333</td>\n",
       "    </tr>\n",
       "    <tr>\n",
       "      <th>252214</th>\n",
       "      <td>341654</td>\n",
       "      <td>Gasolineras y Vehiculos</td>\n",
       "      <td>6</td>\n",
       "      <td>10</td>\n",
       "      <td>4</td>\n",
       "      <td>6.666667</td>\n",
       "    </tr>\n",
       "    <tr>\n",
       "      <th>147155</th>\n",
       "      <td>218520</td>\n",
       "      <td>Hoteles Moteles Resorts</td>\n",
       "      <td>2</td>\n",
       "      <td>6</td>\n",
       "      <td>8</td>\n",
       "      <td>5.333333</td>\n",
       "    </tr>\n",
       "    <tr>\n",
       "      <th>221832</th>\n",
       "      <td>315573</td>\n",
       "      <td>Articulos de Oficina</td>\n",
       "      <td>5</td>\n",
       "      <td>10</td>\n",
       "      <td>10</td>\n",
       "      <td>8.333333</td>\n",
       "    </tr>\n",
       "    <tr>\n",
       "      <th>60455</th>\n",
       "      <td>98043</td>\n",
       "      <td>Otros Servicios</td>\n",
       "      <td>1</td>\n",
       "      <td>4</td>\n",
       "      <td>3</td>\n",
       "      <td>2.666667</td>\n",
       "    </tr>\n",
       "    <tr>\n",
       "      <th>160608</th>\n",
       "      <td>236974</td>\n",
       "      <td>Licores</td>\n",
       "      <td>2</td>\n",
       "      <td>4</td>\n",
       "      <td>5</td>\n",
       "      <td>3.666667</td>\n",
       "    </tr>\n",
       "    <tr>\n",
       "      <th>135271</th>\n",
       "      <td>202304</td>\n",
       "      <td>Supermercados y Alimentos</td>\n",
       "      <td>6</td>\n",
       "      <td>10</td>\n",
       "      <td>9</td>\n",
       "      <td>8.333333</td>\n",
       "    </tr>\n",
       "    <tr>\n",
       "      <th>146515</th>\n",
       "      <td>217606</td>\n",
       "      <td>Supermercados y Alimentos</td>\n",
       "      <td>4</td>\n",
       "      <td>6</td>\n",
       "      <td>8</td>\n",
       "      <td>6.000000</td>\n",
       "    </tr>\n",
       "    <tr>\n",
       "      <th>293180</th>\n",
       "      <td>370202</td>\n",
       "      <td>Servicios Educativos</td>\n",
       "      <td>1</td>\n",
       "      <td>7</td>\n",
       "      <td>4</td>\n",
       "      <td>4.000000</td>\n",
       "    </tr>\n",
       "  </tbody>\n",
       "</table>\n",
       "</div>"
      ],
      "text/plain": [
       "        Codigo_Cliente             Categoria_Agrupada  Cantidad_RFM  Recencia  \\\n",
       "286862          365702  Tienda De Venta Especializada             3         8   \n",
       "359830          423193      Supermercados y Alimentos             7        10   \n",
       "252214          341654        Gasolineras y Vehiculos             6        10   \n",
       "147155          218520        Hoteles Moteles Resorts             2         6   \n",
       "221832          315573           Articulos de Oficina             5        10   \n",
       "60455            98043                Otros Servicios             1         4   \n",
       "160608          236974                        Licores             2         4   \n",
       "135271          202304      Supermercados y Alimentos             6        10   \n",
       "146515          217606      Supermercados y Alimentos             4         6   \n",
       "293180          370202           Servicios Educativos             1         7   \n",
       "\n",
       "        Valor_Monetario_RFM  Score_RFM  \n",
       "286862                    5   5.333333  \n",
       "359830                    8   8.333333  \n",
       "252214                    4   6.666667  \n",
       "147155                    8   5.333333  \n",
       "221832                   10   8.333333  \n",
       "60455                     3   2.666667  \n",
       "160608                    5   3.666667  \n",
       "135271                    9   8.333333  \n",
       "146515                    8   6.000000  \n",
       "293180                    4   4.000000  "
      ]
     },
     "execution_count": 37,
     "metadata": {},
     "output_type": "execute_result"
    }
   ],
   "source": [
    "transacciones_agrupadas['Score_RFM'] = crear_score_RFM(transacciones_agrupadas)\n",
    "transacciones_agrupadas[['Codigo_Cliente','Categoria_Agrupada',\n",
    "                         'Cantidad_RFM','Recencia','Valor_Monetario_RFM','Score_RFM']].sample(10)"
   ]
  },
  {
   "cell_type": "code",
   "execution_count": 38,
   "metadata": {
    "slideshow": {
     "slide_type": "subslide"
    }
   },
   "outputs": [
    {
     "data": {
      "text/plain": [
       "Supermercados y Alimentos                          40349\n",
       "Gasolineras y Vehiculos                            23143\n",
       "Tienda De Venta Especializada                      13557\n",
       "Servicios de Salud, Belleza y Recreacion           13378\n",
       "Servicios de Comunicacion, Internet y Telecable    12805\n",
       "Ropas                                              11104\n",
       "Servicios Gubernamentales                           6505\n",
       "Ferreterias y Hogar                                 6408\n",
       "Comida Rapida                                       5278\n",
       "Restaurantes                                        4984\n",
       "Servicios de Transporte y Viajes                    3102\n",
       "Servicios Educativos                                2096\n",
       "Otros Servicios                                     1609\n",
       "Instituciones Financieras y Aseguradoras            1337\n",
       "Licores                                             1263\n",
       "Ventas y Servicios de Equipos Electricos            1086\n",
       "Musica                                               965\n",
       "Hoteles Moteles Resorts                              900\n",
       "Vida Nocturna                                        866\n",
       "Tecnologia y Software                                705\n",
       "Name: Categoria_Agrupada, dtype: int64"
      ]
     },
     "execution_count": 38,
     "metadata": {},
     "output_type": "execute_result"
    }
   ],
   "source": [
    "top_n_comercios_rfm = get_top_n_comercios_medida(transacciones_agrupadas,'Score_RFM')\n",
    "top_n_comercios_rfm.Categoria_Agrupada.value_counts().head(20)"
   ]
  },
  {
   "cell_type": "markdown",
   "metadata": {
    "slideshow": {
     "slide_type": "subslide"
    }
   },
   "source": [
    "Con esta metrica, se obtienen valores similares al del termometro, con un poco de variación en algunas categorias. Esta metrica es la que será utilizada como la metrica final para determinar las preferencias de comercios."
   ]
  },
  {
   "cell_type": "markdown",
   "metadata": {
    "slideshow": {
     "slide_type": "slide"
    }
   },
   "source": [
    "# Exploración"
   ]
  },
  {
   "cell_type": "markdown",
   "metadata": {
    "slideshow": {
     "slide_type": "slide"
    }
   },
   "source": [
    "## Variación entre Metricas"
   ]
  },
  {
   "cell_type": "markdown",
   "metadata": {
    "slideshow": {
     "slide_type": "subslide"
    }
   },
   "source": [
    "Según vimos, entre cada metrica existe una cantidad diferente de clientes en cada categoria. Analizamos esta variación para determinar la causa de estas diferencias."
   ]
  },
  {
   "cell_type": "code",
   "execution_count": 39,
   "metadata": {
    "slideshow": {
     "slide_type": "skip"
    }
   },
   "outputs": [
    {
     "data": {
      "text/plain": [
       "5"
      ]
     },
     "execution_count": 39,
     "metadata": {},
     "output_type": "execute_result"
    }
   ],
   "source": [
    "datasets_top_n = {'Cantidad':top_n_comercios_cantidad,\n",
    "                  'Recencia': top_n_comercios_recencia,\n",
    "                  'Termometro':top_n_comercios_termometro,\n",
    "                  'Valor':top_n_comercios_valor,\n",
    "                  'RFM': top_n_comercios_rfm}\n",
    "len(datasets_top_n)"
   ]
  },
  {
   "cell_type": "code",
   "execution_count": 40,
   "metadata": {
    "slideshow": {
     "slide_type": "skip"
    }
   },
   "outputs": [],
   "source": [
    "def create_value_counts_dataframe(datasets):\n",
    "    if len(categoria_comercio_interes) < 2:\n",
    "        value_counts = list(datasets.values())[0][categoria_comercio_interes[0]].value_counts()\n",
    "        cats = value_counts.index\n",
    "        value_counts_df = pd.DataFrame({\n",
    "            **{f\"Preferencias_{k}\":top_n[categoria_comercio_interes[0]].value_counts()[cats] for k,top_n in datasets.items()}\n",
    "        })\n",
    "        return value_counts_df\n",
    "    else:\n",
    "        value_counts = list(datasets.values())[0].groupby(categoria_comercio_interes[:2]\n",
    "                                                         )['Cantidad'].count()\n",
    "        cats = value_counts.index\n",
    "        value_counts_df = pd.DataFrame({\n",
    "            **{f\"Preferencias_{k}\":top_n.groupby(categoria_comercio_interes[:2]\n",
    "                                                         )['Cantidad'].count()[cats] \n",
    "               for k,top_n in datasets.items()}\n",
    "        })\n",
    "        return value_counts_df"
   ]
  },
  {
   "cell_type": "markdown",
   "metadata": {
    "slideshow": {
     "slide_type": "subslide"
    }
   },
   "source": [
    "Agrupamos la cantidad de clientes por producto por categoria por metrica, para luego crear estadisticas con esta, como el promedio de clientes, la desviación estandar y  el porcentaje de variación por categoria."
   ]
  },
  {
   "cell_type": "code",
   "execution_count": 41,
   "metadata": {
    "slideshow": {
     "slide_type": "skip"
    }
   },
   "outputs": [
    {
     "data": {
      "text/html": [
       "<div>\n",
       "<style scoped>\n",
       "    .dataframe tbody tr th:only-of-type {\n",
       "        vertical-align: middle;\n",
       "    }\n",
       "\n",
       "    .dataframe tbody tr th {\n",
       "        vertical-align: top;\n",
       "    }\n",
       "\n",
       "    .dataframe thead th {\n",
       "        text-align: right;\n",
       "    }\n",
       "</style>\n",
       "<table border=\"1\" class=\"dataframe\">\n",
       "  <thead>\n",
       "    <tr style=\"text-align: right;\">\n",
       "      <th></th>\n",
       "      <th></th>\n",
       "      <th>Preferencias_Cantidad</th>\n",
       "      <th>Preferencias_Recencia</th>\n",
       "      <th>Preferencias_Termometro</th>\n",
       "      <th>Preferencias_Valor</th>\n",
       "      <th>Preferencias_RFM</th>\n",
       "    </tr>\n",
       "    <tr>\n",
       "      <th>DESCRI_PRODUCTO</th>\n",
       "      <th>Categoria_Agrupada</th>\n",
       "      <th></th>\n",
       "      <th></th>\n",
       "      <th></th>\n",
       "      <th></th>\n",
       "      <th></th>\n",
       "    </tr>\n",
       "  </thead>\n",
       "  <tbody>\n",
       "    <tr>\n",
       "      <th rowspan=\"5\" valign=\"top\">CREDITO JOVEN</th>\n",
       "      <th>Articulos de Oficina</th>\n",
       "      <td>6</td>\n",
       "      <td>12</td>\n",
       "      <td>3</td>\n",
       "      <td>7.0</td>\n",
       "      <td>5</td>\n",
       "    </tr>\n",
       "    <tr>\n",
       "      <th>Cine y Peliculas</th>\n",
       "      <td>47</td>\n",
       "      <td>55</td>\n",
       "      <td>34</td>\n",
       "      <td>24.0</td>\n",
       "      <td>29</td>\n",
       "    </tr>\n",
       "    <tr>\n",
       "      <th>Comida Rapida</th>\n",
       "      <td>560</td>\n",
       "      <td>555</td>\n",
       "      <td>510</td>\n",
       "      <td>279.0</td>\n",
       "      <td>412</td>\n",
       "    </tr>\n",
       "    <tr>\n",
       "      <th>Ferreterias y Hogar</th>\n",
       "      <td>94</td>\n",
       "      <td>116</td>\n",
       "      <td>103</td>\n",
       "      <td>140.0</td>\n",
       "      <td>109</td>\n",
       "    </tr>\n",
       "    <tr>\n",
       "      <th>Gasolineras y Vehiculos</th>\n",
       "      <td>702</td>\n",
       "      <td>846</td>\n",
       "      <td>694</td>\n",
       "      <td>620.0</td>\n",
       "      <td>674</td>\n",
       "    </tr>\n",
       "  </tbody>\n",
       "</table>\n",
       "</div>"
      ],
      "text/plain": [
       "                                         Preferencias_Cantidad  \\\n",
       "DESCRI_PRODUCTO Categoria_Agrupada                               \n",
       "CREDITO JOVEN   Articulos de Oficina                         6   \n",
       "                Cine y Peliculas                            47   \n",
       "                Comida Rapida                              560   \n",
       "                Ferreterias y Hogar                         94   \n",
       "                Gasolineras y Vehiculos                    702   \n",
       "\n",
       "                                         Preferencias_Recencia  \\\n",
       "DESCRI_PRODUCTO Categoria_Agrupada                               \n",
       "CREDITO JOVEN   Articulos de Oficina                        12   \n",
       "                Cine y Peliculas                            55   \n",
       "                Comida Rapida                              555   \n",
       "                Ferreterias y Hogar                        116   \n",
       "                Gasolineras y Vehiculos                    846   \n",
       "\n",
       "                                         Preferencias_Termometro  \\\n",
       "DESCRI_PRODUCTO Categoria_Agrupada                                 \n",
       "CREDITO JOVEN   Articulos de Oficina                           3   \n",
       "                Cine y Peliculas                              34   \n",
       "                Comida Rapida                                510   \n",
       "                Ferreterias y Hogar                          103   \n",
       "                Gasolineras y Vehiculos                      694   \n",
       "\n",
       "                                         Preferencias_Valor  Preferencias_RFM  \n",
       "DESCRI_PRODUCTO Categoria_Agrupada                                             \n",
       "CREDITO JOVEN   Articulos de Oficina                    7.0                 5  \n",
       "                Cine y Peliculas                       24.0                29  \n",
       "                Comida Rapida                         279.0               412  \n",
       "                Ferreterias y Hogar                   140.0               109  \n",
       "                Gasolineras y Vehiculos               620.0               674  "
      ]
     },
     "execution_count": 41,
     "metadata": {},
     "output_type": "execute_result"
    }
   ],
   "source": [
    "value_counts_df = create_value_counts_dataframe(datasets_top_n)\n",
    "value_counts_df.head()"
   ]
  },
  {
   "cell_type": "code",
   "execution_count": 42,
   "metadata": {
    "slideshow": {
     "slide_type": "skip"
    }
   },
   "outputs": [],
   "source": [
    "preferencias_counts_cols = [col for col in value_counts_df if 'Preferencias' in col]\n",
    "value_counts_df['Promedio'] = value_counts_df[preferencias_counts_cols].mean(axis=1).astype(int)\n",
    "value_counts_df['Desviacion'] = value_counts_df[preferencias_counts_cols].std(axis=1)\n",
    "value_counts_df[\"Porcentaje_Variacion (%)\"] = ((value_counts_df[\"Desviacion\"] \n",
    "                                            / value_counts_df['Promedio'])* 100).round(2)\n",
    "value_counts_df = value_counts_df.reset_index()"
   ]
  },
  {
   "cell_type": "code",
   "execution_count": 43,
   "metadata": {
    "slideshow": {
     "slide_type": "fragment"
    }
   },
   "outputs": [
    {
     "data": {
      "text/html": [
       "<div>\n",
       "<style scoped>\n",
       "    .dataframe tbody tr th:only-of-type {\n",
       "        vertical-align: middle;\n",
       "    }\n",
       "\n",
       "    .dataframe tbody tr th {\n",
       "        vertical-align: top;\n",
       "    }\n",
       "\n",
       "    .dataframe thead th {\n",
       "        text-align: right;\n",
       "    }\n",
       "</style>\n",
       "<table border=\"1\" class=\"dataframe\">\n",
       "  <thead>\n",
       "    <tr style=\"text-align: right;\">\n",
       "      <th></th>\n",
       "      <th>DESCRI_PRODUCTO</th>\n",
       "      <th>Categoria_Agrupada</th>\n",
       "      <th>Preferencias_Cantidad</th>\n",
       "      <th>Preferencias_Recencia</th>\n",
       "      <th>Preferencias_Termometro</th>\n",
       "      <th>Preferencias_Valor</th>\n",
       "      <th>Preferencias_RFM</th>\n",
       "      <th>Promedio</th>\n",
       "      <th>Desviacion</th>\n",
       "      <th>Porcentaje_Variacion (%)</th>\n",
       "    </tr>\n",
       "  </thead>\n",
       "  <tbody>\n",
       "    <tr>\n",
       "      <th>0</th>\n",
       "      <td>CREDITO JOVEN</td>\n",
       "      <td>Articulos de Oficina</td>\n",
       "      <td>6</td>\n",
       "      <td>12</td>\n",
       "      <td>3</td>\n",
       "      <td>7.0</td>\n",
       "      <td>5</td>\n",
       "      <td>6</td>\n",
       "      <td>3.361547</td>\n",
       "      <td>56.03</td>\n",
       "    </tr>\n",
       "    <tr>\n",
       "      <th>1</th>\n",
       "      <td>CREDITO JOVEN</td>\n",
       "      <td>Cine y Peliculas</td>\n",
       "      <td>47</td>\n",
       "      <td>55</td>\n",
       "      <td>34</td>\n",
       "      <td>24.0</td>\n",
       "      <td>29</td>\n",
       "      <td>37</td>\n",
       "      <td>12.872451</td>\n",
       "      <td>34.79</td>\n",
       "    </tr>\n",
       "    <tr>\n",
       "      <th>2</th>\n",
       "      <td>CREDITO JOVEN</td>\n",
       "      <td>Comida Rapida</td>\n",
       "      <td>560</td>\n",
       "      <td>555</td>\n",
       "      <td>510</td>\n",
       "      <td>279.0</td>\n",
       "      <td>412</td>\n",
       "      <td>463</td>\n",
       "      <td>118.889444</td>\n",
       "      <td>25.68</td>\n",
       "    </tr>\n",
       "    <tr>\n",
       "      <th>3</th>\n",
       "      <td>CREDITO JOVEN</td>\n",
       "      <td>Ferreterias y Hogar</td>\n",
       "      <td>94</td>\n",
       "      <td>116</td>\n",
       "      <td>103</td>\n",
       "      <td>140.0</td>\n",
       "      <td>109</td>\n",
       "      <td>112</td>\n",
       "      <td>17.415510</td>\n",
       "      <td>15.55</td>\n",
       "    </tr>\n",
       "    <tr>\n",
       "      <th>4</th>\n",
       "      <td>CREDITO JOVEN</td>\n",
       "      <td>Gasolineras y Vehiculos</td>\n",
       "      <td>702</td>\n",
       "      <td>846</td>\n",
       "      <td>694</td>\n",
       "      <td>620.0</td>\n",
       "      <td>674</td>\n",
       "      <td>707</td>\n",
       "      <td>83.923775</td>\n",
       "      <td>11.87</td>\n",
       "    </tr>\n",
       "  </tbody>\n",
       "</table>\n",
       "</div>"
      ],
      "text/plain": [
       "  DESCRI_PRODUCTO       Categoria_Agrupada  Preferencias_Cantidad  \\\n",
       "0   CREDITO JOVEN     Articulos de Oficina                      6   \n",
       "1   CREDITO JOVEN         Cine y Peliculas                     47   \n",
       "2   CREDITO JOVEN            Comida Rapida                    560   \n",
       "3   CREDITO JOVEN      Ferreterias y Hogar                     94   \n",
       "4   CREDITO JOVEN  Gasolineras y Vehiculos                    702   \n",
       "\n",
       "   Preferencias_Recencia  Preferencias_Termometro  Preferencias_Valor  \\\n",
       "0                     12                        3                 7.0   \n",
       "1                     55                       34                24.0   \n",
       "2                    555                      510               279.0   \n",
       "3                    116                      103               140.0   \n",
       "4                    846                      694               620.0   \n",
       "\n",
       "   Preferencias_RFM  Promedio  Desviacion  Porcentaje_Variacion (%)  \n",
       "0                 5         6    3.361547                     56.03  \n",
       "1                29        37   12.872451                     34.79  \n",
       "2               412       463  118.889444                     25.68  \n",
       "3               109       112   17.415510                     15.55  \n",
       "4               674       707   83.923775                     11.87  "
      ]
     },
     "execution_count": 43,
     "metadata": {},
     "output_type": "execute_result"
    }
   ],
   "source": [
    "value_counts_df.head()"
   ]
  },
  {
   "cell_type": "code",
   "execution_count": 44,
   "metadata": {
    "slideshow": {
     "slide_type": "skip"
    }
   },
   "outputs": [],
   "source": [
    "def bar_plotly(dataframe,dim,value,title,show_text=False):   \n",
    "    sorted_dataframe = dataframe.sort_values(by=value,ascending=False)\n",
    "    data = [go.Bar(\n",
    "                y=sorted_dataframe[value],\n",
    "                x=sorted_dataframe[dim],\n",
    "                marker=dict(\n",
    "                color='#1D62AE',\n",
    "                line=dict(\n",
    "                    color='#14A751',\n",
    "                    width=1,\n",
    "                )\n",
    "            )\n",
    "        )]\n",
    "    \n",
    "    if show_text:\n",
    "        data = [go.Bar(\n",
    "                y=sorted_dataframe[value],\n",
    "                x=sorted_dataframe[dim],\n",
    "                marker=dict(\n",
    "                color='#1D62AE',\n",
    "                line=dict(\n",
    "                    color='#14A751',\n",
    "                    width=1,\n",
    "                )\n",
    "            )\n",
    "        )]\n",
    "\n",
    "    layout = go.Layout(\n",
    "        title=title,\n",
    "        width=800,\n",
    "        height=400,\n",
    "         xaxis=dict(\n",
    "            title=dim,\n",
    "            titlefont=dict(\n",
    "                family='Myriad',\n",
    "                size=20,\n",
    "                color='#14A751'\n",
    "            ),\n",
    "             showticklabels=show_text\n",
    "        ),\n",
    "         yaxis=dict(\n",
    "            title=value,\n",
    "            titlefont=dict(\n",
    "                family='Myriad',\n",
    "                size=20,\n",
    "                color='#14A751'\n",
    "            )\n",
    "        )\n",
    "    )\n",
    "    fig = go.Figure(data=data, layout=layout)\n",
    "    ipy(fig, config=plotly_config)"
   ]
  },
  {
   "cell_type": "code",
   "execution_count": 45,
   "metadata": {
    "slideshow": {
     "slide_type": "skip"
    }
   },
   "outputs": [],
   "source": [
    "def create_grouping(data,groupby_cols,value_cols,new_cols,aggregation=\"sum\"):\n",
    "    grouped_data = data.groupby(groupby_cols)[value_cols].agg(aggregation).reset_index()\n",
    "    grouped_data.columns = new_cols\n",
    "    return grouped_data\n",
    "\n",
    "def crear_estadisticas_value_counts(value_count_df,count_cols,grouping_col = \"Categoria_Agrupada\"):\n",
    "    preferencias_total = value_count_df.groupby(grouping_col)[count_cols].sum()\n",
    "    preferencias_total[\"Promedio\"] = preferencias_total[count_cols].mean(axis=1)\n",
    "    preferencias_total[\"Desviacion\"] = preferencias_total[count_cols].std(axis=1)\n",
    "    preferencias_total[\"Porcentaje_Variacion (%)\"] = ((preferencias_total[\"Desviacion\"] / preferencias_total[\"Promedio\"]\n",
    "                                                      ) * 100).round(2)\n",
    "    return preferencias_total.reset_index()"
   ]
  },
  {
   "cell_type": "code",
   "execution_count": 46,
   "metadata": {
    "slideshow": {
     "slide_type": "skip"
    }
   },
   "outputs": [
    {
     "data": {
      "text/html": [
       "<div>\n",
       "<style scoped>\n",
       "    .dataframe tbody tr th:only-of-type {\n",
       "        vertical-align: middle;\n",
       "    }\n",
       "\n",
       "    .dataframe tbody tr th {\n",
       "        vertical-align: top;\n",
       "    }\n",
       "\n",
       "    .dataframe thead th {\n",
       "        text-align: right;\n",
       "    }\n",
       "</style>\n",
       "<table border=\"1\" class=\"dataframe\">\n",
       "  <thead>\n",
       "    <tr style=\"text-align: right;\">\n",
       "      <th></th>\n",
       "      <th>DESCRI_PRODUCTO</th>\n",
       "      <th>mean_Porcentaje_Variacion (%)</th>\n",
       "    </tr>\n",
       "  </thead>\n",
       "  <tbody>\n",
       "    <tr>\n",
       "      <th>0</th>\n",
       "      <td>CREDITO JOVEN</td>\n",
       "      <td>22.257500</td>\n",
       "    </tr>\n",
       "    <tr>\n",
       "      <th>1</th>\n",
       "      <td>MULTICREDITO</td>\n",
       "      <td>12.588077</td>\n",
       "    </tr>\n",
       "    <tr>\n",
       "      <th>2</th>\n",
       "      <td>VISA CLASICA</td>\n",
       "      <td>17.927308</td>\n",
       "    </tr>\n",
       "    <tr>\n",
       "      <th>3</th>\n",
       "      <td>VISA EMPRESARIAL</td>\n",
       "      <td>28.032800</td>\n",
       "    </tr>\n",
       "    <tr>\n",
       "      <th>4</th>\n",
       "      <td>VISA INFINITE</td>\n",
       "      <td>28.719231</td>\n",
       "    </tr>\n",
       "    <tr>\n",
       "      <th>5</th>\n",
       "      <td>VISA ORO</td>\n",
       "      <td>20.717308</td>\n",
       "    </tr>\n",
       "    <tr>\n",
       "      <th>6</th>\n",
       "      <td>VISA PLATINO</td>\n",
       "      <td>25.761154</td>\n",
       "    </tr>\n",
       "  </tbody>\n",
       "</table>\n",
       "</div>"
      ],
      "text/plain": [
       "    DESCRI_PRODUCTO  mean_Porcentaje_Variacion (%)\n",
       "0     CREDITO JOVEN                      22.257500\n",
       "1      MULTICREDITO                      12.588077\n",
       "2      VISA CLASICA                      17.927308\n",
       "3  VISA EMPRESARIAL                      28.032800\n",
       "4     VISA INFINITE                      28.719231\n",
       "5          VISA ORO                      20.717308\n",
       "6      VISA PLATINO                      25.761154"
      ]
     },
     "execution_count": 46,
     "metadata": {},
     "output_type": "execute_result"
    }
   ],
   "source": [
    "producto_desviacion_promedio = create_grouping(value_counts_df,[\"DESCRI_PRODUCTO\"]\n",
    "                                               ,\"Porcentaje_Variacion (%)\"\n",
    "                                               , [\"DESCRI_PRODUCTO\",\"mean_Porcentaje_Variacion (%)\"] \n",
    "                                               ,[\"mean\"])\n",
    "producto_desviacion_promedio"
   ]
  },
  {
   "cell_type": "markdown",
   "metadata": {
    "slideshow": {
     "slide_type": "subslide"
    }
   },
   "source": [
    "A continuación, algunas graficas para ilustrar esta variación. Variación alta significa que para una metrica, una categoria tiene una cantidad de clientes mucho mayor/ mucho menor, usualmente por una diferencia alta en Cantidad o Monto."
   ]
  },
  {
   "cell_type": "code",
   "execution_count": 47,
   "metadata": {
    "slideshow": {
     "slide_type": "subslide"
    }
   },
   "outputs": [
    {
     "data": {
      "application/vnd.plotly.v1+json": {
       "config": {
        "linkText": "Export to plot.ly",
        "plotlyServerURL": "https://plot.ly",
        "showLink": false
       },
       "data": [
        {
         "marker": {
          "color": "#1D62AE",
          "line": {
           "color": "#14A751",
           "width": 1
          }
         },
         "type": "bar",
         "uid": "bb04f16d-e808-4e30-9a6e-f195cb28862a",
         "x": [
          "VISA INFINITE",
          "VISA EMPRESARIAL",
          "VISA PLATINO",
          "CREDITO JOVEN",
          "VISA ORO",
          "VISA CLASICA",
          "MULTICREDITO"
         ],
         "y": [
          28.71923076923077,
          28.032799999999998,
          25.761153846153853,
          22.257499999999997,
          20.717307692307692,
          17.927307692307693,
          12.588076923076922
         ]
        }
       ],
       "layout": {
        "height": 400,
        "title": {
         "text": "Variación de Preferencia Promedio por Producto"
        },
        "width": 800,
        "xaxis": {
         "showticklabels": true,
         "title": {
          "font": {
           "color": "#14A751",
           "family": "Myriad",
           "size": 20
          },
          "text": "DESCRI_PRODUCTO"
         }
        },
        "yaxis": {
         "title": {
          "font": {
           "color": "#14A751",
           "family": "Myriad",
           "size": 20
          },
          "text": "mean_Porcentaje_Variacion (%)"
         }
        }
       }
      },
      "text/html": [
       "<div id=\"6ca51d14-4426-46dc-9ce8-ba109fddb708\" style=\"height: 400px; width: 800px;\" class=\"plotly-graph-div\"></div><script type=\"text/javascript\">require([\"plotly\"], function(Plotly) { window.PLOTLYENV=window.PLOTLYENV || {};window.PLOTLYENV.BASE_URL=\"https://plot.ly\";Plotly.newPlot(\"6ca51d14-4426-46dc-9ce8-ba109fddb708\", [{\"marker\": {\"color\": \"#1D62AE\", \"line\": {\"color\": \"#14A751\", \"width\": 1}}, \"x\": [\"VISA INFINITE\", \"VISA EMPRESARIAL\", \"VISA PLATINO\", \"CREDITO JOVEN\", \"VISA ORO\", \"VISA CLASICA\", \"MULTICREDITO\"], \"y\": [28.71923076923077, 28.032799999999998, 25.761153846153853, 22.257499999999997, 20.717307692307692, 17.927307692307693, 12.588076923076922], \"type\": \"bar\", \"uid\": \"bb04f16d-e808-4e30-9a6e-f195cb28862a\"}], {\"height\": 400, \"title\": {\"text\": \"Variaci\\u00f3n de Preferencia Promedio por Producto\"}, \"width\": 800, \"xaxis\": {\"showticklabels\": true, \"title\": {\"font\": {\"color\": \"#14A751\", \"family\": \"Myriad\", \"size\": 20}, \"text\": \"DESCRI_PRODUCTO\"}}, \"yaxis\": {\"title\": {\"font\": {\"color\": \"#14A751\", \"family\": \"Myriad\", \"size\": 20}, \"text\": \"mean_Porcentaje_Variacion (%)\"}}}, {\"showLink\": false, \"linkText\": \"Export to plot.ly\", \"plotlyServerURL\": \"https://plot.ly\"})});</script>"
      ],
      "text/vnd.plotly.v1+html": [
       "<div id=\"6ca51d14-4426-46dc-9ce8-ba109fddb708\" style=\"height: 400px; width: 800px;\" class=\"plotly-graph-div\"></div><script type=\"text/javascript\">require([\"plotly\"], function(Plotly) { window.PLOTLYENV=window.PLOTLYENV || {};window.PLOTLYENV.BASE_URL=\"https://plot.ly\";Plotly.newPlot(\"6ca51d14-4426-46dc-9ce8-ba109fddb708\", [{\"marker\": {\"color\": \"#1D62AE\", \"line\": {\"color\": \"#14A751\", \"width\": 1}}, \"x\": [\"VISA INFINITE\", \"VISA EMPRESARIAL\", \"VISA PLATINO\", \"CREDITO JOVEN\", \"VISA ORO\", \"VISA CLASICA\", \"MULTICREDITO\"], \"y\": [28.71923076923077, 28.032799999999998, 25.761153846153853, 22.257499999999997, 20.717307692307692, 17.927307692307693, 12.588076923076922], \"type\": \"bar\", \"uid\": \"bb04f16d-e808-4e30-9a6e-f195cb28862a\"}], {\"height\": 400, \"title\": {\"text\": \"Variaci\\u00f3n de Preferencia Promedio por Producto\"}, \"width\": 800, \"xaxis\": {\"showticklabels\": true, \"title\": {\"font\": {\"color\": \"#14A751\", \"family\": \"Myriad\", \"size\": 20}, \"text\": \"DESCRI_PRODUCTO\"}}, \"yaxis\": {\"title\": {\"font\": {\"color\": \"#14A751\", \"family\": \"Myriad\", \"size\": 20}, \"text\": \"mean_Porcentaje_Variacion (%)\"}}}, {\"showLink\": false, \"linkText\": \"Export to plot.ly\", \"plotlyServerURL\": \"https://plot.ly\"})});</script>"
      ]
     },
     "metadata": {},
     "output_type": "display_data"
    }
   ],
   "source": [
    "bar_plotly(dataframe=producto_desviacion_promedio,dim=\"DESCRI_PRODUCTO\",value=\"mean_Porcentaje_Variacion (%)\"\n",
    "           ,title=\"Variación de Preferencia Promedio por Producto\",show_text=True)"
   ]
  },
  {
   "cell_type": "code",
   "execution_count": 48,
   "metadata": {
    "slideshow": {
     "slide_type": "skip"
    }
   },
   "outputs": [
    {
     "data": {
      "text/html": [
       "<div>\n",
       "<style scoped>\n",
       "    .dataframe tbody tr th:only-of-type {\n",
       "        vertical-align: middle;\n",
       "    }\n",
       "\n",
       "    .dataframe tbody tr th {\n",
       "        vertical-align: top;\n",
       "    }\n",
       "\n",
       "    .dataframe thead th {\n",
       "        text-align: right;\n",
       "    }\n",
       "</style>\n",
       "<table border=\"1\" class=\"dataframe\">\n",
       "  <thead>\n",
       "    <tr style=\"text-align: right;\">\n",
       "      <th></th>\n",
       "      <th>Categoria_Agrupada</th>\n",
       "      <th>Preferencias_Cantidad</th>\n",
       "      <th>Preferencias_Recencia</th>\n",
       "      <th>Preferencias_Termometro</th>\n",
       "      <th>Preferencias_Valor</th>\n",
       "      <th>Preferencias_RFM</th>\n",
       "      <th>Promedio</th>\n",
       "      <th>Desviacion</th>\n",
       "      <th>Porcentaje_Variacion (%)</th>\n",
       "    </tr>\n",
       "  </thead>\n",
       "  <tbody>\n",
       "    <tr>\n",
       "      <th>0</th>\n",
       "      <td>Articulos de Oficina</td>\n",
       "      <td>274</td>\n",
       "      <td>443</td>\n",
       "      <td>282</td>\n",
       "      <td>379.0</td>\n",
       "      <td>275</td>\n",
       "      <td>330.6</td>\n",
       "      <td>76.865467</td>\n",
       "      <td>23.25</td>\n",
       "    </tr>\n",
       "    <tr>\n",
       "      <th>1</th>\n",
       "      <td>Cine y Peliculas</td>\n",
       "      <td>472</td>\n",
       "      <td>654</td>\n",
       "      <td>350</td>\n",
       "      <td>214.0</td>\n",
       "      <td>258</td>\n",
       "      <td>389.6</td>\n",
       "      <td>177.777389</td>\n",
       "      <td>45.63</td>\n",
       "    </tr>\n",
       "    <tr>\n",
       "      <th>2</th>\n",
       "      <td>Comida Rapida</td>\n",
       "      <td>8584</td>\n",
       "      <td>10149</td>\n",
       "      <td>7381</td>\n",
       "      <td>3117.0</td>\n",
       "      <td>5278</td>\n",
       "      <td>6901.8</td>\n",
       "      <td>2764.289004</td>\n",
       "      <td>40.05</td>\n",
       "    </tr>\n",
       "    <tr>\n",
       "      <th>3</th>\n",
       "      <td>Ferreterias y Hogar</td>\n",
       "      <td>5772</td>\n",
       "      <td>6921</td>\n",
       "      <td>5817</td>\n",
       "      <td>7737.0</td>\n",
       "      <td>6408</td>\n",
       "      <td>6531.0</td>\n",
       "      <td>822.730515</td>\n",
       "      <td>12.60</td>\n",
       "    </tr>\n",
       "    <tr>\n",
       "      <th>4</th>\n",
       "      <td>Gasolineras y Vehiculos</td>\n",
       "      <td>24508</td>\n",
       "      <td>26663</td>\n",
       "      <td>23940</td>\n",
       "      <td>21009.0</td>\n",
       "      <td>23143</td>\n",
       "      <td>23852.6</td>\n",
       "      <td>2057.008094</td>\n",
       "      <td>8.62</td>\n",
       "    </tr>\n",
       "  </tbody>\n",
       "</table>\n",
       "</div>"
      ],
      "text/plain": [
       "        Categoria_Agrupada  Preferencias_Cantidad  Preferencias_Recencia  \\\n",
       "0     Articulos de Oficina                    274                    443   \n",
       "1         Cine y Peliculas                    472                    654   \n",
       "2            Comida Rapida                   8584                  10149   \n",
       "3      Ferreterias y Hogar                   5772                   6921   \n",
       "4  Gasolineras y Vehiculos                  24508                  26663   \n",
       "\n",
       "   Preferencias_Termometro  Preferencias_Valor  Preferencias_RFM  Promedio  \\\n",
       "0                      282               379.0               275     330.6   \n",
       "1                      350               214.0               258     389.6   \n",
       "2                     7381              3117.0              5278    6901.8   \n",
       "3                     5817              7737.0              6408    6531.0   \n",
       "4                    23940             21009.0             23143   23852.6   \n",
       "\n",
       "    Desviacion  Porcentaje_Variacion (%)  \n",
       "0    76.865467                     23.25  \n",
       "1   177.777389                     45.63  \n",
       "2  2764.289004                     40.05  \n",
       "3   822.730515                     12.60  \n",
       "4  2057.008094                      8.62  "
      ]
     },
     "execution_count": 48,
     "metadata": {},
     "output_type": "execute_result"
    }
   ],
   "source": [
    "categoria_value_counts = crear_estadisticas_value_counts(value_counts_df, preferencias_counts_cols\n",
    "                                                         ,grouping_col = \"Categoria_Agrupada\")\n",
    "categoria_value_counts.head()"
   ]
  },
  {
   "cell_type": "code",
   "execution_count": 49,
   "metadata": {
    "slideshow": {
     "slide_type": "subslide"
    }
   },
   "outputs": [
    {
     "data": {
      "application/vnd.plotly.v1+json": {
       "config": {
        "linkText": "Export to plot.ly",
        "plotlyServerURL": "https://plot.ly",
        "showLink": false
       },
       "data": [
        {
         "marker": {
          "color": "#1D62AE",
          "line": {
           "color": "#14A751",
           "width": 1
          }
         },
         "type": "bar",
         "uid": "ff966f01-d1fa-4ea9-afed-cf66c1e6368f",
         "x": [
          "Cine y Peliculas",
          "Comida Rapida",
          "Servicios Educativos",
          "Servicios de Construccion y Decoracion",
          "Hoteles Moteles Resorts",
          "Servicios de Transporte y Viajes",
          "Instituciones Financieras y Aseguradoras",
          "Ventas y Servicios de Equipos Electricos",
          "Musica",
          "Articulos de Oficina",
          "Servicios de Textiles e Imprenta",
          "Vida Nocturna",
          "Otros Servicios",
          "Servicios Agropecuarios",
          "Ferreterias y Hogar",
          "Licores",
          "Restaurantes",
          "Servicio Personales (Deliveries, etc.)",
          "Gasolineras y Vehiculos",
          "Ropas",
          "Servicios de Salud, Belleza y Recreacion",
          "Tecnologia y Software",
          "Servicios de Comunicacion, Internet y Telecable",
          "Servicios Gubernamentales",
          "Tienda De Venta Especializada",
          "Supermercados y Alimentos"
         ],
         "y": [
          45.63,
          40.05,
          39.91,
          37.1,
          30.05,
          29.42,
          26.32,
          25.26,
          24.39,
          23.25,
          20.81,
          17.77,
          15.63,
          14.52,
          12.6,
          11.37,
          10.61,
          10.03,
          8.62,
          8.16,
          7.05,
          5.71,
          5.5,
          4.78,
          4.75,
          3.32
         ]
        }
       ],
       "layout": {
        "height": 400,
        "title": {
         "text": "Variación de Preferencia por Categoria"
        },
        "width": 800,
        "xaxis": {
         "showticklabels": true,
         "title": {
          "font": {
           "color": "#14A751",
           "family": "Myriad",
           "size": 20
          },
          "text": "Categoria_Agrupada"
         }
        },
        "yaxis": {
         "title": {
          "font": {
           "color": "#14A751",
           "family": "Myriad",
           "size": 20
          },
          "text": "Porcentaje_Variacion (%)"
         }
        }
       }
      },
      "text/html": [
       "<div id=\"21180e5a-50c0-4074-91c4-3817e8ba8db7\" style=\"height: 400px; width: 800px;\" class=\"plotly-graph-div\"></div><script type=\"text/javascript\">require([\"plotly\"], function(Plotly) { window.PLOTLYENV=window.PLOTLYENV || {};window.PLOTLYENV.BASE_URL=\"https://plot.ly\";Plotly.newPlot(\"21180e5a-50c0-4074-91c4-3817e8ba8db7\", [{\"marker\": {\"color\": \"#1D62AE\", \"line\": {\"color\": \"#14A751\", \"width\": 1}}, \"x\": [\"Cine y Peliculas\", \"Comida Rapida\", \"Servicios Educativos\", \"Servicios de Construccion y Decoracion\", \"Hoteles Moteles Resorts\", \"Servicios de Transporte y Viajes\", \"Instituciones Financieras y Aseguradoras\", \"Ventas y Servicios de Equipos Electricos\", \"Musica\", \"Articulos de Oficina\", \"Servicios de Textiles e Imprenta\", \"Vida Nocturna\", \"Otros Servicios\", \"Servicios Agropecuarios\", \"Ferreterias y Hogar\", \"Licores\", \"Restaurantes\", \"Servicio Personales (Deliveries, etc.)\", \"Gasolineras y Vehiculos\", \"Ropas\", \"Servicios de Salud, Belleza y Recreacion\", \"Tecnologia y Software\", \"Servicios de Comunicacion, Internet y Telecable\", \"Servicios Gubernamentales\", \"Tienda De Venta Especializada\", \"Supermercados y Alimentos\"], \"y\": [45.63, 40.05, 39.91, 37.1, 30.05, 29.42, 26.32, 25.26, 24.39, 23.25, 20.81, 17.77, 15.63, 14.52, 12.6, 11.37, 10.61, 10.03, 8.62, 8.16, 7.05, 5.71, 5.5, 4.78, 4.75, 3.32], \"type\": \"bar\", \"uid\": \"ff966f01-d1fa-4ea9-afed-cf66c1e6368f\"}], {\"height\": 400, \"title\": {\"text\": \"Variaci\\u00f3n de Preferencia por Categoria\"}, \"width\": 800, \"xaxis\": {\"showticklabels\": true, \"title\": {\"font\": {\"color\": \"#14A751\", \"family\": \"Myriad\", \"size\": 20}, \"text\": \"Categoria_Agrupada\"}}, \"yaxis\": {\"title\": {\"font\": {\"color\": \"#14A751\", \"family\": \"Myriad\", \"size\": 20}, \"text\": \"Porcentaje_Variacion (%)\"}}}, {\"showLink\": false, \"linkText\": \"Export to plot.ly\", \"plotlyServerURL\": \"https://plot.ly\"})});</script>"
      ],
      "text/vnd.plotly.v1+html": [
       "<div id=\"21180e5a-50c0-4074-91c4-3817e8ba8db7\" style=\"height: 400px; width: 800px;\" class=\"plotly-graph-div\"></div><script type=\"text/javascript\">require([\"plotly\"], function(Plotly) { window.PLOTLYENV=window.PLOTLYENV || {};window.PLOTLYENV.BASE_URL=\"https://plot.ly\";Plotly.newPlot(\"21180e5a-50c0-4074-91c4-3817e8ba8db7\", [{\"marker\": {\"color\": \"#1D62AE\", \"line\": {\"color\": \"#14A751\", \"width\": 1}}, \"x\": [\"Cine y Peliculas\", \"Comida Rapida\", \"Servicios Educativos\", \"Servicios de Construccion y Decoracion\", \"Hoteles Moteles Resorts\", \"Servicios de Transporte y Viajes\", \"Instituciones Financieras y Aseguradoras\", \"Ventas y Servicios de Equipos Electricos\", \"Musica\", \"Articulos de Oficina\", \"Servicios de Textiles e Imprenta\", \"Vida Nocturna\", \"Otros Servicios\", \"Servicios Agropecuarios\", \"Ferreterias y Hogar\", \"Licores\", \"Restaurantes\", \"Servicio Personales (Deliveries, etc.)\", \"Gasolineras y Vehiculos\", \"Ropas\", \"Servicios de Salud, Belleza y Recreacion\", \"Tecnologia y Software\", \"Servicios de Comunicacion, Internet y Telecable\", \"Servicios Gubernamentales\", \"Tienda De Venta Especializada\", \"Supermercados y Alimentos\"], \"y\": [45.63, 40.05, 39.91, 37.1, 30.05, 29.42, 26.32, 25.26, 24.39, 23.25, 20.81, 17.77, 15.63, 14.52, 12.6, 11.37, 10.61, 10.03, 8.62, 8.16, 7.05, 5.71, 5.5, 4.78, 4.75, 3.32], \"type\": \"bar\", \"uid\": \"ff966f01-d1fa-4ea9-afed-cf66c1e6368f\"}], {\"height\": 400, \"title\": {\"text\": \"Variaci\\u00f3n de Preferencia por Categoria\"}, \"width\": 800, \"xaxis\": {\"showticklabels\": true, \"title\": {\"font\": {\"color\": \"#14A751\", \"family\": \"Myriad\", \"size\": 20}, \"text\": \"Categoria_Agrupada\"}}, \"yaxis\": {\"title\": {\"font\": {\"color\": \"#14A751\", \"family\": \"Myriad\", \"size\": 20}, \"text\": \"Porcentaje_Variacion (%)\"}}}, {\"showLink\": false, \"linkText\": \"Export to plot.ly\", \"plotlyServerURL\": \"https://plot.ly\"})});</script>"
      ]
     },
     "metadata": {},
     "output_type": "display_data"
    }
   ],
   "source": [
    "bar_plotly(dataframe=categoria_value_counts,dim=\"Categoria_Agrupada\",value=\"Porcentaje_Variacion (%)\"\n",
    "           ,title=\"Variación de Preferencia por Categoria\",show_text=True)"
   ]
  },
  {
   "cell_type": "markdown",
   "metadata": {
    "slideshow": {
     "slide_type": "subslide"
    }
   },
   "source": [
    "Las categorias de mayor variación son por altas cantidades o recencia y montos bajos, como *Cine y Peliculas*, *Comida Rapida*, o viceversa como *Servicios Educativos* y *Servicios de Construcción*.  Son más volatiles a la hora de determinar la preferencia, por esto se usa una combinación de las metricas."
   ]
  },
  {
   "cell_type": "markdown",
   "metadata": {
    "slideshow": {
     "slide_type": "slide"
    }
   },
   "source": [
    "## Promedio Preferencias por Categoria"
   ]
  },
  {
   "cell_type": "markdown",
   "metadata": {
    "slideshow": {
     "slide_type": "subslide"
    }
   },
   "source": [
    "A continuación, fueron creados algunos graficos para visualizar las preferencias por categoria y tipo de tarjeta. Las cantidades fueron determinadas según el promedio de cantidad de clientes entre metricas. Aunque no puede ser usado para preferencias puntuales a clientes, si pueden ser utilizados con fines de análisis."
   ]
  },
  {
   "cell_type": "code",
   "execution_count": 50,
   "metadata": {
    "slideshow": {
     "slide_type": "subslide"
    }
   },
   "outputs": [
    {
     "data": {
      "application/vnd.plotly.v1+json": {
       "config": {
        "linkText": "Export to plot.ly",
        "plotlyServerURL": "https://plot.ly",
        "showLink": false
       },
       "data": [
        {
         "marker": {
          "color": "#1D62AE",
          "line": {
           "color": "#14A751",
           "width": 1
          }
         },
         "type": "bar",
         "uid": "10e3e1e5-1df8-4693-bb84-b0abdd08d365",
         "x": [
          "Supermercados y Alimentos",
          "Gasolineras y Vehiculos",
          "Servicios de Salud, Belleza y Recreacion",
          "Tienda De Venta Especializada",
          "Servicios de Comunicacion, Internet y Telecable",
          "Ropas",
          "Comida Rapida",
          "Ferreterias y Hogar",
          "Servicios Gubernamentales",
          "Restaurantes",
          "Servicios de Transporte y Viajes",
          "Servicios Educativos",
          "Otros Servicios",
          "Instituciones Financieras y Aseguradoras",
          "Licores",
          "Musica",
          "Ventas y Servicios de Equipos Electricos",
          "Hoteles Moteles Resorts",
          "Vida Nocturna",
          "Tecnologia y Software",
          "Cine y Peliculas",
          "Articulos de Oficina",
          "Servicios Agropecuarios",
          "Servicio Personales (Deliveries, etc.)",
          "Servicios de Construccion y Decoracion",
          "Servicios de Textiles e Imprenta"
         ],
         "y": [
          39789.4,
          23852.6,
          13070.4,
          13007.6,
          12435.2,
          10897,
          6901.8,
          6531,
          6439.4,
          5068.4,
          3077.4,
          2047.8,
          1704,
          1423.8,
          1300.6,
          1187,
          1013.4,
          955.8,
          793.8,
          716.2,
          389.6,
          330.6,
          201.6,
          158,
          95.4,
          59.4
         ]
        }
       ],
       "layout": {
        "height": 400,
        "title": {
         "text": "Promedio de Preferencias de Clientes por Categoria"
        },
        "width": 800,
        "xaxis": {
         "showticklabels": true,
         "title": {
          "font": {
           "color": "#14A751",
           "family": "Myriad",
           "size": 20
          },
          "text": "Categoria_Agrupada"
         }
        },
        "yaxis": {
         "title": {
          "font": {
           "color": "#14A751",
           "family": "Myriad",
           "size": 20
          },
          "text": "Promedio"
         }
        }
       }
      },
      "text/html": [
       "<div id=\"dcf9494a-827a-4401-9a77-660722da3ed0\" style=\"height: 400px; width: 800px;\" class=\"plotly-graph-div\"></div><script type=\"text/javascript\">require([\"plotly\"], function(Plotly) { window.PLOTLYENV=window.PLOTLYENV || {};window.PLOTLYENV.BASE_URL=\"https://plot.ly\";Plotly.newPlot(\"dcf9494a-827a-4401-9a77-660722da3ed0\", [{\"marker\": {\"color\": \"#1D62AE\", \"line\": {\"color\": \"#14A751\", \"width\": 1}}, \"x\": [\"Supermercados y Alimentos\", \"Gasolineras y Vehiculos\", \"Servicios de Salud, Belleza y Recreacion\", \"Tienda De Venta Especializada\", \"Servicios de Comunicacion, Internet y Telecable\", \"Ropas\", \"Comida Rapida\", \"Ferreterias y Hogar\", \"Servicios Gubernamentales\", \"Restaurantes\", \"Servicios de Transporte y Viajes\", \"Servicios Educativos\", \"Otros Servicios\", \"Instituciones Financieras y Aseguradoras\", \"Licores\", \"Musica\", \"Ventas y Servicios de Equipos Electricos\", \"Hoteles Moteles Resorts\", \"Vida Nocturna\", \"Tecnologia y Software\", \"Cine y Peliculas\", \"Articulos de Oficina\", \"Servicios Agropecuarios\", \"Servicio Personales (Deliveries, etc.)\", \"Servicios de Construccion y Decoracion\", \"Servicios de Textiles e Imprenta\"], \"y\": [39789.4, 23852.6, 13070.4, 13007.6, 12435.2, 10897.0, 6901.8, 6531.0, 6439.4, 5068.4, 3077.4, 2047.8, 1704.0, 1423.8, 1300.6, 1187.0, 1013.4, 955.8, 793.8, 716.2, 389.6, 330.6, 201.6, 158.0, 95.4, 59.4], \"type\": \"bar\", \"uid\": \"10e3e1e5-1df8-4693-bb84-b0abdd08d365\"}], {\"height\": 400, \"title\": {\"text\": \"Promedio de Preferencias de Clientes por Categoria\"}, \"width\": 800, \"xaxis\": {\"showticklabels\": true, \"title\": {\"font\": {\"color\": \"#14A751\", \"family\": \"Myriad\", \"size\": 20}, \"text\": \"Categoria_Agrupada\"}}, \"yaxis\": {\"title\": {\"font\": {\"color\": \"#14A751\", \"family\": \"Myriad\", \"size\": 20}, \"text\": \"Promedio\"}}}, {\"showLink\": false, \"linkText\": \"Export to plot.ly\", \"plotlyServerURL\": \"https://plot.ly\"})});</script>"
      ],
      "text/vnd.plotly.v1+html": [
       "<div id=\"dcf9494a-827a-4401-9a77-660722da3ed0\" style=\"height: 400px; width: 800px;\" class=\"plotly-graph-div\"></div><script type=\"text/javascript\">require([\"plotly\"], function(Plotly) { window.PLOTLYENV=window.PLOTLYENV || {};window.PLOTLYENV.BASE_URL=\"https://plot.ly\";Plotly.newPlot(\"dcf9494a-827a-4401-9a77-660722da3ed0\", [{\"marker\": {\"color\": \"#1D62AE\", \"line\": {\"color\": \"#14A751\", \"width\": 1}}, \"x\": [\"Supermercados y Alimentos\", \"Gasolineras y Vehiculos\", \"Servicios de Salud, Belleza y Recreacion\", \"Tienda De Venta Especializada\", \"Servicios de Comunicacion, Internet y Telecable\", \"Ropas\", \"Comida Rapida\", \"Ferreterias y Hogar\", \"Servicios Gubernamentales\", \"Restaurantes\", \"Servicios de Transporte y Viajes\", \"Servicios Educativos\", \"Otros Servicios\", \"Instituciones Financieras y Aseguradoras\", \"Licores\", \"Musica\", \"Ventas y Servicios de Equipos Electricos\", \"Hoteles Moteles Resorts\", \"Vida Nocturna\", \"Tecnologia y Software\", \"Cine y Peliculas\", \"Articulos de Oficina\", \"Servicios Agropecuarios\", \"Servicio Personales (Deliveries, etc.)\", \"Servicios de Construccion y Decoracion\", \"Servicios de Textiles e Imprenta\"], \"y\": [39789.4, 23852.6, 13070.4, 13007.6, 12435.2, 10897.0, 6901.8, 6531.0, 6439.4, 5068.4, 3077.4, 2047.8, 1704.0, 1423.8, 1300.6, 1187.0, 1013.4, 955.8, 793.8, 716.2, 389.6, 330.6, 201.6, 158.0, 95.4, 59.4], \"type\": \"bar\", \"uid\": \"10e3e1e5-1df8-4693-bb84-b0abdd08d365\"}], {\"height\": 400, \"title\": {\"text\": \"Promedio de Preferencias de Clientes por Categoria\"}, \"width\": 800, \"xaxis\": {\"showticklabels\": true, \"title\": {\"font\": {\"color\": \"#14A751\", \"family\": \"Myriad\", \"size\": 20}, \"text\": \"Categoria_Agrupada\"}}, \"yaxis\": {\"title\": {\"font\": {\"color\": \"#14A751\", \"family\": \"Myriad\", \"size\": 20}, \"text\": \"Promedio\"}}}, {\"showLink\": false, \"linkText\": \"Export to plot.ly\", \"plotlyServerURL\": \"https://plot.ly\"})});</script>"
      ]
     },
     "metadata": {},
     "output_type": "display_data"
    }
   ],
   "source": [
    "bar_plotly(dataframe=categoria_value_counts,dim=\"Categoria_Agrupada\",value=\"Promedio\"\n",
    "           ,title=\"Promedio de Preferencias de Clientes por Categoria\",show_text=True)"
   ]
  },
  {
   "cell_type": "markdown",
   "metadata": {
    "slideshow": {
     "slide_type": "subslide"
    }
   },
   "source": [
    "Las categorias más populares son **Supermercados y Alimentos** y **Gasolineras y Vehiculos**. Estas categorias engloban necesidades del día a día de casi todo el mundo. Otra categorias populares son **Tienda De Venta Especializada** que captura las compras en línea como en Amazon y **Servicios de Salud, Belleza y Recreación** que incluye servicios de salud como clinicas, gimnasios, salones de belleza y más. Veamos estos promedios por tipo de tarjeta:"
   ]
  },
  {
   "cell_type": "code",
   "execution_count": 51,
   "metadata": {
    "slideshow": {
     "slide_type": "skip"
    }
   },
   "outputs": [],
   "source": [
    "tipos_tarjetas = [\"Visa Clasica\",\"Visa Oro\",\"Visa Platino\",\"Visa Infinite\",\"Visa Empresarial\", \"Credito Joven\",\n",
    "                 \"Multicredito\"]\n",
    "tipos_tarjetas_upper = [t.upper() for t in tipos_tarjetas]\n",
    "plot_titles = [\"Porcentaje de Pertenencia por Categoria,\" + t for t in tipos_tarjetas]"
   ]
  },
  {
   "cell_type": "code",
   "execution_count": 52,
   "metadata": {
    "slideshow": {
     "slide_type": "skip"
    }
   },
   "outputs": [],
   "source": [
    "def bar_plotly_categoria_tipo_tarjeta(value_counts_df,tipo_tarjeta,plot_col,plot_title):\n",
    "    count_tarjeta = value_counts_df.loc[value_counts_df.DESCRI_PRODUCTO == tipo_tarjeta]\n",
    "    bar_plotly(dataframe=count_tarjeta,dim=\"Categoria_Agrupada\",value=plot_col\n",
    "           ,title=plot_title,show_text=True)"
   ]
  },
  {
   "cell_type": "code",
   "execution_count": 53,
   "metadata": {
    "slideshow": {
     "slide_type": "slide"
    }
   },
   "outputs": [
    {
     "data": {
      "application/vnd.jupyter.widget-view+json": {
       "model_id": "fc96d5ec7b1c4646a7d29e197641de35",
       "version_major": 2,
       "version_minor": 0
      },
      "text/plain": [
       "interactive(children=(Dropdown(description='tipo_tarjeta', options=('VISA CLASICA', 'VISA ORO', 'VISA PLATINO'…"
      ]
     },
     "metadata": {},
     "output_type": "display_data"
    }
   ],
   "source": [
    "@interact \n",
    "def bar_promedio_preferencia_tarjeta(tipo_tarjeta=tipos_tarjetas_upper):\n",
    "    bar_plotly_categoria_tipo_tarjeta(value_counts_df,tipo_tarjeta,\"Promedio\",\"Promedio de Preferencia por Categoria\")"
   ]
  },
  {
   "cell_type": "markdown",
   "metadata": {
    "slideshow": {
     "slide_type": "slide"
    }
   },
   "source": [
    "## Porcentaje de Pertenencia de Preferencias Por Categoria Por Tarjeta"
   ]
  },
  {
   "cell_type": "markdown",
   "metadata": {
    "slideshow": {
     "slide_type": "subslide"
    }
   },
   "source": [
    "Para distinguir mejor las diferencias entre tipos de tarjeta, tambien fue calculado el porcentaje de las preferencias de cada categoria por tipo de tarjeta. Esto ayuda a determinar categorias sobresalientes en cada tipo de tarjeta."
   ]
  },
  {
   "cell_type": "code",
   "execution_count": 54,
   "metadata": {
    "slideshow": {
     "slide_type": "skip"
    }
   },
   "outputs": [
    {
     "data": {
      "text/html": [
       "<div>\n",
       "<style scoped>\n",
       "    .dataframe tbody tr th:only-of-type {\n",
       "        vertical-align: middle;\n",
       "    }\n",
       "\n",
       "    .dataframe tbody tr th {\n",
       "        vertical-align: top;\n",
       "    }\n",
       "\n",
       "    .dataframe thead th {\n",
       "        text-align: right;\n",
       "    }\n",
       "</style>\n",
       "<table border=\"1\" class=\"dataframe\">\n",
       "  <thead>\n",
       "    <tr style=\"text-align: right;\">\n",
       "      <th></th>\n",
       "      <th>Categoria_Agrupada</th>\n",
       "      <th>DESCRI_PRODUCTO</th>\n",
       "      <th>Preferencias_Cantidad</th>\n",
       "      <th>Preferencias_Recencia</th>\n",
       "      <th>Preferencias_Termometro</th>\n",
       "      <th>Preferencias_Valor</th>\n",
       "      <th>Preferencias_RFM</th>\n",
       "      <th>Promedio</th>\n",
       "      <th>Desviacion</th>\n",
       "      <th>Porcentaje_Variacion (%)</th>\n",
       "      <th>Porcentaje_Total_Categoria (%)</th>\n",
       "    </tr>\n",
       "  </thead>\n",
       "  <tbody>\n",
       "    <tr>\n",
       "      <th>0</th>\n",
       "      <td>Articulos de Oficina</td>\n",
       "      <td>CREDITO JOVEN</td>\n",
       "      <td>6</td>\n",
       "      <td>12</td>\n",
       "      <td>3</td>\n",
       "      <td>7.0</td>\n",
       "      <td>5</td>\n",
       "      <td>6</td>\n",
       "      <td>3.361547</td>\n",
       "      <td>56.03</td>\n",
       "      <td>1.83</td>\n",
       "    </tr>\n",
       "    <tr>\n",
       "      <th>1</th>\n",
       "      <td>Articulos de Oficina</td>\n",
       "      <td>VISA EMPRESARIAL</td>\n",
       "      <td>14</td>\n",
       "      <td>11</td>\n",
       "      <td>12</td>\n",
       "      <td>13.0</td>\n",
       "      <td>8</td>\n",
       "      <td>11</td>\n",
       "      <td>2.302173</td>\n",
       "      <td>20.93</td>\n",
       "      <td>3.36</td>\n",
       "    </tr>\n",
       "    <tr>\n",
       "      <th>2</th>\n",
       "      <td>Articulos de Oficina</td>\n",
       "      <td>VISA ORO</td>\n",
       "      <td>42</td>\n",
       "      <td>75</td>\n",
       "      <td>41</td>\n",
       "      <td>64.0</td>\n",
       "      <td>40</td>\n",
       "      <td>52</td>\n",
       "      <td>16.102795</td>\n",
       "      <td>30.97</td>\n",
       "      <td>15.90</td>\n",
       "    </tr>\n",
       "    <tr>\n",
       "      <th>3</th>\n",
       "      <td>Articulos de Oficina</td>\n",
       "      <td>VISA CLASICA</td>\n",
       "      <td>131</td>\n",
       "      <td>204</td>\n",
       "      <td>123</td>\n",
       "      <td>160.0</td>\n",
       "      <td>127</td>\n",
       "      <td>149</td>\n",
       "      <td>34.022052</td>\n",
       "      <td>22.83</td>\n",
       "      <td>45.57</td>\n",
       "    </tr>\n",
       "    <tr>\n",
       "      <th>4</th>\n",
       "      <td>Articulos de Oficina</td>\n",
       "      <td>VISA PLATINO</td>\n",
       "      <td>42</td>\n",
       "      <td>84</td>\n",
       "      <td>57</td>\n",
       "      <td>87.0</td>\n",
       "      <td>58</td>\n",
       "      <td>65</td>\n",
       "      <td>19.269146</td>\n",
       "      <td>29.64</td>\n",
       "      <td>19.88</td>\n",
       "    </tr>\n",
       "  </tbody>\n",
       "</table>\n",
       "</div>"
      ],
      "text/plain": [
       "     Categoria_Agrupada   DESCRI_PRODUCTO  Preferencias_Cantidad  \\\n",
       "0  Articulos de Oficina     CREDITO JOVEN                      6   \n",
       "1  Articulos de Oficina  VISA EMPRESARIAL                     14   \n",
       "2  Articulos de Oficina          VISA ORO                     42   \n",
       "3  Articulos de Oficina      VISA CLASICA                    131   \n",
       "4  Articulos de Oficina      VISA PLATINO                     42   \n",
       "\n",
       "   Preferencias_Recencia  Preferencias_Termometro  Preferencias_Valor  \\\n",
       "0                     12                        3                 7.0   \n",
       "1                     11                       12                13.0   \n",
       "2                     75                       41                64.0   \n",
       "3                    204                      123               160.0   \n",
       "4                     84                       57                87.0   \n",
       "\n",
       "   Preferencias_RFM  Promedio  Desviacion  Porcentaje_Variacion (%)  \\\n",
       "0                 5         6    3.361547                     56.03   \n",
       "1                 8        11    2.302173                     20.93   \n",
       "2                40        52   16.102795                     30.97   \n",
       "3               127       149   34.022052                     22.83   \n",
       "4                58        65   19.269146                     29.64   \n",
       "\n",
       "   Porcentaje_Total_Categoria (%)  \n",
       "0                            1.83  \n",
       "1                            3.36  \n",
       "2                           15.90  \n",
       "3                           45.57  \n",
       "4                           19.88  "
      ]
     },
     "execution_count": 54,
     "metadata": {},
     "output_type": "execute_result"
    }
   ],
   "source": [
    "value_counts_df = value_counts_df.sort_values(by=\"Categoria_Agrupada\").set_index(\"Categoria_Agrupada\")\n",
    "value_counts_categoria_total_promedio = value_counts_df.groupby(\"Categoria_Agrupada\")[\"Promedio\"].sum()\n",
    "value_counts_categoria_total_promedio\n",
    "value_counts_df[\"Porcentaje_Total_Categoria (%)\"] = (value_counts_df[\"Promedio\"] \n",
    "                                                              / value_counts_categoria_total_promedio * 100\n",
    "                                                    ).round(2)\n",
    "value_counts_df = value_counts_df.reset_index()\n",
    "value_counts_df.head()"
   ]
  },
  {
   "cell_type": "code",
   "execution_count": 55,
   "metadata": {
    "slideshow": {
     "slide_type": "subslide"
    }
   },
   "outputs": [
    {
     "data": {
      "application/vnd.jupyter.widget-view+json": {
       "model_id": "90729d4986854bbabe47b79ab77c1144",
       "version_major": 2,
       "version_minor": 0
      },
      "text/plain": [
       "interactive(children=(Dropdown(description='tipos_tarjetas_upper', options=('VISA CLASICA', 'VISA ORO', 'VISA …"
      ]
     },
     "metadata": {},
     "output_type": "display_data"
    }
   ],
   "source": [
    "@interact\n",
    "def bar_porcentaje_categoria_tarjeta(tipos_tarjetas_upper=tipos_tarjetas_upper):\n",
    "    bar_plotly_categoria_tipo_tarjeta(value_counts_df,tipos_tarjetas_upper,\"Porcentaje_Total_Categoria (%)\"\n",
    "                                  ,\"Porcentaje de Pertenecia por Categoria\")"
   ]
  },
  {
   "cell_type": "markdown",
   "metadata": {
    "slideshow": {
     "slide_type": "slide"
    }
   },
   "source": [
    "# Asignación de Preferencias por Cliente"
   ]
  },
  {
   "cell_type": "markdown",
   "metadata": {
    "slideshow": {
     "slide_type": "subslide"
    }
   },
   "source": [
    "Como fue mencionado anteriormente, se utilizó la metrica del RFM para determinar las categorias de comercio finales preferentes de un cliente. Esta vez, se ignora totalmente el tipo de producto, y se concentra totalmente en el cliente."
   ]
  },
  {
   "cell_type": "code",
   "execution_count": 56,
   "metadata": {
    "slideshow": {
     "slide_type": "skip"
    }
   },
   "outputs": [],
   "source": [
    "def conseguir_top_n_comercios_por_cliente_rfm(transacciones,\n",
    "                                                   interes_group=[\"Codigo_Cliente\",\"Categoria_Agrupada\"]):\n",
    "    transacciones_agrupadas = transacciones.groupby(interes_group)[valores_medida].sum().reset_index()\n",
    "    transacciones_agrupadas['Recencia'] = transacciones.groupby(interes_group)['Recencia'].max().reset_index()['Recencia']\n",
    "    transacciones_agrupadas['Score_RFM'] = crear_score_RFM(transacciones_agrupadas) \n",
    "    top_n_comercios_rfm = get_top_n_comercios_medida(transacciones_agrupadas,'Score_RFM')\n",
    "    return top_n_comercios_rfm\n",
    "\n"
   ]
  },
  {
   "cell_type": "code",
   "execution_count": 57,
   "metadata": {
    "slideshow": {
     "slide_type": "skip"
    }
   },
   "outputs": [],
   "source": [
    "identificador_group = ['Codigo_Cliente']\n",
    "top_n_comercios_rfm_cliente = conseguir_top_n_comercios_por_cliente_rfm(transacciones)\n",
    "qgrid_preferencias_cliente = qgrid.show_grid(top_n_comercios_rfm_cliente[['Codigo_Cliente','Categoria_Agrupada',\n",
    "                                                                         'Score_RFM']])"
   ]
  },
  {
   "cell_type": "code",
   "execution_count": 58,
   "metadata": {
    "slideshow": {
     "slide_type": "subslide"
    }
   },
   "outputs": [
    {
     "data": {
      "application/vnd.jupyter.widget-view+json": {
       "model_id": "2abd9216e12f435eae3fd74ed08a6f4d",
       "version_major": 2,
       "version_minor": 0
      },
      "text/plain": [
       "QgridWidget(grid_options={'fullWidthRows': True, 'syncColumnCellResize': True, 'forceFitColumns': True, 'defau…"
      ]
     },
     "metadata": {},
     "output_type": "display_data"
    }
   ],
   "source": [
    "qgrid_preferencias_cliente"
   ]
  },
  {
   "cell_type": "markdown",
   "metadata": {
    "slideshow": {
     "slide_type": "slide"
    }
   },
   "source": [
    "# Visualización RFM"
   ]
  },
  {
   "cell_type": "markdown",
   "metadata": {
    "slideshow": {
     "slide_type": "subslide"
    }
   },
   "source": [
    "Con los pesos de Recencia, Frecuencia y Valor Monetario de las categorias de comercio, procedimos a crear visualizaciones que mostraran, tanto para los comercios como para los clientes, su valor completo para el negocio según su transaccionalidad por tarjeta. Primero, RFM por categoria de Comercio."
   ]
  },
  {
   "cell_type": "code",
   "execution_count": 59,
   "metadata": {
    "slideshow": {
     "slide_type": "skip"
    }
   },
   "outputs": [
    {
     "data": {
      "text/html": [
       "<div>\n",
       "<style scoped>\n",
       "    .dataframe tbody tr th:only-of-type {\n",
       "        vertical-align: middle;\n",
       "    }\n",
       "\n",
       "    .dataframe tbody tr th {\n",
       "        vertical-align: top;\n",
       "    }\n",
       "\n",
       "    .dataframe thead th {\n",
       "        text-align: right;\n",
       "    }\n",
       "</style>\n",
       "<table border=\"1\" class=\"dataframe\">\n",
       "  <thead>\n",
       "    <tr style=\"text-align: right;\">\n",
       "      <th></th>\n",
       "      <th>Categoria_Agrupada</th>\n",
       "      <th>Cantidad_RFM</th>\n",
       "      <th>Valor_Monetario_RFM</th>\n",
       "      <th>Recencia</th>\n",
       "      <th>Cantidad_Clientes</th>\n",
       "    </tr>\n",
       "  </thead>\n",
       "  <tbody>\n",
       "    <tr>\n",
       "      <th>0</th>\n",
       "      <td>Alquiler de Automoviles</td>\n",
       "      <td>1.133333</td>\n",
       "      <td>7.133333</td>\n",
       "      <td>6.133333</td>\n",
       "      <td>0.0</td>\n",
       "    </tr>\n",
       "    <tr>\n",
       "      <th>1</th>\n",
       "      <td>Articulos de Oficina</td>\n",
       "      <td>2.252874</td>\n",
       "      <td>4.905492</td>\n",
       "      <td>6.708812</td>\n",
       "      <td>261.0</td>\n",
       "    </tr>\n",
       "    <tr>\n",
       "      <th>2</th>\n",
       "      <td>Cine y Peliculas</td>\n",
       "      <td>1.889518</td>\n",
       "      <td>2.436084</td>\n",
       "      <td>6.291254</td>\n",
       "      <td>247.0</td>\n",
       "    </tr>\n",
       "    <tr>\n",
       "      <th>3</th>\n",
       "      <td>Comida Rapida</td>\n",
       "      <td>2.913375</td>\n",
       "      <td>3.694305</td>\n",
       "      <td>7.391586</td>\n",
       "      <td>4971.0</td>\n",
       "    </tr>\n",
       "    <tr>\n",
       "      <th>4</th>\n",
       "      <td>Ferreterias y Hogar</td>\n",
       "      <td>2.304384</td>\n",
       "      <td>5.746752</td>\n",
       "      <td>7.114073</td>\n",
       "      <td>5904.0</td>\n",
       "    </tr>\n",
       "  </tbody>\n",
       "</table>\n",
       "</div>"
      ],
      "text/plain": [
       "        Categoria_Agrupada  Cantidad_RFM  Valor_Monetario_RFM  Recencia  \\\n",
       "0  Alquiler de Automoviles      1.133333             7.133333  6.133333   \n",
       "1     Articulos de Oficina      2.252874             4.905492  6.708812   \n",
       "2         Cine y Peliculas      1.889518             2.436084  6.291254   \n",
       "3            Comida Rapida      2.913375             3.694305  7.391586   \n",
       "4      Ferreterias y Hogar      2.304384             5.746752  7.114073   \n",
       "\n",
       "   Cantidad_Clientes  \n",
       "0                0.0  \n",
       "1              261.0  \n",
       "2              247.0  \n",
       "3             4971.0  \n",
       "4             5904.0  "
      ]
     },
     "execution_count": 59,
     "metadata": {},
     "output_type": "execute_result"
    }
   ],
   "source": [
    "rfm_stats = transacciones_agrupadas.groupby('Categoria_Agrupada'\n",
    "                               )[['Cantidad_RFM','Valor_Monetario_RFM','Recencia']].mean()\n",
    "rfm_stats['Cantidad_Clientes'] = top_n_comercios_rfm_cliente.groupby('Categoria_Agrupada'\n",
    "                                                                    )['Codigo_Cliente'\n",
    "                                                                     ].count()\n",
    "rfm_stats['Cantidad_Clientes'] = rfm_stats['Cantidad_Clientes'].fillna(0)\n",
    "rfm_stats = rfm_stats.reset_index()\n",
    "rfm_stats.head()"
   ]
  },
  {
   "cell_type": "code",
   "execution_count": 60,
   "metadata": {
    "slideshow": {
     "slide_type": "skip"
    }
   },
   "outputs": [
    {
     "data": {
      "text/html": [
       "<div>\n",
       "<style scoped>\n",
       "    .dataframe tbody tr th:only-of-type {\n",
       "        vertical-align: middle;\n",
       "    }\n",
       "\n",
       "    .dataframe tbody tr th {\n",
       "        vertical-align: top;\n",
       "    }\n",
       "\n",
       "    .dataframe thead th {\n",
       "        text-align: right;\n",
       "    }\n",
       "</style>\n",
       "<table border=\"1\" class=\"dataframe\">\n",
       "  <thead>\n",
       "    <tr style=\"text-align: right;\">\n",
       "      <th></th>\n",
       "      <th>Categoria_Agrupada</th>\n",
       "      <th>Cantidad_RFM</th>\n",
       "      <th>Valor_Monetario_RFM</th>\n",
       "      <th>Recencia</th>\n",
       "      <th>Cantidad_Clientes</th>\n",
       "      <th>Texto_Plot</th>\n",
       "    </tr>\n",
       "  </thead>\n",
       "  <tbody>\n",
       "    <tr>\n",
       "      <th>0</th>\n",
       "      <td>Alquiler de Automoviles</td>\n",
       "      <td>1.133333</td>\n",
       "      <td>7.133333</td>\n",
       "      <td>6.133333</td>\n",
       "      <td>0.0</td>\n",
       "      <td>Categoria:Alquiler de Automoviles&lt;br&gt;RFM Canti...</td>\n",
       "    </tr>\n",
       "    <tr>\n",
       "      <th>1</th>\n",
       "      <td>Articulos de Oficina</td>\n",
       "      <td>2.252874</td>\n",
       "      <td>4.905492</td>\n",
       "      <td>6.708812</td>\n",
       "      <td>261.0</td>\n",
       "      <td>Categoria:Articulos de Oficina&lt;br&gt;RFM Cantidad...</td>\n",
       "    </tr>\n",
       "    <tr>\n",
       "      <th>2</th>\n",
       "      <td>Cine y Peliculas</td>\n",
       "      <td>1.889518</td>\n",
       "      <td>2.436084</td>\n",
       "      <td>6.291254</td>\n",
       "      <td>247.0</td>\n",
       "      <td>Categoria:Cine y Peliculas&lt;br&gt;RFM Cantidad:1.8...</td>\n",
       "    </tr>\n",
       "    <tr>\n",
       "      <th>3</th>\n",
       "      <td>Comida Rapida</td>\n",
       "      <td>2.913375</td>\n",
       "      <td>3.694305</td>\n",
       "      <td>7.391586</td>\n",
       "      <td>4971.0</td>\n",
       "      <td>Categoria:Comida Rapida&lt;br&gt;RFM Cantidad:2.91&lt;b...</td>\n",
       "    </tr>\n",
       "    <tr>\n",
       "      <th>4</th>\n",
       "      <td>Ferreterias y Hogar</td>\n",
       "      <td>2.304384</td>\n",
       "      <td>5.746752</td>\n",
       "      <td>7.114073</td>\n",
       "      <td>5904.0</td>\n",
       "      <td>Categoria:Ferreterias y Hogar&lt;br&gt;RFM Cantidad:...</td>\n",
       "    </tr>\n",
       "  </tbody>\n",
       "</table>\n",
       "</div>"
      ],
      "text/plain": [
       "        Categoria_Agrupada  Cantidad_RFM  Valor_Monetario_RFM  Recencia  \\\n",
       "0  Alquiler de Automoviles      1.133333             7.133333  6.133333   \n",
       "1     Articulos de Oficina      2.252874             4.905492  6.708812   \n",
       "2         Cine y Peliculas      1.889518             2.436084  6.291254   \n",
       "3            Comida Rapida      2.913375             3.694305  7.391586   \n",
       "4      Ferreterias y Hogar      2.304384             5.746752  7.114073   \n",
       "\n",
       "   Cantidad_Clientes                                         Texto_Plot  \n",
       "0                0.0  Categoria:Alquiler de Automoviles<br>RFM Canti...  \n",
       "1              261.0  Categoria:Articulos de Oficina<br>RFM Cantidad...  \n",
       "2              247.0  Categoria:Cine y Peliculas<br>RFM Cantidad:1.8...  \n",
       "3             4971.0  Categoria:Comida Rapida<br>RFM Cantidad:2.91<b...  \n",
       "4             5904.0  Categoria:Ferreterias y Hogar<br>RFM Cantidad:...  "
      ]
     },
     "execution_count": 60,
     "metadata": {},
     "output_type": "execute_result"
    }
   ],
   "source": [
    "rfm_stats['Texto_Plot'] = (\"Categoria:\" + rfm_stats['Categoria_Agrupada'].astype(str) + \"<br>\" + \n",
    "                           \"RFM Cantidad:\" + rfm_stats['Cantidad_RFM'].round(2).astype(str)  + \"<br>\" + \n",
    "                           \"RFM Recencia:\" + rfm_stats['Recencia'].round(2).astype(str)  + \"<br>\" + \n",
    "                           \"RFM Valor Monetario:\" + rfm_stats['Valor_Monetario_RFM'].round(2).astype(str)  + \"<br>\" + \n",
    "                           \"Clientes:\" + rfm_stats['Cantidad_Clientes'].astype(int).astype(str))\n",
    "rfm_stats.head()"
   ]
  },
  {
   "cell_type": "code",
   "execution_count": 61,
   "metadata": {
    "slideshow": {
     "slide_type": "skip"
    }
   },
   "outputs": [],
   "source": [
    "def crear_scatter_RFM(data,title,size=None):\n",
    "    trace1 = go.Scatter(\n",
    "    x= data.Cantidad_RFM,\n",
    "    y = data.Recencia,\n",
    "    mode='markers',\n",
    "    text=data.Texto_Plot,\n",
    "    marker=dict(\n",
    "        size=  np.log1p(data[size]) * 4 if size else 16,\n",
    "        color = data.Valor_Monetario_RFM, \n",
    "        colorbar=dict(\n",
    "                title='RFM Valor Monetario'\n",
    "            ),\n",
    "        colorscale='Viridis',\n",
    "        showscale=True\n",
    "        )\n",
    "    )\n",
    "\n",
    "    layout = go.Layout(\n",
    "            title=title,\n",
    "        hovermode = 'closest',\n",
    "            autosize=True,\n",
    "            \n",
    "             xaxis=dict(\n",
    "                title=\"RFM Cantidad\",\n",
    "                titlefont=dict(\n",
    "                    family='Myriad',\n",
    "                    size=20,\n",
    "                    color='#14A751'\n",
    "                ),\n",
    "            ),\n",
    "             yaxis=dict(\n",
    "                 title=\"RFM Recencia\",\n",
    "                titlefont=dict(\n",
    "                    family='Myriad',\n",
    "                    size=20,\n",
    "                    color='#14A751'\n",
    "                )\n",
    "            )\n",
    "        )\n",
    "\n",
    "    data = [trace1]\n",
    "    fig = go.Figure(data=data, layout=layout)\n",
    "    ipy(fig)"
   ]
  },
  {
   "cell_type": "markdown",
   "metadata": {
    "slideshow": {
     "slide_type": "subslide"
    }
   },
   "source": [
    "**Nota**: En estos graficos, el eje horizontal representa la cantidad de transacciones pero reducida a su valor RFM, y el eje vertical representa la recencia, mientras más alto más reciente fue la última transacción. Los colores representan el valor monetario, mientras más intenso, mayor monto promedio fue transaccionado. Por último, el tamaño de las burbujas representa la cantidad de clientes que caen en esta categoria."
   ]
  },
  {
   "cell_type": "code",
   "execution_count": 62,
   "metadata": {
    "slideshow": {
     "slide_type": "subslide"
    }
   },
   "outputs": [
    {
     "data": {
      "application/vnd.plotly.v1+json": {
       "config": {
        "linkText": "Export to plot.ly",
        "plotlyServerURL": "https://plot.ly",
        "showLink": false
       },
       "data": [
        {
         "marker": {
          "color": [
           7.133333333333334,
           4.905491698595147,
           2.436083569405099,
           3.6943051648934,
           5.746752238496972,
           5.897600968416419,
           5.5543167093566375,
           6.8703844689760185,
           4.020203257009918,
           4.297542533081286,
           4.864611404548884,
           4.962627794355036,
           5.8010381255254595,
           4.059549745824255,
           4.534883720930233,
           6.290419914508424,
           5.037553595189986,
           5.920419471198542,
           6.6158415841584155,
           5.270899808551372,
           4.455357142857143,
           6.0165864098448365,
           6.905129992185685,
           4.54745880714783,
           5.697620529847133,
           5.383142995013672,
           4.115430267062314
          ],
          "colorbar": {
           "title": {
            "text": "RFM Valor Monetario"
           }
          },
          "colorscale": "Viridis",
          "showscale": true,
          "size": [
           0,
           22.273378015044386,
           22.05371498465993,
           34.04630981052241,
           34.73421891452585,
           40.02255168472424,
           26.95260997838383,
           28.62470654992246,
           28.29307886983884,
           27.297494680172345,
           29.26353401803914,
           33.856013451608476,
           37.06120772020063,
           19.98884909505646,
           20.81602674830718,
           30.250724986887537,
           34.938884015779244,
           37.67039365624068,
           17.81738918501403,
           37.81126340635954,
           15.727302530897303,
           31.97042660960084,
           42.227519509256055,
           25.864578896950476,
           37.90218699065112,
           27.674780876081886,
           26.87605261754104
          ]
         },
         "mode": "markers",
         "text": [
          "Categoria:Alquiler de Automoviles<br>RFM Cantidad:1.13<br>RFM Recencia:6.13<br>RFM Valor Monetario:7.13<br>Clientes:0",
          "Categoria:Articulos de Oficina<br>RFM Cantidad:2.25<br>RFM Recencia:6.71<br>RFM Valor Monetario:4.91<br>Clientes:261",
          "Categoria:Cine y Peliculas<br>RFM Cantidad:1.89<br>RFM Recencia:6.29<br>RFM Valor Monetario:2.44<br>Clientes:247",
          "Categoria:Comida Rapida<br>RFM Cantidad:2.91<br>RFM Recencia:7.39<br>RFM Valor Monetario:3.69<br>Clientes:4971",
          "Categoria:Ferreterias y Hogar<br>RFM Cantidad:2.3<br>RFM Recencia:7.11<br>RFM Valor Monetario:5.75<br>Clientes:5904",
          "Categoria:Gasolineras y Vehiculos<br>RFM Cantidad:3.72<br>RFM Recencia:7.75<br>RFM Valor Monetario:5.9<br>Clientes:22150",
          "Categoria:Hoteles Moteles Resorts<br>RFM Cantidad:1.86<br>RFM Recencia:6.79<br>RFM Valor Monetario:5.55<br>Clientes:843",
          "Categoria:Instituciones Financieras y Aseguradoras<br>RFM Cantidad:2.22<br>RFM Recencia:7.07<br>RFM Valor Monetario:6.87<br>Clientes:1281",
          "Categoria:Licores<br>RFM Cantidad:1.95<br>RFM Recencia:6.96<br>RFM Valor Monetario:4.02<br>Clientes:1179",
          "Categoria:Musica<br>RFM Cantidad:2.52<br>RFM Recencia:7.23<br>RFM Valor Monetario:4.3<br>Clientes:919",
          "Categoria:Otros Servicios<br>RFM Cantidad:2.06<br>RFM Recencia:6.72<br>RFM Valor Monetario:4.86<br>Clientes:1503",
          "Categoria:Restaurantes<br>RFM Cantidad:2.78<br>RFM Recencia:7.32<br>RFM Valor Monetario:4.96<br>Clientes:4740",
          "Categoria:Ropas<br>RFM Cantidad:2.66<br>RFM Recencia:7.55<br>RFM Valor Monetario:5.8<br>Clientes:10564",
          "Categoria:Servicio Personales (Deliveries, etc.)<br>RFM Cantidad:1.8<br>RFM Recencia:6.95<br>RFM Valor Monetario:4.06<br>Clientes:147",
          "Categoria:Servicios Agropecuarios<br>RFM Cantidad:1.74<br>RFM Recencia:6.71<br>RFM Valor Monetario:4.53<br>Clientes:181",
          "Categoria:Servicios Educativos<br>RFM Cantidad:1.94<br>RFM Recencia:6.88<br>RFM Valor Monetario:6.29<br>Clientes:1924",
          "Categoria:Servicios Gubernamentales<br>RFM Cantidad:2.4<br>RFM Recencia:7.22<br>RFM Valor Monetario:5.04<br>Clientes:6214",
          "Categoria:Servicios de Comunicacion, Internet y Telecable<br>RFM Cantidad:2.94<br>RFM Recencia:7.46<br>RFM Valor Monetario:5.92<br>Clientes:12302",
          "Categoria:Servicios de Construccion y Decoracion<br>RFM Cantidad:2.06<br>RFM Recencia:6.34<br>RFM Valor Monetario:6.62<br>Clientes:85",
          "Categoria:Servicios de Salud, Belleza y Recreacion<br>RFM Cantidad:3.05<br>RFM Recencia:7.48<br>RFM Valor Monetario:5.27<br>Clientes:12743",
          "Categoria:Servicios de Textiles e Imprenta<br>RFM Cantidad:1.95<br>RFM Recencia:6.71<br>RFM Valor Monetario:4.46<br>Clientes:50",
          "Categoria:Servicios de Transporte y Viajes<br>RFM Cantidad:2.45<br>RFM Recencia:7.2<br>RFM Valor Monetario:6.02<br>Clientes:2958",
          "Categoria:Supermercados y Alimentos<br>RFM Cantidad:4.3<br>RFM Recencia:8.06<br>RFM Valor Monetario:6.91<br>Clientes:38440",
          "Categoria:Tecnologia y Software<br>RFM Cantidad:1.96<br>RFM Recencia:6.71<br>RFM Valor Monetario:4.55<br>Clientes:642",
          "Categoria:Tienda De Venta Especializada<br>RFM Cantidad:3.16<br>RFM Recencia:7.54<br>RFM Valor Monetario:5.7<br>Clientes:13036",
          "Categoria:Ventas y Servicios de Equipos Electricos<br>RFM Cantidad:1.97<br>RFM Recencia:6.92<br>RFM Valor Monetario:5.38<br>Clientes:1010",
          "Categoria:Vida Nocturna<br>RFM Cantidad:1.93<br>RFM Recencia:6.78<br>RFM Valor Monetario:4.12<br>Clientes:827"
         ],
         "type": "scatter",
         "uid": "61199f1e-74f4-43a0-86b6-a71694f6da63",
         "x": [
          1.1333333333333333,
          2.2528735632183907,
          1.8895184135977336,
          2.913374913374913,
          2.3043838310646447,
          3.721112578408716,
          1.858671086334187,
          2.2205938332698896,
          1.9458797600097955,
          2.524385633270321,
          2.0617656570011857,
          2.7814410800763096,
          2.6562488576963847,
          1.8002904865649965,
          1.7369878183831673,
          1.9416645712848881,
          2.401754472426199,
          2.9358521438399463,
          2.0594059405940595,
          3.046936821952776,
          1.9508928571428572,
          2.451196208820607,
          4.296521573845276,
          1.962868414945463,
          3.1632773051117105,
          1.968312691008525,
          1.9255192878338279
         ],
         "y": [
          6.133333333333334,
          6.708812260536399,
          6.291253541076487,
          7.391586156292039,
          7.11407277056053,
          7.747028722350611,
          6.79463613078198,
          7.068709554625047,
          6.957634382270111,
          7.230434782608696,
          6.718227875390752,
          7.3151690065058945,
          7.552619073728844,
          6.952069716775599,
          6.709302325581396,
          6.875911491073674,
          7.218816223941649,
          7.463240489383065,
          6.340594059405941,
          7.484716017868538,
          6.712797619047619,
          7.195673775128029,
          8.057044499355847,
          6.714086795080065,
          7.542851213944802,
          6.917323467910568,
          6.782492581602374
         ]
        }
       ],
       "layout": {
        "autosize": true,
        "hovermode": "closest",
        "title": {
         "text": "RFM por Categoria de Comercio"
        },
        "xaxis": {
         "title": {
          "font": {
           "color": "#14A751",
           "family": "Myriad",
           "size": 20
          },
          "text": "RFM Cantidad"
         }
        },
        "yaxis": {
         "title": {
          "font": {
           "color": "#14A751",
           "family": "Myriad",
           "size": 20
          },
          "text": "RFM Recencia"
         }
        }
       }
      },
      "text/html": [
       "<div id=\"f6f369d3-4f7d-49df-9127-734aa6dc7d47\" style=\"height: 525px; width: 100%;\" class=\"plotly-graph-div\"></div><script type=\"text/javascript\">require([\"plotly\"], function(Plotly) { window.PLOTLYENV=window.PLOTLYENV || {};window.PLOTLYENV.BASE_URL=\"https://plot.ly\";Plotly.newPlot(\"f6f369d3-4f7d-49df-9127-734aa6dc7d47\", [{\"marker\": {\"color\": [7.133333333333334, 4.905491698595147, 2.436083569405099, 3.6943051648934, 5.746752238496972, 5.897600968416419, 5.5543167093566375, 6.8703844689760185, 4.020203257009918, 4.297542533081286, 4.864611404548884, 4.962627794355036, 5.8010381255254595, 4.059549745824255, 4.534883720930233, 6.290419914508424, 5.037553595189986, 5.920419471198542, 6.6158415841584155, 5.270899808551372, 4.455357142857143, 6.0165864098448365, 6.905129992185685, 4.54745880714783, 5.697620529847133, 5.383142995013672, 4.115430267062314], \"colorbar\": {\"title\": {\"text\": \"RFM Valor Monetario\"}}, \"colorscale\": \"Viridis\", \"showscale\": true, \"size\": [0.0, 22.273378015044386, 22.05371498465993, 34.04630981052241, 34.73421891452585, 40.02255168472424, 26.95260997838383, 28.62470654992246, 28.29307886983884, 27.297494680172345, 29.26353401803914, 33.856013451608476, 37.06120772020063, 19.98884909505646, 20.81602674830718, 30.250724986887537, 34.938884015779244, 37.67039365624068, 17.81738918501403, 37.81126340635954, 15.727302530897303, 31.97042660960084, 42.227519509256055, 25.864578896950476, 37.90218699065112, 27.674780876081886, 26.87605261754104]}, \"mode\": \"markers\", \"text\": [\"Categoria:Alquiler de Automoviles<br>RFM Cantidad:1.13<br>RFM Recencia:6.13<br>RFM Valor Monetario:7.13<br>Clientes:0\", \"Categoria:Articulos de Oficina<br>RFM Cantidad:2.25<br>RFM Recencia:6.71<br>RFM Valor Monetario:4.91<br>Clientes:261\", \"Categoria:Cine y Peliculas<br>RFM Cantidad:1.89<br>RFM Recencia:6.29<br>RFM Valor Monetario:2.44<br>Clientes:247\", \"Categoria:Comida Rapida<br>RFM Cantidad:2.91<br>RFM Recencia:7.39<br>RFM Valor Monetario:3.69<br>Clientes:4971\", \"Categoria:Ferreterias y Hogar<br>RFM Cantidad:2.3<br>RFM Recencia:7.11<br>RFM Valor Monetario:5.75<br>Clientes:5904\", \"Categoria:Gasolineras y Vehiculos<br>RFM Cantidad:3.72<br>RFM Recencia:7.75<br>RFM Valor Monetario:5.9<br>Clientes:22150\", \"Categoria:Hoteles Moteles Resorts<br>RFM Cantidad:1.86<br>RFM Recencia:6.79<br>RFM Valor Monetario:5.55<br>Clientes:843\", \"Categoria:Instituciones Financieras y Aseguradoras<br>RFM Cantidad:2.22<br>RFM Recencia:7.07<br>RFM Valor Monetario:6.87<br>Clientes:1281\", \"Categoria:Licores<br>RFM Cantidad:1.95<br>RFM Recencia:6.96<br>RFM Valor Monetario:4.02<br>Clientes:1179\", \"Categoria:Musica<br>RFM Cantidad:2.52<br>RFM Recencia:7.23<br>RFM Valor Monetario:4.3<br>Clientes:919\", \"Categoria:Otros Servicios<br>RFM Cantidad:2.06<br>RFM Recencia:6.72<br>RFM Valor Monetario:4.86<br>Clientes:1503\", \"Categoria:Restaurantes<br>RFM Cantidad:2.78<br>RFM Recencia:7.32<br>RFM Valor Monetario:4.96<br>Clientes:4740\", \"Categoria:Ropas<br>RFM Cantidad:2.66<br>RFM Recencia:7.55<br>RFM Valor Monetario:5.8<br>Clientes:10564\", \"Categoria:Servicio Personales (Deliveries, etc.)<br>RFM Cantidad:1.8<br>RFM Recencia:6.95<br>RFM Valor Monetario:4.06<br>Clientes:147\", \"Categoria:Servicios Agropecuarios<br>RFM Cantidad:1.74<br>RFM Recencia:6.71<br>RFM Valor Monetario:4.53<br>Clientes:181\", \"Categoria:Servicios Educativos<br>RFM Cantidad:1.94<br>RFM Recencia:6.88<br>RFM Valor Monetario:6.29<br>Clientes:1924\", \"Categoria:Servicios Gubernamentales<br>RFM Cantidad:2.4<br>RFM Recencia:7.22<br>RFM Valor Monetario:5.04<br>Clientes:6214\", \"Categoria:Servicios de Comunicacion, Internet y Telecable<br>RFM Cantidad:2.94<br>RFM Recencia:7.46<br>RFM Valor Monetario:5.92<br>Clientes:12302\", \"Categoria:Servicios de Construccion y Decoracion<br>RFM Cantidad:2.06<br>RFM Recencia:6.34<br>RFM Valor Monetario:6.62<br>Clientes:85\", \"Categoria:Servicios de Salud, Belleza y Recreacion<br>RFM Cantidad:3.05<br>RFM Recencia:7.48<br>RFM Valor Monetario:5.27<br>Clientes:12743\", \"Categoria:Servicios de Textiles e Imprenta<br>RFM Cantidad:1.95<br>RFM Recencia:6.71<br>RFM Valor Monetario:4.46<br>Clientes:50\", \"Categoria:Servicios de Transporte y Viajes<br>RFM Cantidad:2.45<br>RFM Recencia:7.2<br>RFM Valor Monetario:6.02<br>Clientes:2958\", \"Categoria:Supermercados y Alimentos<br>RFM Cantidad:4.3<br>RFM Recencia:8.06<br>RFM Valor Monetario:6.91<br>Clientes:38440\", \"Categoria:Tecnologia y Software<br>RFM Cantidad:1.96<br>RFM Recencia:6.71<br>RFM Valor Monetario:4.55<br>Clientes:642\", \"Categoria:Tienda De Venta Especializada<br>RFM Cantidad:3.16<br>RFM Recencia:7.54<br>RFM Valor Monetario:5.7<br>Clientes:13036\", \"Categoria:Ventas y Servicios de Equipos Electricos<br>RFM Cantidad:1.97<br>RFM Recencia:6.92<br>RFM Valor Monetario:5.38<br>Clientes:1010\", \"Categoria:Vida Nocturna<br>RFM Cantidad:1.93<br>RFM Recencia:6.78<br>RFM Valor Monetario:4.12<br>Clientes:827\"], \"x\": [1.1333333333333333, 2.2528735632183907, 1.8895184135977336, 2.913374913374913, 2.3043838310646447, 3.721112578408716, 1.858671086334187, 2.2205938332698896, 1.9458797600097955, 2.524385633270321, 2.0617656570011857, 2.7814410800763096, 2.6562488576963847, 1.8002904865649965, 1.7369878183831673, 1.9416645712848881, 2.401754472426199, 2.9358521438399463, 2.0594059405940595, 3.046936821952776, 1.9508928571428572, 2.451196208820607, 4.296521573845276, 1.962868414945463, 3.1632773051117105, 1.968312691008525, 1.9255192878338279], \"y\": [6.133333333333334, 6.708812260536399, 6.291253541076487, 7.391586156292039, 7.11407277056053, 7.747028722350611, 6.79463613078198, 7.068709554625047, 6.957634382270111, 7.230434782608696, 6.718227875390752, 7.3151690065058945, 7.552619073728844, 6.952069716775599, 6.709302325581396, 6.875911491073674, 7.218816223941649, 7.463240489383065, 6.340594059405941, 7.484716017868538, 6.712797619047619, 7.195673775128029, 8.057044499355847, 6.714086795080065, 7.542851213944802, 6.917323467910568, 6.782492581602374], \"type\": \"scatter\", \"uid\": \"61199f1e-74f4-43a0-86b6-a71694f6da63\"}], {\"autosize\": true, \"hovermode\": \"closest\", \"title\": {\"text\": \"RFM por Categoria de Comercio\"}, \"xaxis\": {\"title\": {\"font\": {\"color\": \"#14A751\", \"family\": \"Myriad\", \"size\": 20}, \"text\": \"RFM Cantidad\"}}, \"yaxis\": {\"title\": {\"font\": {\"color\": \"#14A751\", \"family\": \"Myriad\", \"size\": 20}, \"text\": \"RFM Recencia\"}}}, {\"showLink\": false, \"linkText\": \"Export to plot.ly\", \"plotlyServerURL\": \"https://plot.ly\"})});</script><script type=\"text/javascript\">window.addEventListener(\"resize\", function(){window._Plotly.Plots.resize(document.getElementById(\"f6f369d3-4f7d-49df-9127-734aa6dc7d47\"));});</script>"
      ],
      "text/vnd.plotly.v1+html": [
       "<div id=\"f6f369d3-4f7d-49df-9127-734aa6dc7d47\" style=\"height: 525px; width: 100%;\" class=\"plotly-graph-div\"></div><script type=\"text/javascript\">require([\"plotly\"], function(Plotly) { window.PLOTLYENV=window.PLOTLYENV || {};window.PLOTLYENV.BASE_URL=\"https://plot.ly\";Plotly.newPlot(\"f6f369d3-4f7d-49df-9127-734aa6dc7d47\", [{\"marker\": {\"color\": [7.133333333333334, 4.905491698595147, 2.436083569405099, 3.6943051648934, 5.746752238496972, 5.897600968416419, 5.5543167093566375, 6.8703844689760185, 4.020203257009918, 4.297542533081286, 4.864611404548884, 4.962627794355036, 5.8010381255254595, 4.059549745824255, 4.534883720930233, 6.290419914508424, 5.037553595189986, 5.920419471198542, 6.6158415841584155, 5.270899808551372, 4.455357142857143, 6.0165864098448365, 6.905129992185685, 4.54745880714783, 5.697620529847133, 5.383142995013672, 4.115430267062314], \"colorbar\": {\"title\": {\"text\": \"RFM Valor Monetario\"}}, \"colorscale\": \"Viridis\", \"showscale\": true, \"size\": [0.0, 22.273378015044386, 22.05371498465993, 34.04630981052241, 34.73421891452585, 40.02255168472424, 26.95260997838383, 28.62470654992246, 28.29307886983884, 27.297494680172345, 29.26353401803914, 33.856013451608476, 37.06120772020063, 19.98884909505646, 20.81602674830718, 30.250724986887537, 34.938884015779244, 37.67039365624068, 17.81738918501403, 37.81126340635954, 15.727302530897303, 31.97042660960084, 42.227519509256055, 25.864578896950476, 37.90218699065112, 27.674780876081886, 26.87605261754104]}, \"mode\": \"markers\", \"text\": [\"Categoria:Alquiler de Automoviles<br>RFM Cantidad:1.13<br>RFM Recencia:6.13<br>RFM Valor Monetario:7.13<br>Clientes:0\", \"Categoria:Articulos de Oficina<br>RFM Cantidad:2.25<br>RFM Recencia:6.71<br>RFM Valor Monetario:4.91<br>Clientes:261\", \"Categoria:Cine y Peliculas<br>RFM Cantidad:1.89<br>RFM Recencia:6.29<br>RFM Valor Monetario:2.44<br>Clientes:247\", \"Categoria:Comida Rapida<br>RFM Cantidad:2.91<br>RFM Recencia:7.39<br>RFM Valor Monetario:3.69<br>Clientes:4971\", \"Categoria:Ferreterias y Hogar<br>RFM Cantidad:2.3<br>RFM Recencia:7.11<br>RFM Valor Monetario:5.75<br>Clientes:5904\", \"Categoria:Gasolineras y Vehiculos<br>RFM Cantidad:3.72<br>RFM Recencia:7.75<br>RFM Valor Monetario:5.9<br>Clientes:22150\", \"Categoria:Hoteles Moteles Resorts<br>RFM Cantidad:1.86<br>RFM Recencia:6.79<br>RFM Valor Monetario:5.55<br>Clientes:843\", \"Categoria:Instituciones Financieras y Aseguradoras<br>RFM Cantidad:2.22<br>RFM Recencia:7.07<br>RFM Valor Monetario:6.87<br>Clientes:1281\", \"Categoria:Licores<br>RFM Cantidad:1.95<br>RFM Recencia:6.96<br>RFM Valor Monetario:4.02<br>Clientes:1179\", \"Categoria:Musica<br>RFM Cantidad:2.52<br>RFM Recencia:7.23<br>RFM Valor Monetario:4.3<br>Clientes:919\", \"Categoria:Otros Servicios<br>RFM Cantidad:2.06<br>RFM Recencia:6.72<br>RFM Valor Monetario:4.86<br>Clientes:1503\", \"Categoria:Restaurantes<br>RFM Cantidad:2.78<br>RFM Recencia:7.32<br>RFM Valor Monetario:4.96<br>Clientes:4740\", \"Categoria:Ropas<br>RFM Cantidad:2.66<br>RFM Recencia:7.55<br>RFM Valor Monetario:5.8<br>Clientes:10564\", \"Categoria:Servicio Personales (Deliveries, etc.)<br>RFM Cantidad:1.8<br>RFM Recencia:6.95<br>RFM Valor Monetario:4.06<br>Clientes:147\", \"Categoria:Servicios Agropecuarios<br>RFM Cantidad:1.74<br>RFM Recencia:6.71<br>RFM Valor Monetario:4.53<br>Clientes:181\", \"Categoria:Servicios Educativos<br>RFM Cantidad:1.94<br>RFM Recencia:6.88<br>RFM Valor Monetario:6.29<br>Clientes:1924\", \"Categoria:Servicios Gubernamentales<br>RFM Cantidad:2.4<br>RFM Recencia:7.22<br>RFM Valor Monetario:5.04<br>Clientes:6214\", \"Categoria:Servicios de Comunicacion, Internet y Telecable<br>RFM Cantidad:2.94<br>RFM Recencia:7.46<br>RFM Valor Monetario:5.92<br>Clientes:12302\", \"Categoria:Servicios de Construccion y Decoracion<br>RFM Cantidad:2.06<br>RFM Recencia:6.34<br>RFM Valor Monetario:6.62<br>Clientes:85\", \"Categoria:Servicios de Salud, Belleza y Recreacion<br>RFM Cantidad:3.05<br>RFM Recencia:7.48<br>RFM Valor Monetario:5.27<br>Clientes:12743\", \"Categoria:Servicios de Textiles e Imprenta<br>RFM Cantidad:1.95<br>RFM Recencia:6.71<br>RFM Valor Monetario:4.46<br>Clientes:50\", \"Categoria:Servicios de Transporte y Viajes<br>RFM Cantidad:2.45<br>RFM Recencia:7.2<br>RFM Valor Monetario:6.02<br>Clientes:2958\", \"Categoria:Supermercados y Alimentos<br>RFM Cantidad:4.3<br>RFM Recencia:8.06<br>RFM Valor Monetario:6.91<br>Clientes:38440\", \"Categoria:Tecnologia y Software<br>RFM Cantidad:1.96<br>RFM Recencia:6.71<br>RFM Valor Monetario:4.55<br>Clientes:642\", \"Categoria:Tienda De Venta Especializada<br>RFM Cantidad:3.16<br>RFM Recencia:7.54<br>RFM Valor Monetario:5.7<br>Clientes:13036\", \"Categoria:Ventas y Servicios de Equipos Electricos<br>RFM Cantidad:1.97<br>RFM Recencia:6.92<br>RFM Valor Monetario:5.38<br>Clientes:1010\", \"Categoria:Vida Nocturna<br>RFM Cantidad:1.93<br>RFM Recencia:6.78<br>RFM Valor Monetario:4.12<br>Clientes:827\"], \"x\": [1.1333333333333333, 2.2528735632183907, 1.8895184135977336, 2.913374913374913, 2.3043838310646447, 3.721112578408716, 1.858671086334187, 2.2205938332698896, 1.9458797600097955, 2.524385633270321, 2.0617656570011857, 2.7814410800763096, 2.6562488576963847, 1.8002904865649965, 1.7369878183831673, 1.9416645712848881, 2.401754472426199, 2.9358521438399463, 2.0594059405940595, 3.046936821952776, 1.9508928571428572, 2.451196208820607, 4.296521573845276, 1.962868414945463, 3.1632773051117105, 1.968312691008525, 1.9255192878338279], \"y\": [6.133333333333334, 6.708812260536399, 6.291253541076487, 7.391586156292039, 7.11407277056053, 7.747028722350611, 6.79463613078198, 7.068709554625047, 6.957634382270111, 7.230434782608696, 6.718227875390752, 7.3151690065058945, 7.552619073728844, 6.952069716775599, 6.709302325581396, 6.875911491073674, 7.218816223941649, 7.463240489383065, 6.340594059405941, 7.484716017868538, 6.712797619047619, 7.195673775128029, 8.057044499355847, 6.714086795080065, 7.542851213944802, 6.917323467910568, 6.782492581602374], \"type\": \"scatter\", \"uid\": \"61199f1e-74f4-43a0-86b6-a71694f6da63\"}], {\"autosize\": true, \"hovermode\": \"closest\", \"title\": {\"text\": \"RFM por Categoria de Comercio\"}, \"xaxis\": {\"title\": {\"font\": {\"color\": \"#14A751\", \"family\": \"Myriad\", \"size\": 20}, \"text\": \"RFM Cantidad\"}}, \"yaxis\": {\"title\": {\"font\": {\"color\": \"#14A751\", \"family\": \"Myriad\", \"size\": 20}, \"text\": \"RFM Recencia\"}}}, {\"showLink\": false, \"linkText\": \"Export to plot.ly\", \"plotlyServerURL\": \"https://plot.ly\"})});</script><script type=\"text/javascript\">window.addEventListener(\"resize\", function(){window._Plotly.Plots.resize(document.getElementById(\"f6f369d3-4f7d-49df-9127-734aa6dc7d47\"));});</script>"
      ]
     },
     "metadata": {},
     "output_type": "display_data"
    }
   ],
   "source": [
    "crear_scatter_RFM(rfm_stats,\"RFM por Categoria de Comercio\",size='Cantidad_Clientes')"
   ]
  },
  {
   "cell_type": "markdown",
   "metadata": {
    "slideshow": {
     "slide_type": "subslide"
    }
   },
   "source": [
    "Como podemos observar, existe una relación entre las 3 metricas, en el que la mayoria de las veces, cuando una aumenta las otras tambien. Por ejemplo, la categoria de **Supermercados y Alimentos** tiene un valor monetario, recencia y frecuencia altos. Pero, esta relación no es totalmente lineal, como en la categoria de **Instituciones Financieras** con alto valor monetario y Recencia, pero cantidad baja. **En sí, se puede visualizar una relación lineal entre las metricas, siendo las categorias de comercio más comunes las de más alto valor RFM**."
   ]
  },
  {
   "cell_type": "markdown",
   "metadata": {
    "slideshow": {
     "slide_type": "subslide"
    }
   },
   "source": [
    "Ahora visualicemos lo mismo, pero ahora según la cantidad de clientes que caen en una combinación de Recencia y Frecuencia de RFM."
   ]
  },
  {
   "cell_type": "code",
   "execution_count": 63,
   "metadata": {
    "slideshow": {
     "slide_type": "skip"
    }
   },
   "outputs": [
    {
     "data": {
      "text/html": [
       "<div>\n",
       "<style scoped>\n",
       "    .dataframe tbody tr th:only-of-type {\n",
       "        vertical-align: middle;\n",
       "    }\n",
       "\n",
       "    .dataframe tbody tr th {\n",
       "        vertical-align: top;\n",
       "    }\n",
       "\n",
       "    .dataframe thead th {\n",
       "        text-align: right;\n",
       "    }\n",
       "</style>\n",
       "<table border=\"1\" class=\"dataframe\">\n",
       "  <thead>\n",
       "    <tr style=\"text-align: right;\">\n",
       "      <th></th>\n",
       "      <th>Cantidad</th>\n",
       "      <th>Valor_Total_RD</th>\n",
       "      <th>Recencia</th>\n",
       "    </tr>\n",
       "    <tr>\n",
       "      <th>Codigo_Cliente</th>\n",
       "      <th></th>\n",
       "      <th></th>\n",
       "      <th></th>\n",
       "    </tr>\n",
       "  </thead>\n",
       "  <tbody>\n",
       "    <tr>\n",
       "      <th>1</th>\n",
       "      <td>716</td>\n",
       "      <td>51700362.12</td>\n",
       "      <td>0</td>\n",
       "    </tr>\n",
       "    <tr>\n",
       "      <th>10</th>\n",
       "      <td>63</td>\n",
       "      <td>91663.73</td>\n",
       "      <td>0</td>\n",
       "    </tr>\n",
       "    <tr>\n",
       "      <th>22</th>\n",
       "      <td>62</td>\n",
       "      <td>137621.64</td>\n",
       "      <td>0</td>\n",
       "    </tr>\n",
       "    <tr>\n",
       "      <th>51</th>\n",
       "      <td>154</td>\n",
       "      <td>259025.72</td>\n",
       "      <td>0</td>\n",
       "    </tr>\n",
       "    <tr>\n",
       "      <th>59</th>\n",
       "      <td>360</td>\n",
       "      <td>877717.21</td>\n",
       "      <td>0</td>\n",
       "    </tr>\n",
       "  </tbody>\n",
       "</table>\n",
       "</div>"
      ],
      "text/plain": [
       "                Cantidad  Valor_Total_RD  Recencia\n",
       "Codigo_Cliente                                    \n",
       "1                    716     51700362.12         0\n",
       "10                    63        91663.73         0\n",
       "22                    62       137621.64         0\n",
       "51                   154       259025.72         0\n",
       "59                   360       877717.21         0"
      ]
     },
     "execution_count": 63,
     "metadata": {},
     "output_type": "execute_result"
    }
   ],
   "source": [
    "transacciones_agrupadas_cliente = transacciones.groupby('Codigo_Cliente')[['Cantidad','Valor_Total_RD']].sum()\n",
    "transacciones_agrupadas_cliente['Recencia'] = transacciones.groupby('Codigo_Cliente')['Meses_Anteriores'].min()\n",
    "transacciones_agrupadas_cliente.head()"
   ]
  },
  {
   "cell_type": "code",
   "execution_count": 64,
   "metadata": {
    "slideshow": {
     "slide_type": "skip"
    }
   },
   "outputs": [
    {
     "data": {
      "text/html": [
       "<div>\n",
       "<style scoped>\n",
       "    .dataframe tbody tr th:only-of-type {\n",
       "        vertical-align: middle;\n",
       "    }\n",
       "\n",
       "    .dataframe tbody tr th {\n",
       "        vertical-align: top;\n",
       "    }\n",
       "\n",
       "    .dataframe thead th {\n",
       "        text-align: right;\n",
       "    }\n",
       "</style>\n",
       "<table border=\"1\" class=\"dataframe\">\n",
       "  <thead>\n",
       "    <tr style=\"text-align: right;\">\n",
       "      <th></th>\n",
       "      <th>Codigo_Cliente</th>\n",
       "      <th>Cantidad</th>\n",
       "      <th>Valor_Total_RD</th>\n",
       "      <th>Recencia</th>\n",
       "      <th>Cantidad_RFM</th>\n",
       "      <th>Valor_Monetario_RFM</th>\n",
       "      <th>Score_RFM</th>\n",
       "    </tr>\n",
       "  </thead>\n",
       "  <tbody>\n",
       "    <tr>\n",
       "      <th>0</th>\n",
       "      <td>1</td>\n",
       "      <td>716</td>\n",
       "      <td>51700362.12</td>\n",
       "      <td>5</td>\n",
       "      <td>5</td>\n",
       "      <td>5</td>\n",
       "      <td>5.000000</td>\n",
       "    </tr>\n",
       "    <tr>\n",
       "      <th>1</th>\n",
       "      <td>10</td>\n",
       "      <td>63</td>\n",
       "      <td>91663.73</td>\n",
       "      <td>5</td>\n",
       "      <td>4</td>\n",
       "      <td>4</td>\n",
       "      <td>4.333333</td>\n",
       "    </tr>\n",
       "    <tr>\n",
       "      <th>2</th>\n",
       "      <td>22</td>\n",
       "      <td>62</td>\n",
       "      <td>137621.64</td>\n",
       "      <td>5</td>\n",
       "      <td>4</td>\n",
       "      <td>4</td>\n",
       "      <td>4.333333</td>\n",
       "    </tr>\n",
       "    <tr>\n",
       "      <th>3</th>\n",
       "      <td>51</td>\n",
       "      <td>154</td>\n",
       "      <td>259025.72</td>\n",
       "      <td>5</td>\n",
       "      <td>5</td>\n",
       "      <td>5</td>\n",
       "      <td>5.000000</td>\n",
       "    </tr>\n",
       "    <tr>\n",
       "      <th>4</th>\n",
       "      <td>59</td>\n",
       "      <td>360</td>\n",
       "      <td>877717.21</td>\n",
       "      <td>5</td>\n",
       "      <td>5</td>\n",
       "      <td>5</td>\n",
       "      <td>5.000000</td>\n",
       "    </tr>\n",
       "  </tbody>\n",
       "</table>\n",
       "</div>"
      ],
      "text/plain": [
       "   Codigo_Cliente  Cantidad  Valor_Total_RD  Recencia  Cantidad_RFM  \\\n",
       "0               1       716     51700362.12         5             5   \n",
       "1              10        63        91663.73         5             4   \n",
       "2              22        62       137621.64         5             4   \n",
       "3              51       154       259025.72         5             5   \n",
       "4              59       360       877717.21         5             5   \n",
       "\n",
       "   Valor_Monetario_RFM  Score_RFM  \n",
       "0                    5   5.000000  \n",
       "1                    4   4.333333  \n",
       "2                    4   4.333333  \n",
       "3                    5   5.000000  \n",
       "4                    5   5.000000  "
      ]
     },
     "execution_count": 64,
     "metadata": {},
     "output_type": "execute_result"
    }
   ],
   "source": [
    "transacciones_agrupadas_cliente['Cantidad_RFM'] = pd.qcut(transacciones_agrupadas_cliente.Cantidad,5,\n",
    "                                                         labels=list(range(1,6))).astype(int)\n",
    "transacciones_agrupadas_cliente['Valor_Monetario_RFM'] = pd.qcut(transacciones_agrupadas_cliente.Valor_Total_RD,5,\n",
    "                                                         labels=list(range(1,6))).astype(int)\n",
    "\n",
    "transacciones_agrupadas_cliente['Recencia'] = pd.cut(transacciones_agrupadas_cliente.Recencia\n",
    "                                                     ,[-0.01,1,3,6,9,12],labels=list(range(5,0,-1))).astype(int)\n",
    "\n",
    "transacciones_agrupadas_cliente['Score_RFM'] = transacciones_agrupadas_cliente[['Recencia'\n",
    "                                                                                ,'Cantidad_RFM'\n",
    "                                                                                ,'Valor_Monetario_RFM']].mean(axis=1)\n",
    "transacciones_agrupadas_cliente=transacciones_agrupadas_cliente.reset_index()\n",
    "transacciones_agrupadas_cliente.head()"
   ]
  },
  {
   "cell_type": "code",
   "execution_count": 65,
   "metadata": {
    "slideshow": {
     "slide_type": "skip"
    }
   },
   "outputs": [
    {
     "data": {
      "text/html": [
       "<div>\n",
       "<style scoped>\n",
       "    .dataframe tbody tr th:only-of-type {\n",
       "        vertical-align: middle;\n",
       "    }\n",
       "\n",
       "    .dataframe tbody tr th {\n",
       "        vertical-align: top;\n",
       "    }\n",
       "\n",
       "    .dataframe thead th {\n",
       "        text-align: right;\n",
       "    }\n",
       "</style>\n",
       "<table border=\"1\" class=\"dataframe\">\n",
       "  <thead>\n",
       "    <tr style=\"text-align: right;\">\n",
       "      <th></th>\n",
       "      <th>Recencia</th>\n",
       "      <th>Cantidad_RFM</th>\n",
       "      <th>Valor_Monetario_RFM</th>\n",
       "      <th>Cantidad_Clientes</th>\n",
       "    </tr>\n",
       "  </thead>\n",
       "  <tbody>\n",
       "    <tr>\n",
       "      <th>0</th>\n",
       "      <td>1</td>\n",
       "      <td>1</td>\n",
       "      <td>1.190237</td>\n",
       "      <td>1987</td>\n",
       "    </tr>\n",
       "    <tr>\n",
       "      <th>1</th>\n",
       "      <td>1</td>\n",
       "      <td>2</td>\n",
       "      <td>1.911932</td>\n",
       "      <td>352</td>\n",
       "    </tr>\n",
       "    <tr>\n",
       "      <th>2</th>\n",
       "      <td>1</td>\n",
       "      <td>3</td>\n",
       "      <td>2.652542</td>\n",
       "      <td>118</td>\n",
       "    </tr>\n",
       "    <tr>\n",
       "      <th>3</th>\n",
       "      <td>1</td>\n",
       "      <td>4</td>\n",
       "      <td>3.772727</td>\n",
       "      <td>44</td>\n",
       "    </tr>\n",
       "    <tr>\n",
       "      <th>4</th>\n",
       "      <td>1</td>\n",
       "      <td>5</td>\n",
       "      <td>4.600000</td>\n",
       "      <td>10</td>\n",
       "    </tr>\n",
       "  </tbody>\n",
       "</table>\n",
       "</div>"
      ],
      "text/plain": [
       "   Recencia  Cantidad_RFM  Valor_Monetario_RFM  Cantidad_Clientes\n",
       "0         1             1             1.190237               1987\n",
       "1         1             2             1.911932                352\n",
       "2         1             3             2.652542                118\n",
       "3         1             4             3.772727                 44\n",
       "4         1             5             4.600000                 10"
      ]
     },
     "execution_count": 65,
     "metadata": {},
     "output_type": "execute_result"
    }
   ],
   "source": [
    "transacciones_agrupadas_RFM = transacciones_agrupadas_cliente.groupby(\n",
    "        ['Recencia','Cantidad_RFM'])['Valor_Monetario_RFM'].mean().reset_index()\n",
    "transacciones_agrupadas_RFM['Cantidad_Clientes'] = transacciones_agrupadas_cliente.groupby(\n",
    "        ['Recencia','Cantidad_RFM'])['Codigo_Cliente'].count().reset_index()['Codigo_Cliente']\n",
    "transacciones_agrupadas_RFM = transacciones_agrupadas_RFM.rename(columns={'Codigo_Cliente':'Cantidad_Clientes'})\n",
    "transacciones_agrupadas_RFM.head()"
   ]
  },
  {
   "cell_type": "code",
   "execution_count": 66,
   "metadata": {
    "slideshow": {
     "slide_type": "skip"
    }
   },
   "outputs": [
    {
     "data": {
      "text/html": [
       "<div>\n",
       "<style scoped>\n",
       "    .dataframe tbody tr th:only-of-type {\n",
       "        vertical-align: middle;\n",
       "    }\n",
       "\n",
       "    .dataframe tbody tr th {\n",
       "        vertical-align: top;\n",
       "    }\n",
       "\n",
       "    .dataframe thead th {\n",
       "        text-align: right;\n",
       "    }\n",
       "</style>\n",
       "<table border=\"1\" class=\"dataframe\">\n",
       "  <thead>\n",
       "    <tr style=\"text-align: right;\">\n",
       "      <th></th>\n",
       "      <th>Recencia</th>\n",
       "      <th>Cantidad_RFM</th>\n",
       "      <th>Valor_Monetario_RFM</th>\n",
       "      <th>Cantidad_Clientes</th>\n",
       "      <th>Texto_Plot</th>\n",
       "    </tr>\n",
       "  </thead>\n",
       "  <tbody>\n",
       "    <tr>\n",
       "      <th>0</th>\n",
       "      <td>1</td>\n",
       "      <td>1</td>\n",
       "      <td>1.190237</td>\n",
       "      <td>1987</td>\n",
       "      <td>RFM Cantidad:1&lt;br&gt;RFM Recencia:1&lt;br&gt;RFM Valor ...</td>\n",
       "    </tr>\n",
       "    <tr>\n",
       "      <th>1</th>\n",
       "      <td>1</td>\n",
       "      <td>2</td>\n",
       "      <td>1.911932</td>\n",
       "      <td>352</td>\n",
       "      <td>RFM Cantidad:2&lt;br&gt;RFM Recencia:1&lt;br&gt;RFM Valor ...</td>\n",
       "    </tr>\n",
       "    <tr>\n",
       "      <th>2</th>\n",
       "      <td>1</td>\n",
       "      <td>3</td>\n",
       "      <td>2.652542</td>\n",
       "      <td>118</td>\n",
       "      <td>RFM Cantidad:3&lt;br&gt;RFM Recencia:1&lt;br&gt;RFM Valor ...</td>\n",
       "    </tr>\n",
       "    <tr>\n",
       "      <th>3</th>\n",
       "      <td>1</td>\n",
       "      <td>4</td>\n",
       "      <td>3.772727</td>\n",
       "      <td>44</td>\n",
       "      <td>RFM Cantidad:4&lt;br&gt;RFM Recencia:1&lt;br&gt;RFM Valor ...</td>\n",
       "    </tr>\n",
       "    <tr>\n",
       "      <th>4</th>\n",
       "      <td>1</td>\n",
       "      <td>5</td>\n",
       "      <td>4.600000</td>\n",
       "      <td>10</td>\n",
       "      <td>RFM Cantidad:5&lt;br&gt;RFM Recencia:1&lt;br&gt;RFM Valor ...</td>\n",
       "    </tr>\n",
       "  </tbody>\n",
       "</table>\n",
       "</div>"
      ],
      "text/plain": [
       "   Recencia  Cantidad_RFM  Valor_Monetario_RFM  Cantidad_Clientes  \\\n",
       "0         1             1             1.190237               1987   \n",
       "1         1             2             1.911932                352   \n",
       "2         1             3             2.652542                118   \n",
       "3         1             4             3.772727                 44   \n",
       "4         1             5             4.600000                 10   \n",
       "\n",
       "                                          Texto_Plot  \n",
       "0  RFM Cantidad:1<br>RFM Recencia:1<br>RFM Valor ...  \n",
       "1  RFM Cantidad:2<br>RFM Recencia:1<br>RFM Valor ...  \n",
       "2  RFM Cantidad:3<br>RFM Recencia:1<br>RFM Valor ...  \n",
       "3  RFM Cantidad:4<br>RFM Recencia:1<br>RFM Valor ...  \n",
       "4  RFM Cantidad:5<br>RFM Recencia:1<br>RFM Valor ...  "
      ]
     },
     "execution_count": 66,
     "metadata": {},
     "output_type": "execute_result"
    }
   ],
   "source": [
    "transacciones_agrupadas_RFM['Texto_Plot'] = (\n",
    "                           \"RFM Cantidad:\" + transacciones_agrupadas_RFM['Cantidad_RFM'].round(2).astype(str)  + \"<br>\" + \n",
    "                           \"RFM Recencia:\" + transacciones_agrupadas_RFM['Recencia'].round(2).astype(str)  + \"<br>\" + \n",
    "                           \"RFM Valor Monetario Promedio:\" + transacciones_agrupadas_RFM['Valor_Monetario_RFM'\n",
    "                                                                                   ].round(2).astype(str) + \"<br>\" + \n",
    "                           \"Cantidad Clientes:\" + transacciones_agrupadas_RFM['Cantidad_Clientes'].astype(str) \n",
    ")\n",
    "transacciones_agrupadas_RFM.head()"
   ]
  },
  {
   "cell_type": "code",
   "execution_count": 67,
   "metadata": {
    "slideshow": {
     "slide_type": "subslide"
    }
   },
   "outputs": [
    {
     "data": {
      "application/vnd.plotly.v1+json": {
       "config": {
        "linkText": "Export to plot.ly",
        "plotlyServerURL": "https://plot.ly",
        "showLink": false
       },
       "data": [
        {
         "marker": {
          "color": [
           1.1902365374937092,
           1.9119318181818181,
           2.652542372881356,
           3.772727272727273,
           4.6,
           1.3072043497961032,
           1.8505263157894736,
           2.700389105058366,
           3.6025641025641026,
           4.446808510638298,
           1.4531658817373103,
           2.071129707112971,
           2.7680311890838207,
           3.5326460481099655,
           4.484444444444445,
           1.5529715762273901,
           2.120723047127179,
           2.871071716357776,
           3.6238767650834403,
           4.483660130718954,
           1.6659159159159158,
           2.3612174229998177,
           3.055328139442757,
           3.816156307129799,
           4.682121212121212
          ],
          "colorbar": {
           "title": {
            "text": "RFM Valor Monetario"
           }
          },
          "colorscale": "Viridis",
          "showscale": true,
          "size": [
           30.37953754886608,
           23.465872227733186,
           19.11649397244612,
           15.226649959081278,
           9.591581091193483,
           30.799369629587943,
           27.43005625018156,
           24.976667602654945,
           21.838342056576636,
           18.215507566402163,
           30.223620374445385,
           29.075680512774888,
           27.73758883971423,
           25.47274874540197,
           21.682139997089145,
           29.381459361667474,
           29.38404083965317,
           28.497913049973697,
           26.63717567873455,
           22.907390990348787,
           33.17319743484529,
           34.44127667762289,
           35.72990643384696,
           36.30860711092975,
           36.80156416449006
          ]
         },
         "mode": "markers",
         "text": [
          "RFM Cantidad:1<br>RFM Recencia:1<br>RFM Valor Monetario Promedio:1.19<br>Cantidad Clientes:1987",
          "RFM Cantidad:2<br>RFM Recencia:1<br>RFM Valor Monetario Promedio:1.91<br>Cantidad Clientes:352",
          "RFM Cantidad:3<br>RFM Recencia:1<br>RFM Valor Monetario Promedio:2.65<br>Cantidad Clientes:118",
          "RFM Cantidad:4<br>RFM Recencia:1<br>RFM Valor Monetario Promedio:3.77<br>Cantidad Clientes:44",
          "RFM Cantidad:5<br>RFM Recencia:1<br>RFM Valor Monetario Promedio:4.6<br>Cantidad Clientes:10",
          "RFM Cantidad:1<br>RFM Recencia:2<br>RFM Valor Monetario Promedio:1.31<br>Cantidad Clientes:2207",
          "RFM Cantidad:2<br>RFM Recencia:2<br>RFM Valor Monetario Promedio:1.85<br>Cantidad Clientes:950",
          "RFM Cantidad:3<br>RFM Recencia:2<br>RFM Valor Monetario Promedio:2.7<br>Cantidad Clientes:514",
          "RFM Cantidad:4<br>RFM Recencia:2<br>RFM Valor Monetario Promedio:3.6<br>Cantidad Clientes:234",
          "RFM Cantidad:5<br>RFM Recencia:2<br>RFM Valor Monetario Promedio:4.45<br>Cantidad Clientes:94",
          "RFM Cantidad:1<br>RFM Recencia:3<br>RFM Valor Monetario Promedio:1.45<br>Cantidad Clientes:1911",
          "RFM Cantidad:2<br>RFM Recencia:3<br>RFM Valor Monetario Promedio:2.07<br>Cantidad Clientes:1434",
          "RFM Cantidad:3<br>RFM Recencia:3<br>RFM Valor Monetario Promedio:2.77<br>Cantidad Clientes:1026",
          "RFM Cantidad:4<br>RFM Recencia:3<br>RFM Valor Monetario Promedio:3.53<br>Cantidad Clientes:582",
          "RFM Cantidad:5<br>RFM Recencia:3<br>RFM Valor Monetario Promedio:4.48<br>Cantidad Clientes:225",
          "RFM Cantidad:1<br>RFM Recencia:4<br>RFM Valor Monetario Promedio:1.55<br>Cantidad Clientes:1548",
          "RFM Cantidad:2<br>RFM Recencia:4<br>RFM Valor Monetario Promedio:2.12<br>Cantidad Clientes:1549",
          "RFM Cantidad:3<br>RFM Recencia:4<br>RFM Valor Monetario Promedio:2.87<br>Cantidad Clientes:1241",
          "RFM Cantidad:4<br>RFM Recencia:4<br>RFM Valor Monetario Promedio:3.62<br>Cantidad Clientes:779",
          "RFM Cantidad:5<br>RFM Recencia:4<br>RFM Valor Monetario Promedio:4.48<br>Cantidad Clientes:306",
          "RFM Cantidad:1<br>RFM Recencia:5<br>RFM Valor Monetario Promedio:1.67<br>Cantidad Clientes:3996",
          "RFM Cantidad:2<br>RFM Recencia:5<br>RFM Valor Monetario Promedio:2.36<br>Cantidad Clientes:5487",
          "RFM Cantidad:3<br>RFM Recencia:5<br>RFM Valor Monetario Promedio:3.06<br>Cantidad Clientes:7573",
          "RFM Cantidad:4<br>RFM Recencia:5<br>RFM Valor Monetario Promedio:3.82<br>Cantidad Clientes:8752",
          "RFM Cantidad:5<br>RFM Recencia:5<br>RFM Valor Monetario Promedio:4.68<br>Cantidad Clientes:9900"
         ],
         "type": "scatter",
         "uid": "54d530e2-8d41-4db1-b438-578c86fda045",
         "x": [
          1,
          2,
          3,
          4,
          5,
          1,
          2,
          3,
          4,
          5,
          1,
          2,
          3,
          4,
          5,
          1,
          2,
          3,
          4,
          5,
          1,
          2,
          3,
          4,
          5
         ],
         "y": [
          1,
          1,
          1,
          1,
          1,
          2,
          2,
          2,
          2,
          2,
          3,
          3,
          3,
          3,
          3,
          4,
          4,
          4,
          4,
          4,
          5,
          5,
          5,
          5,
          5
         ]
        }
       ],
       "layout": {
        "autosize": true,
        "hovermode": "closest",
        "title": {
         "text": "RFM por Cliente"
        },
        "xaxis": {
         "title": {
          "font": {
           "color": "#14A751",
           "family": "Myriad",
           "size": 20
          },
          "text": "RFM Cantidad"
         }
        },
        "yaxis": {
         "title": {
          "font": {
           "color": "#14A751",
           "family": "Myriad",
           "size": 20
          },
          "text": "RFM Recencia"
         }
        }
       }
      },
      "text/html": [
       "<div id=\"28f83e95-125f-44d5-8bba-ac2469388f8a\" style=\"height: 525px; width: 100%;\" class=\"plotly-graph-div\"></div><script type=\"text/javascript\">require([\"plotly\"], function(Plotly) { window.PLOTLYENV=window.PLOTLYENV || {};window.PLOTLYENV.BASE_URL=\"https://plot.ly\";Plotly.newPlot(\"28f83e95-125f-44d5-8bba-ac2469388f8a\", [{\"marker\": {\"color\": [1.1902365374937092, 1.9119318181818181, 2.652542372881356, 3.772727272727273, 4.6, 1.3072043497961032, 1.8505263157894736, 2.700389105058366, 3.6025641025641026, 4.446808510638298, 1.4531658817373103, 2.071129707112971, 2.7680311890838207, 3.5326460481099655, 4.484444444444445, 1.5529715762273901, 2.120723047127179, 2.871071716357776, 3.6238767650834403, 4.483660130718954, 1.6659159159159158, 2.3612174229998177, 3.055328139442757, 3.816156307129799, 4.682121212121212], \"colorbar\": {\"title\": {\"text\": \"RFM Valor Monetario\"}}, \"colorscale\": \"Viridis\", \"showscale\": true, \"size\": [30.37953754886608, 23.465872227733186, 19.11649397244612, 15.226649959081278, 9.591581091193483, 30.799369629587943, 27.43005625018156, 24.976667602654945, 21.838342056576636, 18.215507566402163, 30.223620374445385, 29.075680512774888, 27.73758883971423, 25.47274874540197, 21.682139997089145, 29.381459361667474, 29.38404083965317, 28.497913049973697, 26.63717567873455, 22.907390990348787, 33.17319743484529, 34.44127667762289, 35.72990643384696, 36.30860711092975, 36.80156416449006]}, \"mode\": \"markers\", \"text\": [\"RFM Cantidad:1<br>RFM Recencia:1<br>RFM Valor Monetario Promedio:1.19<br>Cantidad Clientes:1987\", \"RFM Cantidad:2<br>RFM Recencia:1<br>RFM Valor Monetario Promedio:1.91<br>Cantidad Clientes:352\", \"RFM Cantidad:3<br>RFM Recencia:1<br>RFM Valor Monetario Promedio:2.65<br>Cantidad Clientes:118\", \"RFM Cantidad:4<br>RFM Recencia:1<br>RFM Valor Monetario Promedio:3.77<br>Cantidad Clientes:44\", \"RFM Cantidad:5<br>RFM Recencia:1<br>RFM Valor Monetario Promedio:4.6<br>Cantidad Clientes:10\", \"RFM Cantidad:1<br>RFM Recencia:2<br>RFM Valor Monetario Promedio:1.31<br>Cantidad Clientes:2207\", \"RFM Cantidad:2<br>RFM Recencia:2<br>RFM Valor Monetario Promedio:1.85<br>Cantidad Clientes:950\", \"RFM Cantidad:3<br>RFM Recencia:2<br>RFM Valor Monetario Promedio:2.7<br>Cantidad Clientes:514\", \"RFM Cantidad:4<br>RFM Recencia:2<br>RFM Valor Monetario Promedio:3.6<br>Cantidad Clientes:234\", \"RFM Cantidad:5<br>RFM Recencia:2<br>RFM Valor Monetario Promedio:4.45<br>Cantidad Clientes:94\", \"RFM Cantidad:1<br>RFM Recencia:3<br>RFM Valor Monetario Promedio:1.45<br>Cantidad Clientes:1911\", \"RFM Cantidad:2<br>RFM Recencia:3<br>RFM Valor Monetario Promedio:2.07<br>Cantidad Clientes:1434\", \"RFM Cantidad:3<br>RFM Recencia:3<br>RFM Valor Monetario Promedio:2.77<br>Cantidad Clientes:1026\", \"RFM Cantidad:4<br>RFM Recencia:3<br>RFM Valor Monetario Promedio:3.53<br>Cantidad Clientes:582\", \"RFM Cantidad:5<br>RFM Recencia:3<br>RFM Valor Monetario Promedio:4.48<br>Cantidad Clientes:225\", \"RFM Cantidad:1<br>RFM Recencia:4<br>RFM Valor Monetario Promedio:1.55<br>Cantidad Clientes:1548\", \"RFM Cantidad:2<br>RFM Recencia:4<br>RFM Valor Monetario Promedio:2.12<br>Cantidad Clientes:1549\", \"RFM Cantidad:3<br>RFM Recencia:4<br>RFM Valor Monetario Promedio:2.87<br>Cantidad Clientes:1241\", \"RFM Cantidad:4<br>RFM Recencia:4<br>RFM Valor Monetario Promedio:3.62<br>Cantidad Clientes:779\", \"RFM Cantidad:5<br>RFM Recencia:4<br>RFM Valor Monetario Promedio:4.48<br>Cantidad Clientes:306\", \"RFM Cantidad:1<br>RFM Recencia:5<br>RFM Valor Monetario Promedio:1.67<br>Cantidad Clientes:3996\", \"RFM Cantidad:2<br>RFM Recencia:5<br>RFM Valor Monetario Promedio:2.36<br>Cantidad Clientes:5487\", \"RFM Cantidad:3<br>RFM Recencia:5<br>RFM Valor Monetario Promedio:3.06<br>Cantidad Clientes:7573\", \"RFM Cantidad:4<br>RFM Recencia:5<br>RFM Valor Monetario Promedio:3.82<br>Cantidad Clientes:8752\", \"RFM Cantidad:5<br>RFM Recencia:5<br>RFM Valor Monetario Promedio:4.68<br>Cantidad Clientes:9900\"], \"x\": [1, 2, 3, 4, 5, 1, 2, 3, 4, 5, 1, 2, 3, 4, 5, 1, 2, 3, 4, 5, 1, 2, 3, 4, 5], \"y\": [1, 1, 1, 1, 1, 2, 2, 2, 2, 2, 3, 3, 3, 3, 3, 4, 4, 4, 4, 4, 5, 5, 5, 5, 5], \"type\": \"scatter\", \"uid\": \"54d530e2-8d41-4db1-b438-578c86fda045\"}], {\"autosize\": true, \"hovermode\": \"closest\", \"title\": {\"text\": \"RFM por Cliente\"}, \"xaxis\": {\"title\": {\"font\": {\"color\": \"#14A751\", \"family\": \"Myriad\", \"size\": 20}, \"text\": \"RFM Cantidad\"}}, \"yaxis\": {\"title\": {\"font\": {\"color\": \"#14A751\", \"family\": \"Myriad\", \"size\": 20}, \"text\": \"RFM Recencia\"}}}, {\"showLink\": false, \"linkText\": \"Export to plot.ly\", \"plotlyServerURL\": \"https://plot.ly\"})});</script><script type=\"text/javascript\">window.addEventListener(\"resize\", function(){window._Plotly.Plots.resize(document.getElementById(\"28f83e95-125f-44d5-8bba-ac2469388f8a\"));});</script>"
      ],
      "text/vnd.plotly.v1+html": [
       "<div id=\"28f83e95-125f-44d5-8bba-ac2469388f8a\" style=\"height: 525px; width: 100%;\" class=\"plotly-graph-div\"></div><script type=\"text/javascript\">require([\"plotly\"], function(Plotly) { window.PLOTLYENV=window.PLOTLYENV || {};window.PLOTLYENV.BASE_URL=\"https://plot.ly\";Plotly.newPlot(\"28f83e95-125f-44d5-8bba-ac2469388f8a\", [{\"marker\": {\"color\": [1.1902365374937092, 1.9119318181818181, 2.652542372881356, 3.772727272727273, 4.6, 1.3072043497961032, 1.8505263157894736, 2.700389105058366, 3.6025641025641026, 4.446808510638298, 1.4531658817373103, 2.071129707112971, 2.7680311890838207, 3.5326460481099655, 4.484444444444445, 1.5529715762273901, 2.120723047127179, 2.871071716357776, 3.6238767650834403, 4.483660130718954, 1.6659159159159158, 2.3612174229998177, 3.055328139442757, 3.816156307129799, 4.682121212121212], \"colorbar\": {\"title\": {\"text\": \"RFM Valor Monetario\"}}, \"colorscale\": \"Viridis\", \"showscale\": true, \"size\": [30.37953754886608, 23.465872227733186, 19.11649397244612, 15.226649959081278, 9.591581091193483, 30.799369629587943, 27.43005625018156, 24.976667602654945, 21.838342056576636, 18.215507566402163, 30.223620374445385, 29.075680512774888, 27.73758883971423, 25.47274874540197, 21.682139997089145, 29.381459361667474, 29.38404083965317, 28.497913049973697, 26.63717567873455, 22.907390990348787, 33.17319743484529, 34.44127667762289, 35.72990643384696, 36.30860711092975, 36.80156416449006]}, \"mode\": \"markers\", \"text\": [\"RFM Cantidad:1<br>RFM Recencia:1<br>RFM Valor Monetario Promedio:1.19<br>Cantidad Clientes:1987\", \"RFM Cantidad:2<br>RFM Recencia:1<br>RFM Valor Monetario Promedio:1.91<br>Cantidad Clientes:352\", \"RFM Cantidad:3<br>RFM Recencia:1<br>RFM Valor Monetario Promedio:2.65<br>Cantidad Clientes:118\", \"RFM Cantidad:4<br>RFM Recencia:1<br>RFM Valor Monetario Promedio:3.77<br>Cantidad Clientes:44\", \"RFM Cantidad:5<br>RFM Recencia:1<br>RFM Valor Monetario Promedio:4.6<br>Cantidad Clientes:10\", \"RFM Cantidad:1<br>RFM Recencia:2<br>RFM Valor Monetario Promedio:1.31<br>Cantidad Clientes:2207\", \"RFM Cantidad:2<br>RFM Recencia:2<br>RFM Valor Monetario Promedio:1.85<br>Cantidad Clientes:950\", \"RFM Cantidad:3<br>RFM Recencia:2<br>RFM Valor Monetario Promedio:2.7<br>Cantidad Clientes:514\", \"RFM Cantidad:4<br>RFM Recencia:2<br>RFM Valor Monetario Promedio:3.6<br>Cantidad Clientes:234\", \"RFM Cantidad:5<br>RFM Recencia:2<br>RFM Valor Monetario Promedio:4.45<br>Cantidad Clientes:94\", \"RFM Cantidad:1<br>RFM Recencia:3<br>RFM Valor Monetario Promedio:1.45<br>Cantidad Clientes:1911\", \"RFM Cantidad:2<br>RFM Recencia:3<br>RFM Valor Monetario Promedio:2.07<br>Cantidad Clientes:1434\", \"RFM Cantidad:3<br>RFM Recencia:3<br>RFM Valor Monetario Promedio:2.77<br>Cantidad Clientes:1026\", \"RFM Cantidad:4<br>RFM Recencia:3<br>RFM Valor Monetario Promedio:3.53<br>Cantidad Clientes:582\", \"RFM Cantidad:5<br>RFM Recencia:3<br>RFM Valor Monetario Promedio:4.48<br>Cantidad Clientes:225\", \"RFM Cantidad:1<br>RFM Recencia:4<br>RFM Valor Monetario Promedio:1.55<br>Cantidad Clientes:1548\", \"RFM Cantidad:2<br>RFM Recencia:4<br>RFM Valor Monetario Promedio:2.12<br>Cantidad Clientes:1549\", \"RFM Cantidad:3<br>RFM Recencia:4<br>RFM Valor Monetario Promedio:2.87<br>Cantidad Clientes:1241\", \"RFM Cantidad:4<br>RFM Recencia:4<br>RFM Valor Monetario Promedio:3.62<br>Cantidad Clientes:779\", \"RFM Cantidad:5<br>RFM Recencia:4<br>RFM Valor Monetario Promedio:4.48<br>Cantidad Clientes:306\", \"RFM Cantidad:1<br>RFM Recencia:5<br>RFM Valor Monetario Promedio:1.67<br>Cantidad Clientes:3996\", \"RFM Cantidad:2<br>RFM Recencia:5<br>RFM Valor Monetario Promedio:2.36<br>Cantidad Clientes:5487\", \"RFM Cantidad:3<br>RFM Recencia:5<br>RFM Valor Monetario Promedio:3.06<br>Cantidad Clientes:7573\", \"RFM Cantidad:4<br>RFM Recencia:5<br>RFM Valor Monetario Promedio:3.82<br>Cantidad Clientes:8752\", \"RFM Cantidad:5<br>RFM Recencia:5<br>RFM Valor Monetario Promedio:4.68<br>Cantidad Clientes:9900\"], \"x\": [1, 2, 3, 4, 5, 1, 2, 3, 4, 5, 1, 2, 3, 4, 5, 1, 2, 3, 4, 5, 1, 2, 3, 4, 5], \"y\": [1, 1, 1, 1, 1, 2, 2, 2, 2, 2, 3, 3, 3, 3, 3, 4, 4, 4, 4, 4, 5, 5, 5, 5, 5], \"type\": \"scatter\", \"uid\": \"54d530e2-8d41-4db1-b438-578c86fda045\"}], {\"autosize\": true, \"hovermode\": \"closest\", \"title\": {\"text\": \"RFM por Cliente\"}, \"xaxis\": {\"title\": {\"font\": {\"color\": \"#14A751\", \"family\": \"Myriad\", \"size\": 20}, \"text\": \"RFM Cantidad\"}}, \"yaxis\": {\"title\": {\"font\": {\"color\": \"#14A751\", \"family\": \"Myriad\", \"size\": 20}, \"text\": \"RFM Recencia\"}}}, {\"showLink\": false, \"linkText\": \"Export to plot.ly\", \"plotlyServerURL\": \"https://plot.ly\"})});</script><script type=\"text/javascript\">window.addEventListener(\"resize\", function(){window._Plotly.Plots.resize(document.getElementById(\"28f83e95-125f-44d5-8bba-ac2469388f8a\"));});</script>"
      ]
     },
     "metadata": {},
     "output_type": "display_data"
    }
   ],
   "source": [
    "crear_scatter_RFM(transacciones_agrupadas_RFM,\"RFM por Cliente\", size='Cantidad_Clientes')"
   ]
  },
  {
   "cell_type": "markdown",
   "metadata": {
    "slideshow": {
     "slide_type": "subslide"
    }
   },
   "source": [
    "Para los clientes, se puede apreciar que la mayoría caen en segmentos donde su transacción más reciente fue en el ultimo mes, por lo tanto son usuarios activos de la tarjeta. Sin embargo, una gran parte de los clientes (aproximadamente 10,000), tienen una cantidad y valor monetario bajos en su tarjeta. Por otro lado, hay un número de clientes (aproximadamente 1,500) con un nivel bueno de transaccionalidad pero baja recencia, que pueden ser \"rescatados\". **Esta gráfica nos ayuda a visualizar a los clientes de TC según segmentos de uso de la misma!**"
   ]
  },
  {
   "cell_type": "markdown",
   "metadata": {
    "slideshow": {
     "slide_type": "slide"
    }
   },
   "source": [
    "## Exploración de Clientes"
   ]
  },
  {
   "cell_type": "markdown",
   "metadata": {
    "slideshow": {
     "slide_type": "subslide"
    }
   },
   "source": [
    "A continuación, se calcularon las top 3 categorias de comercio preferentes por cliente, utilizando la metrica del RFM, y se realizó un análisis según caracteristicas de los clientes. Primero, el listado de preferencias por cliente."
   ]
  },
  {
   "cell_type": "code",
   "execution_count": 68,
   "metadata": {
    "slideshow": {
     "slide_type": "slide"
    }
   },
   "outputs": [
    {
     "data": {
      "text/html": [
       "<div>\n",
       "<style scoped>\n",
       "    .dataframe tbody tr th:only-of-type {\n",
       "        vertical-align: middle;\n",
       "    }\n",
       "\n",
       "    .dataframe tbody tr th {\n",
       "        vertical-align: top;\n",
       "    }\n",
       "\n",
       "    .dataframe thead th {\n",
       "        text-align: right;\n",
       "    }\n",
       "</style>\n",
       "<table border=\"1\" class=\"dataframe\">\n",
       "  <thead>\n",
       "    <tr style=\"text-align: right;\">\n",
       "      <th></th>\n",
       "      <th>Codigo_Cliente</th>\n",
       "      <th>Tipo_De_Persona</th>\n",
       "      <th>Segmento</th>\n",
       "      <th>Edad</th>\n",
       "      <th>Zona</th>\n",
       "      <th>Sexo</th>\n",
       "      <th>Limite_TC</th>\n",
       "    </tr>\n",
       "  </thead>\n",
       "  <tbody>\n",
       "    <tr>\n",
       "      <th>0</th>\n",
       "      <td>10.0</td>\n",
       "      <td>N</td>\n",
       "      <td>Clasico</td>\n",
       "      <td>36.0</td>\n",
       "      <td>Norte</td>\n",
       "      <td>F</td>\n",
       "      <td>50000.0</td>\n",
       "    </tr>\n",
       "    <tr>\n",
       "      <th>1</th>\n",
       "      <td>22.0</td>\n",
       "      <td>N</td>\n",
       "      <td>Emergente</td>\n",
       "      <td>54.0</td>\n",
       "      <td>Metropolitana</td>\n",
       "      <td>F</td>\n",
       "      <td>84000.0</td>\n",
       "    </tr>\n",
       "    <tr>\n",
       "      <th>2</th>\n",
       "      <td>51.0</td>\n",
       "      <td>N</td>\n",
       "      <td>Clasico</td>\n",
       "      <td>56.0</td>\n",
       "      <td>Norte</td>\n",
       "      <td>F</td>\n",
       "      <td>72000.0</td>\n",
       "    </tr>\n",
       "    <tr>\n",
       "      <th>3</th>\n",
       "      <td>59.0</td>\n",
       "      <td>N</td>\n",
       "      <td>Preferencial</td>\n",
       "      <td>49.0</td>\n",
       "      <td>Norte</td>\n",
       "      <td>M</td>\n",
       "      <td>100000.0</td>\n",
       "    </tr>\n",
       "    <tr>\n",
       "      <th>4</th>\n",
       "      <td>60.0</td>\n",
       "      <td>N</td>\n",
       "      <td>Emergente</td>\n",
       "      <td>57.0</td>\n",
       "      <td>Norte</td>\n",
       "      <td>M</td>\n",
       "      <td>248000.0</td>\n",
       "    </tr>\n",
       "  </tbody>\n",
       "</table>\n",
       "</div>"
      ],
      "text/plain": [
       "   Codigo_Cliente Tipo_De_Persona      Segmento  Edad           Zona Sexo  \\\n",
       "0            10.0               N       Clasico  36.0          Norte    F   \n",
       "1            22.0               N     Emergente  54.0  Metropolitana    F   \n",
       "2            51.0               N       Clasico  56.0          Norte    F   \n",
       "3            59.0               N  Preferencial  49.0          Norte    M   \n",
       "4            60.0               N     Emergente  57.0          Norte    M   \n",
       "\n",
       "   Limite_TC  \n",
       "0    50000.0  \n",
       "1    84000.0  \n",
       "2    72000.0  \n",
       "3   100000.0  \n",
       "4   248000.0  "
      ]
     },
     "execution_count": 68,
     "metadata": {},
     "output_type": "execute_result"
    }
   ],
   "source": [
    "data_clientes_bsc = pd.read_csv(\"data/data_clientes_bsc.csv\")\n",
    "data_clientes_bsc.head()"
   ]
  },
  {
   "cell_type": "code",
   "execution_count": 69,
   "metadata": {
    "slideshow": {
     "slide_type": "skip"
    }
   },
   "outputs": [
    {
     "data": {
      "text/html": [
       "<div>\n",
       "<style scoped>\n",
       "    .dataframe tbody tr th:only-of-type {\n",
       "        vertical-align: middle;\n",
       "    }\n",
       "\n",
       "    .dataframe tbody tr th {\n",
       "        vertical-align: top;\n",
       "    }\n",
       "\n",
       "    .dataframe thead th {\n",
       "        text-align: right;\n",
       "    }\n",
       "</style>\n",
       "<table border=\"1\" class=\"dataframe\">\n",
       "  <thead>\n",
       "    <tr style=\"text-align: right;\">\n",
       "      <th></th>\n",
       "      <th>Codigo_Cliente</th>\n",
       "      <th>Categoria_Agrupada</th>\n",
       "      <th>Cantidad</th>\n",
       "      <th>Valor_Total_RD</th>\n",
       "      <th>Recencia</th>\n",
       "      <th>Cantidad_RFM</th>\n",
       "      <th>Valor_Monetario_RFM</th>\n",
       "      <th>Score_RFM</th>\n",
       "      <th>Tipo_De_Persona</th>\n",
       "      <th>Segmento</th>\n",
       "      <th>Edad</th>\n",
       "      <th>Zona</th>\n",
       "      <th>Sexo</th>\n",
       "      <th>Limite_TC</th>\n",
       "    </tr>\n",
       "  </thead>\n",
       "  <tbody>\n",
       "    <tr>\n",
       "      <th>0</th>\n",
       "      <td>1</td>\n",
       "      <td>Servicios de Transporte y Viajes</td>\n",
       "      <td>73</td>\n",
       "      <td>3025450.38</td>\n",
       "      <td>10</td>\n",
       "      <td>9</td>\n",
       "      <td>10</td>\n",
       "      <td>9.666667</td>\n",
       "      <td>NaN</td>\n",
       "      <td>NaN</td>\n",
       "      <td>NaN</td>\n",
       "      <td>NaN</td>\n",
       "      <td>NaN</td>\n",
       "      <td>NaN</td>\n",
       "    </tr>\n",
       "    <tr>\n",
       "      <th>1</th>\n",
       "      <td>1</td>\n",
       "      <td>Otros Servicios</td>\n",
       "      <td>64</td>\n",
       "      <td>1563185.57</td>\n",
       "      <td>10</td>\n",
       "      <td>9</td>\n",
       "      <td>10</td>\n",
       "      <td>9.666667</td>\n",
       "      <td>NaN</td>\n",
       "      <td>NaN</td>\n",
       "      <td>NaN</td>\n",
       "      <td>NaN</td>\n",
       "      <td>NaN</td>\n",
       "      <td>NaN</td>\n",
       "    </tr>\n",
       "    <tr>\n",
       "      <th>2</th>\n",
       "      <td>1</td>\n",
       "      <td>Servicios de Comunicacion, Internet y Telecable</td>\n",
       "      <td>171</td>\n",
       "      <td>22761574.59</td>\n",
       "      <td>10</td>\n",
       "      <td>10</td>\n",
       "      <td>10</td>\n",
       "      <td>10.000000</td>\n",
       "      <td>NaN</td>\n",
       "      <td>NaN</td>\n",
       "      <td>NaN</td>\n",
       "      <td>NaN</td>\n",
       "      <td>NaN</td>\n",
       "      <td>NaN</td>\n",
       "    </tr>\n",
       "    <tr>\n",
       "      <th>3</th>\n",
       "      <td>10</td>\n",
       "      <td>Servicios de Salud, Belleza y Recreacion</td>\n",
       "      <td>6</td>\n",
       "      <td>6805.00</td>\n",
       "      <td>10</td>\n",
       "      <td>4</td>\n",
       "      <td>6</td>\n",
       "      <td>6.666667</td>\n",
       "      <td>N</td>\n",
       "      <td>Clasico</td>\n",
       "      <td>36.0</td>\n",
       "      <td>Norte</td>\n",
       "      <td>F</td>\n",
       "      <td>50000.0</td>\n",
       "    </tr>\n",
       "    <tr>\n",
       "      <th>4</th>\n",
       "      <td>10</td>\n",
       "      <td>Ropas</td>\n",
       "      <td>6</td>\n",
       "      <td>5770.00</td>\n",
       "      <td>10</td>\n",
       "      <td>4</td>\n",
       "      <td>6</td>\n",
       "      <td>6.666667</td>\n",
       "      <td>N</td>\n",
       "      <td>Clasico</td>\n",
       "      <td>36.0</td>\n",
       "      <td>Norte</td>\n",
       "      <td>F</td>\n",
       "      <td>50000.0</td>\n",
       "    </tr>\n",
       "  </tbody>\n",
       "</table>\n",
       "</div>"
      ],
      "text/plain": [
       "   Codigo_Cliente                               Categoria_Agrupada  Cantidad  \\\n",
       "0               1                 Servicios de Transporte y Viajes        73   \n",
       "1               1                                  Otros Servicios        64   \n",
       "2               1  Servicios de Comunicacion, Internet y Telecable       171   \n",
       "3              10         Servicios de Salud, Belleza y Recreacion         6   \n",
       "4              10                                            Ropas         6   \n",
       "\n",
       "   Valor_Total_RD  Recencia  Cantidad_RFM  Valor_Monetario_RFM  Score_RFM  \\\n",
       "0      3025450.38        10             9                   10   9.666667   \n",
       "1      1563185.57        10             9                   10   9.666667   \n",
       "2     22761574.59        10            10                   10  10.000000   \n",
       "3         6805.00        10             4                    6   6.666667   \n",
       "4         5770.00        10             4                    6   6.666667   \n",
       "\n",
       "  Tipo_De_Persona Segmento  Edad   Zona Sexo  Limite_TC  \n",
       "0             NaN      NaN   NaN    NaN  NaN        NaN  \n",
       "1             NaN      NaN   NaN    NaN  NaN        NaN  \n",
       "2             NaN      NaN   NaN    NaN  NaN        NaN  \n",
       "3               N  Clasico  36.0  Norte    F    50000.0  \n",
       "4               N  Clasico  36.0  Norte    F    50000.0  "
      ]
     },
     "execution_count": 69,
     "metadata": {},
     "output_type": "execute_result"
    }
   ],
   "source": [
    "preferencias_clientes_full = top_n_comercios_rfm_cliente.merge(data_clientes_bsc,how='left')\n",
    "preferencias_clientes_qgrid = qgrid.show_grid(preferencias_clientes_full[['Codigo_Cliente','Categoria_Agrupada',\n",
    "                                                          'Score_RFM','Cantidad','Valor_Total_RD',\n",
    "                                                          'Segmento','Sexo','Edad']])\n",
    "preferencias_clientes_full.head()"
   ]
  },
  {
   "cell_type": "code",
   "execution_count": 70,
   "metadata": {
    "slideshow": {
     "slide_type": "subslide"
    }
   },
   "outputs": [
    {
     "data": {
      "application/vnd.jupyter.widget-view+json": {
       "model_id": "47adbc633c0b4bc98d2f28ad17089c1b",
       "version_major": 2,
       "version_minor": 0
      },
      "text/plain": [
       "QgridWidget(grid_options={'fullWidthRows': True, 'syncColumnCellResize': True, 'forceFitColumns': True, 'defau…"
      ]
     },
     "metadata": {},
     "output_type": "display_data"
    }
   ],
   "source": [
    "preferencias_clientes_qgrid"
   ]
  },
  {
   "cell_type": "markdown",
   "metadata": {
    "slideshow": {
     "slide_type": "subslide"
    }
   },
   "source": [
    "Luego, procedimos a crear visualizaciones que ilustraran las diferencias de preferencias entre distintos tipos de clientes."
   ]
  },
  {
   "cell_type": "markdown",
   "metadata": {
    "slideshow": {
     "slide_type": "subslide"
    }
   },
   "source": [
    "#### Edad Mediana por Categoria de Comercio"
   ]
  },
  {
   "cell_type": "code",
   "execution_count": 71,
   "metadata": {
    "slideshow": {
     "slide_type": "skip"
    }
   },
   "outputs": [],
   "source": [
    "edad_mediana_por_categoria = create_grouping(preferencias_clientes_full,[\"Categoria_Agrupada\"],[\"Edad\"]\n",
    "                ,[\"Categoria_Agrupada\",\"Edad_Promedio\"],aggregation=\"median\")"
   ]
  },
  {
   "cell_type": "code",
   "execution_count": 72,
   "metadata": {
    "slideshow": {
     "slide_type": "subslide"
    }
   },
   "outputs": [
    {
     "data": {
      "application/vnd.plotly.v1+json": {
       "config": {
        "linkText": "Export to plot.ly",
        "plotlyServerURL": "https://plot.ly",
        "showLink": false
       },
       "data": [
        {
         "marker": {
          "color": "#1D62AE",
          "line": {
           "color": "#14A751",
           "width": 1
          }
         },
         "type": "bar",
         "uid": "9608b9fd-a7e8-4930-9114-603d29a6ec56",
         "x": [
          "Servicios Agropecuarios",
          "Servicios Gubernamentales",
          "Ventas y Servicios de Equipos Electricos",
          "Instituciones Financieras y Aseguradoras",
          "Servicios de Construccion y Decoracion",
          "Ferreterias y Hogar",
          "Servicios de Transporte y Viajes",
          "Servicios de Salud, Belleza y Recreacion",
          "Servicios de Comunicacion, Internet y Telecable",
          "Articulos de Oficina",
          "Hoteles Moteles Resorts",
          "Gasolineras y Vehiculos",
          "Supermercados y Alimentos",
          "Restaurantes",
          "Ropas",
          "Otros Servicios",
          "Licores",
          "Servicios de Textiles e Imprenta",
          "Servicios Educativos",
          "Tecnologia y Software",
          "Tienda De Venta Especializada",
          "Servicio Personales (Deliveries, etc.)",
          "Musica",
          "Comida Rapida",
          "Cine y Peliculas",
          "Vida Nocturna"
         ],
         "y": [
          44,
          44,
          44,
          44,
          44,
          43,
          42,
          41,
          41,
          41,
          41,
          40,
          40,
          39,
          39,
          39,
          39,
          38.5,
          38,
          38,
          38,
          37,
          36,
          34,
          32,
          32
         ]
        }
       ],
       "layout": {
        "height": 400,
        "title": {
         "text": "Edad Mediana Por Categoria"
        },
        "width": 800,
        "xaxis": {
         "showticklabels": true,
         "title": {
          "font": {
           "color": "#14A751",
           "family": "Myriad",
           "size": 20
          },
          "text": "Categoria_Agrupada"
         }
        },
        "yaxis": {
         "title": {
          "font": {
           "color": "#14A751",
           "family": "Myriad",
           "size": 20
          },
          "text": "Edad_Promedio"
         }
        }
       }
      },
      "text/html": [
       "<div id=\"a6fb5841-a989-46cc-b0e6-b3bd1f10201a\" style=\"height: 400px; width: 800px;\" class=\"plotly-graph-div\"></div><script type=\"text/javascript\">require([\"plotly\"], function(Plotly) { window.PLOTLYENV=window.PLOTLYENV || {};window.PLOTLYENV.BASE_URL=\"https://plot.ly\";Plotly.newPlot(\"a6fb5841-a989-46cc-b0e6-b3bd1f10201a\", [{\"marker\": {\"color\": \"#1D62AE\", \"line\": {\"color\": \"#14A751\", \"width\": 1}}, \"x\": [\"Servicios Agropecuarios\", \"Servicios Gubernamentales\", \"Ventas y Servicios de Equipos Electricos\", \"Instituciones Financieras y Aseguradoras\", \"Servicios de Construccion y Decoracion\", \"Ferreterias y Hogar\", \"Servicios de Transporte y Viajes\", \"Servicios de Salud, Belleza y Recreacion\", \"Servicios de Comunicacion, Internet y Telecable\", \"Articulos de Oficina\", \"Hoteles Moteles Resorts\", \"Gasolineras y Vehiculos\", \"Supermercados y Alimentos\", \"Restaurantes\", \"Ropas\", \"Otros Servicios\", \"Licores\", \"Servicios de Textiles e Imprenta\", \"Servicios Educativos\", \"Tecnologia y Software\", \"Tienda De Venta Especializada\", \"Servicio Personales (Deliveries, etc.)\", \"Musica\", \"Comida Rapida\", \"Cine y Peliculas\", \"Vida Nocturna\"], \"y\": [44.0, 44.0, 44.0, 44.0, 44.0, 43.0, 42.0, 41.0, 41.0, 41.0, 41.0, 40.0, 40.0, 39.0, 39.0, 39.0, 39.0, 38.5, 38.0, 38.0, 38.0, 37.0, 36.0, 34.0, 32.0, 32.0], \"type\": \"bar\", \"uid\": \"9608b9fd-a7e8-4930-9114-603d29a6ec56\"}], {\"height\": 400, \"title\": {\"text\": \"Edad Mediana Por Categoria\"}, \"width\": 800, \"xaxis\": {\"showticklabels\": true, \"title\": {\"font\": {\"color\": \"#14A751\", \"family\": \"Myriad\", \"size\": 20}, \"text\": \"Categoria_Agrupada\"}}, \"yaxis\": {\"title\": {\"font\": {\"color\": \"#14A751\", \"family\": \"Myriad\", \"size\": 20}, \"text\": \"Edad_Promedio\"}}}, {\"showLink\": false, \"linkText\": \"Export to plot.ly\", \"plotlyServerURL\": \"https://plot.ly\"})});</script>"
      ],
      "text/vnd.plotly.v1+html": [
       "<div id=\"a6fb5841-a989-46cc-b0e6-b3bd1f10201a\" style=\"height: 400px; width: 800px;\" class=\"plotly-graph-div\"></div><script type=\"text/javascript\">require([\"plotly\"], function(Plotly) { window.PLOTLYENV=window.PLOTLYENV || {};window.PLOTLYENV.BASE_URL=\"https://plot.ly\";Plotly.newPlot(\"a6fb5841-a989-46cc-b0e6-b3bd1f10201a\", [{\"marker\": {\"color\": \"#1D62AE\", \"line\": {\"color\": \"#14A751\", \"width\": 1}}, \"x\": [\"Servicios Agropecuarios\", \"Servicios Gubernamentales\", \"Ventas y Servicios de Equipos Electricos\", \"Instituciones Financieras y Aseguradoras\", \"Servicios de Construccion y Decoracion\", \"Ferreterias y Hogar\", \"Servicios de Transporte y Viajes\", \"Servicios de Salud, Belleza y Recreacion\", \"Servicios de Comunicacion, Internet y Telecable\", \"Articulos de Oficina\", \"Hoteles Moteles Resorts\", \"Gasolineras y Vehiculos\", \"Supermercados y Alimentos\", \"Restaurantes\", \"Ropas\", \"Otros Servicios\", \"Licores\", \"Servicios de Textiles e Imprenta\", \"Servicios Educativos\", \"Tecnologia y Software\", \"Tienda De Venta Especializada\", \"Servicio Personales (Deliveries, etc.)\", \"Musica\", \"Comida Rapida\", \"Cine y Peliculas\", \"Vida Nocturna\"], \"y\": [44.0, 44.0, 44.0, 44.0, 44.0, 43.0, 42.0, 41.0, 41.0, 41.0, 41.0, 40.0, 40.0, 39.0, 39.0, 39.0, 39.0, 38.5, 38.0, 38.0, 38.0, 37.0, 36.0, 34.0, 32.0, 32.0], \"type\": \"bar\", \"uid\": \"9608b9fd-a7e8-4930-9114-603d29a6ec56\"}], {\"height\": 400, \"title\": {\"text\": \"Edad Mediana Por Categoria\"}, \"width\": 800, \"xaxis\": {\"showticklabels\": true, \"title\": {\"font\": {\"color\": \"#14A751\", \"family\": \"Myriad\", \"size\": 20}, \"text\": \"Categoria_Agrupada\"}}, \"yaxis\": {\"title\": {\"font\": {\"color\": \"#14A751\", \"family\": \"Myriad\", \"size\": 20}, \"text\": \"Edad_Promedio\"}}}, {\"showLink\": false, \"linkText\": \"Export to plot.ly\", \"plotlyServerURL\": \"https://plot.ly\"})});</script>"
      ]
     },
     "metadata": {},
     "output_type": "display_data"
    }
   ],
   "source": [
    "bar_plotly(dataframe=edad_mediana_por_categoria,dim=\"Categoria_Agrupada\",value=\"Edad_Promedio\"\n",
    "           ,title=\"Edad Mediana Por Categoria\",show_text=True)"
   ]
  },
  {
   "cell_type": "markdown",
   "metadata": {
    "slideshow": {
     "slide_type": "subslide"
    }
   },
   "source": [
    "Concerniente a la edad, en los jovenes se nota una enorme preferencia en **Entretenimiento**, **Tecnología**, **Vida Nocturna** y **Compras en Línea**; los clientes más mayores, prefieren servicios para mejorar su futuro, tales como **Inversiones en Tierra y Ganado**, **Servicios del Gobierno** y de **Instituciones Financieras** y tambien **Construcción** y el **Hogar**.\n",
    "\n",
    "Ahora veamos una distribución según subsegmento de edad (18 a 27: Joven, 28 a 59 Adulto, 60 en Adelante Senior)"
   ]
  },
  {
   "cell_type": "code",
   "execution_count": 81,
   "metadata": {
    "slideshow": {
     "slide_type": "skip"
    }
   },
   "outputs": [],
   "source": [
    "def stacked_bar_plotly(dataframe,dim,group,value,title):   \n",
    "    sorted_dataframe = dataframe.sort_values(by=value,ascending=False)\n",
    "    data = list()\n",
    "    group_values = dataframe[group].unique()\n",
    "    for group_name in group_values:\n",
    "        group_data = sorted_dataframe.loc[sorted_dataframe[group] == group_name]\n",
    "        data.append(go.Bar(\n",
    "                    y=group_data[value],\n",
    "                    x=group_data[dim],\n",
    "                    name=group_name\n",
    "                )\n",
    "            )\n",
    "    \n",
    "\n",
    "    layout = go.Layout(\n",
    "        title=title,\n",
    "        height=400,\n",
    "        width=800,\n",
    "        barmode='stack',\n",
    "         xaxis=dict(\n",
    "            title=dim,\n",
    "            titlefont=dict(\n",
    "                family='Myriad',\n",
    "                size=20,\n",
    "                color='#14A751'\n",
    "            ),\n",
    "        ),\n",
    "         yaxis=dict(\n",
    "            title=value,\n",
    "            titlefont=dict(\n",
    "                family='Myriad',\n",
    "                size=20,\n",
    "                color='#14A751'\n",
    "            )\n",
    "        )\n",
    "    )\n",
    "    fig = go.Figure(data=data, layout=layout)\n",
    "    ipy(fig, config=plotly_config)"
   ]
  },
  {
   "cell_type": "code",
   "execution_count": 82,
   "metadata": {
    "slideshow": {
     "slide_type": "skip"
    }
   },
   "outputs": [],
   "source": [
    "def create_count_percentage_by_group(dataframe, groupby_cols,count_col\n",
    "                                     ,new_cols):\n",
    "    count_data = dataframe.groupby(groupby_cols)[count_col].count()\n",
    "    percentage_data = count_data.groupby(level=0).apply(lambda x: 100 * x / x.sum()).reset_index()\n",
    "    percentage_data.columns = new_cols\n",
    "    return percentage_data"
   ]
  },
  {
   "cell_type": "code",
   "execution_count": 75,
   "metadata": {
    "slideshow": {
     "slide_type": "skip"
    }
   },
   "outputs": [],
   "source": [
    "preferencias_clientes_full[\"Microsegmento_Edad\"] = pd.cut(preferencias_clientes_full.Edad\n",
    "                                                          ,[18,28,59,999],labels=[\"Joven\",\"Adulto\",\"Senior\"])\n",
    "preferencias_clientes_full[\"Rango_Limite_TC\"] = pd.cut(preferencias_clientes_full.Limite_TC\n",
    "                                                          ,[0,25000,50000,100000,200000,500000,10000000]\n",
    "                                                      ,labels=[\"0 a 25k\",\"25k a 50k\",\"50k a 100k\",\"100k a 200k\",\n",
    "                                                              \"200k a 500k\",\"500k en adelante\"])"
   ]
  },
  {
   "cell_type": "markdown",
   "metadata": {
    "slideshow": {
     "slide_type": "subslide"
    }
   },
   "source": [
    "**Nota:** en los siguientes graficos de barra, el eje vertical representa el porcentaje de clientes, sumando a un 100% siempre. Los colores representan las categorias de interes. Se puede hacer doble clic en una categoriar para filtrar el gráfico por la misma. Esto representaría el porcentaje de una categoria según el filtro, no necesariamente que esta categoria domina al filtro."
   ]
  },
  {
   "cell_type": "code",
   "execution_count": 76,
   "metadata": {
    "slideshow": {
     "slide_type": "skip"
    }
   },
   "outputs": [],
   "source": [
    "columnas_preferencias = [\"Microsegmento_Edad\",\"Segmento\",\"Rango_Limite_TC\",\"Sexo\",\"Zona\"]"
   ]
  },
  {
   "cell_type": "code",
   "execution_count": 77,
   "metadata": {
    "slideshow": {
     "slide_type": "skip"
    }
   },
   "outputs": [],
   "source": [
    "def create_percentage_stacked_chart(column):\n",
    "    pct_preferencias_cat = create_count_percentage_by_group(preferencias_clientes_full\n",
    "                                              ,[\"Categoria_Agrupada\",column],[\"Codigo_Cliente\"]\n",
    "                ,[\"Categoria_Agrupada\",column,\"Porcentaje_Clientes (%)\"])\n",
    "    stacked_bar_plotly(pct_preferencias_cat,\"Categoria_Agrupada\",column\n",
    "                   ,\"Porcentaje_Clientes (%)\",\"Preferencias por Categoria por \" + column)"
   ]
  },
  {
   "cell_type": "code",
   "execution_count": 83,
   "metadata": {
    "slideshow": {
     "slide_type": "subslide"
    }
   },
   "outputs": [
    {
     "data": {
      "application/vnd.jupyter.widget-view+json": {
       "model_id": "11fbb78b43db4d4881aaeff9e3f5aff2",
       "version_major": 2,
       "version_minor": 0
      },
      "text/plain": [
       "interactive(children=(Dropdown(description='columna', options=('Microsegmento_Edad', 'Segmento', 'Rango_Limite…"
      ]
     },
     "metadata": {},
     "output_type": "display_data"
    }
   ],
   "source": [
    "@interact\n",
    "def porcentaje_categoria_columna(columna=columnas_preferencias):\n",
    "    create_percentage_stacked_chart(columna)"
   ]
  },
  {
   "cell_type": "markdown",
   "metadata": {
    "slideshow": {
     "slide_type": "subslide"
    }
   },
   "source": [
    "Se pueden apreciar las diferencias entre las categorias por los segmentos de edad donde: \n",
    "\n",
    "- Las categorias de Entretenimiento, Comida Rapida, Educación y Tecnología tienen mayor captación entre los jovenes.\n",
    "\n",
    "- El Cuidado del Hogar y Supermercados, los Viajes y Restaurantes tienen mayor captación entre los adultos.\n",
    "\n",
    "- Las Instituciones Financieras, y Servicios para Empresas (Gubernamentales, Articulos de Oficina) tienen mayor captación entre los senior."
   ]
  },
  {
   "cell_type": "markdown",
   "metadata": {
    "slideshow": {
     "slide_type": "subslide"
    }
   },
   "source": [
    "Se pueden apreciar las diferencias entre los segmentos donde: \n",
    "\n",
    "- Las categorias de Entretenimiento, y Compras de Bienes tienen auge en los segmentos más bajos.\n",
    "\n",
    "- Los categorias de Servicios, Restaurantes y Vacaciones son más populares en los segmentos de renta altos.\n"
   ]
  },
  {
   "cell_type": "markdown",
   "metadata": {
    "slideshow": {
     "slide_type": "subslide"
    }
   },
   "source": [
    "Con el limite de TC, se ven preferencias similares a las encontradas en los segmentos. Esto tiene sentido, ya que el poder adquisitivo economico está relacionado al limite otorgado en las tarjetas."
   ]
  },
  {
   "cell_type": "markdown",
   "metadata": {
    "slideshow": {
     "slide_type": "subslide"
    }
   },
   "source": [
    "Al analizar por Sexo, se notan las siguientes observaciones: \n",
    "\n",
    "- Las categorias de Ropas y Salud,Belleza y Recreación son preferidas por las mujeres.\n",
    "- La Vida Nocturna, Licores y Vehiculos son preferidas por los hombres.\n",
    "- Existe parecido en ambos sexos para las categorias de Educación, Supermercados, Comida Rapida, Finanzas entre otros."
   ]
  },
  {
   "cell_type": "markdown",
   "metadata": {
    "slideshow": {
     "slide_type": "subslide"
    }
   },
   "source": [
    "Cabe destacar que algunas categorias como Restaurantes, Hoteles, y Viajes, aunque sean dominadas por hombres, la naturaleza del hombre invitar a las mujeres en actividades como esa, sesga los resultados hacia el sexo masculino."
   ]
  },
  {
   "cell_type": "markdown",
   "metadata": {
    "slideshow": {
     "slide_type": "subslide"
    }
   },
   "source": [
    "Por Zona, se puede apreciar lo siguiente: \n",
    "\n",
    "- Mayor presencia de las categorias de Construcción, Cine, Delivery y Comida Rapida en la zona Metro.\n",
    "- Mayor presencia de las categorias de Equipos Electricos y Agropecuarios en la zona Norte.\n",
    "- Igual presencia en las demás, con un poco más de peso en la zona Metro."
   ]
  },
  {
   "cell_type": "code",
   "execution_count": 79,
   "metadata": {
    "slideshow": {
     "slide_type": "skip"
    }
   },
   "outputs": [],
   "source": [
    "def create_dim_percentage_stacked_chart(column):\n",
    "    pct_preferencias_cat = create_count_percentage_by_group(preferencias_clientes_full\n",
    "                                              ,[column,\"Categoria_Agrupada\"],[\"Codigo_Cliente\"]\n",
    "                ,[column,\"Categoria_Agrupada\",\"Porcentaje_Clientes (%)\"])\n",
    "    stacked_bar_plotly(pct_preferencias_cat,column,\"Categoria_Agrupada\"\n",
    "                   ,\"Porcentaje_Clientes (%)\",f\"Preferencias por {column} por Categoria\")"
   ]
  },
  {
   "cell_type": "markdown",
   "metadata": {
    "slideshow": {
     "slide_type": "subslide"
    }
   },
   "source": [
    "**Nota:** En este gráfico, y otros similares a continuación, el eje horizontal representa una dimensión de interes (ejemplo Edad) y los colores representan las categorias de comercio. Su intención es poner más enfasis en la dimensión y las diferencias entre las categorias de comercios. Es recomendado hacer doble clic en una categoria de comercio y explorarla. "
   ]
  },
  {
   "cell_type": "code",
   "execution_count": 80,
   "metadata": {
    "slideshow": {
     "slide_type": "subslide"
    }
   },
   "outputs": [
    {
     "data": {
      "application/vnd.jupyter.widget-view+json": {
       "model_id": "491597ce04a34301b59106c7e34b89bd",
       "version_major": 2,
       "version_minor": 0
      },
      "text/plain": [
       "interactive(children=(Dropdown(description='columna', options=('Microsegmento_Edad', 'Segmento', 'Rango_Limite…"
      ]
     },
     "metadata": {},
     "output_type": "display_data"
    }
   ],
   "source": [
    "@interact\n",
    "def porcentaje_columna_categoria(columna=columnas_preferencias):\n",
    "    create_dim_percentage_stacked_chart(columna)"
   ]
  },
  {
   "cell_type": "markdown",
   "metadata": {
    "slideshow": {
     "slide_type": "subslide"
    }
   },
   "source": [
    "Al explorar el gráfico, se pueden apreciar las diferencias entre los segmentos de edad donde: \n",
    "\n",
    "- Los Jovenes prefieren el entretenimiento y comida, pero tambien la educación y tecnología.\n",
    "- Los Adultos tienen preferencias variadas, pero existe mayor presencia en categorias del hogar y el dia a dia como gasolineras y supermercados.\n",
    "- Los Senior prefieren seguridad y progreso en sus emprendimientos, con categorias como Instituciones Financieras, Servicios, y tambien actividades de retiro como Viajes."
   ]
  },
  {
   "cell_type": "markdown",
   "metadata": {
    "slideshow": {
     "slide_type": "subslide"
    }
   },
   "source": [
    "Al analizarlo por segmento, se notan diferencias interesantes, algunas como:\n",
    "\n",
    "- Los Licores son preferidos por segmentos altos, pero la vida nocturna por los segmentos bajos.\n",
    "- Los Servicios comunes (telefono, agua, internet,luz), son más comunes en los segmentos bajos.\n",
    "- Las compras en linea son dominadas por los Emergentes.\n"
   ]
  },
  {
   "cell_type": "markdown",
   "metadata": {
    "slideshow": {
     "slide_type": "slide"
    }
   },
   "source": [
    "# Inclusión en Vista 360"
   ]
  },
  {
   "cell_type": "markdown",
   "metadata": {
    "slideshow": {
     "slide_type": "subslide"
    }
   },
   "source": [
    "Las preferencias de comercios serán incluidas en la aplicación de Vista 360. El calculo será realizado utilizando las transacciones de un cliente en el ultimo año, y utilizando el calculo del RFM. Los rangos de las variables (ejemplo la Cantidad) para los score de RFM serán guardados y leidos a la hora de crear las preferencias. "
   ]
  },
  {
   "cell_type": "markdown",
   "metadata": {
    "slideshow": {
     "slide_type": "subslide"
    }
   },
   "source": [
    "Las preferencias serán mostradas en el perfil del cliente, en la columna preferencias. Tendrán iconos según la preferencia calculada. "
   ]
  },
  {
   "cell_type": "markdown",
   "metadata": {
    "slideshow": {
     "slide_type": "fragment"
    }
   },
   "source": [
    "![title](http://react.rocks/images/converted/react-evil-icons.jpg)"
   ]
  },
  {
   "cell_type": "markdown",
   "metadata": {
    "slideshow": {
     "slide_type": "slide"
    }
   },
   "source": [
    "# Conclusiones y Posibles Mejoras"
   ]
  },
  {
   "cell_type": "markdown",
   "metadata": {
    "slideshow": {
     "slide_type": "subslide"
    }
   },
   "source": [
    "Pudimos determinar las preferencias de comercios de clientes según las categorias de comercios que frecuentan. Utilizamos varias metodologias para determinarlas, y analizamos las diferencias que trae usar una sobre otra. Al final, utilizamos una que combina la recencia, frecuencia y valor monetario de las transacciones del cliente, para tener un valor más certero."
   ]
  },
  {
   "cell_type": "markdown",
   "metadata": {
    "slideshow": {
     "slide_type": "subslide"
    }
   },
   "source": [
    "Algunas posibles mejoras: \n",
    "\n",
    "- Añadir datos de transacciones con tarjeta de debito. No todos usan exclusivamente su tarjeta de crédito.\n",
    "- Añadir un \"peso categorico\" que asigna menos valor a categorias muy comunes (es decir habría menos peso de preferencia para Supermercados y Gasolineras).\n",
    "- Hacer un análisis más profundo de las categorias agrupadas, añadiendo nuevas y agrupando más categorias similares."
   ]
  },
  {
   "cell_type": "markdown",
   "metadata": {
    "slideshow": {
     "slide_type": "slide"
    }
   },
   "source": [
    "# *FIN*"
   ]
  }
 ],
 "metadata": {
  "celltoolbar": "Slideshow",
  "kernelspec": {
   "display_name": "Python 3",
   "language": "python",
   "name": "python3"
  },
  "language_info": {
   "codemirror_mode": {
    "name": "ipython",
    "version": 3
   },
   "file_extension": ".py",
   "mimetype": "text/x-python",
   "name": "python",
   "nbconvert_exporter": "python",
   "pygments_lexer": "ipython3",
   "version": "3.6.8"
  },
  "livereveal": {
   "scroll": true
  }
 },
 "nbformat": 4,
 "nbformat_minor": 2
}
