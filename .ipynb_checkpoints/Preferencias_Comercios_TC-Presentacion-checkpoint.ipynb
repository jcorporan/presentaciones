{
 "cells": [
  {
   "cell_type": "markdown",
   "metadata": {
    "slideshow": {
     "slide_type": "slide"
    }
   },
   "source": [
    "# Preferencias de Comercios de Clientes de Tarjeta de Crédito\n",
    "\n",
    "El proposito de esta iniciativa es poder determinar cuales son los tipos de comercios preferidos por nuestros clientes, crear un algoritmo que a partir de las transacciones de un cliente determine cuales son sus categorias de comercios preferidos, poder medir que tan preferente es este comercio para poder ordenarlos, y usar los top n comercios preferidos. \n",
    "\n",
    "Esta presentación esta dividida en secciones. Puedes hacer clic en las flechas para navegar, o utilizar la tecla SPACE para avanzar según el orden de la presentación."
   ]
  },
  {
   "cell_type": "code",
   "execution_count": 1,
   "metadata": {
    "slideshow": {
     "slide_type": "skip"
    }
   },
   "outputs": [
    {
     "data": {
      "text/html": [
       "<script type=\"text/javascript\">window.PlotlyConfig = {MathJaxConfig: 'local'};</script><script type=\"text/javascript\">if (window.MathJax) {MathJax.Hub.Config({SVG: {font: \"STIX-Web\"}});}</script><script>requirejs.config({paths: { 'plotly': ['https://cdn.plot.ly/plotly-latest.min']},});if(!window._Plotly) {require(['plotly'],function(plotly) {window._Plotly=plotly;});}</script>"
      ],
      "text/vnd.plotly.v1+html": [
       "<script type=\"text/javascript\">window.PlotlyConfig = {MathJaxConfig: 'local'};</script><script type=\"text/javascript\">if (window.MathJax) {MathJax.Hub.Config({SVG: {font: \"STIX-Web\"}});}</script><script>requirejs.config({paths: { 'plotly': ['https://cdn.plot.ly/plotly-latest.min']},});if(!window._Plotly) {require(['plotly'],function(plotly) {window._Plotly=plotly;});}</script>"
      ]
     },
     "metadata": {},
     "output_type": "display_data"
    }
   ],
   "source": [
    "import pandas as pd \n",
    "import numpy as np\n",
    "import qgrid\n",
    "from sklearn.decomposition import PCA\n",
    "from sklearn.preprocessing import MinMaxScaler\n",
    "import plotly.plotly as py\n",
    "import plotly.graph_objs as go\n",
    "from plotly.offline import iplot as ipy\n",
    "import  plotly\n",
    "\n",
    "plotly.offline.init_notebook_mode(connected=True)\n",
    "plotly_config={'showLink': False}"
   ]
  },
  {
   "cell_type": "markdown",
   "metadata": {
    "slideshow": {
     "slide_type": "slide"
    }
   },
   "source": [
    "# Un vistazo a los datos"
   ]
  },
  {
   "cell_type": "markdown",
   "metadata": {
    "slideshow": {
     "slide_type": "subslide"
    }
   },
   "source": [
    "Para esta proyecto, fueron utilizados las transacciones de Tarjetas de Crédito de clientes de BSC en el año 2018, resumidas por comercio, por mes, por cliente. Este resumen contiene el valor total de las transacciones y la cantidad total de transacciones realizadas por el cliente en un comercio particular."
   ]
  },
  {
   "cell_type": "code",
   "execution_count": 2,
   "metadata": {
    "slideshow": {
     "slide_type": "subslide"
    }
   },
   "outputs": [
    {
     "data": {
      "text/html": [
       "<div>\n",
       "<style scoped>\n",
       "    .dataframe tbody tr th:only-of-type {\n",
       "        vertical-align: middle;\n",
       "    }\n",
       "\n",
       "    .dataframe tbody tr th {\n",
       "        vertical-align: top;\n",
       "    }\n",
       "\n",
       "    .dataframe thead th {\n",
       "        text-align: right;\n",
       "    }\n",
       "</style>\n",
       "<table border=\"1\" class=\"dataframe\">\n",
       "  <thead>\n",
       "    <tr style=\"text-align: right;\">\n",
       "      <th></th>\n",
       "      <th>Codigo_Cliente</th>\n",
       "      <th>DESCRI_PRODUCTO</th>\n",
       "      <th>Moneda</th>\n",
       "      <th>Anio</th>\n",
       "      <th>Mes</th>\n",
       "      <th>Cantidad</th>\n",
       "      <th>Valor_Total_RD</th>\n",
       "      <th>Comercios_Replace</th>\n",
       "      <th>Categoria_Nueva</th>\n",
       "      <th>CODIGO_CATEGORIA_NUEVO</th>\n",
       "    </tr>\n",
       "  </thead>\n",
       "  <tbody>\n",
       "    <tr>\n",
       "      <th>0</th>\n",
       "      <td>107893</td>\n",
       "      <td>VISA PLATINO</td>\n",
       "      <td>DOP</td>\n",
       "      <td>2018</td>\n",
       "      <td>6</td>\n",
       "      <td>1</td>\n",
       "      <td>3390.00</td>\n",
       "      <td>Protein Supplier</td>\n",
       "      <td>Clinicas</td>\n",
       "      <td>8011</td>\n",
       "    </tr>\n",
       "    <tr>\n",
       "      <th>1</th>\n",
       "      <td>106623</td>\n",
       "      <td>VISA CLASICA</td>\n",
       "      <td>DOP</td>\n",
       "      <td>2018</td>\n",
       "      <td>6</td>\n",
       "      <td>2</td>\n",
       "      <td>4408.47</td>\n",
       "      <td>Sirena</td>\n",
       "      <td>Supermercados</td>\n",
       "      <td>5411</td>\n",
       "    </tr>\n",
       "    <tr>\n",
       "      <th>2</th>\n",
       "      <td>329401</td>\n",
       "      <td>VISA CLASICA</td>\n",
       "      <td>USD</td>\n",
       "      <td>2018</td>\n",
       "      <td>4</td>\n",
       "      <td>1</td>\n",
       "      <td>2234.50</td>\n",
       "      <td>Young World</td>\n",
       "      <td>Mercaderia Miscelanea</td>\n",
       "      <td>5399</td>\n",
       "    </tr>\n",
       "    <tr>\n",
       "      <th>3</th>\n",
       "      <td>190163</td>\n",
       "      <td>VISA CLASICA</td>\n",
       "      <td>USD</td>\n",
       "      <td>2018</td>\n",
       "      <td>12</td>\n",
       "      <td>1</td>\n",
       "      <td>599.50</td>\n",
       "      <td>Netflix</td>\n",
       "      <td>Servicio De Telecable</td>\n",
       "      <td>4899</td>\n",
       "    </tr>\n",
       "    <tr>\n",
       "      <th>4</th>\n",
       "      <td>163427</td>\n",
       "      <td>VISA EMPRESARIAL</td>\n",
       "      <td>DOP</td>\n",
       "      <td>2018</td>\n",
       "      <td>4</td>\n",
       "      <td>2</td>\n",
       "      <td>420.01</td>\n",
       "      <td>Burger King</td>\n",
       "      <td>Rest De Comida Rapida</td>\n",
       "      <td>5814</td>\n",
       "    </tr>\n",
       "  </tbody>\n",
       "</table>\n",
       "</div>"
      ],
      "text/plain": [
       "   Codigo_Cliente   DESCRI_PRODUCTO Moneda  Anio  Mes  Cantidad  \\\n",
       "0          107893      VISA PLATINO    DOP  2018    6         1   \n",
       "1          106623      VISA CLASICA    DOP  2018    6         2   \n",
       "2          329401      VISA CLASICA    USD  2018    4         1   \n",
       "3          190163      VISA CLASICA    USD  2018   12         1   \n",
       "4          163427  VISA EMPRESARIAL    DOP  2018    4         2   \n",
       "\n",
       "   Valor_Total_RD Comercios_Replace        Categoria_Nueva  \\\n",
       "0         3390.00  Protein Supplier               Clinicas   \n",
       "1         4408.47            Sirena          Supermercados   \n",
       "2         2234.50       Young World  Mercaderia Miscelanea   \n",
       "3          599.50           Netflix  Servicio De Telecable   \n",
       "4          420.01       Burger King  Rest De Comida Rapida   \n",
       "\n",
       "   CODIGO_CATEGORIA_NUEVO  \n",
       "0                    8011  \n",
       "1                    5411  \n",
       "2                    5399  \n",
       "3                    4899  \n",
       "4                    5814  "
      ]
     },
     "execution_count": 2,
     "metadata": {},
     "output_type": "execute_result"
    }
   ],
   "source": [
    "transacciones =  pd.read_csv(\"data/Transacciones_TC_Pre_Categoria_Sample.zip\",compression='zip')\n",
    "transacciones.head()"
   ]
  },
  {
   "cell_type": "markdown",
   "metadata": {
    "slideshow": {
     "slide_type": "slide"
    }
   },
   "source": [
    "# Preparación de Categorias"
   ]
  },
  {
   "cell_type": "markdown",
   "metadata": {
    "slideshow": {
     "slide_type": "subslide"
    }
   },
   "source": [
    "Lo primero que hicimos fue consolidar las categorias de comercios de transacciones de Tarjetas. Esto es debido a que existen más de 300 categorias, las cuales pueden ser agrupadas por sus similitudes."
   ]
  },
  {
   "cell_type": "markdown",
   "metadata": {
    "slideshow": {
     "slide_type": "fragment"
    }
   },
   "source": [
    "Vamos primero a visualizar las categorias y sus comercios utilizando una tabla interactiva. Puede filtrar y buscar en esta tabla para explorar los datos."
   ]
  },
  {
   "cell_type": "code",
   "execution_count": 3,
   "metadata": {
    "slideshow": {
     "slide_type": "skip"
    }
   },
   "outputs": [],
   "source": [
    "transacciones_productos_categoria = (transacciones.groupby([\"CODIGO_CATEGORIA_NUEVO\",\"Categoria_Nueva\",\"Comercios_Replace\"])\n",
    "                                                  [['Cantidad','Valor_Total_RD']]\n",
    "                                                  .sum()\n",
    "                                                  .reset_index()\n",
    "                                                  .sort_values(['Cantidad','Valor_Total_RD'],ascending=[False,False]))\n",
    "productos_categoria_widget = qgrid.show_grid(transacciones_productos_categoria)"
   ]
  },
  {
   "cell_type": "code",
   "execution_count": 1,
   "metadata": {
    "slideshow": {
     "slide_type": "subslide"
    }
   },
   "outputs": [
    {
     "ename": "NameError",
     "evalue": "name 'productos_categoria_widget' is not defined",
     "output_type": "error",
     "traceback": [
      "\u001b[1;31m---------------------------------------------------------------------------\u001b[0m",
      "\u001b[1;31mNameError\u001b[0m                                 Traceback (most recent call last)",
      "\u001b[1;32m<ipython-input-1-93dfa3dd12d9>\u001b[0m in \u001b[0;36m<module>\u001b[1;34m\u001b[0m\n\u001b[1;32m----> 1\u001b[1;33m \u001b[0mproductos_categoria_widget\u001b[0m\u001b[1;33m\u001b[0m\u001b[1;33m\u001b[0m\u001b[0m\n\u001b[0m",
      "\u001b[1;31mNameError\u001b[0m: name 'productos_categoria_widget' is not defined"
     ]
    }
   ],
   "source": [
    "productos_categoria_widget"
   ]
  },
  {
   "cell_type": "markdown",
   "metadata": {
    "slideshow": {
     "slide_type": "subslide"
    }
   },
   "source": [
    "Se pueden observar las categorias que facturan más tanto en cantidad como en montos, y sus comercios más populares. Sin embargo, analizar este inmenso numero de categorias no es muy sencillo. Afortunadamente, las categorias pueden ser agrupadas, por ejemplo, todas las relacionadas a lineas aereas y viajes en una sola categoria. Para ayudarnos, los primeros digitos de un codigo de categoria usualmente representan una categoria en comun. "
   ]
  },
  {
   "cell_type": "markdown",
   "metadata": {
    "slideshow": {
     "slide_type": "fragment"
    }
   },
   "source": [
    "Vamos a explorar estos codigos para crear una tabla de reemplazos. "
   ]
  },
  {
   "cell_type": "code",
   "execution_count": 5,
   "metadata": {
    "slideshow": {
     "slide_type": "skip"
    }
   },
   "outputs": [
    {
     "data": {
      "text/html": [
       "<div>\n",
       "<style scoped>\n",
       "    .dataframe tbody tr th:only-of-type {\n",
       "        vertical-align: middle;\n",
       "    }\n",
       "\n",
       "    .dataframe tbody tr th {\n",
       "        vertical-align: top;\n",
       "    }\n",
       "\n",
       "    .dataframe thead th {\n",
       "        text-align: right;\n",
       "    }\n",
       "</style>\n",
       "<table border=\"1\" class=\"dataframe\">\n",
       "  <thead>\n",
       "    <tr style=\"text-align: right;\">\n",
       "      <th></th>\n",
       "      <th>CODIGO_CATEGORIA_NUEVO</th>\n",
       "      <th>Categoria_Nueva</th>\n",
       "    </tr>\n",
       "  </thead>\n",
       "  <tbody>\n",
       "    <tr>\n",
       "      <th>417</th>\n",
       "      <td>0</td>\n",
       "      <td>Ath</td>\n",
       "    </tr>\n",
       "    <tr>\n",
       "      <th>2254</th>\n",
       "      <td>742</td>\n",
       "      <td>Veterinarias</td>\n",
       "    </tr>\n",
       "    <tr>\n",
       "      <th>41</th>\n",
       "      <td>763</td>\n",
       "      <td>Ventas Productos Agricolas</td>\n",
       "    </tr>\n",
       "    <tr>\n",
       "      <th>80165</th>\n",
       "      <td>780</td>\n",
       "      <td>Ladscaping And Horticultural Servises</td>\n",
       "    </tr>\n",
       "    <tr>\n",
       "      <th>9631</th>\n",
       "      <td>1520</td>\n",
       "      <td>General Contractors Resid And Comercial</td>\n",
       "    </tr>\n",
       "  </tbody>\n",
       "</table>\n",
       "</div>"
      ],
      "text/plain": [
       "      CODIGO_CATEGORIA_NUEVO                          Categoria_Nueva\n",
       "417                        0                                      Ath\n",
       "2254                     742                             Veterinarias\n",
       "41                       763               Ventas Productos Agricolas\n",
       "80165                    780    Ladscaping And Horticultural Servises\n",
       "9631                    1520  General Contractors Resid And Comercial"
      ]
     },
     "execution_count": 5,
     "metadata": {},
     "output_type": "execute_result"
    }
   ],
   "source": [
    "categorias = transacciones[['CODIGO_CATEGORIA_NUEVO','Categoria_Nueva']].drop_duplicates()\n",
    "categorias = categorias.sort_values(by='CODIGO_CATEGORIA_NUEVO')\n",
    "categorias.CODIGO_CATEGORIA_NUEVO = categorias.CODIGO_CATEGORIA_NUEVO.astype(str)\n",
    "categorias.head()"
   ]
  },
  {
   "cell_type": "code",
   "execution_count": 6,
   "metadata": {
    "slideshow": {
     "slide_type": "skip"
    }
   },
   "outputs": [
    {
     "data": {
      "text/html": [
       "<div>\n",
       "<style scoped>\n",
       "    .dataframe tbody tr th:only-of-type {\n",
       "        vertical-align: middle;\n",
       "    }\n",
       "\n",
       "    .dataframe tbody tr th {\n",
       "        vertical-align: top;\n",
       "    }\n",
       "\n",
       "    .dataframe thead th {\n",
       "        text-align: right;\n",
       "    }\n",
       "</style>\n",
       "<table border=\"1\" class=\"dataframe\">\n",
       "  <thead>\n",
       "    <tr style=\"text-align: right;\">\n",
       "      <th></th>\n",
       "      <th>CODIGO_CATEGORIA_NUEVO</th>\n",
       "      <th>Categoria_Nueva</th>\n",
       "      <th>head_codigo</th>\n",
       "      <th>index_codigo</th>\n",
       "    </tr>\n",
       "  </thead>\n",
       "  <tbody>\n",
       "    <tr>\n",
       "      <th>417</th>\n",
       "      <td>0000</td>\n",
       "      <td>Ath</td>\n",
       "      <td>00</td>\n",
       "      <td>0</td>\n",
       "    </tr>\n",
       "    <tr>\n",
       "      <th>2254</th>\n",
       "      <td>0742</td>\n",
       "      <td>Veterinarias</td>\n",
       "      <td>07</td>\n",
       "      <td>0</td>\n",
       "    </tr>\n",
       "    <tr>\n",
       "      <th>41</th>\n",
       "      <td>0763</td>\n",
       "      <td>Ventas Productos Agricolas</td>\n",
       "      <td>07</td>\n",
       "      <td>0</td>\n",
       "    </tr>\n",
       "    <tr>\n",
       "      <th>80165</th>\n",
       "      <td>0780</td>\n",
       "      <td>Ladscaping And Horticultural Servises</td>\n",
       "      <td>07</td>\n",
       "      <td>0</td>\n",
       "    </tr>\n",
       "    <tr>\n",
       "      <th>9631</th>\n",
       "      <td>1520</td>\n",
       "      <td>General Contractors Resid And Comercial</td>\n",
       "      <td>15</td>\n",
       "      <td>1</td>\n",
       "    </tr>\n",
       "  </tbody>\n",
       "</table>\n",
       "</div>"
      ],
      "text/plain": [
       "      CODIGO_CATEGORIA_NUEVO                          Categoria_Nueva  \\\n",
       "417                     0000                                      Ath   \n",
       "2254                    0742                             Veterinarias   \n",
       "41                      0763               Ventas Productos Agricolas   \n",
       "80165                   0780    Ladscaping And Horticultural Servises   \n",
       "9631                    1520  General Contractors Resid And Comercial   \n",
       "\n",
       "      head_codigo index_codigo  \n",
       "417            00            0  \n",
       "2254           07            0  \n",
       "41             07            0  \n",
       "80165          07            0  \n",
       "9631           15            1  "
      ]
     },
     "execution_count": 6,
     "metadata": {},
     "output_type": "execute_result"
    }
   ],
   "source": [
    "categorias['CODIGO_CATEGORIA_NUEVO'] = categorias['CODIGO_CATEGORIA_NUEVO'].str.pad(4,'left','0')\n",
    "categorias['head_codigo'] = categorias.CODIGO_CATEGORIA_NUEVO.apply(lambda x: x[:2])\n",
    "categorias['index_codigo'] = categorias.CODIGO_CATEGORIA_NUEVO.apply(lambda x: x[0])\n",
    "qgrid_categorias = qgrid.show_grid(categorias)\n",
    "categorias.head()"
   ]
  },
  {
   "cell_type": "code",
   "execution_count": 7,
   "metadata": {
    "slideshow": {
     "slide_type": "subslide"
    }
   },
   "outputs": [
    {
     "data": {
      "application/vnd.jupyter.widget-view+json": {
       "model_id": "b3920717ea734488ac1da5f384ae4acf",
       "version_major": 2,
       "version_minor": 0
      },
      "text/plain": [
       "QgridWidget(grid_options={'fullWidthRows': True, 'syncColumnCellResize': True, 'forceFitColumns': True, 'defau…"
      ]
     },
     "metadata": {},
     "output_type": "display_data"
    }
   ],
   "source": [
    "qgrid_categorias"
   ]
  },
  {
   "cell_type": "markdown",
   "metadata": {
    "slideshow": {
     "slide_type": "subslide"
    }
   },
   "source": [
    "Segun estos codigos, creamos una tabla para agrupar las categorias de comercios segun los dos primeros digitos de la categoria."
   ]
  },
  {
   "cell_type": "code",
   "execution_count": 8,
   "metadata": {
    "slideshow": {
     "slide_type": "skip"
    }
   },
   "outputs": [],
   "source": [
    "head_codigo_replacement_dict = {\n",
    "    '07': 'Servicios Agropecuarios',\n",
    "    '00': 'Ath',\n",
    "    '15': 'Servicios de Construccion y Decoracion',\n",
    "    '17': 'Servicios de Construccion y Decoracion',\n",
    "    '27': 'Servicios de Textiles e Imprenta',\n",
    "    '28': 'Servicios de Textiles e Imprenta',\n",
    "    '30': 'Servicios de Transporte y Viajes',\n",
    "    '31': 'Servicios de Transporte y Viajes',\n",
    "    '32': 'Servicios de Transporte y Viajes',\n",
    "    '33': 'Alquiler de Automoviles',\n",
    "    '34': 'Alquiler de Automoviles',\n",
    "    '35': 'Hoteles Moteles Resorts',\n",
    "    '36': 'Hoteles Moteles Resorts',\n",
    "    '37': 'Hoteles Moteles Resorts',\n",
    "    '40': 'Servicios de Transporte y Viajes',\n",
    "    '41': 'Servicios de Transporte y Viajes',\n",
    "    '42': 'Servicios de Transporte y Viajes',\n",
    "    '44': 'Servicios de Transporte y Viajes',\n",
    "    '45': 'Servicios de Transporte y Viajes',\n",
    "    '47': 'Servicios de Transporte y Viajes',\n",
    "    '48': 'Servicios de Comunicacion, Internet y Telecable',\n",
    "    '49': 'Ventas y Servicios de Equipos Electricos',\n",
    "    '50': 'Ventas y Servicios de Equipos Electricos',\n",
    "    '51': 'Articulos de Oficina',\n",
    "    '52': 'Ferreterias y Hogar',\n",
    "    '53':  'Ropas',\n",
    "    '54': 'Supermercados y Alimentos',\n",
    "    '55': 'Gasolineras y Vehiculos',\n",
    "    '56': 'Ropas',\n",
    "    '57': 'Ferreterias y Hogar',\n",
    "    '59': 'Tienda De Venta Especializada',\n",
    "    '60': 'Instituciones Financieras y Aseguradoras',\n",
    "    '62': 'Instituciones Financieras y Aseguradoras',\n",
    "    '63': 'Instituciones Financieras y Aseguradoras',\n",
    "    '65': 'Instituciones Financieras y Aseguradoras',\n",
    "    '70': 'Hoteles Moteles Resorts',\n",
    "    '72': 'Servicios de Salud, Belleza y Recreacion',\n",
    "    '73': 'Otros Servicios',\n",
    "    '75' : 'Gasolineras y Vehiculos',\n",
    "    '76' : 'Ventas y Servicios de Equipos Electricos',\n",
    "    '78': 'Cine y Peliculas',\n",
    "    '79': 'Servicios de Salud, Belleza y Recreacion',\n",
    "    '80': 'Servicios de Salud, Belleza y Recreacion',\n",
    "    '81': 'Otros Servicios',\n",
    "     '82': 'Servicios Educativos',\n",
    "    '83': 'Otros Servicios',\n",
    "    '86': 'Otros Servicios',\n",
    "    '87' : 'Servicios de Salud, Belleza y Recreacion',\n",
    "    '89': 'Otros Servicios',\n",
    "    '92': 'Servicios Gubernamentales',\n",
    "    '93': 'Servicios Gubernamentales',\n",
    "    '94': 'Servicios Gubernamentales'\n",
    "}\n",
    "\n",
    "codigo_replacement_dict = {\n",
    "    '5814':'Comida Rapida',\n",
    "    '5812': 'Restaurantes',\n",
    "    '5811': 'Licores',\n",
    "    '5813': 'Vida Nocturna',\n",
    "    '5734': 'Tecnologia y Software',\n",
    "    '5732': 'Musica',\n",
    "    '5733': 'Musica',\n",
    "    '5735' : 'Musica',\n",
    "    '5921':  'Licores',\n",
    "    '7299' : 'Servicio Personales (Deliveries, etc.)',\n",
    "    '5912': 'Servicios de Salud, Belleza y Recreacion'\n",
    "}\n",
    "\n",
    "head_codigo_df = pd.DataFrame({\"head_codigo\":list(head_codigo_replacement_dict.keys()),\n",
    "                               \"Agrupacion\": list(head_codigo_replacement_dict.values())})\n",
    "head_codigo_df_merge = head_codigo_df.merge(categorias)\n",
    "for codigo,repl in codigo_replacement_dict.items():\n",
    "    head_codigo_df_merge.loc[head_codigo_df_merge.CODIGO_CATEGORIA_NUEVO == codigo, 'Agrupacion'] = repl\n",
    "head_codigo_df_qgrid = qgrid.show_grid(head_codigo_df_merge)"
   ]
  },
  {
   "cell_type": "code",
   "execution_count": 9,
   "metadata": {
    "slideshow": {
     "slide_type": "subslide"
    }
   },
   "outputs": [
    {
     "data": {
      "application/vnd.jupyter.widget-view+json": {
       "model_id": "10e6b9eededf463b8a699b6e60c7c061",
       "version_major": 2,
       "version_minor": 0
      },
      "text/plain": [
       "QgridWidget(grid_options={'fullWidthRows': True, 'syncColumnCellResize': True, 'forceFitColumns': True, 'defau…"
      ]
     },
     "metadata": {},
     "output_type": "display_data"
    }
   ],
   "source": [
    "head_codigo_df_qgrid "
   ]
  },
  {
   "cell_type": "code",
   "execution_count": 10,
   "metadata": {
    "slideshow": {
     "slide_type": "skip"
    }
   },
   "outputs": [
    {
     "data": {
      "text/html": [
       "<div>\n",
       "<style scoped>\n",
       "    .dataframe tbody tr th:only-of-type {\n",
       "        vertical-align: middle;\n",
       "    }\n",
       "\n",
       "    .dataframe tbody tr th {\n",
       "        vertical-align: top;\n",
       "    }\n",
       "\n",
       "    .dataframe thead th {\n",
       "        text-align: right;\n",
       "    }\n",
       "</style>\n",
       "<table border=\"1\" class=\"dataframe\">\n",
       "  <thead>\n",
       "    <tr style=\"text-align: right;\">\n",
       "      <th></th>\n",
       "      <th>CODIGO_CATEGORIA_NUEVO</th>\n",
       "      <th>Categoria_Nueva</th>\n",
       "      <th>head_codigo</th>\n",
       "      <th>index_codigo</th>\n",
       "      <th>Categoria_Agrupada</th>\n",
       "    </tr>\n",
       "  </thead>\n",
       "  <tbody>\n",
       "    <tr>\n",
       "      <th>417</th>\n",
       "      <td>0000</td>\n",
       "      <td>Ath</td>\n",
       "      <td>00</td>\n",
       "      <td>0</td>\n",
       "      <td>Ath</td>\n",
       "    </tr>\n",
       "    <tr>\n",
       "      <th>2254</th>\n",
       "      <td>0742</td>\n",
       "      <td>Veterinarias</td>\n",
       "      <td>07</td>\n",
       "      <td>0</td>\n",
       "      <td>Servicios Agropecuarios</td>\n",
       "    </tr>\n",
       "    <tr>\n",
       "      <th>41</th>\n",
       "      <td>0763</td>\n",
       "      <td>Ventas Productos Agricolas</td>\n",
       "      <td>07</td>\n",
       "      <td>0</td>\n",
       "      <td>Servicios Agropecuarios</td>\n",
       "    </tr>\n",
       "    <tr>\n",
       "      <th>80165</th>\n",
       "      <td>0780</td>\n",
       "      <td>Ladscaping And Horticultural Servises</td>\n",
       "      <td>07</td>\n",
       "      <td>0</td>\n",
       "      <td>Servicios Agropecuarios</td>\n",
       "    </tr>\n",
       "    <tr>\n",
       "      <th>9631</th>\n",
       "      <td>1520</td>\n",
       "      <td>General Contractors Resid And Comercial</td>\n",
       "      <td>15</td>\n",
       "      <td>1</td>\n",
       "      <td>Servicios de Construccion y Decoracion</td>\n",
       "    </tr>\n",
       "  </tbody>\n",
       "</table>\n",
       "</div>"
      ],
      "text/plain": [
       "      CODIGO_CATEGORIA_NUEVO                          Categoria_Nueva  \\\n",
       "417                     0000                                      Ath   \n",
       "2254                    0742                             Veterinarias   \n",
       "41                      0763               Ventas Productos Agricolas   \n",
       "80165                   0780    Ladscaping And Horticultural Servises   \n",
       "9631                    1520  General Contractors Resid And Comercial   \n",
       "\n",
       "      head_codigo index_codigo                      Categoria_Agrupada  \n",
       "417            00            0                                     Ath  \n",
       "2254           07            0                 Servicios Agropecuarios  \n",
       "41             07            0                 Servicios Agropecuarios  \n",
       "80165          07            0                 Servicios Agropecuarios  \n",
       "9631           15            1  Servicios de Construccion y Decoracion  "
      ]
     },
     "execution_count": 10,
     "metadata": {},
     "output_type": "execute_result"
    }
   ],
   "source": [
    "categorias['Categoria_Agrupada'] = categorias.head_codigo.replace(head_codigo_replacement_dict)\n",
    "for codigo,repl in codigo_replacement_dict.items():\n",
    "    categorias.loc[categorias.CODIGO_CATEGORIA_NUEVO == codigo, 'Categoria_Agrupada'] = repl\n",
    "categorias.head()"
   ]
  },
  {
   "cell_type": "code",
   "execution_count": 11,
   "metadata": {
    "slideshow": {
     "slide_type": "skip"
    }
   },
   "outputs": [
    {
     "data": {
      "text/html": [
       "<div>\n",
       "<style scoped>\n",
       "    .dataframe tbody tr th:only-of-type {\n",
       "        vertical-align: middle;\n",
       "    }\n",
       "\n",
       "    .dataframe tbody tr th {\n",
       "        vertical-align: top;\n",
       "    }\n",
       "\n",
       "    .dataframe thead th {\n",
       "        text-align: right;\n",
       "    }\n",
       "</style>\n",
       "<table border=\"1\" class=\"dataframe\">\n",
       "  <thead>\n",
       "    <tr style=\"text-align: right;\">\n",
       "      <th></th>\n",
       "      <th>CODIGO_CATEGORIA_NUEVO</th>\n",
       "      <th>Categoria_Nueva</th>\n",
       "      <th>head_codigo</th>\n",
       "      <th>index_codigo</th>\n",
       "      <th>Categoria_Agrupada</th>\n",
       "    </tr>\n",
       "  </thead>\n",
       "  <tbody>\n",
       "    <tr>\n",
       "      <th>417</th>\n",
       "      <td>0</td>\n",
       "      <td>Ath</td>\n",
       "      <td>00</td>\n",
       "      <td>0</td>\n",
       "      <td>Ath</td>\n",
       "    </tr>\n",
       "    <tr>\n",
       "      <th>2254</th>\n",
       "      <td>742</td>\n",
       "      <td>Veterinarias</td>\n",
       "      <td>07</td>\n",
       "      <td>0</td>\n",
       "      <td>Servicios Agropecuarios</td>\n",
       "    </tr>\n",
       "    <tr>\n",
       "      <th>41</th>\n",
       "      <td>763</td>\n",
       "      <td>Ventas Productos Agricolas</td>\n",
       "      <td>07</td>\n",
       "      <td>0</td>\n",
       "      <td>Servicios Agropecuarios</td>\n",
       "    </tr>\n",
       "    <tr>\n",
       "      <th>80165</th>\n",
       "      <td>780</td>\n",
       "      <td>Ladscaping And Horticultural Servises</td>\n",
       "      <td>07</td>\n",
       "      <td>0</td>\n",
       "      <td>Servicios Agropecuarios</td>\n",
       "    </tr>\n",
       "    <tr>\n",
       "      <th>9631</th>\n",
       "      <td>1520</td>\n",
       "      <td>General Contractors Resid And Comercial</td>\n",
       "      <td>15</td>\n",
       "      <td>1</td>\n",
       "      <td>Servicios de Construccion y Decoracion</td>\n",
       "    </tr>\n",
       "  </tbody>\n",
       "</table>\n",
       "</div>"
      ],
      "text/plain": [
       "       CODIGO_CATEGORIA_NUEVO                          Categoria_Nueva  \\\n",
       "417                         0                                      Ath   \n",
       "2254                      742                             Veterinarias   \n",
       "41                        763               Ventas Productos Agricolas   \n",
       "80165                     780    Ladscaping And Horticultural Servises   \n",
       "9631                     1520  General Contractors Resid And Comercial   \n",
       "\n",
       "      head_codigo index_codigo                      Categoria_Agrupada  \n",
       "417            00            0                                     Ath  \n",
       "2254           07            0                 Servicios Agropecuarios  \n",
       "41             07            0                 Servicios Agropecuarios  \n",
       "80165          07            0                 Servicios Agropecuarios  \n",
       "9631           15            1  Servicios de Construccion y Decoracion  "
      ]
     },
     "execution_count": 11,
     "metadata": {},
     "output_type": "execute_result"
    }
   ],
   "source": [
    "categorias['CODIGO_CATEGORIA_NUEVO'] = categorias['CODIGO_CATEGORIA_NUEVO'].astype(int)\n",
    "categorias.head()"
   ]
  },
  {
   "cell_type": "code",
   "execution_count": 12,
   "metadata": {
    "slideshow": {
     "slide_type": "skip"
    }
   },
   "outputs": [],
   "source": [
    "transacciones = transacciones.merge(categorias[['CODIGO_CATEGORIA_NUEVO','Categoria_Agrupada']])\n",
    "transacciones = transacciones[['Codigo_Cliente','DESCRI_PRODUCTO','Moneda','Anio','Mes','Cantidad','Valor_Total_RD',\n",
    "                              'Comercios_Replace','Categoria_Nueva','Categoria_Agrupada']]"
   ]
  },
  {
   "cell_type": "markdown",
   "metadata": {
    "slideshow": {
     "slide_type": "subslide"
    }
   },
   "source": [
    "Con esto, agregamos una nueva agrupación a las transacciones, con la cual haremos el análisis."
   ]
  },
  {
   "cell_type": "code",
   "execution_count": 13,
   "metadata": {
    "slideshow": {
     "slide_type": "fragment"
    }
   },
   "outputs": [
    {
     "data": {
      "text/html": [
       "<div>\n",
       "<style scoped>\n",
       "    .dataframe tbody tr th:only-of-type {\n",
       "        vertical-align: middle;\n",
       "    }\n",
       "\n",
       "    .dataframe tbody tr th {\n",
       "        vertical-align: top;\n",
       "    }\n",
       "\n",
       "    .dataframe thead th {\n",
       "        text-align: right;\n",
       "    }\n",
       "</style>\n",
       "<table border=\"1\" class=\"dataframe\">\n",
       "  <thead>\n",
       "    <tr style=\"text-align: right;\">\n",
       "      <th></th>\n",
       "      <th>Codigo_Cliente</th>\n",
       "      <th>DESCRI_PRODUCTO</th>\n",
       "      <th>Moneda</th>\n",
       "      <th>Anio</th>\n",
       "      <th>Mes</th>\n",
       "      <th>Cantidad</th>\n",
       "      <th>Valor_Total_RD</th>\n",
       "      <th>Comercios_Replace</th>\n",
       "      <th>Categoria_Nueva</th>\n",
       "      <th>Categoria_Agrupada</th>\n",
       "    </tr>\n",
       "  </thead>\n",
       "  <tbody>\n",
       "    <tr>\n",
       "      <th>0</th>\n",
       "      <td>107893</td>\n",
       "      <td>VISA PLATINO</td>\n",
       "      <td>DOP</td>\n",
       "      <td>2018</td>\n",
       "      <td>6</td>\n",
       "      <td>1</td>\n",
       "      <td>3390.00</td>\n",
       "      <td>Protein Supplier</td>\n",
       "      <td>Clinicas</td>\n",
       "      <td>Servicios de Salud, Belleza y Recreacion</td>\n",
       "    </tr>\n",
       "    <tr>\n",
       "      <th>1</th>\n",
       "      <td>135229</td>\n",
       "      <td>VISA PLATINO</td>\n",
       "      <td>DOP</td>\n",
       "      <td>2018</td>\n",
       "      <td>2</td>\n",
       "      <td>1</td>\n",
       "      <td>2500.00</td>\n",
       "      <td>Blasina Canto Contreras</td>\n",
       "      <td>Clinicas</td>\n",
       "      <td>Servicios de Salud, Belleza y Recreacion</td>\n",
       "    </tr>\n",
       "    <tr>\n",
       "      <th>2</th>\n",
       "      <td>167696</td>\n",
       "      <td>VISA ORO</td>\n",
       "      <td>DOP</td>\n",
       "      <td>2018</td>\n",
       "      <td>2</td>\n",
       "      <td>1</td>\n",
       "      <td>739.66</td>\n",
       "      <td>Centro Policlinico Nacion</td>\n",
       "      <td>Clinicas</td>\n",
       "      <td>Servicios de Salud, Belleza y Recreacion</td>\n",
       "    </tr>\n",
       "    <tr>\n",
       "      <th>3</th>\n",
       "      <td>85908</td>\n",
       "      <td>VISA PLATINO</td>\n",
       "      <td>DOP</td>\n",
       "      <td>2018</td>\n",
       "      <td>10</td>\n",
       "      <td>1</td>\n",
       "      <td>184.60</td>\n",
       "      <td>Centro Medico Real</td>\n",
       "      <td>Clinicas</td>\n",
       "      <td>Servicios de Salud, Belleza y Recreacion</td>\n",
       "    </tr>\n",
       "    <tr>\n",
       "      <th>4</th>\n",
       "      <td>299716</td>\n",
       "      <td>VISA CLASICA</td>\n",
       "      <td>DOP</td>\n",
       "      <td>2018</td>\n",
       "      <td>10</td>\n",
       "      <td>1</td>\n",
       "      <td>365.70</td>\n",
       "      <td>Clinica Dr Rodriguez Sant</td>\n",
       "      <td>Clinicas</td>\n",
       "      <td>Servicios de Salud, Belleza y Recreacion</td>\n",
       "    </tr>\n",
       "  </tbody>\n",
       "</table>\n",
       "</div>"
      ],
      "text/plain": [
       "   Codigo_Cliente DESCRI_PRODUCTO Moneda  Anio  Mes  Cantidad  Valor_Total_RD  \\\n",
       "0          107893    VISA PLATINO    DOP  2018    6         1         3390.00   \n",
       "1          135229    VISA PLATINO    DOP  2018    2         1         2500.00   \n",
       "2          167696        VISA ORO    DOP  2018    2         1          739.66   \n",
       "3           85908    VISA PLATINO    DOP  2018   10         1          184.60   \n",
       "4          299716    VISA CLASICA    DOP  2018   10         1          365.70   \n",
       "\n",
       "           Comercios_Replace Categoria_Nueva  \\\n",
       "0           Protein Supplier        Clinicas   \n",
       "1    Blasina Canto Contreras        Clinicas   \n",
       "2  Centro Policlinico Nacion        Clinicas   \n",
       "3         Centro Medico Real        Clinicas   \n",
       "4  Clinica Dr Rodriguez Sant        Clinicas   \n",
       "\n",
       "                         Categoria_Agrupada  \n",
       "0  Servicios de Salud, Belleza y Recreacion  \n",
       "1  Servicios de Salud, Belleza y Recreacion  \n",
       "2  Servicios de Salud, Belleza y Recreacion  \n",
       "3  Servicios de Salud, Belleza y Recreacion  \n",
       "4  Servicios de Salud, Belleza y Recreacion  "
      ]
     },
     "execution_count": 13,
     "metadata": {},
     "output_type": "execute_result"
    }
   ],
   "source": [
    "transacciones.head()"
   ]
  },
  {
   "cell_type": "code",
   "execution_count": 14,
   "metadata": {
    "slideshow": {
     "slide_type": "skip"
    }
   },
   "outputs": [],
   "source": [
    "transacciones = transacciones.loc[transacciones.Categoria_Agrupada != \"Ath\"]\n",
    "transacciones.Categoria_Agrupada = transacciones.Categoria_Agrupada.str.replace(\"Alquier|Alquiter|Alquilter\",\"Alquiler\")"
   ]
  },
  {
   "cell_type": "markdown",
   "metadata": {
    "slideshow": {
     "slide_type": "slide"
    }
   },
   "source": [
    "# Preparación de Datos"
   ]
  },
  {
   "cell_type": "markdown",
   "metadata": {
    "slideshow": {
     "slide_type": "subslide"
    }
   },
   "source": [
    "#### Fecha"
   ]
  },
  {
   "cell_type": "markdown",
   "metadata": {
    "slideshow": {
     "slide_type": "fragment"
    }
   },
   "source": [
    "Ya que las transacciones no incluyen la fecha, sino que estan resumidas por mes, agruparemos todas las transacciones al primer dia de cada mes, y crearemos una fecha con ellas."
   ]
  },
  {
   "cell_type": "code",
   "execution_count": 15,
   "metadata": {
    "slideshow": {
     "slide_type": "subslide"
    }
   },
   "outputs": [
    {
     "data": {
      "text/plain": [
       "0   2018-06-01\n",
       "1   2018-02-01\n",
       "2   2018-02-01\n",
       "3   2018-10-01\n",
       "4   2018-10-01\n",
       "Name: Fecha, dtype: datetime64[ns]"
      ]
     },
     "execution_count": 15,
     "metadata": {},
     "output_type": "execute_result"
    }
   ],
   "source": [
    "transacciones[\"Fecha\"] = pd.to_datetime(transacciones.Anio.astype(str) + \"-\"\\\n",
    "                         + transacciones.Mes.astype(str).str.pad(2,\"left\",\"0\")\\\n",
    "                         + \"-01\")\n",
    "transacciones.Fecha.head()"
   ]
  },
  {
   "cell_type": "markdown",
   "metadata": {
    "slideshow": {
     "slide_type": "subslide"
    }
   },
   "source": [
    "#### Meses Anteriores "
   ]
  },
  {
   "cell_type": "markdown",
   "metadata": {
    "slideshow": {
     "slide_type": "fragment"
    }
   },
   "source": [
    "Para determinar la recencia de las transacciones, calculamos los meses anteriores a la fecha maxima de los datos, en este caso Diciembre 2018."
   ]
  },
  {
   "cell_type": "code",
   "execution_count": 16,
   "metadata": {
    "slideshow": {
     "slide_type": "skip"
    }
   },
   "outputs": [],
   "source": [
    "def month_diff_indiv(a, b):\n",
    "    return 12 * (a.year - b.dt.year) + (a.month - b.dt.month)\n",
    "transacciones[\"Meses_Anteriores\"] = month_diff_indiv(transacciones.Fecha.max(), transacciones.Fecha)"
   ]
  },
  {
   "cell_type": "code",
   "execution_count": 17,
   "metadata": {
    "slideshow": {
     "slide_type": "subslide"
    }
   },
   "outputs": [
    {
     "data": {
      "text/html": [
       "<div>\n",
       "<style scoped>\n",
       "    .dataframe tbody tr th:only-of-type {\n",
       "        vertical-align: middle;\n",
       "    }\n",
       "\n",
       "    .dataframe tbody tr th {\n",
       "        vertical-align: top;\n",
       "    }\n",
       "\n",
       "    .dataframe thead th {\n",
       "        text-align: right;\n",
       "    }\n",
       "</style>\n",
       "<table border=\"1\" class=\"dataframe\">\n",
       "  <thead>\n",
       "    <tr style=\"text-align: right;\">\n",
       "      <th></th>\n",
       "      <th>Fecha</th>\n",
       "      <th>Meses_Anteriores</th>\n",
       "    </tr>\n",
       "  </thead>\n",
       "  <tbody>\n",
       "    <tr>\n",
       "      <th>0</th>\n",
       "      <td>2018-06-01</td>\n",
       "      <td>6</td>\n",
       "    </tr>\n",
       "    <tr>\n",
       "      <th>1</th>\n",
       "      <td>2018-02-01</td>\n",
       "      <td>10</td>\n",
       "    </tr>\n",
       "    <tr>\n",
       "      <th>2</th>\n",
       "      <td>2018-02-01</td>\n",
       "      <td>10</td>\n",
       "    </tr>\n",
       "    <tr>\n",
       "      <th>3</th>\n",
       "      <td>2018-10-01</td>\n",
       "      <td>2</td>\n",
       "    </tr>\n",
       "    <tr>\n",
       "      <th>4</th>\n",
       "      <td>2018-10-01</td>\n",
       "      <td>2</td>\n",
       "    </tr>\n",
       "  </tbody>\n",
       "</table>\n",
       "</div>"
      ],
      "text/plain": [
       "       Fecha  Meses_Anteriores\n",
       "0 2018-06-01                 6\n",
       "1 2018-02-01                10\n",
       "2 2018-02-01                10\n",
       "3 2018-10-01                 2\n",
       "4 2018-10-01                 2"
      ]
     },
     "execution_count": 17,
     "metadata": {},
     "output_type": "execute_result"
    }
   ],
   "source": [
    "transacciones[['Fecha','Meses_Anteriores']].head()"
   ]
  },
  {
   "cell_type": "code",
   "execution_count": 18,
   "metadata": {
    "slideshow": {
     "slide_type": "skip"
    }
   },
   "outputs": [
    {
     "data": {
      "text/plain": [
       "(1004234, 12)"
      ]
     },
     "execution_count": 18,
     "metadata": {},
     "output_type": "execute_result"
    }
   ],
   "source": [
    "transacciones = transacciones.loc[transacciones.Meses_Anteriores <= 12]\n",
    "transacciones.shape"
   ]
  },
  {
   "cell_type": "markdown",
   "metadata": {
    "slideshow": {
     "slide_type": "subslide"
    }
   },
   "source": [
    "Por último, establecemos la configuración de las variables a analizar. Estas son:\n",
    "\n",
    "- Agrupaciones de Interes: Cliente, Producto, Categoria Agrupada de Comercio\n",
    "- Identificador: Cliente + Producto\n",
    "- Valores a Medir: Cantidad, Monto Total Transaccionado, Recencia de Transacciones.\n",
    "- Top N Comercios: Top 3 Comercios segun condiciones."
   ]
  },
  {
   "cell_type": "code",
   "execution_count": 19,
   "metadata": {
    "slideshow": {
     "slide_type": "skip"
    }
   },
   "outputs": [],
   "source": [
    "# CONFIG VARS\n",
    "# Nivel de Interes: Cliente. Puede ser cliente y producto. \n",
    "categoria_comercio_interes = ['DESCRI_PRODUCTO','Categoria_Agrupada']\n",
    "interes_group = ['Codigo_Cliente'] + categoria_comercio_interes\n",
    "identificador_group = ['Codigo_Cliente','DESCRI_PRODUCTO']\n",
    "valores_medida = ['Cantidad','Valor_Total_RD']\n",
    "top_n = 3"
   ]
  },
  {
   "cell_type": "markdown",
   "metadata": {
    "slideshow": {
     "slide_type": "slide"
    }
   },
   "source": [
    "# Metodos para Calcular Preferencias de Comercios"
   ]
  },
  {
   "cell_type": "markdown",
   "metadata": {
    "slideshow": {
     "slide_type": "subslide"
    }
   },
   "source": [
    "## Por Cantidad: Mientras más transacciones mejor"
   ]
  },
  {
   "cell_type": "code",
   "execution_count": 20,
   "metadata": {
    "slideshow": {
     "slide_type": "skip"
    }
   },
   "outputs": [
    {
     "data": {
      "text/html": [
       "<div>\n",
       "<style scoped>\n",
       "    .dataframe tbody tr th:only-of-type {\n",
       "        vertical-align: middle;\n",
       "    }\n",
       "\n",
       "    .dataframe tbody tr th {\n",
       "        vertical-align: top;\n",
       "    }\n",
       "\n",
       "    .dataframe thead th {\n",
       "        text-align: right;\n",
       "    }\n",
       "</style>\n",
       "<table border=\"1\" class=\"dataframe\">\n",
       "  <thead>\n",
       "    <tr style=\"text-align: right;\">\n",
       "      <th></th>\n",
       "      <th>Codigo_Cliente</th>\n",
       "      <th>DESCRI_PRODUCTO</th>\n",
       "      <th>Categoria_Agrupada</th>\n",
       "      <th>Cantidad</th>\n",
       "      <th>Valor_Total_RD</th>\n",
       "    </tr>\n",
       "  </thead>\n",
       "  <tbody>\n",
       "    <tr>\n",
       "      <th>0</th>\n",
       "      <td>1</td>\n",
       "      <td>VISA EMPRESARIAL</td>\n",
       "      <td>Ferreterias y Hogar</td>\n",
       "      <td>2</td>\n",
       "      <td>2114.62</td>\n",
       "    </tr>\n",
       "    <tr>\n",
       "      <th>1</th>\n",
       "      <td>1</td>\n",
       "      <td>VISA EMPRESARIAL</td>\n",
       "      <td>Gasolineras y Vehiculos</td>\n",
       "      <td>4</td>\n",
       "      <td>12787.54</td>\n",
       "    </tr>\n",
       "    <tr>\n",
       "      <th>2</th>\n",
       "      <td>1</td>\n",
       "      <td>VISA EMPRESARIAL</td>\n",
       "      <td>Hoteles Moteles Resorts</td>\n",
       "      <td>5</td>\n",
       "      <td>184349.00</td>\n",
       "    </tr>\n",
       "    <tr>\n",
       "      <th>3</th>\n",
       "      <td>1</td>\n",
       "      <td>VISA EMPRESARIAL</td>\n",
       "      <td>Licores</td>\n",
       "      <td>7</td>\n",
       "      <td>195742.92</td>\n",
       "    </tr>\n",
       "    <tr>\n",
       "      <th>4</th>\n",
       "      <td>1</td>\n",
       "      <td>VISA EMPRESARIAL</td>\n",
       "      <td>Otros Servicios</td>\n",
       "      <td>31</td>\n",
       "      <td>925618.83</td>\n",
       "    </tr>\n",
       "    <tr>\n",
       "      <th>5</th>\n",
       "      <td>1</td>\n",
       "      <td>VISA EMPRESARIAL</td>\n",
       "      <td>Restaurantes</td>\n",
       "      <td>9</td>\n",
       "      <td>38241.45</td>\n",
       "    </tr>\n",
       "    <tr>\n",
       "      <th>6</th>\n",
       "      <td>1</td>\n",
       "      <td>VISA EMPRESARIAL</td>\n",
       "      <td>Servicios Agropecuarios</td>\n",
       "      <td>1</td>\n",
       "      <td>5900.00</td>\n",
       "    </tr>\n",
       "    <tr>\n",
       "      <th>7</th>\n",
       "      <td>1</td>\n",
       "      <td>VISA EMPRESARIAL</td>\n",
       "      <td>Servicios Educativos</td>\n",
       "      <td>1</td>\n",
       "      <td>6450.00</td>\n",
       "    </tr>\n",
       "    <tr>\n",
       "      <th>8</th>\n",
       "      <td>1</td>\n",
       "      <td>VISA EMPRESARIAL</td>\n",
       "      <td>Servicios Gubernamentales</td>\n",
       "      <td>36</td>\n",
       "      <td>11993702.97</td>\n",
       "    </tr>\n",
       "    <tr>\n",
       "      <th>9</th>\n",
       "      <td>1</td>\n",
       "      <td>VISA EMPRESARIAL</td>\n",
       "      <td>Servicios de Comunicacion, Internet y Telecable</td>\n",
       "      <td>104</td>\n",
       "      <td>14825500.03</td>\n",
       "    </tr>\n",
       "  </tbody>\n",
       "</table>\n",
       "</div>"
      ],
      "text/plain": [
       "   Codigo_Cliente   DESCRI_PRODUCTO  \\\n",
       "0               1  VISA EMPRESARIAL   \n",
       "1               1  VISA EMPRESARIAL   \n",
       "2               1  VISA EMPRESARIAL   \n",
       "3               1  VISA EMPRESARIAL   \n",
       "4               1  VISA EMPRESARIAL   \n",
       "5               1  VISA EMPRESARIAL   \n",
       "6               1  VISA EMPRESARIAL   \n",
       "7               1  VISA EMPRESARIAL   \n",
       "8               1  VISA EMPRESARIAL   \n",
       "9               1  VISA EMPRESARIAL   \n",
       "\n",
       "                                Categoria_Agrupada  Cantidad  Valor_Total_RD  \n",
       "0                              Ferreterias y Hogar         2         2114.62  \n",
       "1                          Gasolineras y Vehiculos         4        12787.54  \n",
       "2                          Hoteles Moteles Resorts         5       184349.00  \n",
       "3                                          Licores         7       195742.92  \n",
       "4                                  Otros Servicios        31       925618.83  \n",
       "5                                     Restaurantes         9        38241.45  \n",
       "6                          Servicios Agropecuarios         1         5900.00  \n",
       "7                             Servicios Educativos         1         6450.00  \n",
       "8                        Servicios Gubernamentales        36     11993702.97  \n",
       "9  Servicios de Comunicacion, Internet y Telecable       104     14825500.03  "
      ]
     },
     "execution_count": 20,
     "metadata": {},
     "output_type": "execute_result"
    }
   ],
   "source": [
    "transacciones_agrupadas = transacciones.groupby(interes_group)[valores_medida].sum().reset_index()\n",
    "transacciones_agrupadas.head(10)"
   ]
  },
  {
   "cell_type": "code",
   "execution_count": 21,
   "metadata": {
    "slideshow": {
     "slide_type": "skip"
    }
   },
   "outputs": [],
   "source": [
    "def get_top_n_comercios_medida(transacciones_agrupadas, medida):\n",
    "    top_n_comercios_medida = transacciones_agrupadas.sort_values(medida,ascending=False)\\\n",
    "                                                  .groupby(identificador_group)\\\n",
    "                                                  .head(top_n)\\\n",
    "                                                  .sort_values(identificador_group)\n",
    "    return top_n_comercios_medida\n",
    "    "
   ]
  },
  {
   "cell_type": "code",
   "execution_count": 22,
   "metadata": {
    "slideshow": {
     "slide_type": "subslide"
    }
   },
   "outputs": [
    {
     "data": {
      "text/plain": [
       "Supermercados y Alimentos                          35689\n",
       "Gasolineras y Vehiculos                            21833\n",
       "Servicios de Salud, Belleza y Recreacion           12580\n",
       "Tienda De Venta Especializada                      11769\n",
       "Servicios de Comunicacion, Internet y Telecable    10453\n",
       "Ropas                                               9002\n",
       "Comida Rapida                                       8309\n",
       "Servicios Gubernamentales                           5639\n",
       "Restaurantes                                        5215\n",
       "Ferreterias y Hogar                                 5140\n",
       "Servicios de Transporte y Viajes                    2266\n",
       "Otros Servicios                                     1438\n",
       "Servicios Educativos                                1287\n",
       "Licores                                             1181\n",
       "Musica                                              1152\n",
       "Instituciones Financieras y Aseguradoras            1011\n",
       "Ventas y Servicios de Equipos Electricos             817\n",
       "Vida Nocturna                                        793\n",
       "Hoteles Moteles Resorts                              733\n",
       "Tecnologia y Software                                594\n",
       "Name: Categoria_Agrupada, dtype: int64"
      ]
     },
     "execution_count": 22,
     "metadata": {},
     "output_type": "execute_result"
    }
   ],
   "source": [
    "top_n_comercios_cantidad = get_top_n_comercios_medida(transacciones_agrupadas,'Cantidad')\n",
    "top_n_comercios_cantidad.Categoria_Agrupada.value_counts().head(20)"
   ]
  },
  {
   "cell_type": "markdown",
   "metadata": {
    "slideshow": {
     "slide_type": "subslide"
    }
   },
   "source": [
    "En esta tabla, se muestran la cantidad de clientes que según su total de transacciones, prefieren una categoria de comercio especifica. En esta categoria, se puede visualizar el enfoque en categorias que gastan menos pero que son consumidas más frecuentemente, como *Comida Rapida*, *Musica* y *Vida Nocturna*. "
   ]
  },
  {
   "cell_type": "markdown",
   "metadata": {
    "slideshow": {
     "slide_type": "subslide"
    }
   },
   "source": [
    "# Por Monto: Mientras más gasta, mejor"
   ]
  },
  {
   "cell_type": "code",
   "execution_count": 23,
   "metadata": {
    "slideshow": {
     "slide_type": "subslide"
    }
   },
   "outputs": [
    {
     "data": {
      "text/plain": [
       "Supermercados y Alimentos                          34117\n",
       "Gasolineras y Vehiculos                            19239\n",
       "Tienda De Venta Especializada                      12300\n",
       "Servicios de Comunicacion, Internet y Telecable    11945\n",
       "Servicios de Salud, Belleza y Recreacion           11066\n",
       "Ropas                                              10957\n",
       "Ferreterias y Hogar                                 6457\n",
       "Servicios Gubernamentales                           6352\n",
       "Restaurantes                                        4372\n",
       "Servicios de Transporte y Viajes                    3877\n",
       "Comida Rapida                                       3675\n",
       "Servicios Educativos                                2855\n",
       "Otros Servicios                                     1848\n",
       "Instituciones Financieras y Aseguradoras            1786\n",
       "Hoteles Moteles Resorts                             1264\n",
       "Ventas y Servicios de Equipos Electricos            1229\n",
       "Licores                                             1137\n",
       "Vida Nocturna                                        967\n",
       "Musica                                               833\n",
       "Tecnologia y Software                                713\n",
       "Name: Categoria_Agrupada, dtype: int64"
      ]
     },
     "execution_count": 23,
     "metadata": {},
     "output_type": "execute_result"
    }
   ],
   "source": [
    "top_n_comercios_valor = get_top_n_comercios_medida(transacciones_agrupadas,'Valor_Total_RD')\n",
    "top_n_comercios_valor.Categoria_Agrupada.value_counts().head(20)"
   ]
  },
  {
   "cell_type": "markdown",
   "metadata": {
    "slideshow": {
     "slide_type": "subslide"
    }
   },
   "source": [
    "A diferencia de las preferencias por Cantidad de transacciones, las categorias en las que se suele gastar más dinero tienen mayor preferencia. Tambien, hay mucha mayor participación de categorias como *Viajes*, *Hogar* y *Servicios Educativos*."
   ]
  },
  {
   "cell_type": "markdown",
   "metadata": {
    "slideshow": {
     "slide_type": "subslide"
    }
   },
   "source": [
    "# Por Recencia: Mientras más reciente, mejor"
   ]
  },
  {
   "cell_type": "code",
   "execution_count": 24,
   "metadata": {
    "slideshow": {
     "slide_type": "skip"
    }
   },
   "outputs": [
    {
     "data": {
      "text/plain": [
       "42"
      ]
     },
     "execution_count": 24,
     "metadata": {},
     "output_type": "execute_result"
    }
   ],
   "source": [
    "import gc\n",
    "gc.collect()"
   ]
  },
  {
   "cell_type": "code",
   "execution_count": 25,
   "metadata": {
    "slideshow": {
     "slide_type": "skip"
    }
   },
   "outputs": [],
   "source": [
    "def crear_recencia(transacciones):\n",
    "    recencia = pd.qcut(transacciones.Meses_Anteriores,10,labels=list(range(10,0,-1))).astype(int)\n",
    "    return recencia"
   ]
  },
  {
   "cell_type": "markdown",
   "metadata": {
    "slideshow": {
     "slide_type": "subslide"
    }
   },
   "source": [
    "Definimos la recencia en 10 valores distintos, según los meses anteriores a la última transacción de la categoria. Los rangos de valores se muestran a continuación."
   ]
  },
  {
   "cell_type": "code",
   "execution_count": 26,
   "metadata": {
    "slideshow": {
     "slide_type": "subslide"
    }
   },
   "outputs": [
    {
     "data": {
      "text/plain": [
       "IntervalIndex([(-0.001, 1.0], (1.0, 2.0], (2.0, 3.0], (3.0, 4.0], (4.0, 5.0], (5.0, 6.0], (6.0, 8.0], (8.0, 9.0], (9.0, 10.0], (10.0, 11.0]],\n",
       "              closed='right',\n",
       "              dtype='interval[float64]')"
      ]
     },
     "execution_count": 26,
     "metadata": {},
     "output_type": "execute_result"
    }
   ],
   "source": [
    "pd.qcut(transacciones.Meses_Anteriores,10).cat.categories"
   ]
  },
  {
   "cell_type": "markdown",
   "metadata": {
    "slideshow": {
     "slide_type": "fragment"
    }
   },
   "source": [
    "Estos valores fueron reemplazados con los numeros del 10 al 1, siendo 10 el más reciente (menos de un mes) y 1 el más antiguo."
   ]
  },
  {
   "cell_type": "code",
   "execution_count": 27,
   "metadata": {
    "slideshow": {
     "slide_type": "subslide"
    }
   },
   "outputs": [
    {
     "data": {
      "text/plain": [
       "count    1004234\n",
       "mean           5\n",
       "std            2\n",
       "min            1\n",
       "25%            4\n",
       "50%            6\n",
       "75%            9\n",
       "max           10\n",
       "Name: Recencia, dtype: int32"
      ]
     },
     "execution_count": 27,
     "metadata": {},
     "output_type": "execute_result"
    }
   ],
   "source": [
    "transacciones['Recencia'] = crear_recencia(transacciones)\n",
    "transacciones.Recencia.describe().astype(int)"
   ]
  },
  {
   "cell_type": "code",
   "execution_count": 28,
   "metadata": {
    "slideshow": {
     "slide_type": "skip"
    }
   },
   "outputs": [],
   "source": [
    "def get_top_n_comercios_recencia(transacciones):\n",
    "    \n",
    "    top_n_comercios_recencia= transacciones.sort_values(by=['Codigo_Cliente','Recencia'],ascending=[True,False]\n",
    "                                 ).groupby(interes_group + ['Recencia'])\\\n",
    "                                 ['Cantidad'].count()\\\n",
    "                                 .reset_index()\\\n",
    "                                 .sort_values(by=['Recencia','Cantidad'],ascending=[False,False])\\\n",
    "                                 .groupby(identificador_group)\\\n",
    "                                 .head(top_n)\\\n",
    "                                 .sort_values(identificador_group)\n",
    "                                                \n",
    "    return top_n_comercios_recencia\n",
    "    "
   ]
  },
  {
   "cell_type": "code",
   "execution_count": 29,
   "metadata": {
    "slideshow": {
     "slide_type": "subslide"
    }
   },
   "outputs": [
    {
     "data": {
      "text/plain": [
       "Supermercados y Alimentos                          34042\n",
       "Gasolineras y Vehiculos                            24467\n",
       "Tienda De Venta Especializada                      11261\n",
       "Servicios de Comunicacion, Internet y Telecable    11244\n",
       "Servicios de Salud, Belleza y Recreacion           11213\n",
       "Ropas                                               9923\n",
       "Comida Rapida                                       9467\n",
       "Servicios Gubernamentales                           6172\n",
       "Ferreterias y Hogar                                 6014\n",
       "Restaurantes                                        5637\n",
       "Servicios de Transporte y Viajes                    2429\n",
       "Otros Servicios                                     1855\n",
       "Servicios Educativos                                1578\n",
       "Musica                                              1499\n",
       "Licores                                             1466\n",
       "Instituciones Financieras y Aseguradoras            1421\n",
       "Hoteles Moteles Resorts                              944\n",
       "Ventas y Servicios de Equipos Electricos             769\n",
       "Cine y Peliculas                                     711\n",
       "Tecnologia y Software                                693\n",
       "Name: Categoria_Agrupada, dtype: int64"
      ]
     },
     "execution_count": 29,
     "metadata": {},
     "output_type": "execute_result"
    }
   ],
   "source": [
    "top_n_comercios_recencia = get_top_n_comercios_recencia(transacciones)\n",
    "top_n_comercios_recencia.Categoria_Agrupada.value_counts().head(20)"
   ]
  },
  {
   "cell_type": "markdown",
   "metadata": {
    "slideshow": {
     "slide_type": "subslide"
    }
   },
   "source": [
    "En este metodo, se ve mayor presencia en categorias recurrentes, como *Musica*, *Gasolineras* y *Cine y Peliculas*. "
   ]
  },
  {
   "cell_type": "markdown",
   "metadata": {
    "slideshow": {
     "slide_type": "subslide"
    }
   },
   "source": [
    "# Termometro: Una combinación estadistica de las tres anteriores."
   ]
  },
  {
   "cell_type": "markdown",
   "metadata": {
    "slideshow": {
     "slide_type": "subslide"
    }
   },
   "source": [
    "En este metodo, se utilizan tecnicas matematicas y estadisticas para llevar la Cantidad y Monto de transacciones a la misma escala (ya que una usualmente se mide del 1 al 100, y la otra en millones), combinarlas de tal manera que ambas tengan el mismo peso y por último multiplicar el valor resultante por la recencia. De esta manera se combinan los 3 metodos anteriores de manera estadistica."
   ]
  },
  {
   "cell_type": "code",
   "execution_count": 30,
   "metadata": {
    "slideshow": {
     "slide_type": "skip"
    }
   },
   "outputs": [],
   "source": [
    "def crear_termometro(value_matrix):\n",
    "    value_matrix = MinMaxScaler().fit_transform(value_matrix)\n",
    "    termometro = PCA(n_components=1).fit_transform(value_matrix)\n",
    "    termometro_scaled = MinMaxScaler().fit_transform(termometro)\n",
    "    return termometro_scaled"
   ]
  },
  {
   "cell_type": "code",
   "execution_count": 31,
   "metadata": {
    "slideshow": {
     "slide_type": "skip"
    }
   },
   "outputs": [],
   "source": [
    "transacciones_agrupadas['Recencia'] = transacciones.groupby(interes_group)['Recencia'].max().reset_index()['Recencia']"
   ]
  },
  {
   "cell_type": "markdown",
   "metadata": {
    "slideshow": {
     "slide_type": "subslide"
    }
   },
   "source": [
    "Ejemplo de la combinación creada por el Termometro."
   ]
  },
  {
   "cell_type": "code",
   "execution_count": 32,
   "metadata": {
    "slideshow": {
     "slide_type": "fragment"
    }
   },
   "outputs": [
    {
     "data": {
      "text/html": [
       "<div>\n",
       "<style scoped>\n",
       "    .dataframe tbody tr th:only-of-type {\n",
       "        vertical-align: middle;\n",
       "    }\n",
       "\n",
       "    .dataframe tbody tr th {\n",
       "        vertical-align: top;\n",
       "    }\n",
       "\n",
       "    .dataframe thead th {\n",
       "        text-align: right;\n",
       "    }\n",
       "</style>\n",
       "<table border=\"1\" class=\"dataframe\">\n",
       "  <thead>\n",
       "    <tr style=\"text-align: right;\">\n",
       "      <th></th>\n",
       "      <th>Codigo_Cliente</th>\n",
       "      <th>DESCRI_PRODUCTO</th>\n",
       "      <th>Categoria_Agrupada</th>\n",
       "      <th>Cantidad</th>\n",
       "      <th>Valor_Total_RD</th>\n",
       "      <th>Recencia</th>\n",
       "      <th>Termometro</th>\n",
       "    </tr>\n",
       "  </thead>\n",
       "  <tbody>\n",
       "    <tr>\n",
       "      <th>106658</th>\n",
       "      <td>203354</td>\n",
       "      <td>VISA EMPRESARIAL</td>\n",
       "      <td>Ferreterias y Hogar</td>\n",
       "      <td>12</td>\n",
       "      <td>24925924.00</td>\n",
       "      <td>10</td>\n",
       "      <td>10.000000</td>\n",
       "    </tr>\n",
       "    <tr>\n",
       "      <th>79539</th>\n",
       "      <td>151842</td>\n",
       "      <td>VISA EMPRESARIAL</td>\n",
       "      <td>Servicios de Transporte y Viajes</td>\n",
       "      <td>8</td>\n",
       "      <td>19787350.00</td>\n",
       "      <td>8</td>\n",
       "      <td>6.348926</td>\n",
       "    </tr>\n",
       "    <tr>\n",
       "      <th>9</th>\n",
       "      <td>1</td>\n",
       "      <td>VISA EMPRESARIAL</td>\n",
       "      <td>Servicios de Comunicacion, Internet y Telecable</td>\n",
       "      <td>104</td>\n",
       "      <td>14825500.03</td>\n",
       "      <td>10</td>\n",
       "      <td>6.076134</td>\n",
       "    </tr>\n",
       "    <tr>\n",
       "      <th>33339</th>\n",
       "      <td>74414</td>\n",
       "      <td>VISA INFINITE</td>\n",
       "      <td>Ropas</td>\n",
       "      <td>56</td>\n",
       "      <td>14540461.00</td>\n",
       "      <td>10</td>\n",
       "      <td>5.898096</td>\n",
       "    </tr>\n",
       "    <tr>\n",
       "      <th>86887</th>\n",
       "      <td>163427</td>\n",
       "      <td>VISA EMPRESARIAL</td>\n",
       "      <td>Supermercados y Alimentos</td>\n",
       "      <td>3192</td>\n",
       "      <td>3638907.56</td>\n",
       "      <td>10</td>\n",
       "      <td>5.702519</td>\n",
       "    </tr>\n",
       "    <tr>\n",
       "      <th>8</th>\n",
       "      <td>1</td>\n",
       "      <td>VISA EMPRESARIAL</td>\n",
       "      <td>Servicios Gubernamentales</td>\n",
       "      <td>36</td>\n",
       "      <td>11993702.97</td>\n",
       "      <td>10</td>\n",
       "      <td>4.851256</td>\n",
       "    </tr>\n",
       "    <tr>\n",
       "      <th>32515</th>\n",
       "      <td>72911</td>\n",
       "      <td>VISA INFINITE</td>\n",
       "      <td>Ropas</td>\n",
       "      <td>24</td>\n",
       "      <td>9329293.50</td>\n",
       "      <td>10</td>\n",
       "      <td>3.767926</td>\n",
       "    </tr>\n",
       "    <tr>\n",
       "      <th>24279</th>\n",
       "      <td>54613</td>\n",
       "      <td>VISA PLATINO</td>\n",
       "      <td>Articulos de Oficina</td>\n",
       "      <td>18</td>\n",
       "      <td>8759746.00</td>\n",
       "      <td>10</td>\n",
       "      <td>3.531783</td>\n",
       "    </tr>\n",
       "    <tr>\n",
       "      <th>42316</th>\n",
       "      <td>88783</td>\n",
       "      <td>VISA INFINITE</td>\n",
       "      <td>Ropas</td>\n",
       "      <td>69</td>\n",
       "      <td>8132070.50</td>\n",
       "      <td>10</td>\n",
       "      <td>3.348177</td>\n",
       "    </tr>\n",
       "    <tr>\n",
       "      <th>86879</th>\n",
       "      <td>163427</td>\n",
       "      <td>VISA EMPRESARIAL</td>\n",
       "      <td>Restaurantes</td>\n",
       "      <td>1943</td>\n",
       "      <td>1279517.39</td>\n",
       "      <td>10</td>\n",
       "      <td>3.095885</td>\n",
       "    </tr>\n",
       "  </tbody>\n",
       "</table>\n",
       "</div>"
      ],
      "text/plain": [
       "        Codigo_Cliente   DESCRI_PRODUCTO  \\\n",
       "106658          203354  VISA EMPRESARIAL   \n",
       "79539           151842  VISA EMPRESARIAL   \n",
       "9                    1  VISA EMPRESARIAL   \n",
       "33339            74414     VISA INFINITE   \n",
       "86887           163427  VISA EMPRESARIAL   \n",
       "8                    1  VISA EMPRESARIAL   \n",
       "32515            72911     VISA INFINITE   \n",
       "24279            54613      VISA PLATINO   \n",
       "42316            88783     VISA INFINITE   \n",
       "86879           163427  VISA EMPRESARIAL   \n",
       "\n",
       "                                     Categoria_Agrupada  Cantidad  \\\n",
       "106658                              Ferreterias y Hogar        12   \n",
       "79539                  Servicios de Transporte y Viajes         8   \n",
       "9       Servicios de Comunicacion, Internet y Telecable       104   \n",
       "33339                                             Ropas        56   \n",
       "86887                         Supermercados y Alimentos      3192   \n",
       "8                             Servicios Gubernamentales        36   \n",
       "32515                                             Ropas        24   \n",
       "24279                              Articulos de Oficina        18   \n",
       "42316                                             Ropas        69   \n",
       "86879                                      Restaurantes      1943   \n",
       "\n",
       "        Valor_Total_RD  Recencia  Termometro  \n",
       "106658     24925924.00        10   10.000000  \n",
       "79539      19787350.00         8    6.348926  \n",
       "9          14825500.03        10    6.076134  \n",
       "33339      14540461.00        10    5.898096  \n",
       "86887       3638907.56        10    5.702519  \n",
       "8          11993702.97        10    4.851256  \n",
       "32515       9329293.50        10    3.767926  \n",
       "24279       8759746.00        10    3.531783  \n",
       "42316       8132070.50        10    3.348177  \n",
       "86879       1279517.39        10    3.095885  "
      ]
     },
     "execution_count": 32,
     "metadata": {},
     "output_type": "execute_result"
    }
   ],
   "source": [
    "transacciones_agrupadas['Termometro'] = crear_termometro(transacciones_agrupadas[['Cantidad','Valor_Total_RD']].values)\n",
    "transacciones_agrupadas['Termometro'] = transacciones_agrupadas['Termometro'] * transacciones_agrupadas.Recencia\n",
    "transacciones_agrupadas.sort_values(by='Termometro',ascending=False).head(10)"
   ]
  },
  {
   "cell_type": "code",
   "execution_count": 33,
   "metadata": {
    "slideshow": {
     "slide_type": "subslide"
    }
   },
   "outputs": [
    {
     "data": {
      "text/plain": [
       "Supermercados y Alimentos                          35476\n",
       "Gasolineras y Vehiculos                            20813\n",
       "Tienda De Venta Especializada                      12189\n",
       "Servicios de Salud, Belleza y Recreacion           11967\n",
       "Servicios de Comunicacion, Internet y Telecable    11120\n",
       "Ropas                                               9661\n",
       "Comida Rapida                                       6029\n",
       "Servicios Gubernamentales                           5931\n",
       "Ferreterias y Hogar                                 5552\n",
       "Restaurantes                                        4609\n",
       "Servicios de Transporte y Viajes                    3166\n",
       "Servicios Educativos                                1964\n",
       "Otros Servicios                                     1552\n",
       "Instituciones Financieras y Aseguradoras            1354\n",
       "Licores                                             1125\n",
       "Musica                                              1084\n",
       "Ventas y Servicios de Equipos Electricos            1027\n",
       "Hoteles Moteles Resorts                              939\n",
       "Vida Nocturna                                        836\n",
       "Tecnologia y Software                                652\n",
       "Name: Categoria_Agrupada, dtype: int64"
      ]
     },
     "execution_count": 33,
     "metadata": {},
     "output_type": "execute_result"
    }
   ],
   "source": [
    "top_n_comercios_termometro = get_top_n_comercios_medida(transacciones_agrupadas,'Termometro')\n",
    "top_n_comercios_termometro.Categoria_Agrupada.value_counts().head(20)"
   ]
  },
  {
   "cell_type": "markdown",
   "metadata": {
    "slideshow": {
     "slide_type": "subslide"
    }
   },
   "source": [
    "Al combinar las metricas, se nota más la presencia de categorias en la que se gasta mucho, se compra mucho, y se va frecuente, como *Supermercados*, *Salud y Belleza*, *Tiendas de Venta Especializadas (aquí caen muchos negocios en Linea como Amazon)*. "
   ]
  },
  {
   "cell_type": "markdown",
   "metadata": {
    "slideshow": {
     "slide_type": "subslide"
    }
   },
   "source": [
    "# RFM: Combinación más heuristica de la Recencia, Cantidad y Valor Monetario"
   ]
  },
  {
   "cell_type": "markdown",
   "metadata": {
    "slideshow": {
     "slide_type": "fragment"
    }
   },
   "source": [
    "Otro metodo parecido al del termometro es el del RFM (Recency, Frequency, Monetary Value). Igual, consideramos las 3 metricas con el mismo peso, pero estos pesos seran llevados a numeros del 1 al 10, como se hizo con la recencia. Las divisiones se encontraran segun los deciles o aproximaciones de los deciles de la distribucion de cada metrica, igual que como se hizo con la recencia."
   ]
  },
  {
   "cell_type": "markdown",
   "metadata": {
    "slideshow": {
     "slide_type": "subslide"
    }
   },
   "source": [
    "División de las cantidades"
   ]
  },
  {
   "cell_type": "code",
   "execution_count": 34,
   "metadata": {
    "slideshow": {
     "slide_type": "fragment"
    }
   },
   "outputs": [
    {
     "data": {
      "text/plain": [
       "IntervalIndex([(0, 1], (1, 3], (3, 5], (5, 7], (7, 10], (10, 20], (20, 30], (30, 50], (50, 100], (100, 100000]],\n",
       "              closed='right',\n",
       "              dtype='interval[int64]')"
      ]
     },
     "execution_count": 34,
     "metadata": {},
     "output_type": "execute_result"
    }
   ],
   "source": [
    " pd.cut(transacciones_agrupadas.Cantidad,[0,1,3,5,7,10,20,30,50,100,100000]).cat.categories"
   ]
  },
  {
   "cell_type": "markdown",
   "metadata": {
    "slideshow": {
     "slide_type": "subslide"
    }
   },
   "source": [
    "División del Valor Monetario"
   ]
  },
  {
   "cell_type": "code",
   "execution_count": 35,
   "metadata": {
    "slideshow": {
     "slide_type": "fragment"
    }
   },
   "outputs": [
    {
     "data": {
      "text/plain": [
       "IntervalIndex([(0.499, 500.0], (500.0, 971.464], (971.464, 1500.0], (1500.0, 2247.0], (2247.0, 3315.0], (3315.0, 4975.162], (4975.162, 7685.838], (7685.838, 12845.4], (12845.4, 26172.27], (26172.27, 24925924.0]],\n",
       "              closed='right',\n",
       "              dtype='interval[float64]')"
      ]
     },
     "execution_count": 35,
     "metadata": {},
     "output_type": "execute_result"
    }
   ],
   "source": [
    "pd.qcut(transacciones_agrupadas.Valor_Total_RD,10,).cat.categories"
   ]
  },
  {
   "cell_type": "markdown",
   "metadata": {
    "slideshow": {
     "slide_type": "subslide"
    }
   },
   "source": [
    "Por último, luego de tener el score RFM de las 3 metricas, se calcula el promedio de las 3 para llegar al score RFM final."
   ]
  },
  {
   "cell_type": "code",
   "execution_count": 36,
   "metadata": {
    "slideshow": {
     "slide_type": "skip"
    }
   },
   "outputs": [],
   "source": [
    "def crear_score_RFM(transacciones_agrupadas):\n",
    "    transacciones_agrupadas['Cantidad_RFM'] = pd.cut(transacciones_agrupadas.Cantidad,[0,1,3,5,7,10,20,30,50,100,100000]\n",
    "                                                 ,labels=list(range(1,11))).astype(int)\n",
    "    transacciones_agrupadas['Valor_Monetario_RFM'] = pd.qcut(transacciones_agrupadas.Valor_Total_RD\n",
    "                                                         ,10,labels=list(range(1,11))).astype(int)\n",
    "    transacciones_agrupadas['Score_RFM'] = transacciones_agrupadas[['Recencia','Cantidad_RFM','Valor_Monetario_RFM']\n",
    "                                                              ].mean(axis=1)\n",
    "    return transacciones_agrupadas['Score_RFM']"
   ]
  },
  {
   "cell_type": "markdown",
   "metadata": {
    "slideshow": {
     "slide_type": "subslide"
    }
   },
   "source": [
    "Ejemplo de algunos valores del score RFM en los datos."
   ]
  },
  {
   "cell_type": "code",
   "execution_count": 37,
   "metadata": {
    "slideshow": {
     "slide_type": "fragment"
    }
   },
   "outputs": [
    {
     "data": {
      "text/html": [
       "<div>\n",
       "<style scoped>\n",
       "    .dataframe tbody tr th:only-of-type {\n",
       "        vertical-align: middle;\n",
       "    }\n",
       "\n",
       "    .dataframe tbody tr th {\n",
       "        vertical-align: top;\n",
       "    }\n",
       "\n",
       "    .dataframe thead th {\n",
       "        text-align: right;\n",
       "    }\n",
       "</style>\n",
       "<table border=\"1\" class=\"dataframe\">\n",
       "  <thead>\n",
       "    <tr style=\"text-align: right;\">\n",
       "      <th></th>\n",
       "      <th>Codigo_Cliente</th>\n",
       "      <th>Categoria_Agrupada</th>\n",
       "      <th>Cantidad_RFM</th>\n",
       "      <th>Recencia</th>\n",
       "      <th>Valor_Monetario_RFM</th>\n",
       "      <th>Score_RFM</th>\n",
       "    </tr>\n",
       "  </thead>\n",
       "  <tbody>\n",
       "    <tr>\n",
       "      <th>117909</th>\n",
       "      <td>223204</td>\n",
       "      <td>Ropas</td>\n",
       "      <td>2</td>\n",
       "      <td>4</td>\n",
       "      <td>4</td>\n",
       "      <td>3.333333</td>\n",
       "    </tr>\n",
       "    <tr>\n",
       "      <th>271132</th>\n",
       "      <td>415476</td>\n",
       "      <td>Ropas</td>\n",
       "      <td>1</td>\n",
       "      <td>9</td>\n",
       "      <td>3</td>\n",
       "      <td>4.333333</td>\n",
       "    </tr>\n",
       "    <tr>\n",
       "      <th>144249</th>\n",
       "      <td>272748</td>\n",
       "      <td>Gasolineras y Vehiculos</td>\n",
       "      <td>3</td>\n",
       "      <td>10</td>\n",
       "      <td>7</td>\n",
       "      <td>6.666667</td>\n",
       "    </tr>\n",
       "    <tr>\n",
       "      <th>251751</th>\n",
       "      <td>393191</td>\n",
       "      <td>Tienda De Venta Especializada</td>\n",
       "      <td>3</td>\n",
       "      <td>8</td>\n",
       "      <td>7</td>\n",
       "      <td>6.000000</td>\n",
       "    </tr>\n",
       "    <tr>\n",
       "      <th>247788</th>\n",
       "      <td>389844</td>\n",
       "      <td>Instituciones Financieras y Aseguradoras</td>\n",
       "      <td>1</td>\n",
       "      <td>4</td>\n",
       "      <td>5</td>\n",
       "      <td>3.333333</td>\n",
       "    </tr>\n",
       "    <tr>\n",
       "      <th>218433</th>\n",
       "      <td>363053</td>\n",
       "      <td>Servicios de Comunicacion, Internet y Telecable</td>\n",
       "      <td>2</td>\n",
       "      <td>4</td>\n",
       "      <td>6</td>\n",
       "      <td>4.000000</td>\n",
       "    </tr>\n",
       "    <tr>\n",
       "      <th>44250</th>\n",
       "      <td>91767</td>\n",
       "      <td>Restaurantes</td>\n",
       "      <td>1</td>\n",
       "      <td>10</td>\n",
       "      <td>5</td>\n",
       "      <td>5.333333</td>\n",
       "    </tr>\n",
       "    <tr>\n",
       "      <th>157776</th>\n",
       "      <td>294641</td>\n",
       "      <td>Servicios de Comunicacion, Internet y Telecable</td>\n",
       "      <td>1</td>\n",
       "      <td>10</td>\n",
       "      <td>7</td>\n",
       "      <td>6.000000</td>\n",
       "    </tr>\n",
       "    <tr>\n",
       "      <th>165450</th>\n",
       "      <td>306208</td>\n",
       "      <td>Ferreterias y Hogar</td>\n",
       "      <td>1</td>\n",
       "      <td>10</td>\n",
       "      <td>7</td>\n",
       "      <td>6.000000</td>\n",
       "    </tr>\n",
       "    <tr>\n",
       "      <th>7423</th>\n",
       "      <td>24317</td>\n",
       "      <td>Servicios de Salud, Belleza y Recreacion</td>\n",
       "      <td>1</td>\n",
       "      <td>10</td>\n",
       "      <td>4</td>\n",
       "      <td>5.000000</td>\n",
       "    </tr>\n",
       "  </tbody>\n",
       "</table>\n",
       "</div>"
      ],
      "text/plain": [
       "        Codigo_Cliente                               Categoria_Agrupada  \\\n",
       "117909          223204                                            Ropas   \n",
       "271132          415476                                            Ropas   \n",
       "144249          272748                          Gasolineras y Vehiculos   \n",
       "251751          393191                    Tienda De Venta Especializada   \n",
       "247788          389844         Instituciones Financieras y Aseguradoras   \n",
       "218433          363053  Servicios de Comunicacion, Internet y Telecable   \n",
       "44250            91767                                     Restaurantes   \n",
       "157776          294641  Servicios de Comunicacion, Internet y Telecable   \n",
       "165450          306208                              Ferreterias y Hogar   \n",
       "7423             24317         Servicios de Salud, Belleza y Recreacion   \n",
       "\n",
       "        Cantidad_RFM  Recencia  Valor_Monetario_RFM  Score_RFM  \n",
       "117909             2         4                    4   3.333333  \n",
       "271132             1         9                    3   4.333333  \n",
       "144249             3        10                    7   6.666667  \n",
       "251751             3         8                    7   6.000000  \n",
       "247788             1         4                    5   3.333333  \n",
       "218433             2         4                    6   4.000000  \n",
       "44250              1        10                    5   5.333333  \n",
       "157776             1        10                    7   6.000000  \n",
       "165450             1        10                    7   6.000000  \n",
       "7423               1        10                    4   5.000000  "
      ]
     },
     "execution_count": 37,
     "metadata": {},
     "output_type": "execute_result"
    }
   ],
   "source": [
    "transacciones_agrupadas['Score_RFM'] = crear_score_RFM(transacciones_agrupadas)\n",
    "transacciones_agrupadas[['Codigo_Cliente','Categoria_Agrupada',\n",
    "                         'Cantidad_RFM','Recencia','Valor_Monetario_RFM','Score_RFM']].sample(10)"
   ]
  },
  {
   "cell_type": "code",
   "execution_count": 38,
   "metadata": {
    "slideshow": {
     "slide_type": "subslide"
    }
   },
   "outputs": [
    {
     "data": {
      "text/plain": [
       "Supermercados y Alimentos                          35341\n",
       "Gasolineras y Vehiculos                            20657\n",
       "Tienda De Venta Especializada                      12490\n",
       "Servicios de Salud, Belleza y Recreacion           12190\n",
       "Servicios de Comunicacion, Internet y Telecable    11492\n",
       "Ropas                                               9965\n",
       "Servicios Gubernamentales                           6039\n",
       "Ferreterias y Hogar                                 5549\n",
       "Comida Rapida                                       5392\n",
       "Restaurantes                                        4886\n",
       "Servicios de Transporte y Viajes                    2860\n",
       "Servicios Educativos                                1915\n",
       "Otros Servicios                                     1536\n",
       "Instituciones Financieras y Aseguradoras            1264\n",
       "Licores                                             1164\n",
       "Ventas y Servicios de Equipos Electricos            1045\n",
       "Musica                                               942\n",
       "Vida Nocturna                                        874\n",
       "Hoteles Moteles Resorts                              861\n",
       "Tecnologia y Software                                648\n",
       "Name: Categoria_Agrupada, dtype: int64"
      ]
     },
     "execution_count": 38,
     "metadata": {},
     "output_type": "execute_result"
    }
   ],
   "source": [
    "top_n_comercios_rfm = get_top_n_comercios_medida(transacciones_agrupadas,'Score_RFM')\n",
    "top_n_comercios_rfm.Categoria_Agrupada.value_counts().head(20)"
   ]
  },
  {
   "cell_type": "markdown",
   "metadata": {
    "slideshow": {
     "slide_type": "subslide"
    }
   },
   "source": [
    "Con esta metrica, se obtienen valores similares al del termometro, con un poco de variación en algunas categorias. Esta metrica es la que será utilizada como la metrica final para determinar las preferencias de comercios."
   ]
  },
  {
   "cell_type": "markdown",
   "metadata": {
    "slideshow": {
     "slide_type": "slide"
    }
   },
   "source": [
    "# Exploración"
   ]
  },
  {
   "cell_type": "markdown",
   "metadata": {
    "slideshow": {
     "slide_type": "slide"
    }
   },
   "source": [
    "## Variación entre Metricas"
   ]
  },
  {
   "cell_type": "markdown",
   "metadata": {
    "slideshow": {
     "slide_type": "subslide"
    }
   },
   "source": [
    "Según vimos, entre cada metrica existe una cantidad diferente de clientes en cada categoria. Analizamos esta variación para determinar la causa de estas diferencias."
   ]
  },
  {
   "cell_type": "code",
   "execution_count": 39,
   "metadata": {
    "slideshow": {
     "slide_type": "skip"
    }
   },
   "outputs": [
    {
     "data": {
      "text/plain": [
       "5"
      ]
     },
     "execution_count": 39,
     "metadata": {},
     "output_type": "execute_result"
    }
   ],
   "source": [
    "datasets_top_n = {'Cantidad':top_n_comercios_cantidad,\n",
    "                  'Recencia': top_n_comercios_recencia,\n",
    "                  'Termometro':top_n_comercios_termometro,\n",
    "                  'Valor':top_n_comercios_valor,\n",
    "                  'RFM': top_n_comercios_rfm}\n",
    "len(datasets_top_n)"
   ]
  },
  {
   "cell_type": "code",
   "execution_count": 40,
   "metadata": {
    "slideshow": {
     "slide_type": "skip"
    }
   },
   "outputs": [],
   "source": [
    "def create_value_counts_dataframe(datasets):\n",
    "    if len(categoria_comercio_interes) < 2:\n",
    "        value_counts = list(datasets.values())[0][categoria_comercio_interes[0]].value_counts()\n",
    "        cats = value_counts.index\n",
    "        value_counts_df = pd.DataFrame({\n",
    "            **{f\"Preferencias_{k}\":top_n[categoria_comercio_interes[0]].value_counts()[cats] for k,top_n in datasets.items()}\n",
    "        })\n",
    "        return value_counts_df\n",
    "    else:\n",
    "        value_counts = list(datasets.values())[0].groupby(categoria_comercio_interes[:2]\n",
    "                                                         )['Cantidad'].count()\n",
    "        cats = value_counts.index\n",
    "        value_counts_df = pd.DataFrame({\n",
    "            **{f\"Preferencias_{k}\":top_n.groupby(categoria_comercio_interes[:2]\n",
    "                                                         )['Cantidad'].count()[cats] \n",
    "               for k,top_n in datasets.items()}\n",
    "        })\n",
    "        return value_counts_df"
   ]
  },
  {
   "cell_type": "markdown",
   "metadata": {
    "slideshow": {
     "slide_type": "subslide"
    }
   },
   "source": [
    "Agrupamos la cantidad de clientes por producto por categoria por metrica, para luego crear estadisticas con esta, como el promedio de clientes, la desviación estandar y  el porcentaje de variación por categoria."
   ]
  },
  {
   "cell_type": "code",
   "execution_count": 41,
   "metadata": {
    "slideshow": {
     "slide_type": "skip"
    }
   },
   "outputs": [
    {
     "data": {
      "text/html": [
       "<div>\n",
       "<style scoped>\n",
       "    .dataframe tbody tr th:only-of-type {\n",
       "        vertical-align: middle;\n",
       "    }\n",
       "\n",
       "    .dataframe tbody tr th {\n",
       "        vertical-align: top;\n",
       "    }\n",
       "\n",
       "    .dataframe thead th {\n",
       "        text-align: right;\n",
       "    }\n",
       "</style>\n",
       "<table border=\"1\" class=\"dataframe\">\n",
       "  <thead>\n",
       "    <tr style=\"text-align: right;\">\n",
       "      <th></th>\n",
       "      <th></th>\n",
       "      <th>Preferencias_Cantidad</th>\n",
       "      <th>Preferencias_Recencia</th>\n",
       "      <th>Preferencias_Termometro</th>\n",
       "      <th>Preferencias_Valor</th>\n",
       "      <th>Preferencias_RFM</th>\n",
       "    </tr>\n",
       "    <tr>\n",
       "      <th>DESCRI_PRODUCTO</th>\n",
       "      <th>Categoria_Agrupada</th>\n",
       "      <th></th>\n",
       "      <th></th>\n",
       "      <th></th>\n",
       "      <th></th>\n",
       "      <th></th>\n",
       "    </tr>\n",
       "  </thead>\n",
       "  <tbody>\n",
       "    <tr>\n",
       "      <th rowspan=\"5\" valign=\"top\">CREDITO JOVEN</th>\n",
       "      <th>Articulos de Oficina</th>\n",
       "      <td>6</td>\n",
       "      <td>17</td>\n",
       "      <td>7.0</td>\n",
       "      <td>13</td>\n",
       "      <td>8</td>\n",
       "    </tr>\n",
       "    <tr>\n",
       "      <th>Cine y Peliculas</th>\n",
       "      <td>59</td>\n",
       "      <td>58</td>\n",
       "      <td>43.0</td>\n",
       "      <td>32</td>\n",
       "      <td>31</td>\n",
       "    </tr>\n",
       "    <tr>\n",
       "      <th>Comida Rapida</th>\n",
       "      <td>500</td>\n",
       "      <td>513</td>\n",
       "      <td>418.0</td>\n",
       "      <td>291</td>\n",
       "      <td>379</td>\n",
       "    </tr>\n",
       "    <tr>\n",
       "      <th>Ferreterias y Hogar</th>\n",
       "      <td>87</td>\n",
       "      <td>105</td>\n",
       "      <td>91.0</td>\n",
       "      <td>123</td>\n",
       "      <td>101</td>\n",
       "    </tr>\n",
       "    <tr>\n",
       "      <th>Gasolineras y Vehiculos</th>\n",
       "      <td>629</td>\n",
       "      <td>764</td>\n",
       "      <td>622.0</td>\n",
       "      <td>575</td>\n",
       "      <td>610</td>\n",
       "    </tr>\n",
       "  </tbody>\n",
       "</table>\n",
       "</div>"
      ],
      "text/plain": [
       "                                         Preferencias_Cantidad  \\\n",
       "DESCRI_PRODUCTO Categoria_Agrupada                               \n",
       "CREDITO JOVEN   Articulos de Oficina                         6   \n",
       "                Cine y Peliculas                            59   \n",
       "                Comida Rapida                              500   \n",
       "                Ferreterias y Hogar                         87   \n",
       "                Gasolineras y Vehiculos                    629   \n",
       "\n",
       "                                         Preferencias_Recencia  \\\n",
       "DESCRI_PRODUCTO Categoria_Agrupada                               \n",
       "CREDITO JOVEN   Articulos de Oficina                        17   \n",
       "                Cine y Peliculas                            58   \n",
       "                Comida Rapida                              513   \n",
       "                Ferreterias y Hogar                        105   \n",
       "                Gasolineras y Vehiculos                    764   \n",
       "\n",
       "                                         Preferencias_Termometro  \\\n",
       "DESCRI_PRODUCTO Categoria_Agrupada                                 \n",
       "CREDITO JOVEN   Articulos de Oficina                         7.0   \n",
       "                Cine y Peliculas                            43.0   \n",
       "                Comida Rapida                              418.0   \n",
       "                Ferreterias y Hogar                         91.0   \n",
       "                Gasolineras y Vehiculos                    622.0   \n",
       "\n",
       "                                         Preferencias_Valor  Preferencias_RFM  \n",
       "DESCRI_PRODUCTO Categoria_Agrupada                                             \n",
       "CREDITO JOVEN   Articulos de Oficina                     13                 8  \n",
       "                Cine y Peliculas                         32                31  \n",
       "                Comida Rapida                           291               379  \n",
       "                Ferreterias y Hogar                     123               101  \n",
       "                Gasolineras y Vehiculos                 575               610  "
      ]
     },
     "execution_count": 41,
     "metadata": {},
     "output_type": "execute_result"
    }
   ],
   "source": [
    "value_counts_df = create_value_counts_dataframe(datasets_top_n)\n",
    "value_counts_df.head()"
   ]
  },
  {
   "cell_type": "code",
   "execution_count": 42,
   "metadata": {
    "slideshow": {
     "slide_type": "skip"
    }
   },
   "outputs": [],
   "source": [
    "preferencias_counts_cols = [col for col in value_counts_df if 'Preferencias' in col]\n",
    "value_counts_df['Promedio'] = value_counts_df[preferencias_counts_cols].mean(axis=1).astype(int)\n",
    "value_counts_df['Desviacion'] = value_counts_df[preferencias_counts_cols].std(axis=1)\n",
    "value_counts_df[\"Porcentaje_Variacion (%)\"] = ((value_counts_df[\"Desviacion\"] \n",
    "                                            / value_counts_df['Promedio'])* 100).round(2)\n",
    "value_counts_df = value_counts_df.reset_index()"
   ]
  },
  {
   "cell_type": "code",
   "execution_count": 43,
   "metadata": {
    "slideshow": {
     "slide_type": "fragment"
    }
   },
   "outputs": [
    {
     "data": {
      "text/html": [
       "<div>\n",
       "<style scoped>\n",
       "    .dataframe tbody tr th:only-of-type {\n",
       "        vertical-align: middle;\n",
       "    }\n",
       "\n",
       "    .dataframe tbody tr th {\n",
       "        vertical-align: top;\n",
       "    }\n",
       "\n",
       "    .dataframe thead th {\n",
       "        text-align: right;\n",
       "    }\n",
       "</style>\n",
       "<table border=\"1\" class=\"dataframe\">\n",
       "  <thead>\n",
       "    <tr style=\"text-align: right;\">\n",
       "      <th></th>\n",
       "      <th>DESCRI_PRODUCTO</th>\n",
       "      <th>Categoria_Agrupada</th>\n",
       "      <th>Preferencias_Cantidad</th>\n",
       "      <th>Preferencias_Recencia</th>\n",
       "      <th>Preferencias_Termometro</th>\n",
       "      <th>Preferencias_Valor</th>\n",
       "      <th>Preferencias_RFM</th>\n",
       "      <th>Promedio</th>\n",
       "      <th>Desviacion</th>\n",
       "      <th>Porcentaje_Variacion (%)</th>\n",
       "    </tr>\n",
       "  </thead>\n",
       "  <tbody>\n",
       "    <tr>\n",
       "      <th>0</th>\n",
       "      <td>CREDITO JOVEN</td>\n",
       "      <td>Articulos de Oficina</td>\n",
       "      <td>6</td>\n",
       "      <td>17</td>\n",
       "      <td>7.0</td>\n",
       "      <td>13</td>\n",
       "      <td>8</td>\n",
       "      <td>10</td>\n",
       "      <td>4.658326</td>\n",
       "      <td>46.58</td>\n",
       "    </tr>\n",
       "    <tr>\n",
       "      <th>1</th>\n",
       "      <td>CREDITO JOVEN</td>\n",
       "      <td>Cine y Peliculas</td>\n",
       "      <td>59</td>\n",
       "      <td>58</td>\n",
       "      <td>43.0</td>\n",
       "      <td>32</td>\n",
       "      <td>31</td>\n",
       "      <td>44</td>\n",
       "      <td>13.538833</td>\n",
       "      <td>30.77</td>\n",
       "    </tr>\n",
       "    <tr>\n",
       "      <th>2</th>\n",
       "      <td>CREDITO JOVEN</td>\n",
       "      <td>Comida Rapida</td>\n",
       "      <td>500</td>\n",
       "      <td>513</td>\n",
       "      <td>418.0</td>\n",
       "      <td>291</td>\n",
       "      <td>379</td>\n",
       "      <td>420</td>\n",
       "      <td>91.343856</td>\n",
       "      <td>21.75</td>\n",
       "    </tr>\n",
       "    <tr>\n",
       "      <th>3</th>\n",
       "      <td>CREDITO JOVEN</td>\n",
       "      <td>Ferreterias y Hogar</td>\n",
       "      <td>87</td>\n",
       "      <td>105</td>\n",
       "      <td>91.0</td>\n",
       "      <td>123</td>\n",
       "      <td>101</td>\n",
       "      <td>101</td>\n",
       "      <td>14.099645</td>\n",
       "      <td>13.96</td>\n",
       "    </tr>\n",
       "    <tr>\n",
       "      <th>4</th>\n",
       "      <td>CREDITO JOVEN</td>\n",
       "      <td>Gasolineras y Vehiculos</td>\n",
       "      <td>629</td>\n",
       "      <td>764</td>\n",
       "      <td>622.0</td>\n",
       "      <td>575</td>\n",
       "      <td>610</td>\n",
       "      <td>640</td>\n",
       "      <td>72.363665</td>\n",
       "      <td>11.31</td>\n",
       "    </tr>\n",
       "  </tbody>\n",
       "</table>\n",
       "</div>"
      ],
      "text/plain": [
       "  DESCRI_PRODUCTO       Categoria_Agrupada  Preferencias_Cantidad  \\\n",
       "0   CREDITO JOVEN     Articulos de Oficina                      6   \n",
       "1   CREDITO JOVEN         Cine y Peliculas                     59   \n",
       "2   CREDITO JOVEN            Comida Rapida                    500   \n",
       "3   CREDITO JOVEN      Ferreterias y Hogar                     87   \n",
       "4   CREDITO JOVEN  Gasolineras y Vehiculos                    629   \n",
       "\n",
       "   Preferencias_Recencia  Preferencias_Termometro  Preferencias_Valor  \\\n",
       "0                     17                      7.0                  13   \n",
       "1                     58                     43.0                  32   \n",
       "2                    513                    418.0                 291   \n",
       "3                    105                     91.0                 123   \n",
       "4                    764                    622.0                 575   \n",
       "\n",
       "   Preferencias_RFM  Promedio  Desviacion  Porcentaje_Variacion (%)  \n",
       "0                 8        10    4.658326                     46.58  \n",
       "1                31        44   13.538833                     30.77  \n",
       "2               379       420   91.343856                     21.75  \n",
       "3               101       101   14.099645                     13.96  \n",
       "4               610       640   72.363665                     11.31  "
      ]
     },
     "execution_count": 43,
     "metadata": {},
     "output_type": "execute_result"
    }
   ],
   "source": [
    "value_counts_df.head()"
   ]
  },
  {
   "cell_type": "code",
   "execution_count": 44,
   "metadata": {
    "slideshow": {
     "slide_type": "skip"
    }
   },
   "outputs": [],
   "source": [
    "def bar_plotly(dataframe,dim,value,title,show_text=False):   \n",
    "    sorted_dataframe = dataframe.sort_values(by=value,ascending=False)\n",
    "    data = [go.Bar(\n",
    "                y=sorted_dataframe[value],\n",
    "                x=sorted_dataframe[dim],\n",
    "                marker=dict(\n",
    "                color='#1D62AE',\n",
    "                line=dict(\n",
    "                    color='#14A751',\n",
    "                    width=1,\n",
    "                )\n",
    "            )\n",
    "        )]\n",
    "    \n",
    "    if show_text:\n",
    "        data = [go.Bar(\n",
    "                y=sorted_dataframe[value],\n",
    "                x=sorted_dataframe[dim],\n",
    "                marker=dict(\n",
    "                color='#1D62AE',\n",
    "                line=dict(\n",
    "                    color='#14A751',\n",
    "                    width=1,\n",
    "                )\n",
    "            )\n",
    "        )]\n",
    "\n",
    "    layout = go.Layout(\n",
    "        title=title,\n",
    "        autosize=True,\n",
    "         xaxis=dict(\n",
    "            title=dim,\n",
    "            titlefont=dict(\n",
    "                family='Myriad',\n",
    "                size=20,\n",
    "                color='#14A751'\n",
    "            ),\n",
    "             showticklabels=show_text\n",
    "        ),\n",
    "         yaxis=dict(\n",
    "            title=value,\n",
    "            titlefont=dict(\n",
    "                family='Myriad',\n",
    "                size=20,\n",
    "                color='#14A751'\n",
    "            )\n",
    "        )\n",
    "    )\n",
    "    fig = go.Figure(data=data, layout=layout)\n",
    "    ipy(fig, config=plotly_config)"
   ]
  },
  {
   "cell_type": "code",
   "execution_count": 45,
   "metadata": {
    "slideshow": {
     "slide_type": "skip"
    }
   },
   "outputs": [],
   "source": [
    "def create_grouping(data,groupby_cols,value_cols,new_cols,aggregation=\"sum\"):\n",
    "    grouped_data = data.groupby(groupby_cols)[value_cols].agg(aggregation).reset_index()\n",
    "    grouped_data.columns = new_cols\n",
    "    return grouped_data\n",
    "\n",
    "def crear_estadisticas_value_counts(value_count_df,count_cols,grouping_col = \"Categoria_Agrupada\"):\n",
    "    preferencias_total = value_count_df.groupby(grouping_col)[count_cols].sum()\n",
    "    preferencias_total[\"Promedio\"] = preferencias_total[count_cols].mean(axis=1)\n",
    "    preferencias_total[\"Desviacion\"] = preferencias_total[count_cols].std(axis=1)\n",
    "    preferencias_total[\"Porcentaje_Variacion (%)\"] = ((preferencias_total[\"Desviacion\"] / preferencias_total[\"Promedio\"]\n",
    "                                                      ) * 100).round(2)\n",
    "    return preferencias_total.reset_index()"
   ]
  },
  {
   "cell_type": "code",
   "execution_count": 46,
   "metadata": {
    "slideshow": {
     "slide_type": "skip"
    }
   },
   "outputs": [
    {
     "data": {
      "text/html": [
       "<div>\n",
       "<style scoped>\n",
       "    .dataframe tbody tr th:only-of-type {\n",
       "        vertical-align: middle;\n",
       "    }\n",
       "\n",
       "    .dataframe tbody tr th {\n",
       "        vertical-align: top;\n",
       "    }\n",
       "\n",
       "    .dataframe thead th {\n",
       "        text-align: right;\n",
       "    }\n",
       "</style>\n",
       "<table border=\"1\" class=\"dataframe\">\n",
       "  <thead>\n",
       "    <tr style=\"text-align: right;\">\n",
       "      <th></th>\n",
       "      <th>DESCRI_PRODUCTO</th>\n",
       "      <th>mean_Porcentaje_Variacion (%)</th>\n",
       "    </tr>\n",
       "  </thead>\n",
       "  <tbody>\n",
       "    <tr>\n",
       "      <th>0</th>\n",
       "      <td>CREDITO JOVEN</td>\n",
       "      <td>17.567917</td>\n",
       "    </tr>\n",
       "    <tr>\n",
       "      <th>1</th>\n",
       "      <td>MULTICREDITO</td>\n",
       "      <td>10.220385</td>\n",
       "    </tr>\n",
       "    <tr>\n",
       "      <th>2</th>\n",
       "      <td>VISA CLASICA</td>\n",
       "      <td>13.256538</td>\n",
       "    </tr>\n",
       "    <tr>\n",
       "      <th>3</th>\n",
       "      <td>VISA EMPRESARIAL</td>\n",
       "      <td>29.720385</td>\n",
       "    </tr>\n",
       "    <tr>\n",
       "      <th>4</th>\n",
       "      <td>VISA INFINITE</td>\n",
       "      <td>27.616923</td>\n",
       "    </tr>\n",
       "    <tr>\n",
       "      <th>5</th>\n",
       "      <td>VISA ORO</td>\n",
       "      <td>17.510000</td>\n",
       "    </tr>\n",
       "    <tr>\n",
       "      <th>6</th>\n",
       "      <td>VISA PLATINO</td>\n",
       "      <td>23.283846</td>\n",
       "    </tr>\n",
       "  </tbody>\n",
       "</table>\n",
       "</div>"
      ],
      "text/plain": [
       "    DESCRI_PRODUCTO  mean_Porcentaje_Variacion (%)\n",
       "0     CREDITO JOVEN                      17.567917\n",
       "1      MULTICREDITO                      10.220385\n",
       "2      VISA CLASICA                      13.256538\n",
       "3  VISA EMPRESARIAL                      29.720385\n",
       "4     VISA INFINITE                      27.616923\n",
       "5          VISA ORO                      17.510000\n",
       "6      VISA PLATINO                      23.283846"
      ]
     },
     "execution_count": 46,
     "metadata": {},
     "output_type": "execute_result"
    }
   ],
   "source": [
    "producto_desviacion_promedio = create_grouping(value_counts_df,[\"DESCRI_PRODUCTO\"]\n",
    "                                               ,\"Porcentaje_Variacion (%)\"\n",
    "                                               , [\"DESCRI_PRODUCTO\",\"mean_Porcentaje_Variacion (%)\"] \n",
    "                                               ,[\"mean\"])\n",
    "producto_desviacion_promedio"
   ]
  },
  {
   "cell_type": "markdown",
   "metadata": {
    "slideshow": {
     "slide_type": "subslide"
    }
   },
   "source": [
    "A continuación, algunas graficas para ilustrar esta variación. Variación alta significa que para una metrica, una categoria tiene una cantidad de clientes mucho mayor/ mucho menor, usualmente por una diferencia alta en Cantidad o Monto."
   ]
  },
  {
   "cell_type": "code",
   "execution_count": 47,
   "metadata": {
    "slideshow": {
     "slide_type": "subslide"
    }
   },
   "outputs": [
    {
     "data": {
      "application/vnd.plotly.v1+json": {
       "config": {
        "linkText": "Export to plot.ly",
        "plotlyServerURL": "https://plot.ly",
        "showLink": false
       },
       "data": [
        {
         "marker": {
          "color": "#1D62AE",
          "line": {
           "color": "#14A751",
           "width": 1
          }
         },
         "type": "bar",
         "uid": "d82d06c9-1e0e-434a-a561-23ff5fb37003",
         "x": [
          "VISA EMPRESARIAL",
          "VISA INFINITE",
          "VISA PLATINO",
          "CREDITO JOVEN",
          "VISA ORO",
          "VISA CLASICA",
          "MULTICREDITO"
         ],
         "y": [
          29.72038461538462,
          27.61692307692309,
          23.28384615384615,
          17.567916666666665,
          17.51,
          13.25653846153846,
          10.220384615384614
         ]
        }
       ],
       "layout": {
        "autosize": true,
        "title": {
         "text": "Variación de Preferencia Promedio por Producto"
        },
        "xaxis": {
         "showticklabels": true,
         "title": {
          "font": {
           "color": "#14A751",
           "family": "Myriad",
           "size": 20
          },
          "text": "DESCRI_PRODUCTO"
         }
        },
        "yaxis": {
         "title": {
          "font": {
           "color": "#14A751",
           "family": "Myriad",
           "size": 20
          },
          "text": "mean_Porcentaje_Variacion (%)"
         }
        }
       }
      },
      "text/html": [
       "<div id=\"f5af724c-bdcd-46b8-b09b-6859d5419e06\" style=\"height: 525px; width: 100%;\" class=\"plotly-graph-div\"></div><script type=\"text/javascript\">require([\"plotly\"], function(Plotly) { window.PLOTLYENV=window.PLOTLYENV || {};window.PLOTLYENV.BASE_URL=\"https://plot.ly\";Plotly.newPlot(\"f5af724c-bdcd-46b8-b09b-6859d5419e06\", [{\"marker\": {\"color\": \"#1D62AE\", \"line\": {\"color\": \"#14A751\", \"width\": 1}}, \"x\": [\"VISA EMPRESARIAL\", \"VISA INFINITE\", \"VISA PLATINO\", \"CREDITO JOVEN\", \"VISA ORO\", \"VISA CLASICA\", \"MULTICREDITO\"], \"y\": [29.72038461538462, 27.61692307692309, 23.28384615384615, 17.567916666666665, 17.51, 13.25653846153846, 10.220384615384614], \"type\": \"bar\", \"uid\": \"d82d06c9-1e0e-434a-a561-23ff5fb37003\"}], {\"autosize\": true, \"title\": {\"text\": \"Variaci\\u00f3n de Preferencia Promedio por Producto\"}, \"xaxis\": {\"showticklabels\": true, \"title\": {\"font\": {\"color\": \"#14A751\", \"family\": \"Myriad\", \"size\": 20}, \"text\": \"DESCRI_PRODUCTO\"}}, \"yaxis\": {\"title\": {\"font\": {\"color\": \"#14A751\", \"family\": \"Myriad\", \"size\": 20}, \"text\": \"mean_Porcentaje_Variacion (%)\"}}}, {\"showLink\": false, \"linkText\": \"Export to plot.ly\", \"plotlyServerURL\": \"https://plot.ly\"})});</script><script type=\"text/javascript\">window.addEventListener(\"resize\", function(){window._Plotly.Plots.resize(document.getElementById(\"f5af724c-bdcd-46b8-b09b-6859d5419e06\"));});</script>"
      ],
      "text/vnd.plotly.v1+html": [
       "<div id=\"f5af724c-bdcd-46b8-b09b-6859d5419e06\" style=\"height: 525px; width: 100%;\" class=\"plotly-graph-div\"></div><script type=\"text/javascript\">require([\"plotly\"], function(Plotly) { window.PLOTLYENV=window.PLOTLYENV || {};window.PLOTLYENV.BASE_URL=\"https://plot.ly\";Plotly.newPlot(\"f5af724c-bdcd-46b8-b09b-6859d5419e06\", [{\"marker\": {\"color\": \"#1D62AE\", \"line\": {\"color\": \"#14A751\", \"width\": 1}}, \"x\": [\"VISA EMPRESARIAL\", \"VISA INFINITE\", \"VISA PLATINO\", \"CREDITO JOVEN\", \"VISA ORO\", \"VISA CLASICA\", \"MULTICREDITO\"], \"y\": [29.72038461538462, 27.61692307692309, 23.28384615384615, 17.567916666666665, 17.51, 13.25653846153846, 10.220384615384614], \"type\": \"bar\", \"uid\": \"d82d06c9-1e0e-434a-a561-23ff5fb37003\"}], {\"autosize\": true, \"title\": {\"text\": \"Variaci\\u00f3n de Preferencia Promedio por Producto\"}, \"xaxis\": {\"showticklabels\": true, \"title\": {\"font\": {\"color\": \"#14A751\", \"family\": \"Myriad\", \"size\": 20}, \"text\": \"DESCRI_PRODUCTO\"}}, \"yaxis\": {\"title\": {\"font\": {\"color\": \"#14A751\", \"family\": \"Myriad\", \"size\": 20}, \"text\": \"mean_Porcentaje_Variacion (%)\"}}}, {\"showLink\": false, \"linkText\": \"Export to plot.ly\", \"plotlyServerURL\": \"https://plot.ly\"})});</script><script type=\"text/javascript\">window.addEventListener(\"resize\", function(){window._Plotly.Plots.resize(document.getElementById(\"f5af724c-bdcd-46b8-b09b-6859d5419e06\"));});</script>"
      ]
     },
     "metadata": {},
     "output_type": "display_data"
    }
   ],
   "source": [
    "bar_plotly(dataframe=producto_desviacion_promedio,dim=\"DESCRI_PRODUCTO\",value=\"mean_Porcentaje_Variacion (%)\"\n",
    "           ,title=\"Variación de Preferencia Promedio por Producto\",show_text=True)"
   ]
  },
  {
   "cell_type": "code",
   "execution_count": 48,
   "metadata": {
    "slideshow": {
     "slide_type": "skip"
    }
   },
   "outputs": [
    {
     "data": {
      "text/html": [
       "<div>\n",
       "<style scoped>\n",
       "    .dataframe tbody tr th:only-of-type {\n",
       "        vertical-align: middle;\n",
       "    }\n",
       "\n",
       "    .dataframe tbody tr th {\n",
       "        vertical-align: top;\n",
       "    }\n",
       "\n",
       "    .dataframe thead th {\n",
       "        text-align: right;\n",
       "    }\n",
       "</style>\n",
       "<table border=\"1\" class=\"dataframe\">\n",
       "  <thead>\n",
       "    <tr style=\"text-align: right;\">\n",
       "      <th></th>\n",
       "      <th>Categoria_Agrupada</th>\n",
       "      <th>Preferencias_Cantidad</th>\n",
       "      <th>Preferencias_Recencia</th>\n",
       "      <th>Preferencias_Termometro</th>\n",
       "      <th>Preferencias_Valor</th>\n",
       "      <th>Preferencias_RFM</th>\n",
       "      <th>Promedio</th>\n",
       "      <th>Desviacion</th>\n",
       "      <th>Porcentaje_Variacion (%)</th>\n",
       "    </tr>\n",
       "  </thead>\n",
       "  <tbody>\n",
       "    <tr>\n",
       "      <th>0</th>\n",
       "      <td>Articulos de Oficina</td>\n",
       "      <td>284</td>\n",
       "      <td>405</td>\n",
       "      <td>293.0</td>\n",
       "      <td>351</td>\n",
       "      <td>270</td>\n",
       "      <td>320.6</td>\n",
       "      <td>56.367544</td>\n",
       "      <td>17.58</td>\n",
       "    </tr>\n",
       "    <tr>\n",
       "      <th>1</th>\n",
       "      <td>Cine y Peliculas</td>\n",
       "      <td>582</td>\n",
       "      <td>711</td>\n",
       "      <td>392.0</td>\n",
       "      <td>299</td>\n",
       "      <td>342</td>\n",
       "      <td>465.2</td>\n",
       "      <td>174.799027</td>\n",
       "      <td>37.58</td>\n",
       "    </tr>\n",
       "    <tr>\n",
       "      <th>2</th>\n",
       "      <td>Comida Rapida</td>\n",
       "      <td>8309</td>\n",
       "      <td>9467</td>\n",
       "      <td>6029.0</td>\n",
       "      <td>3675</td>\n",
       "      <td>5392</td>\n",
       "      <td>6574.4</td>\n",
       "      <td>2317.219411</td>\n",
       "      <td>35.25</td>\n",
       "    </tr>\n",
       "    <tr>\n",
       "      <th>3</th>\n",
       "      <td>Ferreterias y Hogar</td>\n",
       "      <td>5140</td>\n",
       "      <td>6014</td>\n",
       "      <td>5552.0</td>\n",
       "      <td>6457</td>\n",
       "      <td>5549</td>\n",
       "      <td>5742.4</td>\n",
       "      <td>505.213123</td>\n",
       "      <td>8.80</td>\n",
       "    </tr>\n",
       "    <tr>\n",
       "      <th>4</th>\n",
       "      <td>Gasolineras y Vehiculos</td>\n",
       "      <td>21833</td>\n",
       "      <td>24467</td>\n",
       "      <td>20813.0</td>\n",
       "      <td>19239</td>\n",
       "      <td>20657</td>\n",
       "      <td>21401.8</td>\n",
       "      <td>1946.824389</td>\n",
       "      <td>9.10</td>\n",
       "    </tr>\n",
       "  </tbody>\n",
       "</table>\n",
       "</div>"
      ],
      "text/plain": [
       "        Categoria_Agrupada  Preferencias_Cantidad  Preferencias_Recencia  \\\n",
       "0     Articulos de Oficina                    284                    405   \n",
       "1         Cine y Peliculas                    582                    711   \n",
       "2            Comida Rapida                   8309                   9467   \n",
       "3      Ferreterias y Hogar                   5140                   6014   \n",
       "4  Gasolineras y Vehiculos                  21833                  24467   \n",
       "\n",
       "   Preferencias_Termometro  Preferencias_Valor  Preferencias_RFM  Promedio  \\\n",
       "0                    293.0                 351               270     320.6   \n",
       "1                    392.0                 299               342     465.2   \n",
       "2                   6029.0                3675              5392    6574.4   \n",
       "3                   5552.0                6457              5549    5742.4   \n",
       "4                  20813.0               19239             20657   21401.8   \n",
       "\n",
       "    Desviacion  Porcentaje_Variacion (%)  \n",
       "0    56.367544                     17.58  \n",
       "1   174.799027                     37.58  \n",
       "2  2317.219411                     35.25  \n",
       "3   505.213123                      8.80  \n",
       "4  1946.824389                      9.10  "
      ]
     },
     "execution_count": 48,
     "metadata": {},
     "output_type": "execute_result"
    }
   ],
   "source": [
    "categoria_value_counts = crear_estadisticas_value_counts(value_counts_df, preferencias_counts_cols\n",
    "                                                         ,grouping_col = \"Categoria_Agrupada\")\n",
    "categoria_value_counts.head()"
   ]
  },
  {
   "cell_type": "code",
   "execution_count": 49,
   "metadata": {
    "slideshow": {
     "slide_type": "subslide"
    }
   },
   "outputs": [
    {
     "data": {
      "application/vnd.plotly.v1+json": {
       "config": {
        "linkText": "Export to plot.ly",
        "plotlyServerURL": "https://plot.ly",
        "showLink": false
       },
       "data": [
        {
         "marker": {
          "color": "#1D62AE",
          "line": {
           "color": "#14A751",
           "width": 1
          }
         },
         "type": "bar",
         "uid": "688424e3-0eae-437c-bca0-0fed30580f01",
         "x": [
          "Cine y Peliculas",
          "Comida Rapida",
          "Servicios Educativos",
          "Servicios de Construccion y Decoracion",
          "Musica",
          "Servicios de Transporte y Viajes",
          "Hoteles Moteles Resorts",
          "Instituciones Financieras y Aseguradoras",
          "Ventas y Servicios de Equipos Electricos",
          "Articulos de Oficina",
          "Vida Nocturna",
          "Servicios de Textiles e Imprenta",
          "Otros Servicios",
          "Licores",
          "Servicios Agropecuarios",
          "Restaurantes",
          "Gasolineras y Vehiculos",
          "Ferreterias y Hogar",
          "Ropas",
          "Tecnologia y Software",
          "Servicio Personales (Deliveries, etc.)",
          "Servicios de Salud, Belleza y Recreacion",
          "Servicios de Comunicacion, Internet y Telecable",
          "Servicios Gubernamentales",
          "Tienda De Venta Especializada",
          "Supermercados y Alimentos"
         ],
         "y": [
          37.58,
          35.25,
          30.75,
          23.99,
          23.06,
          21.99,
          20.68,
          20.56,
          19.11,
          17.58,
          15.08,
          13.61,
          11.71,
          11.71,
          10.71,
          10.1,
          9.1,
          8.8,
          7.12,
          6.97,
          6.14,
          5.48,
          4.86,
          4.44,
          4.09,
          2.26
         ]
        }
       ],
       "layout": {
        "autosize": true,
        "title": {
         "text": "Variación de Preferencia por Categoria"
        },
        "xaxis": {
         "showticklabels": true,
         "title": {
          "font": {
           "color": "#14A751",
           "family": "Myriad",
           "size": 20
          },
          "text": "Categoria_Agrupada"
         }
        },
        "yaxis": {
         "title": {
          "font": {
           "color": "#14A751",
           "family": "Myriad",
           "size": 20
          },
          "text": "Porcentaje_Variacion (%)"
         }
        }
       }
      },
      "text/html": [
       "<div id=\"9cadefbb-c620-4763-b5a4-6a0e19ba0f80\" style=\"height: 525px; width: 100%;\" class=\"plotly-graph-div\"></div><script type=\"text/javascript\">require([\"plotly\"], function(Plotly) { window.PLOTLYENV=window.PLOTLYENV || {};window.PLOTLYENV.BASE_URL=\"https://plot.ly\";Plotly.newPlot(\"9cadefbb-c620-4763-b5a4-6a0e19ba0f80\", [{\"marker\": {\"color\": \"#1D62AE\", \"line\": {\"color\": \"#14A751\", \"width\": 1}}, \"x\": [\"Cine y Peliculas\", \"Comida Rapida\", \"Servicios Educativos\", \"Servicios de Construccion y Decoracion\", \"Musica\", \"Servicios de Transporte y Viajes\", \"Hoteles Moteles Resorts\", \"Instituciones Financieras y Aseguradoras\", \"Ventas y Servicios de Equipos Electricos\", \"Articulos de Oficina\", \"Vida Nocturna\", \"Servicios de Textiles e Imprenta\", \"Otros Servicios\", \"Licores\", \"Servicios Agropecuarios\", \"Restaurantes\", \"Gasolineras y Vehiculos\", \"Ferreterias y Hogar\", \"Ropas\", \"Tecnologia y Software\", \"Servicio Personales (Deliveries, etc.)\", \"Servicios de Salud, Belleza y Recreacion\", \"Servicios de Comunicacion, Internet y Telecable\", \"Servicios Gubernamentales\", \"Tienda De Venta Especializada\", \"Supermercados y Alimentos\"], \"y\": [37.58, 35.25, 30.75, 23.99, 23.06, 21.99, 20.68, 20.56, 19.11, 17.58, 15.08, 13.61, 11.71, 11.71, 10.71, 10.1, 9.1, 8.8, 7.12, 6.97, 6.14, 5.48, 4.86, 4.44, 4.09, 2.26], \"type\": \"bar\", \"uid\": \"688424e3-0eae-437c-bca0-0fed30580f01\"}], {\"autosize\": true, \"title\": {\"text\": \"Variaci\\u00f3n de Preferencia por Categoria\"}, \"xaxis\": {\"showticklabels\": true, \"title\": {\"font\": {\"color\": \"#14A751\", \"family\": \"Myriad\", \"size\": 20}, \"text\": \"Categoria_Agrupada\"}}, \"yaxis\": {\"title\": {\"font\": {\"color\": \"#14A751\", \"family\": \"Myriad\", \"size\": 20}, \"text\": \"Porcentaje_Variacion (%)\"}}}, {\"showLink\": false, \"linkText\": \"Export to plot.ly\", \"plotlyServerURL\": \"https://plot.ly\"})});</script><script type=\"text/javascript\">window.addEventListener(\"resize\", function(){window._Plotly.Plots.resize(document.getElementById(\"9cadefbb-c620-4763-b5a4-6a0e19ba0f80\"));});</script>"
      ],
      "text/vnd.plotly.v1+html": [
       "<div id=\"9cadefbb-c620-4763-b5a4-6a0e19ba0f80\" style=\"height: 525px; width: 100%;\" class=\"plotly-graph-div\"></div><script type=\"text/javascript\">require([\"plotly\"], function(Plotly) { window.PLOTLYENV=window.PLOTLYENV || {};window.PLOTLYENV.BASE_URL=\"https://plot.ly\";Plotly.newPlot(\"9cadefbb-c620-4763-b5a4-6a0e19ba0f80\", [{\"marker\": {\"color\": \"#1D62AE\", \"line\": {\"color\": \"#14A751\", \"width\": 1}}, \"x\": [\"Cine y Peliculas\", \"Comida Rapida\", \"Servicios Educativos\", \"Servicios de Construccion y Decoracion\", \"Musica\", \"Servicios de Transporte y Viajes\", \"Hoteles Moteles Resorts\", \"Instituciones Financieras y Aseguradoras\", \"Ventas y Servicios de Equipos Electricos\", \"Articulos de Oficina\", \"Vida Nocturna\", \"Servicios de Textiles e Imprenta\", \"Otros Servicios\", \"Licores\", \"Servicios Agropecuarios\", \"Restaurantes\", \"Gasolineras y Vehiculos\", \"Ferreterias y Hogar\", \"Ropas\", \"Tecnologia y Software\", \"Servicio Personales (Deliveries, etc.)\", \"Servicios de Salud, Belleza y Recreacion\", \"Servicios de Comunicacion, Internet y Telecable\", \"Servicios Gubernamentales\", \"Tienda De Venta Especializada\", \"Supermercados y Alimentos\"], \"y\": [37.58, 35.25, 30.75, 23.99, 23.06, 21.99, 20.68, 20.56, 19.11, 17.58, 15.08, 13.61, 11.71, 11.71, 10.71, 10.1, 9.1, 8.8, 7.12, 6.97, 6.14, 5.48, 4.86, 4.44, 4.09, 2.26], \"type\": \"bar\", \"uid\": \"688424e3-0eae-437c-bca0-0fed30580f01\"}], {\"autosize\": true, \"title\": {\"text\": \"Variaci\\u00f3n de Preferencia por Categoria\"}, \"xaxis\": {\"showticklabels\": true, \"title\": {\"font\": {\"color\": \"#14A751\", \"family\": \"Myriad\", \"size\": 20}, \"text\": \"Categoria_Agrupada\"}}, \"yaxis\": {\"title\": {\"font\": {\"color\": \"#14A751\", \"family\": \"Myriad\", \"size\": 20}, \"text\": \"Porcentaje_Variacion (%)\"}}}, {\"showLink\": false, \"linkText\": \"Export to plot.ly\", \"plotlyServerURL\": \"https://plot.ly\"})});</script><script type=\"text/javascript\">window.addEventListener(\"resize\", function(){window._Plotly.Plots.resize(document.getElementById(\"9cadefbb-c620-4763-b5a4-6a0e19ba0f80\"));});</script>"
      ]
     },
     "metadata": {},
     "output_type": "display_data"
    }
   ],
   "source": [
    "bar_plotly(dataframe=categoria_value_counts,dim=\"Categoria_Agrupada\",value=\"Porcentaje_Variacion (%)\"\n",
    "           ,title=\"Variación de Preferencia por Categoria\",show_text=True)"
   ]
  },
  {
   "cell_type": "markdown",
   "metadata": {
    "slideshow": {
     "slide_type": "subslide"
    }
   },
   "source": [
    "Las categorias de mayor variación son por altas cantidades o recencia y montos bajos, como *Cine y Peliculas*, *Comida Rapida*, o viceversa como *Servicios Educativos* y *Servicios de Construcción*.  Son más volatiles a la hora de determinar la preferencia, por esto se usa una combinación de las metricas."
   ]
  },
  {
   "cell_type": "markdown",
   "metadata": {
    "slideshow": {
     "slide_type": "slide"
    }
   },
   "source": [
    "## Promedio Preferencias por Categoria"
   ]
  },
  {
   "cell_type": "markdown",
   "metadata": {
    "slideshow": {
     "slide_type": "subslide"
    }
   },
   "source": [
    "A continuación, fueron creados algunos graficos para visualizar las preferencias por categoria y tipo de tarjeta. Las cantidades fueron determinadas según el promedio de cantidad de clientes entre metricas. Aunque no puede ser usado para preferencias puntuales a clientes, si pueden ser utilizados con fines de análisis."
   ]
  },
  {
   "cell_type": "code",
   "execution_count": 50,
   "metadata": {
    "slideshow": {
     "slide_type": "subslide"
    }
   },
   "outputs": [
    {
     "data": {
      "application/vnd.plotly.v1+json": {
       "config": {
        "linkText": "Export to plot.ly",
        "plotlyServerURL": "https://plot.ly",
        "showLink": false
       },
       "data": [
        {
         "marker": {
          "color": "#1D62AE",
          "line": {
           "color": "#14A751",
           "width": 1
          }
         },
         "type": "bar",
         "uid": "57e08e2c-0673-4350-8742-d2773b3a89e1",
         "x": [
          "Supermercados y Alimentos",
          "Gasolineras y Vehiculos",
          "Tienda De Venta Especializada",
          "Servicios de Salud, Belleza y Recreacion",
          "Servicios de Comunicacion, Internet y Telecable",
          "Ropas",
          "Comida Rapida",
          "Servicios Gubernamentales",
          "Ferreterias y Hogar",
          "Restaurantes",
          "Servicios de Transporte y Viajes",
          "Servicios Educativos",
          "Otros Servicios",
          "Instituciones Financieras y Aseguradoras",
          "Licores",
          "Musica",
          "Ventas y Servicios de Equipos Electricos",
          "Hoteles Moteles Resorts",
          "Vida Nocturna",
          "Tecnologia y Software",
          "Cine y Peliculas",
          "Articulos de Oficina",
          "Servicios Agropecuarios",
          "Servicio Personales (Deliveries, etc.)",
          "Servicios de Construccion y Decoracion",
          "Servicios de Textiles e Imprenta"
         ],
         "y": [
          34933,
          21401.8,
          12001.8,
          11803.2,
          11250.8,
          9901.6,
          6574.4,
          6026.6,
          5742.4,
          4943.8,
          2919.6,
          1919.8,
          1645.8,
          1367.2,
          1214.6,
          1102,
          977.4,
          948.2,
          820.2,
          660,
          465.2,
          320.6,
          211.6,
          148.2,
          92.8,
          56.6
         ]
        }
       ],
       "layout": {
        "autosize": true,
        "title": {
         "text": "Promedio de Preferencias de Clientes por Categoria"
        },
        "xaxis": {
         "showticklabels": true,
         "title": {
          "font": {
           "color": "#14A751",
           "family": "Myriad",
           "size": 20
          },
          "text": "Categoria_Agrupada"
         }
        },
        "yaxis": {
         "title": {
          "font": {
           "color": "#14A751",
           "family": "Myriad",
           "size": 20
          },
          "text": "Promedio"
         }
        }
       }
      },
      "text/html": [
       "<div id=\"9525fd29-e394-48a1-ba87-645c2bda2385\" style=\"height: 525px; width: 100%;\" class=\"plotly-graph-div\"></div><script type=\"text/javascript\">require([\"plotly\"], function(Plotly) { window.PLOTLYENV=window.PLOTLYENV || {};window.PLOTLYENV.BASE_URL=\"https://plot.ly\";Plotly.newPlot(\"9525fd29-e394-48a1-ba87-645c2bda2385\", [{\"marker\": {\"color\": \"#1D62AE\", \"line\": {\"color\": \"#14A751\", \"width\": 1}}, \"x\": [\"Supermercados y Alimentos\", \"Gasolineras y Vehiculos\", \"Tienda De Venta Especializada\", \"Servicios de Salud, Belleza y Recreacion\", \"Servicios de Comunicacion, Internet y Telecable\", \"Ropas\", \"Comida Rapida\", \"Servicios Gubernamentales\", \"Ferreterias y Hogar\", \"Restaurantes\", \"Servicios de Transporte y Viajes\", \"Servicios Educativos\", \"Otros Servicios\", \"Instituciones Financieras y Aseguradoras\", \"Licores\", \"Musica\", \"Ventas y Servicios de Equipos Electricos\", \"Hoteles Moteles Resorts\", \"Vida Nocturna\", \"Tecnologia y Software\", \"Cine y Peliculas\", \"Articulos de Oficina\", \"Servicios Agropecuarios\", \"Servicio Personales (Deliveries, etc.)\", \"Servicios de Construccion y Decoracion\", \"Servicios de Textiles e Imprenta\"], \"y\": [34933.0, 21401.8, 12001.8, 11803.2, 11250.8, 9901.6, 6574.4, 6026.6, 5742.4, 4943.8, 2919.6, 1919.8, 1645.8, 1367.2, 1214.6, 1102.0, 977.4, 948.2, 820.2, 660.0, 465.2, 320.6, 211.6, 148.2, 92.8, 56.6], \"type\": \"bar\", \"uid\": \"57e08e2c-0673-4350-8742-d2773b3a89e1\"}], {\"autosize\": true, \"title\": {\"text\": \"Promedio de Preferencias de Clientes por Categoria\"}, \"xaxis\": {\"showticklabels\": true, \"title\": {\"font\": {\"color\": \"#14A751\", \"family\": \"Myriad\", \"size\": 20}, \"text\": \"Categoria_Agrupada\"}}, \"yaxis\": {\"title\": {\"font\": {\"color\": \"#14A751\", \"family\": \"Myriad\", \"size\": 20}, \"text\": \"Promedio\"}}}, {\"showLink\": false, \"linkText\": \"Export to plot.ly\", \"plotlyServerURL\": \"https://plot.ly\"})});</script><script type=\"text/javascript\">window.addEventListener(\"resize\", function(){window._Plotly.Plots.resize(document.getElementById(\"9525fd29-e394-48a1-ba87-645c2bda2385\"));});</script>"
      ],
      "text/vnd.plotly.v1+html": [
       "<div id=\"9525fd29-e394-48a1-ba87-645c2bda2385\" style=\"height: 525px; width: 100%;\" class=\"plotly-graph-div\"></div><script type=\"text/javascript\">require([\"plotly\"], function(Plotly) { window.PLOTLYENV=window.PLOTLYENV || {};window.PLOTLYENV.BASE_URL=\"https://plot.ly\";Plotly.newPlot(\"9525fd29-e394-48a1-ba87-645c2bda2385\", [{\"marker\": {\"color\": \"#1D62AE\", \"line\": {\"color\": \"#14A751\", \"width\": 1}}, \"x\": [\"Supermercados y Alimentos\", \"Gasolineras y Vehiculos\", \"Tienda De Venta Especializada\", \"Servicios de Salud, Belleza y Recreacion\", \"Servicios de Comunicacion, Internet y Telecable\", \"Ropas\", \"Comida Rapida\", \"Servicios Gubernamentales\", \"Ferreterias y Hogar\", \"Restaurantes\", \"Servicios de Transporte y Viajes\", \"Servicios Educativos\", \"Otros Servicios\", \"Instituciones Financieras y Aseguradoras\", \"Licores\", \"Musica\", \"Ventas y Servicios de Equipos Electricos\", \"Hoteles Moteles Resorts\", \"Vida Nocturna\", \"Tecnologia y Software\", \"Cine y Peliculas\", \"Articulos de Oficina\", \"Servicios Agropecuarios\", \"Servicio Personales (Deliveries, etc.)\", \"Servicios de Construccion y Decoracion\", \"Servicios de Textiles e Imprenta\"], \"y\": [34933.0, 21401.8, 12001.8, 11803.2, 11250.8, 9901.6, 6574.4, 6026.6, 5742.4, 4943.8, 2919.6, 1919.8, 1645.8, 1367.2, 1214.6, 1102.0, 977.4, 948.2, 820.2, 660.0, 465.2, 320.6, 211.6, 148.2, 92.8, 56.6], \"type\": \"bar\", \"uid\": \"57e08e2c-0673-4350-8742-d2773b3a89e1\"}], {\"autosize\": true, \"title\": {\"text\": \"Promedio de Preferencias de Clientes por Categoria\"}, \"xaxis\": {\"showticklabels\": true, \"title\": {\"font\": {\"color\": \"#14A751\", \"family\": \"Myriad\", \"size\": 20}, \"text\": \"Categoria_Agrupada\"}}, \"yaxis\": {\"title\": {\"font\": {\"color\": \"#14A751\", \"family\": \"Myriad\", \"size\": 20}, \"text\": \"Promedio\"}}}, {\"showLink\": false, \"linkText\": \"Export to plot.ly\", \"plotlyServerURL\": \"https://plot.ly\"})});</script><script type=\"text/javascript\">window.addEventListener(\"resize\", function(){window._Plotly.Plots.resize(document.getElementById(\"9525fd29-e394-48a1-ba87-645c2bda2385\"));});</script>"
      ]
     },
     "metadata": {},
     "output_type": "display_data"
    }
   ],
   "source": [
    "bar_plotly(dataframe=categoria_value_counts,dim=\"Categoria_Agrupada\",value=\"Promedio\"\n",
    "           ,title=\"Promedio de Preferencias de Clientes por Categoria\",show_text=True)"
   ]
  },
  {
   "cell_type": "markdown",
   "metadata": {
    "slideshow": {
     "slide_type": "subslide"
    }
   },
   "source": [
    "Las categorias más populares son **Supermercados y Alimentos** y **Gasolineras y Vehiculos**. Estas categorias engloban necesidades del día a día de casi todo el mundo. Otra categorias populares son **Tienda De Venta Especializada** que captura las compras en línea como en Amazon y **Servicios de Salud, Belleza y Recreación** que incluye servicios de salud como clinicas, gimnasios, salones de belleza y más. Veamos estos promedios por tipo de tarjeta:"
   ]
  },
  {
   "cell_type": "code",
   "execution_count": 51,
   "metadata": {
    "slideshow": {
     "slide_type": "skip"
    }
   },
   "outputs": [],
   "source": [
    "def bar_plotly_categoria_tipo_tarjeta(value_counts_df,tipo_tarjeta,plot_col,plot_title):\n",
    "    count_tarjeta = value_counts_df.loc[value_counts_df.DESCRI_PRODUCTO == tipo_tarjeta]\n",
    "    bar_plotly(dataframe=count_tarjeta,dim=\"Categoria_Agrupada\",value=plot_col\n",
    "           ,title=plot_title,show_text=True)"
   ]
  },
  {
   "cell_type": "code",
   "execution_count": 52,
   "metadata": {
    "slideshow": {
     "slide_type": "subslide"
    }
   },
   "outputs": [
    {
     "data": {
      "application/vnd.plotly.v1+json": {
       "config": {
        "linkText": "Export to plot.ly",
        "plotlyServerURL": "https://plot.ly",
        "showLink": false
       },
       "data": [
        {
         "marker": {
          "color": "#1D62AE",
          "line": {
           "color": "#14A751",
           "width": 1
          }
         },
         "type": "bar",
         "uid": "aebbb34e-c180-4bb7-a156-99d70d329dd8",
         "x": [
          "Supermercados y Alimentos",
          "Gasolineras y Vehiculos",
          "Tienda De Venta Especializada",
          "Servicios de Comunicacion, Internet y Telecable",
          "Servicios de Salud, Belleza y Recreacion",
          "Ropas",
          "Comida Rapida",
          "Servicios Gubernamentales",
          "Ferreterias y Hogar",
          "Restaurantes",
          "Servicios Educativos",
          "Servicios de Transporte y Viajes",
          "Otros Servicios",
          "Licores",
          "Musica",
          "Instituciones Financieras y Aseguradoras",
          "Ventas y Servicios de Equipos Electricos",
          "Vida Nocturna",
          "Hoteles Moteles Resorts",
          "Tecnologia y Software",
          "Cine y Peliculas",
          "Articulos de Oficina",
          "Servicios Agropecuarios",
          "Servicio Personales (Deliveries, etc.)",
          "Servicios de Construccion y Decoracion",
          "Servicios de Textiles e Imprenta"
         ],
         "y": [
          21644,
          13378,
          7353,
          7339,
          6848,
          5691,
          4016,
          3904,
          3068,
          2290,
          1046,
          1029,
          879,
          701,
          628,
          623,
          499,
          479,
          380,
          357,
          313,
          144,
          117,
          84,
          43,
          30
         ]
        }
       ],
       "layout": {
        "autosize": true,
        "title": {
         "text": "Promedio de Preferencia por Categoria, Visa Clasica"
        },
        "xaxis": {
         "showticklabels": true,
         "title": {
          "font": {
           "color": "#14A751",
           "family": "Myriad",
           "size": 20
          },
          "text": "Categoria_Agrupada"
         }
        },
        "yaxis": {
         "title": {
          "font": {
           "color": "#14A751",
           "family": "Myriad",
           "size": 20
          },
          "text": "Promedio"
         }
        }
       }
      },
      "text/html": [
       "<div id=\"d8ef1cff-60ee-4f84-9cb1-f73d8178e662\" style=\"height: 525px; width: 100%;\" class=\"plotly-graph-div\"></div><script type=\"text/javascript\">require([\"plotly\"], function(Plotly) { window.PLOTLYENV=window.PLOTLYENV || {};window.PLOTLYENV.BASE_URL=\"https://plot.ly\";Plotly.newPlot(\"d8ef1cff-60ee-4f84-9cb1-f73d8178e662\", [{\"marker\": {\"color\": \"#1D62AE\", \"line\": {\"color\": \"#14A751\", \"width\": 1}}, \"x\": [\"Supermercados y Alimentos\", \"Gasolineras y Vehiculos\", \"Tienda De Venta Especializada\", \"Servicios de Comunicacion, Internet y Telecable\", \"Servicios de Salud, Belleza y Recreacion\", \"Ropas\", \"Comida Rapida\", \"Servicios Gubernamentales\", \"Ferreterias y Hogar\", \"Restaurantes\", \"Servicios Educativos\", \"Servicios de Transporte y Viajes\", \"Otros Servicios\", \"Licores\", \"Musica\", \"Instituciones Financieras y Aseguradoras\", \"Ventas y Servicios de Equipos Electricos\", \"Vida Nocturna\", \"Hoteles Moteles Resorts\", \"Tecnologia y Software\", \"Cine y Peliculas\", \"Articulos de Oficina\", \"Servicios Agropecuarios\", \"Servicio Personales (Deliveries, etc.)\", \"Servicios de Construccion y Decoracion\", \"Servicios de Textiles e Imprenta\"], \"y\": [21644, 13378, 7353, 7339, 6848, 5691, 4016, 3904, 3068, 2290, 1046, 1029, 879, 701, 628, 623, 499, 479, 380, 357, 313, 144, 117, 84, 43, 30], \"type\": \"bar\", \"uid\": \"aebbb34e-c180-4bb7-a156-99d70d329dd8\"}], {\"autosize\": true, \"title\": {\"text\": \"Promedio de Preferencia por Categoria, Visa Clasica\"}, \"xaxis\": {\"showticklabels\": true, \"title\": {\"font\": {\"color\": \"#14A751\", \"family\": \"Myriad\", \"size\": 20}, \"text\": \"Categoria_Agrupada\"}}, \"yaxis\": {\"title\": {\"font\": {\"color\": \"#14A751\", \"family\": \"Myriad\", \"size\": 20}, \"text\": \"Promedio\"}}}, {\"showLink\": false, \"linkText\": \"Export to plot.ly\", \"plotlyServerURL\": \"https://plot.ly\"})});</script><script type=\"text/javascript\">window.addEventListener(\"resize\", function(){window._Plotly.Plots.resize(document.getElementById(\"d8ef1cff-60ee-4f84-9cb1-f73d8178e662\"));});</script>"
      ],
      "text/vnd.plotly.v1+html": [
       "<div id=\"d8ef1cff-60ee-4f84-9cb1-f73d8178e662\" style=\"height: 525px; width: 100%;\" class=\"plotly-graph-div\"></div><script type=\"text/javascript\">require([\"plotly\"], function(Plotly) { window.PLOTLYENV=window.PLOTLYENV || {};window.PLOTLYENV.BASE_URL=\"https://plot.ly\";Plotly.newPlot(\"d8ef1cff-60ee-4f84-9cb1-f73d8178e662\", [{\"marker\": {\"color\": \"#1D62AE\", \"line\": {\"color\": \"#14A751\", \"width\": 1}}, \"x\": [\"Supermercados y Alimentos\", \"Gasolineras y Vehiculos\", \"Tienda De Venta Especializada\", \"Servicios de Comunicacion, Internet y Telecable\", \"Servicios de Salud, Belleza y Recreacion\", \"Ropas\", \"Comida Rapida\", \"Servicios Gubernamentales\", \"Ferreterias y Hogar\", \"Restaurantes\", \"Servicios Educativos\", \"Servicios de Transporte y Viajes\", \"Otros Servicios\", \"Licores\", \"Musica\", \"Instituciones Financieras y Aseguradoras\", \"Ventas y Servicios de Equipos Electricos\", \"Vida Nocturna\", \"Hoteles Moteles Resorts\", \"Tecnologia y Software\", \"Cine y Peliculas\", \"Articulos de Oficina\", \"Servicios Agropecuarios\", \"Servicio Personales (Deliveries, etc.)\", \"Servicios de Construccion y Decoracion\", \"Servicios de Textiles e Imprenta\"], \"y\": [21644, 13378, 7353, 7339, 6848, 5691, 4016, 3904, 3068, 2290, 1046, 1029, 879, 701, 628, 623, 499, 479, 380, 357, 313, 144, 117, 84, 43, 30], \"type\": \"bar\", \"uid\": \"aebbb34e-c180-4bb7-a156-99d70d329dd8\"}], {\"autosize\": true, \"title\": {\"text\": \"Promedio de Preferencia por Categoria, Visa Clasica\"}, \"xaxis\": {\"showticklabels\": true, \"title\": {\"font\": {\"color\": \"#14A751\", \"family\": \"Myriad\", \"size\": 20}, \"text\": \"Categoria_Agrupada\"}}, \"yaxis\": {\"title\": {\"font\": {\"color\": \"#14A751\", \"family\": \"Myriad\", \"size\": 20}, \"text\": \"Promedio\"}}}, {\"showLink\": false, \"linkText\": \"Export to plot.ly\", \"plotlyServerURL\": \"https://plot.ly\"})});</script><script type=\"text/javascript\">window.addEventListener(\"resize\", function(){window._Plotly.Plots.resize(document.getElementById(\"d8ef1cff-60ee-4f84-9cb1-f73d8178e662\"));});</script>"
      ]
     },
     "metadata": {},
     "output_type": "display_data"
    }
   ],
   "source": [
    "bar_plotly_categoria_tipo_tarjeta(value_counts_df,\"VISA CLASICA\",\"Promedio\"\n",
    "                                  ,\"Promedio de Preferencia por Categoria, Visa Clasica\")"
   ]
  },
  {
   "cell_type": "code",
   "execution_count": 53,
   "metadata": {
    "slideshow": {
     "slide_type": "subslide"
    }
   },
   "outputs": [
    {
     "data": {
      "application/vnd.plotly.v1+json": {
       "config": {
        "linkText": "Export to plot.ly",
        "plotlyServerURL": "https://plot.ly",
        "showLink": false
       },
       "data": [
        {
         "marker": {
          "color": "#1D62AE",
          "line": {
           "color": "#14A751",
           "width": 1
          }
         },
         "type": "bar",
         "uid": "cf1d2daa-1859-4cc5-bc3a-5b8bea9cd215",
         "x": [
          "Supermercados y Alimentos",
          "Gasolineras y Vehiculos",
          "Tienda De Venta Especializada",
          "Servicios de Salud, Belleza y Recreacion",
          "Servicios de Comunicacion, Internet y Telecable",
          "Ropas",
          "Ferreterias y Hogar",
          "Comida Rapida",
          "Servicios Gubernamentales",
          "Restaurantes",
          "Servicios de Transporte y Viajes",
          "Servicios Educativos",
          "Otros Servicios",
          "Instituciones Financieras y Aseguradoras",
          "Musica",
          "Hoteles Moteles Resorts",
          "Licores",
          "Ventas y Servicios de Equipos Electricos",
          "Vida Nocturna",
          "Tecnologia y Software",
          "Articulos de Oficina",
          "Cine y Peliculas",
          "Servicios Agropecuarios",
          "Servicio Personales (Deliveries, etc.)",
          "Servicios de Construccion y Decoracion",
          "Servicios de Textiles e Imprenta"
         ],
         "y": [
          5708,
          3601,
          2094,
          2082,
          1817,
          1769,
          1046,
          1010,
          950,
          870,
          764,
          311,
          280,
          280,
          187,
          184,
          179,
          171,
          140,
          107,
          51,
          45,
          45,
          22,
          14,
          13
         ]
        }
       ],
       "layout": {
        "autosize": true,
        "title": {
         "text": "Promedio de Preferencia por Categoria, Visa Oro"
        },
        "xaxis": {
         "showticklabels": true,
         "title": {
          "font": {
           "color": "#14A751",
           "family": "Myriad",
           "size": 20
          },
          "text": "Categoria_Agrupada"
         }
        },
        "yaxis": {
         "title": {
          "font": {
           "color": "#14A751",
           "family": "Myriad",
           "size": 20
          },
          "text": "Promedio"
         }
        }
       }
      },
      "text/html": [
       "<div id=\"91f23135-96f7-450a-9f3b-9b75a9f1d63d\" style=\"height: 525px; width: 100%;\" class=\"plotly-graph-div\"></div><script type=\"text/javascript\">require([\"plotly\"], function(Plotly) { window.PLOTLYENV=window.PLOTLYENV || {};window.PLOTLYENV.BASE_URL=\"https://plot.ly\";Plotly.newPlot(\"91f23135-96f7-450a-9f3b-9b75a9f1d63d\", [{\"marker\": {\"color\": \"#1D62AE\", \"line\": {\"color\": \"#14A751\", \"width\": 1}}, \"x\": [\"Supermercados y Alimentos\", \"Gasolineras y Vehiculos\", \"Tienda De Venta Especializada\", \"Servicios de Salud, Belleza y Recreacion\", \"Servicios de Comunicacion, Internet y Telecable\", \"Ropas\", \"Ferreterias y Hogar\", \"Comida Rapida\", \"Servicios Gubernamentales\", \"Restaurantes\", \"Servicios de Transporte y Viajes\", \"Servicios Educativos\", \"Otros Servicios\", \"Instituciones Financieras y Aseguradoras\", \"Musica\", \"Hoteles Moteles Resorts\", \"Licores\", \"Ventas y Servicios de Equipos Electricos\", \"Vida Nocturna\", \"Tecnologia y Software\", \"Articulos de Oficina\", \"Cine y Peliculas\", \"Servicios Agropecuarios\", \"Servicio Personales (Deliveries, etc.)\", \"Servicios de Construccion y Decoracion\", \"Servicios de Textiles e Imprenta\"], \"y\": [5708, 3601, 2094, 2082, 1817, 1769, 1046, 1010, 950, 870, 764, 311, 280, 280, 187, 184, 179, 171, 140, 107, 51, 45, 45, 22, 14, 13], \"type\": \"bar\", \"uid\": \"cf1d2daa-1859-4cc5-bc3a-5b8bea9cd215\"}], {\"autosize\": true, \"title\": {\"text\": \"Promedio de Preferencia por Categoria, Visa Oro\"}, \"xaxis\": {\"showticklabels\": true, \"title\": {\"font\": {\"color\": \"#14A751\", \"family\": \"Myriad\", \"size\": 20}, \"text\": \"Categoria_Agrupada\"}}, \"yaxis\": {\"title\": {\"font\": {\"color\": \"#14A751\", \"family\": \"Myriad\", \"size\": 20}, \"text\": \"Promedio\"}}}, {\"showLink\": false, \"linkText\": \"Export to plot.ly\", \"plotlyServerURL\": \"https://plot.ly\"})});</script><script type=\"text/javascript\">window.addEventListener(\"resize\", function(){window._Plotly.Plots.resize(document.getElementById(\"91f23135-96f7-450a-9f3b-9b75a9f1d63d\"));});</script>"
      ],
      "text/vnd.plotly.v1+html": [
       "<div id=\"91f23135-96f7-450a-9f3b-9b75a9f1d63d\" style=\"height: 525px; width: 100%;\" class=\"plotly-graph-div\"></div><script type=\"text/javascript\">require([\"plotly\"], function(Plotly) { window.PLOTLYENV=window.PLOTLYENV || {};window.PLOTLYENV.BASE_URL=\"https://plot.ly\";Plotly.newPlot(\"91f23135-96f7-450a-9f3b-9b75a9f1d63d\", [{\"marker\": {\"color\": \"#1D62AE\", \"line\": {\"color\": \"#14A751\", \"width\": 1}}, \"x\": [\"Supermercados y Alimentos\", \"Gasolineras y Vehiculos\", \"Tienda De Venta Especializada\", \"Servicios de Salud, Belleza y Recreacion\", \"Servicios de Comunicacion, Internet y Telecable\", \"Ropas\", \"Ferreterias y Hogar\", \"Comida Rapida\", \"Servicios Gubernamentales\", \"Restaurantes\", \"Servicios de Transporte y Viajes\", \"Servicios Educativos\", \"Otros Servicios\", \"Instituciones Financieras y Aseguradoras\", \"Musica\", \"Hoteles Moteles Resorts\", \"Licores\", \"Ventas y Servicios de Equipos Electricos\", \"Vida Nocturna\", \"Tecnologia y Software\", \"Articulos de Oficina\", \"Cine y Peliculas\", \"Servicios Agropecuarios\", \"Servicio Personales (Deliveries, etc.)\", \"Servicios de Construccion y Decoracion\", \"Servicios de Textiles e Imprenta\"], \"y\": [5708, 3601, 2094, 2082, 1817, 1769, 1046, 1010, 950, 870, 764, 311, 280, 280, 187, 184, 179, 171, 140, 107, 51, 45, 45, 22, 14, 13], \"type\": \"bar\", \"uid\": \"cf1d2daa-1859-4cc5-bc3a-5b8bea9cd215\"}], {\"autosize\": true, \"title\": {\"text\": \"Promedio de Preferencia por Categoria, Visa Oro\"}, \"xaxis\": {\"showticklabels\": true, \"title\": {\"font\": {\"color\": \"#14A751\", \"family\": \"Myriad\", \"size\": 20}, \"text\": \"Categoria_Agrupada\"}}, \"yaxis\": {\"title\": {\"font\": {\"color\": \"#14A751\", \"family\": \"Myriad\", \"size\": 20}, \"text\": \"Promedio\"}}}, {\"showLink\": false, \"linkText\": \"Export to plot.ly\", \"plotlyServerURL\": \"https://plot.ly\"})});</script><script type=\"text/javascript\">window.addEventListener(\"resize\", function(){window._Plotly.Plots.resize(document.getElementById(\"91f23135-96f7-450a-9f3b-9b75a9f1d63d\"));});</script>"
      ]
     },
     "metadata": {},
     "output_type": "display_data"
    }
   ],
   "source": [
    "bar_plotly_categoria_tipo_tarjeta(value_counts_df,\"VISA ORO\",\"Promedio\"\n",
    "                                  ,\"Promedio de Preferencia por Categoria, Visa Oro\")"
   ]
  },
  {
   "cell_type": "code",
   "execution_count": 54,
   "metadata": {
    "slideshow": {
     "slide_type": "subslide"
    }
   },
   "outputs": [
    {
     "data": {
      "application/vnd.plotly.v1+json": {
       "config": {
        "linkText": "Export to plot.ly",
        "plotlyServerURL": "https://plot.ly",
        "showLink": false
       },
       "data": [
        {
         "marker": {
          "color": "#1D62AE",
          "line": {
           "color": "#14A751",
           "width": 1
          }
         },
         "type": "bar",
         "uid": "4c7ea345-83e8-42bb-93b6-59bd2499d21a",
         "x": [
          "Supermercados y Alimentos",
          "Gasolineras y Vehiculos",
          "Servicios de Salud, Belleza y Recreacion",
          "Tienda De Venta Especializada",
          "Ropas",
          "Servicios de Comunicacion, Internet y Telecable",
          "Restaurantes",
          "Ferreterias y Hogar",
          "Servicios de Transporte y Viajes",
          "Comida Rapida",
          "Servicios Gubernamentales",
          "Instituciones Financieras y Aseguradoras",
          "Servicios Educativos",
          "Otros Servicios",
          "Hoteles Moteles Resorts",
          "Licores",
          "Ventas y Servicios de Equipos Electricos",
          "Musica",
          "Tecnologia y Software",
          "Vida Nocturna",
          "Articulos de Oficina",
          "Cine y Peliculas",
          "Servicio Personales (Deliveries, etc.)",
          "Servicios Agropecuarios",
          "Servicios de Construccion y Decoracion",
          "Servicios de Textiles e Imprenta"
         ],
         "y": [
          3967,
          2325,
          1647,
          1524,
          1332,
          1174,
          984,
          859,
          719,
          704,
          682,
          293,
          283,
          257,
          211,
          149,
          149,
          146,
          87,
          81,
          68,
          33,
          22,
          21,
          18,
          6
         ]
        }
       ],
       "layout": {
        "autosize": true,
        "title": {
         "text": "Promedio de Preferencia por Categoria, Visa Platino"
        },
        "xaxis": {
         "showticklabels": true,
         "title": {
          "font": {
           "color": "#14A751",
           "family": "Myriad",
           "size": 20
          },
          "text": "Categoria_Agrupada"
         }
        },
        "yaxis": {
         "title": {
          "font": {
           "color": "#14A751",
           "family": "Myriad",
           "size": 20
          },
          "text": "Promedio"
         }
        }
       }
      },
      "text/html": [
       "<div id=\"3a76690f-6692-482c-ad81-e9c6e65426b2\" style=\"height: 525px; width: 100%;\" class=\"plotly-graph-div\"></div><script type=\"text/javascript\">require([\"plotly\"], function(Plotly) { window.PLOTLYENV=window.PLOTLYENV || {};window.PLOTLYENV.BASE_URL=\"https://plot.ly\";Plotly.newPlot(\"3a76690f-6692-482c-ad81-e9c6e65426b2\", [{\"marker\": {\"color\": \"#1D62AE\", \"line\": {\"color\": \"#14A751\", \"width\": 1}}, \"x\": [\"Supermercados y Alimentos\", \"Gasolineras y Vehiculos\", \"Servicios de Salud, Belleza y Recreacion\", \"Tienda De Venta Especializada\", \"Ropas\", \"Servicios de Comunicacion, Internet y Telecable\", \"Restaurantes\", \"Ferreterias y Hogar\", \"Servicios de Transporte y Viajes\", \"Comida Rapida\", \"Servicios Gubernamentales\", \"Instituciones Financieras y Aseguradoras\", \"Servicios Educativos\", \"Otros Servicios\", \"Hoteles Moteles Resorts\", \"Licores\", \"Ventas y Servicios de Equipos Electricos\", \"Musica\", \"Tecnologia y Software\", \"Vida Nocturna\", \"Articulos de Oficina\", \"Cine y Peliculas\", \"Servicio Personales (Deliveries, etc.)\", \"Servicios Agropecuarios\", \"Servicios de Construccion y Decoracion\", \"Servicios de Textiles e Imprenta\"], \"y\": [3967, 2325, 1647, 1524, 1332, 1174, 984, 859, 719, 704, 682, 293, 283, 257, 211, 149, 149, 146, 87, 81, 68, 33, 22, 21, 18, 6], \"type\": \"bar\", \"uid\": \"4c7ea345-83e8-42bb-93b6-59bd2499d21a\"}], {\"autosize\": true, \"title\": {\"text\": \"Promedio de Preferencia por Categoria, Visa Platino\"}, \"xaxis\": {\"showticklabels\": true, \"title\": {\"font\": {\"color\": \"#14A751\", \"family\": \"Myriad\", \"size\": 20}, \"text\": \"Categoria_Agrupada\"}}, \"yaxis\": {\"title\": {\"font\": {\"color\": \"#14A751\", \"family\": \"Myriad\", \"size\": 20}, \"text\": \"Promedio\"}}}, {\"showLink\": false, \"linkText\": \"Export to plot.ly\", \"plotlyServerURL\": \"https://plot.ly\"})});</script><script type=\"text/javascript\">window.addEventListener(\"resize\", function(){window._Plotly.Plots.resize(document.getElementById(\"3a76690f-6692-482c-ad81-e9c6e65426b2\"));});</script>"
      ],
      "text/vnd.plotly.v1+html": [
       "<div id=\"3a76690f-6692-482c-ad81-e9c6e65426b2\" style=\"height: 525px; width: 100%;\" class=\"plotly-graph-div\"></div><script type=\"text/javascript\">require([\"plotly\"], function(Plotly) { window.PLOTLYENV=window.PLOTLYENV || {};window.PLOTLYENV.BASE_URL=\"https://plot.ly\";Plotly.newPlot(\"3a76690f-6692-482c-ad81-e9c6e65426b2\", [{\"marker\": {\"color\": \"#1D62AE\", \"line\": {\"color\": \"#14A751\", \"width\": 1}}, \"x\": [\"Supermercados y Alimentos\", \"Gasolineras y Vehiculos\", \"Servicios de Salud, Belleza y Recreacion\", \"Tienda De Venta Especializada\", \"Ropas\", \"Servicios de Comunicacion, Internet y Telecable\", \"Restaurantes\", \"Ferreterias y Hogar\", \"Servicios de Transporte y Viajes\", \"Comida Rapida\", \"Servicios Gubernamentales\", \"Instituciones Financieras y Aseguradoras\", \"Servicios Educativos\", \"Otros Servicios\", \"Hoteles Moteles Resorts\", \"Licores\", \"Ventas y Servicios de Equipos Electricos\", \"Musica\", \"Tecnologia y Software\", \"Vida Nocturna\", \"Articulos de Oficina\", \"Cine y Peliculas\", \"Servicio Personales (Deliveries, etc.)\", \"Servicios Agropecuarios\", \"Servicios de Construccion y Decoracion\", \"Servicios de Textiles e Imprenta\"], \"y\": [3967, 2325, 1647, 1524, 1332, 1174, 984, 859, 719, 704, 682, 293, 283, 257, 211, 149, 149, 146, 87, 81, 68, 33, 22, 21, 18, 6], \"type\": \"bar\", \"uid\": \"4c7ea345-83e8-42bb-93b6-59bd2499d21a\"}], {\"autosize\": true, \"title\": {\"text\": \"Promedio de Preferencia por Categoria, Visa Platino\"}, \"xaxis\": {\"showticklabels\": true, \"title\": {\"font\": {\"color\": \"#14A751\", \"family\": \"Myriad\", \"size\": 20}, \"text\": \"Categoria_Agrupada\"}}, \"yaxis\": {\"title\": {\"font\": {\"color\": \"#14A751\", \"family\": \"Myriad\", \"size\": 20}, \"text\": \"Promedio\"}}}, {\"showLink\": false, \"linkText\": \"Export to plot.ly\", \"plotlyServerURL\": \"https://plot.ly\"})});</script><script type=\"text/javascript\">window.addEventListener(\"resize\", function(){window._Plotly.Plots.resize(document.getElementById(\"3a76690f-6692-482c-ad81-e9c6e65426b2\"));});</script>"
      ]
     },
     "metadata": {},
     "output_type": "display_data"
    }
   ],
   "source": [
    "bar_plotly_categoria_tipo_tarjeta(value_counts_df,\"VISA PLATINO\",\"Promedio\"\n",
    "                                  ,\"Promedio de Preferencia por Categoria, Visa Platino\")"
   ]
  },
  {
   "cell_type": "code",
   "execution_count": 55,
   "metadata": {
    "slideshow": {
     "slide_type": "subslide"
    }
   },
   "outputs": [
    {
     "data": {
      "application/vnd.plotly.v1+json": {
       "config": {
        "linkText": "Export to plot.ly",
        "plotlyServerURL": "https://plot.ly",
        "showLink": false
       },
       "data": [
        {
         "marker": {
          "color": "#1D62AE",
          "line": {
           "color": "#14A751",
           "width": 1
          }
         },
         "type": "bar",
         "uid": "7e2ff4a4-eadf-4887-a1a9-322bfd6a7faf",
         "x": [
          "Supermercados y Alimentos",
          "Restaurantes",
          "Gasolineras y Vehiculos",
          "Servicios de Salud, Belleza y Recreacion",
          "Ropas",
          "Tienda De Venta Especializada",
          "Servicios de Transporte y Viajes",
          "Ferreterias y Hogar",
          "Servicios de Comunicacion, Internet y Telecable",
          "Comida Rapida",
          "Servicios Gubernamentales",
          "Hoteles Moteles Resorts",
          "Otros Servicios",
          "Instituciones Financieras y Aseguradoras",
          "Servicios Educativos",
          "Licores",
          "Ventas y Servicios de Equipos Electricos",
          "Musica",
          "Articulos de Oficina",
          "Vida Nocturna",
          "Tecnologia y Software",
          "Cine y Peliculas",
          "Servicio Personales (Deliveries, etc.)",
          "Servicios de Construccion y Decoracion",
          "Servicios Agropecuarios",
          "Servicios de Textiles e Imprenta"
         ],
         "y": [
          688,
          392,
          375,
          346,
          337,
          290,
          235,
          169,
          127,
          122,
          87,
          79,
          64,
          61,
          51,
          47,
          46,
          40,
          23,
          21,
          20,
          8,
          8,
          4,
          4,
          1
         ]
        }
       ],
       "layout": {
        "autosize": true,
        "title": {
         "text": "Promedio de Preferencia por Categoria, Visa Infinite"
        },
        "xaxis": {
         "showticklabels": true,
         "title": {
          "font": {
           "color": "#14A751",
           "family": "Myriad",
           "size": 20
          },
          "text": "Categoria_Agrupada"
         }
        },
        "yaxis": {
         "title": {
          "font": {
           "color": "#14A751",
           "family": "Myriad",
           "size": 20
          },
          "text": "Promedio"
         }
        }
       }
      },
      "text/html": [
       "<div id=\"4b922593-3a95-4b96-9379-c58765d956dc\" style=\"height: 525px; width: 100%;\" class=\"plotly-graph-div\"></div><script type=\"text/javascript\">require([\"plotly\"], function(Plotly) { window.PLOTLYENV=window.PLOTLYENV || {};window.PLOTLYENV.BASE_URL=\"https://plot.ly\";Plotly.newPlot(\"4b922593-3a95-4b96-9379-c58765d956dc\", [{\"marker\": {\"color\": \"#1D62AE\", \"line\": {\"color\": \"#14A751\", \"width\": 1}}, \"x\": [\"Supermercados y Alimentos\", \"Restaurantes\", \"Gasolineras y Vehiculos\", \"Servicios de Salud, Belleza y Recreacion\", \"Ropas\", \"Tienda De Venta Especializada\", \"Servicios de Transporte y Viajes\", \"Ferreterias y Hogar\", \"Servicios de Comunicacion, Internet y Telecable\", \"Comida Rapida\", \"Servicios Gubernamentales\", \"Hoteles Moteles Resorts\", \"Otros Servicios\", \"Instituciones Financieras y Aseguradoras\", \"Servicios Educativos\", \"Licores\", \"Ventas y Servicios de Equipos Electricos\", \"Musica\", \"Articulos de Oficina\", \"Vida Nocturna\", \"Tecnologia y Software\", \"Cine y Peliculas\", \"Servicio Personales (Deliveries, etc.)\", \"Servicios de Construccion y Decoracion\", \"Servicios Agropecuarios\", \"Servicios de Textiles e Imprenta\"], \"y\": [688, 392, 375, 346, 337, 290, 235, 169, 127, 122, 87, 79, 64, 61, 51, 47, 46, 40, 23, 21, 20, 8, 8, 4, 4, 1], \"type\": \"bar\", \"uid\": \"7e2ff4a4-eadf-4887-a1a9-322bfd6a7faf\"}], {\"autosize\": true, \"title\": {\"text\": \"Promedio de Preferencia por Categoria, Visa Infinite\"}, \"xaxis\": {\"showticklabels\": true, \"title\": {\"font\": {\"color\": \"#14A751\", \"family\": \"Myriad\", \"size\": 20}, \"text\": \"Categoria_Agrupada\"}}, \"yaxis\": {\"title\": {\"font\": {\"color\": \"#14A751\", \"family\": \"Myriad\", \"size\": 20}, \"text\": \"Promedio\"}}}, {\"showLink\": false, \"linkText\": \"Export to plot.ly\", \"plotlyServerURL\": \"https://plot.ly\"})});</script><script type=\"text/javascript\">window.addEventListener(\"resize\", function(){window._Plotly.Plots.resize(document.getElementById(\"4b922593-3a95-4b96-9379-c58765d956dc\"));});</script>"
      ],
      "text/vnd.plotly.v1+html": [
       "<div id=\"4b922593-3a95-4b96-9379-c58765d956dc\" style=\"height: 525px; width: 100%;\" class=\"plotly-graph-div\"></div><script type=\"text/javascript\">require([\"plotly\"], function(Plotly) { window.PLOTLYENV=window.PLOTLYENV || {};window.PLOTLYENV.BASE_URL=\"https://plot.ly\";Plotly.newPlot(\"4b922593-3a95-4b96-9379-c58765d956dc\", [{\"marker\": {\"color\": \"#1D62AE\", \"line\": {\"color\": \"#14A751\", \"width\": 1}}, \"x\": [\"Supermercados y Alimentos\", \"Restaurantes\", \"Gasolineras y Vehiculos\", \"Servicios de Salud, Belleza y Recreacion\", \"Ropas\", \"Tienda De Venta Especializada\", \"Servicios de Transporte y Viajes\", \"Ferreterias y Hogar\", \"Servicios de Comunicacion, Internet y Telecable\", \"Comida Rapida\", \"Servicios Gubernamentales\", \"Hoteles Moteles Resorts\", \"Otros Servicios\", \"Instituciones Financieras y Aseguradoras\", \"Servicios Educativos\", \"Licores\", \"Ventas y Servicios de Equipos Electricos\", \"Musica\", \"Articulos de Oficina\", \"Vida Nocturna\", \"Tecnologia y Software\", \"Cine y Peliculas\", \"Servicio Personales (Deliveries, etc.)\", \"Servicios de Construccion y Decoracion\", \"Servicios Agropecuarios\", \"Servicios de Textiles e Imprenta\"], \"y\": [688, 392, 375, 346, 337, 290, 235, 169, 127, 122, 87, 79, 64, 61, 51, 47, 46, 40, 23, 21, 20, 8, 8, 4, 4, 1], \"type\": \"bar\", \"uid\": \"7e2ff4a4-eadf-4887-a1a9-322bfd6a7faf\"}], {\"autosize\": true, \"title\": {\"text\": \"Promedio de Preferencia por Categoria, Visa Infinite\"}, \"xaxis\": {\"showticklabels\": true, \"title\": {\"font\": {\"color\": \"#14A751\", \"family\": \"Myriad\", \"size\": 20}, \"text\": \"Categoria_Agrupada\"}}, \"yaxis\": {\"title\": {\"font\": {\"color\": \"#14A751\", \"family\": \"Myriad\", \"size\": 20}, \"text\": \"Promedio\"}}}, {\"showLink\": false, \"linkText\": \"Export to plot.ly\", \"plotlyServerURL\": \"https://plot.ly\"})});</script><script type=\"text/javascript\">window.addEventListener(\"resize\", function(){window._Plotly.Plots.resize(document.getElementById(\"4b922593-3a95-4b96-9379-c58765d956dc\"));});</script>"
      ]
     },
     "metadata": {},
     "output_type": "display_data"
    }
   ],
   "source": [
    "bar_plotly_categoria_tipo_tarjeta(value_counts_df,\"VISA INFINITE\",\"Promedio\"\n",
    "                                  ,\"Promedio de Preferencia por Categoria, Visa Infinite\")"
   ]
  },
  {
   "cell_type": "code",
   "execution_count": 56,
   "metadata": {
    "slideshow": {
     "slide_type": "subslide"
    }
   },
   "outputs": [
    {
     "data": {
      "application/vnd.plotly.v1+json": {
       "config": {
        "linkText": "Export to plot.ly",
        "plotlyServerURL": "https://plot.ly",
        "showLink": false
       },
       "data": [
        {
         "marker": {
          "color": "#1D62AE",
          "line": {
           "color": "#14A751",
           "width": 1
          }
         },
         "type": "bar",
         "uid": "f40cf2e0-4afc-4552-83aa-6c6053944d4b",
         "x": [
          "Supermercados y Alimentos",
          "Gasolineras y Vehiculos",
          "Ferreterias y Hogar",
          "Restaurantes",
          "Tienda De Venta Especializada",
          "Servicios de Comunicacion, Internet y Telecable",
          "Servicios Gubernamentales",
          "Servicios de Transporte y Viajes",
          "Ropas",
          "Servicios de Salud, Belleza y Recreacion",
          "Ventas y Servicios de Equipos Electricos",
          "Instituciones Financieras y Aseguradoras",
          "Comida Rapida",
          "Otros Servicios",
          "Tecnologia y Software",
          "Hoteles Moteles Resorts",
          "Licores",
          "Musica",
          "Articulos de Oficina",
          "Servicios Educativos",
          "Servicios de Construccion y Decoracion",
          "Vida Nocturna",
          "Servicios de Textiles e Imprenta",
          "Servicio Personales (Deliveries, etc.)",
          "Cine y Peliculas",
          "Servicios Agropecuarios"
         ],
         "y": [
          186,
          164,
          89,
          80,
          80,
          75,
          66,
          45,
          42,
          40,
          35,
          30,
          29,
          23,
          18,
          17,
          13,
          11,
          9,
          5,
          4,
          3,
          3,
          2,
          1,
          1
         ]
        }
       ],
       "layout": {
        "autosize": true,
        "title": {
         "text": "Promedio de Preferencia por Categoria, Visa Empresarial"
        },
        "xaxis": {
         "showticklabels": true,
         "title": {
          "font": {
           "color": "#14A751",
           "family": "Myriad",
           "size": 20
          },
          "text": "Categoria_Agrupada"
         }
        },
        "yaxis": {
         "title": {
          "font": {
           "color": "#14A751",
           "family": "Myriad",
           "size": 20
          },
          "text": "Promedio"
         }
        }
       }
      },
      "text/html": [
       "<div id=\"973a1f53-3382-4bae-b412-707eaef06d3b\" style=\"height: 525px; width: 100%;\" class=\"plotly-graph-div\"></div><script type=\"text/javascript\">require([\"plotly\"], function(Plotly) { window.PLOTLYENV=window.PLOTLYENV || {};window.PLOTLYENV.BASE_URL=\"https://plot.ly\";Plotly.newPlot(\"973a1f53-3382-4bae-b412-707eaef06d3b\", [{\"marker\": {\"color\": \"#1D62AE\", \"line\": {\"color\": \"#14A751\", \"width\": 1}}, \"x\": [\"Supermercados y Alimentos\", \"Gasolineras y Vehiculos\", \"Ferreterias y Hogar\", \"Restaurantes\", \"Tienda De Venta Especializada\", \"Servicios de Comunicacion, Internet y Telecable\", \"Servicios Gubernamentales\", \"Servicios de Transporte y Viajes\", \"Ropas\", \"Servicios de Salud, Belleza y Recreacion\", \"Ventas y Servicios de Equipos Electricos\", \"Instituciones Financieras y Aseguradoras\", \"Comida Rapida\", \"Otros Servicios\", \"Tecnologia y Software\", \"Hoteles Moteles Resorts\", \"Licores\", \"Musica\", \"Articulos de Oficina\", \"Servicios Educativos\", \"Servicios de Construccion y Decoracion\", \"Vida Nocturna\", \"Servicios de Textiles e Imprenta\", \"Servicio Personales (Deliveries, etc.)\", \"Cine y Peliculas\", \"Servicios Agropecuarios\"], \"y\": [186, 164, 89, 80, 80, 75, 66, 45, 42, 40, 35, 30, 29, 23, 18, 17, 13, 11, 9, 5, 4, 3, 3, 2, 1, 1], \"type\": \"bar\", \"uid\": \"f40cf2e0-4afc-4552-83aa-6c6053944d4b\"}], {\"autosize\": true, \"title\": {\"text\": \"Promedio de Preferencia por Categoria, Visa Empresarial\"}, \"xaxis\": {\"showticklabels\": true, \"title\": {\"font\": {\"color\": \"#14A751\", \"family\": \"Myriad\", \"size\": 20}, \"text\": \"Categoria_Agrupada\"}}, \"yaxis\": {\"title\": {\"font\": {\"color\": \"#14A751\", \"family\": \"Myriad\", \"size\": 20}, \"text\": \"Promedio\"}}}, {\"showLink\": false, \"linkText\": \"Export to plot.ly\", \"plotlyServerURL\": \"https://plot.ly\"})});</script><script type=\"text/javascript\">window.addEventListener(\"resize\", function(){window._Plotly.Plots.resize(document.getElementById(\"973a1f53-3382-4bae-b412-707eaef06d3b\"));});</script>"
      ],
      "text/vnd.plotly.v1+html": [
       "<div id=\"973a1f53-3382-4bae-b412-707eaef06d3b\" style=\"height: 525px; width: 100%;\" class=\"plotly-graph-div\"></div><script type=\"text/javascript\">require([\"plotly\"], function(Plotly) { window.PLOTLYENV=window.PLOTLYENV || {};window.PLOTLYENV.BASE_URL=\"https://plot.ly\";Plotly.newPlot(\"973a1f53-3382-4bae-b412-707eaef06d3b\", [{\"marker\": {\"color\": \"#1D62AE\", \"line\": {\"color\": \"#14A751\", \"width\": 1}}, \"x\": [\"Supermercados y Alimentos\", \"Gasolineras y Vehiculos\", \"Ferreterias y Hogar\", \"Restaurantes\", \"Tienda De Venta Especializada\", \"Servicios de Comunicacion, Internet y Telecable\", \"Servicios Gubernamentales\", \"Servicios de Transporte y Viajes\", \"Ropas\", \"Servicios de Salud, Belleza y Recreacion\", \"Ventas y Servicios de Equipos Electricos\", \"Instituciones Financieras y Aseguradoras\", \"Comida Rapida\", \"Otros Servicios\", \"Tecnologia y Software\", \"Hoteles Moteles Resorts\", \"Licores\", \"Musica\", \"Articulos de Oficina\", \"Servicios Educativos\", \"Servicios de Construccion y Decoracion\", \"Vida Nocturna\", \"Servicios de Textiles e Imprenta\", \"Servicio Personales (Deliveries, etc.)\", \"Cine y Peliculas\", \"Servicios Agropecuarios\"], \"y\": [186, 164, 89, 80, 80, 75, 66, 45, 42, 40, 35, 30, 29, 23, 18, 17, 13, 11, 9, 5, 4, 3, 3, 2, 1, 1], \"type\": \"bar\", \"uid\": \"f40cf2e0-4afc-4552-83aa-6c6053944d4b\"}], {\"autosize\": true, \"title\": {\"text\": \"Promedio de Preferencia por Categoria, Visa Empresarial\"}, \"xaxis\": {\"showticklabels\": true, \"title\": {\"font\": {\"color\": \"#14A751\", \"family\": \"Myriad\", \"size\": 20}, \"text\": \"Categoria_Agrupada\"}}, \"yaxis\": {\"title\": {\"font\": {\"color\": \"#14A751\", \"family\": \"Myriad\", \"size\": 20}, \"text\": \"Promedio\"}}}, {\"showLink\": false, \"linkText\": \"Export to plot.ly\", \"plotlyServerURL\": \"https://plot.ly\"})});</script><script type=\"text/javascript\">window.addEventListener(\"resize\", function(){window._Plotly.Plots.resize(document.getElementById(\"973a1f53-3382-4bae-b412-707eaef06d3b\"));});</script>"
      ]
     },
     "metadata": {},
     "output_type": "display_data"
    }
   ],
   "source": [
    "bar_plotly_categoria_tipo_tarjeta(value_counts_df,\"VISA EMPRESARIAL\",\"Promedio\"\n",
    "                                  ,\"Promedio de Preferencia por Categoria, Visa Empresarial\")"
   ]
  },
  {
   "cell_type": "code",
   "execution_count": 57,
   "metadata": {
    "slideshow": {
     "slide_type": "subslide"
    }
   },
   "outputs": [
    {
     "data": {
      "application/vnd.plotly.v1+json": {
       "config": {
        "linkText": "Export to plot.ly",
        "plotlyServerURL": "https://plot.ly",
        "showLink": false
       },
       "data": [
        {
         "marker": {
          "color": "#1D62AE",
          "line": {
           "color": "#14A751",
           "width": 1
          }
         },
         "type": "bar",
         "uid": "17aa2881-2f16-4dcf-be63-9b69461cc146",
         "x": [
          "Supermercados y Alimentos",
          "Gasolineras y Vehiculos",
          "Comida Rapida",
          "Tienda De Venta Especializada",
          "Servicios de Salud, Belleza y Recreacion",
          "Ropas",
          "Servicios de Comunicacion, Internet y Telecable",
          "Restaurantes",
          "Servicios Gubernamentales",
          "Ferreterias y Hogar",
          "Servicios Educativos",
          "Otros Servicios",
          "Musica",
          "Licores",
          "Vida Nocturna",
          "Cine y Peliculas",
          "Servicios de Transporte y Viajes",
          "Hoteles Moteles Resorts",
          "Tecnologia y Software",
          "Ventas y Servicios de Equipos Electricos",
          "Articulos de Oficina",
          "Instituciones Financieras y Aseguradoras",
          "Servicio Personales (Deliveries, etc.)",
          "Servicios Agropecuarios"
         ],
         "y": [
          1031,
          640,
          420,
          359,
          347,
          322,
          312,
          160,
          113,
          101,
          81,
          61,
          60,
          55,
          54,
          44,
          42,
          26,
          22,
          14,
          10,
          9,
          4,
          3
         ]
        }
       ],
       "layout": {
        "autosize": true,
        "title": {
         "text": "Promedio de Preferencia por Categoria, Credito Joven"
        },
        "xaxis": {
         "showticklabels": true,
         "title": {
          "font": {
           "color": "#14A751",
           "family": "Myriad",
           "size": 20
          },
          "text": "Categoria_Agrupada"
         }
        },
        "yaxis": {
         "title": {
          "font": {
           "color": "#14A751",
           "family": "Myriad",
           "size": 20
          },
          "text": "Promedio"
         }
        }
       }
      },
      "text/html": [
       "<div id=\"5112c541-58f0-42c6-8bf9-c84a8d654ac5\" style=\"height: 525px; width: 100%;\" class=\"plotly-graph-div\"></div><script type=\"text/javascript\">require([\"plotly\"], function(Plotly) { window.PLOTLYENV=window.PLOTLYENV || {};window.PLOTLYENV.BASE_URL=\"https://plot.ly\";Plotly.newPlot(\"5112c541-58f0-42c6-8bf9-c84a8d654ac5\", [{\"marker\": {\"color\": \"#1D62AE\", \"line\": {\"color\": \"#14A751\", \"width\": 1}}, \"x\": [\"Supermercados y Alimentos\", \"Gasolineras y Vehiculos\", \"Comida Rapida\", \"Tienda De Venta Especializada\", \"Servicios de Salud, Belleza y Recreacion\", \"Ropas\", \"Servicios de Comunicacion, Internet y Telecable\", \"Restaurantes\", \"Servicios Gubernamentales\", \"Ferreterias y Hogar\", \"Servicios Educativos\", \"Otros Servicios\", \"Musica\", \"Licores\", \"Vida Nocturna\", \"Cine y Peliculas\", \"Servicios de Transporte y Viajes\", \"Hoteles Moteles Resorts\", \"Tecnologia y Software\", \"Ventas y Servicios de Equipos Electricos\", \"Articulos de Oficina\", \"Instituciones Financieras y Aseguradoras\", \"Servicio Personales (Deliveries, etc.)\", \"Servicios Agropecuarios\"], \"y\": [1031, 640, 420, 359, 347, 322, 312, 160, 113, 101, 81, 61, 60, 55, 54, 44, 42, 26, 22, 14, 10, 9, 4, 3], \"type\": \"bar\", \"uid\": \"17aa2881-2f16-4dcf-be63-9b69461cc146\"}], {\"autosize\": true, \"title\": {\"text\": \"Promedio de Preferencia por Categoria, Credito Joven\"}, \"xaxis\": {\"showticklabels\": true, \"title\": {\"font\": {\"color\": \"#14A751\", \"family\": \"Myriad\", \"size\": 20}, \"text\": \"Categoria_Agrupada\"}}, \"yaxis\": {\"title\": {\"font\": {\"color\": \"#14A751\", \"family\": \"Myriad\", \"size\": 20}, \"text\": \"Promedio\"}}}, {\"showLink\": false, \"linkText\": \"Export to plot.ly\", \"plotlyServerURL\": \"https://plot.ly\"})});</script><script type=\"text/javascript\">window.addEventListener(\"resize\", function(){window._Plotly.Plots.resize(document.getElementById(\"5112c541-58f0-42c6-8bf9-c84a8d654ac5\"));});</script>"
      ],
      "text/vnd.plotly.v1+html": [
       "<div id=\"5112c541-58f0-42c6-8bf9-c84a8d654ac5\" style=\"height: 525px; width: 100%;\" class=\"plotly-graph-div\"></div><script type=\"text/javascript\">require([\"plotly\"], function(Plotly) { window.PLOTLYENV=window.PLOTLYENV || {};window.PLOTLYENV.BASE_URL=\"https://plot.ly\";Plotly.newPlot(\"5112c541-58f0-42c6-8bf9-c84a8d654ac5\", [{\"marker\": {\"color\": \"#1D62AE\", \"line\": {\"color\": \"#14A751\", \"width\": 1}}, \"x\": [\"Supermercados y Alimentos\", \"Gasolineras y Vehiculos\", \"Comida Rapida\", \"Tienda De Venta Especializada\", \"Servicios de Salud, Belleza y Recreacion\", \"Ropas\", \"Servicios de Comunicacion, Internet y Telecable\", \"Restaurantes\", \"Servicios Gubernamentales\", \"Ferreterias y Hogar\", \"Servicios Educativos\", \"Otros Servicios\", \"Musica\", \"Licores\", \"Vida Nocturna\", \"Cine y Peliculas\", \"Servicios de Transporte y Viajes\", \"Hoteles Moteles Resorts\", \"Tecnologia y Software\", \"Ventas y Servicios de Equipos Electricos\", \"Articulos de Oficina\", \"Instituciones Financieras y Aseguradoras\", \"Servicio Personales (Deliveries, etc.)\", \"Servicios Agropecuarios\"], \"y\": [1031, 640, 420, 359, 347, 322, 312, 160, 113, 101, 81, 61, 60, 55, 54, 44, 42, 26, 22, 14, 10, 9, 4, 3], \"type\": \"bar\", \"uid\": \"17aa2881-2f16-4dcf-be63-9b69461cc146\"}], {\"autosize\": true, \"title\": {\"text\": \"Promedio de Preferencia por Categoria, Credito Joven\"}, \"xaxis\": {\"showticklabels\": true, \"title\": {\"font\": {\"color\": \"#14A751\", \"family\": \"Myriad\", \"size\": 20}, \"text\": \"Categoria_Agrupada\"}}, \"yaxis\": {\"title\": {\"font\": {\"color\": \"#14A751\", \"family\": \"Myriad\", \"size\": 20}, \"text\": \"Promedio\"}}}, {\"showLink\": false, \"linkText\": \"Export to plot.ly\", \"plotlyServerURL\": \"https://plot.ly\"})});</script><script type=\"text/javascript\">window.addEventListener(\"resize\", function(){window._Plotly.Plots.resize(document.getElementById(\"5112c541-58f0-42c6-8bf9-c84a8d654ac5\"));});</script>"
      ]
     },
     "metadata": {},
     "output_type": "display_data"
    }
   ],
   "source": [
    "bar_plotly_categoria_tipo_tarjeta(value_counts_df,\"CREDITO JOVEN\",\"Promedio\"\n",
    "                                  ,\"Promedio de Preferencia por Categoria, Credito Joven\")"
   ]
  },
  {
   "cell_type": "code",
   "execution_count": 58,
   "metadata": {
    "slideshow": {
     "slide_type": "subslide"
    }
   },
   "outputs": [
    {
     "data": {
      "application/vnd.plotly.v1+json": {
       "config": {
        "linkText": "Export to plot.ly",
        "plotlyServerURL": "https://plot.ly",
        "showLink": false
       },
       "data": [
        {
         "marker": {
          "color": "#1D62AE",
          "line": {
           "color": "#14A751",
           "width": 1
          }
         },
         "type": "bar",
         "uid": "b4b252d4-de17-408f-9287-83e52c774115",
         "x": [
          "Supermercados y Alimentos",
          "Gasolineras y Vehiculos",
          "Servicios de Salud, Belleza y Recreacion",
          "Ferreterias y Hogar",
          "Ropas",
          "Servicios de Comunicacion, Internet y Telecable",
          "Tienda De Venta Especializada",
          "Comida Rapida",
          "Servicios Gubernamentales",
          "Restaurantes",
          "Servicios Educativos",
          "Servicios de Transporte y Viajes",
          "Otros Servicios",
          "Licores",
          "Instituciones Financieras y Aseguradoras",
          "Ventas y Servicios de Equipos Electricos",
          "Hoteles Moteles Resorts",
          "Tecnologia y Software",
          "Vida Nocturna",
          "Musica",
          "Cine y Peliculas",
          "Servicios Agropecuarios",
          "Articulos de Oficina",
          "Servicios de Construccion y Decoracion",
          "Servicio Personales (Deliveries, etc.)",
          "Servicios de Textiles e Imprenta"
         ],
         "y": [
          1705,
          916,
          492,
          408,
          405,
          403,
          299,
          271,
          222,
          165,
          140,
          84,
          79,
          68,
          68,
          61,
          48,
          46,
          41,
          28,
          19,
          18,
          13,
          7,
          3,
          1
         ]
        }
       ],
       "layout": {
        "autosize": true,
        "title": {
         "text": "Promedio de Preferencia por Categoria, Multicredito"
        },
        "xaxis": {
         "showticklabels": true,
         "title": {
          "font": {
           "color": "#14A751",
           "family": "Myriad",
           "size": 20
          },
          "text": "Categoria_Agrupada"
         }
        },
        "yaxis": {
         "title": {
          "font": {
           "color": "#14A751",
           "family": "Myriad",
           "size": 20
          },
          "text": "Promedio"
         }
        }
       }
      },
      "text/html": [
       "<div id=\"358f2308-c671-4ced-a075-7e0a5baa9029\" style=\"height: 525px; width: 100%;\" class=\"plotly-graph-div\"></div><script type=\"text/javascript\">require([\"plotly\"], function(Plotly) { window.PLOTLYENV=window.PLOTLYENV || {};window.PLOTLYENV.BASE_URL=\"https://plot.ly\";Plotly.newPlot(\"358f2308-c671-4ced-a075-7e0a5baa9029\", [{\"marker\": {\"color\": \"#1D62AE\", \"line\": {\"color\": \"#14A751\", \"width\": 1}}, \"x\": [\"Supermercados y Alimentos\", \"Gasolineras y Vehiculos\", \"Servicios de Salud, Belleza y Recreacion\", \"Ferreterias y Hogar\", \"Ropas\", \"Servicios de Comunicacion, Internet y Telecable\", \"Tienda De Venta Especializada\", \"Comida Rapida\", \"Servicios Gubernamentales\", \"Restaurantes\", \"Servicios Educativos\", \"Servicios de Transporte y Viajes\", \"Otros Servicios\", \"Licores\", \"Instituciones Financieras y Aseguradoras\", \"Ventas y Servicios de Equipos Electricos\", \"Hoteles Moteles Resorts\", \"Tecnologia y Software\", \"Vida Nocturna\", \"Musica\", \"Cine y Peliculas\", \"Servicios Agropecuarios\", \"Articulos de Oficina\", \"Servicios de Construccion y Decoracion\", \"Servicio Personales (Deliveries, etc.)\", \"Servicios de Textiles e Imprenta\"], \"y\": [1705, 916, 492, 408, 405, 403, 299, 271, 222, 165, 140, 84, 79, 68, 68, 61, 48, 46, 41, 28, 19, 18, 13, 7, 3, 1], \"type\": \"bar\", \"uid\": \"b4b252d4-de17-408f-9287-83e52c774115\"}], {\"autosize\": true, \"title\": {\"text\": \"Promedio de Preferencia por Categoria, Multicredito\"}, \"xaxis\": {\"showticklabels\": true, \"title\": {\"font\": {\"color\": \"#14A751\", \"family\": \"Myriad\", \"size\": 20}, \"text\": \"Categoria_Agrupada\"}}, \"yaxis\": {\"title\": {\"font\": {\"color\": \"#14A751\", \"family\": \"Myriad\", \"size\": 20}, \"text\": \"Promedio\"}}}, {\"showLink\": false, \"linkText\": \"Export to plot.ly\", \"plotlyServerURL\": \"https://plot.ly\"})});</script><script type=\"text/javascript\">window.addEventListener(\"resize\", function(){window._Plotly.Plots.resize(document.getElementById(\"358f2308-c671-4ced-a075-7e0a5baa9029\"));});</script>"
      ],
      "text/vnd.plotly.v1+html": [
       "<div id=\"358f2308-c671-4ced-a075-7e0a5baa9029\" style=\"height: 525px; width: 100%;\" class=\"plotly-graph-div\"></div><script type=\"text/javascript\">require([\"plotly\"], function(Plotly) { window.PLOTLYENV=window.PLOTLYENV || {};window.PLOTLYENV.BASE_URL=\"https://plot.ly\";Plotly.newPlot(\"358f2308-c671-4ced-a075-7e0a5baa9029\", [{\"marker\": {\"color\": \"#1D62AE\", \"line\": {\"color\": \"#14A751\", \"width\": 1}}, \"x\": [\"Supermercados y Alimentos\", \"Gasolineras y Vehiculos\", \"Servicios de Salud, Belleza y Recreacion\", \"Ferreterias y Hogar\", \"Ropas\", \"Servicios de Comunicacion, Internet y Telecable\", \"Tienda De Venta Especializada\", \"Comida Rapida\", \"Servicios Gubernamentales\", \"Restaurantes\", \"Servicios Educativos\", \"Servicios de Transporte y Viajes\", \"Otros Servicios\", \"Licores\", \"Instituciones Financieras y Aseguradoras\", \"Ventas y Servicios de Equipos Electricos\", \"Hoteles Moteles Resorts\", \"Tecnologia y Software\", \"Vida Nocturna\", \"Musica\", \"Cine y Peliculas\", \"Servicios Agropecuarios\", \"Articulos de Oficina\", \"Servicios de Construccion y Decoracion\", \"Servicio Personales (Deliveries, etc.)\", \"Servicios de Textiles e Imprenta\"], \"y\": [1705, 916, 492, 408, 405, 403, 299, 271, 222, 165, 140, 84, 79, 68, 68, 61, 48, 46, 41, 28, 19, 18, 13, 7, 3, 1], \"type\": \"bar\", \"uid\": \"b4b252d4-de17-408f-9287-83e52c774115\"}], {\"autosize\": true, \"title\": {\"text\": \"Promedio de Preferencia por Categoria, Multicredito\"}, \"xaxis\": {\"showticklabels\": true, \"title\": {\"font\": {\"color\": \"#14A751\", \"family\": \"Myriad\", \"size\": 20}, \"text\": \"Categoria_Agrupada\"}}, \"yaxis\": {\"title\": {\"font\": {\"color\": \"#14A751\", \"family\": \"Myriad\", \"size\": 20}, \"text\": \"Promedio\"}}}, {\"showLink\": false, \"linkText\": \"Export to plot.ly\", \"plotlyServerURL\": \"https://plot.ly\"})});</script><script type=\"text/javascript\">window.addEventListener(\"resize\", function(){window._Plotly.Plots.resize(document.getElementById(\"358f2308-c671-4ced-a075-7e0a5baa9029\"));});</script>"
      ]
     },
     "metadata": {},
     "output_type": "display_data"
    }
   ],
   "source": [
    "bar_plotly_categoria_tipo_tarjeta(value_counts_df,\"MULTICREDITO\",\"Promedio\"\n",
    "                                  ,\"Promedio de Preferencia por Categoria, Multicredito\")"
   ]
  },
  {
   "cell_type": "markdown",
   "metadata": {
    "slideshow": {
     "slide_type": "slide"
    }
   },
   "source": [
    "## Porcentaje de Pertenencia de Preferencias Por Categoria Por Tarjeta"
   ]
  },
  {
   "cell_type": "markdown",
   "metadata": {
    "slideshow": {
     "slide_type": "subslide"
    }
   },
   "source": [
    "Para distinguir mejor las diferencias entre tipos de tarjeta, tambien fue calculado el porcentaje de las preferencias de cada categoria por tipo de tarjeta. Esto ayuda a determinar categorias sobresalientes en cada tipo de tarjeta."
   ]
  },
  {
   "cell_type": "code",
   "execution_count": 59,
   "metadata": {
    "slideshow": {
     "slide_type": "skip"
    }
   },
   "outputs": [
    {
     "data": {
      "text/html": [
       "<div>\n",
       "<style scoped>\n",
       "    .dataframe tbody tr th:only-of-type {\n",
       "        vertical-align: middle;\n",
       "    }\n",
       "\n",
       "    .dataframe tbody tr th {\n",
       "        vertical-align: top;\n",
       "    }\n",
       "\n",
       "    .dataframe thead th {\n",
       "        text-align: right;\n",
       "    }\n",
       "</style>\n",
       "<table border=\"1\" class=\"dataframe\">\n",
       "  <thead>\n",
       "    <tr style=\"text-align: right;\">\n",
       "      <th></th>\n",
       "      <th>Categoria_Agrupada</th>\n",
       "      <th>DESCRI_PRODUCTO</th>\n",
       "      <th>Preferencias_Cantidad</th>\n",
       "      <th>Preferencias_Recencia</th>\n",
       "      <th>Preferencias_Termometro</th>\n",
       "      <th>Preferencias_Valor</th>\n",
       "      <th>Preferencias_RFM</th>\n",
       "      <th>Promedio</th>\n",
       "      <th>Desviacion</th>\n",
       "      <th>Porcentaje_Variacion (%)</th>\n",
       "      <th>Porcentaje_Total_Categoria (%)</th>\n",
       "    </tr>\n",
       "  </thead>\n",
       "  <tbody>\n",
       "    <tr>\n",
       "      <th>0</th>\n",
       "      <td>Articulos de Oficina</td>\n",
       "      <td>CREDITO JOVEN</td>\n",
       "      <td>6</td>\n",
       "      <td>17</td>\n",
       "      <td>7.0</td>\n",
       "      <td>13</td>\n",
       "      <td>8</td>\n",
       "      <td>10</td>\n",
       "      <td>4.658326</td>\n",
       "      <td>46.58</td>\n",
       "      <td>3.14</td>\n",
       "    </tr>\n",
       "    <tr>\n",
       "      <th>1</th>\n",
       "      <td>Articulos de Oficina</td>\n",
       "      <td>VISA EMPRESARIAL</td>\n",
       "      <td>8</td>\n",
       "      <td>12</td>\n",
       "      <td>8.0</td>\n",
       "      <td>10</td>\n",
       "      <td>8</td>\n",
       "      <td>9</td>\n",
       "      <td>1.788854</td>\n",
       "      <td>19.88</td>\n",
       "      <td>2.83</td>\n",
       "    </tr>\n",
       "    <tr>\n",
       "      <th>2</th>\n",
       "      <td>Articulos de Oficina</td>\n",
       "      <td>VISA ORO</td>\n",
       "      <td>48</td>\n",
       "      <td>69</td>\n",
       "      <td>44.0</td>\n",
       "      <td>55</td>\n",
       "      <td>41</td>\n",
       "      <td>51</td>\n",
       "      <td>11.148991</td>\n",
       "      <td>21.86</td>\n",
       "      <td>16.04</td>\n",
       "    </tr>\n",
       "    <tr>\n",
       "      <th>3</th>\n",
       "      <td>Articulos de Oficina</td>\n",
       "      <td>VISA CLASICA</td>\n",
       "      <td>138</td>\n",
       "      <td>182</td>\n",
       "      <td>131.0</td>\n",
       "      <td>144</td>\n",
       "      <td>129</td>\n",
       "      <td>144</td>\n",
       "      <td>21.626373</td>\n",
       "      <td>15.02</td>\n",
       "      <td>45.28</td>\n",
       "    </tr>\n",
       "    <tr>\n",
       "      <th>4</th>\n",
       "      <td>Articulos de Oficina</td>\n",
       "      <td>VISA PLATINO</td>\n",
       "      <td>51</td>\n",
       "      <td>84</td>\n",
       "      <td>65.0</td>\n",
       "      <td>87</td>\n",
       "      <td>54</td>\n",
       "      <td>68</td>\n",
       "      <td>16.664333</td>\n",
       "      <td>24.51</td>\n",
       "      <td>21.38</td>\n",
       "    </tr>\n",
       "  </tbody>\n",
       "</table>\n",
       "</div>"
      ],
      "text/plain": [
       "     Categoria_Agrupada   DESCRI_PRODUCTO  Preferencias_Cantidad  \\\n",
       "0  Articulos de Oficina     CREDITO JOVEN                      6   \n",
       "1  Articulos de Oficina  VISA EMPRESARIAL                      8   \n",
       "2  Articulos de Oficina          VISA ORO                     48   \n",
       "3  Articulos de Oficina      VISA CLASICA                    138   \n",
       "4  Articulos de Oficina      VISA PLATINO                     51   \n",
       "\n",
       "   Preferencias_Recencia  Preferencias_Termometro  Preferencias_Valor  \\\n",
       "0                     17                      7.0                  13   \n",
       "1                     12                      8.0                  10   \n",
       "2                     69                     44.0                  55   \n",
       "3                    182                    131.0                 144   \n",
       "4                     84                     65.0                  87   \n",
       "\n",
       "   Preferencias_RFM  Promedio  Desviacion  Porcentaje_Variacion (%)  \\\n",
       "0                 8        10    4.658326                     46.58   \n",
       "1                 8         9    1.788854                     19.88   \n",
       "2                41        51   11.148991                     21.86   \n",
       "3               129       144   21.626373                     15.02   \n",
       "4                54        68   16.664333                     24.51   \n",
       "\n",
       "   Porcentaje_Total_Categoria (%)  \n",
       "0                            3.14  \n",
       "1                            2.83  \n",
       "2                           16.04  \n",
       "3                           45.28  \n",
       "4                           21.38  "
      ]
     },
     "execution_count": 59,
     "metadata": {},
     "output_type": "execute_result"
    }
   ],
   "source": [
    "value_counts_df = value_counts_df.sort_values(by=\"Categoria_Agrupada\").set_index(\"Categoria_Agrupada\")\n",
    "value_counts_categoria_total_promedio = value_counts_df.groupby(\"Categoria_Agrupada\")[\"Promedio\"].sum()\n",
    "value_counts_categoria_total_promedio\n",
    "value_counts_df[\"Porcentaje_Total_Categoria (%)\"] = (value_counts_df[\"Promedio\"] \n",
    "                                                              / value_counts_categoria_total_promedio * 100\n",
    "                                                    ).round(2)\n",
    "value_counts_df = value_counts_df.reset_index()\n",
    "value_counts_df.head()"
   ]
  },
  {
   "cell_type": "code",
   "execution_count": 60,
   "metadata": {
    "slideshow": {
     "slide_type": "subslide"
    }
   },
   "outputs": [
    {
     "data": {
      "application/vnd.plotly.v1+json": {
       "config": {
        "linkText": "Export to plot.ly",
        "plotlyServerURL": "https://plot.ly",
        "showLink": false
       },
       "data": [
        {
         "marker": {
          "color": "#1D62AE",
          "line": {
           "color": "#14A751",
           "width": 1
          }
         },
         "type": "bar",
         "uid": "4123ac9b-5c0c-4b04-b933-e3b3bf4f8be2",
         "x": [
          "Cine y Peliculas",
          "Servicios de Comunicacion, Internet y Telecable",
          "Servicios Gubernamentales",
          "Gasolineras y Vehiculos",
          "Supermercados y Alimentos",
          "Tienda De Venta Especializada",
          "Comida Rapida",
          "Vida Nocturna",
          "Servicios de Salud, Belleza y Recreacion",
          "Servicio Personales (Deliveries, etc.)",
          "Licores",
          "Ropas",
          "Musica",
          "Servicios Agropecuarios",
          "Servicios de Textiles e Imprenta",
          "Servicios Educativos",
          "Tecnologia y Software",
          "Otros Servicios",
          "Ferreterias y Hogar",
          "Ventas y Servicios de Equipos Electricos",
          "Servicios de Construccion y Decoracion",
          "Restaurantes",
          "Instituciones Financieras y Aseguradoras",
          "Articulos de Oficina",
          "Hoteles Moteles Resorts",
          "Servicios de Transporte y Viajes"
         ],
         "y": [
          67.6,
          65.25,
          64.81,
          62.52,
          61.97,
          61.28,
          61.11,
          58.49,
          58.02,
          57.93,
          57.84,
          57.5,
          57.09,
          55.98,
          55.56,
          54.56,
          54.34,
          53.5,
          53.45,
          51.18,
          47.78,
          46.35,
          45.67,
          45.28,
          40.21,
          35.26
         ]
        }
       ],
       "layout": {
        "autosize": true,
        "title": {
         "text": "Porcentaje de Pertenencia por Categoria, Visa Clasica"
        },
        "xaxis": {
         "showticklabels": true,
         "title": {
          "font": {
           "color": "#14A751",
           "family": "Myriad",
           "size": 20
          },
          "text": "Categoria_Agrupada"
         }
        },
        "yaxis": {
         "title": {
          "font": {
           "color": "#14A751",
           "family": "Myriad",
           "size": 20
          },
          "text": "Porcentaje_Total_Categoria (%)"
         }
        }
       }
      },
      "text/html": [
       "<div id=\"70c5f392-637a-4a14-bd54-439762335132\" style=\"height: 525px; width: 100%;\" class=\"plotly-graph-div\"></div><script type=\"text/javascript\">require([\"plotly\"], function(Plotly) { window.PLOTLYENV=window.PLOTLYENV || {};window.PLOTLYENV.BASE_URL=\"https://plot.ly\";Plotly.newPlot(\"70c5f392-637a-4a14-bd54-439762335132\", [{\"marker\": {\"color\": \"#1D62AE\", \"line\": {\"color\": \"#14A751\", \"width\": 1}}, \"x\": [\"Cine y Peliculas\", \"Servicios de Comunicacion, Internet y Telecable\", \"Servicios Gubernamentales\", \"Gasolineras y Vehiculos\", \"Supermercados y Alimentos\", \"Tienda De Venta Especializada\", \"Comida Rapida\", \"Vida Nocturna\", \"Servicios de Salud, Belleza y Recreacion\", \"Servicio Personales (Deliveries, etc.)\", \"Licores\", \"Ropas\", \"Musica\", \"Servicios Agropecuarios\", \"Servicios de Textiles e Imprenta\", \"Servicios Educativos\", \"Tecnologia y Software\", \"Otros Servicios\", \"Ferreterias y Hogar\", \"Ventas y Servicios de Equipos Electricos\", \"Servicios de Construccion y Decoracion\", \"Restaurantes\", \"Instituciones Financieras y Aseguradoras\", \"Articulos de Oficina\", \"Hoteles Moteles Resorts\", \"Servicios de Transporte y Viajes\"], \"y\": [67.6, 65.25, 64.81, 62.52, 61.97, 61.28, 61.11, 58.49, 58.02, 57.93, 57.84, 57.5, 57.09, 55.98, 55.56, 54.56, 54.34, 53.5, 53.45, 51.18, 47.78, 46.35, 45.67, 45.28, 40.21, 35.26], \"type\": \"bar\", \"uid\": \"4123ac9b-5c0c-4b04-b933-e3b3bf4f8be2\"}], {\"autosize\": true, \"title\": {\"text\": \"Porcentaje de Pertenencia por Categoria, Visa Clasica\"}, \"xaxis\": {\"showticklabels\": true, \"title\": {\"font\": {\"color\": \"#14A751\", \"family\": \"Myriad\", \"size\": 20}, \"text\": \"Categoria_Agrupada\"}}, \"yaxis\": {\"title\": {\"font\": {\"color\": \"#14A751\", \"family\": \"Myriad\", \"size\": 20}, \"text\": \"Porcentaje_Total_Categoria (%)\"}}}, {\"showLink\": false, \"linkText\": \"Export to plot.ly\", \"plotlyServerURL\": \"https://plot.ly\"})});</script><script type=\"text/javascript\">window.addEventListener(\"resize\", function(){window._Plotly.Plots.resize(document.getElementById(\"70c5f392-637a-4a14-bd54-439762335132\"));});</script>"
      ],
      "text/vnd.plotly.v1+html": [
       "<div id=\"70c5f392-637a-4a14-bd54-439762335132\" style=\"height: 525px; width: 100%;\" class=\"plotly-graph-div\"></div><script type=\"text/javascript\">require([\"plotly\"], function(Plotly) { window.PLOTLYENV=window.PLOTLYENV || {};window.PLOTLYENV.BASE_URL=\"https://plot.ly\";Plotly.newPlot(\"70c5f392-637a-4a14-bd54-439762335132\", [{\"marker\": {\"color\": \"#1D62AE\", \"line\": {\"color\": \"#14A751\", \"width\": 1}}, \"x\": [\"Cine y Peliculas\", \"Servicios de Comunicacion, Internet y Telecable\", \"Servicios Gubernamentales\", \"Gasolineras y Vehiculos\", \"Supermercados y Alimentos\", \"Tienda De Venta Especializada\", \"Comida Rapida\", \"Vida Nocturna\", \"Servicios de Salud, Belleza y Recreacion\", \"Servicio Personales (Deliveries, etc.)\", \"Licores\", \"Ropas\", \"Musica\", \"Servicios Agropecuarios\", \"Servicios de Textiles e Imprenta\", \"Servicios Educativos\", \"Tecnologia y Software\", \"Otros Servicios\", \"Ferreterias y Hogar\", \"Ventas y Servicios de Equipos Electricos\", \"Servicios de Construccion y Decoracion\", \"Restaurantes\", \"Instituciones Financieras y Aseguradoras\", \"Articulos de Oficina\", \"Hoteles Moteles Resorts\", \"Servicios de Transporte y Viajes\"], \"y\": [67.6, 65.25, 64.81, 62.52, 61.97, 61.28, 61.11, 58.49, 58.02, 57.93, 57.84, 57.5, 57.09, 55.98, 55.56, 54.56, 54.34, 53.5, 53.45, 51.18, 47.78, 46.35, 45.67, 45.28, 40.21, 35.26], \"type\": \"bar\", \"uid\": \"4123ac9b-5c0c-4b04-b933-e3b3bf4f8be2\"}], {\"autosize\": true, \"title\": {\"text\": \"Porcentaje de Pertenencia por Categoria, Visa Clasica\"}, \"xaxis\": {\"showticklabels\": true, \"title\": {\"font\": {\"color\": \"#14A751\", \"family\": \"Myriad\", \"size\": 20}, \"text\": \"Categoria_Agrupada\"}}, \"yaxis\": {\"title\": {\"font\": {\"color\": \"#14A751\", \"family\": \"Myriad\", \"size\": 20}, \"text\": \"Porcentaje_Total_Categoria (%)\"}}}, {\"showLink\": false, \"linkText\": \"Export to plot.ly\", \"plotlyServerURL\": \"https://plot.ly\"})});</script><script type=\"text/javascript\">window.addEventListener(\"resize\", function(){window._Plotly.Plots.resize(document.getElementById(\"70c5f392-637a-4a14-bd54-439762335132\"));});</script>"
      ]
     },
     "metadata": {},
     "output_type": "display_data"
    }
   ],
   "source": [
    "bar_plotly_categoria_tipo_tarjeta(value_counts_df,\"VISA CLASICA\",\"Porcentaje_Total_Categoria (%)\"\n",
    "                                  ,\"Porcentaje de Pertenencia por Categoria, Visa Clasica\")"
   ]
  },
  {
   "cell_type": "code",
   "execution_count": 61,
   "metadata": {
    "slideshow": {
     "slide_type": "subslide"
    }
   },
   "outputs": [
    {
     "data": {
      "application/vnd.plotly.v1+json": {
       "config": {
        "linkText": "Export to plot.ly",
        "plotlyServerURL": "https://plot.ly",
        "showLink": false
       },
       "data": [
        {
         "marker": {
          "color": "#1D62AE",
          "line": {
           "color": "#14A751",
           "width": 1
          }
         },
         "type": "bar",
         "uid": "d9a3b037-8cf5-4c60-bac6-ce94b15a389b",
         "x": [
          "Servicios de Transporte y Viajes",
          "Servicios de Textiles e Imprenta",
          "Servicios Agropecuarios",
          "Instituciones Financieras y Aseguradoras",
          "Hoteles Moteles Resorts",
          "Ferreterias y Hogar",
          "Ropas",
          "Servicios de Salud, Belleza y Recreacion",
          "Restaurantes",
          "Ventas y Servicios de Equipos Electricos",
          "Tienda De Venta Especializada",
          "Vida Nocturna",
          "Otros Servicios",
          "Musica",
          "Gasolineras y Vehiculos",
          "Supermercados y Alimentos",
          "Tecnologia y Software",
          "Servicios Educativos",
          "Servicios de Comunicacion, Internet y Telecable",
          "Articulos de Oficina",
          "Servicios Gubernamentales",
          "Servicios de Construccion y Decoracion",
          "Comida Rapida",
          "Servicio Personales (Deliveries, etc.)",
          "Licores",
          "Cine y Peliculas"
         ],
         "y": [
          26.18,
          24.07,
          21.53,
          20.53,
          19.47,
          18.22,
          17.87,
          17.64,
          17.61,
          17.54,
          17.45,
          17.09,
          17.04,
          17,
          16.83,
          16.34,
          16.29,
          16.22,
          16.16,
          16.04,
          15.77,
          15.56,
          15.37,
          15.17,
          14.77,
          9.72
         ]
        }
       ],
       "layout": {
        "autosize": true,
        "title": {
         "text": "Porcentaje de Pertenencia por Categoria, Visa Oro"
        },
        "xaxis": {
         "showticklabels": true,
         "title": {
          "font": {
           "color": "#14A751",
           "family": "Myriad",
           "size": 20
          },
          "text": "Categoria_Agrupada"
         }
        },
        "yaxis": {
         "title": {
          "font": {
           "color": "#14A751",
           "family": "Myriad",
           "size": 20
          },
          "text": "Porcentaje_Total_Categoria (%)"
         }
        }
       }
      },
      "text/html": [
       "<div id=\"5669387d-4f64-487f-9eed-ce3c6ee63e4d\" style=\"height: 525px; width: 100%;\" class=\"plotly-graph-div\"></div><script type=\"text/javascript\">require([\"plotly\"], function(Plotly) { window.PLOTLYENV=window.PLOTLYENV || {};window.PLOTLYENV.BASE_URL=\"https://plot.ly\";Plotly.newPlot(\"5669387d-4f64-487f-9eed-ce3c6ee63e4d\", [{\"marker\": {\"color\": \"#1D62AE\", \"line\": {\"color\": \"#14A751\", \"width\": 1}}, \"x\": [\"Servicios de Transporte y Viajes\", \"Servicios de Textiles e Imprenta\", \"Servicios Agropecuarios\", \"Instituciones Financieras y Aseguradoras\", \"Hoteles Moteles Resorts\", \"Ferreterias y Hogar\", \"Ropas\", \"Servicios de Salud, Belleza y Recreacion\", \"Restaurantes\", \"Ventas y Servicios de Equipos Electricos\", \"Tienda De Venta Especializada\", \"Vida Nocturna\", \"Otros Servicios\", \"Musica\", \"Gasolineras y Vehiculos\", \"Supermercados y Alimentos\", \"Tecnologia y Software\", \"Servicios Educativos\", \"Servicios de Comunicacion, Internet y Telecable\", \"Articulos de Oficina\", \"Servicios Gubernamentales\", \"Servicios de Construccion y Decoracion\", \"Comida Rapida\", \"Servicio Personales (Deliveries, etc.)\", \"Licores\", \"Cine y Peliculas\"], \"y\": [26.18, 24.07, 21.53, 20.53, 19.47, 18.22, 17.87, 17.64, 17.61, 17.54, 17.45, 17.09, 17.04, 17.0, 16.83, 16.34, 16.29, 16.22, 16.16, 16.04, 15.77, 15.56, 15.37, 15.17, 14.77, 9.72], \"type\": \"bar\", \"uid\": \"d9a3b037-8cf5-4c60-bac6-ce94b15a389b\"}], {\"autosize\": true, \"title\": {\"text\": \"Porcentaje de Pertenencia por Categoria, Visa Oro\"}, \"xaxis\": {\"showticklabels\": true, \"title\": {\"font\": {\"color\": \"#14A751\", \"family\": \"Myriad\", \"size\": 20}, \"text\": \"Categoria_Agrupada\"}}, \"yaxis\": {\"title\": {\"font\": {\"color\": \"#14A751\", \"family\": \"Myriad\", \"size\": 20}, \"text\": \"Porcentaje_Total_Categoria (%)\"}}}, {\"showLink\": false, \"linkText\": \"Export to plot.ly\", \"plotlyServerURL\": \"https://plot.ly\"})});</script><script type=\"text/javascript\">window.addEventListener(\"resize\", function(){window._Plotly.Plots.resize(document.getElementById(\"5669387d-4f64-487f-9eed-ce3c6ee63e4d\"));});</script>"
      ],
      "text/vnd.plotly.v1+html": [
       "<div id=\"5669387d-4f64-487f-9eed-ce3c6ee63e4d\" style=\"height: 525px; width: 100%;\" class=\"plotly-graph-div\"></div><script type=\"text/javascript\">require([\"plotly\"], function(Plotly) { window.PLOTLYENV=window.PLOTLYENV || {};window.PLOTLYENV.BASE_URL=\"https://plot.ly\";Plotly.newPlot(\"5669387d-4f64-487f-9eed-ce3c6ee63e4d\", [{\"marker\": {\"color\": \"#1D62AE\", \"line\": {\"color\": \"#14A751\", \"width\": 1}}, \"x\": [\"Servicios de Transporte y Viajes\", \"Servicios de Textiles e Imprenta\", \"Servicios Agropecuarios\", \"Instituciones Financieras y Aseguradoras\", \"Hoteles Moteles Resorts\", \"Ferreterias y Hogar\", \"Ropas\", \"Servicios de Salud, Belleza y Recreacion\", \"Restaurantes\", \"Ventas y Servicios de Equipos Electricos\", \"Tienda De Venta Especializada\", \"Vida Nocturna\", \"Otros Servicios\", \"Musica\", \"Gasolineras y Vehiculos\", \"Supermercados y Alimentos\", \"Tecnologia y Software\", \"Servicios Educativos\", \"Servicios de Comunicacion, Internet y Telecable\", \"Articulos de Oficina\", \"Servicios Gubernamentales\", \"Servicios de Construccion y Decoracion\", \"Comida Rapida\", \"Servicio Personales (Deliveries, etc.)\", \"Licores\", \"Cine y Peliculas\"], \"y\": [26.18, 24.07, 21.53, 20.53, 19.47, 18.22, 17.87, 17.64, 17.61, 17.54, 17.45, 17.09, 17.04, 17.0, 16.83, 16.34, 16.29, 16.22, 16.16, 16.04, 15.77, 15.56, 15.37, 15.17, 14.77, 9.72], \"type\": \"bar\", \"uid\": \"d9a3b037-8cf5-4c60-bac6-ce94b15a389b\"}], {\"autosize\": true, \"title\": {\"text\": \"Porcentaje de Pertenencia por Categoria, Visa Oro\"}, \"xaxis\": {\"showticklabels\": true, \"title\": {\"font\": {\"color\": \"#14A751\", \"family\": \"Myriad\", \"size\": 20}, \"text\": \"Categoria_Agrupada\"}}, \"yaxis\": {\"title\": {\"font\": {\"color\": \"#14A751\", \"family\": \"Myriad\", \"size\": 20}, \"text\": \"Porcentaje_Total_Categoria (%)\"}}}, {\"showLink\": false, \"linkText\": \"Export to plot.ly\", \"plotlyServerURL\": \"https://plot.ly\"})});</script><script type=\"text/javascript\">window.addEventListener(\"resize\", function(){window._Plotly.Plots.resize(document.getElementById(\"5669387d-4f64-487f-9eed-ce3c6ee63e4d\"));});</script>"
      ]
     },
     "metadata": {},
     "output_type": "display_data"
    }
   ],
   "source": [
    "bar_plotly_categoria_tipo_tarjeta(value_counts_df,\"VISA ORO\",\"Porcentaje_Total_Categoria (%)\"\n",
    "                                  ,\"Porcentaje de Pertenencia por Categoria, Visa Oro\")"
   ]
  },
  {
   "cell_type": "code",
   "execution_count": 62,
   "metadata": {
    "slideshow": {
     "slide_type": "subslide"
    }
   },
   "outputs": [
    {
     "data": {
      "application/vnd.plotly.v1+json": {
       "config": {
        "linkText": "Export to plot.ly",
        "plotlyServerURL": "https://plot.ly",
        "showLink": false
       },
       "data": [
        {
         "marker": {
          "color": "#1D62AE",
          "line": {
           "color": "#14A751",
           "width": 1
          }
         },
         "type": "bar",
         "uid": "023bcbe0-c261-4666-b338-98d9f0c92e37",
         "x": [
          "Servicios de Transporte y Viajes",
          "Hoteles Moteles Resorts",
          "Instituciones Financieras y Aseguradoras",
          "Articulos de Oficina",
          "Servicios de Construccion y Decoracion",
          "Restaurantes",
          "Otros Servicios",
          "Ventas y Servicios de Equipos Electricos",
          "Servicio Personales (Deliveries, etc.)",
          "Ferreterias y Hogar",
          "Servicios Educativos",
          "Servicios de Salud, Belleza y Recreacion",
          "Ropas",
          "Musica",
          "Tecnologia y Software",
          "Tienda De Venta Especializada",
          "Licores",
          "Supermercados y Alimentos",
          "Servicios Gubernamentales",
          "Servicios de Textiles e Imprenta",
          "Gasolineras y Vehiculos",
          "Comida Rapida",
          "Servicios de Comunicacion, Internet y Telecable",
          "Servicios Agropecuarios",
          "Vida Nocturna",
          "Cine y Peliculas"
         ],
         "y": [
          24.64,
          22.33,
          21.48,
          21.38,
          20,
          19.91,
          15.64,
          15.28,
          15.17,
          14.97,
          14.76,
          13.96,
          13.46,
          13.27,
          13.24,
          12.7,
          12.29,
          11.36,
          11.32,
          11.11,
          10.86,
          10.71,
          10.44,
          10.05,
          9.89,
          7.13
         ]
        }
       ],
       "layout": {
        "autosize": true,
        "title": {
         "text": "Porcentaje de Pertenencia por Categoria, Visa Platino"
        },
        "xaxis": {
         "showticklabels": true,
         "title": {
          "font": {
           "color": "#14A751",
           "family": "Myriad",
           "size": 20
          },
          "text": "Categoria_Agrupada"
         }
        },
        "yaxis": {
         "title": {
          "font": {
           "color": "#14A751",
           "family": "Myriad",
           "size": 20
          },
          "text": "Porcentaje_Total_Categoria (%)"
         }
        }
       }
      },
      "text/html": [
       "<div id=\"47ff2b16-52a6-4f65-a24e-6913a9c6ce5d\" style=\"height: 525px; width: 100%;\" class=\"plotly-graph-div\"></div><script type=\"text/javascript\">require([\"plotly\"], function(Plotly) { window.PLOTLYENV=window.PLOTLYENV || {};window.PLOTLYENV.BASE_URL=\"https://plot.ly\";Plotly.newPlot(\"47ff2b16-52a6-4f65-a24e-6913a9c6ce5d\", [{\"marker\": {\"color\": \"#1D62AE\", \"line\": {\"color\": \"#14A751\", \"width\": 1}}, \"x\": [\"Servicios de Transporte y Viajes\", \"Hoteles Moteles Resorts\", \"Instituciones Financieras y Aseguradoras\", \"Articulos de Oficina\", \"Servicios de Construccion y Decoracion\", \"Restaurantes\", \"Otros Servicios\", \"Ventas y Servicios de Equipos Electricos\", \"Servicio Personales (Deliveries, etc.)\", \"Ferreterias y Hogar\", \"Servicios Educativos\", \"Servicios de Salud, Belleza y Recreacion\", \"Ropas\", \"Musica\", \"Tecnologia y Software\", \"Tienda De Venta Especializada\", \"Licores\", \"Supermercados y Alimentos\", \"Servicios Gubernamentales\", \"Servicios de Textiles e Imprenta\", \"Gasolineras y Vehiculos\", \"Comida Rapida\", \"Servicios de Comunicacion, Internet y Telecable\", \"Servicios Agropecuarios\", \"Vida Nocturna\", \"Cine y Peliculas\"], \"y\": [24.64, 22.33, 21.48, 21.38, 20.0, 19.91, 15.64, 15.28, 15.17, 14.97, 14.76, 13.96, 13.46, 13.27, 13.24, 12.7, 12.29, 11.36, 11.32, 11.11, 10.86, 10.71, 10.44, 10.05, 9.89, 7.13], \"type\": \"bar\", \"uid\": \"023bcbe0-c261-4666-b338-98d9f0c92e37\"}], {\"autosize\": true, \"title\": {\"text\": \"Porcentaje de Pertenencia por Categoria, Visa Platino\"}, \"xaxis\": {\"showticklabels\": true, \"title\": {\"font\": {\"color\": \"#14A751\", \"family\": \"Myriad\", \"size\": 20}, \"text\": \"Categoria_Agrupada\"}}, \"yaxis\": {\"title\": {\"font\": {\"color\": \"#14A751\", \"family\": \"Myriad\", \"size\": 20}, \"text\": \"Porcentaje_Total_Categoria (%)\"}}}, {\"showLink\": false, \"linkText\": \"Export to plot.ly\", \"plotlyServerURL\": \"https://plot.ly\"})});</script><script type=\"text/javascript\">window.addEventListener(\"resize\", function(){window._Plotly.Plots.resize(document.getElementById(\"47ff2b16-52a6-4f65-a24e-6913a9c6ce5d\"));});</script>"
      ],
      "text/vnd.plotly.v1+html": [
       "<div id=\"47ff2b16-52a6-4f65-a24e-6913a9c6ce5d\" style=\"height: 525px; width: 100%;\" class=\"plotly-graph-div\"></div><script type=\"text/javascript\">require([\"plotly\"], function(Plotly) { window.PLOTLYENV=window.PLOTLYENV || {};window.PLOTLYENV.BASE_URL=\"https://plot.ly\";Plotly.newPlot(\"47ff2b16-52a6-4f65-a24e-6913a9c6ce5d\", [{\"marker\": {\"color\": \"#1D62AE\", \"line\": {\"color\": \"#14A751\", \"width\": 1}}, \"x\": [\"Servicios de Transporte y Viajes\", \"Hoteles Moteles Resorts\", \"Instituciones Financieras y Aseguradoras\", \"Articulos de Oficina\", \"Servicios de Construccion y Decoracion\", \"Restaurantes\", \"Otros Servicios\", \"Ventas y Servicios de Equipos Electricos\", \"Servicio Personales (Deliveries, etc.)\", \"Ferreterias y Hogar\", \"Servicios Educativos\", \"Servicios de Salud, Belleza y Recreacion\", \"Ropas\", \"Musica\", \"Tecnologia y Software\", \"Tienda De Venta Especializada\", \"Licores\", \"Supermercados y Alimentos\", \"Servicios Gubernamentales\", \"Servicios de Textiles e Imprenta\", \"Gasolineras y Vehiculos\", \"Comida Rapida\", \"Servicios de Comunicacion, Internet y Telecable\", \"Servicios Agropecuarios\", \"Vida Nocturna\", \"Cine y Peliculas\"], \"y\": [24.64, 22.33, 21.48, 21.38, 20.0, 19.91, 15.64, 15.28, 15.17, 14.97, 14.76, 13.96, 13.46, 13.27, 13.24, 12.7, 12.29, 11.36, 11.32, 11.11, 10.86, 10.71, 10.44, 10.05, 9.89, 7.13], \"type\": \"bar\", \"uid\": \"023bcbe0-c261-4666-b338-98d9f0c92e37\"}], {\"autosize\": true, \"title\": {\"text\": \"Porcentaje de Pertenencia por Categoria, Visa Platino\"}, \"xaxis\": {\"showticklabels\": true, \"title\": {\"font\": {\"color\": \"#14A751\", \"family\": \"Myriad\", \"size\": 20}, \"text\": \"Categoria_Agrupada\"}}, \"yaxis\": {\"title\": {\"font\": {\"color\": \"#14A751\", \"family\": \"Myriad\", \"size\": 20}, \"text\": \"Porcentaje_Total_Categoria (%)\"}}}, {\"showLink\": false, \"linkText\": \"Export to plot.ly\", \"plotlyServerURL\": \"https://plot.ly\"})});</script><script type=\"text/javascript\">window.addEventListener(\"resize\", function(){window._Plotly.Plots.resize(document.getElementById(\"47ff2b16-52a6-4f65-a24e-6913a9c6ce5d\"));});</script>"
      ]
     },
     "metadata": {},
     "output_type": "display_data"
    }
   ],
   "source": [
    "bar_plotly_categoria_tipo_tarjeta(value_counts_df,\"VISA PLATINO\",\"Porcentaje_Total_Categoria (%)\"\n",
    "                                  ,\"Porcentaje de Pertenencia por Categoria, Visa Platino\")"
   ]
  },
  {
   "cell_type": "code",
   "execution_count": 63,
   "metadata": {
    "slideshow": {
     "slide_type": "subslide"
    }
   },
   "outputs": [
    {
     "data": {
      "application/vnd.plotly.v1+json": {
       "config": {
        "linkText": "Export to plot.ly",
        "plotlyServerURL": "https://plot.ly",
        "showLink": false
       },
       "data": [
        {
         "marker": {
          "color": "#1D62AE",
          "line": {
           "color": "#14A751",
           "width": 1
          }
         },
         "type": "bar",
         "uid": "071ec7d7-57b7-439b-a0f9-c05e8cb8af0f",
         "x": [
          "Hoteles Moteles Resorts",
          "Servicios de Transporte y Viajes",
          "Restaurantes",
          "Articulos de Oficina",
          "Servicio Personales (Deliveries, etc.)",
          "Ventas y Servicios de Equipos Electricos",
          "Instituciones Financieras y Aseguradoras",
          "Servicios de Construccion y Decoracion",
          "Otros Servicios",
          "Licores",
          "Musica",
          "Ropas",
          "Tecnologia y Software",
          "Ferreterias y Hogar",
          "Servicios de Salud, Belleza y Recreacion",
          "Servicios Educativos",
          "Vida Nocturna",
          "Tienda De Venta Especializada",
          "Supermercados y Alimentos",
          "Servicios Agropecuarios",
          "Comida Rapida",
          "Servicios de Textiles e Imprenta",
          "Gasolineras y Vehiculos",
          "Cine y Peliculas",
          "Servicios Gubernamentales",
          "Servicios de Comunicacion, Internet y Telecable"
         ],
         "y": [
          8.36,
          8.05,
          7.93,
          7.23,
          5.52,
          4.72,
          4.47,
          4.44,
          3.9,
          3.88,
          3.64,
          3.4,
          3.04,
          2.94,
          2.93,
          2.66,
          2.56,
          2.42,
          1.97,
          1.91,
          1.86,
          1.85,
          1.75,
          1.73,
          1.44,
          1.13
         ]
        }
       ],
       "layout": {
        "autosize": true,
        "title": {
         "text": "Porcentaje de Pertenencia por Categoria, Visa Infinite"
        },
        "xaxis": {
         "showticklabels": true,
         "title": {
          "font": {
           "color": "#14A751",
           "family": "Myriad",
           "size": 20
          },
          "text": "Categoria_Agrupada"
         }
        },
        "yaxis": {
         "title": {
          "font": {
           "color": "#14A751",
           "family": "Myriad",
           "size": 20
          },
          "text": "Porcentaje_Total_Categoria (%)"
         }
        }
       }
      },
      "text/html": [
       "<div id=\"5d66a774-7322-41a1-a484-743d3aff340a\" style=\"height: 525px; width: 100%;\" class=\"plotly-graph-div\"></div><script type=\"text/javascript\">require([\"plotly\"], function(Plotly) { window.PLOTLYENV=window.PLOTLYENV || {};window.PLOTLYENV.BASE_URL=\"https://plot.ly\";Plotly.newPlot(\"5d66a774-7322-41a1-a484-743d3aff340a\", [{\"marker\": {\"color\": \"#1D62AE\", \"line\": {\"color\": \"#14A751\", \"width\": 1}}, \"x\": [\"Hoteles Moteles Resorts\", \"Servicios de Transporte y Viajes\", \"Restaurantes\", \"Articulos de Oficina\", \"Servicio Personales (Deliveries, etc.)\", \"Ventas y Servicios de Equipos Electricos\", \"Instituciones Financieras y Aseguradoras\", \"Servicios de Construccion y Decoracion\", \"Otros Servicios\", \"Licores\", \"Musica\", \"Ropas\", \"Tecnologia y Software\", \"Ferreterias y Hogar\", \"Servicios de Salud, Belleza y Recreacion\", \"Servicios Educativos\", \"Vida Nocturna\", \"Tienda De Venta Especializada\", \"Supermercados y Alimentos\", \"Servicios Agropecuarios\", \"Comida Rapida\", \"Servicios de Textiles e Imprenta\", \"Gasolineras y Vehiculos\", \"Cine y Peliculas\", \"Servicios Gubernamentales\", \"Servicios de Comunicacion, Internet y Telecable\"], \"y\": [8.36, 8.05, 7.93, 7.23, 5.52, 4.72, 4.47, 4.44, 3.9, 3.88, 3.64, 3.4, 3.04, 2.94, 2.93, 2.66, 2.56, 2.42, 1.97, 1.91, 1.86, 1.85, 1.75, 1.73, 1.44, 1.13], \"type\": \"bar\", \"uid\": \"071ec7d7-57b7-439b-a0f9-c05e8cb8af0f\"}], {\"autosize\": true, \"title\": {\"text\": \"Porcentaje de Pertenencia por Categoria, Visa Infinite\"}, \"xaxis\": {\"showticklabels\": true, \"title\": {\"font\": {\"color\": \"#14A751\", \"family\": \"Myriad\", \"size\": 20}, \"text\": \"Categoria_Agrupada\"}}, \"yaxis\": {\"title\": {\"font\": {\"color\": \"#14A751\", \"family\": \"Myriad\", \"size\": 20}, \"text\": \"Porcentaje_Total_Categoria (%)\"}}}, {\"showLink\": false, \"linkText\": \"Export to plot.ly\", \"plotlyServerURL\": \"https://plot.ly\"})});</script><script type=\"text/javascript\">window.addEventListener(\"resize\", function(){window._Plotly.Plots.resize(document.getElementById(\"5d66a774-7322-41a1-a484-743d3aff340a\"));});</script>"
      ],
      "text/vnd.plotly.v1+html": [
       "<div id=\"5d66a774-7322-41a1-a484-743d3aff340a\" style=\"height: 525px; width: 100%;\" class=\"plotly-graph-div\"></div><script type=\"text/javascript\">require([\"plotly\"], function(Plotly) { window.PLOTLYENV=window.PLOTLYENV || {};window.PLOTLYENV.BASE_URL=\"https://plot.ly\";Plotly.newPlot(\"5d66a774-7322-41a1-a484-743d3aff340a\", [{\"marker\": {\"color\": \"#1D62AE\", \"line\": {\"color\": \"#14A751\", \"width\": 1}}, \"x\": [\"Hoteles Moteles Resorts\", \"Servicios de Transporte y Viajes\", \"Restaurantes\", \"Articulos de Oficina\", \"Servicio Personales (Deliveries, etc.)\", \"Ventas y Servicios de Equipos Electricos\", \"Instituciones Financieras y Aseguradoras\", \"Servicios de Construccion y Decoracion\", \"Otros Servicios\", \"Licores\", \"Musica\", \"Ropas\", \"Tecnologia y Software\", \"Ferreterias y Hogar\", \"Servicios de Salud, Belleza y Recreacion\", \"Servicios Educativos\", \"Vida Nocturna\", \"Tienda De Venta Especializada\", \"Supermercados y Alimentos\", \"Servicios Agropecuarios\", \"Comida Rapida\", \"Servicios de Textiles e Imprenta\", \"Gasolineras y Vehiculos\", \"Cine y Peliculas\", \"Servicios Gubernamentales\", \"Servicios de Comunicacion, Internet y Telecable\"], \"y\": [8.36, 8.05, 7.93, 7.23, 5.52, 4.72, 4.47, 4.44, 3.9, 3.88, 3.64, 3.4, 3.04, 2.94, 2.93, 2.66, 2.56, 2.42, 1.97, 1.91, 1.86, 1.85, 1.75, 1.73, 1.44, 1.13], \"type\": \"bar\", \"uid\": \"071ec7d7-57b7-439b-a0f9-c05e8cb8af0f\"}], {\"autosize\": true, \"title\": {\"text\": \"Porcentaje de Pertenencia por Categoria, Visa Infinite\"}, \"xaxis\": {\"showticklabels\": true, \"title\": {\"font\": {\"color\": \"#14A751\", \"family\": \"Myriad\", \"size\": 20}, \"text\": \"Categoria_Agrupada\"}}, \"yaxis\": {\"title\": {\"font\": {\"color\": \"#14A751\", \"family\": \"Myriad\", \"size\": 20}, \"text\": \"Porcentaje_Total_Categoria (%)\"}}}, {\"showLink\": false, \"linkText\": \"Export to plot.ly\", \"plotlyServerURL\": \"https://plot.ly\"})});</script><script type=\"text/javascript\">window.addEventListener(\"resize\", function(){window._Plotly.Plots.resize(document.getElementById(\"5d66a774-7322-41a1-a484-743d3aff340a\"));});</script>"
      ]
     },
     "metadata": {},
     "output_type": "display_data"
    }
   ],
   "source": [
    "bar_plotly_categoria_tipo_tarjeta(value_counts_df,\"VISA INFINITE\",\"Porcentaje_Total_Categoria (%)\"\n",
    "                                  ,\"Porcentaje de Pertenencia por Categoria, Visa Infinite\")"
   ]
  },
  {
   "cell_type": "code",
   "execution_count": 64,
   "metadata": {
    "slideshow": {
     "slide_type": "subslide"
    }
   },
   "outputs": [
    {
     "data": {
      "application/vnd.plotly.v1+json": {
       "config": {
        "linkText": "Export to plot.ly",
        "plotlyServerURL": "https://plot.ly",
        "showLink": false
       },
       "data": [
        {
         "marker": {
          "color": "#1D62AE",
          "line": {
           "color": "#14A751",
           "width": 1
          }
         },
         "type": "bar",
         "uid": "7ac52c9d-17a0-48bd-86bb-034bf6c2e75f",
         "x": [
          "Servicios de Textiles e Imprenta",
          "Servicios de Construccion y Decoracion",
          "Ventas y Servicios de Equipos Electricos",
          "Articulos de Oficina",
          "Tecnologia y Software",
          "Instituciones Financieras y Aseguradoras",
          "Hoteles Moteles Resorts",
          "Restaurantes",
          "Ferreterias y Hogar",
          "Servicios de Transporte y Viajes",
          "Otros Servicios",
          "Servicio Personales (Deliveries, etc.)",
          "Servicios Gubernamentales",
          "Licores",
          "Musica",
          "Gasolineras y Vehiculos",
          "Tienda De Venta Especializada",
          "Servicios de Comunicacion, Internet y Telecable",
          "Supermercados y Alimentos",
          "Servicios Agropecuarios",
          "Comida Rapida",
          "Ropas",
          "Vida Nocturna",
          "Servicios de Salud, Belleza y Recreacion",
          "Servicios Educativos",
          "Cine y Peliculas"
         ],
         "y": [
          5.56,
          4.44,
          3.59,
          2.83,
          2.74,
          2.2,
          1.8,
          1.62,
          1.55,
          1.54,
          1.4,
          1.38,
          1.1,
          1.07,
          1,
          0.77,
          0.67,
          0.67,
          0.53,
          0.48,
          0.44,
          0.42,
          0.37,
          0.34,
          0.26,
          0.22
         ]
        }
       ],
       "layout": {
        "autosize": true,
        "title": {
         "text": "Porcentaje de Pertenencia por Categoria, Visa Empresarial"
        },
        "xaxis": {
         "showticklabels": true,
         "title": {
          "font": {
           "color": "#14A751",
           "family": "Myriad",
           "size": 20
          },
          "text": "Categoria_Agrupada"
         }
        },
        "yaxis": {
         "title": {
          "font": {
           "color": "#14A751",
           "family": "Myriad",
           "size": 20
          },
          "text": "Porcentaje_Total_Categoria (%)"
         }
        }
       }
      },
      "text/html": [
       "<div id=\"a3446156-64f6-44dc-a543-6336625c1725\" style=\"height: 525px; width: 100%;\" class=\"plotly-graph-div\"></div><script type=\"text/javascript\">require([\"plotly\"], function(Plotly) { window.PLOTLYENV=window.PLOTLYENV || {};window.PLOTLYENV.BASE_URL=\"https://plot.ly\";Plotly.newPlot(\"a3446156-64f6-44dc-a543-6336625c1725\", [{\"marker\": {\"color\": \"#1D62AE\", \"line\": {\"color\": \"#14A751\", \"width\": 1}}, \"x\": [\"Servicios de Textiles e Imprenta\", \"Servicios de Construccion y Decoracion\", \"Ventas y Servicios de Equipos Electricos\", \"Articulos de Oficina\", \"Tecnologia y Software\", \"Instituciones Financieras y Aseguradoras\", \"Hoteles Moteles Resorts\", \"Restaurantes\", \"Ferreterias y Hogar\", \"Servicios de Transporte y Viajes\", \"Otros Servicios\", \"Servicio Personales (Deliveries, etc.)\", \"Servicios Gubernamentales\", \"Licores\", \"Musica\", \"Gasolineras y Vehiculos\", \"Tienda De Venta Especializada\", \"Servicios de Comunicacion, Internet y Telecable\", \"Supermercados y Alimentos\", \"Servicios Agropecuarios\", \"Comida Rapida\", \"Ropas\", \"Vida Nocturna\", \"Servicios de Salud, Belleza y Recreacion\", \"Servicios Educativos\", \"Cine y Peliculas\"], \"y\": [5.56, 4.44, 3.59, 2.83, 2.74, 2.2, 1.8, 1.62, 1.55, 1.54, 1.4, 1.38, 1.1, 1.07, 1.0, 0.77, 0.67, 0.67, 0.53, 0.48, 0.44, 0.42, 0.37, 0.34, 0.26, 0.22], \"type\": \"bar\", \"uid\": \"7ac52c9d-17a0-48bd-86bb-034bf6c2e75f\"}], {\"autosize\": true, \"title\": {\"text\": \"Porcentaje de Pertenencia por Categoria, Visa Empresarial\"}, \"xaxis\": {\"showticklabels\": true, \"title\": {\"font\": {\"color\": \"#14A751\", \"family\": \"Myriad\", \"size\": 20}, \"text\": \"Categoria_Agrupada\"}}, \"yaxis\": {\"title\": {\"font\": {\"color\": \"#14A751\", \"family\": \"Myriad\", \"size\": 20}, \"text\": \"Porcentaje_Total_Categoria (%)\"}}}, {\"showLink\": false, \"linkText\": \"Export to plot.ly\", \"plotlyServerURL\": \"https://plot.ly\"})});</script><script type=\"text/javascript\">window.addEventListener(\"resize\", function(){window._Plotly.Plots.resize(document.getElementById(\"a3446156-64f6-44dc-a543-6336625c1725\"));});</script>"
      ],
      "text/vnd.plotly.v1+html": [
       "<div id=\"a3446156-64f6-44dc-a543-6336625c1725\" style=\"height: 525px; width: 100%;\" class=\"plotly-graph-div\"></div><script type=\"text/javascript\">require([\"plotly\"], function(Plotly) { window.PLOTLYENV=window.PLOTLYENV || {};window.PLOTLYENV.BASE_URL=\"https://plot.ly\";Plotly.newPlot(\"a3446156-64f6-44dc-a543-6336625c1725\", [{\"marker\": {\"color\": \"#1D62AE\", \"line\": {\"color\": \"#14A751\", \"width\": 1}}, \"x\": [\"Servicios de Textiles e Imprenta\", \"Servicios de Construccion y Decoracion\", \"Ventas y Servicios de Equipos Electricos\", \"Articulos de Oficina\", \"Tecnologia y Software\", \"Instituciones Financieras y Aseguradoras\", \"Hoteles Moteles Resorts\", \"Restaurantes\", \"Ferreterias y Hogar\", \"Servicios de Transporte y Viajes\", \"Otros Servicios\", \"Servicio Personales (Deliveries, etc.)\", \"Servicios Gubernamentales\", \"Licores\", \"Musica\", \"Gasolineras y Vehiculos\", \"Tienda De Venta Especializada\", \"Servicios de Comunicacion, Internet y Telecable\", \"Supermercados y Alimentos\", \"Servicios Agropecuarios\", \"Comida Rapida\", \"Ropas\", \"Vida Nocturna\", \"Servicios de Salud, Belleza y Recreacion\", \"Servicios Educativos\", \"Cine y Peliculas\"], \"y\": [5.56, 4.44, 3.59, 2.83, 2.74, 2.2, 1.8, 1.62, 1.55, 1.54, 1.4, 1.38, 1.1, 1.07, 1.0, 0.77, 0.67, 0.67, 0.53, 0.48, 0.44, 0.42, 0.37, 0.34, 0.26, 0.22], \"type\": \"bar\", \"uid\": \"7ac52c9d-17a0-48bd-86bb-034bf6c2e75f\"}], {\"autosize\": true, \"title\": {\"text\": \"Porcentaje de Pertenencia por Categoria, Visa Empresarial\"}, \"xaxis\": {\"showticklabels\": true, \"title\": {\"font\": {\"color\": \"#14A751\", \"family\": \"Myriad\", \"size\": 20}, \"text\": \"Categoria_Agrupada\"}}, \"yaxis\": {\"title\": {\"font\": {\"color\": \"#14A751\", \"family\": \"Myriad\", \"size\": 20}, \"text\": \"Porcentaje_Total_Categoria (%)\"}}}, {\"showLink\": false, \"linkText\": \"Export to plot.ly\", \"plotlyServerURL\": \"https://plot.ly\"})});</script><script type=\"text/javascript\">window.addEventListener(\"resize\", function(){window._Plotly.Plots.resize(document.getElementById(\"a3446156-64f6-44dc-a543-6336625c1725\"));});</script>"
      ]
     },
     "metadata": {},
     "output_type": "display_data"
    }
   ],
   "source": [
    "bar_plotly_categoria_tipo_tarjeta(value_counts_df,\"VISA EMPRESARIAL\",\"Porcentaje_Total_Categoria (%)\"\n",
    "                                  ,\"Porcentaje de Pertenencia por Categoria, Visa Empresarial\")"
   ]
  },
  {
   "cell_type": "code",
   "execution_count": 65,
   "metadata": {
    "slideshow": {
     "slide_type": "subslide"
    }
   },
   "outputs": [
    {
     "data": {
      "application/vnd.plotly.v1+json": {
       "config": {
        "linkText": "Export to plot.ly",
        "plotlyServerURL": "https://plot.ly",
        "showLink": false
       },
       "data": [
        {
         "marker": {
          "color": "#1D62AE",
          "line": {
           "color": "#14A751",
           "width": 1
          }
         },
         "type": "bar",
         "uid": "3fb0b46f-cc0a-449e-9d2b-f862963ce9e5",
         "x": [
          "Cine y Peliculas",
          "Vida Nocturna",
          "Comida Rapida",
          "Musica",
          "Licores",
          "Servicios Educativos",
          "Otros Servicios",
          "Tecnologia y Software",
          "Ropas",
          "Restaurantes",
          "Articulos de Oficina",
          "Gasolineras y Vehiculos",
          "Tienda De Venta Especializada",
          "Supermercados y Alimentos",
          "Servicios de Salud, Belleza y Recreacion",
          "Servicios de Comunicacion, Internet y Telecable",
          "Servicio Personales (Deliveries, etc.)",
          "Hoteles Moteles Resorts",
          "Servicios Gubernamentales",
          "Ferreterias y Hogar",
          "Servicios Agropecuarios",
          "Servicios de Transporte y Viajes",
          "Ventas y Servicios de Equipos Electricos",
          "Instituciones Financieras y Aseguradoras"
         ],
         "y": [
          9.5,
          6.59,
          6.39,
          5.45,
          4.54,
          4.23,
          3.71,
          3.35,
          3.25,
          3.24,
          3.14,
          2.99,
          2.99,
          2.95,
          2.94,
          2.77,
          2.76,
          2.75,
          1.88,
          1.76,
          1.44,
          1.44,
          1.44,
          0.66
         ]
        }
       ],
       "layout": {
        "autosize": true,
        "title": {
         "text": "Porcentaje de Pertenencia por Categoria, Credito Joven"
        },
        "xaxis": {
         "showticklabels": true,
         "title": {
          "font": {
           "color": "#14A751",
           "family": "Myriad",
           "size": 20
          },
          "text": "Categoria_Agrupada"
         }
        },
        "yaxis": {
         "title": {
          "font": {
           "color": "#14A751",
           "family": "Myriad",
           "size": 20
          },
          "text": "Porcentaje_Total_Categoria (%)"
         }
        }
       }
      },
      "text/html": [
       "<div id=\"b1361b50-5dbb-4fe8-bf7d-a09f4d02363f\" style=\"height: 525px; width: 100%;\" class=\"plotly-graph-div\"></div><script type=\"text/javascript\">require([\"plotly\"], function(Plotly) { window.PLOTLYENV=window.PLOTLYENV || {};window.PLOTLYENV.BASE_URL=\"https://plot.ly\";Plotly.newPlot(\"b1361b50-5dbb-4fe8-bf7d-a09f4d02363f\", [{\"marker\": {\"color\": \"#1D62AE\", \"line\": {\"color\": \"#14A751\", \"width\": 1}}, \"x\": [\"Cine y Peliculas\", \"Vida Nocturna\", \"Comida Rapida\", \"Musica\", \"Licores\", \"Servicios Educativos\", \"Otros Servicios\", \"Tecnologia y Software\", \"Ropas\", \"Restaurantes\", \"Articulos de Oficina\", \"Gasolineras y Vehiculos\", \"Tienda De Venta Especializada\", \"Supermercados y Alimentos\", \"Servicios de Salud, Belleza y Recreacion\", \"Servicios de Comunicacion, Internet y Telecable\", \"Servicio Personales (Deliveries, etc.)\", \"Hoteles Moteles Resorts\", \"Servicios Gubernamentales\", \"Ferreterias y Hogar\", \"Servicios Agropecuarios\", \"Servicios de Transporte y Viajes\", \"Ventas y Servicios de Equipos Electricos\", \"Instituciones Financieras y Aseguradoras\"], \"y\": [9.5, 6.59, 6.39, 5.45, 4.54, 4.23, 3.71, 3.35, 3.25, 3.24, 3.14, 2.99, 2.99, 2.95, 2.94, 2.77, 2.76, 2.75, 1.88, 1.76, 1.44, 1.44, 1.44, 0.66], \"type\": \"bar\", \"uid\": \"3fb0b46f-cc0a-449e-9d2b-f862963ce9e5\"}], {\"autosize\": true, \"title\": {\"text\": \"Porcentaje de Pertenencia por Categoria, Credito Joven\"}, \"xaxis\": {\"showticklabels\": true, \"title\": {\"font\": {\"color\": \"#14A751\", \"family\": \"Myriad\", \"size\": 20}, \"text\": \"Categoria_Agrupada\"}}, \"yaxis\": {\"title\": {\"font\": {\"color\": \"#14A751\", \"family\": \"Myriad\", \"size\": 20}, \"text\": \"Porcentaje_Total_Categoria (%)\"}}}, {\"showLink\": false, \"linkText\": \"Export to plot.ly\", \"plotlyServerURL\": \"https://plot.ly\"})});</script><script type=\"text/javascript\">window.addEventListener(\"resize\", function(){window._Plotly.Plots.resize(document.getElementById(\"b1361b50-5dbb-4fe8-bf7d-a09f4d02363f\"));});</script>"
      ],
      "text/vnd.plotly.v1+html": [
       "<div id=\"b1361b50-5dbb-4fe8-bf7d-a09f4d02363f\" style=\"height: 525px; width: 100%;\" class=\"plotly-graph-div\"></div><script type=\"text/javascript\">require([\"plotly\"], function(Plotly) { window.PLOTLYENV=window.PLOTLYENV || {};window.PLOTLYENV.BASE_URL=\"https://plot.ly\";Plotly.newPlot(\"b1361b50-5dbb-4fe8-bf7d-a09f4d02363f\", [{\"marker\": {\"color\": \"#1D62AE\", \"line\": {\"color\": \"#14A751\", \"width\": 1}}, \"x\": [\"Cine y Peliculas\", \"Vida Nocturna\", \"Comida Rapida\", \"Musica\", \"Licores\", \"Servicios Educativos\", \"Otros Servicios\", \"Tecnologia y Software\", \"Ropas\", \"Restaurantes\", \"Articulos de Oficina\", \"Gasolineras y Vehiculos\", \"Tienda De Venta Especializada\", \"Supermercados y Alimentos\", \"Servicios de Salud, Belleza y Recreacion\", \"Servicios de Comunicacion, Internet y Telecable\", \"Servicio Personales (Deliveries, etc.)\", \"Hoteles Moteles Resorts\", \"Servicios Gubernamentales\", \"Ferreterias y Hogar\", \"Servicios Agropecuarios\", \"Servicios de Transporte y Viajes\", \"Ventas y Servicios de Equipos Electricos\", \"Instituciones Financieras y Aseguradoras\"], \"y\": [9.5, 6.59, 6.39, 5.45, 4.54, 4.23, 3.71, 3.35, 3.25, 3.24, 3.14, 2.99, 2.99, 2.95, 2.94, 2.77, 2.76, 2.75, 1.88, 1.76, 1.44, 1.44, 1.44, 0.66], \"type\": \"bar\", \"uid\": \"3fb0b46f-cc0a-449e-9d2b-f862963ce9e5\"}], {\"autosize\": true, \"title\": {\"text\": \"Porcentaje de Pertenencia por Categoria, Credito Joven\"}, \"xaxis\": {\"showticklabels\": true, \"title\": {\"font\": {\"color\": \"#14A751\", \"family\": \"Myriad\", \"size\": 20}, \"text\": \"Categoria_Agrupada\"}}, \"yaxis\": {\"title\": {\"font\": {\"color\": \"#14A751\", \"family\": \"Myriad\", \"size\": 20}, \"text\": \"Porcentaje_Total_Categoria (%)\"}}}, {\"showLink\": false, \"linkText\": \"Export to plot.ly\", \"plotlyServerURL\": \"https://plot.ly\"})});</script><script type=\"text/javascript\">window.addEventListener(\"resize\", function(){window._Plotly.Plots.resize(document.getElementById(\"b1361b50-5dbb-4fe8-bf7d-a09f4d02363f\"));});</script>"
      ]
     },
     "metadata": {},
     "output_type": "display_data"
    }
   ],
   "source": [
    "bar_plotly_categoria_tipo_tarjeta(value_counts_df,\"CREDITO JOVEN\",\"Porcentaje_Total_Categoria (%)\"\n",
    "                                  ,\"Porcentaje de Pertenencia por Categoria, Credito Joven\")"
   ]
  },
  {
   "cell_type": "code",
   "execution_count": 66,
   "metadata": {
    "slideshow": {
     "slide_type": "subslide"
    }
   },
   "outputs": [
    {
     "data": {
      "application/vnd.plotly.v1+json": {
       "config": {
        "linkText": "Export to plot.ly",
        "plotlyServerURL": "https://plot.ly",
        "showLink": false
       },
       "data": [
        {
         "marker": {
          "color": "#1D62AE",
          "line": {
           "color": "#14A751",
           "width": 1
          }
         },
         "type": "bar",
         "uid": "fa3c6218-0877-4262-a59d-6048a7b0a7ce",
         "x": [
          "Servicios Agropecuarios",
          "Servicios de Construccion y Decoracion",
          "Servicios Educativos",
          "Ferreterias y Hogar",
          "Tecnologia y Software",
          "Ventas y Servicios de Equipos Electricos",
          "Licores",
          "Hoteles Moteles Resorts",
          "Vida Nocturna",
          "Instituciones Financieras y Aseguradoras",
          "Supermercados y Alimentos",
          "Otros Servicios",
          "Gasolineras y Vehiculos",
          "Servicios de Salud, Belleza y Recreacion",
          "Comida Rapida",
          "Cine y Peliculas",
          "Ropas",
          "Articulos de Oficina",
          "Servicios Gubernamentales",
          "Servicios de Comunicacion, Internet y Telecable",
          "Restaurantes",
          "Servicios de Transporte y Viajes",
          "Musica",
          "Tienda De Venta Especializada",
          "Servicio Personales (Deliveries, etc.)",
          "Servicios de Textiles e Imprenta"
         ],
         "y": [
          8.61,
          7.78,
          7.3,
          7.11,
          7,
          6.26,
          5.61,
          5.08,
          5.01,
          4.99,
          4.88,
          4.81,
          4.28,
          4.17,
          4.12,
          4.1,
          4.09,
          4.09,
          3.69,
          3.58,
          3.34,
          2.88,
          2.55,
          2.49,
          2.07,
          1.85
         ]
        }
       ],
       "layout": {
        "autosize": true,
        "title": {
         "text": "Porcentaje de Pertenencia por Categoria, Multicredito"
        },
        "xaxis": {
         "showticklabels": true,
         "title": {
          "font": {
           "color": "#14A751",
           "family": "Myriad",
           "size": 20
          },
          "text": "Categoria_Agrupada"
         }
        },
        "yaxis": {
         "title": {
          "font": {
           "color": "#14A751",
           "family": "Myriad",
           "size": 20
          },
          "text": "Porcentaje_Total_Categoria (%)"
         }
        }
       }
      },
      "text/html": [
       "<div id=\"253de59b-503b-483d-9655-3b5351c90116\" style=\"height: 525px; width: 100%;\" class=\"plotly-graph-div\"></div><script type=\"text/javascript\">require([\"plotly\"], function(Plotly) { window.PLOTLYENV=window.PLOTLYENV || {};window.PLOTLYENV.BASE_URL=\"https://plot.ly\";Plotly.newPlot(\"253de59b-503b-483d-9655-3b5351c90116\", [{\"marker\": {\"color\": \"#1D62AE\", \"line\": {\"color\": \"#14A751\", \"width\": 1}}, \"x\": [\"Servicios Agropecuarios\", \"Servicios de Construccion y Decoracion\", \"Servicios Educativos\", \"Ferreterias y Hogar\", \"Tecnologia y Software\", \"Ventas y Servicios de Equipos Electricos\", \"Licores\", \"Hoteles Moteles Resorts\", \"Vida Nocturna\", \"Instituciones Financieras y Aseguradoras\", \"Supermercados y Alimentos\", \"Otros Servicios\", \"Gasolineras y Vehiculos\", \"Servicios de Salud, Belleza y Recreacion\", \"Comida Rapida\", \"Cine y Peliculas\", \"Ropas\", \"Articulos de Oficina\", \"Servicios Gubernamentales\", \"Servicios de Comunicacion, Internet y Telecable\", \"Restaurantes\", \"Servicios de Transporte y Viajes\", \"Musica\", \"Tienda De Venta Especializada\", \"Servicio Personales (Deliveries, etc.)\", \"Servicios de Textiles e Imprenta\"], \"y\": [8.61, 7.78, 7.3, 7.11, 7.0, 6.26, 5.61, 5.08, 5.01, 4.99, 4.88, 4.81, 4.28, 4.17, 4.12, 4.1, 4.09, 4.09, 3.69, 3.58, 3.34, 2.88, 2.55, 2.49, 2.07, 1.85], \"type\": \"bar\", \"uid\": \"fa3c6218-0877-4262-a59d-6048a7b0a7ce\"}], {\"autosize\": true, \"title\": {\"text\": \"Porcentaje de Pertenencia por Categoria, Multicredito\"}, \"xaxis\": {\"showticklabels\": true, \"title\": {\"font\": {\"color\": \"#14A751\", \"family\": \"Myriad\", \"size\": 20}, \"text\": \"Categoria_Agrupada\"}}, \"yaxis\": {\"title\": {\"font\": {\"color\": \"#14A751\", \"family\": \"Myriad\", \"size\": 20}, \"text\": \"Porcentaje_Total_Categoria (%)\"}}}, {\"showLink\": false, \"linkText\": \"Export to plot.ly\", \"plotlyServerURL\": \"https://plot.ly\"})});</script><script type=\"text/javascript\">window.addEventListener(\"resize\", function(){window._Plotly.Plots.resize(document.getElementById(\"253de59b-503b-483d-9655-3b5351c90116\"));});</script>"
      ],
      "text/vnd.plotly.v1+html": [
       "<div id=\"253de59b-503b-483d-9655-3b5351c90116\" style=\"height: 525px; width: 100%;\" class=\"plotly-graph-div\"></div><script type=\"text/javascript\">require([\"plotly\"], function(Plotly) { window.PLOTLYENV=window.PLOTLYENV || {};window.PLOTLYENV.BASE_URL=\"https://plot.ly\";Plotly.newPlot(\"253de59b-503b-483d-9655-3b5351c90116\", [{\"marker\": {\"color\": \"#1D62AE\", \"line\": {\"color\": \"#14A751\", \"width\": 1}}, \"x\": [\"Servicios Agropecuarios\", \"Servicios de Construccion y Decoracion\", \"Servicios Educativos\", \"Ferreterias y Hogar\", \"Tecnologia y Software\", \"Ventas y Servicios de Equipos Electricos\", \"Licores\", \"Hoteles Moteles Resorts\", \"Vida Nocturna\", \"Instituciones Financieras y Aseguradoras\", \"Supermercados y Alimentos\", \"Otros Servicios\", \"Gasolineras y Vehiculos\", \"Servicios de Salud, Belleza y Recreacion\", \"Comida Rapida\", \"Cine y Peliculas\", \"Ropas\", \"Articulos de Oficina\", \"Servicios Gubernamentales\", \"Servicios de Comunicacion, Internet y Telecable\", \"Restaurantes\", \"Servicios de Transporte y Viajes\", \"Musica\", \"Tienda De Venta Especializada\", \"Servicio Personales (Deliveries, etc.)\", \"Servicios de Textiles e Imprenta\"], \"y\": [8.61, 7.78, 7.3, 7.11, 7.0, 6.26, 5.61, 5.08, 5.01, 4.99, 4.88, 4.81, 4.28, 4.17, 4.12, 4.1, 4.09, 4.09, 3.69, 3.58, 3.34, 2.88, 2.55, 2.49, 2.07, 1.85], \"type\": \"bar\", \"uid\": \"fa3c6218-0877-4262-a59d-6048a7b0a7ce\"}], {\"autosize\": true, \"title\": {\"text\": \"Porcentaje de Pertenencia por Categoria, Multicredito\"}, \"xaxis\": {\"showticklabels\": true, \"title\": {\"font\": {\"color\": \"#14A751\", \"family\": \"Myriad\", \"size\": 20}, \"text\": \"Categoria_Agrupada\"}}, \"yaxis\": {\"title\": {\"font\": {\"color\": \"#14A751\", \"family\": \"Myriad\", \"size\": 20}, \"text\": \"Porcentaje_Total_Categoria (%)\"}}}, {\"showLink\": false, \"linkText\": \"Export to plot.ly\", \"plotlyServerURL\": \"https://plot.ly\"})});</script><script type=\"text/javascript\">window.addEventListener(\"resize\", function(){window._Plotly.Plots.resize(document.getElementById(\"253de59b-503b-483d-9655-3b5351c90116\"));});</script>"
      ]
     },
     "metadata": {},
     "output_type": "display_data"
    }
   ],
   "source": [
    "bar_plotly_categoria_tipo_tarjeta(value_counts_df,\"MULTICREDITO\",\"Porcentaje_Total_Categoria (%)\"\n",
    "                                  ,\"Porcentaje de Pertenencia por Categoria, Multicredito\")"
   ]
  },
  {
   "cell_type": "markdown",
   "metadata": {
    "slideshow": {
     "slide_type": "slide"
    }
   },
   "source": [
    "# Asignación de Preferencias por Cliente"
   ]
  },
  {
   "cell_type": "markdown",
   "metadata": {
    "slideshow": {
     "slide_type": "subslide"
    }
   },
   "source": [
    "Como fue mencionado anteriormente, se utilizó la metrica del RFM para determinar las categorias de comercio finales preferentes de un cliente. Esta vez, se ignora totalmente el tipo de producto, y se concentra totalmente en el cliente."
   ]
  },
  {
   "cell_type": "code",
   "execution_count": 67,
   "metadata": {
    "slideshow": {
     "slide_type": "skip"
    }
   },
   "outputs": [],
   "source": [
    "def conseguir_top_n_comercios_por_cliente_rfm(transacciones,\n",
    "                                                   interes_group=[\"Codigo_Cliente\",\"Categoria_Agrupada\"]):\n",
    "    transacciones_agrupadas = transacciones.groupby(interes_group)[valores_medida].sum().reset_index()\n",
    "    transacciones_agrupadas['Recencia'] = transacciones.groupby(interes_group)['Recencia'].max().reset_index()['Recencia']\n",
    "    transacciones_agrupadas['Score_RFM'] = crear_score_RFM(transacciones_agrupadas) \n",
    "    top_n_comercios_rfm = get_top_n_comercios_medida(transacciones_agrupadas,'Score_RFM')\n",
    "    return top_n_comercios_rfm\n",
    "\n"
   ]
  },
  {
   "cell_type": "code",
   "execution_count": 68,
   "metadata": {
    "slideshow": {
     "slide_type": "skip"
    }
   },
   "outputs": [],
   "source": [
    "identificador_group = ['Codigo_Cliente']\n",
    "top_n_comercios_rfm_cliente = conseguir_top_n_comercios_por_cliente_rfm(transacciones)\n",
    "qgrid_preferencias_cliente = qgrid.show_grid(top_n_comercios_rfm_cliente[['Codigo_Cliente','Categoria_Agrupada',\n",
    "                                                                         'Score_RFM']])"
   ]
  },
  {
   "cell_type": "code",
   "execution_count": 69,
   "metadata": {
    "slideshow": {
     "slide_type": "subslide"
    }
   },
   "outputs": [
    {
     "data": {
      "application/vnd.jupyter.widget-view+json": {
       "model_id": "b823e42e9a0840cc987b7e1782c207c5",
       "version_major": 2,
       "version_minor": 0
      },
      "text/plain": [
       "QgridWidget(grid_options={'fullWidthRows': True, 'syncColumnCellResize': True, 'forceFitColumns': True, 'defau…"
      ]
     },
     "metadata": {},
     "output_type": "display_data"
    }
   ],
   "source": [
    "qgrid_preferencias_cliente"
   ]
  },
  {
   "cell_type": "markdown",
   "metadata": {
    "slideshow": {
     "slide_type": "slide"
    }
   },
   "source": [
    "# Visualización RFM"
   ]
  },
  {
   "cell_type": "markdown",
   "metadata": {
    "slideshow": {
     "slide_type": "subslide"
    }
   },
   "source": [
    "Con los pesos de Recencia, Frecuencia y Valor Monetario de las categorias de comercio, procedimos a crear visualizaciones que mostraran, tanto para los comercios como para los clientes, su valor completo para el negocio según su transaccionalidad por tarjeta. Primero, RFM por categoria de Comercio."
   ]
  },
  {
   "cell_type": "code",
   "execution_count": 70,
   "metadata": {
    "slideshow": {
     "slide_type": "skip"
    }
   },
   "outputs": [
    {
     "data": {
      "text/html": [
       "<div>\n",
       "<style scoped>\n",
       "    .dataframe tbody tr th:only-of-type {\n",
       "        vertical-align: middle;\n",
       "    }\n",
       "\n",
       "    .dataframe tbody tr th {\n",
       "        vertical-align: top;\n",
       "    }\n",
       "\n",
       "    .dataframe thead th {\n",
       "        text-align: right;\n",
       "    }\n",
       "</style>\n",
       "<table border=\"1\" class=\"dataframe\">\n",
       "  <thead>\n",
       "    <tr style=\"text-align: right;\">\n",
       "      <th></th>\n",
       "      <th>Categoria_Agrupada</th>\n",
       "      <th>Cantidad_RFM</th>\n",
       "      <th>Valor_Monetario_RFM</th>\n",
       "      <th>Recencia</th>\n",
       "      <th>Cantidad_Clientes</th>\n",
       "    </tr>\n",
       "  </thead>\n",
       "  <tbody>\n",
       "    <tr>\n",
       "      <th>0</th>\n",
       "      <td>Alquiler de Automoviles</td>\n",
       "      <td>1.000000</td>\n",
       "      <td>7.444444</td>\n",
       "      <td>5.111111</td>\n",
       "      <td>0.0</td>\n",
       "    </tr>\n",
       "    <tr>\n",
       "      <th>1</th>\n",
       "      <td>Articulos de Oficina</td>\n",
       "      <td>2.083564</td>\n",
       "      <td>5.234116</td>\n",
       "      <td>6.544890</td>\n",
       "      <td>250.0</td>\n",
       "    </tr>\n",
       "    <tr>\n",
       "      <th>2</th>\n",
       "      <td>Cine y Peliculas</td>\n",
       "      <td>1.693889</td>\n",
       "      <td>2.510280</td>\n",
       "      <td>6.092233</td>\n",
       "      <td>320.0</td>\n",
       "    </tr>\n",
       "    <tr>\n",
       "      <th>3</th>\n",
       "      <td>Comida Rapida</td>\n",
       "      <td>2.388207</td>\n",
       "      <td>3.512179</td>\n",
       "      <td>7.142344</td>\n",
       "      <td>5115.0</td>\n",
       "    </tr>\n",
       "    <tr>\n",
       "      <th>4</th>\n",
       "      <td>Ferreterias y Hogar</td>\n",
       "      <td>1.967926</td>\n",
       "      <td>5.834505</td>\n",
       "      <td>6.840510</td>\n",
       "      <td>5226.0</td>\n",
       "    </tr>\n",
       "  </tbody>\n",
       "</table>\n",
       "</div>"
      ],
      "text/plain": [
       "        Categoria_Agrupada  Cantidad_RFM  Valor_Monetario_RFM  Recencia  \\\n",
       "0  Alquiler de Automoviles      1.000000             7.444444  5.111111   \n",
       "1     Articulos de Oficina      2.083564             5.234116  6.544890   \n",
       "2         Cine y Peliculas      1.693889             2.510280  6.092233   \n",
       "3            Comida Rapida      2.388207             3.512179  7.142344   \n",
       "4      Ferreterias y Hogar      1.967926             5.834505  6.840510   \n",
       "\n",
       "   Cantidad_Clientes  \n",
       "0                0.0  \n",
       "1              250.0  \n",
       "2              320.0  \n",
       "3             5115.0  \n",
       "4             5226.0  "
      ]
     },
     "execution_count": 70,
     "metadata": {},
     "output_type": "execute_result"
    }
   ],
   "source": [
    "rfm_stats = transacciones_agrupadas.groupby('Categoria_Agrupada'\n",
    "                               )[['Cantidad_RFM','Valor_Monetario_RFM','Recencia']].mean()\n",
    "rfm_stats['Cantidad_Clientes'] = top_n_comercios_rfm_cliente.groupby('Categoria_Agrupada'\n",
    "                                                                    )['Codigo_Cliente'\n",
    "                                                                     ].count()\n",
    "rfm_stats['Cantidad_Clientes'] = rfm_stats['Cantidad_Clientes'].fillna(0)\n",
    "rfm_stats = rfm_stats.reset_index()\n",
    "rfm_stats.head()"
   ]
  },
  {
   "cell_type": "code",
   "execution_count": 71,
   "metadata": {
    "slideshow": {
     "slide_type": "skip"
    }
   },
   "outputs": [
    {
     "data": {
      "text/html": [
       "<div>\n",
       "<style scoped>\n",
       "    .dataframe tbody tr th:only-of-type {\n",
       "        vertical-align: middle;\n",
       "    }\n",
       "\n",
       "    .dataframe tbody tr th {\n",
       "        vertical-align: top;\n",
       "    }\n",
       "\n",
       "    .dataframe thead th {\n",
       "        text-align: right;\n",
       "    }\n",
       "</style>\n",
       "<table border=\"1\" class=\"dataframe\">\n",
       "  <thead>\n",
       "    <tr style=\"text-align: right;\">\n",
       "      <th></th>\n",
       "      <th>Categoria_Agrupada</th>\n",
       "      <th>Cantidad_RFM</th>\n",
       "      <th>Valor_Monetario_RFM</th>\n",
       "      <th>Recencia</th>\n",
       "      <th>Cantidad_Clientes</th>\n",
       "      <th>Texto_Plot</th>\n",
       "    </tr>\n",
       "  </thead>\n",
       "  <tbody>\n",
       "    <tr>\n",
       "      <th>0</th>\n",
       "      <td>Alquiler de Automoviles</td>\n",
       "      <td>1.000000</td>\n",
       "      <td>7.444444</td>\n",
       "      <td>5.111111</td>\n",
       "      <td>0.0</td>\n",
       "      <td>Categoria:Alquiler de Automoviles&lt;br&gt;RFM Canti...</td>\n",
       "    </tr>\n",
       "    <tr>\n",
       "      <th>1</th>\n",
       "      <td>Articulos de Oficina</td>\n",
       "      <td>2.083564</td>\n",
       "      <td>5.234116</td>\n",
       "      <td>6.544890</td>\n",
       "      <td>250.0</td>\n",
       "      <td>Categoria:Articulos de Oficina&lt;br&gt;RFM Cantidad...</td>\n",
       "    </tr>\n",
       "    <tr>\n",
       "      <th>2</th>\n",
       "      <td>Cine y Peliculas</td>\n",
       "      <td>1.693889</td>\n",
       "      <td>2.510280</td>\n",
       "      <td>6.092233</td>\n",
       "      <td>320.0</td>\n",
       "      <td>Categoria:Cine y Peliculas&lt;br&gt;RFM Cantidad:1.6...</td>\n",
       "    </tr>\n",
       "    <tr>\n",
       "      <th>3</th>\n",
       "      <td>Comida Rapida</td>\n",
       "      <td>2.388207</td>\n",
       "      <td>3.512179</td>\n",
       "      <td>7.142344</td>\n",
       "      <td>5115.0</td>\n",
       "      <td>Categoria:Comida Rapida&lt;br&gt;RFM Cantidad:2.39&lt;b...</td>\n",
       "    </tr>\n",
       "    <tr>\n",
       "      <th>4</th>\n",
       "      <td>Ferreterias y Hogar</td>\n",
       "      <td>1.967926</td>\n",
       "      <td>5.834505</td>\n",
       "      <td>6.840510</td>\n",
       "      <td>5226.0</td>\n",
       "      <td>Categoria:Ferreterias y Hogar&lt;br&gt;RFM Cantidad:...</td>\n",
       "    </tr>\n",
       "  </tbody>\n",
       "</table>\n",
       "</div>"
      ],
      "text/plain": [
       "        Categoria_Agrupada  Cantidad_RFM  Valor_Monetario_RFM  Recencia  \\\n",
       "0  Alquiler de Automoviles      1.000000             7.444444  5.111111   \n",
       "1     Articulos de Oficina      2.083564             5.234116  6.544890   \n",
       "2         Cine y Peliculas      1.693889             2.510280  6.092233   \n",
       "3            Comida Rapida      2.388207             3.512179  7.142344   \n",
       "4      Ferreterias y Hogar      1.967926             5.834505  6.840510   \n",
       "\n",
       "   Cantidad_Clientes                                         Texto_Plot  \n",
       "0                0.0  Categoria:Alquiler de Automoviles<br>RFM Canti...  \n",
       "1              250.0  Categoria:Articulos de Oficina<br>RFM Cantidad...  \n",
       "2              320.0  Categoria:Cine y Peliculas<br>RFM Cantidad:1.6...  \n",
       "3             5115.0  Categoria:Comida Rapida<br>RFM Cantidad:2.39<b...  \n",
       "4             5226.0  Categoria:Ferreterias y Hogar<br>RFM Cantidad:...  "
      ]
     },
     "execution_count": 71,
     "metadata": {},
     "output_type": "execute_result"
    }
   ],
   "source": [
    "rfm_stats['Texto_Plot'] = (\"Categoria:\" + rfm_stats['Categoria_Agrupada'].astype(str) + \"<br>\" + \n",
    "                           \"RFM Cantidad:\" + rfm_stats['Cantidad_RFM'].round(2).astype(str)  + \"<br>\" + \n",
    "                           \"RFM Recencia:\" + rfm_stats['Recencia'].round(2).astype(str)  + \"<br>\" + \n",
    "                           \"RFM Valor Monetario:\" + rfm_stats['Valor_Monetario_RFM'].round(2).astype(str)  + \"<br>\" + \n",
    "                           \"Clientes:\" + rfm_stats['Cantidad_Clientes'].astype(int).astype(str))\n",
    "rfm_stats.head()"
   ]
  },
  {
   "cell_type": "code",
   "execution_count": 72,
   "metadata": {
    "slideshow": {
     "slide_type": "skip"
    }
   },
   "outputs": [],
   "source": [
    "def crear_scatter_RFM(data,title,size=None):\n",
    "    trace1 = go.Scatter(\n",
    "    x= data.Cantidad_RFM,\n",
    "    y = data.Recencia,\n",
    "    mode='markers',\n",
    "    text=data.Texto_Plot,\n",
    "    marker=dict(\n",
    "        size=  np.log1p(data[size]) * 4 if size else 16,\n",
    "        color = data.Valor_Monetario_RFM, \n",
    "        colorbar=dict(\n",
    "                title='RFM Valor Monetario'\n",
    "            ),\n",
    "        colorscale='Viridis',\n",
    "        showscale=True\n",
    "        )\n",
    "    )\n",
    "\n",
    "    layout = go.Layout(\n",
    "            title=title,\n",
    "        hovermode = 'closest',\n",
    "            autosize=True,\n",
    "            \n",
    "             xaxis=dict(\n",
    "                title=\"RFM Cantidad\",\n",
    "                titlefont=dict(\n",
    "                    family='Myriad',\n",
    "                    size=20,\n",
    "                    color='#14A751'\n",
    "                ),\n",
    "            ),\n",
    "             yaxis=dict(\n",
    "                 title=\"RFM Recencia\",\n",
    "                titlefont=dict(\n",
    "                    family='Myriad',\n",
    "                    size=20,\n",
    "                    color='#14A751'\n",
    "                )\n",
    "            )\n",
    "        )\n",
    "\n",
    "    data = [trace1]\n",
    "    fig = go.Figure(data=data, layout=layout)\n",
    "    ipy(fig)"
   ]
  },
  {
   "cell_type": "markdown",
   "metadata": {
    "slideshow": {
     "slide_type": "subslide"
    }
   },
   "source": [
    "**Nota**: En estos graficos, el eje horizontal representa la cantidad de transacciones pero reducida a su valor RFM, y el eje vertical representa la recencia, mientras más alto más reciente fue la última transacción. Los colores representan el valor monetario, mientras más intenso, mayor monto promedio fue transaccionado. Por último, el tamaño de las burbujas representa la cantidad de clientes que caen en esta categoria."
   ]
  },
  {
   "cell_type": "code",
   "execution_count": 73,
   "metadata": {
    "slideshow": {
     "slide_type": "subslide"
    }
   },
   "outputs": [
    {
     "data": {
      "application/vnd.plotly.v1+json": {
       "config": {
        "linkText": "Export to plot.ly",
        "plotlyServerURL": "https://plot.ly",
        "showLink": false
       },
       "data": [
        {
         "marker": {
          "color": [
           7.444444444444445,
           5.234116022099448,
           2.510279840091376,
           3.5121786197564275,
           5.8345049794961925,
           5.682800966751584,
           5.811320754716981,
           7.242715777899945,
           4.164714630972299,
           4.075646258503402,
           5.011075949367089,
           5.020015495867769,
           5.81721924108854,
           4.2747380675203726,
           4.757655293088364,
           6.605307735742518,
           5.11917168572782,
           5.870978536258903,
           7.118243243243243,
           5.183307648633304,
           4.951898734177215,
           6.0229023526962315,
           6.598755156691033,
           4.60267699894329,
           5.685927999650059,
           5.5978691774033695,
           4.302652459759692
          ],
          "colorbar": {
           "title": {
            "text": "RFM Valor Monetario"
           }
          },
          "colorscale": "Viridis",
          "showscale": true,
          "size": [
           0,
           22.101811756527134,
           23.085764492520063,
           34.160512650794935,
           34.24637111485169,
           39.60012635025095,
           26.783195668233965,
           28.33355139050118,
           27.986725952706156,
           27.169377709883236,
           29.16934870469551,
           33.81530926317767,
           36.69553533986227,
           19.62109911375372,
           20.988096288641945,
           29.930727312618604,
           34.69199857021775,
           37.24508436221849,
           17.577796618689757,
           37.470060185392725,
           16.029332740929885,
           31.671602345311666,
           41.72468117347417,
           25.660387836686382,
           37.598881172550335,
           27.52564521457014,
           27.027729556990213
          ]
         },
         "mode": "markers",
         "text": [
          "Categoria:Alquiler de Automoviles<br>RFM Cantidad:1.0<br>RFM Recencia:5.11<br>RFM Valor Monetario:7.44<br>Clientes:0",
          "Categoria:Articulos de Oficina<br>RFM Cantidad:2.08<br>RFM Recencia:6.54<br>RFM Valor Monetario:5.23<br>Clientes:250",
          "Categoria:Cine y Peliculas<br>RFM Cantidad:1.69<br>RFM Recencia:6.09<br>RFM Valor Monetario:2.51<br>Clientes:320",
          "Categoria:Comida Rapida<br>RFM Cantidad:2.39<br>RFM Recencia:7.14<br>RFM Valor Monetario:3.51<br>Clientes:5115",
          "Categoria:Ferreterias y Hogar<br>RFM Cantidad:1.97<br>RFM Recencia:6.84<br>RFM Valor Monetario:5.83<br>Clientes:5226",
          "Categoria:Gasolineras y Vehiculos<br>RFM Cantidad:2.99<br>RFM Recencia:7.47<br>RFM Valor Monetario:5.68<br>Clientes:19930",
          "Categoria:Hoteles Moteles Resorts<br>RFM Cantidad:1.64<br>RFM Recencia:6.56<br>RFM Valor Monetario:5.81<br>Clientes:808",
          "Categoria:Instituciones Financieras y Aseguradoras<br>RFM Cantidad:1.93<br>RFM Recencia:6.9<br>RFM Valor Monetario:7.24<br>Clientes:1191",
          "Categoria:Licores<br>RFM Cantidad:1.69<br>RFM Recencia:6.71<br>RFM Valor Monetario:4.16<br>Clientes:1092",
          "Categoria:Musica<br>RFM Cantidad:2.25<br>RFM Recencia:7.13<br>RFM Valor Monetario:4.08<br>Clientes:890",
          "Categoria:Otros Servicios<br>RFM Cantidad:1.78<br>RFM Recencia:6.47<br>RFM Valor Monetario:5.01<br>Clientes:1468",
          "Categoria:Restaurantes<br>RFM Cantidad:2.34<br>RFM Recencia:7.1<br>RFM Valor Monetario:5.02<br>Clientes:4692",
          "Categoria:Ropas<br>RFM Cantidad:2.16<br>RFM Recencia:7.28<br>RFM Valor Monetario:5.82<br>Clientes:9641",
          "Categoria:Servicio Personales (Deliveries, etc.)<br>RFM Cantidad:1.62<br>RFM Recencia:6.66<br>RFM Valor Monetario:4.27<br>Clientes:134",
          "Categoria:Servicios Agropecuarios<br>RFM Cantidad:1.54<br>RFM Recencia:6.51<br>RFM Valor Monetario:4.76<br>Clientes:189",
          "Categoria:Servicios Educativos<br>RFM Cantidad:1.66<br>RFM Recencia:6.62<br>RFM Valor Monetario:6.61<br>Clientes:1776",
          "Categoria:Servicios Gubernamentales<br>RFM Cantidad:1.99<br>RFM Recencia:6.97<br>RFM Valor Monetario:5.12<br>Clientes:5842",
          "Categoria:Servicios de Comunicacion, Internet y Telecable<br>RFM Cantidad:2.39<br>RFM Recencia:7.24<br>RFM Valor Monetario:5.87<br>Clientes:11061",
          "Categoria:Servicios de Construccion y Decoracion<br>RFM Cantidad:1.97<br>RFM Recencia:6.27<br>RFM Valor Monetario:7.12<br>Clientes:80",
          "Categoria:Servicios de Salud, Belleza y Recreacion<br>RFM Cantidad:2.51<br>RFM Recencia:7.24<br>RFM Valor Monetario:5.18<br>Clientes:11701",
          "Categoria:Servicios de Textiles e Imprenta<br>RFM Cantidad:1.84<br>RFM Recencia:6.63<br>RFM Valor Monetario:4.95<br>Clientes:54",
          "Categoria:Servicios de Transporte y Viajes<br>RFM Cantidad:2.03<br>RFM Recencia:6.96<br>RFM Valor Monetario:6.02<br>Clientes:2745",
          "Categoria:Supermercados y Alimentos<br>RFM Cantidad:3.43<br>RFM Recencia:7.75<br>RFM Valor Monetario:6.6<br>Clientes:33899",
          "Categoria:Tecnologia y Software<br>RFM Cantidad:1.76<br>RFM Recencia:6.6<br>RFM Valor Monetario:4.6<br>Clientes:610",
          "Categoria:Tienda De Venta Especializada<br>RFM Cantidad:2.64<br>RFM Recencia:7.32<br>RFM Valor Monetario:5.69<br>Clientes:12084",
          "Categoria:Ventas y Servicios de Equipos Electricos<br>RFM Cantidad:1.75<br>RFM Recencia:6.77<br>RFM Valor Monetario:5.6<br>Clientes:973",
          "Categoria:Vida Nocturna<br>RFM Cantidad:1.69<br>RFM Recencia:6.63<br>RFM Valor Monetario:4.3<br>Clientes:859"
         ],
         "type": "scatter",
         "uid": "3f2573c8-e158-4f97-9c15-fa14a52d8136",
         "x": [
          1,
          2.083563535911602,
          1.693889206167904,
          2.3882065160820236,
          1.9679261862917399,
          2.989777255209354,
          1.6379716981132075,
          1.925233644859813,
          1.6910206358059119,
          2.2533333333333334,
          1.7770569620253165,
          2.341748450413223,
          2.1593522422384055,
          1.6193247962747381,
          1.5380577427821522,
          1.655185394315829,
          1.9912702172294783,
          2.389263349108466,
          1.9662162162162162,
          2.5081109579041283,
          1.8430379746835444,
          2.0342494274411824,
          3.4344406648814263,
          1.7640014089468123,
          2.641004330519225,
          1.7450445986124876,
          1.6934935388800725
         ],
         "y": [
          5.111111111111111,
          6.544889502762431,
          6.092233009708738,
          7.142344124076194,
          6.840509666080844,
          7.469691031419426,
          6.562735849056604,
          6.900769653655855,
          6.71072690091095,
          7.133061224489796,
          6.472784810126583,
          7.103370351239669,
          7.275344959754695,
          6.664726426076833,
          6.5065616797900265,
          6.621870882740448,
          6.972051160587399,
          7.242172187963096,
          6.27027027027027,
          7.240368237488847,
          6.625316455696202,
          6.9582552571309595,
          7.751875708668066,
          6.599154631912645,
          7.3243515156817285,
          6.770317145688801,
          6.632056223078667
         ]
        }
       ],
       "layout": {
        "autosize": true,
        "hovermode": "closest",
        "title": {
         "text": "RFM por Categoria de Comercio"
        },
        "xaxis": {
         "title": {
          "font": {
           "color": "#14A751",
           "family": "Myriad",
           "size": 20
          },
          "text": "RFM Cantidad"
         }
        },
        "yaxis": {
         "title": {
          "font": {
           "color": "#14A751",
           "family": "Myriad",
           "size": 20
          },
          "text": "RFM Recencia"
         }
        }
       }
      },
      "text/html": [
       "<div id=\"4c93d7a1-9f87-49a5-b01a-20a5610753ce\" style=\"height: 525px; width: 100%;\" class=\"plotly-graph-div\"></div><script type=\"text/javascript\">require([\"plotly\"], function(Plotly) { window.PLOTLYENV=window.PLOTLYENV || {};window.PLOTLYENV.BASE_URL=\"https://plot.ly\";Plotly.newPlot(\"4c93d7a1-9f87-49a5-b01a-20a5610753ce\", [{\"marker\": {\"color\": [7.444444444444445, 5.234116022099448, 2.510279840091376, 3.5121786197564275, 5.8345049794961925, 5.682800966751584, 5.811320754716981, 7.242715777899945, 4.164714630972299, 4.075646258503402, 5.011075949367089, 5.020015495867769, 5.81721924108854, 4.2747380675203726, 4.757655293088364, 6.605307735742518, 5.11917168572782, 5.870978536258903, 7.118243243243243, 5.183307648633304, 4.951898734177215, 6.0229023526962315, 6.598755156691033, 4.60267699894329, 5.685927999650059, 5.5978691774033695, 4.302652459759692], \"colorbar\": {\"title\": {\"text\": \"RFM Valor Monetario\"}}, \"colorscale\": \"Viridis\", \"showscale\": true, \"size\": [0.0, 22.101811756527134, 23.085764492520063, 34.160512650794935, 34.24637111485169, 39.60012635025095, 26.783195668233965, 28.33355139050118, 27.986725952706156, 27.169377709883236, 29.16934870469551, 33.81530926317767, 36.69553533986227, 19.62109911375372, 20.988096288641945, 29.930727312618604, 34.69199857021775, 37.24508436221849, 17.577796618689757, 37.470060185392725, 16.029332740929885, 31.671602345311666, 41.72468117347417, 25.660387836686382, 37.598881172550335, 27.52564521457014, 27.027729556990213]}, \"mode\": \"markers\", \"text\": [\"Categoria:Alquiler de Automoviles<br>RFM Cantidad:1.0<br>RFM Recencia:5.11<br>RFM Valor Monetario:7.44<br>Clientes:0\", \"Categoria:Articulos de Oficina<br>RFM Cantidad:2.08<br>RFM Recencia:6.54<br>RFM Valor Monetario:5.23<br>Clientes:250\", \"Categoria:Cine y Peliculas<br>RFM Cantidad:1.69<br>RFM Recencia:6.09<br>RFM Valor Monetario:2.51<br>Clientes:320\", \"Categoria:Comida Rapida<br>RFM Cantidad:2.39<br>RFM Recencia:7.14<br>RFM Valor Monetario:3.51<br>Clientes:5115\", \"Categoria:Ferreterias y Hogar<br>RFM Cantidad:1.97<br>RFM Recencia:6.84<br>RFM Valor Monetario:5.83<br>Clientes:5226\", \"Categoria:Gasolineras y Vehiculos<br>RFM Cantidad:2.99<br>RFM Recencia:7.47<br>RFM Valor Monetario:5.68<br>Clientes:19930\", \"Categoria:Hoteles Moteles Resorts<br>RFM Cantidad:1.64<br>RFM Recencia:6.56<br>RFM Valor Monetario:5.81<br>Clientes:808\", \"Categoria:Instituciones Financieras y Aseguradoras<br>RFM Cantidad:1.93<br>RFM Recencia:6.9<br>RFM Valor Monetario:7.24<br>Clientes:1191\", \"Categoria:Licores<br>RFM Cantidad:1.69<br>RFM Recencia:6.71<br>RFM Valor Monetario:4.16<br>Clientes:1092\", \"Categoria:Musica<br>RFM Cantidad:2.25<br>RFM Recencia:7.13<br>RFM Valor Monetario:4.08<br>Clientes:890\", \"Categoria:Otros Servicios<br>RFM Cantidad:1.78<br>RFM Recencia:6.47<br>RFM Valor Monetario:5.01<br>Clientes:1468\", \"Categoria:Restaurantes<br>RFM Cantidad:2.34<br>RFM Recencia:7.1<br>RFM Valor Monetario:5.02<br>Clientes:4692\", \"Categoria:Ropas<br>RFM Cantidad:2.16<br>RFM Recencia:7.28<br>RFM Valor Monetario:5.82<br>Clientes:9641\", \"Categoria:Servicio Personales (Deliveries, etc.)<br>RFM Cantidad:1.62<br>RFM Recencia:6.66<br>RFM Valor Monetario:4.27<br>Clientes:134\", \"Categoria:Servicios Agropecuarios<br>RFM Cantidad:1.54<br>RFM Recencia:6.51<br>RFM Valor Monetario:4.76<br>Clientes:189\", \"Categoria:Servicios Educativos<br>RFM Cantidad:1.66<br>RFM Recencia:6.62<br>RFM Valor Monetario:6.61<br>Clientes:1776\", \"Categoria:Servicios Gubernamentales<br>RFM Cantidad:1.99<br>RFM Recencia:6.97<br>RFM Valor Monetario:5.12<br>Clientes:5842\", \"Categoria:Servicios de Comunicacion, Internet y Telecable<br>RFM Cantidad:2.39<br>RFM Recencia:7.24<br>RFM Valor Monetario:5.87<br>Clientes:11061\", \"Categoria:Servicios de Construccion y Decoracion<br>RFM Cantidad:1.97<br>RFM Recencia:6.27<br>RFM Valor Monetario:7.12<br>Clientes:80\", \"Categoria:Servicios de Salud, Belleza y Recreacion<br>RFM Cantidad:2.51<br>RFM Recencia:7.24<br>RFM Valor Monetario:5.18<br>Clientes:11701\", \"Categoria:Servicios de Textiles e Imprenta<br>RFM Cantidad:1.84<br>RFM Recencia:6.63<br>RFM Valor Monetario:4.95<br>Clientes:54\", \"Categoria:Servicios de Transporte y Viajes<br>RFM Cantidad:2.03<br>RFM Recencia:6.96<br>RFM Valor Monetario:6.02<br>Clientes:2745\", \"Categoria:Supermercados y Alimentos<br>RFM Cantidad:3.43<br>RFM Recencia:7.75<br>RFM Valor Monetario:6.6<br>Clientes:33899\", \"Categoria:Tecnologia y Software<br>RFM Cantidad:1.76<br>RFM Recencia:6.6<br>RFM Valor Monetario:4.6<br>Clientes:610\", \"Categoria:Tienda De Venta Especializada<br>RFM Cantidad:2.64<br>RFM Recencia:7.32<br>RFM Valor Monetario:5.69<br>Clientes:12084\", \"Categoria:Ventas y Servicios de Equipos Electricos<br>RFM Cantidad:1.75<br>RFM Recencia:6.77<br>RFM Valor Monetario:5.6<br>Clientes:973\", \"Categoria:Vida Nocturna<br>RFM Cantidad:1.69<br>RFM Recencia:6.63<br>RFM Valor Monetario:4.3<br>Clientes:859\"], \"x\": [1.0, 2.083563535911602, 1.693889206167904, 2.3882065160820236, 1.9679261862917399, 2.989777255209354, 1.6379716981132075, 1.925233644859813, 1.6910206358059119, 2.2533333333333334, 1.7770569620253165, 2.341748450413223, 2.1593522422384055, 1.6193247962747381, 1.5380577427821522, 1.655185394315829, 1.9912702172294783, 2.389263349108466, 1.9662162162162162, 2.5081109579041283, 1.8430379746835444, 2.0342494274411824, 3.4344406648814263, 1.7640014089468123, 2.641004330519225, 1.7450445986124876, 1.6934935388800725], \"y\": [5.111111111111111, 6.544889502762431, 6.092233009708738, 7.142344124076194, 6.840509666080844, 7.469691031419426, 6.562735849056604, 6.900769653655855, 6.71072690091095, 7.133061224489796, 6.472784810126583, 7.103370351239669, 7.275344959754695, 6.664726426076833, 6.5065616797900265, 6.621870882740448, 6.972051160587399, 7.242172187963096, 6.27027027027027, 7.240368237488847, 6.625316455696202, 6.9582552571309595, 7.751875708668066, 6.599154631912645, 7.3243515156817285, 6.770317145688801, 6.632056223078667], \"type\": \"scatter\", \"uid\": \"3f2573c8-e158-4f97-9c15-fa14a52d8136\"}], {\"autosize\": true, \"hovermode\": \"closest\", \"title\": {\"text\": \"RFM por Categoria de Comercio\"}, \"xaxis\": {\"title\": {\"font\": {\"color\": \"#14A751\", \"family\": \"Myriad\", \"size\": 20}, \"text\": \"RFM Cantidad\"}}, \"yaxis\": {\"title\": {\"font\": {\"color\": \"#14A751\", \"family\": \"Myriad\", \"size\": 20}, \"text\": \"RFM Recencia\"}}}, {\"showLink\": false, \"linkText\": \"Export to plot.ly\", \"plotlyServerURL\": \"https://plot.ly\"})});</script><script type=\"text/javascript\">window.addEventListener(\"resize\", function(){window._Plotly.Plots.resize(document.getElementById(\"4c93d7a1-9f87-49a5-b01a-20a5610753ce\"));});</script>"
      ],
      "text/vnd.plotly.v1+html": [
       "<div id=\"4c93d7a1-9f87-49a5-b01a-20a5610753ce\" style=\"height: 525px; width: 100%;\" class=\"plotly-graph-div\"></div><script type=\"text/javascript\">require([\"plotly\"], function(Plotly) { window.PLOTLYENV=window.PLOTLYENV || {};window.PLOTLYENV.BASE_URL=\"https://plot.ly\";Plotly.newPlot(\"4c93d7a1-9f87-49a5-b01a-20a5610753ce\", [{\"marker\": {\"color\": [7.444444444444445, 5.234116022099448, 2.510279840091376, 3.5121786197564275, 5.8345049794961925, 5.682800966751584, 5.811320754716981, 7.242715777899945, 4.164714630972299, 4.075646258503402, 5.011075949367089, 5.020015495867769, 5.81721924108854, 4.2747380675203726, 4.757655293088364, 6.605307735742518, 5.11917168572782, 5.870978536258903, 7.118243243243243, 5.183307648633304, 4.951898734177215, 6.0229023526962315, 6.598755156691033, 4.60267699894329, 5.685927999650059, 5.5978691774033695, 4.302652459759692], \"colorbar\": {\"title\": {\"text\": \"RFM Valor Monetario\"}}, \"colorscale\": \"Viridis\", \"showscale\": true, \"size\": [0.0, 22.101811756527134, 23.085764492520063, 34.160512650794935, 34.24637111485169, 39.60012635025095, 26.783195668233965, 28.33355139050118, 27.986725952706156, 27.169377709883236, 29.16934870469551, 33.81530926317767, 36.69553533986227, 19.62109911375372, 20.988096288641945, 29.930727312618604, 34.69199857021775, 37.24508436221849, 17.577796618689757, 37.470060185392725, 16.029332740929885, 31.671602345311666, 41.72468117347417, 25.660387836686382, 37.598881172550335, 27.52564521457014, 27.027729556990213]}, \"mode\": \"markers\", \"text\": [\"Categoria:Alquiler de Automoviles<br>RFM Cantidad:1.0<br>RFM Recencia:5.11<br>RFM Valor Monetario:7.44<br>Clientes:0\", \"Categoria:Articulos de Oficina<br>RFM Cantidad:2.08<br>RFM Recencia:6.54<br>RFM Valor Monetario:5.23<br>Clientes:250\", \"Categoria:Cine y Peliculas<br>RFM Cantidad:1.69<br>RFM Recencia:6.09<br>RFM Valor Monetario:2.51<br>Clientes:320\", \"Categoria:Comida Rapida<br>RFM Cantidad:2.39<br>RFM Recencia:7.14<br>RFM Valor Monetario:3.51<br>Clientes:5115\", \"Categoria:Ferreterias y Hogar<br>RFM Cantidad:1.97<br>RFM Recencia:6.84<br>RFM Valor Monetario:5.83<br>Clientes:5226\", \"Categoria:Gasolineras y Vehiculos<br>RFM Cantidad:2.99<br>RFM Recencia:7.47<br>RFM Valor Monetario:5.68<br>Clientes:19930\", \"Categoria:Hoteles Moteles Resorts<br>RFM Cantidad:1.64<br>RFM Recencia:6.56<br>RFM Valor Monetario:5.81<br>Clientes:808\", \"Categoria:Instituciones Financieras y Aseguradoras<br>RFM Cantidad:1.93<br>RFM Recencia:6.9<br>RFM Valor Monetario:7.24<br>Clientes:1191\", \"Categoria:Licores<br>RFM Cantidad:1.69<br>RFM Recencia:6.71<br>RFM Valor Monetario:4.16<br>Clientes:1092\", \"Categoria:Musica<br>RFM Cantidad:2.25<br>RFM Recencia:7.13<br>RFM Valor Monetario:4.08<br>Clientes:890\", \"Categoria:Otros Servicios<br>RFM Cantidad:1.78<br>RFM Recencia:6.47<br>RFM Valor Monetario:5.01<br>Clientes:1468\", \"Categoria:Restaurantes<br>RFM Cantidad:2.34<br>RFM Recencia:7.1<br>RFM Valor Monetario:5.02<br>Clientes:4692\", \"Categoria:Ropas<br>RFM Cantidad:2.16<br>RFM Recencia:7.28<br>RFM Valor Monetario:5.82<br>Clientes:9641\", \"Categoria:Servicio Personales (Deliveries, etc.)<br>RFM Cantidad:1.62<br>RFM Recencia:6.66<br>RFM Valor Monetario:4.27<br>Clientes:134\", \"Categoria:Servicios Agropecuarios<br>RFM Cantidad:1.54<br>RFM Recencia:6.51<br>RFM Valor Monetario:4.76<br>Clientes:189\", \"Categoria:Servicios Educativos<br>RFM Cantidad:1.66<br>RFM Recencia:6.62<br>RFM Valor Monetario:6.61<br>Clientes:1776\", \"Categoria:Servicios Gubernamentales<br>RFM Cantidad:1.99<br>RFM Recencia:6.97<br>RFM Valor Monetario:5.12<br>Clientes:5842\", \"Categoria:Servicios de Comunicacion, Internet y Telecable<br>RFM Cantidad:2.39<br>RFM Recencia:7.24<br>RFM Valor Monetario:5.87<br>Clientes:11061\", \"Categoria:Servicios de Construccion y Decoracion<br>RFM Cantidad:1.97<br>RFM Recencia:6.27<br>RFM Valor Monetario:7.12<br>Clientes:80\", \"Categoria:Servicios de Salud, Belleza y Recreacion<br>RFM Cantidad:2.51<br>RFM Recencia:7.24<br>RFM Valor Monetario:5.18<br>Clientes:11701\", \"Categoria:Servicios de Textiles e Imprenta<br>RFM Cantidad:1.84<br>RFM Recencia:6.63<br>RFM Valor Monetario:4.95<br>Clientes:54\", \"Categoria:Servicios de Transporte y Viajes<br>RFM Cantidad:2.03<br>RFM Recencia:6.96<br>RFM Valor Monetario:6.02<br>Clientes:2745\", \"Categoria:Supermercados y Alimentos<br>RFM Cantidad:3.43<br>RFM Recencia:7.75<br>RFM Valor Monetario:6.6<br>Clientes:33899\", \"Categoria:Tecnologia y Software<br>RFM Cantidad:1.76<br>RFM Recencia:6.6<br>RFM Valor Monetario:4.6<br>Clientes:610\", \"Categoria:Tienda De Venta Especializada<br>RFM Cantidad:2.64<br>RFM Recencia:7.32<br>RFM Valor Monetario:5.69<br>Clientes:12084\", \"Categoria:Ventas y Servicios de Equipos Electricos<br>RFM Cantidad:1.75<br>RFM Recencia:6.77<br>RFM Valor Monetario:5.6<br>Clientes:973\", \"Categoria:Vida Nocturna<br>RFM Cantidad:1.69<br>RFM Recencia:6.63<br>RFM Valor Monetario:4.3<br>Clientes:859\"], \"x\": [1.0, 2.083563535911602, 1.693889206167904, 2.3882065160820236, 1.9679261862917399, 2.989777255209354, 1.6379716981132075, 1.925233644859813, 1.6910206358059119, 2.2533333333333334, 1.7770569620253165, 2.341748450413223, 2.1593522422384055, 1.6193247962747381, 1.5380577427821522, 1.655185394315829, 1.9912702172294783, 2.389263349108466, 1.9662162162162162, 2.5081109579041283, 1.8430379746835444, 2.0342494274411824, 3.4344406648814263, 1.7640014089468123, 2.641004330519225, 1.7450445986124876, 1.6934935388800725], \"y\": [5.111111111111111, 6.544889502762431, 6.092233009708738, 7.142344124076194, 6.840509666080844, 7.469691031419426, 6.562735849056604, 6.900769653655855, 6.71072690091095, 7.133061224489796, 6.472784810126583, 7.103370351239669, 7.275344959754695, 6.664726426076833, 6.5065616797900265, 6.621870882740448, 6.972051160587399, 7.242172187963096, 6.27027027027027, 7.240368237488847, 6.625316455696202, 6.9582552571309595, 7.751875708668066, 6.599154631912645, 7.3243515156817285, 6.770317145688801, 6.632056223078667], \"type\": \"scatter\", \"uid\": \"3f2573c8-e158-4f97-9c15-fa14a52d8136\"}], {\"autosize\": true, \"hovermode\": \"closest\", \"title\": {\"text\": \"RFM por Categoria de Comercio\"}, \"xaxis\": {\"title\": {\"font\": {\"color\": \"#14A751\", \"family\": \"Myriad\", \"size\": 20}, \"text\": \"RFM Cantidad\"}}, \"yaxis\": {\"title\": {\"font\": {\"color\": \"#14A751\", \"family\": \"Myriad\", \"size\": 20}, \"text\": \"RFM Recencia\"}}}, {\"showLink\": false, \"linkText\": \"Export to plot.ly\", \"plotlyServerURL\": \"https://plot.ly\"})});</script><script type=\"text/javascript\">window.addEventListener(\"resize\", function(){window._Plotly.Plots.resize(document.getElementById(\"4c93d7a1-9f87-49a5-b01a-20a5610753ce\"));});</script>"
      ]
     },
     "metadata": {},
     "output_type": "display_data"
    }
   ],
   "source": [
    "crear_scatter_RFM(rfm_stats,\"RFM por Categoria de Comercio\",size='Cantidad_Clientes')"
   ]
  },
  {
   "cell_type": "markdown",
   "metadata": {
    "slideshow": {
     "slide_type": "subslide"
    }
   },
   "source": [
    "Como podemos observar, existe una relación entre las 3 metricas, en el que la mayoria de las veces, cuando una aumenta las otras tambien. Por ejemplo, la categoria de **Supermercados y Alimentos** tiene un valor monetario, recencia y frecuencia altos. Pero, esta relación no es totalmente lineal, como en la categoria de **Instituciones Financieras** con alto valor monetario y Recencia, pero cantidad baja. **En sí, se puede visualizar una relación lineal entre las metricas, siendo las categorias de comercio más comunes las de más alto valor RFM**."
   ]
  },
  {
   "cell_type": "markdown",
   "metadata": {
    "slideshow": {
     "slide_type": "subslide"
    }
   },
   "source": [
    "Ahora visualicemos lo mismo, pero ahora según la cantidad de clientes que caen en una combinación de Recencia y Frecuencia de RFM."
   ]
  },
  {
   "cell_type": "code",
   "execution_count": 74,
   "metadata": {
    "slideshow": {
     "slide_type": "skip"
    }
   },
   "outputs": [
    {
     "data": {
      "text/html": [
       "<div>\n",
       "<style scoped>\n",
       "    .dataframe tbody tr th:only-of-type {\n",
       "        vertical-align: middle;\n",
       "    }\n",
       "\n",
       "    .dataframe tbody tr th {\n",
       "        vertical-align: top;\n",
       "    }\n",
       "\n",
       "    .dataframe thead th {\n",
       "        text-align: right;\n",
       "    }\n",
       "</style>\n",
       "<table border=\"1\" class=\"dataframe\">\n",
       "  <thead>\n",
       "    <tr style=\"text-align: right;\">\n",
       "      <th></th>\n",
       "      <th>Cantidad</th>\n",
       "      <th>Valor_Total_RD</th>\n",
       "      <th>Recencia</th>\n",
       "    </tr>\n",
       "    <tr>\n",
       "      <th>Codigo_Cliente</th>\n",
       "      <th></th>\n",
       "      <th></th>\n",
       "      <th></th>\n",
       "    </tr>\n",
       "  </thead>\n",
       "  <tbody>\n",
       "    <tr>\n",
       "      <th>1</th>\n",
       "      <td>342</td>\n",
       "      <td>30732700.78</td>\n",
       "      <td>0</td>\n",
       "    </tr>\n",
       "    <tr>\n",
       "      <th>10</th>\n",
       "      <td>26</td>\n",
       "      <td>37153.65</td>\n",
       "      <td>0</td>\n",
       "    </tr>\n",
       "    <tr>\n",
       "      <th>22</th>\n",
       "      <td>39</td>\n",
       "      <td>72465.93</td>\n",
       "      <td>1</td>\n",
       "    </tr>\n",
       "    <tr>\n",
       "      <th>51</th>\n",
       "      <td>82</td>\n",
       "      <td>136687.69</td>\n",
       "      <td>0</td>\n",
       "    </tr>\n",
       "    <tr>\n",
       "      <th>59</th>\n",
       "      <td>192</td>\n",
       "      <td>427132.23</td>\n",
       "      <td>0</td>\n",
       "    </tr>\n",
       "  </tbody>\n",
       "</table>\n",
       "</div>"
      ],
      "text/plain": [
       "                Cantidad  Valor_Total_RD  Recencia\n",
       "Codigo_Cliente                                    \n",
       "1                    342     30732700.78         0\n",
       "10                    26        37153.65         0\n",
       "22                    39        72465.93         1\n",
       "51                    82       136687.69         0\n",
       "59                   192       427132.23         0"
      ]
     },
     "execution_count": 74,
     "metadata": {},
     "output_type": "execute_result"
    }
   ],
   "source": [
    "transacciones_agrupadas_cliente = transacciones.groupby('Codigo_Cliente')[['Cantidad','Valor_Total_RD']].sum()\n",
    "transacciones_agrupadas_cliente['Recencia'] = transacciones.groupby('Codigo_Cliente')['Meses_Anteriores'].min()\n",
    "transacciones_agrupadas_cliente.head()"
   ]
  },
  {
   "cell_type": "code",
   "execution_count": 75,
   "metadata": {
    "slideshow": {
     "slide_type": "skip"
    }
   },
   "outputs": [
    {
     "data": {
      "text/html": [
       "<div>\n",
       "<style scoped>\n",
       "    .dataframe tbody tr th:only-of-type {\n",
       "        vertical-align: middle;\n",
       "    }\n",
       "\n",
       "    .dataframe tbody tr th {\n",
       "        vertical-align: top;\n",
       "    }\n",
       "\n",
       "    .dataframe thead th {\n",
       "        text-align: right;\n",
       "    }\n",
       "</style>\n",
       "<table border=\"1\" class=\"dataframe\">\n",
       "  <thead>\n",
       "    <tr style=\"text-align: right;\">\n",
       "      <th></th>\n",
       "      <th>Codigo_Cliente</th>\n",
       "      <th>Cantidad</th>\n",
       "      <th>Valor_Total_RD</th>\n",
       "      <th>Recencia</th>\n",
       "      <th>Cantidad_RFM</th>\n",
       "      <th>Valor_Monetario_RFM</th>\n",
       "      <th>Score_RFM</th>\n",
       "    </tr>\n",
       "  </thead>\n",
       "  <tbody>\n",
       "    <tr>\n",
       "      <th>0</th>\n",
       "      <td>1</td>\n",
       "      <td>342</td>\n",
       "      <td>30732700.78</td>\n",
       "      <td>5</td>\n",
       "      <td>5</td>\n",
       "      <td>5</td>\n",
       "      <td>5.000000</td>\n",
       "    </tr>\n",
       "    <tr>\n",
       "      <th>1</th>\n",
       "      <td>10</td>\n",
       "      <td>26</td>\n",
       "      <td>37153.65</td>\n",
       "      <td>5</td>\n",
       "      <td>4</td>\n",
       "      <td>4</td>\n",
       "      <td>4.333333</td>\n",
       "    </tr>\n",
       "    <tr>\n",
       "      <th>2</th>\n",
       "      <td>22</td>\n",
       "      <td>39</td>\n",
       "      <td>72465.93</td>\n",
       "      <td>5</td>\n",
       "      <td>5</td>\n",
       "      <td>4</td>\n",
       "      <td>4.666667</td>\n",
       "    </tr>\n",
       "    <tr>\n",
       "      <th>3</th>\n",
       "      <td>51</td>\n",
       "      <td>82</td>\n",
       "      <td>136687.69</td>\n",
       "      <td>5</td>\n",
       "      <td>5</td>\n",
       "      <td>5</td>\n",
       "      <td>5.000000</td>\n",
       "    </tr>\n",
       "    <tr>\n",
       "      <th>4</th>\n",
       "      <td>59</td>\n",
       "      <td>192</td>\n",
       "      <td>427132.23</td>\n",
       "      <td>5</td>\n",
       "      <td>5</td>\n",
       "      <td>5</td>\n",
       "      <td>5.000000</td>\n",
       "    </tr>\n",
       "  </tbody>\n",
       "</table>\n",
       "</div>"
      ],
      "text/plain": [
       "   Codigo_Cliente  Cantidad  Valor_Total_RD  Recencia  Cantidad_RFM  \\\n",
       "0               1       342     30732700.78         5             5   \n",
       "1              10        26        37153.65         5             4   \n",
       "2              22        39        72465.93         5             5   \n",
       "3              51        82       136687.69         5             5   \n",
       "4              59       192       427132.23         5             5   \n",
       "\n",
       "   Valor_Monetario_RFM  Score_RFM  \n",
       "0                    5   5.000000  \n",
       "1                    4   4.333333  \n",
       "2                    4   4.666667  \n",
       "3                    5   5.000000  \n",
       "4                    5   5.000000  "
      ]
     },
     "execution_count": 75,
     "metadata": {},
     "output_type": "execute_result"
    }
   ],
   "source": [
    "transacciones_agrupadas_cliente['Cantidad_RFM'] = pd.qcut(transacciones_agrupadas_cliente.Cantidad,5,\n",
    "                                                         labels=list(range(1,6))).astype(int)\n",
    "transacciones_agrupadas_cliente['Valor_Monetario_RFM'] = pd.qcut(transacciones_agrupadas_cliente.Valor_Total_RD,5,\n",
    "                                                         labels=list(range(1,6))).astype(int)\n",
    "\n",
    "transacciones_agrupadas_cliente['Recencia'] = pd.cut(transacciones_agrupadas_cliente.Recencia\n",
    "                                                     ,[-0.01,1,3,6,9,12],labels=list(range(5,0,-1))).astype(int)\n",
    "\n",
    "transacciones_agrupadas_cliente['Score_RFM'] = transacciones_agrupadas_cliente[['Recencia'\n",
    "                                                                                ,'Cantidad_RFM'\n",
    "                                                                                ,'Valor_Monetario_RFM']].mean(axis=1)\n",
    "transacciones_agrupadas_cliente=transacciones_agrupadas_cliente.reset_index()\n",
    "transacciones_agrupadas_cliente.head()"
   ]
  },
  {
   "cell_type": "code",
   "execution_count": 76,
   "metadata": {
    "slideshow": {
     "slide_type": "skip"
    }
   },
   "outputs": [
    {
     "data": {
      "text/html": [
       "<div>\n",
       "<style scoped>\n",
       "    .dataframe tbody tr th:only-of-type {\n",
       "        vertical-align: middle;\n",
       "    }\n",
       "\n",
       "    .dataframe tbody tr th {\n",
       "        vertical-align: top;\n",
       "    }\n",
       "\n",
       "    .dataframe thead th {\n",
       "        text-align: right;\n",
       "    }\n",
       "</style>\n",
       "<table border=\"1\" class=\"dataframe\">\n",
       "  <thead>\n",
       "    <tr style=\"text-align: right;\">\n",
       "      <th></th>\n",
       "      <th>Recencia</th>\n",
       "      <th>Cantidad_RFM</th>\n",
       "      <th>Valor_Monetario_RFM</th>\n",
       "      <th>Cantidad_Clientes</th>\n",
       "    </tr>\n",
       "  </thead>\n",
       "  <tbody>\n",
       "    <tr>\n",
       "      <th>0</th>\n",
       "      <td>1</td>\n",
       "      <td>1</td>\n",
       "      <td>1.268866</td>\n",
       "      <td>2001</td>\n",
       "    </tr>\n",
       "    <tr>\n",
       "      <th>1</th>\n",
       "      <td>1</td>\n",
       "      <td>2</td>\n",
       "      <td>1.994398</td>\n",
       "      <td>357</td>\n",
       "    </tr>\n",
       "    <tr>\n",
       "      <th>2</th>\n",
       "      <td>1</td>\n",
       "      <td>3</td>\n",
       "      <td>2.868852</td>\n",
       "      <td>122</td>\n",
       "    </tr>\n",
       "    <tr>\n",
       "      <th>3</th>\n",
       "      <td>1</td>\n",
       "      <td>4</td>\n",
       "      <td>3.777778</td>\n",
       "      <td>54</td>\n",
       "    </tr>\n",
       "    <tr>\n",
       "      <th>4</th>\n",
       "      <td>1</td>\n",
       "      <td>5</td>\n",
       "      <td>4.285714</td>\n",
       "      <td>7</td>\n",
       "    </tr>\n",
       "  </tbody>\n",
       "</table>\n",
       "</div>"
      ],
      "text/plain": [
       "   Recencia  Cantidad_RFM  Valor_Monetario_RFM  Cantidad_Clientes\n",
       "0         1             1             1.268866               2001\n",
       "1         1             2             1.994398                357\n",
       "2         1             3             2.868852                122\n",
       "3         1             4             3.777778                 54\n",
       "4         1             5             4.285714                  7"
      ]
     },
     "execution_count": 76,
     "metadata": {},
     "output_type": "execute_result"
    }
   ],
   "source": [
    "transacciones_agrupadas_RFM = transacciones_agrupadas_cliente.groupby(\n",
    "        ['Recencia','Cantidad_RFM'])['Valor_Monetario_RFM'].mean().reset_index()\n",
    "transacciones_agrupadas_RFM['Cantidad_Clientes'] = transacciones_agrupadas_cliente.groupby(\n",
    "        ['Recencia','Cantidad_RFM'])['Codigo_Cliente'].count().reset_index()['Codigo_Cliente']\n",
    "transacciones_agrupadas_RFM = transacciones_agrupadas_RFM.rename(columns={'Codigo_Cliente':'Cantidad_Clientes'})\n",
    "transacciones_agrupadas_RFM.head()"
   ]
  },
  {
   "cell_type": "code",
   "execution_count": 77,
   "metadata": {
    "slideshow": {
     "slide_type": "skip"
    }
   },
   "outputs": [
    {
     "data": {
      "text/html": [
       "<div>\n",
       "<style scoped>\n",
       "    .dataframe tbody tr th:only-of-type {\n",
       "        vertical-align: middle;\n",
       "    }\n",
       "\n",
       "    .dataframe tbody tr th {\n",
       "        vertical-align: top;\n",
       "    }\n",
       "\n",
       "    .dataframe thead th {\n",
       "        text-align: right;\n",
       "    }\n",
       "</style>\n",
       "<table border=\"1\" class=\"dataframe\">\n",
       "  <thead>\n",
       "    <tr style=\"text-align: right;\">\n",
       "      <th></th>\n",
       "      <th>Recencia</th>\n",
       "      <th>Cantidad_RFM</th>\n",
       "      <th>Valor_Monetario_RFM</th>\n",
       "      <th>Cantidad_Clientes</th>\n",
       "      <th>Texto_Plot</th>\n",
       "    </tr>\n",
       "  </thead>\n",
       "  <tbody>\n",
       "    <tr>\n",
       "      <th>0</th>\n",
       "      <td>1</td>\n",
       "      <td>1</td>\n",
       "      <td>1.268866</td>\n",
       "      <td>2001</td>\n",
       "      <td>RFM Cantidad:1&lt;br&gt;RFM Recencia:1&lt;br&gt;RFM Valor ...</td>\n",
       "    </tr>\n",
       "    <tr>\n",
       "      <th>1</th>\n",
       "      <td>1</td>\n",
       "      <td>2</td>\n",
       "      <td>1.994398</td>\n",
       "      <td>357</td>\n",
       "      <td>RFM Cantidad:2&lt;br&gt;RFM Recencia:1&lt;br&gt;RFM Valor ...</td>\n",
       "    </tr>\n",
       "    <tr>\n",
       "      <th>2</th>\n",
       "      <td>1</td>\n",
       "      <td>3</td>\n",
       "      <td>2.868852</td>\n",
       "      <td>122</td>\n",
       "      <td>RFM Cantidad:3&lt;br&gt;RFM Recencia:1&lt;br&gt;RFM Valor ...</td>\n",
       "    </tr>\n",
       "    <tr>\n",
       "      <th>3</th>\n",
       "      <td>1</td>\n",
       "      <td>4</td>\n",
       "      <td>3.777778</td>\n",
       "      <td>54</td>\n",
       "      <td>RFM Cantidad:4&lt;br&gt;RFM Recencia:1&lt;br&gt;RFM Valor ...</td>\n",
       "    </tr>\n",
       "    <tr>\n",
       "      <th>4</th>\n",
       "      <td>1</td>\n",
       "      <td>5</td>\n",
       "      <td>4.285714</td>\n",
       "      <td>7</td>\n",
       "      <td>RFM Cantidad:5&lt;br&gt;RFM Recencia:1&lt;br&gt;RFM Valor ...</td>\n",
       "    </tr>\n",
       "  </tbody>\n",
       "</table>\n",
       "</div>"
      ],
      "text/plain": [
       "   Recencia  Cantidad_RFM  Valor_Monetario_RFM  Cantidad_Clientes  \\\n",
       "0         1             1             1.268866               2001   \n",
       "1         1             2             1.994398                357   \n",
       "2         1             3             2.868852                122   \n",
       "3         1             4             3.777778                 54   \n",
       "4         1             5             4.285714                  7   \n",
       "\n",
       "                                          Texto_Plot  \n",
       "0  RFM Cantidad:1<br>RFM Recencia:1<br>RFM Valor ...  \n",
       "1  RFM Cantidad:2<br>RFM Recencia:1<br>RFM Valor ...  \n",
       "2  RFM Cantidad:3<br>RFM Recencia:1<br>RFM Valor ...  \n",
       "3  RFM Cantidad:4<br>RFM Recencia:1<br>RFM Valor ...  \n",
       "4  RFM Cantidad:5<br>RFM Recencia:1<br>RFM Valor ...  "
      ]
     },
     "execution_count": 77,
     "metadata": {},
     "output_type": "execute_result"
    }
   ],
   "source": [
    "transacciones_agrupadas_RFM['Texto_Plot'] = (\n",
    "                           \"RFM Cantidad:\" + transacciones_agrupadas_RFM['Cantidad_RFM'].round(2).astype(str)  + \"<br>\" + \n",
    "                           \"RFM Recencia:\" + transacciones_agrupadas_RFM['Recencia'].round(2).astype(str)  + \"<br>\" + \n",
    "                           \"RFM Valor Monetario Promedio:\" + transacciones_agrupadas_RFM['Valor_Monetario_RFM'\n",
    "                                                                                   ].round(2).astype(str) + \"<br>\" + \n",
    "                           \"Cantidad Clientes:\" + transacciones_agrupadas_RFM['Cantidad_Clientes'].astype(str) \n",
    ")\n",
    "transacciones_agrupadas_RFM.head()"
   ]
  },
  {
   "cell_type": "code",
   "execution_count": 78,
   "metadata": {
    "slideshow": {
     "slide_type": "subslide"
    }
   },
   "outputs": [
    {
     "data": {
      "application/vnd.plotly.v1+json": {
       "config": {
        "linkText": "Export to plot.ly",
        "plotlyServerURL": "https://plot.ly",
        "showLink": false
       },
       "data": [
        {
         "marker": {
          "color": [
           1.2688655672163918,
           1.9943977591036415,
           2.8688524590163933,
           3.7777777777777777,
           4.285714285714286,
           1.4009856630824373,
           2.0048923679060664,
           2.7009345794392523,
           3.539855072463768,
           4.459183673469388,
           1.4961204929256047,
           2.15,
           2.819128787878788,
           3.556368960468521,
           4.511520737327189,
           1.5742049469964665,
           2.2769485903814264,
           2.9266487213997308,
           3.588235294117647,
           4.481389578163772,
           1.6988795518207283,
           2.4195744680851066,
           3.075339107697336,
           3.815482107355865,
           4.675399499945646
          ],
          "colorbar": {
           "title": {
            "text": "RFM Valor Monetario"
           }
          },
          "colorscale": "Viridis",
          "showscale": true,
          "size": [
           30.407607839500663,
           23.5221319456028,
           19.24873742148967,
           16.029332740929885,
           8.317766166719343,
           30.84440500736063,
           27.721979063806504,
           25.136536644283208,
           22.496070024749354,
           18.38047940053836,
           30.770278592271623,
           29.612244364360365,
           27.85275994348095,
           26.1118316704902,
           21.537980251156355,
           29.75118048668773,
           30.004328497039484,
           29.21806378584062,
           27.646989201006697,
           24.005659511844602,
           32.7224037903778,
           33.82212212409652,
           34.877269502025484,
           35.97321255637493,
           36.50783505214853
          ]
         },
         "mode": "markers",
         "text": [
          "RFM Cantidad:1<br>RFM Recencia:1<br>RFM Valor Monetario Promedio:1.27<br>Cantidad Clientes:2001",
          "RFM Cantidad:2<br>RFM Recencia:1<br>RFM Valor Monetario Promedio:1.99<br>Cantidad Clientes:357",
          "RFM Cantidad:3<br>RFM Recencia:1<br>RFM Valor Monetario Promedio:2.87<br>Cantidad Clientes:122",
          "RFM Cantidad:4<br>RFM Recencia:1<br>RFM Valor Monetario Promedio:3.78<br>Cantidad Clientes:54",
          "RFM Cantidad:5<br>RFM Recencia:1<br>RFM Valor Monetario Promedio:4.29<br>Cantidad Clientes:7",
          "RFM Cantidad:1<br>RFM Recencia:2<br>RFM Valor Monetario Promedio:1.4<br>Cantidad Clientes:2232",
          "RFM Cantidad:2<br>RFM Recencia:2<br>RFM Valor Monetario Promedio:2.0<br>Cantidad Clientes:1022",
          "RFM Cantidad:3<br>RFM Recencia:2<br>RFM Valor Monetario Promedio:2.7<br>Cantidad Clientes:535",
          "RFM Cantidad:4<br>RFM Recencia:2<br>RFM Valor Monetario Promedio:3.54<br>Cantidad Clientes:276",
          "RFM Cantidad:5<br>RFM Recencia:2<br>RFM Valor Monetario Promedio:4.46<br>Cantidad Clientes:98",
          "RFM Cantidad:1<br>RFM Recencia:3<br>RFM Valor Monetario Promedio:1.5<br>Cantidad Clientes:2191",
          "RFM Cantidad:2<br>RFM Recencia:3<br>RFM Valor Monetario Promedio:2.15<br>Cantidad Clientes:1640",
          "RFM Cantidad:3<br>RFM Recencia:3<br>RFM Valor Monetario Promedio:2.82<br>Cantidad Clientes:1056",
          "RFM Cantidad:4<br>RFM Recencia:3<br>RFM Valor Monetario Promedio:3.56<br>Cantidad Clientes:683",
          "RFM Cantidad:5<br>RFM Recencia:3<br>RFM Valor Monetario Promedio:4.51<br>Cantidad Clientes:217",
          "RFM Cantidad:1<br>RFM Recencia:4<br>RFM Valor Monetario Promedio:1.57<br>Cantidad Clientes:1698",
          "RFM Cantidad:2<br>RFM Recencia:4<br>RFM Valor Monetario Promedio:2.28<br>Cantidad Clientes:1809",
          "RFM Cantidad:3<br>RFM Recencia:4<br>RFM Valor Monetario Promedio:2.93<br>Cantidad Clientes:1486",
          "RFM Cantidad:4<br>RFM Recencia:4<br>RFM Valor Monetario Promedio:3.59<br>Cantidad Clientes:1003",
          "RFM Cantidad:5<br>RFM Recencia:4<br>RFM Valor Monetario Promedio:4.48<br>Cantidad Clientes:403",
          "RFM Cantidad:1<br>RFM Recencia:5<br>RFM Valor Monetario Promedio:1.7<br>Cantidad Clientes:3570",
          "RFM Cantidad:2<br>RFM Recencia:5<br>RFM Valor Monetario Promedio:2.42<br>Cantidad Clientes:4700",
          "RFM Cantidad:3<br>RFM Recencia:5<br>RFM Valor Monetario Promedio:3.08<br>Cantidad Clientes:6119",
          "RFM Cantidad:4<br>RFM Recencia:5<br>RFM Valor Monetario Promedio:3.82<br>Cantidad Clientes:8048",
          "RFM Cantidad:5<br>RFM Recencia:5<br>RFM Valor Monetario Promedio:4.68<br>Cantidad Clientes:9199"
         ],
         "type": "scatter",
         "uid": "444c86e0-9166-4f9b-88ed-819f4068d935",
         "x": [
          1,
          2,
          3,
          4,
          5,
          1,
          2,
          3,
          4,
          5,
          1,
          2,
          3,
          4,
          5,
          1,
          2,
          3,
          4,
          5,
          1,
          2,
          3,
          4,
          5
         ],
         "y": [
          1,
          1,
          1,
          1,
          1,
          2,
          2,
          2,
          2,
          2,
          3,
          3,
          3,
          3,
          3,
          4,
          4,
          4,
          4,
          4,
          5,
          5,
          5,
          5,
          5
         ]
        }
       ],
       "layout": {
        "autosize": true,
        "hovermode": "closest",
        "title": {
         "text": "RFM por Cliente"
        },
        "xaxis": {
         "title": {
          "font": {
           "color": "#14A751",
           "family": "Myriad",
           "size": 20
          },
          "text": "RFM Cantidad"
         }
        },
        "yaxis": {
         "title": {
          "font": {
           "color": "#14A751",
           "family": "Myriad",
           "size": 20
          },
          "text": "RFM Recencia"
         }
        }
       }
      },
      "text/html": [
       "<div id=\"e5c4a218-b084-412f-b6f3-eb68146b09a8\" style=\"height: 525px; width: 100%;\" class=\"plotly-graph-div\"></div><script type=\"text/javascript\">require([\"plotly\"], function(Plotly) { window.PLOTLYENV=window.PLOTLYENV || {};window.PLOTLYENV.BASE_URL=\"https://plot.ly\";Plotly.newPlot(\"e5c4a218-b084-412f-b6f3-eb68146b09a8\", [{\"marker\": {\"color\": [1.2688655672163918, 1.9943977591036415, 2.8688524590163933, 3.7777777777777777, 4.285714285714286, 1.4009856630824373, 2.0048923679060664, 2.7009345794392523, 3.539855072463768, 4.459183673469388, 1.4961204929256047, 2.15, 2.819128787878788, 3.556368960468521, 4.511520737327189, 1.5742049469964665, 2.2769485903814264, 2.9266487213997308, 3.588235294117647, 4.481389578163772, 1.6988795518207283, 2.4195744680851066, 3.075339107697336, 3.815482107355865, 4.675399499945646], \"colorbar\": {\"title\": {\"text\": \"RFM Valor Monetario\"}}, \"colorscale\": \"Viridis\", \"showscale\": true, \"size\": [30.407607839500663, 23.5221319456028, 19.24873742148967, 16.029332740929885, 8.317766166719343, 30.84440500736063, 27.721979063806504, 25.136536644283208, 22.496070024749354, 18.38047940053836, 30.770278592271623, 29.612244364360365, 27.85275994348095, 26.1118316704902, 21.537980251156355, 29.75118048668773, 30.004328497039484, 29.21806378584062, 27.646989201006697, 24.005659511844602, 32.7224037903778, 33.82212212409652, 34.877269502025484, 35.97321255637493, 36.50783505214853]}, \"mode\": \"markers\", \"text\": [\"RFM Cantidad:1<br>RFM Recencia:1<br>RFM Valor Monetario Promedio:1.27<br>Cantidad Clientes:2001\", \"RFM Cantidad:2<br>RFM Recencia:1<br>RFM Valor Monetario Promedio:1.99<br>Cantidad Clientes:357\", \"RFM Cantidad:3<br>RFM Recencia:1<br>RFM Valor Monetario Promedio:2.87<br>Cantidad Clientes:122\", \"RFM Cantidad:4<br>RFM Recencia:1<br>RFM Valor Monetario Promedio:3.78<br>Cantidad Clientes:54\", \"RFM Cantidad:5<br>RFM Recencia:1<br>RFM Valor Monetario Promedio:4.29<br>Cantidad Clientes:7\", \"RFM Cantidad:1<br>RFM Recencia:2<br>RFM Valor Monetario Promedio:1.4<br>Cantidad Clientes:2232\", \"RFM Cantidad:2<br>RFM Recencia:2<br>RFM Valor Monetario Promedio:2.0<br>Cantidad Clientes:1022\", \"RFM Cantidad:3<br>RFM Recencia:2<br>RFM Valor Monetario Promedio:2.7<br>Cantidad Clientes:535\", \"RFM Cantidad:4<br>RFM Recencia:2<br>RFM Valor Monetario Promedio:3.54<br>Cantidad Clientes:276\", \"RFM Cantidad:5<br>RFM Recencia:2<br>RFM Valor Monetario Promedio:4.46<br>Cantidad Clientes:98\", \"RFM Cantidad:1<br>RFM Recencia:3<br>RFM Valor Monetario Promedio:1.5<br>Cantidad Clientes:2191\", \"RFM Cantidad:2<br>RFM Recencia:3<br>RFM Valor Monetario Promedio:2.15<br>Cantidad Clientes:1640\", \"RFM Cantidad:3<br>RFM Recencia:3<br>RFM Valor Monetario Promedio:2.82<br>Cantidad Clientes:1056\", \"RFM Cantidad:4<br>RFM Recencia:3<br>RFM Valor Monetario Promedio:3.56<br>Cantidad Clientes:683\", \"RFM Cantidad:5<br>RFM Recencia:3<br>RFM Valor Monetario Promedio:4.51<br>Cantidad Clientes:217\", \"RFM Cantidad:1<br>RFM Recencia:4<br>RFM Valor Monetario Promedio:1.57<br>Cantidad Clientes:1698\", \"RFM Cantidad:2<br>RFM Recencia:4<br>RFM Valor Monetario Promedio:2.28<br>Cantidad Clientes:1809\", \"RFM Cantidad:3<br>RFM Recencia:4<br>RFM Valor Monetario Promedio:2.93<br>Cantidad Clientes:1486\", \"RFM Cantidad:4<br>RFM Recencia:4<br>RFM Valor Monetario Promedio:3.59<br>Cantidad Clientes:1003\", \"RFM Cantidad:5<br>RFM Recencia:4<br>RFM Valor Monetario Promedio:4.48<br>Cantidad Clientes:403\", \"RFM Cantidad:1<br>RFM Recencia:5<br>RFM Valor Monetario Promedio:1.7<br>Cantidad Clientes:3570\", \"RFM Cantidad:2<br>RFM Recencia:5<br>RFM Valor Monetario Promedio:2.42<br>Cantidad Clientes:4700\", \"RFM Cantidad:3<br>RFM Recencia:5<br>RFM Valor Monetario Promedio:3.08<br>Cantidad Clientes:6119\", \"RFM Cantidad:4<br>RFM Recencia:5<br>RFM Valor Monetario Promedio:3.82<br>Cantidad Clientes:8048\", \"RFM Cantidad:5<br>RFM Recencia:5<br>RFM Valor Monetario Promedio:4.68<br>Cantidad Clientes:9199\"], \"x\": [1, 2, 3, 4, 5, 1, 2, 3, 4, 5, 1, 2, 3, 4, 5, 1, 2, 3, 4, 5, 1, 2, 3, 4, 5], \"y\": [1, 1, 1, 1, 1, 2, 2, 2, 2, 2, 3, 3, 3, 3, 3, 4, 4, 4, 4, 4, 5, 5, 5, 5, 5], \"type\": \"scatter\", \"uid\": \"444c86e0-9166-4f9b-88ed-819f4068d935\"}], {\"autosize\": true, \"hovermode\": \"closest\", \"title\": {\"text\": \"RFM por Cliente\"}, \"xaxis\": {\"title\": {\"font\": {\"color\": \"#14A751\", \"family\": \"Myriad\", \"size\": 20}, \"text\": \"RFM Cantidad\"}}, \"yaxis\": {\"title\": {\"font\": {\"color\": \"#14A751\", \"family\": \"Myriad\", \"size\": 20}, \"text\": \"RFM Recencia\"}}}, {\"showLink\": false, \"linkText\": \"Export to plot.ly\", \"plotlyServerURL\": \"https://plot.ly\"})});</script><script type=\"text/javascript\">window.addEventListener(\"resize\", function(){window._Plotly.Plots.resize(document.getElementById(\"e5c4a218-b084-412f-b6f3-eb68146b09a8\"));});</script>"
      ],
      "text/vnd.plotly.v1+html": [
       "<div id=\"e5c4a218-b084-412f-b6f3-eb68146b09a8\" style=\"height: 525px; width: 100%;\" class=\"plotly-graph-div\"></div><script type=\"text/javascript\">require([\"plotly\"], function(Plotly) { window.PLOTLYENV=window.PLOTLYENV || {};window.PLOTLYENV.BASE_URL=\"https://plot.ly\";Plotly.newPlot(\"e5c4a218-b084-412f-b6f3-eb68146b09a8\", [{\"marker\": {\"color\": [1.2688655672163918, 1.9943977591036415, 2.8688524590163933, 3.7777777777777777, 4.285714285714286, 1.4009856630824373, 2.0048923679060664, 2.7009345794392523, 3.539855072463768, 4.459183673469388, 1.4961204929256047, 2.15, 2.819128787878788, 3.556368960468521, 4.511520737327189, 1.5742049469964665, 2.2769485903814264, 2.9266487213997308, 3.588235294117647, 4.481389578163772, 1.6988795518207283, 2.4195744680851066, 3.075339107697336, 3.815482107355865, 4.675399499945646], \"colorbar\": {\"title\": {\"text\": \"RFM Valor Monetario\"}}, \"colorscale\": \"Viridis\", \"showscale\": true, \"size\": [30.407607839500663, 23.5221319456028, 19.24873742148967, 16.029332740929885, 8.317766166719343, 30.84440500736063, 27.721979063806504, 25.136536644283208, 22.496070024749354, 18.38047940053836, 30.770278592271623, 29.612244364360365, 27.85275994348095, 26.1118316704902, 21.537980251156355, 29.75118048668773, 30.004328497039484, 29.21806378584062, 27.646989201006697, 24.005659511844602, 32.7224037903778, 33.82212212409652, 34.877269502025484, 35.97321255637493, 36.50783505214853]}, \"mode\": \"markers\", \"text\": [\"RFM Cantidad:1<br>RFM Recencia:1<br>RFM Valor Monetario Promedio:1.27<br>Cantidad Clientes:2001\", \"RFM Cantidad:2<br>RFM Recencia:1<br>RFM Valor Monetario Promedio:1.99<br>Cantidad Clientes:357\", \"RFM Cantidad:3<br>RFM Recencia:1<br>RFM Valor Monetario Promedio:2.87<br>Cantidad Clientes:122\", \"RFM Cantidad:4<br>RFM Recencia:1<br>RFM Valor Monetario Promedio:3.78<br>Cantidad Clientes:54\", \"RFM Cantidad:5<br>RFM Recencia:1<br>RFM Valor Monetario Promedio:4.29<br>Cantidad Clientes:7\", \"RFM Cantidad:1<br>RFM Recencia:2<br>RFM Valor Monetario Promedio:1.4<br>Cantidad Clientes:2232\", \"RFM Cantidad:2<br>RFM Recencia:2<br>RFM Valor Monetario Promedio:2.0<br>Cantidad Clientes:1022\", \"RFM Cantidad:3<br>RFM Recencia:2<br>RFM Valor Monetario Promedio:2.7<br>Cantidad Clientes:535\", \"RFM Cantidad:4<br>RFM Recencia:2<br>RFM Valor Monetario Promedio:3.54<br>Cantidad Clientes:276\", \"RFM Cantidad:5<br>RFM Recencia:2<br>RFM Valor Monetario Promedio:4.46<br>Cantidad Clientes:98\", \"RFM Cantidad:1<br>RFM Recencia:3<br>RFM Valor Monetario Promedio:1.5<br>Cantidad Clientes:2191\", \"RFM Cantidad:2<br>RFM Recencia:3<br>RFM Valor Monetario Promedio:2.15<br>Cantidad Clientes:1640\", \"RFM Cantidad:3<br>RFM Recencia:3<br>RFM Valor Monetario Promedio:2.82<br>Cantidad Clientes:1056\", \"RFM Cantidad:4<br>RFM Recencia:3<br>RFM Valor Monetario Promedio:3.56<br>Cantidad Clientes:683\", \"RFM Cantidad:5<br>RFM Recencia:3<br>RFM Valor Monetario Promedio:4.51<br>Cantidad Clientes:217\", \"RFM Cantidad:1<br>RFM Recencia:4<br>RFM Valor Monetario Promedio:1.57<br>Cantidad Clientes:1698\", \"RFM Cantidad:2<br>RFM Recencia:4<br>RFM Valor Monetario Promedio:2.28<br>Cantidad Clientes:1809\", \"RFM Cantidad:3<br>RFM Recencia:4<br>RFM Valor Monetario Promedio:2.93<br>Cantidad Clientes:1486\", \"RFM Cantidad:4<br>RFM Recencia:4<br>RFM Valor Monetario Promedio:3.59<br>Cantidad Clientes:1003\", \"RFM Cantidad:5<br>RFM Recencia:4<br>RFM Valor Monetario Promedio:4.48<br>Cantidad Clientes:403\", \"RFM Cantidad:1<br>RFM Recencia:5<br>RFM Valor Monetario Promedio:1.7<br>Cantidad Clientes:3570\", \"RFM Cantidad:2<br>RFM Recencia:5<br>RFM Valor Monetario Promedio:2.42<br>Cantidad Clientes:4700\", \"RFM Cantidad:3<br>RFM Recencia:5<br>RFM Valor Monetario Promedio:3.08<br>Cantidad Clientes:6119\", \"RFM Cantidad:4<br>RFM Recencia:5<br>RFM Valor Monetario Promedio:3.82<br>Cantidad Clientes:8048\", \"RFM Cantidad:5<br>RFM Recencia:5<br>RFM Valor Monetario Promedio:4.68<br>Cantidad Clientes:9199\"], \"x\": [1, 2, 3, 4, 5, 1, 2, 3, 4, 5, 1, 2, 3, 4, 5, 1, 2, 3, 4, 5, 1, 2, 3, 4, 5], \"y\": [1, 1, 1, 1, 1, 2, 2, 2, 2, 2, 3, 3, 3, 3, 3, 4, 4, 4, 4, 4, 5, 5, 5, 5, 5], \"type\": \"scatter\", \"uid\": \"444c86e0-9166-4f9b-88ed-819f4068d935\"}], {\"autosize\": true, \"hovermode\": \"closest\", \"title\": {\"text\": \"RFM por Cliente\"}, \"xaxis\": {\"title\": {\"font\": {\"color\": \"#14A751\", \"family\": \"Myriad\", \"size\": 20}, \"text\": \"RFM Cantidad\"}}, \"yaxis\": {\"title\": {\"font\": {\"color\": \"#14A751\", \"family\": \"Myriad\", \"size\": 20}, \"text\": \"RFM Recencia\"}}}, {\"showLink\": false, \"linkText\": \"Export to plot.ly\", \"plotlyServerURL\": \"https://plot.ly\"})});</script><script type=\"text/javascript\">window.addEventListener(\"resize\", function(){window._Plotly.Plots.resize(document.getElementById(\"e5c4a218-b084-412f-b6f3-eb68146b09a8\"));});</script>"
      ]
     },
     "metadata": {},
     "output_type": "display_data"
    }
   ],
   "source": [
    "crear_scatter_RFM(transacciones_agrupadas_RFM,\"RFM por Cliente\", size='Cantidad_Clientes')"
   ]
  },
  {
   "cell_type": "markdown",
   "metadata": {
    "slideshow": {
     "slide_type": "subslide"
    }
   },
   "source": [
    "Para los clientes, se puede apreciar que la mayoría caen en segmentos donde su transacción más reciente fue en el ultimo mes, por lo tanto son usuarios activos de la tarjeta. Sin embargo, una gran parte de los clientes (aproximadamente 10,000), tienen una cantidad y valor monetario bajos en su tarjeta. Por otro lado, hay un número de clientes (aproximadamente 1,500) con un nivel bueno de transaccionalidad pero baja recencia, que pueden ser \"rescatados\". **Esta gráfica nos ayuda a visualizar a los clientes de TC según segmentos de uso de la misma!**"
   ]
  },
  {
   "cell_type": "markdown",
   "metadata": {
    "slideshow": {
     "slide_type": "slide"
    }
   },
   "source": [
    "## Exploración de Clientes"
   ]
  },
  {
   "cell_type": "markdown",
   "metadata": {
    "slideshow": {
     "slide_type": "subslide"
    }
   },
   "source": [
    "A continuación, se calcularon las top 3 categorias de comercio preferentes por cliente, utilizando la metrica del RFM, y se realizó un análisis según caracteristicas de los clientes. Primero, el listado de preferencias por cliente."
   ]
  },
  {
   "cell_type": "code",
   "execution_count": 79,
   "metadata": {
    "slideshow": {
     "slide_type": "slide"
    }
   },
   "outputs": [
    {
     "data": {
      "text/html": [
       "<div>\n",
       "<style scoped>\n",
       "    .dataframe tbody tr th:only-of-type {\n",
       "        vertical-align: middle;\n",
       "    }\n",
       "\n",
       "    .dataframe tbody tr th {\n",
       "        vertical-align: top;\n",
       "    }\n",
       "\n",
       "    .dataframe thead th {\n",
       "        text-align: right;\n",
       "    }\n",
       "</style>\n",
       "<table border=\"1\" class=\"dataframe\">\n",
       "  <thead>\n",
       "    <tr style=\"text-align: right;\">\n",
       "      <th></th>\n",
       "      <th>Codigo_Cliente</th>\n",
       "      <th>Tipo_De_Persona</th>\n",
       "      <th>Segmento</th>\n",
       "      <th>Edad</th>\n",
       "      <th>Zona</th>\n",
       "      <th>Sexo</th>\n",
       "      <th>Limite_TC</th>\n",
       "    </tr>\n",
       "  </thead>\n",
       "  <tbody>\n",
       "    <tr>\n",
       "      <th>0</th>\n",
       "      <td>10.0</td>\n",
       "      <td>N</td>\n",
       "      <td>Clasico</td>\n",
       "      <td>36.0</td>\n",
       "      <td>Norte</td>\n",
       "      <td>F</td>\n",
       "      <td>50000.0</td>\n",
       "    </tr>\n",
       "    <tr>\n",
       "      <th>1</th>\n",
       "      <td>22.0</td>\n",
       "      <td>N</td>\n",
       "      <td>Emergente</td>\n",
       "      <td>54.0</td>\n",
       "      <td>Metropolitana</td>\n",
       "      <td>F</td>\n",
       "      <td>84000.0</td>\n",
       "    </tr>\n",
       "    <tr>\n",
       "      <th>2</th>\n",
       "      <td>51.0</td>\n",
       "      <td>N</td>\n",
       "      <td>Clasico</td>\n",
       "      <td>56.0</td>\n",
       "      <td>Norte</td>\n",
       "      <td>F</td>\n",
       "      <td>72000.0</td>\n",
       "    </tr>\n",
       "    <tr>\n",
       "      <th>3</th>\n",
       "      <td>59.0</td>\n",
       "      <td>N</td>\n",
       "      <td>Preferencial</td>\n",
       "      <td>49.0</td>\n",
       "      <td>Norte</td>\n",
       "      <td>M</td>\n",
       "      <td>100000.0</td>\n",
       "    </tr>\n",
       "    <tr>\n",
       "      <th>4</th>\n",
       "      <td>60.0</td>\n",
       "      <td>N</td>\n",
       "      <td>Emergente</td>\n",
       "      <td>57.0</td>\n",
       "      <td>Norte</td>\n",
       "      <td>M</td>\n",
       "      <td>248000.0</td>\n",
       "    </tr>\n",
       "  </tbody>\n",
       "</table>\n",
       "</div>"
      ],
      "text/plain": [
       "   Codigo_Cliente Tipo_De_Persona      Segmento  Edad           Zona Sexo  \\\n",
       "0            10.0               N       Clasico  36.0          Norte    F   \n",
       "1            22.0               N     Emergente  54.0  Metropolitana    F   \n",
       "2            51.0               N       Clasico  56.0          Norte    F   \n",
       "3            59.0               N  Preferencial  49.0          Norte    M   \n",
       "4            60.0               N     Emergente  57.0          Norte    M   \n",
       "\n",
       "   Limite_TC  \n",
       "0    50000.0  \n",
       "1    84000.0  \n",
       "2    72000.0  \n",
       "3   100000.0  \n",
       "4   248000.0  "
      ]
     },
     "execution_count": 79,
     "metadata": {},
     "output_type": "execute_result"
    }
   ],
   "source": [
    "data_clientes_bsc = pd.read_csv(\"data/data_clientes_bsc.csv\")\n",
    "data_clientes_bsc.head()"
   ]
  },
  {
   "cell_type": "code",
   "execution_count": 80,
   "metadata": {
    "slideshow": {
     "slide_type": "skip"
    }
   },
   "outputs": [
    {
     "data": {
      "text/html": [
       "<div>\n",
       "<style scoped>\n",
       "    .dataframe tbody tr th:only-of-type {\n",
       "        vertical-align: middle;\n",
       "    }\n",
       "\n",
       "    .dataframe tbody tr th {\n",
       "        vertical-align: top;\n",
       "    }\n",
       "\n",
       "    .dataframe thead th {\n",
       "        text-align: right;\n",
       "    }\n",
       "</style>\n",
       "<table border=\"1\" class=\"dataframe\">\n",
       "  <thead>\n",
       "    <tr style=\"text-align: right;\">\n",
       "      <th></th>\n",
       "      <th>Codigo_Cliente</th>\n",
       "      <th>Categoria_Agrupada</th>\n",
       "      <th>Cantidad</th>\n",
       "      <th>Valor_Total_RD</th>\n",
       "      <th>Recencia</th>\n",
       "      <th>Cantidad_RFM</th>\n",
       "      <th>Valor_Monetario_RFM</th>\n",
       "      <th>Score_RFM</th>\n",
       "      <th>Tipo_De_Persona</th>\n",
       "      <th>Segmento</th>\n",
       "      <th>Edad</th>\n",
       "      <th>Zona</th>\n",
       "      <th>Sexo</th>\n",
       "      <th>Limite_TC</th>\n",
       "    </tr>\n",
       "  </thead>\n",
       "  <tbody>\n",
       "    <tr>\n",
       "      <th>0</th>\n",
       "      <td>1</td>\n",
       "      <td>Servicios Gubernamentales</td>\n",
       "      <td>36</td>\n",
       "      <td>11993702.97</td>\n",
       "      <td>10</td>\n",
       "      <td>8</td>\n",
       "      <td>10</td>\n",
       "      <td>9.333333</td>\n",
       "      <td>NaN</td>\n",
       "      <td>NaN</td>\n",
       "      <td>NaN</td>\n",
       "      <td>NaN</td>\n",
       "      <td>NaN</td>\n",
       "      <td>NaN</td>\n",
       "    </tr>\n",
       "    <tr>\n",
       "      <th>1</th>\n",
       "      <td>1</td>\n",
       "      <td>Otros Servicios</td>\n",
       "      <td>31</td>\n",
       "      <td>925618.83</td>\n",
       "      <td>10</td>\n",
       "      <td>8</td>\n",
       "      <td>10</td>\n",
       "      <td>9.333333</td>\n",
       "      <td>NaN</td>\n",
       "      <td>NaN</td>\n",
       "      <td>NaN</td>\n",
       "      <td>NaN</td>\n",
       "      <td>NaN</td>\n",
       "      <td>NaN</td>\n",
       "    </tr>\n",
       "    <tr>\n",
       "      <th>2</th>\n",
       "      <td>1</td>\n",
       "      <td>Servicios de Comunicacion, Internet y Telecable</td>\n",
       "      <td>104</td>\n",
       "      <td>14825500.03</td>\n",
       "      <td>10</td>\n",
       "      <td>10</td>\n",
       "      <td>10</td>\n",
       "      <td>10.000000</td>\n",
       "      <td>NaN</td>\n",
       "      <td>NaN</td>\n",
       "      <td>NaN</td>\n",
       "      <td>NaN</td>\n",
       "      <td>NaN</td>\n",
       "      <td>NaN</td>\n",
       "    </tr>\n",
       "    <tr>\n",
       "      <th>3</th>\n",
       "      <td>10</td>\n",
       "      <td>Supermercados y Alimentos</td>\n",
       "      <td>10</td>\n",
       "      <td>11543.46</td>\n",
       "      <td>10</td>\n",
       "      <td>5</td>\n",
       "      <td>8</td>\n",
       "      <td>7.666667</td>\n",
       "      <td>N</td>\n",
       "      <td>Clasico</td>\n",
       "      <td>36.0</td>\n",
       "      <td>Norte</td>\n",
       "      <td>F</td>\n",
       "      <td>50000.0</td>\n",
       "    </tr>\n",
       "    <tr>\n",
       "      <th>4</th>\n",
       "      <td>10</td>\n",
       "      <td>Ropas</td>\n",
       "      <td>2</td>\n",
       "      <td>3622.50</td>\n",
       "      <td>10</td>\n",
       "      <td>2</td>\n",
       "      <td>6</td>\n",
       "      <td>6.000000</td>\n",
       "      <td>N</td>\n",
       "      <td>Clasico</td>\n",
       "      <td>36.0</td>\n",
       "      <td>Norte</td>\n",
       "      <td>F</td>\n",
       "      <td>50000.0</td>\n",
       "    </tr>\n",
       "  </tbody>\n",
       "</table>\n",
       "</div>"
      ],
      "text/plain": [
       "   Codigo_Cliente                               Categoria_Agrupada  Cantidad  \\\n",
       "0               1                        Servicios Gubernamentales        36   \n",
       "1               1                                  Otros Servicios        31   \n",
       "2               1  Servicios de Comunicacion, Internet y Telecable       104   \n",
       "3              10                        Supermercados y Alimentos        10   \n",
       "4              10                                            Ropas         2   \n",
       "\n",
       "   Valor_Total_RD  Recencia  Cantidad_RFM  Valor_Monetario_RFM  Score_RFM  \\\n",
       "0     11993702.97        10             8                   10   9.333333   \n",
       "1       925618.83        10             8                   10   9.333333   \n",
       "2     14825500.03        10            10                   10  10.000000   \n",
       "3        11543.46        10             5                    8   7.666667   \n",
       "4         3622.50        10             2                    6   6.000000   \n",
       "\n",
       "  Tipo_De_Persona Segmento  Edad   Zona Sexo  Limite_TC  \n",
       "0             NaN      NaN   NaN    NaN  NaN        NaN  \n",
       "1             NaN      NaN   NaN    NaN  NaN        NaN  \n",
       "2             NaN      NaN   NaN    NaN  NaN        NaN  \n",
       "3               N  Clasico  36.0  Norte    F    50000.0  \n",
       "4               N  Clasico  36.0  Norte    F    50000.0  "
      ]
     },
     "execution_count": 80,
     "metadata": {},
     "output_type": "execute_result"
    }
   ],
   "source": [
    "preferencias_clientes_full = top_n_comercios_rfm_cliente.merge(data_clientes_bsc,how='left')\n",
    "preferencias_clientes_qgrid = qgrid.show_grid(preferencias_clientes_full[['Codigo_Cliente','Categoria_Agrupada',\n",
    "                                                          'Score_RFM','Cantidad','Valor_Total_RD',\n",
    "                                                          'Segmento','Sexo','Edad']])\n",
    "preferencias_clientes_full.head()"
   ]
  },
  {
   "cell_type": "code",
   "execution_count": 81,
   "metadata": {
    "slideshow": {
     "slide_type": "subslide"
    }
   },
   "outputs": [
    {
     "data": {
      "application/vnd.jupyter.widget-view+json": {
       "model_id": "4c82776a814c4486a81275ccf6389332",
       "version_major": 2,
       "version_minor": 0
      },
      "text/plain": [
       "QgridWidget(grid_options={'fullWidthRows': True, 'syncColumnCellResize': True, 'forceFitColumns': True, 'defau…"
      ]
     },
     "metadata": {},
     "output_type": "display_data"
    }
   ],
   "source": [
    "preferencias_clientes_qgrid"
   ]
  },
  {
   "cell_type": "markdown",
   "metadata": {
    "slideshow": {
     "slide_type": "subslide"
    }
   },
   "source": [
    "Luego, procedimos a crear visualizaciones que ilustraran las diferencias de preferencias entre distintos tipos de clientes."
   ]
  },
  {
   "cell_type": "markdown",
   "metadata": {
    "slideshow": {
     "slide_type": "subslide"
    }
   },
   "source": [
    "#### Edad Mediana por Categoria de Comercio"
   ]
  },
  {
   "cell_type": "code",
   "execution_count": 82,
   "metadata": {
    "slideshow": {
     "slide_type": "skip"
    }
   },
   "outputs": [],
   "source": [
    "edad_mediana_por_categoria = create_grouping(preferencias_clientes_full,[\"Categoria_Agrupada\"],[\"Edad\"]\n",
    "                ,[\"Categoria_Agrupada\",\"Edad_Promedio\"],aggregation=\"median\")"
   ]
  },
  {
   "cell_type": "code",
   "execution_count": 83,
   "metadata": {
    "slideshow": {
     "slide_type": "subslide"
    }
   },
   "outputs": [
    {
     "data": {
      "application/vnd.plotly.v1+json": {
       "config": {
        "linkText": "Export to plot.ly",
        "plotlyServerURL": "https://plot.ly",
        "showLink": false
       },
       "data": [
        {
         "marker": {
          "color": "#1D62AE",
          "line": {
           "color": "#14A751",
           "width": 1
          }
         },
         "type": "bar",
         "uid": "3b87a4b1-9a6b-4a16-8843-c95ed16df0bd",
         "x": [
          "Ventas y Servicios de Equipos Electricos",
          "Instituciones Financieras y Aseguradoras",
          "Servicios de Construccion y Decoracion",
          "Servicios Gubernamentales",
          "Servicios Agropecuarios",
          "Ferreterias y Hogar",
          "Servicios de Transporte y Viajes",
          "Servicio Personales (Deliveries, etc.)",
          "Servicios de Textiles e Imprenta",
          "Servicios de Comunicacion, Internet y Telecable",
          "Articulos de Oficina",
          "Hoteles Moteles Resorts",
          "Servicios de Salud, Belleza y Recreacion",
          "Gasolineras y Vehiculos",
          "Supermercados y Alimentos",
          "Ropas",
          "Restaurantes",
          "Servicios Educativos",
          "Otros Servicios",
          "Tienda De Venta Especializada",
          "Licores",
          "Tecnologia y Software",
          "Musica",
          "Comida Rapida",
          "Cine y Peliculas",
          "Vida Nocturna"
         ],
         "y": [
          44,
          44,
          44,
          44,
          43,
          43,
          42,
          41,
          41,
          41,
          41,
          41,
          40,
          40,
          40,
          39,
          39,
          39,
          39,
          39,
          38,
          38,
          36,
          34,
          32,
          32
         ]
        }
       ],
       "layout": {
        "autosize": true,
        "title": {
         "text": "Edad Mediana Por Categoria"
        },
        "xaxis": {
         "showticklabels": true,
         "title": {
          "font": {
           "color": "#14A751",
           "family": "Myriad",
           "size": 20
          },
          "text": "Categoria_Agrupada"
         }
        },
        "yaxis": {
         "title": {
          "font": {
           "color": "#14A751",
           "family": "Myriad",
           "size": 20
          },
          "text": "Edad_Promedio"
         }
        }
       }
      },
      "text/html": [
       "<div id=\"93766f54-c211-41a4-879d-c82d956266e4\" style=\"height: 525px; width: 100%;\" class=\"plotly-graph-div\"></div><script type=\"text/javascript\">require([\"plotly\"], function(Plotly) { window.PLOTLYENV=window.PLOTLYENV || {};window.PLOTLYENV.BASE_URL=\"https://plot.ly\";Plotly.newPlot(\"93766f54-c211-41a4-879d-c82d956266e4\", [{\"marker\": {\"color\": \"#1D62AE\", \"line\": {\"color\": \"#14A751\", \"width\": 1}}, \"x\": [\"Ventas y Servicios de Equipos Electricos\", \"Instituciones Financieras y Aseguradoras\", \"Servicios de Construccion y Decoracion\", \"Servicios Gubernamentales\", \"Servicios Agropecuarios\", \"Ferreterias y Hogar\", \"Servicios de Transporte y Viajes\", \"Servicio Personales (Deliveries, etc.)\", \"Servicios de Textiles e Imprenta\", \"Servicios de Comunicacion, Internet y Telecable\", \"Articulos de Oficina\", \"Hoteles Moteles Resorts\", \"Servicios de Salud, Belleza y Recreacion\", \"Gasolineras y Vehiculos\", \"Supermercados y Alimentos\", \"Ropas\", \"Restaurantes\", \"Servicios Educativos\", \"Otros Servicios\", \"Tienda De Venta Especializada\", \"Licores\", \"Tecnologia y Software\", \"Musica\", \"Comida Rapida\", \"Cine y Peliculas\", \"Vida Nocturna\"], \"y\": [44.0, 44.0, 44.0, 44.0, 43.0, 43.0, 42.0, 41.0, 41.0, 41.0, 41.0, 41.0, 40.0, 40.0, 40.0, 39.0, 39.0, 39.0, 39.0, 39.0, 38.0, 38.0, 36.0, 34.0, 32.0, 32.0], \"type\": \"bar\", \"uid\": \"3b87a4b1-9a6b-4a16-8843-c95ed16df0bd\"}], {\"autosize\": true, \"title\": {\"text\": \"Edad Mediana Por Categoria\"}, \"xaxis\": {\"showticklabels\": true, \"title\": {\"font\": {\"color\": \"#14A751\", \"family\": \"Myriad\", \"size\": 20}, \"text\": \"Categoria_Agrupada\"}}, \"yaxis\": {\"title\": {\"font\": {\"color\": \"#14A751\", \"family\": \"Myriad\", \"size\": 20}, \"text\": \"Edad_Promedio\"}}}, {\"showLink\": false, \"linkText\": \"Export to plot.ly\", \"plotlyServerURL\": \"https://plot.ly\"})});</script><script type=\"text/javascript\">window.addEventListener(\"resize\", function(){window._Plotly.Plots.resize(document.getElementById(\"93766f54-c211-41a4-879d-c82d956266e4\"));});</script>"
      ],
      "text/vnd.plotly.v1+html": [
       "<div id=\"93766f54-c211-41a4-879d-c82d956266e4\" style=\"height: 525px; width: 100%;\" class=\"plotly-graph-div\"></div><script type=\"text/javascript\">require([\"plotly\"], function(Plotly) { window.PLOTLYENV=window.PLOTLYENV || {};window.PLOTLYENV.BASE_URL=\"https://plot.ly\";Plotly.newPlot(\"93766f54-c211-41a4-879d-c82d956266e4\", [{\"marker\": {\"color\": \"#1D62AE\", \"line\": {\"color\": \"#14A751\", \"width\": 1}}, \"x\": [\"Ventas y Servicios de Equipos Electricos\", \"Instituciones Financieras y Aseguradoras\", \"Servicios de Construccion y Decoracion\", \"Servicios Gubernamentales\", \"Servicios Agropecuarios\", \"Ferreterias y Hogar\", \"Servicios de Transporte y Viajes\", \"Servicio Personales (Deliveries, etc.)\", \"Servicios de Textiles e Imprenta\", \"Servicios de Comunicacion, Internet y Telecable\", \"Articulos de Oficina\", \"Hoteles Moteles Resorts\", \"Servicios de Salud, Belleza y Recreacion\", \"Gasolineras y Vehiculos\", \"Supermercados y Alimentos\", \"Ropas\", \"Restaurantes\", \"Servicios Educativos\", \"Otros Servicios\", \"Tienda De Venta Especializada\", \"Licores\", \"Tecnologia y Software\", \"Musica\", \"Comida Rapida\", \"Cine y Peliculas\", \"Vida Nocturna\"], \"y\": [44.0, 44.0, 44.0, 44.0, 43.0, 43.0, 42.0, 41.0, 41.0, 41.0, 41.0, 41.0, 40.0, 40.0, 40.0, 39.0, 39.0, 39.0, 39.0, 39.0, 38.0, 38.0, 36.0, 34.0, 32.0, 32.0], \"type\": \"bar\", \"uid\": \"3b87a4b1-9a6b-4a16-8843-c95ed16df0bd\"}], {\"autosize\": true, \"title\": {\"text\": \"Edad Mediana Por Categoria\"}, \"xaxis\": {\"showticklabels\": true, \"title\": {\"font\": {\"color\": \"#14A751\", \"family\": \"Myriad\", \"size\": 20}, \"text\": \"Categoria_Agrupada\"}}, \"yaxis\": {\"title\": {\"font\": {\"color\": \"#14A751\", \"family\": \"Myriad\", \"size\": 20}, \"text\": \"Edad_Promedio\"}}}, {\"showLink\": false, \"linkText\": \"Export to plot.ly\", \"plotlyServerURL\": \"https://plot.ly\"})});</script><script type=\"text/javascript\">window.addEventListener(\"resize\", function(){window._Plotly.Plots.resize(document.getElementById(\"93766f54-c211-41a4-879d-c82d956266e4\"));});</script>"
      ]
     },
     "metadata": {},
     "output_type": "display_data"
    }
   ],
   "source": [
    "bar_plotly(dataframe=edad_mediana_por_categoria,dim=\"Categoria_Agrupada\",value=\"Edad_Promedio\"\n",
    "           ,title=\"Edad Mediana Por Categoria\",show_text=True)"
   ]
  },
  {
   "cell_type": "markdown",
   "metadata": {
    "slideshow": {
     "slide_type": "subslide"
    }
   },
   "source": [
    "Concerniente a la edad, en los jovenes se nota una enorme preferencia en **Entretenimiento**, **Tecnología**, **Vida Nocturna** y **Compras en Línea**; los clientes más mayores, prefieren servicios para mejorar su futuro, tales como **Inversiones en Tierra y Ganado**, **Servicios del Gobierno** y de **Instituciones Financieras** y tambien **Construcción** y el **Hogar**.\n",
    "\n",
    "Ahora veamos una distribución según subsegmento de edad (18 a 27: Joven, 28 a 59 Adulto, 60 en Adelante Senior)"
   ]
  },
  {
   "cell_type": "code",
   "execution_count": 84,
   "metadata": {
    "slideshow": {
     "slide_type": "skip"
    }
   },
   "outputs": [],
   "source": [
    "def stacked_bar_plotly(dataframe,dim,group,value,title):   \n",
    "    sorted_dataframe = dataframe.sort_values(by=value,ascending=False)\n",
    "    data = list()\n",
    "    group_values = dataframe[group].unique()\n",
    "    for group_name in group_values:\n",
    "        group_data = sorted_dataframe.loc[sorted_dataframe[group] == group_name]\n",
    "        data.append(go.Bar(\n",
    "                    y=group_data[value],\n",
    "                    x=group_data[dim],\n",
    "                    name=group_name\n",
    "                )\n",
    "            )\n",
    "    \n",
    "\n",
    "    layout = go.Layout(\n",
    "        title=title,\n",
    "        autosize=True,\n",
    "        barmode='stack',\n",
    "         xaxis=dict(\n",
    "            title=dim,\n",
    "            titlefont=dict(\n",
    "                family='Myriad',\n",
    "                size=20,\n",
    "                color='#14A751'\n",
    "            ),\n",
    "        ),\n",
    "         yaxis=dict(\n",
    "            title=value,\n",
    "            titlefont=dict(\n",
    "                family='Myriad',\n",
    "                size=20,\n",
    "                color='#14A751'\n",
    "            )\n",
    "        )\n",
    "    )\n",
    "    fig = go.Figure(data=data, layout=layout)\n",
    "    ipy(fig, config=plotly_config)"
   ]
  },
  {
   "cell_type": "code",
   "execution_count": 85,
   "metadata": {
    "slideshow": {
     "slide_type": "skip"
    }
   },
   "outputs": [],
   "source": [
    "def create_count_percentage_by_group(dataframe, groupby_cols,count_col\n",
    "                                     ,new_cols):\n",
    "    count_data = dataframe.groupby(groupby_cols)[count_col].count()\n",
    "    percentage_data = count_data.groupby(level=0).apply(lambda x: 100 * x / x.sum()).reset_index()\n",
    "    percentage_data.columns = new_cols\n",
    "    return percentage_data"
   ]
  },
  {
   "cell_type": "code",
   "execution_count": 86,
   "metadata": {
    "slideshow": {
     "slide_type": "skip"
    }
   },
   "outputs": [
    {
     "data": {
      "text/html": [
       "<div>\n",
       "<style scoped>\n",
       "    .dataframe tbody tr th:only-of-type {\n",
       "        vertical-align: middle;\n",
       "    }\n",
       "\n",
       "    .dataframe tbody tr th {\n",
       "        vertical-align: top;\n",
       "    }\n",
       "\n",
       "    .dataframe thead th {\n",
       "        text-align: right;\n",
       "    }\n",
       "</style>\n",
       "<table border=\"1\" class=\"dataframe\">\n",
       "  <thead>\n",
       "    <tr style=\"text-align: right;\">\n",
       "      <th></th>\n",
       "      <th>Categoria_Agrupada</th>\n",
       "      <th>Microsegmento_Edad</th>\n",
       "      <th>Porcentaje_Clientes (%)</th>\n",
       "    </tr>\n",
       "  </thead>\n",
       "  <tbody>\n",
       "    <tr>\n",
       "      <th>0</th>\n",
       "      <td>Articulos de Oficina</td>\n",
       "      <td>Joven</td>\n",
       "      <td>15.573770</td>\n",
       "    </tr>\n",
       "    <tr>\n",
       "      <th>1</th>\n",
       "      <td>Articulos de Oficina</td>\n",
       "      <td>Adulto</td>\n",
       "      <td>72.131148</td>\n",
       "    </tr>\n",
       "    <tr>\n",
       "      <th>2</th>\n",
       "      <td>Articulos de Oficina</td>\n",
       "      <td>Senior</td>\n",
       "      <td>12.295082</td>\n",
       "    </tr>\n",
       "    <tr>\n",
       "      <th>3</th>\n",
       "      <td>Cine y Peliculas</td>\n",
       "      <td>Joven</td>\n",
       "      <td>32.915361</td>\n",
       "    </tr>\n",
       "    <tr>\n",
       "      <th>4</th>\n",
       "      <td>Cine y Peliculas</td>\n",
       "      <td>Adulto</td>\n",
       "      <td>65.830721</td>\n",
       "    </tr>\n",
       "  </tbody>\n",
       "</table>\n",
       "</div>"
      ],
      "text/plain": [
       "     Categoria_Agrupada Microsegmento_Edad  Porcentaje_Clientes (%)\n",
       "0  Articulos de Oficina              Joven                15.573770\n",
       "1  Articulos de Oficina             Adulto                72.131148\n",
       "2  Articulos de Oficina             Senior                12.295082\n",
       "3      Cine y Peliculas              Joven                32.915361\n",
       "4      Cine y Peliculas             Adulto                65.830721"
      ]
     },
     "execution_count": 86,
     "metadata": {},
     "output_type": "execute_result"
    }
   ],
   "source": [
    "preferencias_clientes_full[\"Microsegmento_Edad\"] = pd.cut(preferencias_clientes_full.Edad\n",
    "                                                          ,[18,28,59,999],labels=[\"Joven\",\"Adulto\",\"Senior\"])\n",
    "pct_preferencias_edad = create_count_percentage_by_group(preferencias_clientes_full\n",
    "                                              ,[\"Categoria_Agrupada\",\"Microsegmento_Edad\"],[\"Codigo_Cliente\"]\n",
    "                ,[\"Categoria_Agrupada\",\"Microsegmento_Edad\",\"Porcentaje_Clientes (%)\"])\n",
    "\n",
    "pct_preferencias_edad.head()"
   ]
  },
  {
   "cell_type": "markdown",
   "metadata": {
    "slideshow": {
     "slide_type": "subslide"
    }
   },
   "source": [
    "**Nota:** en los siguientes graficos de barra, el eje vertical representa el porcentaje de clientes, sumando a un 100% siempre. Los colores representan las categorias de interes. Se puede hacer doble clic en una categoriar para filtrar el gráfico por la misma. Esto representaría el porcentaje de una categoria según el filtro, no necesariamente que esta categoria domina al filtro."
   ]
  },
  {
   "cell_type": "code",
   "execution_count": 87,
   "metadata": {
    "slideshow": {
     "slide_type": "subslide"
    }
   },
   "outputs": [
    {
     "data": {
      "application/vnd.plotly.v1+json": {
       "config": {
        "linkText": "Export to plot.ly",
        "plotlyServerURL": "https://plot.ly",
        "showLink": false
       },
       "data": [
        {
         "name": "Joven",
         "type": "bar",
         "uid": "99be1321-1d7b-4dbf-b292-8a4666d879a0",
         "x": [
          "Vida Nocturna",
          "Cine y Peliculas",
          "Comida Rapida",
          "Musica",
          "Servicios Educativos",
          "Tecnologia y Software",
          "Restaurantes",
          "Otros Servicios",
          "Licores",
          "Tienda De Venta Especializada",
          "Servicio Personales (Deliveries, etc.)",
          "Articulos de Oficina",
          "Hoteles Moteles Resorts",
          "Ropas",
          "Servicios de Salud, Belleza y Recreacion",
          "Gasolineras y Vehiculos",
          "Servicios de Comunicacion, Internet y Telecable",
          "Supermercados y Alimentos",
          "Servicios de Transporte y Viajes",
          "Servicios Agropecuarios",
          "Servicios Gubernamentales",
          "Ferreterias y Hogar",
          "Servicios de Textiles e Imprenta",
          "Instituciones Financieras y Aseguradoras",
          "Ventas y Servicios de Equipos Electricos",
          "Servicios de Construccion y Decoracion"
         ],
         "y": [
          35.2046783625731,
          32.9153605015674,
          28.430987023200945,
          25,
          21.141888072357265,
          19.591141396933562,
          17.89587852494577,
          16.747404844290656,
          16.62024141132776,
          16.189840687296687,
          16.03053435114504,
          15.573770491803279,
          15.220125786163521,
          14.690856010843499,
          13.914163090128755,
          13.3816009315984,
          12.847127378676136,
          12.616197915119836,
          11.856243052982586,
          11.702127659574469,
          8.414127423822714,
          8.02493182703545,
          7.8431372549019605,
          7.646048109965636,
          6.524064171122995,
          3.8461538461538463
         ]
        },
        {
         "name": "Adulto",
         "type": "bar",
         "uid": "15218840-416a-4486-b9e9-9dcd151a3f63",
         "x": [
          "Servicios de Construccion y Decoracion",
          "Servicios de Textiles e Imprenta",
          "Ferreterias y Hogar",
          "Servicios Agropecuarios",
          "Ventas y Servicios de Equipos Electricos",
          "Servicios Gubernamentales",
          "Instituciones Financieras y Aseguradoras",
          "Gasolineras y Vehiculos",
          "Ropas",
          "Supermercados y Alimentos",
          "Tienda De Venta Especializada",
          "Servicios de Comunicacion, Internet y Telecable",
          "Servicios de Transporte y Viajes",
          "Servicios de Salud, Belleza y Recreacion",
          "Licores",
          "Otros Servicios",
          "Servicios Educativos",
          "Hoteles Moteles Resorts",
          "Tecnologia y Software",
          "Restaurantes",
          "Servicio Personales (Deliveries, etc.)",
          "Articulos de Oficina",
          "Musica",
          "Comida Rapida",
          "Cine y Peliculas",
          "Vida Nocturna"
         ],
         "y": [
          84.61538461538461,
          84.31372549019608,
          81.55434359174133,
          81.38297872340425,
          80.42780748663101,
          79.12049861495845,
          78.09278350515464,
          78.01123993721836,
          77.98978208737358,
          77.82364646134656,
          76.87046459254316,
          76.78229991805517,
          76.6950722489811,
          74.88412017167381,
          74.5589600742804,
          73.49480968858131,
          73.43131712832108,
          73.20754716981132,
          72.91311754684838,
          72.86334056399133,
          72.51908396946565,
          72.1311475409836,
          69.77272727272727,
          67.08611875737319,
          65.8307210031348,
          61.52046783625731
         ]
        },
        {
         "name": "Senior",
         "type": "bar",
         "uid": "8a4ceff8-fd7a-41c3-b5b5-dd8b49e90a77",
         "x": [
          "Instituciones Financieras y Aseguradoras",
          "Ventas y Servicios de Equipos Electricos",
          "Servicios Gubernamentales",
          "Articulos de Oficina",
          "Hoteles Moteles Resorts",
          "Servicios de Construccion y Decoracion",
          "Servicio Personales (Deliveries, etc.)",
          "Servicios de Transporte y Viajes",
          "Servicios de Salud, Belleza y Recreacion",
          "Ferreterias y Hogar",
          "Servicios de Comunicacion, Internet y Telecable",
          "Otros Servicios",
          "Supermercados y Alimentos",
          "Restaurantes",
          "Licores",
          "Gasolineras y Vehiculos",
          "Servicios de Textiles e Imprenta",
          "Tecnologia y Software",
          "Ropas",
          "Tienda De Venta Especializada",
          "Servicios Agropecuarios",
          "Servicios Educativos",
          "Musica",
          "Comida Rapida",
          "Vida Nocturna",
          "Cine y Peliculas"
         ],
         "y": [
          14.261168384879726,
          13.04812834224599,
          12.465373961218837,
          12.295081967213115,
          11.572327044025156,
          11.538461538461538,
          11.450381679389313,
          11.44868469803631,
          11.201716738197424,
          10.420724581223217,
          10.370572703268689,
          9.757785467128027,
          9.560155623533605,
          9.240780911062906,
          8.820798514391829,
          8.60715913118323,
          7.8431372549019605,
          7.4957410562180575,
          7.319361901782922,
          6.939694720160147,
          6.914893617021277,
          5.426794799321651,
          5.2272727272727275,
          4.482894219425875,
          3.2748538011695905,
          1.2539184952978057
         ]
        }
       ],
       "layout": {
        "autosize": true,
        "barmode": "stack",
        "title": {
         "text": "Preferencias por Categoria por Microsegmento Edad"
        },
        "xaxis": {
         "title": {
          "font": {
           "color": "#14A751",
           "family": "Myriad",
           "size": 20
          },
          "text": "Categoria_Agrupada"
         }
        },
        "yaxis": {
         "title": {
          "font": {
           "color": "#14A751",
           "family": "Myriad",
           "size": 20
          },
          "text": "Porcentaje_Clientes (%)"
         }
        }
       }
      },
      "text/html": [
       "<div id=\"e29a552c-00e2-45da-b35b-078f66addd91\" style=\"height: 525px; width: 100%;\" class=\"plotly-graph-div\"></div><script type=\"text/javascript\">require([\"plotly\"], function(Plotly) { window.PLOTLYENV=window.PLOTLYENV || {};window.PLOTLYENV.BASE_URL=\"https://plot.ly\";Plotly.newPlot(\"e29a552c-00e2-45da-b35b-078f66addd91\", [{\"name\": \"Joven\", \"x\": [\"Vida Nocturna\", \"Cine y Peliculas\", \"Comida Rapida\", \"Musica\", \"Servicios Educativos\", \"Tecnologia y Software\", \"Restaurantes\", \"Otros Servicios\", \"Licores\", \"Tienda De Venta Especializada\", \"Servicio Personales (Deliveries, etc.)\", \"Articulos de Oficina\", \"Hoteles Moteles Resorts\", \"Ropas\", \"Servicios de Salud, Belleza y Recreacion\", \"Gasolineras y Vehiculos\", \"Servicios de Comunicacion, Internet y Telecable\", \"Supermercados y Alimentos\", \"Servicios de Transporte y Viajes\", \"Servicios Agropecuarios\", \"Servicios Gubernamentales\", \"Ferreterias y Hogar\", \"Servicios de Textiles e Imprenta\", \"Instituciones Financieras y Aseguradoras\", \"Ventas y Servicios de Equipos Electricos\", \"Servicios de Construccion y Decoracion\"], \"y\": [35.2046783625731, 32.9153605015674, 28.430987023200945, 25.0, 21.141888072357265, 19.591141396933562, 17.89587852494577, 16.747404844290656, 16.62024141132776, 16.189840687296687, 16.03053435114504, 15.573770491803279, 15.220125786163521, 14.690856010843499, 13.914163090128755, 13.3816009315984, 12.847127378676136, 12.616197915119836, 11.856243052982586, 11.702127659574469, 8.414127423822714, 8.02493182703545, 7.8431372549019605, 7.646048109965636, 6.524064171122995, 3.8461538461538463], \"type\": \"bar\", \"uid\": \"99be1321-1d7b-4dbf-b292-8a4666d879a0\"}, {\"name\": \"Adulto\", \"x\": [\"Servicios de Construccion y Decoracion\", \"Servicios de Textiles e Imprenta\", \"Ferreterias y Hogar\", \"Servicios Agropecuarios\", \"Ventas y Servicios de Equipos Electricos\", \"Servicios Gubernamentales\", \"Instituciones Financieras y Aseguradoras\", \"Gasolineras y Vehiculos\", \"Ropas\", \"Supermercados y Alimentos\", \"Tienda De Venta Especializada\", \"Servicios de Comunicacion, Internet y Telecable\", \"Servicios de Transporte y Viajes\", \"Servicios de Salud, Belleza y Recreacion\", \"Licores\", \"Otros Servicios\", \"Servicios Educativos\", \"Hoteles Moteles Resorts\", \"Tecnologia y Software\", \"Restaurantes\", \"Servicio Personales (Deliveries, etc.)\", \"Articulos de Oficina\", \"Musica\", \"Comida Rapida\", \"Cine y Peliculas\", \"Vida Nocturna\"], \"y\": [84.61538461538461, 84.31372549019608, 81.55434359174133, 81.38297872340425, 80.42780748663101, 79.12049861495845, 78.09278350515464, 78.01123993721836, 77.98978208737358, 77.82364646134656, 76.87046459254316, 76.78229991805517, 76.6950722489811, 74.88412017167381, 74.5589600742804, 73.49480968858131, 73.43131712832108, 73.20754716981132, 72.91311754684838, 72.86334056399133, 72.51908396946565, 72.1311475409836, 69.77272727272727, 67.08611875737319, 65.8307210031348, 61.52046783625731], \"type\": \"bar\", \"uid\": \"15218840-416a-4486-b9e9-9dcd151a3f63\"}, {\"name\": \"Senior\", \"x\": [\"Instituciones Financieras y Aseguradoras\", \"Ventas y Servicios de Equipos Electricos\", \"Servicios Gubernamentales\", \"Articulos de Oficina\", \"Hoteles Moteles Resorts\", \"Servicios de Construccion y Decoracion\", \"Servicio Personales (Deliveries, etc.)\", \"Servicios de Transporte y Viajes\", \"Servicios de Salud, Belleza y Recreacion\", \"Ferreterias y Hogar\", \"Servicios de Comunicacion, Internet y Telecable\", \"Otros Servicios\", \"Supermercados y Alimentos\", \"Restaurantes\", \"Licores\", \"Gasolineras y Vehiculos\", \"Servicios de Textiles e Imprenta\", \"Tecnologia y Software\", \"Ropas\", \"Tienda De Venta Especializada\", \"Servicios Agropecuarios\", \"Servicios Educativos\", \"Musica\", \"Comida Rapida\", \"Vida Nocturna\", \"Cine y Peliculas\"], \"y\": [14.261168384879726, 13.04812834224599, 12.465373961218837, 12.295081967213115, 11.572327044025156, 11.538461538461538, 11.450381679389313, 11.44868469803631, 11.201716738197424, 10.420724581223217, 10.370572703268689, 9.757785467128027, 9.560155623533605, 9.240780911062906, 8.820798514391829, 8.60715913118323, 7.8431372549019605, 7.4957410562180575, 7.319361901782922, 6.939694720160147, 6.914893617021277, 5.426794799321651, 5.2272727272727275, 4.482894219425875, 3.2748538011695905, 1.2539184952978057], \"type\": \"bar\", \"uid\": \"8a4ceff8-fd7a-41c3-b5b5-dd8b49e90a77\"}], {\"autosize\": true, \"barmode\": \"stack\", \"title\": {\"text\": \"Preferencias por Categoria por Microsegmento Edad\"}, \"xaxis\": {\"title\": {\"font\": {\"color\": \"#14A751\", \"family\": \"Myriad\", \"size\": 20}, \"text\": \"Categoria_Agrupada\"}}, \"yaxis\": {\"title\": {\"font\": {\"color\": \"#14A751\", \"family\": \"Myriad\", \"size\": 20}, \"text\": \"Porcentaje_Clientes (%)\"}}}, {\"showLink\": false, \"linkText\": \"Export to plot.ly\", \"plotlyServerURL\": \"https://plot.ly\"})});</script><script type=\"text/javascript\">window.addEventListener(\"resize\", function(){window._Plotly.Plots.resize(document.getElementById(\"e29a552c-00e2-45da-b35b-078f66addd91\"));});</script>"
      ],
      "text/vnd.plotly.v1+html": [
       "<div id=\"e29a552c-00e2-45da-b35b-078f66addd91\" style=\"height: 525px; width: 100%;\" class=\"plotly-graph-div\"></div><script type=\"text/javascript\">require([\"plotly\"], function(Plotly) { window.PLOTLYENV=window.PLOTLYENV || {};window.PLOTLYENV.BASE_URL=\"https://plot.ly\";Plotly.newPlot(\"e29a552c-00e2-45da-b35b-078f66addd91\", [{\"name\": \"Joven\", \"x\": [\"Vida Nocturna\", \"Cine y Peliculas\", \"Comida Rapida\", \"Musica\", \"Servicios Educativos\", \"Tecnologia y Software\", \"Restaurantes\", \"Otros Servicios\", \"Licores\", \"Tienda De Venta Especializada\", \"Servicio Personales (Deliveries, etc.)\", \"Articulos de Oficina\", \"Hoteles Moteles Resorts\", \"Ropas\", \"Servicios de Salud, Belleza y Recreacion\", \"Gasolineras y Vehiculos\", \"Servicios de Comunicacion, Internet y Telecable\", \"Supermercados y Alimentos\", \"Servicios de Transporte y Viajes\", \"Servicios Agropecuarios\", \"Servicios Gubernamentales\", \"Ferreterias y Hogar\", \"Servicios de Textiles e Imprenta\", \"Instituciones Financieras y Aseguradoras\", \"Ventas y Servicios de Equipos Electricos\", \"Servicios de Construccion y Decoracion\"], \"y\": [35.2046783625731, 32.9153605015674, 28.430987023200945, 25.0, 21.141888072357265, 19.591141396933562, 17.89587852494577, 16.747404844290656, 16.62024141132776, 16.189840687296687, 16.03053435114504, 15.573770491803279, 15.220125786163521, 14.690856010843499, 13.914163090128755, 13.3816009315984, 12.847127378676136, 12.616197915119836, 11.856243052982586, 11.702127659574469, 8.414127423822714, 8.02493182703545, 7.8431372549019605, 7.646048109965636, 6.524064171122995, 3.8461538461538463], \"type\": \"bar\", \"uid\": \"99be1321-1d7b-4dbf-b292-8a4666d879a0\"}, {\"name\": \"Adulto\", \"x\": [\"Servicios de Construccion y Decoracion\", \"Servicios de Textiles e Imprenta\", \"Ferreterias y Hogar\", \"Servicios Agropecuarios\", \"Ventas y Servicios de Equipos Electricos\", \"Servicios Gubernamentales\", \"Instituciones Financieras y Aseguradoras\", \"Gasolineras y Vehiculos\", \"Ropas\", \"Supermercados y Alimentos\", \"Tienda De Venta Especializada\", \"Servicios de Comunicacion, Internet y Telecable\", \"Servicios de Transporte y Viajes\", \"Servicios de Salud, Belleza y Recreacion\", \"Licores\", \"Otros Servicios\", \"Servicios Educativos\", \"Hoteles Moteles Resorts\", \"Tecnologia y Software\", \"Restaurantes\", \"Servicio Personales (Deliveries, etc.)\", \"Articulos de Oficina\", \"Musica\", \"Comida Rapida\", \"Cine y Peliculas\", \"Vida Nocturna\"], \"y\": [84.61538461538461, 84.31372549019608, 81.55434359174133, 81.38297872340425, 80.42780748663101, 79.12049861495845, 78.09278350515464, 78.01123993721836, 77.98978208737358, 77.82364646134656, 76.87046459254316, 76.78229991805517, 76.6950722489811, 74.88412017167381, 74.5589600742804, 73.49480968858131, 73.43131712832108, 73.20754716981132, 72.91311754684838, 72.86334056399133, 72.51908396946565, 72.1311475409836, 69.77272727272727, 67.08611875737319, 65.8307210031348, 61.52046783625731], \"type\": \"bar\", \"uid\": \"15218840-416a-4486-b9e9-9dcd151a3f63\"}, {\"name\": \"Senior\", \"x\": [\"Instituciones Financieras y Aseguradoras\", \"Ventas y Servicios de Equipos Electricos\", \"Servicios Gubernamentales\", \"Articulos de Oficina\", \"Hoteles Moteles Resorts\", \"Servicios de Construccion y Decoracion\", \"Servicio Personales (Deliveries, etc.)\", \"Servicios de Transporte y Viajes\", \"Servicios de Salud, Belleza y Recreacion\", \"Ferreterias y Hogar\", \"Servicios de Comunicacion, Internet y Telecable\", \"Otros Servicios\", \"Supermercados y Alimentos\", \"Restaurantes\", \"Licores\", \"Gasolineras y Vehiculos\", \"Servicios de Textiles e Imprenta\", \"Tecnologia y Software\", \"Ropas\", \"Tienda De Venta Especializada\", \"Servicios Agropecuarios\", \"Servicios Educativos\", \"Musica\", \"Comida Rapida\", \"Vida Nocturna\", \"Cine y Peliculas\"], \"y\": [14.261168384879726, 13.04812834224599, 12.465373961218837, 12.295081967213115, 11.572327044025156, 11.538461538461538, 11.450381679389313, 11.44868469803631, 11.201716738197424, 10.420724581223217, 10.370572703268689, 9.757785467128027, 9.560155623533605, 9.240780911062906, 8.820798514391829, 8.60715913118323, 7.8431372549019605, 7.4957410562180575, 7.319361901782922, 6.939694720160147, 6.914893617021277, 5.426794799321651, 5.2272727272727275, 4.482894219425875, 3.2748538011695905, 1.2539184952978057], \"type\": \"bar\", \"uid\": \"8a4ceff8-fd7a-41c3-b5b5-dd8b49e90a77\"}], {\"autosize\": true, \"barmode\": \"stack\", \"title\": {\"text\": \"Preferencias por Categoria por Microsegmento Edad\"}, \"xaxis\": {\"title\": {\"font\": {\"color\": \"#14A751\", \"family\": \"Myriad\", \"size\": 20}, \"text\": \"Categoria_Agrupada\"}}, \"yaxis\": {\"title\": {\"font\": {\"color\": \"#14A751\", \"family\": \"Myriad\", \"size\": 20}, \"text\": \"Porcentaje_Clientes (%)\"}}}, {\"showLink\": false, \"linkText\": \"Export to plot.ly\", \"plotlyServerURL\": \"https://plot.ly\"})});</script><script type=\"text/javascript\">window.addEventListener(\"resize\", function(){window._Plotly.Plots.resize(document.getElementById(\"e29a552c-00e2-45da-b35b-078f66addd91\"));});</script>"
      ]
     },
     "metadata": {},
     "output_type": "display_data"
    }
   ],
   "source": [
    "stacked_bar_plotly(pct_preferencias_edad,\"Categoria_Agrupada\",\"Microsegmento_Edad\"\n",
    "                   ,\"Porcentaje_Clientes (%)\",\"Preferencias por Categoria por Microsegmento Edad\")"
   ]
  },
  {
   "cell_type": "markdown",
   "metadata": {
    "slideshow": {
     "slide_type": "subslide"
    }
   },
   "source": [
    "Se pueden apreciar las diferencias entre las categorias por los segmentos de edad donde: \n",
    "\n",
    "- Las categorias de Entretenimiento, Comida Rapida, Educación y Tecnología tienen mayor captación entre los jovenes.\n",
    "\n",
    "- El Cuidado del Hogar y Supermercados, los Viajes y Restaurantes tienen mayor captación entre los adultos.\n",
    "\n",
    "- Las Instituciones Financieras, y Servicios para Empresas (Gubernamentales, Articulos de Oficina) tienen mayor captación entre los senior."
   ]
  },
  {
   "cell_type": "code",
   "execution_count": 88,
   "metadata": {
    "slideshow": {
     "slide_type": "skip"
    }
   },
   "outputs": [
    {
     "data": {
      "text/html": [
       "<div>\n",
       "<style scoped>\n",
       "    .dataframe tbody tr th:only-of-type {\n",
       "        vertical-align: middle;\n",
       "    }\n",
       "\n",
       "    .dataframe tbody tr th {\n",
       "        vertical-align: top;\n",
       "    }\n",
       "\n",
       "    .dataframe thead th {\n",
       "        text-align: right;\n",
       "    }\n",
       "</style>\n",
       "<table border=\"1\" class=\"dataframe\">\n",
       "  <thead>\n",
       "    <tr style=\"text-align: right;\">\n",
       "      <th></th>\n",
       "      <th>Microsegmento_Edad</th>\n",
       "      <th>Categoria_Agrupada</th>\n",
       "      <th>Porcentaje_Clientes (%)</th>\n",
       "    </tr>\n",
       "  </thead>\n",
       "  <tbody>\n",
       "    <tr>\n",
       "      <th>0</th>\n",
       "      <td>Joven</td>\n",
       "      <td>Articulos de Oficina</td>\n",
       "      <td>0.203677</td>\n",
       "    </tr>\n",
       "    <tr>\n",
       "      <th>1</th>\n",
       "      <td>Joven</td>\n",
       "      <td>Cine y Peliculas</td>\n",
       "      <td>0.562791</td>\n",
       "    </tr>\n",
       "    <tr>\n",
       "      <th>2</th>\n",
       "      <td>Joven</td>\n",
       "      <td>Comida Rapida</td>\n",
       "      <td>7.750442</td>\n",
       "    </tr>\n",
       "    <tr>\n",
       "      <th>3</th>\n",
       "      <td>Joven</td>\n",
       "      <td>Ferreterias y Hogar</td>\n",
       "      <td>2.208286</td>\n",
       "    </tr>\n",
       "    <tr>\n",
       "      <th>4</th>\n",
       "      <td>Joven</td>\n",
       "      <td>Gasolineras y Vehiculos</td>\n",
       "      <td>14.166265</td>\n",
       "    </tr>\n",
       "  </tbody>\n",
       "</table>\n",
       "</div>"
      ],
      "text/plain": [
       "  Microsegmento_Edad       Categoria_Agrupada  Porcentaje_Clientes (%)\n",
       "0              Joven     Articulos de Oficina                 0.203677\n",
       "1              Joven         Cine y Peliculas                 0.562791\n",
       "2              Joven            Comida Rapida                 7.750442\n",
       "3              Joven      Ferreterias y Hogar                 2.208286\n",
       "4              Joven  Gasolineras y Vehiculos                14.166265"
      ]
     },
     "execution_count": 88,
     "metadata": {},
     "output_type": "execute_result"
    }
   ],
   "source": [
    "pct_edad_preferencias = create_count_percentage_by_group(preferencias_clientes_full\n",
    "                                              ,[\"Microsegmento_Edad\",\"Categoria_Agrupada\"],[\"Codigo_Cliente\"]\n",
    "                ,[\"Microsegmento_Edad\",\"Categoria_Agrupada\",\"Porcentaje_Clientes (%)\"])\n",
    "\n",
    "pct_edad_preferencias.head()"
   ]
  },
  {
   "cell_type": "markdown",
   "metadata": {
    "slideshow": {
     "slide_type": "subslide"
    }
   },
   "source": [
    "**Nota:** En este gráfico, y otros similares a continuación, el eje horizontal representa una dimensión de interes (ejemplo Edad) y los colores representan las categorias de comercio. Su intención es poner más enfasis en la dimensión y las diferencias entre las categorias de comercios. Es recomendado hacer doble clic en una categoria de comercio y explorarla. "
   ]
  },
  {
   "cell_type": "code",
   "execution_count": 89,
   "metadata": {
    "slideshow": {
     "slide_type": "subslide"
    }
   },
   "outputs": [
    {
     "data": {
      "application/vnd.plotly.v1+json": {
       "config": {
        "linkText": "Export to plot.ly",
        "plotlyServerURL": "https://plot.ly",
        "showLink": false
       },
       "data": [
        {
         "name": "Articulos de Oficina",
         "type": "bar",
         "uid": "fb5cc6f5-9624-4f51-82da-abbd49fbfc36",
         "x": [
          "Senior",
          "Joven",
          "Adulto"
         ],
         "y": [
          0.24958402662229617,
          0.20367690411105752,
          0.1746360921205386
         ]
        },
        {
         "name": "Cine y Peliculas",
         "type": "bar",
         "uid": "151c274f-112e-4b6f-9c25-7eb58721f5ae",
         "x": [
          "Joven",
          "Adulto",
          "Senior"
         ],
         "y": [
          0.5627914455700274,
          0.20837260991655174,
          0.033277870216306155
         ]
        },
        {
         "name": "Comida Rapida",
         "type": "bar",
         "uid": "95cd4cba-6f70-4366-87f3-58775b200f8b",
         "x": [
          "Joven",
          "Adulto",
          "Senior"
         ],
         "y": [
          7.750442193278662,
          3.3855587858822593,
          1.896838602329451
         ]
        },
        {
         "name": "Ferreterias y Hogar",
         "type": "bar",
         "uid": "6c95652e-8ca8-4243-b79e-e50b45b5d668",
         "x": [
          "Senior",
          "Adulto",
          "Joven"
         ],
         "y": [
          4.450915141430948,
          4.154552941526677,
          2.2082864340462023
         ]
        },
        {
         "name": "Gasolineras y Vehiculos",
         "type": "bar",
         "uid": "00eaa715-2892-4b8a-8363-9d416b2975f4",
         "x": [
          "Adulto",
          "Joven",
          "Senior"
         ],
         "y": [
          15.288596064734424,
          14.166264672776974,
          14.143094841930116
         ]
        },
        {
         "name": "Hoteles Moteles Resorts",
         "type": "bar",
         "uid": "b60d94b1-d59c-40db-aafd-880ef94e9279",
         "x": [
          "Senior",
          "Joven",
          "Adulto"
         ],
         "y": [
          0.7653910149750416,
          0.648550142037841,
          0.577489804625872
         ]
        },
        {
         "name": "Instituciones Financieras y Aseguradoras",
         "type": "bar",
         "uid": "71806639-d0d0-4646-bed6-97d3c82e82da",
         "x": [
          "Senior",
          "Adulto",
          "Joven"
         ],
         "y": [
          1.3810316139767056,
          0.9019557257816454,
          0.47703274910221366
         ]
        },
        {
         "name": "Licores",
         "type": "bar",
         "uid": "72d40a9a-0ffb-4679-aaf7-38c5fe2be153",
         "x": [
          "Joven",
          "Adulto",
          "Senior"
         ],
         "y": [
          0.9594254167336657,
          0.7967771702999573,
          0.7903494176372712
         ]
        },
        {
         "name": "Musica",
         "type": "bar",
         "uid": "0eea88d3-d296-4177-a5ed-42636c1d5c52",
         "x": [
          "Joven",
          "Adulto",
          "Senior"
         ],
         "y": [
          1.1791820764324383,
          0.6092418213750608,
          0.3826955074875208
         ]
        },
        {
         "name": "Otros Servicios",
         "type": "bar",
         "uid": "4cea50aa-3c12-4df0-9129-3602ac7a92b0",
         "x": [
          "Joven",
          "Senior",
          "Adulto"
         ],
         "y": [
          1.297100284075682,
          1.173044925124792,
          1.0537700558637044
         ]
        },
        {
         "name": "Restaurantes",
         "type": "bar",
         "uid": "3aec1552-b944-4595-bb82-36f71c6aa518",
         "x": [
          "Joven",
          "Senior",
          "Adulto"
         ],
         "y": [
          4.421932786621643,
          3.5440931780366056,
          3.3329695081414155
         ]
        },
        {
         "name": "Ropas",
         "type": "bar",
         "uid": "38c9ac29-d8a4-471a-8545-48bebbbdd402",
         "x": [
          "Joven",
          "Adulto",
          "Senior"
         ],
         "y": [
          7.552125207696843,
          7.42203391512289,
          5.840266222961731
         ]
        },
        {
         "name": "Servicio Personales (Deliveries, etc.)",
         "type": "bar",
         "uid": "fd52e40e-45e4-4d10-b6d6-ed675ce5dca7",
         "x": [
          "Senior",
          "Joven",
          "Adulto"
         ],
         "y": [
          0.12479201331114809,
          0.11255828911400546,
          0.09426379972415436
         ]
        },
        {
         "name": "Servicios Agropecuarios",
         "type": "bar",
         "uid": "fe450275-368c-4f3f-a4fc-99244faab960",
         "x": [
          "Adulto",
          "Joven",
          "Senior"
         ],
         "y": [
          0.1518143300820591,
          0.11791820764324382,
          0.10815307820299501
         ]
        },
        {
         "name": "Servicios Educativos",
         "type": "bar",
         "uid": "9e8ef237-9006-4eaa-8ec0-b3e2cc01fe6e",
         "x": [
          "Joven",
          "Adulto",
          "Senior"
         ],
         "y": [
          2.004609529935145,
          1.2889334299123842,
          0.7986688851913477
         ]
        },
        {
         "name": "Servicios Gubernamentales",
         "type": "bar",
         "uid": "c575dc25-982d-4d35-873e-a48b8fcbaee6",
         "x": [
          "Senior",
          "Adulto",
          "Joven"
         ],
         "y": [
          5.990016638935108,
          4.53458489199353,
          2.6049204052098407
         ]
        },
        {
         "name": "Servicios de Comunicacion, Internet y Telecable",
         "type": "bar",
         "uid": "4f78d9bc-534d-4107-8ea4-eb23dfa97b0f",
         "x": [
          "Senior",
          "Adulto",
          "Joven"
         ],
         "y": [
          9.475873544093178,
          8.36764866393467,
          7.56284504475532
         ]
        },
        {
         "name": "Servicios de Construccion y Decoracion",
         "type": "bar",
         "uid": "ab4891ed-e832-41e4-aa72-766178f5bfd2",
         "x": [
          "Senior",
          "Adulto",
          "Joven"
         ],
         "y": [
          0.07487520798668885,
          0.06548853454520197,
          0.016079755587715065
         ]
        },
        {
         "name": "Servicios de Salud, Belleza y Recreacion",
         "type": "bar",
         "uid": "d14ab3df-33eb-415a-94d0-0f17552074d0",
         "x": [
          "Senior",
          "Joven",
          "Adulto"
         ],
         "y": [
          10.856905158069884,
          8.688427935895374,
          8.656393566247607
         ]
        },
        {
         "name": "Servicios de Textiles e Imprenta",
         "type": "bar",
         "uid": "b4ea2cb7-caaf-4026-b075-9eb6859878c3",
         "x": [
          "Adulto",
          "Senior",
          "Joven"
         ],
         "y": [
          0.042666772506722496,
          0.033277870216306155,
          0.02143967411695342
         ]
        },
        {
         "name": "Servicios de Transporte y Viajes",
         "type": "bar",
         "uid": "992172c1-6db0-4f9d-b022-e07443d9d835",
         "x": [
          "Senior",
          "Adulto",
          "Joven"
         ],
         "y": [
          2.5707154742096505,
          2.0539585834631526,
          1.7151739293562738
         ]
        },
        {
         "name": "Supermercados y Alimentos",
         "type": "bar",
         "uid": "074ab6e1-02e3-41cb-909d-f3c10e3fd7b2",
         "x": [
          "Senior",
          "Adulto",
          "Joven"
         ],
         "y": [
          26.78036605657238,
          26.000932715492006,
          22.768933912204535
         ]
        },
        {
         "name": "Tecnologia y Software",
         "type": "bar",
         "uid": "a9e4199e-5a38-469d-a9da-ec168b4ff5be",
         "x": [
          "Joven",
          "Adulto",
          "Senior"
         ],
         "y": [
          0.6163906308624109,
          0.42468322402040065,
          0.36605657237936773
         ]
        },
        {
         "name": "Tienda De Venta Especializada",
         "type": "bar",
         "uid": "0ca7d5ac-8679-48f1-96c7-f5e83daa591c",
         "x": [
          "Joven",
          "Adulto",
          "Senior"
         ],
         "y": [
          10.403601865251648,
          9.144580823766384,
          6.921797004991681
         ]
        },
        {
         "name": "Ventas y Servicios de Equipos Electricos",
         "type": "bar",
         "uid": "a8e06195-3267-48e3-bc87-ab985e526f20",
         "x": [
          "Senior",
          "Adulto",
          "Joven"
         ],
         "y": [
          1.0149750415973378,
          0.7461723936059377,
          0.32695503028353967
         ]
        },
        {
         "name": "Vida Nocturna",
         "type": "bar",
         "uid": "a367f466-0669-42c2-8c22-3785ab71514b",
         "x": [
          "Joven",
          "Adulto",
          "Senior"
         ],
         "y": [
          1.6133354773007451,
          0.5219237753147915,
          0.23294509151414308
         ]
        }
       ],
       "layout": {
        "autosize": true,
        "barmode": "stack",
        "title": {
         "text": "Preferencias por Microsegmento de Edad por Categoria"
        },
        "xaxis": {
         "title": {
          "font": {
           "color": "#14A751",
           "family": "Myriad",
           "size": 20
          },
          "text": "Microsegmento_Edad"
         }
        },
        "yaxis": {
         "title": {
          "font": {
           "color": "#14A751",
           "family": "Myriad",
           "size": 20
          },
          "text": "Porcentaje_Clientes (%)"
         }
        }
       }
      },
      "text/html": [
       "<div id=\"7e6e0c2b-be6e-4a96-9c1c-a2788de89f2f\" style=\"height: 525px; width: 100%;\" class=\"plotly-graph-div\"></div><script type=\"text/javascript\">require([\"plotly\"], function(Plotly) { window.PLOTLYENV=window.PLOTLYENV || {};window.PLOTLYENV.BASE_URL=\"https://plot.ly\";Plotly.newPlot(\"7e6e0c2b-be6e-4a96-9c1c-a2788de89f2f\", [{\"name\": \"Articulos de Oficina\", \"x\": [\"Senior\", \"Joven\", \"Adulto\"], \"y\": [0.24958402662229617, 0.20367690411105752, 0.1746360921205386], \"type\": \"bar\", \"uid\": \"fb5cc6f5-9624-4f51-82da-abbd49fbfc36\"}, {\"name\": \"Cine y Peliculas\", \"x\": [\"Joven\", \"Adulto\", \"Senior\"], \"y\": [0.5627914455700274, 0.20837260991655174, 0.033277870216306155], \"type\": \"bar\", \"uid\": \"151c274f-112e-4b6f-9c25-7eb58721f5ae\"}, {\"name\": \"Comida Rapida\", \"x\": [\"Joven\", \"Adulto\", \"Senior\"], \"y\": [7.750442193278662, 3.3855587858822593, 1.896838602329451], \"type\": \"bar\", \"uid\": \"95cd4cba-6f70-4366-87f3-58775b200f8b\"}, {\"name\": \"Ferreterias y Hogar\", \"x\": [\"Senior\", \"Adulto\", \"Joven\"], \"y\": [4.450915141430948, 4.154552941526677, 2.2082864340462023], \"type\": \"bar\", \"uid\": \"6c95652e-8ca8-4243-b79e-e50b45b5d668\"}, {\"name\": \"Gasolineras y Vehiculos\", \"x\": [\"Adulto\", \"Joven\", \"Senior\"], \"y\": [15.288596064734424, 14.166264672776974, 14.143094841930116], \"type\": \"bar\", \"uid\": \"00eaa715-2892-4b8a-8363-9d416b2975f4\"}, {\"name\": \"Hoteles Moteles Resorts\", \"x\": [\"Senior\", \"Joven\", \"Adulto\"], \"y\": [0.7653910149750416, 0.648550142037841, 0.577489804625872], \"type\": \"bar\", \"uid\": \"b60d94b1-d59c-40db-aafd-880ef94e9279\"}, {\"name\": \"Instituciones Financieras y Aseguradoras\", \"x\": [\"Senior\", \"Adulto\", \"Joven\"], \"y\": [1.3810316139767056, 0.9019557257816454, 0.47703274910221366], \"type\": \"bar\", \"uid\": \"71806639-d0d0-4646-bed6-97d3c82e82da\"}, {\"name\": \"Licores\", \"x\": [\"Joven\", \"Adulto\", \"Senior\"], \"y\": [0.9594254167336657, 0.7967771702999573, 0.7903494176372712], \"type\": \"bar\", \"uid\": \"72d40a9a-0ffb-4679-aaf7-38c5fe2be153\"}, {\"name\": \"Musica\", \"x\": [\"Joven\", \"Adulto\", \"Senior\"], \"y\": [1.1791820764324383, 0.6092418213750608, 0.3826955074875208], \"type\": \"bar\", \"uid\": \"0eea88d3-d296-4177-a5ed-42636c1d5c52\"}, {\"name\": \"Otros Servicios\", \"x\": [\"Joven\", \"Senior\", \"Adulto\"], \"y\": [1.297100284075682, 1.173044925124792, 1.0537700558637044], \"type\": \"bar\", \"uid\": \"4cea50aa-3c12-4df0-9129-3602ac7a92b0\"}, {\"name\": \"Restaurantes\", \"x\": [\"Joven\", \"Senior\", \"Adulto\"], \"y\": [4.421932786621643, 3.5440931780366056, 3.3329695081414155], \"type\": \"bar\", \"uid\": \"3aec1552-b944-4595-bb82-36f71c6aa518\"}, {\"name\": \"Ropas\", \"x\": [\"Joven\", \"Adulto\", \"Senior\"], \"y\": [7.552125207696843, 7.42203391512289, 5.840266222961731], \"type\": \"bar\", \"uid\": \"38c9ac29-d8a4-471a-8545-48bebbbdd402\"}, {\"name\": \"Servicio Personales (Deliveries, etc.)\", \"x\": [\"Senior\", \"Joven\", \"Adulto\"], \"y\": [0.12479201331114809, 0.11255828911400546, 0.09426379972415436], \"type\": \"bar\", \"uid\": \"fd52e40e-45e4-4d10-b6d6-ed675ce5dca7\"}, {\"name\": \"Servicios Agropecuarios\", \"x\": [\"Adulto\", \"Joven\", \"Senior\"], \"y\": [0.1518143300820591, 0.11791820764324382, 0.10815307820299501], \"type\": \"bar\", \"uid\": \"fe450275-368c-4f3f-a4fc-99244faab960\"}, {\"name\": \"Servicios Educativos\", \"x\": [\"Joven\", \"Adulto\", \"Senior\"], \"y\": [2.004609529935145, 1.2889334299123842, 0.7986688851913477], \"type\": \"bar\", \"uid\": \"9e8ef237-9006-4eaa-8ec0-b3e2cc01fe6e\"}, {\"name\": \"Servicios Gubernamentales\", \"x\": [\"Senior\", \"Adulto\", \"Joven\"], \"y\": [5.990016638935108, 4.53458489199353, 2.6049204052098407], \"type\": \"bar\", \"uid\": \"c575dc25-982d-4d35-873e-a48b8fcbaee6\"}, {\"name\": \"Servicios de Comunicacion, Internet y Telecable\", \"x\": [\"Senior\", \"Adulto\", \"Joven\"], \"y\": [9.475873544093178, 8.36764866393467, 7.56284504475532], \"type\": \"bar\", \"uid\": \"4f78d9bc-534d-4107-8ea4-eb23dfa97b0f\"}, {\"name\": \"Servicios de Construccion y Decoracion\", \"x\": [\"Senior\", \"Adulto\", \"Joven\"], \"y\": [0.07487520798668885, 0.06548853454520197, 0.016079755587715065], \"type\": \"bar\", \"uid\": \"ab4891ed-e832-41e4-aa72-766178f5bfd2\"}, {\"name\": \"Servicios de Salud, Belleza y Recreacion\", \"x\": [\"Senior\", \"Joven\", \"Adulto\"], \"y\": [10.856905158069884, 8.688427935895374, 8.656393566247607], \"type\": \"bar\", \"uid\": \"d14ab3df-33eb-415a-94d0-0f17552074d0\"}, {\"name\": \"Servicios de Textiles e Imprenta\", \"x\": [\"Adulto\", \"Senior\", \"Joven\"], \"y\": [0.042666772506722496, 0.033277870216306155, 0.02143967411695342], \"type\": \"bar\", \"uid\": \"b4ea2cb7-caaf-4026-b075-9eb6859878c3\"}, {\"name\": \"Servicios de Transporte y Viajes\", \"x\": [\"Senior\", \"Adulto\", \"Joven\"], \"y\": [2.5707154742096505, 2.0539585834631526, 1.7151739293562738], \"type\": \"bar\", \"uid\": \"992172c1-6db0-4f9d-b022-e07443d9d835\"}, {\"name\": \"Supermercados y Alimentos\", \"x\": [\"Senior\", \"Adulto\", \"Joven\"], \"y\": [26.78036605657238, 26.000932715492006, 22.768933912204535], \"type\": \"bar\", \"uid\": \"074ab6e1-02e3-41cb-909d-f3c10e3fd7b2\"}, {\"name\": \"Tecnologia y Software\", \"x\": [\"Joven\", \"Adulto\", \"Senior\"], \"y\": [0.6163906308624109, 0.42468322402040065, 0.36605657237936773], \"type\": \"bar\", \"uid\": \"a9e4199e-5a38-469d-a9da-ec168b4ff5be\"}, {\"name\": \"Tienda De Venta Especializada\", \"x\": [\"Joven\", \"Adulto\", \"Senior\"], \"y\": [10.403601865251648, 9.144580823766384, 6.921797004991681], \"type\": \"bar\", \"uid\": \"0ca7d5ac-8679-48f1-96c7-f5e83daa591c\"}, {\"name\": \"Ventas y Servicios de Equipos Electricos\", \"x\": [\"Senior\", \"Adulto\", \"Joven\"], \"y\": [1.0149750415973378, 0.7461723936059377, 0.32695503028353967], \"type\": \"bar\", \"uid\": \"a8e06195-3267-48e3-bc87-ab985e526f20\"}, {\"name\": \"Vida Nocturna\", \"x\": [\"Joven\", \"Adulto\", \"Senior\"], \"y\": [1.6133354773007451, 0.5219237753147915, 0.23294509151414308], \"type\": \"bar\", \"uid\": \"a367f466-0669-42c2-8c22-3785ab71514b\"}], {\"autosize\": true, \"barmode\": \"stack\", \"title\": {\"text\": \"Preferencias por Microsegmento de Edad por Categoria\"}, \"xaxis\": {\"title\": {\"font\": {\"color\": \"#14A751\", \"family\": \"Myriad\", \"size\": 20}, \"text\": \"Microsegmento_Edad\"}}, \"yaxis\": {\"title\": {\"font\": {\"color\": \"#14A751\", \"family\": \"Myriad\", \"size\": 20}, \"text\": \"Porcentaje_Clientes (%)\"}}}, {\"showLink\": false, \"linkText\": \"Export to plot.ly\", \"plotlyServerURL\": \"https://plot.ly\"})});</script><script type=\"text/javascript\">window.addEventListener(\"resize\", function(){window._Plotly.Plots.resize(document.getElementById(\"7e6e0c2b-be6e-4a96-9c1c-a2788de89f2f\"));});</script>"
      ],
      "text/vnd.plotly.v1+html": [
       "<div id=\"7e6e0c2b-be6e-4a96-9c1c-a2788de89f2f\" style=\"height: 525px; width: 100%;\" class=\"plotly-graph-div\"></div><script type=\"text/javascript\">require([\"plotly\"], function(Plotly) { window.PLOTLYENV=window.PLOTLYENV || {};window.PLOTLYENV.BASE_URL=\"https://plot.ly\";Plotly.newPlot(\"7e6e0c2b-be6e-4a96-9c1c-a2788de89f2f\", [{\"name\": \"Articulos de Oficina\", \"x\": [\"Senior\", \"Joven\", \"Adulto\"], \"y\": [0.24958402662229617, 0.20367690411105752, 0.1746360921205386], \"type\": \"bar\", \"uid\": \"fb5cc6f5-9624-4f51-82da-abbd49fbfc36\"}, {\"name\": \"Cine y Peliculas\", \"x\": [\"Joven\", \"Adulto\", \"Senior\"], \"y\": [0.5627914455700274, 0.20837260991655174, 0.033277870216306155], \"type\": \"bar\", \"uid\": \"151c274f-112e-4b6f-9c25-7eb58721f5ae\"}, {\"name\": \"Comida Rapida\", \"x\": [\"Joven\", \"Adulto\", \"Senior\"], \"y\": [7.750442193278662, 3.3855587858822593, 1.896838602329451], \"type\": \"bar\", \"uid\": \"95cd4cba-6f70-4366-87f3-58775b200f8b\"}, {\"name\": \"Ferreterias y Hogar\", \"x\": [\"Senior\", \"Adulto\", \"Joven\"], \"y\": [4.450915141430948, 4.154552941526677, 2.2082864340462023], \"type\": \"bar\", \"uid\": \"6c95652e-8ca8-4243-b79e-e50b45b5d668\"}, {\"name\": \"Gasolineras y Vehiculos\", \"x\": [\"Adulto\", \"Joven\", \"Senior\"], \"y\": [15.288596064734424, 14.166264672776974, 14.143094841930116], \"type\": \"bar\", \"uid\": \"00eaa715-2892-4b8a-8363-9d416b2975f4\"}, {\"name\": \"Hoteles Moteles Resorts\", \"x\": [\"Senior\", \"Joven\", \"Adulto\"], \"y\": [0.7653910149750416, 0.648550142037841, 0.577489804625872], \"type\": \"bar\", \"uid\": \"b60d94b1-d59c-40db-aafd-880ef94e9279\"}, {\"name\": \"Instituciones Financieras y Aseguradoras\", \"x\": [\"Senior\", \"Adulto\", \"Joven\"], \"y\": [1.3810316139767056, 0.9019557257816454, 0.47703274910221366], \"type\": \"bar\", \"uid\": \"71806639-d0d0-4646-bed6-97d3c82e82da\"}, {\"name\": \"Licores\", \"x\": [\"Joven\", \"Adulto\", \"Senior\"], \"y\": [0.9594254167336657, 0.7967771702999573, 0.7903494176372712], \"type\": \"bar\", \"uid\": \"72d40a9a-0ffb-4679-aaf7-38c5fe2be153\"}, {\"name\": \"Musica\", \"x\": [\"Joven\", \"Adulto\", \"Senior\"], \"y\": [1.1791820764324383, 0.6092418213750608, 0.3826955074875208], \"type\": \"bar\", \"uid\": \"0eea88d3-d296-4177-a5ed-42636c1d5c52\"}, {\"name\": \"Otros Servicios\", \"x\": [\"Joven\", \"Senior\", \"Adulto\"], \"y\": [1.297100284075682, 1.173044925124792, 1.0537700558637044], \"type\": \"bar\", \"uid\": \"4cea50aa-3c12-4df0-9129-3602ac7a92b0\"}, {\"name\": \"Restaurantes\", \"x\": [\"Joven\", \"Senior\", \"Adulto\"], \"y\": [4.421932786621643, 3.5440931780366056, 3.3329695081414155], \"type\": \"bar\", \"uid\": \"3aec1552-b944-4595-bb82-36f71c6aa518\"}, {\"name\": \"Ropas\", \"x\": [\"Joven\", \"Adulto\", \"Senior\"], \"y\": [7.552125207696843, 7.42203391512289, 5.840266222961731], \"type\": \"bar\", \"uid\": \"38c9ac29-d8a4-471a-8545-48bebbbdd402\"}, {\"name\": \"Servicio Personales (Deliveries, etc.)\", \"x\": [\"Senior\", \"Joven\", \"Adulto\"], \"y\": [0.12479201331114809, 0.11255828911400546, 0.09426379972415436], \"type\": \"bar\", \"uid\": \"fd52e40e-45e4-4d10-b6d6-ed675ce5dca7\"}, {\"name\": \"Servicios Agropecuarios\", \"x\": [\"Adulto\", \"Joven\", \"Senior\"], \"y\": [0.1518143300820591, 0.11791820764324382, 0.10815307820299501], \"type\": \"bar\", \"uid\": \"fe450275-368c-4f3f-a4fc-99244faab960\"}, {\"name\": \"Servicios Educativos\", \"x\": [\"Joven\", \"Adulto\", \"Senior\"], \"y\": [2.004609529935145, 1.2889334299123842, 0.7986688851913477], \"type\": \"bar\", \"uid\": \"9e8ef237-9006-4eaa-8ec0-b3e2cc01fe6e\"}, {\"name\": \"Servicios Gubernamentales\", \"x\": [\"Senior\", \"Adulto\", \"Joven\"], \"y\": [5.990016638935108, 4.53458489199353, 2.6049204052098407], \"type\": \"bar\", \"uid\": \"c575dc25-982d-4d35-873e-a48b8fcbaee6\"}, {\"name\": \"Servicios de Comunicacion, Internet y Telecable\", \"x\": [\"Senior\", \"Adulto\", \"Joven\"], \"y\": [9.475873544093178, 8.36764866393467, 7.56284504475532], \"type\": \"bar\", \"uid\": \"4f78d9bc-534d-4107-8ea4-eb23dfa97b0f\"}, {\"name\": \"Servicios de Construccion y Decoracion\", \"x\": [\"Senior\", \"Adulto\", \"Joven\"], \"y\": [0.07487520798668885, 0.06548853454520197, 0.016079755587715065], \"type\": \"bar\", \"uid\": \"ab4891ed-e832-41e4-aa72-766178f5bfd2\"}, {\"name\": \"Servicios de Salud, Belleza y Recreacion\", \"x\": [\"Senior\", \"Joven\", \"Adulto\"], \"y\": [10.856905158069884, 8.688427935895374, 8.656393566247607], \"type\": \"bar\", \"uid\": \"d14ab3df-33eb-415a-94d0-0f17552074d0\"}, {\"name\": \"Servicios de Textiles e Imprenta\", \"x\": [\"Adulto\", \"Senior\", \"Joven\"], \"y\": [0.042666772506722496, 0.033277870216306155, 0.02143967411695342], \"type\": \"bar\", \"uid\": \"b4ea2cb7-caaf-4026-b075-9eb6859878c3\"}, {\"name\": \"Servicios de Transporte y Viajes\", \"x\": [\"Senior\", \"Adulto\", \"Joven\"], \"y\": [2.5707154742096505, 2.0539585834631526, 1.7151739293562738], \"type\": \"bar\", \"uid\": \"992172c1-6db0-4f9d-b022-e07443d9d835\"}, {\"name\": \"Supermercados y Alimentos\", \"x\": [\"Senior\", \"Adulto\", \"Joven\"], \"y\": [26.78036605657238, 26.000932715492006, 22.768933912204535], \"type\": \"bar\", \"uid\": \"074ab6e1-02e3-41cb-909d-f3c10e3fd7b2\"}, {\"name\": \"Tecnologia y Software\", \"x\": [\"Joven\", \"Adulto\", \"Senior\"], \"y\": [0.6163906308624109, 0.42468322402040065, 0.36605657237936773], \"type\": \"bar\", \"uid\": \"a9e4199e-5a38-469d-a9da-ec168b4ff5be\"}, {\"name\": \"Tienda De Venta Especializada\", \"x\": [\"Joven\", \"Adulto\", \"Senior\"], \"y\": [10.403601865251648, 9.144580823766384, 6.921797004991681], \"type\": \"bar\", \"uid\": \"0ca7d5ac-8679-48f1-96c7-f5e83daa591c\"}, {\"name\": \"Ventas y Servicios de Equipos Electricos\", \"x\": [\"Senior\", \"Adulto\", \"Joven\"], \"y\": [1.0149750415973378, 0.7461723936059377, 0.32695503028353967], \"type\": \"bar\", \"uid\": \"a8e06195-3267-48e3-bc87-ab985e526f20\"}, {\"name\": \"Vida Nocturna\", \"x\": [\"Joven\", \"Adulto\", \"Senior\"], \"y\": [1.6133354773007451, 0.5219237753147915, 0.23294509151414308], \"type\": \"bar\", \"uid\": \"a367f466-0669-42c2-8c22-3785ab71514b\"}], {\"autosize\": true, \"barmode\": \"stack\", \"title\": {\"text\": \"Preferencias por Microsegmento de Edad por Categoria\"}, \"xaxis\": {\"title\": {\"font\": {\"color\": \"#14A751\", \"family\": \"Myriad\", \"size\": 20}, \"text\": \"Microsegmento_Edad\"}}, \"yaxis\": {\"title\": {\"font\": {\"color\": \"#14A751\", \"family\": \"Myriad\", \"size\": 20}, \"text\": \"Porcentaje_Clientes (%)\"}}}, {\"showLink\": false, \"linkText\": \"Export to plot.ly\", \"plotlyServerURL\": \"https://plot.ly\"})});</script><script type=\"text/javascript\">window.addEventListener(\"resize\", function(){window._Plotly.Plots.resize(document.getElementById(\"7e6e0c2b-be6e-4a96-9c1c-a2788de89f2f\"));});</script>"
      ]
     },
     "metadata": {},
     "output_type": "display_data"
    }
   ],
   "source": [
    "stacked_bar_plotly(pct_edad_preferencias,\"Microsegmento_Edad\",\"Categoria_Agrupada\"\n",
    "                   ,\"Porcentaje_Clientes (%)\",\"Preferencias por Microsegmento de Edad por Categoria\")"
   ]
  },
  {
   "cell_type": "markdown",
   "metadata": {
    "slideshow": {
     "slide_type": "subslide"
    }
   },
   "source": [
    "Al explorar el gráfico, se pueden apreciar las diferencias entre los segmentos de edad donde: \n",
    "\n",
    "- Los Jovenes prefieren el entretenimiento y comida, pero tambien la educación y tecnología.\n",
    "- Los Adultos tienen preferencias variadas, pero existe mayor presencia en categorias del hogar y el dia a dia como gasolineras y supermercados.\n",
    "- Los Senior prefieren seguridad y progreso en sus emprendimientos, con categorias como Instituciones Financieras, Servicios, y tambien actividades de retiro como Viajes."
   ]
  },
  {
   "cell_type": "markdown",
   "metadata": {
    "slideshow": {
     "slide_type": "subslide"
    }
   },
   "source": [
    "#### Segmento"
   ]
  },
  {
   "cell_type": "code",
   "execution_count": 90,
   "metadata": {
    "slideshow": {
     "slide_type": "skip"
    }
   },
   "outputs": [
    {
     "data": {
      "text/html": [
       "<div>\n",
       "<style scoped>\n",
       "    .dataframe tbody tr th:only-of-type {\n",
       "        vertical-align: middle;\n",
       "    }\n",
       "\n",
       "    .dataframe tbody tr th {\n",
       "        vertical-align: top;\n",
       "    }\n",
       "\n",
       "    .dataframe thead th {\n",
       "        text-align: right;\n",
       "    }\n",
       "</style>\n",
       "<table border=\"1\" class=\"dataframe\">\n",
       "  <thead>\n",
       "    <tr style=\"text-align: right;\">\n",
       "      <th></th>\n",
       "      <th>Categoria_Agrupada</th>\n",
       "      <th>Segmento</th>\n",
       "      <th>Porcentaje_Clientes (%)</th>\n",
       "    </tr>\n",
       "  </thead>\n",
       "  <tbody>\n",
       "    <tr>\n",
       "      <th>0</th>\n",
       "      <td>Articulos de Oficina</td>\n",
       "      <td>Clasico</td>\n",
       "      <td>33.606557</td>\n",
       "    </tr>\n",
       "    <tr>\n",
       "      <th>1</th>\n",
       "      <td>Articulos de Oficina</td>\n",
       "      <td>Emergente</td>\n",
       "      <td>33.196721</td>\n",
       "    </tr>\n",
       "    <tr>\n",
       "      <th>2</th>\n",
       "      <td>Articulos de Oficina</td>\n",
       "      <td>Mi_Negocio</td>\n",
       "      <td>7.377049</td>\n",
       "    </tr>\n",
       "    <tr>\n",
       "      <th>3</th>\n",
       "      <td>Articulos de Oficina</td>\n",
       "      <td>Preferencial</td>\n",
       "      <td>16.803279</td>\n",
       "    </tr>\n",
       "    <tr>\n",
       "      <th>4</th>\n",
       "      <td>Articulos de Oficina</td>\n",
       "      <td>Prestige</td>\n",
       "      <td>9.016393</td>\n",
       "    </tr>\n",
       "  </tbody>\n",
       "</table>\n",
       "</div>"
      ],
      "text/plain": [
       "     Categoria_Agrupada      Segmento  Porcentaje_Clientes (%)\n",
       "0  Articulos de Oficina       Clasico                33.606557\n",
       "1  Articulos de Oficina     Emergente                33.196721\n",
       "2  Articulos de Oficina    Mi_Negocio                 7.377049\n",
       "3  Articulos de Oficina  Preferencial                16.803279\n",
       "4  Articulos de Oficina      Prestige                 9.016393"
      ]
     },
     "execution_count": 90,
     "metadata": {},
     "output_type": "execute_result"
    }
   ],
   "source": [
    "pct_preferencias_segmento = create_count_percentage_by_group(preferencias_clientes_full\n",
    "                                              ,[\"Categoria_Agrupada\",\"Segmento\"],[\"Codigo_Cliente\"]\n",
    "                ,[\"Categoria_Agrupada\",\"Segmento\",\"Porcentaje_Clientes (%)\"])\n",
    "\n",
    "pct_preferencias_segmento.head()"
   ]
  },
  {
   "cell_type": "code",
   "execution_count": 91,
   "metadata": {
    "slideshow": {
     "slide_type": "subslide"
    }
   },
   "outputs": [
    {
     "data": {
      "application/vnd.plotly.v1+json": {
       "config": {
        "linkText": "Export to plot.ly",
        "plotlyServerURL": "https://plot.ly",
        "showLink": false
       },
       "data": [
        {
         "name": "Clasico",
         "type": "bar",
         "uid": "8732229f-0a45-487e-a88a-0307ef9fdb38",
         "x": [
          "Cine y Peliculas",
          "Vida Nocturna",
          "Comida Rapida",
          "Servicios de Comunicacion, Internet y Telecable",
          "Servicios Educativos",
          "Ropas",
          "Servicios Gubernamentales",
          "Supermercados y Alimentos",
          "Musica",
          "Licores",
          "Tecnologia y Software",
          "Servicios de Salud, Belleza y Recreacion",
          "Tienda De Venta Especializada",
          "Gasolineras y Vehiculos",
          "Servicios Agropecuarios",
          "Ferreterias y Hogar",
          "Servicios de Textiles e Imprenta",
          "Otros Servicios",
          "Ventas y Servicios de Equipos Electricos",
          "Servicio Personales (Deliveries, etc.)",
          "Articulos de Oficina",
          "Servicios de Construccion y Decoracion",
          "Hoteles Moteles Resorts",
          "Restaurantes",
          "Instituciones Financieras y Aseguradoras",
          "Servicios de Transporte y Viajes"
         ],
         "y": [
          61.12852664576803,
          49.706916764361075,
          48.888888888888886,
          44.63765477057538,
          44.092707744488415,
          43.95329441201001,
          43.753249003638885,
          43.693011375449224,
          42.40362811791383,
          41.91449814126394,
          40.885860306643956,
          40.78969957081545,
          40.550688360450565,
          40.36980749746707,
          38.297872340425535,
          37.60717069368667,
          37.254901960784316,
          37.136929460580916,
          34.72222222222222,
          34.35114503816794,
          33.60655737704918,
          33.333333333333336,
          32.9559748427673,
          31.39383412939644,
          25.128644939965696,
          25.027808676307007
         ]
        },
        {
         "name": "Emergente",
         "type": "bar",
         "uid": "3625033e-85c7-45f1-8f4d-3a0609f5de20",
         "x": [
          "Servicios Agropecuarios",
          "Ventas y Servicios de Equipos Electricos",
          "Servicios de Textiles e Imprenta",
          "Gasolineras y Vehiculos",
          "Servicio Personales (Deliveries, etc.)",
          "Tienda De Venta Especializada",
          "Instituciones Financieras y Aseguradoras",
          "Servicios de Construccion y Decoracion",
          "Ferreterias y Hogar",
          "Servicios de Comunicacion, Internet y Telecable",
          "Servicios Gubernamentales",
          "Servicios de Transporte y Viajes",
          "Tecnologia y Software",
          "Articulos de Oficina",
          "Supermercados y Alimentos",
          "Servicios de Salud, Belleza y Recreacion",
          "Otros Servicios",
          "Ropas",
          "Servicios Educativos",
          "Comida Rapida",
          "Licores",
          "Restaurantes",
          "Vida Nocturna",
          "Hoteles Moteles Resorts",
          "Cine y Peliculas",
          "Musica"
         ],
         "y": [
          35.638297872340424,
          35.363247863247864,
          35.294117647058826,
          35.217831813576495,
          35.11450381679389,
          34.69336670838548,
          34.6483704974271,
          34.61538461538461,
          33.90491036632891,
          33.82192279679534,
          33.65101368913533,
          33.62995921394142,
          33.21976149914821,
          33.19672131147541,
          33.09275594760759,
          32.952789699570815,
          32.2268326417704,
          32.18306922435363,
          32.052006783493496,
          31.9960668633235,
          31.133828996282528,
          30.15631784628745,
          30.011723329425557,
          29.68553459119497,
          28.213166144200628,
          27.77777777777778
         ]
        },
        {
         "name": "Mi_Negocio",
         "type": "bar",
         "uid": "04a7df7b-2a20-4909-b099-636aeb5e5c71",
         "x": [
          "Articulos de Oficina",
          "Servicios de Transporte y Viajes",
          "Restaurantes",
          "Hoteles Moteles Resorts",
          "Instituciones Financieras y Aseguradoras",
          "Ventas y Servicios de Equipos Electricos",
          "Otros Servicios",
          "Ferreterias y Hogar",
          "Licores",
          "Musica",
          "Tecnologia y Software",
          "Servicios Gubernamentales",
          "Tienda De Venta Especializada",
          "Gasolineras y Vehiculos",
          "Ropas",
          "Servicios Educativos",
          "Vida Nocturna",
          "Servicios de Comunicacion, Internet y Telecable",
          "Supermercados y Alimentos",
          "Servicios de Salud, Belleza y Recreacion",
          "Servicio Personales (Deliveries, etc.)",
          "Comida Rapida",
          "Cine y Peliculas",
          "Servicios Agropecuarios",
          "Servicios de Construccion y Decoracion"
         ],
         "y": [
          7.377049180327869,
          7.267334074898035,
          6.231003039513678,
          6.163522012578617,
          6.003430531732419,
          5.8760683760683765,
          5.601659751037344,
          4.9883086515978174,
          4.553903345724907,
          4.308390022675737,
          4.088586030664395,
          3.7948362502166004,
          3.6128493950771796,
          3.53596757852077,
          3.4924937447873226,
          3.4482758620689653,
          3.3997655334114887,
          3.177348871085215,
          3.136416287980041,
          3.0643776824034337,
          3.053435114503817,
          2.202556538839725,
          1.8808777429467085,
          1.5957446808510638,
          1.2820512820512822
         ]
        },
        {
         "name": "Preferencial",
         "type": "bar",
         "uid": "f797331c-52c9-406e-8622-bfd98ba441ff",
         "x": [
          "Instituciones Financieras y Aseguradoras",
          "Servicios de Transporte y Viajes",
          "Restaurantes",
          "Hoteles Moteles Resorts",
          "Servicios de Construccion y Decoracion",
          "Servicios Agropecuarios",
          "Musica",
          "Servicios de Textiles e Imprenta",
          "Ventas y Servicios de Equipos Electricos",
          "Servicios de Salud, Belleza y Recreacion",
          "Ferreterias y Hogar",
          "Otros Servicios",
          "Articulos de Oficina",
          "Licores",
          "Servicio Personales (Deliveries, etc.)",
          "Tecnologia y Software",
          "Tienda De Venta Especializada",
          "Gasolineras y Vehiculos",
          "Servicios Educativos",
          "Supermercados y Alimentos",
          "Ropas",
          "Servicios Gubernamentales",
          "Servicios de Comunicacion, Internet y Telecable",
          "Comida Rapida",
          "Vida Nocturna",
          "Cine y Peliculas"
         ],
         "y": [
          24.528301886792452,
          24.026696329254726,
          21.16804168475901,
          19.245283018867923,
          19.23076923076923,
          19.148936170212767,
          18.707482993197278,
          17.647058823529413,
          17.414529914529915,
          17.30472103004292,
          17.030397505845674,
          17.012448132780083,
          16.80327868852459,
          16.171003717472118,
          16.03053435114504,
          16.013628620102214,
          15.844806007509387,
          15.618034447821682,
          15.602035048049746,
          15.432593780629066,
          15.075062552126772,
          14.954080748570439,
          14.320830298616169,
          13.274336283185841,
          11.137162954279015,
          6.269592476489028
         ]
        },
        {
         "name": "Prestige",
         "type": "bar",
         "uid": "aecad585-70a4-4ee7-a28b-a6832e982711",
         "x": [
          "Hoteles Moteles Resorts",
          "Servicios de Construccion y Decoracion",
          "Servicio Personales (Deliveries, etc.)",
          "Restaurantes",
          "Servicios de Transporte y Viajes",
          "Servicios de Textiles e Imprenta",
          "Instituciones Financieras y Aseguradoras",
          "Articulos de Oficina",
          "Otros Servicios",
          "Musica",
          "Ventas y Servicios de Equipos Electricos",
          "Ferreterias y Hogar",
          "Licores",
          "Servicios de Salud, Belleza y Recreacion",
          "Tecnologia y Software",
          "Vida Nocturna",
          "Servicios Agropecuarios",
          "Tienda De Venta Especializada",
          "Ropas",
          "Gasolineras y Vehiculos",
          "Servicios Educativos",
          "Supermercados y Alimentos",
          "Servicios de Comunicacion, Internet y Telecable",
          "Servicios Gubernamentales",
          "Comida Rapida",
          "Cine y Peliculas"
         ],
         "y": [
          11.949685534591195,
          11.538461538461538,
          11.450381679389313,
          11.050803300043421,
          10.048201705598814,
          9.803921568627452,
          9.691252144082332,
          9.01639344262295,
          8.022130013831259,
          6.802721088435374,
          6.6239316239316235,
          6.46921278254092,
          6.226765799256506,
          5.888412017167382,
          5.792163543441227,
          5.74443141852286,
          5.319148936170213,
          5.2982895285773886,
          5.2960800667222685,
          5.258358662613982,
          4.804974561899378,
          4.645222608334076,
          4.0422432629278955,
          3.8468203084387453,
          3.6381514257620453,
          2.5078369905956115
         ]
        }
       ],
       "layout": {
        "autosize": true,
        "barmode": "stack",
        "title": {
         "text": "Preferencias por Categoria por Segmento"
        },
        "xaxis": {
         "title": {
          "font": {
           "color": "#14A751",
           "family": "Myriad",
           "size": 20
          },
          "text": "Categoria_Agrupada"
         }
        },
        "yaxis": {
         "title": {
          "font": {
           "color": "#14A751",
           "family": "Myriad",
           "size": 20
          },
          "text": "Porcentaje_Clientes (%)"
         }
        }
       }
      },
      "text/html": [
       "<div id=\"527b980b-fc5f-43a7-924a-afcef0318f96\" style=\"height: 525px; width: 100%;\" class=\"plotly-graph-div\"></div><script type=\"text/javascript\">require([\"plotly\"], function(Plotly) { window.PLOTLYENV=window.PLOTLYENV || {};window.PLOTLYENV.BASE_URL=\"https://plot.ly\";Plotly.newPlot(\"527b980b-fc5f-43a7-924a-afcef0318f96\", [{\"name\": \"Clasico\", \"x\": [\"Cine y Peliculas\", \"Vida Nocturna\", \"Comida Rapida\", \"Servicios de Comunicacion, Internet y Telecable\", \"Servicios Educativos\", \"Ropas\", \"Servicios Gubernamentales\", \"Supermercados y Alimentos\", \"Musica\", \"Licores\", \"Tecnologia y Software\", \"Servicios de Salud, Belleza y Recreacion\", \"Tienda De Venta Especializada\", \"Gasolineras y Vehiculos\", \"Servicios Agropecuarios\", \"Ferreterias y Hogar\", \"Servicios de Textiles e Imprenta\", \"Otros Servicios\", \"Ventas y Servicios de Equipos Electricos\", \"Servicio Personales (Deliveries, etc.)\", \"Articulos de Oficina\", \"Servicios de Construccion y Decoracion\", \"Hoteles Moteles Resorts\", \"Restaurantes\", \"Instituciones Financieras y Aseguradoras\", \"Servicios de Transporte y Viajes\"], \"y\": [61.12852664576803, 49.706916764361075, 48.888888888888886, 44.63765477057538, 44.092707744488415, 43.95329441201001, 43.753249003638885, 43.693011375449224, 42.40362811791383, 41.91449814126394, 40.885860306643956, 40.78969957081545, 40.550688360450565, 40.36980749746707, 38.297872340425535, 37.60717069368667, 37.254901960784316, 37.136929460580916, 34.72222222222222, 34.35114503816794, 33.60655737704918, 33.333333333333336, 32.9559748427673, 31.39383412939644, 25.128644939965696, 25.027808676307007], \"type\": \"bar\", \"uid\": \"8732229f-0a45-487e-a88a-0307ef9fdb38\"}, {\"name\": \"Emergente\", \"x\": [\"Servicios Agropecuarios\", \"Ventas y Servicios de Equipos Electricos\", \"Servicios de Textiles e Imprenta\", \"Gasolineras y Vehiculos\", \"Servicio Personales (Deliveries, etc.)\", \"Tienda De Venta Especializada\", \"Instituciones Financieras y Aseguradoras\", \"Servicios de Construccion y Decoracion\", \"Ferreterias y Hogar\", \"Servicios de Comunicacion, Internet y Telecable\", \"Servicios Gubernamentales\", \"Servicios de Transporte y Viajes\", \"Tecnologia y Software\", \"Articulos de Oficina\", \"Supermercados y Alimentos\", \"Servicios de Salud, Belleza y Recreacion\", \"Otros Servicios\", \"Ropas\", \"Servicios Educativos\", \"Comida Rapida\", \"Licores\", \"Restaurantes\", \"Vida Nocturna\", \"Hoteles Moteles Resorts\", \"Cine y Peliculas\", \"Musica\"], \"y\": [35.638297872340424, 35.363247863247864, 35.294117647058826, 35.217831813576495, 35.11450381679389, 34.69336670838548, 34.6483704974271, 34.61538461538461, 33.90491036632891, 33.82192279679534, 33.65101368913533, 33.62995921394142, 33.21976149914821, 33.19672131147541, 33.09275594760759, 32.952789699570815, 32.2268326417704, 32.18306922435363, 32.052006783493496, 31.9960668633235, 31.133828996282528, 30.15631784628745, 30.011723329425557, 29.68553459119497, 28.213166144200628, 27.77777777777778], \"type\": \"bar\", \"uid\": \"3625033e-85c7-45f1-8f4d-3a0609f5de20\"}, {\"name\": \"Mi_Negocio\", \"x\": [\"Articulos de Oficina\", \"Servicios de Transporte y Viajes\", \"Restaurantes\", \"Hoteles Moteles Resorts\", \"Instituciones Financieras y Aseguradoras\", \"Ventas y Servicios de Equipos Electricos\", \"Otros Servicios\", \"Ferreterias y Hogar\", \"Licores\", \"Musica\", \"Tecnologia y Software\", \"Servicios Gubernamentales\", \"Tienda De Venta Especializada\", \"Gasolineras y Vehiculos\", \"Ropas\", \"Servicios Educativos\", \"Vida Nocturna\", \"Servicios de Comunicacion, Internet y Telecable\", \"Supermercados y Alimentos\", \"Servicios de Salud, Belleza y Recreacion\", \"Servicio Personales (Deliveries, etc.)\", \"Comida Rapida\", \"Cine y Peliculas\", \"Servicios Agropecuarios\", \"Servicios de Construccion y Decoracion\"], \"y\": [7.377049180327869, 7.267334074898035, 6.231003039513678, 6.163522012578617, 6.003430531732419, 5.8760683760683765, 5.601659751037344, 4.9883086515978174, 4.553903345724907, 4.308390022675737, 4.088586030664395, 3.7948362502166004, 3.6128493950771796, 3.53596757852077, 3.4924937447873226, 3.4482758620689653, 3.3997655334114887, 3.177348871085215, 3.136416287980041, 3.0643776824034337, 3.053435114503817, 2.202556538839725, 1.8808777429467085, 1.5957446808510638, 1.2820512820512822], \"type\": \"bar\", \"uid\": \"04a7df7b-2a20-4909-b099-636aeb5e5c71\"}, {\"name\": \"Preferencial\", \"x\": [\"Instituciones Financieras y Aseguradoras\", \"Servicios de Transporte y Viajes\", \"Restaurantes\", \"Hoteles Moteles Resorts\", \"Servicios de Construccion y Decoracion\", \"Servicios Agropecuarios\", \"Musica\", \"Servicios de Textiles e Imprenta\", \"Ventas y Servicios de Equipos Electricos\", \"Servicios de Salud, Belleza y Recreacion\", \"Ferreterias y Hogar\", \"Otros Servicios\", \"Articulos de Oficina\", \"Licores\", \"Servicio Personales (Deliveries, etc.)\", \"Tecnologia y Software\", \"Tienda De Venta Especializada\", \"Gasolineras y Vehiculos\", \"Servicios Educativos\", \"Supermercados y Alimentos\", \"Ropas\", \"Servicios Gubernamentales\", \"Servicios de Comunicacion, Internet y Telecable\", \"Comida Rapida\", \"Vida Nocturna\", \"Cine y Peliculas\"], \"y\": [24.528301886792452, 24.026696329254726, 21.16804168475901, 19.245283018867923, 19.23076923076923, 19.148936170212767, 18.707482993197278, 17.647058823529413, 17.414529914529915, 17.30472103004292, 17.030397505845674, 17.012448132780083, 16.80327868852459, 16.171003717472118, 16.03053435114504, 16.013628620102214, 15.844806007509387, 15.618034447821682, 15.602035048049746, 15.432593780629066, 15.075062552126772, 14.954080748570439, 14.320830298616169, 13.274336283185841, 11.137162954279015, 6.269592476489028], \"type\": \"bar\", \"uid\": \"f797331c-52c9-406e-8622-bfd98ba441ff\"}, {\"name\": \"Prestige\", \"x\": [\"Hoteles Moteles Resorts\", \"Servicios de Construccion y Decoracion\", \"Servicio Personales (Deliveries, etc.)\", \"Restaurantes\", \"Servicios de Transporte y Viajes\", \"Servicios de Textiles e Imprenta\", \"Instituciones Financieras y Aseguradoras\", \"Articulos de Oficina\", \"Otros Servicios\", \"Musica\", \"Ventas y Servicios de Equipos Electricos\", \"Ferreterias y Hogar\", \"Licores\", \"Servicios de Salud, Belleza y Recreacion\", \"Tecnologia y Software\", \"Vida Nocturna\", \"Servicios Agropecuarios\", \"Tienda De Venta Especializada\", \"Ropas\", \"Gasolineras y Vehiculos\", \"Servicios Educativos\", \"Supermercados y Alimentos\", \"Servicios de Comunicacion, Internet y Telecable\", \"Servicios Gubernamentales\", \"Comida Rapida\", \"Cine y Peliculas\"], \"y\": [11.949685534591195, 11.538461538461538, 11.450381679389313, 11.050803300043421, 10.048201705598814, 9.803921568627452, 9.691252144082332, 9.01639344262295, 8.022130013831259, 6.802721088435374, 6.6239316239316235, 6.46921278254092, 6.226765799256506, 5.888412017167382, 5.792163543441227, 5.74443141852286, 5.319148936170213, 5.2982895285773886, 5.2960800667222685, 5.258358662613982, 4.804974561899378, 4.645222608334076, 4.0422432629278955, 3.8468203084387453, 3.6381514257620453, 2.5078369905956115], \"type\": \"bar\", \"uid\": \"aecad585-70a4-4ee7-a28b-a6832e982711\"}], {\"autosize\": true, \"barmode\": \"stack\", \"title\": {\"text\": \"Preferencias por Categoria por Segmento\"}, \"xaxis\": {\"title\": {\"font\": {\"color\": \"#14A751\", \"family\": \"Myriad\", \"size\": 20}, \"text\": \"Categoria_Agrupada\"}}, \"yaxis\": {\"title\": {\"font\": {\"color\": \"#14A751\", \"family\": \"Myriad\", \"size\": 20}, \"text\": \"Porcentaje_Clientes (%)\"}}}, {\"showLink\": false, \"linkText\": \"Export to plot.ly\", \"plotlyServerURL\": \"https://plot.ly\"})});</script><script type=\"text/javascript\">window.addEventListener(\"resize\", function(){window._Plotly.Plots.resize(document.getElementById(\"527b980b-fc5f-43a7-924a-afcef0318f96\"));});</script>"
      ],
      "text/vnd.plotly.v1+html": [
       "<div id=\"527b980b-fc5f-43a7-924a-afcef0318f96\" style=\"height: 525px; width: 100%;\" class=\"plotly-graph-div\"></div><script type=\"text/javascript\">require([\"plotly\"], function(Plotly) { window.PLOTLYENV=window.PLOTLYENV || {};window.PLOTLYENV.BASE_URL=\"https://plot.ly\";Plotly.newPlot(\"527b980b-fc5f-43a7-924a-afcef0318f96\", [{\"name\": \"Clasico\", \"x\": [\"Cine y Peliculas\", \"Vida Nocturna\", \"Comida Rapida\", \"Servicios de Comunicacion, Internet y Telecable\", \"Servicios Educativos\", \"Ropas\", \"Servicios Gubernamentales\", \"Supermercados y Alimentos\", \"Musica\", \"Licores\", \"Tecnologia y Software\", \"Servicios de Salud, Belleza y Recreacion\", \"Tienda De Venta Especializada\", \"Gasolineras y Vehiculos\", \"Servicios Agropecuarios\", \"Ferreterias y Hogar\", \"Servicios de Textiles e Imprenta\", \"Otros Servicios\", \"Ventas y Servicios de Equipos Electricos\", \"Servicio Personales (Deliveries, etc.)\", \"Articulos de Oficina\", \"Servicios de Construccion y Decoracion\", \"Hoteles Moteles Resorts\", \"Restaurantes\", \"Instituciones Financieras y Aseguradoras\", \"Servicios de Transporte y Viajes\"], \"y\": [61.12852664576803, 49.706916764361075, 48.888888888888886, 44.63765477057538, 44.092707744488415, 43.95329441201001, 43.753249003638885, 43.693011375449224, 42.40362811791383, 41.91449814126394, 40.885860306643956, 40.78969957081545, 40.550688360450565, 40.36980749746707, 38.297872340425535, 37.60717069368667, 37.254901960784316, 37.136929460580916, 34.72222222222222, 34.35114503816794, 33.60655737704918, 33.333333333333336, 32.9559748427673, 31.39383412939644, 25.128644939965696, 25.027808676307007], \"type\": \"bar\", \"uid\": \"8732229f-0a45-487e-a88a-0307ef9fdb38\"}, {\"name\": \"Emergente\", \"x\": [\"Servicios Agropecuarios\", \"Ventas y Servicios de Equipos Electricos\", \"Servicios de Textiles e Imprenta\", \"Gasolineras y Vehiculos\", \"Servicio Personales (Deliveries, etc.)\", \"Tienda De Venta Especializada\", \"Instituciones Financieras y Aseguradoras\", \"Servicios de Construccion y Decoracion\", \"Ferreterias y Hogar\", \"Servicios de Comunicacion, Internet y Telecable\", \"Servicios Gubernamentales\", \"Servicios de Transporte y Viajes\", \"Tecnologia y Software\", \"Articulos de Oficina\", \"Supermercados y Alimentos\", \"Servicios de Salud, Belleza y Recreacion\", \"Otros Servicios\", \"Ropas\", \"Servicios Educativos\", \"Comida Rapida\", \"Licores\", \"Restaurantes\", \"Vida Nocturna\", \"Hoteles Moteles Resorts\", \"Cine y Peliculas\", \"Musica\"], \"y\": [35.638297872340424, 35.363247863247864, 35.294117647058826, 35.217831813576495, 35.11450381679389, 34.69336670838548, 34.6483704974271, 34.61538461538461, 33.90491036632891, 33.82192279679534, 33.65101368913533, 33.62995921394142, 33.21976149914821, 33.19672131147541, 33.09275594760759, 32.952789699570815, 32.2268326417704, 32.18306922435363, 32.052006783493496, 31.9960668633235, 31.133828996282528, 30.15631784628745, 30.011723329425557, 29.68553459119497, 28.213166144200628, 27.77777777777778], \"type\": \"bar\", \"uid\": \"3625033e-85c7-45f1-8f4d-3a0609f5de20\"}, {\"name\": \"Mi_Negocio\", \"x\": [\"Articulos de Oficina\", \"Servicios de Transporte y Viajes\", \"Restaurantes\", \"Hoteles Moteles Resorts\", \"Instituciones Financieras y Aseguradoras\", \"Ventas y Servicios de Equipos Electricos\", \"Otros Servicios\", \"Ferreterias y Hogar\", \"Licores\", \"Musica\", \"Tecnologia y Software\", \"Servicios Gubernamentales\", \"Tienda De Venta Especializada\", \"Gasolineras y Vehiculos\", \"Ropas\", \"Servicios Educativos\", \"Vida Nocturna\", \"Servicios de Comunicacion, Internet y Telecable\", \"Supermercados y Alimentos\", \"Servicios de Salud, Belleza y Recreacion\", \"Servicio Personales (Deliveries, etc.)\", \"Comida Rapida\", \"Cine y Peliculas\", \"Servicios Agropecuarios\", \"Servicios de Construccion y Decoracion\"], \"y\": [7.377049180327869, 7.267334074898035, 6.231003039513678, 6.163522012578617, 6.003430531732419, 5.8760683760683765, 5.601659751037344, 4.9883086515978174, 4.553903345724907, 4.308390022675737, 4.088586030664395, 3.7948362502166004, 3.6128493950771796, 3.53596757852077, 3.4924937447873226, 3.4482758620689653, 3.3997655334114887, 3.177348871085215, 3.136416287980041, 3.0643776824034337, 3.053435114503817, 2.202556538839725, 1.8808777429467085, 1.5957446808510638, 1.2820512820512822], \"type\": \"bar\", \"uid\": \"04a7df7b-2a20-4909-b099-636aeb5e5c71\"}, {\"name\": \"Preferencial\", \"x\": [\"Instituciones Financieras y Aseguradoras\", \"Servicios de Transporte y Viajes\", \"Restaurantes\", \"Hoteles Moteles Resorts\", \"Servicios de Construccion y Decoracion\", \"Servicios Agropecuarios\", \"Musica\", \"Servicios de Textiles e Imprenta\", \"Ventas y Servicios de Equipos Electricos\", \"Servicios de Salud, Belleza y Recreacion\", \"Ferreterias y Hogar\", \"Otros Servicios\", \"Articulos de Oficina\", \"Licores\", \"Servicio Personales (Deliveries, etc.)\", \"Tecnologia y Software\", \"Tienda De Venta Especializada\", \"Gasolineras y Vehiculos\", \"Servicios Educativos\", \"Supermercados y Alimentos\", \"Ropas\", \"Servicios Gubernamentales\", \"Servicios de Comunicacion, Internet y Telecable\", \"Comida Rapida\", \"Vida Nocturna\", \"Cine y Peliculas\"], \"y\": [24.528301886792452, 24.026696329254726, 21.16804168475901, 19.245283018867923, 19.23076923076923, 19.148936170212767, 18.707482993197278, 17.647058823529413, 17.414529914529915, 17.30472103004292, 17.030397505845674, 17.012448132780083, 16.80327868852459, 16.171003717472118, 16.03053435114504, 16.013628620102214, 15.844806007509387, 15.618034447821682, 15.602035048049746, 15.432593780629066, 15.075062552126772, 14.954080748570439, 14.320830298616169, 13.274336283185841, 11.137162954279015, 6.269592476489028], \"type\": \"bar\", \"uid\": \"f797331c-52c9-406e-8622-bfd98ba441ff\"}, {\"name\": \"Prestige\", \"x\": [\"Hoteles Moteles Resorts\", \"Servicios de Construccion y Decoracion\", \"Servicio Personales (Deliveries, etc.)\", \"Restaurantes\", \"Servicios de Transporte y Viajes\", \"Servicios de Textiles e Imprenta\", \"Instituciones Financieras y Aseguradoras\", \"Articulos de Oficina\", \"Otros Servicios\", \"Musica\", \"Ventas y Servicios de Equipos Electricos\", \"Ferreterias y Hogar\", \"Licores\", \"Servicios de Salud, Belleza y Recreacion\", \"Tecnologia y Software\", \"Vida Nocturna\", \"Servicios Agropecuarios\", \"Tienda De Venta Especializada\", \"Ropas\", \"Gasolineras y Vehiculos\", \"Servicios Educativos\", \"Supermercados y Alimentos\", \"Servicios de Comunicacion, Internet y Telecable\", \"Servicios Gubernamentales\", \"Comida Rapida\", \"Cine y Peliculas\"], \"y\": [11.949685534591195, 11.538461538461538, 11.450381679389313, 11.050803300043421, 10.048201705598814, 9.803921568627452, 9.691252144082332, 9.01639344262295, 8.022130013831259, 6.802721088435374, 6.6239316239316235, 6.46921278254092, 6.226765799256506, 5.888412017167382, 5.792163543441227, 5.74443141852286, 5.319148936170213, 5.2982895285773886, 5.2960800667222685, 5.258358662613982, 4.804974561899378, 4.645222608334076, 4.0422432629278955, 3.8468203084387453, 3.6381514257620453, 2.5078369905956115], \"type\": \"bar\", \"uid\": \"aecad585-70a4-4ee7-a28b-a6832e982711\"}], {\"autosize\": true, \"barmode\": \"stack\", \"title\": {\"text\": \"Preferencias por Categoria por Segmento\"}, \"xaxis\": {\"title\": {\"font\": {\"color\": \"#14A751\", \"family\": \"Myriad\", \"size\": 20}, \"text\": \"Categoria_Agrupada\"}}, \"yaxis\": {\"title\": {\"font\": {\"color\": \"#14A751\", \"family\": \"Myriad\", \"size\": 20}, \"text\": \"Porcentaje_Clientes (%)\"}}}, {\"showLink\": false, \"linkText\": \"Export to plot.ly\", \"plotlyServerURL\": \"https://plot.ly\"})});</script><script type=\"text/javascript\">window.addEventListener(\"resize\", function(){window._Plotly.Plots.resize(document.getElementById(\"527b980b-fc5f-43a7-924a-afcef0318f96\"));});</script>"
      ]
     },
     "metadata": {},
     "output_type": "display_data"
    }
   ],
   "source": [
    "stacked_bar_plotly(pct_preferencias_segmento,\"Categoria_Agrupada\",\"Segmento\"\n",
    "                   ,\"Porcentaje_Clientes (%)\",\"Preferencias por Categoria por Segmento\")"
   ]
  },
  {
   "cell_type": "markdown",
   "metadata": {
    "slideshow": {
     "slide_type": "subslide"
    }
   },
   "source": [
    "Se pueden apreciar las diferencias entre los segmentos donde: \n",
    "\n",
    "- Las categorias de Entretenimiento, y Compras de Bienes tienen auge en los segmentos más bajos.\n",
    "\n",
    "- Los categorias de Servicios, Restaurantes y Vacaciones son más populares en los segmentos de renta altos.\n"
   ]
  },
  {
   "cell_type": "code",
   "execution_count": 92,
   "metadata": {
    "slideshow": {
     "slide_type": "skip"
    }
   },
   "outputs": [
    {
     "data": {
      "text/html": [
       "<div>\n",
       "<style scoped>\n",
       "    .dataframe tbody tr th:only-of-type {\n",
       "        vertical-align: middle;\n",
       "    }\n",
       "\n",
       "    .dataframe tbody tr th {\n",
       "        vertical-align: top;\n",
       "    }\n",
       "\n",
       "    .dataframe thead th {\n",
       "        text-align: right;\n",
       "    }\n",
       "</style>\n",
       "<table border=\"1\" class=\"dataframe\">\n",
       "  <thead>\n",
       "    <tr style=\"text-align: right;\">\n",
       "      <th></th>\n",
       "      <th>Segmento</th>\n",
       "      <th>Categoria_Agrupada</th>\n",
       "      <th>Porcentaje_Clientes (%)</th>\n",
       "    </tr>\n",
       "  </thead>\n",
       "  <tbody>\n",
       "    <tr>\n",
       "      <th>0</th>\n",
       "      <td>Clasico</td>\n",
       "      <td>Articulos de Oficina</td>\n",
       "      <td>0.150189</td>\n",
       "    </tr>\n",
       "    <tr>\n",
       "      <th>1</th>\n",
       "      <td>Clasico</td>\n",
       "      <td>Cine y Peliculas</td>\n",
       "      <td>0.357156</td>\n",
       "    </tr>\n",
       "    <tr>\n",
       "      <th>2</th>\n",
       "      <td>Clasico</td>\n",
       "      <td>Comida Rapida</td>\n",
       "      <td>4.553280</td>\n",
       "    </tr>\n",
       "    <tr>\n",
       "      <th>3</th>\n",
       "      <td>Clasico</td>\n",
       "      <td>Ferreterias y Hogar</td>\n",
       "      <td>3.534928</td>\n",
       "    </tr>\n",
       "    <tr>\n",
       "      <th>4</th>\n",
       "      <td>Clasico</td>\n",
       "      <td>Gasolineras y Vehiculos</td>\n",
       "      <td>14.595773</td>\n",
       "    </tr>\n",
       "  </tbody>\n",
       "</table>\n",
       "</div>"
      ],
      "text/plain": [
       "  Segmento       Categoria_Agrupada  Porcentaje_Clientes (%)\n",
       "0  Clasico     Articulos de Oficina                 0.150189\n",
       "1  Clasico         Cine y Peliculas                 0.357156\n",
       "2  Clasico            Comida Rapida                 4.553280\n",
       "3  Clasico      Ferreterias y Hogar                 3.534928\n",
       "4  Clasico  Gasolineras y Vehiculos                14.595773"
      ]
     },
     "execution_count": 92,
     "metadata": {},
     "output_type": "execute_result"
    }
   ],
   "source": [
    "pct_segmento_preferencias = create_count_percentage_by_group(preferencias_clientes_full\n",
    "                                              ,[\"Segmento\",\"Categoria_Agrupada\"],[\"Codigo_Cliente\"]\n",
    "                ,[\"Segmento\",\"Categoria_Agrupada\",\"Porcentaje_Clientes (%)\"])\n",
    "\n",
    "pct_segmento_preferencias.head()"
   ]
  },
  {
   "cell_type": "code",
   "execution_count": 93,
   "metadata": {
    "slideshow": {
     "slide_type": "subslide"
    }
   },
   "outputs": [
    {
     "data": {
      "application/vnd.plotly.v1+json": {
       "config": {
        "linkText": "Export to plot.ly",
        "plotlyServerURL": "https://plot.ly",
        "showLink": false
       },
       "data": [
        {
         "name": "Articulos de Oficina",
         "type": "bar",
         "uid": "8e3ca9af-2270-42cc-9ae1-61657e4ba645",
         "x": [
          "Mi_Negocio",
          "Prestige",
          "Preferencial",
          "Emergente",
          "Clasico"
         ],
         "y": [
          0.3760969494358546,
          0.3079507278835386,
          0.19484839844121282,
          0.18467010168254983,
          0.15018865159895967
         ]
        },
        {
         "name": "Cine y Peliculas",
         "type": "bar",
         "uid": "679c0907-de39-4be7-8bc0-504a3ea34d67",
         "x": [
          "Clasico",
          "Emergente",
          "Mi_Negocio",
          "Prestige",
          "Preferencial"
         ],
         "y": [
          0.35715593977801385,
          0.2051890018694998,
          0.12536564981195153,
          0.11198208286674133,
          0.095047999239616
         ]
        },
        {
         "name": "Comida Rapida",
         "type": "bar",
         "uid": "8ec80711-4c49-4c96-a12a-8de2b92017c3",
         "x": [
          "Clasico",
          "Emergente",
          "Preferencial",
          "Prestige",
          "Mi_Negocio"
         ],
         "y": [
          4.553280339939192,
          3.7093611782408464,
          3.20786997433704,
          2.589585666293393,
          2.340158796489762
         ]
        },
        {
         "name": "Ferreterias y Hogar",
         "type": "bar",
         "uid": "9c424689-9ddb-4388-971c-e01866b84429",
         "x": [
          "Mi_Negocio",
          "Prestige",
          "Preferencial",
          "Emergente",
          "Clasico"
         ],
         "y": [
          5.348934391976599,
          4.647256438969765,
          4.15359756677122,
          3.966987369476996,
          3.534928019341368
         ]
        },
        {
         "name": "Gasolineras y Vehiculos",
         "type": "bar",
         "uid": "c5ec92bb-86f9-471b-a923-ea8eeb2ebd04",
         "x": [
          "Emergente",
          "Preferencial",
          "Clasico",
          "Mi_Negocio",
          "Prestige"
         ],
         "y": [
          15.849710455519585,
          14.651649082786808,
          14.595772738928165,
          14.584203928123694,
          14.529675251959686
         ]
        },
        {
         "name": "Hoteles Moteles Resorts",
         "type": "bar",
         "uid": "cf89fd27-c548-43b5-93a6-af3a906cd5dd",
         "x": [
          "Prestige",
          "Mi_Negocio",
          "Preferencial",
          "Emergente",
          "Clasico"
         ],
         "y": [
          1.3297872340425532,
          1.0238194734642707,
          0.7271171941830624,
          0.5380511604577994,
          0.47987105754789555
         ]
        },
        {
         "name": "Instituciones Financieras y Aseguradoras",
         "type": "bar",
         "uid": "9bf460ff-0e4a-48b4-aa9c-bbebd418b421",
         "x": [
          "Prestige",
          "Mi_Negocio",
          "Preferencial",
          "Emergente",
          "Clasico"
         ],
         "y": [
          1.5817469204927213,
          1.4625992478061012,
          1.3591863891265088,
          0.921070630614199,
          0.53664969412799
         ]
        },
        {
         "name": "Licores",
         "type": "bar",
         "uid": "064ced21-2902-4e81-8428-057ae94a5cd5",
         "x": [
          "Mi_Negocio",
          "Prestige",
          "Preferencial",
          "Clasico",
          "Emergente"
         ],
         "y": [
          1.0238194734642707,
          0.9378499440089586,
          0.8269175933846592,
          0.8260375837942782,
          0.7637590625142492
         ]
        },
        {
         "name": "Musica",
         "type": "bar",
         "uid": "6abcf3c6-88fd-4952-8bf9-7977de73d04f",
         "x": [
          "Prestige",
          "Mi_Negocio",
          "Preferencial",
          "Clasico",
          "Emergente"
         ],
         "y": [
          0.8398656215005599,
          0.7939824488090264,
          0.784145993726832,
          0.6850067768050112,
          0.5585700606447495
         ]
        },
        {
         "name": "Otros Servicios",
         "type": "bar",
         "uid": "c647c7d4-c824-4912-b288-1e44d8ac6f53",
         "x": [
          "Mi_Negocio",
          "Prestige",
          "Preferencial",
          "Emergente",
          "Clasico"
         ],
         "y": [
          1.6924362724613455,
          1.6237402015677491,
          1.169090390647277,
          1.062423054124299,
          0.983552511080992
         ]
        },
        {
         "name": "Restaurantes",
         "type": "bar",
         "uid": "4905b3fa-e991-44a0-8d4c-8082cf0a8211",
         "x": [
          "Prestige",
          "Mi_Negocio",
          "Preferencial",
          "Emergente",
          "Clasico"
         ],
         "y": [
          7.124860022396416,
          5.996656916005015,
          4.63358996293128,
          3.1667502621859467,
          2.648448661123118
         ]
        },
        {
         "name": "Ropas",
         "type": "bar",
         "uid": "262a367d-f220-4c98-944d-171a3f809d3b",
         "x": [
          "Clasico",
          "Prestige",
          "Emergente",
          "Mi_Negocio",
          "Preferencial"
         ],
         "y": [
          7.721894574892853,
          7.110862262038074,
          7.037982764123843,
          6.999582114500627,
          6.871970345024237
         ]
        },
        {
         "name": "Servicio Personales (Deliveries, etc.)",
         "type": "bar",
         "uid": "28061d4f-e9a6-469f-be5b-c18fdc5b91ae",
         "x": [
          "Prestige",
          "Emergente",
          "Preferencial",
          "Mi_Negocio",
          "Clasico"
         ],
         "y": [
          0.20996640537513997,
          0.1048743787332999,
          0.0998003992015968,
          0.08357709987463435,
          0.08242060148723397
         ]
        },
        {
         "name": "Servicios Agropecuarios",
         "type": "bar",
         "uid": "f855532b-536d-4e86-ade1-0761ad06c141",
         "x": [
          "Preferencial",
          "Emergente",
          "Prestige",
          "Clasico",
          "Mi_Negocio"
         ],
         "y": [
          0.1710863986313088,
          0.15275181250284986,
          0.13997760358342665,
          0.13187296237957435,
          0.06268282490597576
         ]
        },
        {
         "name": "Servicios Educativos",
         "type": "bar",
         "uid": "8c461728-e146-4545-93ec-9f80e30bbe9c",
         "x": [
          "Clasico",
          "Preferencial",
          "Emergente",
          "Mi_Negocio",
          "Prestige"
         ],
         "y": [
          1.4286237591120554,
          1.3116623895067008,
          1.2926907117778488,
          1.2745507730881738,
          1.1898096304591266
         ]
        },
        {
         "name": "Servicios Gubernamentales",
         "type": "bar",
         "uid": "184b9656-b313-4454-a72c-9189b7b3dbc2",
         "x": [
          "Clasico",
          "Mi_Negocio",
          "Emergente",
          "Preferencial",
          "Prestige"
         ],
         "y": [
          4.624711527894795,
          4.57584621813623,
          4.427522684784096,
          4.101321167189431,
          3.107502799552072
         ]
        },
        {
         "name": "Servicios de Comunicacion, Internet y Telecable",
         "type": "bar",
         "uid": "ff09a5f1-e400-4c31-ac2a-f028c1fea887",
         "x": [
          "Clasico",
          "Emergente",
          "Preferencial",
          "Mi_Negocio",
          "Prestige"
         ],
         "y": [
          8.980182424264624,
          8.469746021613242,
          7.475525140195799,
          7.292101964061847,
          6.215005599104144
         ]
        },
        {
         "name": "Servicios de Construccion y Decoracion",
         "type": "bar",
         "uid": "58af1479-b4c0-4e4c-8754-bb82c7ed6197",
         "x": [
          "Prestige",
          "Preferencial",
          "Emergente",
          "Clasico",
          "Mi_Negocio"
         ],
         "y": [
          0.125979843225084,
          0.071285999429712,
          0.06155670056084994,
          0.047620791970401845,
          0.020894274968658588
         ]
        },
        {
         "name": "Servicios de Salud, Belleza y Recreacion",
         "type": "bar",
         "uid": "1161ea21-256e-47e0-b209-3881f6abf598",
         "x": [
          "Prestige",
          "Preferencial",
          "Emergente",
          "Clasico",
          "Mi_Negocio"
         ],
         "y": [
          9.602463605823068,
          9.580838323353293,
          8.752450868633442,
          8.703615517051906,
          7.459256163811116
         ]
        },
        {
         "name": "Servicios de Textiles e Imprenta",
         "type": "bar",
         "uid": "b30ebfa5-0ee3-4879-ad37-dbc094fc268a",
         "x": [
          "Prestige",
          "Preferencial",
          "Emergente",
          "Clasico"
         ],
         "y": [
          0.06998880179171332,
          0.0427715996578272,
          0.04103780037389996,
          0.03479980951683212
         ]
        },
        {
         "name": "Servicios de Transporte y Viajes",
         "type": "bar",
         "uid": "8801959c-38b3-489f-9f8b-dbbc06357a7d",
         "x": [
          "Mi_Negocio",
          "Prestige",
          "Preferencial",
          "Emergente",
          "Clasico"
         ],
         "y": [
          4.095277893857083,
          3.7933930571108623,
          3.0795551753635584,
          2.067849163284848,
          1.2363090223085094
         ]
        },
        {
         "name": "Supermercados y Alimentos",
         "type": "bar",
         "uid": "cec53d36-d4b2-49d8-9347-33af344ee73a",
         "x": [
          "Clasico",
          "Emergente",
          "Preferencial",
          "Mi_Negocio",
          "Prestige"
         ],
         "y": [
          26.94421041063775,
          25.402398431444073,
          24.69347020245224,
          22.06435436690347,
          21.892497200447927
         ]
        },
        {
         "name": "Tecnologia y Software",
         "type": "bar",
         "uid": "86c4309c-9e1e-42ee-9395-29710b6fd3a1",
         "x": [
          "Mi_Negocio",
          "Prestige",
          "Preferencial",
          "Emergente",
          "Clasico"
         ],
         "y": [
          0.5014625992478061,
          0.47592385218365063,
          0.44672559642619525,
          0.44457617071724953,
          0.4395765412652478
         ]
        },
        {
         "name": "Tienda De Venta Especializada",
         "type": "bar",
         "uid": "9cd974d6-0ad2-43f2-bae8-ea5350ed4e26",
         "x": [
          "Emergente",
          "Mi_Negocio",
          "Preferencial",
          "Clasico",
          "Prestige"
         ],
         "y": [
          9.47973188637089,
          9.047221061429168,
          9.02480752780154,
          8.901424960621268,
          8.888577827547593
         ]
        },
        {
         "name": "Ventas y Servicios de Equipos Electricos",
         "type": "bar",
         "uid": "f26c21a8-0518-41e5-8ab8-fe1da7dea855",
         "x": [
          "Mi_Negocio",
          "Prestige",
          "Preferencial",
          "Emergente",
          "Clasico"
         ],
         "y": [
          1.1491851232762222,
          0.8678611422172452,
          0.7746411938028704,
          0.7546395513200492,
          0.5952598996300231
         ]
        },
        {
         "name": "Vida Nocturna",
         "type": "bar",
         "uid": "701f9cc2-522f-434e-8600-49d987182499",
         "x": [
          "Clasico",
          "Prestige",
          "Mi_Negocio",
          "Emergente",
          "Preferencial"
         ],
         "y": [
          0.7765852229019378,
          0.6858902575587906,
          0.6059339740910991,
          0.5836487164287995,
          0.45147799638817604
         ]
        }
       ],
       "layout": {
        "autosize": true,
        "barmode": "stack",
        "title": {
         "text": "Preferencias por Segmento por Categoria"
        },
        "xaxis": {
         "title": {
          "font": {
           "color": "#14A751",
           "family": "Myriad",
           "size": 20
          },
          "text": "Segmento"
         }
        },
        "yaxis": {
         "title": {
          "font": {
           "color": "#14A751",
           "family": "Myriad",
           "size": 20
          },
          "text": "Porcentaje_Clientes (%)"
         }
        }
       }
      },
      "text/html": [
       "<div id=\"c3843323-258f-481b-83d1-7f9cf09adbc0\" style=\"height: 525px; width: 100%;\" class=\"plotly-graph-div\"></div><script type=\"text/javascript\">require([\"plotly\"], function(Plotly) { window.PLOTLYENV=window.PLOTLYENV || {};window.PLOTLYENV.BASE_URL=\"https://plot.ly\";Plotly.newPlot(\"c3843323-258f-481b-83d1-7f9cf09adbc0\", [{\"name\": \"Articulos de Oficina\", \"x\": [\"Mi_Negocio\", \"Prestige\", \"Preferencial\", \"Emergente\", \"Clasico\"], \"y\": [0.3760969494358546, 0.3079507278835386, 0.19484839844121282, 0.18467010168254983, 0.15018865159895967], \"type\": \"bar\", \"uid\": \"8e3ca9af-2270-42cc-9ae1-61657e4ba645\"}, {\"name\": \"Cine y Peliculas\", \"x\": [\"Clasico\", \"Emergente\", \"Mi_Negocio\", \"Prestige\", \"Preferencial\"], \"y\": [0.35715593977801385, 0.2051890018694998, 0.12536564981195153, 0.11198208286674133, 0.095047999239616], \"type\": \"bar\", \"uid\": \"679c0907-de39-4be7-8bc0-504a3ea34d67\"}, {\"name\": \"Comida Rapida\", \"x\": [\"Clasico\", \"Emergente\", \"Preferencial\", \"Prestige\", \"Mi_Negocio\"], \"y\": [4.553280339939192, 3.7093611782408464, 3.20786997433704, 2.589585666293393, 2.340158796489762], \"type\": \"bar\", \"uid\": \"8ec80711-4c49-4c96-a12a-8de2b92017c3\"}, {\"name\": \"Ferreterias y Hogar\", \"x\": [\"Mi_Negocio\", \"Prestige\", \"Preferencial\", \"Emergente\", \"Clasico\"], \"y\": [5.348934391976599, 4.647256438969765, 4.15359756677122, 3.966987369476996, 3.534928019341368], \"type\": \"bar\", \"uid\": \"9c424689-9ddb-4388-971c-e01866b84429\"}, {\"name\": \"Gasolineras y Vehiculos\", \"x\": [\"Emergente\", \"Preferencial\", \"Clasico\", \"Mi_Negocio\", \"Prestige\"], \"y\": [15.849710455519585, 14.651649082786808, 14.595772738928165, 14.584203928123694, 14.529675251959686], \"type\": \"bar\", \"uid\": \"c5ec92bb-86f9-471b-a923-ea8eeb2ebd04\"}, {\"name\": \"Hoteles Moteles Resorts\", \"x\": [\"Prestige\", \"Mi_Negocio\", \"Preferencial\", \"Emergente\", \"Clasico\"], \"y\": [1.3297872340425532, 1.0238194734642707, 0.7271171941830624, 0.5380511604577994, 0.47987105754789555], \"type\": \"bar\", \"uid\": \"cf89fd27-c548-43b5-93a6-af3a906cd5dd\"}, {\"name\": \"Instituciones Financieras y Aseguradoras\", \"x\": [\"Prestige\", \"Mi_Negocio\", \"Preferencial\", \"Emergente\", \"Clasico\"], \"y\": [1.5817469204927213, 1.4625992478061012, 1.3591863891265088, 0.921070630614199, 0.53664969412799], \"type\": \"bar\", \"uid\": \"9bf460ff-0e4a-48b4-aa9c-bbebd418b421\"}, {\"name\": \"Licores\", \"x\": [\"Mi_Negocio\", \"Prestige\", \"Preferencial\", \"Clasico\", \"Emergente\"], \"y\": [1.0238194734642707, 0.9378499440089586, 0.8269175933846592, 0.8260375837942782, 0.7637590625142492], \"type\": \"bar\", \"uid\": \"064ced21-2902-4e81-8428-057ae94a5cd5\"}, {\"name\": \"Musica\", \"x\": [\"Prestige\", \"Mi_Negocio\", \"Preferencial\", \"Clasico\", \"Emergente\"], \"y\": [0.8398656215005599, 0.7939824488090264, 0.784145993726832, 0.6850067768050112, 0.5585700606447495], \"type\": \"bar\", \"uid\": \"6abcf3c6-88fd-4952-8bf9-7977de73d04f\"}, {\"name\": \"Otros Servicios\", \"x\": [\"Mi_Negocio\", \"Prestige\", \"Preferencial\", \"Emergente\", \"Clasico\"], \"y\": [1.6924362724613455, 1.6237402015677491, 1.169090390647277, 1.062423054124299, 0.983552511080992], \"type\": \"bar\", \"uid\": \"c647c7d4-c824-4912-b288-1e44d8ac6f53\"}, {\"name\": \"Restaurantes\", \"x\": [\"Prestige\", \"Mi_Negocio\", \"Preferencial\", \"Emergente\", \"Clasico\"], \"y\": [7.124860022396416, 5.996656916005015, 4.63358996293128, 3.1667502621859467, 2.648448661123118], \"type\": \"bar\", \"uid\": \"4905b3fa-e991-44a0-8d4c-8082cf0a8211\"}, {\"name\": \"Ropas\", \"x\": [\"Clasico\", \"Prestige\", \"Emergente\", \"Mi_Negocio\", \"Preferencial\"], \"y\": [7.721894574892853, 7.110862262038074, 7.037982764123843, 6.999582114500627, 6.871970345024237], \"type\": \"bar\", \"uid\": \"262a367d-f220-4c98-944d-171a3f809d3b\"}, {\"name\": \"Servicio Personales (Deliveries, etc.)\", \"x\": [\"Prestige\", \"Emergente\", \"Preferencial\", \"Mi_Negocio\", \"Clasico\"], \"y\": [0.20996640537513997, 0.1048743787332999, 0.0998003992015968, 0.08357709987463435, 0.08242060148723397], \"type\": \"bar\", \"uid\": \"28061d4f-e9a6-469f-be5b-c18fdc5b91ae\"}, {\"name\": \"Servicios Agropecuarios\", \"x\": [\"Preferencial\", \"Emergente\", \"Prestige\", \"Clasico\", \"Mi_Negocio\"], \"y\": [0.1710863986313088, 0.15275181250284986, 0.13997760358342665, 0.13187296237957435, 0.06268282490597576], \"type\": \"bar\", \"uid\": \"f855532b-536d-4e86-ade1-0761ad06c141\"}, {\"name\": \"Servicios Educativos\", \"x\": [\"Clasico\", \"Preferencial\", \"Emergente\", \"Mi_Negocio\", \"Prestige\"], \"y\": [1.4286237591120554, 1.3116623895067008, 1.2926907117778488, 1.2745507730881738, 1.1898096304591266], \"type\": \"bar\", \"uid\": \"8c461728-e146-4545-93ec-9f80e30bbe9c\"}, {\"name\": \"Servicios Gubernamentales\", \"x\": [\"Clasico\", \"Mi_Negocio\", \"Emergente\", \"Preferencial\", \"Prestige\"], \"y\": [4.624711527894795, 4.57584621813623, 4.427522684784096, 4.101321167189431, 3.107502799552072], \"type\": \"bar\", \"uid\": \"184b9656-b313-4454-a72c-9189b7b3dbc2\"}, {\"name\": \"Servicios de Comunicacion, Internet y Telecable\", \"x\": [\"Clasico\", \"Emergente\", \"Preferencial\", \"Mi_Negocio\", \"Prestige\"], \"y\": [8.980182424264624, 8.469746021613242, 7.475525140195799, 7.292101964061847, 6.215005599104144], \"type\": \"bar\", \"uid\": \"ff09a5f1-e400-4c31-ac2a-f028c1fea887\"}, {\"name\": \"Servicios de Construccion y Decoracion\", \"x\": [\"Prestige\", \"Preferencial\", \"Emergente\", \"Clasico\", \"Mi_Negocio\"], \"y\": [0.125979843225084, 0.071285999429712, 0.06155670056084994, 0.047620791970401845, 0.020894274968658588], \"type\": \"bar\", \"uid\": \"58af1479-b4c0-4e4c-8754-bb82c7ed6197\"}, {\"name\": \"Servicios de Salud, Belleza y Recreacion\", \"x\": [\"Prestige\", \"Preferencial\", \"Emergente\", \"Clasico\", \"Mi_Negocio\"], \"y\": [9.602463605823068, 9.580838323353293, 8.752450868633442, 8.703615517051906, 7.459256163811116], \"type\": \"bar\", \"uid\": \"1161ea21-256e-47e0-b209-3881f6abf598\"}, {\"name\": \"Servicios de Textiles e Imprenta\", \"x\": [\"Prestige\", \"Preferencial\", \"Emergente\", \"Clasico\"], \"y\": [0.06998880179171332, 0.0427715996578272, 0.04103780037389996, 0.03479980951683212], \"type\": \"bar\", \"uid\": \"b30ebfa5-0ee3-4879-ad37-dbc094fc268a\"}, {\"name\": \"Servicios de Transporte y Viajes\", \"x\": [\"Mi_Negocio\", \"Prestige\", \"Preferencial\", \"Emergente\", \"Clasico\"], \"y\": [4.095277893857083, 3.7933930571108623, 3.0795551753635584, 2.067849163284848, 1.2363090223085094], \"type\": \"bar\", \"uid\": \"8801959c-38b3-489f-9f8b-dbbc06357a7d\"}, {\"name\": \"Supermercados y Alimentos\", \"x\": [\"Clasico\", \"Emergente\", \"Preferencial\", \"Mi_Negocio\", \"Prestige\"], \"y\": [26.94421041063775, 25.402398431444073, 24.69347020245224, 22.06435436690347, 21.892497200447927], \"type\": \"bar\", \"uid\": \"cec53d36-d4b2-49d8-9347-33af344ee73a\"}, {\"name\": \"Tecnologia y Software\", \"x\": [\"Mi_Negocio\", \"Prestige\", \"Preferencial\", \"Emergente\", \"Clasico\"], \"y\": [0.5014625992478061, 0.47592385218365063, 0.44672559642619525, 0.44457617071724953, 0.4395765412652478], \"type\": \"bar\", \"uid\": \"86c4309c-9e1e-42ee-9395-29710b6fd3a1\"}, {\"name\": \"Tienda De Venta Especializada\", \"x\": [\"Emergente\", \"Mi_Negocio\", \"Preferencial\", \"Clasico\", \"Prestige\"], \"y\": [9.47973188637089, 9.047221061429168, 9.02480752780154, 8.901424960621268, 8.888577827547593], \"type\": \"bar\", \"uid\": \"9cd974d6-0ad2-43f2-bae8-ea5350ed4e26\"}, {\"name\": \"Ventas y Servicios de Equipos Electricos\", \"x\": [\"Mi_Negocio\", \"Prestige\", \"Preferencial\", \"Emergente\", \"Clasico\"], \"y\": [1.1491851232762222, 0.8678611422172452, 0.7746411938028704, 0.7546395513200492, 0.5952598996300231], \"type\": \"bar\", \"uid\": \"f26c21a8-0518-41e5-8ab8-fe1da7dea855\"}, {\"name\": \"Vida Nocturna\", \"x\": [\"Clasico\", \"Prestige\", \"Mi_Negocio\", \"Emergente\", \"Preferencial\"], \"y\": [0.7765852229019378, 0.6858902575587906, 0.6059339740910991, 0.5836487164287995, 0.45147799638817604], \"type\": \"bar\", \"uid\": \"701f9cc2-522f-434e-8600-49d987182499\"}], {\"autosize\": true, \"barmode\": \"stack\", \"title\": {\"text\": \"Preferencias por Segmento por Categoria\"}, \"xaxis\": {\"title\": {\"font\": {\"color\": \"#14A751\", \"family\": \"Myriad\", \"size\": 20}, \"text\": \"Segmento\"}}, \"yaxis\": {\"title\": {\"font\": {\"color\": \"#14A751\", \"family\": \"Myriad\", \"size\": 20}, \"text\": \"Porcentaje_Clientes (%)\"}}}, {\"showLink\": false, \"linkText\": \"Export to plot.ly\", \"plotlyServerURL\": \"https://plot.ly\"})});</script><script type=\"text/javascript\">window.addEventListener(\"resize\", function(){window._Plotly.Plots.resize(document.getElementById(\"c3843323-258f-481b-83d1-7f9cf09adbc0\"));});</script>"
      ],
      "text/vnd.plotly.v1+html": [
       "<div id=\"c3843323-258f-481b-83d1-7f9cf09adbc0\" style=\"height: 525px; width: 100%;\" class=\"plotly-graph-div\"></div><script type=\"text/javascript\">require([\"plotly\"], function(Plotly) { window.PLOTLYENV=window.PLOTLYENV || {};window.PLOTLYENV.BASE_URL=\"https://plot.ly\";Plotly.newPlot(\"c3843323-258f-481b-83d1-7f9cf09adbc0\", [{\"name\": \"Articulos de Oficina\", \"x\": [\"Mi_Negocio\", \"Prestige\", \"Preferencial\", \"Emergente\", \"Clasico\"], \"y\": [0.3760969494358546, 0.3079507278835386, 0.19484839844121282, 0.18467010168254983, 0.15018865159895967], \"type\": \"bar\", \"uid\": \"8e3ca9af-2270-42cc-9ae1-61657e4ba645\"}, {\"name\": \"Cine y Peliculas\", \"x\": [\"Clasico\", \"Emergente\", \"Mi_Negocio\", \"Prestige\", \"Preferencial\"], \"y\": [0.35715593977801385, 0.2051890018694998, 0.12536564981195153, 0.11198208286674133, 0.095047999239616], \"type\": \"bar\", \"uid\": \"679c0907-de39-4be7-8bc0-504a3ea34d67\"}, {\"name\": \"Comida Rapida\", \"x\": [\"Clasico\", \"Emergente\", \"Preferencial\", \"Prestige\", \"Mi_Negocio\"], \"y\": [4.553280339939192, 3.7093611782408464, 3.20786997433704, 2.589585666293393, 2.340158796489762], \"type\": \"bar\", \"uid\": \"8ec80711-4c49-4c96-a12a-8de2b92017c3\"}, {\"name\": \"Ferreterias y Hogar\", \"x\": [\"Mi_Negocio\", \"Prestige\", \"Preferencial\", \"Emergente\", \"Clasico\"], \"y\": [5.348934391976599, 4.647256438969765, 4.15359756677122, 3.966987369476996, 3.534928019341368], \"type\": \"bar\", \"uid\": \"9c424689-9ddb-4388-971c-e01866b84429\"}, {\"name\": \"Gasolineras y Vehiculos\", \"x\": [\"Emergente\", \"Preferencial\", \"Clasico\", \"Mi_Negocio\", \"Prestige\"], \"y\": [15.849710455519585, 14.651649082786808, 14.595772738928165, 14.584203928123694, 14.529675251959686], \"type\": \"bar\", \"uid\": \"c5ec92bb-86f9-471b-a923-ea8eeb2ebd04\"}, {\"name\": \"Hoteles Moteles Resorts\", \"x\": [\"Prestige\", \"Mi_Negocio\", \"Preferencial\", \"Emergente\", \"Clasico\"], \"y\": [1.3297872340425532, 1.0238194734642707, 0.7271171941830624, 0.5380511604577994, 0.47987105754789555], \"type\": \"bar\", \"uid\": \"cf89fd27-c548-43b5-93a6-af3a906cd5dd\"}, {\"name\": \"Instituciones Financieras y Aseguradoras\", \"x\": [\"Prestige\", \"Mi_Negocio\", \"Preferencial\", \"Emergente\", \"Clasico\"], \"y\": [1.5817469204927213, 1.4625992478061012, 1.3591863891265088, 0.921070630614199, 0.53664969412799], \"type\": \"bar\", \"uid\": \"9bf460ff-0e4a-48b4-aa9c-bbebd418b421\"}, {\"name\": \"Licores\", \"x\": [\"Mi_Negocio\", \"Prestige\", \"Preferencial\", \"Clasico\", \"Emergente\"], \"y\": [1.0238194734642707, 0.9378499440089586, 0.8269175933846592, 0.8260375837942782, 0.7637590625142492], \"type\": \"bar\", \"uid\": \"064ced21-2902-4e81-8428-057ae94a5cd5\"}, {\"name\": \"Musica\", \"x\": [\"Prestige\", \"Mi_Negocio\", \"Preferencial\", \"Clasico\", \"Emergente\"], \"y\": [0.8398656215005599, 0.7939824488090264, 0.784145993726832, 0.6850067768050112, 0.5585700606447495], \"type\": \"bar\", \"uid\": \"6abcf3c6-88fd-4952-8bf9-7977de73d04f\"}, {\"name\": \"Otros Servicios\", \"x\": [\"Mi_Negocio\", \"Prestige\", \"Preferencial\", \"Emergente\", \"Clasico\"], \"y\": [1.6924362724613455, 1.6237402015677491, 1.169090390647277, 1.062423054124299, 0.983552511080992], \"type\": \"bar\", \"uid\": \"c647c7d4-c824-4912-b288-1e44d8ac6f53\"}, {\"name\": \"Restaurantes\", \"x\": [\"Prestige\", \"Mi_Negocio\", \"Preferencial\", \"Emergente\", \"Clasico\"], \"y\": [7.124860022396416, 5.996656916005015, 4.63358996293128, 3.1667502621859467, 2.648448661123118], \"type\": \"bar\", \"uid\": \"4905b3fa-e991-44a0-8d4c-8082cf0a8211\"}, {\"name\": \"Ropas\", \"x\": [\"Clasico\", \"Prestige\", \"Emergente\", \"Mi_Negocio\", \"Preferencial\"], \"y\": [7.721894574892853, 7.110862262038074, 7.037982764123843, 6.999582114500627, 6.871970345024237], \"type\": \"bar\", \"uid\": \"262a367d-f220-4c98-944d-171a3f809d3b\"}, {\"name\": \"Servicio Personales (Deliveries, etc.)\", \"x\": [\"Prestige\", \"Emergente\", \"Preferencial\", \"Mi_Negocio\", \"Clasico\"], \"y\": [0.20996640537513997, 0.1048743787332999, 0.0998003992015968, 0.08357709987463435, 0.08242060148723397], \"type\": \"bar\", \"uid\": \"28061d4f-e9a6-469f-be5b-c18fdc5b91ae\"}, {\"name\": \"Servicios Agropecuarios\", \"x\": [\"Preferencial\", \"Emergente\", \"Prestige\", \"Clasico\", \"Mi_Negocio\"], \"y\": [0.1710863986313088, 0.15275181250284986, 0.13997760358342665, 0.13187296237957435, 0.06268282490597576], \"type\": \"bar\", \"uid\": \"f855532b-536d-4e86-ade1-0761ad06c141\"}, {\"name\": \"Servicios Educativos\", \"x\": [\"Clasico\", \"Preferencial\", \"Emergente\", \"Mi_Negocio\", \"Prestige\"], \"y\": [1.4286237591120554, 1.3116623895067008, 1.2926907117778488, 1.2745507730881738, 1.1898096304591266], \"type\": \"bar\", \"uid\": \"8c461728-e146-4545-93ec-9f80e30bbe9c\"}, {\"name\": \"Servicios Gubernamentales\", \"x\": [\"Clasico\", \"Mi_Negocio\", \"Emergente\", \"Preferencial\", \"Prestige\"], \"y\": [4.624711527894795, 4.57584621813623, 4.427522684784096, 4.101321167189431, 3.107502799552072], \"type\": \"bar\", \"uid\": \"184b9656-b313-4454-a72c-9189b7b3dbc2\"}, {\"name\": \"Servicios de Comunicacion, Internet y Telecable\", \"x\": [\"Clasico\", \"Emergente\", \"Preferencial\", \"Mi_Negocio\", \"Prestige\"], \"y\": [8.980182424264624, 8.469746021613242, 7.475525140195799, 7.292101964061847, 6.215005599104144], \"type\": \"bar\", \"uid\": \"ff09a5f1-e400-4c31-ac2a-f028c1fea887\"}, {\"name\": \"Servicios de Construccion y Decoracion\", \"x\": [\"Prestige\", \"Preferencial\", \"Emergente\", \"Clasico\", \"Mi_Negocio\"], \"y\": [0.125979843225084, 0.071285999429712, 0.06155670056084994, 0.047620791970401845, 0.020894274968658588], \"type\": \"bar\", \"uid\": \"58af1479-b4c0-4e4c-8754-bb82c7ed6197\"}, {\"name\": \"Servicios de Salud, Belleza y Recreacion\", \"x\": [\"Prestige\", \"Preferencial\", \"Emergente\", \"Clasico\", \"Mi_Negocio\"], \"y\": [9.602463605823068, 9.580838323353293, 8.752450868633442, 8.703615517051906, 7.459256163811116], \"type\": \"bar\", \"uid\": \"1161ea21-256e-47e0-b209-3881f6abf598\"}, {\"name\": \"Servicios de Textiles e Imprenta\", \"x\": [\"Prestige\", \"Preferencial\", \"Emergente\", \"Clasico\"], \"y\": [0.06998880179171332, 0.0427715996578272, 0.04103780037389996, 0.03479980951683212], \"type\": \"bar\", \"uid\": \"b30ebfa5-0ee3-4879-ad37-dbc094fc268a\"}, {\"name\": \"Servicios de Transporte y Viajes\", \"x\": [\"Mi_Negocio\", \"Prestige\", \"Preferencial\", \"Emergente\", \"Clasico\"], \"y\": [4.095277893857083, 3.7933930571108623, 3.0795551753635584, 2.067849163284848, 1.2363090223085094], \"type\": \"bar\", \"uid\": \"8801959c-38b3-489f-9f8b-dbbc06357a7d\"}, {\"name\": \"Supermercados y Alimentos\", \"x\": [\"Clasico\", \"Emergente\", \"Preferencial\", \"Mi_Negocio\", \"Prestige\"], \"y\": [26.94421041063775, 25.402398431444073, 24.69347020245224, 22.06435436690347, 21.892497200447927], \"type\": \"bar\", \"uid\": \"cec53d36-d4b2-49d8-9347-33af344ee73a\"}, {\"name\": \"Tecnologia y Software\", \"x\": [\"Mi_Negocio\", \"Prestige\", \"Preferencial\", \"Emergente\", \"Clasico\"], \"y\": [0.5014625992478061, 0.47592385218365063, 0.44672559642619525, 0.44457617071724953, 0.4395765412652478], \"type\": \"bar\", \"uid\": \"86c4309c-9e1e-42ee-9395-29710b6fd3a1\"}, {\"name\": \"Tienda De Venta Especializada\", \"x\": [\"Emergente\", \"Mi_Negocio\", \"Preferencial\", \"Clasico\", \"Prestige\"], \"y\": [9.47973188637089, 9.047221061429168, 9.02480752780154, 8.901424960621268, 8.888577827547593], \"type\": \"bar\", \"uid\": \"9cd974d6-0ad2-43f2-bae8-ea5350ed4e26\"}, {\"name\": \"Ventas y Servicios de Equipos Electricos\", \"x\": [\"Mi_Negocio\", \"Prestige\", \"Preferencial\", \"Emergente\", \"Clasico\"], \"y\": [1.1491851232762222, 0.8678611422172452, 0.7746411938028704, 0.7546395513200492, 0.5952598996300231], \"type\": \"bar\", \"uid\": \"f26c21a8-0518-41e5-8ab8-fe1da7dea855\"}, {\"name\": \"Vida Nocturna\", \"x\": [\"Clasico\", \"Prestige\", \"Mi_Negocio\", \"Emergente\", \"Preferencial\"], \"y\": [0.7765852229019378, 0.6858902575587906, 0.6059339740910991, 0.5836487164287995, 0.45147799638817604], \"type\": \"bar\", \"uid\": \"701f9cc2-522f-434e-8600-49d987182499\"}], {\"autosize\": true, \"barmode\": \"stack\", \"title\": {\"text\": \"Preferencias por Segmento por Categoria\"}, \"xaxis\": {\"title\": {\"font\": {\"color\": \"#14A751\", \"family\": \"Myriad\", \"size\": 20}, \"text\": \"Segmento\"}}, \"yaxis\": {\"title\": {\"font\": {\"color\": \"#14A751\", \"family\": \"Myriad\", \"size\": 20}, \"text\": \"Porcentaje_Clientes (%)\"}}}, {\"showLink\": false, \"linkText\": \"Export to plot.ly\", \"plotlyServerURL\": \"https://plot.ly\"})});</script><script type=\"text/javascript\">window.addEventListener(\"resize\", function(){window._Plotly.Plots.resize(document.getElementById(\"c3843323-258f-481b-83d1-7f9cf09adbc0\"));});</script>"
      ]
     },
     "metadata": {},
     "output_type": "display_data"
    }
   ],
   "source": [
    "stacked_bar_plotly(pct_segmento_preferencias,\"Segmento\",\"Categoria_Agrupada\"\n",
    "                   ,\"Porcentaje_Clientes (%)\",\"Preferencias por Segmento por Categoria\")"
   ]
  },
  {
   "cell_type": "markdown",
   "metadata": {
    "slideshow": {
     "slide_type": "subslide"
    }
   },
   "source": [
    "Al analizarlo por segmento, se notan diferencias interesantes, algunas como:\n",
    "\n",
    "- Los Licores son preferidos por segmentos altos, pero la vida nocturna por los segmentos bajos.\n",
    "- Los Servicios comunes (telefono, agua, internet,luz), son más comunes en los segmentos bajos.\n",
    "- Las compras en linea son dominadas por los Emergentes.\n"
   ]
  },
  {
   "cell_type": "markdown",
   "metadata": {
    "slideshow": {
     "slide_type": "subslide"
    }
   },
   "source": [
    "#### Limite de TC "
   ]
  },
  {
   "cell_type": "code",
   "execution_count": 94,
   "metadata": {
    "slideshow": {
     "slide_type": "skip"
    }
   },
   "outputs": [
    {
     "data": {
      "text/html": [
       "<div>\n",
       "<style scoped>\n",
       "    .dataframe tbody tr th:only-of-type {\n",
       "        vertical-align: middle;\n",
       "    }\n",
       "\n",
       "    .dataframe tbody tr th {\n",
       "        vertical-align: top;\n",
       "    }\n",
       "\n",
       "    .dataframe thead th {\n",
       "        text-align: right;\n",
       "    }\n",
       "</style>\n",
       "<table border=\"1\" class=\"dataframe\">\n",
       "  <thead>\n",
       "    <tr style=\"text-align: right;\">\n",
       "      <th></th>\n",
       "      <th>Categoria_Agrupada</th>\n",
       "      <th>Rango_Limite_TC</th>\n",
       "      <th>Porcentaje_Clientes (%)</th>\n",
       "    </tr>\n",
       "  </thead>\n",
       "  <tbody>\n",
       "    <tr>\n",
       "      <th>0</th>\n",
       "      <td>Articulos de Oficina</td>\n",
       "      <td>0 a 25k</td>\n",
       "      <td>27.459016</td>\n",
       "    </tr>\n",
       "    <tr>\n",
       "      <th>1</th>\n",
       "      <td>Articulos de Oficina</td>\n",
       "      <td>25k a 50k</td>\n",
       "      <td>27.868852</td>\n",
       "    </tr>\n",
       "    <tr>\n",
       "      <th>2</th>\n",
       "      <td>Articulos de Oficina</td>\n",
       "      <td>50k a 100k</td>\n",
       "      <td>13.114754</td>\n",
       "    </tr>\n",
       "    <tr>\n",
       "      <th>3</th>\n",
       "      <td>Articulos de Oficina</td>\n",
       "      <td>100k a 200k</td>\n",
       "      <td>12.704918</td>\n",
       "    </tr>\n",
       "    <tr>\n",
       "      <th>4</th>\n",
       "      <td>Articulos de Oficina</td>\n",
       "      <td>200k a 500k</td>\n",
       "      <td>13.114754</td>\n",
       "    </tr>\n",
       "  </tbody>\n",
       "</table>\n",
       "</div>"
      ],
      "text/plain": [
       "     Categoria_Agrupada Rango_Limite_TC  Porcentaje_Clientes (%)\n",
       "0  Articulos de Oficina         0 a 25k                27.459016\n",
       "1  Articulos de Oficina       25k a 50k                27.868852\n",
       "2  Articulos de Oficina      50k a 100k                13.114754\n",
       "3  Articulos de Oficina     100k a 200k                12.704918\n",
       "4  Articulos de Oficina     200k a 500k                13.114754"
      ]
     },
     "execution_count": 94,
     "metadata": {},
     "output_type": "execute_result"
    }
   ],
   "source": [
    "preferencias_clientes_full[\"Rango_Limite_TC\"] = pd.cut(preferencias_clientes_full.Limite_TC\n",
    "                                                          ,[0,25000,50000,100000,200000,500000,10000000]\n",
    "                                                      ,labels=[\"0 a 25k\",\"25k a 50k\",\"50k a 100k\",\"100k a 200k\",\n",
    "                                                              \"200k a 500k\",\"500k en adelante\"])\n",
    "pct_preferencias_limite = create_count_percentage_by_group(preferencias_clientes_full\n",
    "                                              ,[\"Categoria_Agrupada\",\"Rango_Limite_TC\"],[\"Codigo_Cliente\"]\n",
    "                ,[\"Categoria_Agrupada\",\"Rango_Limite_TC\",\"Porcentaje_Clientes (%)\"])\n",
    "\n",
    "pct_preferencias_limite.head()"
   ]
  },
  {
   "cell_type": "code",
   "execution_count": 95,
   "metadata": {
    "slideshow": {
     "slide_type": "subslide"
    }
   },
   "outputs": [
    {
     "data": {
      "application/vnd.plotly.v1+json": {
       "config": {
        "linkText": "Export to plot.ly",
        "plotlyServerURL": "https://plot.ly",
        "showLink": false
       },
       "data": [
        {
         "name": "0 a 25k",
         "type": "bar",
         "uid": "1b24c57d-be39-4a9d-af6b-193b12f6e451",
         "x": [
          "Cine y Peliculas",
          "Comida Rapida",
          "Vida Nocturna",
          "Musica",
          "Licores",
          "Servicios Gubernamentales",
          "Servicios de Comunicacion, Internet y Telecable",
          "Tecnologia y Software",
          "Gasolineras y Vehiculos",
          "Supermercados y Alimentos",
          "Tienda De Venta Especializada",
          "Otros Servicios",
          "Servicios Educativos",
          "Ropas",
          "Servicios de Salud, Belleza y Recreacion",
          "Servicios Agropecuarios",
          "Ferreterias y Hogar",
          "Servicio Personales (Deliveries, etc.)",
          "Articulos de Oficina",
          "Hoteles Moteles Resorts",
          "Ventas y Servicios de Equipos Electricos",
          "Restaurantes",
          "Instituciones Financieras y Aseguradoras",
          "Servicios de Textiles e Imprenta",
          "Servicios de Construccion y Decoracion",
          "Servicios de Transporte y Viajes"
         ],
         "y": [
          57.05329153605015,
          42.206517471535136,
          41.63742690058479,
          40.9297052154195,
          39.92571959145776,
          36.771067658764494,
          36.30822416302766,
          36.224489795918366,
          35.62572744294317,
          34.41951566951567,
          34.29762401000417,
          33.60995850622407,
          33.31451157538114,
          31.850848869909385,
          30.90909090909091,
          30.851063829787233,
          29.21938874829667,
          28.244274809160306,
          27.459016393442624,
          26.91823899371069,
          26.894343649946638,
          26.728809885107307,
          21.69811320754717,
          21.568627450980394,
          20.512820512820515,
          16.401332839689005
         ]
        },
        {
         "name": "25k a 50k",
         "type": "bar",
         "uid": "95a1c8dc-5dce-469a-8bae-b75090f38a22",
         "x": [
          "Servicios de Textiles e Imprenta",
          "Servicios de Construccion y Decoracion",
          "Servicio Personales (Deliveries, etc.)",
          "Servicios Educativos",
          "Servicios de Comunicacion, Internet y Telecable",
          "Articulos de Oficina",
          "Servicios Gubernamentales",
          "Comida Rapida",
          "Supermercados y Alimentos",
          "Servicios Agropecuarios",
          "Gasolineras y Vehiculos",
          "Ferreterias y Hogar",
          "Tienda De Venta Especializada",
          "Tecnologia y Software",
          "Ropas",
          "Servicios de Salud, Belleza y Recreacion",
          "Ventas y Servicios de Equipos Electricos",
          "Cine y Peliculas",
          "Otros Servicios",
          "Licores",
          "Vida Nocturna",
          "Musica",
          "Instituciones Financieras y Aseguradoras",
          "Servicios de Transporte y Viajes",
          "Restaurantes",
          "Hoteles Moteles Resorts"
         ],
         "y": [
          45.09803921568628,
          35.8974358974359,
          31.297709923664122,
          28.119706380575945,
          28.02947598253275,
          27.868852459016395,
          27.790275134106246,
          27.28700431880644,
          27.172364672364672,
          27.127659574468087,
          27.11907292141086,
          27.078061125170333,
          26.552730304293455,
          26.53061224489796,
          26.07020102072701,
          26.037735849056602,
          25.6136606189968,
          25.391849529780565,
          25.103734439834025,
          24.97678737233055,
          23.976608187134502,
          23.696145124716555,
          23.156089193825043,
          21.62162162162162,
          21.526121829611967,
          19.62264150943396
         ]
        },
        {
         "name": "50k a 100k",
         "type": "bar",
         "uid": "d2791b2b-6eef-43e5-af13-792beb4e37d1",
         "x": [
          "Servicios de Transporte y Viajes",
          "Ventas y Servicios de Equipos Electricos",
          "Instituciones Financieras y Aseguradoras",
          "Servicios Agropecuarios",
          "Ropas",
          "Servicio Personales (Deliveries, etc.)",
          "Servicios de Salud, Belleza y Recreacion",
          "Hoteles Moteles Resorts",
          "Servicios de Textiles e Imprenta",
          "Ferreterias y Hogar",
          "Vida Nocturna",
          "Tienda De Venta Especializada",
          "Supermercados y Alimentos",
          "Servicios de Comunicacion, Internet y Telecable",
          "Gasolineras y Vehiculos",
          "Servicios Educativos",
          "Servicios Gubernamentales",
          "Restaurantes",
          "Tecnologia y Software",
          "Musica",
          "Otros Servicios",
          "Comida Rapida",
          "Licores",
          "Articulos de Oficina",
          "Servicios de Construccion y Decoracion",
          "Cine y Peliculas"
         ],
         "y": [
          23.62088115512773,
          22.30522945570971,
          22.29845626072041,
          21.80851063829787,
          20.72700760337465,
          20.610687022900763,
          19.90566037735849,
          19.748427672955973,
          19.607843137254903,
          19.602881058983844,
          19.53216374269006,
          19.199666527719884,
          19.014126305792974,
          18.859170305676855,
          18.835079196396944,
          18.23828345567476,
          17.96158504931649,
          17.775850856275742,
          17.346938775510203,
          17.120181405895693,
          16.044260027662517,
          15.901060070671377,
          15.506035283194057,
          13.114754098360656,
          12.820512820512821,
          10.344827586206897
         ]
        },
        {
         "name": "100k a 200k",
         "type": "bar",
         "uid": "cb106311-2e7f-4301-9f0b-97a1ffa0a4ce",
         "x": [
          "Servicios de Transporte y Viajes",
          "Instituciones Financieras y Aseguradoras",
          "Hoteles Moteles Resorts",
          "Servicios de Construccion y Decoracion",
          "Restaurantes",
          "Ferreterias y Hogar",
          "Articulos de Oficina",
          "Otros Servicios",
          "Ventas y Servicios de Equipos Electricos",
          "Servicios Agropecuarios",
          "Servicios de Salud, Belleza y Recreacion",
          "Servicios Educativos",
          "Ropas",
          "Supermercados y Alimentos",
          "Tienda De Venta Especializada",
          "Tecnologia y Software",
          "Gasolineras y Vehiculos",
          "Servicios de Comunicacion, Internet y Telecable",
          "Licores",
          "Servicios Gubernamentales",
          "Servicio Personales (Deliveries, etc.)",
          "Vida Nocturna",
          "Comida Rapida",
          "Musica",
          "Servicios de Textiles e Imprenta",
          "Cine y Peliculas"
         ],
         "y": [
          19.17808219178082,
          16.46655231560892,
          14.59119496855346,
          14.102564102564102,
          14.02557988293952,
          13.178898189604828,
          12.704918032786885,
          12.240663900414937,
          12.16648879402348,
          11.702127659574469,
          11.672384219554031,
          11.34952004517222,
          10.978023122591397,
          10.749050332383666,
          10.746144226761151,
          10.54421768707483,
          10.333485147512778,
          10.080058224163027,
          9.935004642525534,
          9.863298148468592,
          9.16030534351145,
          8.421052631578947,
          8.166470357283078,
          7.8231292517006805,
          5.882352941176471,
          4.702194357366771
         ]
        },
        {
         "name": "200k a 500k",
         "type": "bar",
         "uid": "09d4f1fa-84ea-4c35-a822-50609ba27f61",
         "x": [
          "Restaurantes",
          "Servicios de Transporte y Viajes",
          "Hoteles Moteles Resorts",
          "Instituciones Financieras y Aseguradoras",
          "Servicios de Construccion y Decoracion",
          "Articulos de Oficina",
          "Otros Servicios",
          "Ventas y Servicios de Equipos Electricos",
          "Servicios de Salud, Belleza y Recreacion",
          "Servicio Personales (Deliveries, etc.)",
          "Ferreterias y Hogar",
          "Musica",
          "Ropas",
          "Tecnologia y Software",
          "Licores",
          "Servicios Educativos",
          "Tienda De Venta Especializada",
          "Servicios Agropecuarios",
          "Servicios de Textiles e Imprenta",
          "Supermercados y Alimentos",
          "Gasolineras y Vehiculos",
          "Servicios Gubernamentales",
          "Servicios de Comunicacion, Internet y Telecable",
          "Vida Nocturna",
          "Comida Rapida",
          "Cine y Peliculas"
         ],
         "y": [
          17.23390418382831,
          16.808589411329137,
          16.22641509433962,
          15.180102915951972,
          14.102564102564102,
          13.114754098360656,
          11.479944674965422,
          11.312700106723586,
          10.214408233276158,
          9.923664122137405,
          9.597041074557135,
          9.297052154195011,
          9.280283303822518,
          8.673469387755102,
          8.635097493036211,
          8.243929983060418,
          8.1117132138391,
          7.9787234042553195,
          7.8431372549019605,
          7.7665004748338085,
          7.302262031273721,
          6.696660321854992,
          6.17721979621543,
          5.964912280701754,
          5.908912446014919,
          2.5078369905956115
         ]
        },
        {
         "name": "500k en adelante",
         "type": "bar",
         "uid": "7d6a2731-c0fb-4369-a696-5499a5f18386",
         "x": [
          "Articulos de Oficina",
          "Hoteles Moteles Resorts",
          "Restaurantes",
          "Servicios de Construccion y Decoracion",
          "Servicios de Transporte y Viajes",
          "Ventas y Servicios de Equipos Electricos",
          "Otros Servicios",
          "Ferreterias y Hogar",
          "Servicios de Salud, Belleza y Recreacion",
          "Instituciones Financieras y Aseguradoras",
          "Musica",
          "Ropas",
          "Tienda De Venta Especializada",
          "Licores",
          "Servicios Gubernamentales",
          "Supermercados y Alimentos",
          "Gasolineras y Vehiculos",
          "Servicio Personales (Deliveries, etc.)",
          "Servicios Educativos",
          "Tecnologia y Software",
          "Servicios de Comunicacion, Internet y Telecable",
          "Servicios Agropecuarios",
          "Comida Rapida",
          "Vida Nocturna",
          "Cine y Peliculas",
          "Servicios de Textiles e Imprenta"
         ],
         "y": [
          5.737704918032787,
          2.893081761006289,
          2.7097333622371558,
          2.5641025641025643,
          2.3694927804516848,
          1.7075773745997866,
          1.5214384508990317,
          1.323729803387191,
          1.260720411663808,
          1.2006861063464838,
          1.1337868480725624,
          1.0936360795750442,
          1.0921217173822426,
          1.021355617455896,
          0.917113687489185,
          0.8784425451092118,
          0.7843732604625272,
          0.7633587786259542,
          0.7340485601355167,
          0.6802721088435374,
          0.5458515283842795,
          0.5319148936170213,
          0.5300353356890459,
          0.4678362573099415,
          null,
          null
         ]
        }
       ],
       "layout": {
        "autosize": true,
        "barmode": "stack",
        "title": {
         "text": "Preferencias por Categoria por Rango de Limite"
        },
        "xaxis": {
         "title": {
          "font": {
           "color": "#14A751",
           "family": "Myriad",
           "size": 20
          },
          "text": "Categoria_Agrupada"
         }
        },
        "yaxis": {
         "title": {
          "font": {
           "color": "#14A751",
           "family": "Myriad",
           "size": 20
          },
          "text": "Porcentaje_Clientes (%)"
         }
        }
       }
      },
      "text/html": [
       "<div id=\"d142083a-f02b-44f2-abd1-e1b8447c726c\" style=\"height: 525px; width: 100%;\" class=\"plotly-graph-div\"></div><script type=\"text/javascript\">require([\"plotly\"], function(Plotly) { window.PLOTLYENV=window.PLOTLYENV || {};window.PLOTLYENV.BASE_URL=\"https://plot.ly\";Plotly.newPlot(\"d142083a-f02b-44f2-abd1-e1b8447c726c\", [{\"name\": \"0 a 25k\", \"x\": [\"Cine y Peliculas\", \"Comida Rapida\", \"Vida Nocturna\", \"Musica\", \"Licores\", \"Servicios Gubernamentales\", \"Servicios de Comunicacion, Internet y Telecable\", \"Tecnologia y Software\", \"Gasolineras y Vehiculos\", \"Supermercados y Alimentos\", \"Tienda De Venta Especializada\", \"Otros Servicios\", \"Servicios Educativos\", \"Ropas\", \"Servicios de Salud, Belleza y Recreacion\", \"Servicios Agropecuarios\", \"Ferreterias y Hogar\", \"Servicio Personales (Deliveries, etc.)\", \"Articulos de Oficina\", \"Hoteles Moteles Resorts\", \"Ventas y Servicios de Equipos Electricos\", \"Restaurantes\", \"Instituciones Financieras y Aseguradoras\", \"Servicios de Textiles e Imprenta\", \"Servicios de Construccion y Decoracion\", \"Servicios de Transporte y Viajes\"], \"y\": [57.05329153605015, 42.206517471535136, 41.63742690058479, 40.9297052154195, 39.92571959145776, 36.771067658764494, 36.30822416302766, 36.224489795918366, 35.62572744294317, 34.41951566951567, 34.29762401000417, 33.60995850622407, 33.31451157538114, 31.850848869909385, 30.90909090909091, 30.851063829787233, 29.21938874829667, 28.244274809160306, 27.459016393442624, 26.91823899371069, 26.894343649946638, 26.728809885107307, 21.69811320754717, 21.568627450980394, 20.512820512820515, 16.401332839689005], \"type\": \"bar\", \"uid\": \"1b24c57d-be39-4a9d-af6b-193b12f6e451\"}, {\"name\": \"25k a 50k\", \"x\": [\"Servicios de Textiles e Imprenta\", \"Servicios de Construccion y Decoracion\", \"Servicio Personales (Deliveries, etc.)\", \"Servicios Educativos\", \"Servicios de Comunicacion, Internet y Telecable\", \"Articulos de Oficina\", \"Servicios Gubernamentales\", \"Comida Rapida\", \"Supermercados y Alimentos\", \"Servicios Agropecuarios\", \"Gasolineras y Vehiculos\", \"Ferreterias y Hogar\", \"Tienda De Venta Especializada\", \"Tecnologia y Software\", \"Ropas\", \"Servicios de Salud, Belleza y Recreacion\", \"Ventas y Servicios de Equipos Electricos\", \"Cine y Peliculas\", \"Otros Servicios\", \"Licores\", \"Vida Nocturna\", \"Musica\", \"Instituciones Financieras y Aseguradoras\", \"Servicios de Transporte y Viajes\", \"Restaurantes\", \"Hoteles Moteles Resorts\"], \"y\": [45.09803921568628, 35.8974358974359, 31.297709923664122, 28.119706380575945, 28.02947598253275, 27.868852459016395, 27.790275134106246, 27.28700431880644, 27.172364672364672, 27.127659574468087, 27.11907292141086, 27.078061125170333, 26.552730304293455, 26.53061224489796, 26.07020102072701, 26.037735849056602, 25.6136606189968, 25.391849529780565, 25.103734439834025, 24.97678737233055, 23.976608187134502, 23.696145124716555, 23.156089193825043, 21.62162162162162, 21.526121829611967, 19.62264150943396], \"type\": \"bar\", \"uid\": \"95a1c8dc-5dce-469a-8bae-b75090f38a22\"}, {\"name\": \"50k a 100k\", \"x\": [\"Servicios de Transporte y Viajes\", \"Ventas y Servicios de Equipos Electricos\", \"Instituciones Financieras y Aseguradoras\", \"Servicios Agropecuarios\", \"Ropas\", \"Servicio Personales (Deliveries, etc.)\", \"Servicios de Salud, Belleza y Recreacion\", \"Hoteles Moteles Resorts\", \"Servicios de Textiles e Imprenta\", \"Ferreterias y Hogar\", \"Vida Nocturna\", \"Tienda De Venta Especializada\", \"Supermercados y Alimentos\", \"Servicios de Comunicacion, Internet y Telecable\", \"Gasolineras y Vehiculos\", \"Servicios Educativos\", \"Servicios Gubernamentales\", \"Restaurantes\", \"Tecnologia y Software\", \"Musica\", \"Otros Servicios\", \"Comida Rapida\", \"Licores\", \"Articulos de Oficina\", \"Servicios de Construccion y Decoracion\", \"Cine y Peliculas\"], \"y\": [23.62088115512773, 22.30522945570971, 22.29845626072041, 21.80851063829787, 20.72700760337465, 20.610687022900763, 19.90566037735849, 19.748427672955973, 19.607843137254903, 19.602881058983844, 19.53216374269006, 19.199666527719884, 19.014126305792974, 18.859170305676855, 18.835079196396944, 18.23828345567476, 17.96158504931649, 17.775850856275742, 17.346938775510203, 17.120181405895693, 16.044260027662517, 15.901060070671377, 15.506035283194057, 13.114754098360656, 12.820512820512821, 10.344827586206897], \"type\": \"bar\", \"uid\": \"d2791b2b-6eef-43e5-af13-792beb4e37d1\"}, {\"name\": \"100k a 200k\", \"x\": [\"Servicios de Transporte y Viajes\", \"Instituciones Financieras y Aseguradoras\", \"Hoteles Moteles Resorts\", \"Servicios de Construccion y Decoracion\", \"Restaurantes\", \"Ferreterias y Hogar\", \"Articulos de Oficina\", \"Otros Servicios\", \"Ventas y Servicios de Equipos Electricos\", \"Servicios Agropecuarios\", \"Servicios de Salud, Belleza y Recreacion\", \"Servicios Educativos\", \"Ropas\", \"Supermercados y Alimentos\", \"Tienda De Venta Especializada\", \"Tecnologia y Software\", \"Gasolineras y Vehiculos\", \"Servicios de Comunicacion, Internet y Telecable\", \"Licores\", \"Servicios Gubernamentales\", \"Servicio Personales (Deliveries, etc.)\", \"Vida Nocturna\", \"Comida Rapida\", \"Musica\", \"Servicios de Textiles e Imprenta\", \"Cine y Peliculas\"], \"y\": [19.17808219178082, 16.46655231560892, 14.59119496855346, 14.102564102564102, 14.02557988293952, 13.178898189604828, 12.704918032786885, 12.240663900414937, 12.16648879402348, 11.702127659574469, 11.672384219554031, 11.34952004517222, 10.978023122591397, 10.749050332383666, 10.746144226761151, 10.54421768707483, 10.333485147512778, 10.080058224163027, 9.935004642525534, 9.863298148468592, 9.16030534351145, 8.421052631578947, 8.166470357283078, 7.8231292517006805, 5.882352941176471, 4.702194357366771], \"type\": \"bar\", \"uid\": \"cb106311-2e7f-4301-9f0b-97a1ffa0a4ce\"}, {\"name\": \"200k a 500k\", \"x\": [\"Restaurantes\", \"Servicios de Transporte y Viajes\", \"Hoteles Moteles Resorts\", \"Instituciones Financieras y Aseguradoras\", \"Servicios de Construccion y Decoracion\", \"Articulos de Oficina\", \"Otros Servicios\", \"Ventas y Servicios de Equipos Electricos\", \"Servicios de Salud, Belleza y Recreacion\", \"Servicio Personales (Deliveries, etc.)\", \"Ferreterias y Hogar\", \"Musica\", \"Ropas\", \"Tecnologia y Software\", \"Licores\", \"Servicios Educativos\", \"Tienda De Venta Especializada\", \"Servicios Agropecuarios\", \"Servicios de Textiles e Imprenta\", \"Supermercados y Alimentos\", \"Gasolineras y Vehiculos\", \"Servicios Gubernamentales\", \"Servicios de Comunicacion, Internet y Telecable\", \"Vida Nocturna\", \"Comida Rapida\", \"Cine y Peliculas\"], \"y\": [17.23390418382831, 16.808589411329137, 16.22641509433962, 15.180102915951972, 14.102564102564102, 13.114754098360656, 11.479944674965422, 11.312700106723586, 10.214408233276158, 9.923664122137405, 9.597041074557135, 9.297052154195011, 9.280283303822518, 8.673469387755102, 8.635097493036211, 8.243929983060418, 8.1117132138391, 7.9787234042553195, 7.8431372549019605, 7.7665004748338085, 7.302262031273721, 6.696660321854992, 6.17721979621543, 5.964912280701754, 5.908912446014919, 2.5078369905956115], \"type\": \"bar\", \"uid\": \"09d4f1fa-84ea-4c35-a822-50609ba27f61\"}, {\"name\": \"500k en adelante\", \"x\": [\"Articulos de Oficina\", \"Hoteles Moteles Resorts\", \"Restaurantes\", \"Servicios de Construccion y Decoracion\", \"Servicios de Transporte y Viajes\", \"Ventas y Servicios de Equipos Electricos\", \"Otros Servicios\", \"Ferreterias y Hogar\", \"Servicios de Salud, Belleza y Recreacion\", \"Instituciones Financieras y Aseguradoras\", \"Musica\", \"Ropas\", \"Tienda De Venta Especializada\", \"Licores\", \"Servicios Gubernamentales\", \"Supermercados y Alimentos\", \"Gasolineras y Vehiculos\", \"Servicio Personales (Deliveries, etc.)\", \"Servicios Educativos\", \"Tecnologia y Software\", \"Servicios de Comunicacion, Internet y Telecable\", \"Servicios Agropecuarios\", \"Comida Rapida\", \"Vida Nocturna\", \"Cine y Peliculas\", \"Servicios de Textiles e Imprenta\"], \"y\": [5.737704918032787, 2.893081761006289, 2.7097333622371558, 2.5641025641025643, 2.3694927804516848, 1.7075773745997866, 1.5214384508990317, 1.323729803387191, 1.260720411663808, 1.2006861063464838, 1.1337868480725624, 1.0936360795750442, 1.0921217173822426, 1.021355617455896, 0.917113687489185, 0.8784425451092118, 0.7843732604625272, 0.7633587786259542, 0.7340485601355167, 0.6802721088435374, 0.5458515283842795, 0.5319148936170213, 0.5300353356890459, 0.4678362573099415, null, null], \"type\": \"bar\", \"uid\": \"7d6a2731-c0fb-4369-a696-5499a5f18386\"}], {\"autosize\": true, \"barmode\": \"stack\", \"title\": {\"text\": \"Preferencias por Categoria por Rango de Limite\"}, \"xaxis\": {\"title\": {\"font\": {\"color\": \"#14A751\", \"family\": \"Myriad\", \"size\": 20}, \"text\": \"Categoria_Agrupada\"}}, \"yaxis\": {\"title\": {\"font\": {\"color\": \"#14A751\", \"family\": \"Myriad\", \"size\": 20}, \"text\": \"Porcentaje_Clientes (%)\"}}}, {\"showLink\": false, \"linkText\": \"Export to plot.ly\", \"plotlyServerURL\": \"https://plot.ly\"})});</script><script type=\"text/javascript\">window.addEventListener(\"resize\", function(){window._Plotly.Plots.resize(document.getElementById(\"d142083a-f02b-44f2-abd1-e1b8447c726c\"));});</script>"
      ],
      "text/vnd.plotly.v1+html": [
       "<div id=\"d142083a-f02b-44f2-abd1-e1b8447c726c\" style=\"height: 525px; width: 100%;\" class=\"plotly-graph-div\"></div><script type=\"text/javascript\">require([\"plotly\"], function(Plotly) { window.PLOTLYENV=window.PLOTLYENV || {};window.PLOTLYENV.BASE_URL=\"https://plot.ly\";Plotly.newPlot(\"d142083a-f02b-44f2-abd1-e1b8447c726c\", [{\"name\": \"0 a 25k\", \"x\": [\"Cine y Peliculas\", \"Comida Rapida\", \"Vida Nocturna\", \"Musica\", \"Licores\", \"Servicios Gubernamentales\", \"Servicios de Comunicacion, Internet y Telecable\", \"Tecnologia y Software\", \"Gasolineras y Vehiculos\", \"Supermercados y Alimentos\", \"Tienda De Venta Especializada\", \"Otros Servicios\", \"Servicios Educativos\", \"Ropas\", \"Servicios de Salud, Belleza y Recreacion\", \"Servicios Agropecuarios\", \"Ferreterias y Hogar\", \"Servicio Personales (Deliveries, etc.)\", \"Articulos de Oficina\", \"Hoteles Moteles Resorts\", \"Ventas y Servicios de Equipos Electricos\", \"Restaurantes\", \"Instituciones Financieras y Aseguradoras\", \"Servicios de Textiles e Imprenta\", \"Servicios de Construccion y Decoracion\", \"Servicios de Transporte y Viajes\"], \"y\": [57.05329153605015, 42.206517471535136, 41.63742690058479, 40.9297052154195, 39.92571959145776, 36.771067658764494, 36.30822416302766, 36.224489795918366, 35.62572744294317, 34.41951566951567, 34.29762401000417, 33.60995850622407, 33.31451157538114, 31.850848869909385, 30.90909090909091, 30.851063829787233, 29.21938874829667, 28.244274809160306, 27.459016393442624, 26.91823899371069, 26.894343649946638, 26.728809885107307, 21.69811320754717, 21.568627450980394, 20.512820512820515, 16.401332839689005], \"type\": \"bar\", \"uid\": \"1b24c57d-be39-4a9d-af6b-193b12f6e451\"}, {\"name\": \"25k a 50k\", \"x\": [\"Servicios de Textiles e Imprenta\", \"Servicios de Construccion y Decoracion\", \"Servicio Personales (Deliveries, etc.)\", \"Servicios Educativos\", \"Servicios de Comunicacion, Internet y Telecable\", \"Articulos de Oficina\", \"Servicios Gubernamentales\", \"Comida Rapida\", \"Supermercados y Alimentos\", \"Servicios Agropecuarios\", \"Gasolineras y Vehiculos\", \"Ferreterias y Hogar\", \"Tienda De Venta Especializada\", \"Tecnologia y Software\", \"Ropas\", \"Servicios de Salud, Belleza y Recreacion\", \"Ventas y Servicios de Equipos Electricos\", \"Cine y Peliculas\", \"Otros Servicios\", \"Licores\", \"Vida Nocturna\", \"Musica\", \"Instituciones Financieras y Aseguradoras\", \"Servicios de Transporte y Viajes\", \"Restaurantes\", \"Hoteles Moteles Resorts\"], \"y\": [45.09803921568628, 35.8974358974359, 31.297709923664122, 28.119706380575945, 28.02947598253275, 27.868852459016395, 27.790275134106246, 27.28700431880644, 27.172364672364672, 27.127659574468087, 27.11907292141086, 27.078061125170333, 26.552730304293455, 26.53061224489796, 26.07020102072701, 26.037735849056602, 25.6136606189968, 25.391849529780565, 25.103734439834025, 24.97678737233055, 23.976608187134502, 23.696145124716555, 23.156089193825043, 21.62162162162162, 21.526121829611967, 19.62264150943396], \"type\": \"bar\", \"uid\": \"95a1c8dc-5dce-469a-8bae-b75090f38a22\"}, {\"name\": \"50k a 100k\", \"x\": [\"Servicios de Transporte y Viajes\", \"Ventas y Servicios de Equipos Electricos\", \"Instituciones Financieras y Aseguradoras\", \"Servicios Agropecuarios\", \"Ropas\", \"Servicio Personales (Deliveries, etc.)\", \"Servicios de Salud, Belleza y Recreacion\", \"Hoteles Moteles Resorts\", \"Servicios de Textiles e Imprenta\", \"Ferreterias y Hogar\", \"Vida Nocturna\", \"Tienda De Venta Especializada\", \"Supermercados y Alimentos\", \"Servicios de Comunicacion, Internet y Telecable\", \"Gasolineras y Vehiculos\", \"Servicios Educativos\", \"Servicios Gubernamentales\", \"Restaurantes\", \"Tecnologia y Software\", \"Musica\", \"Otros Servicios\", \"Comida Rapida\", \"Licores\", \"Articulos de Oficina\", \"Servicios de Construccion y Decoracion\", \"Cine y Peliculas\"], \"y\": [23.62088115512773, 22.30522945570971, 22.29845626072041, 21.80851063829787, 20.72700760337465, 20.610687022900763, 19.90566037735849, 19.748427672955973, 19.607843137254903, 19.602881058983844, 19.53216374269006, 19.199666527719884, 19.014126305792974, 18.859170305676855, 18.835079196396944, 18.23828345567476, 17.96158504931649, 17.775850856275742, 17.346938775510203, 17.120181405895693, 16.044260027662517, 15.901060070671377, 15.506035283194057, 13.114754098360656, 12.820512820512821, 10.344827586206897], \"type\": \"bar\", \"uid\": \"d2791b2b-6eef-43e5-af13-792beb4e37d1\"}, {\"name\": \"100k a 200k\", \"x\": [\"Servicios de Transporte y Viajes\", \"Instituciones Financieras y Aseguradoras\", \"Hoteles Moteles Resorts\", \"Servicios de Construccion y Decoracion\", \"Restaurantes\", \"Ferreterias y Hogar\", \"Articulos de Oficina\", \"Otros Servicios\", \"Ventas y Servicios de Equipos Electricos\", \"Servicios Agropecuarios\", \"Servicios de Salud, Belleza y Recreacion\", \"Servicios Educativos\", \"Ropas\", \"Supermercados y Alimentos\", \"Tienda De Venta Especializada\", \"Tecnologia y Software\", \"Gasolineras y Vehiculos\", \"Servicios de Comunicacion, Internet y Telecable\", \"Licores\", \"Servicios Gubernamentales\", \"Servicio Personales (Deliveries, etc.)\", \"Vida Nocturna\", \"Comida Rapida\", \"Musica\", \"Servicios de Textiles e Imprenta\", \"Cine y Peliculas\"], \"y\": [19.17808219178082, 16.46655231560892, 14.59119496855346, 14.102564102564102, 14.02557988293952, 13.178898189604828, 12.704918032786885, 12.240663900414937, 12.16648879402348, 11.702127659574469, 11.672384219554031, 11.34952004517222, 10.978023122591397, 10.749050332383666, 10.746144226761151, 10.54421768707483, 10.333485147512778, 10.080058224163027, 9.935004642525534, 9.863298148468592, 9.16030534351145, 8.421052631578947, 8.166470357283078, 7.8231292517006805, 5.882352941176471, 4.702194357366771], \"type\": \"bar\", \"uid\": \"cb106311-2e7f-4301-9f0b-97a1ffa0a4ce\"}, {\"name\": \"200k a 500k\", \"x\": [\"Restaurantes\", \"Servicios de Transporte y Viajes\", \"Hoteles Moteles Resorts\", \"Instituciones Financieras y Aseguradoras\", \"Servicios de Construccion y Decoracion\", \"Articulos de Oficina\", \"Otros Servicios\", \"Ventas y Servicios de Equipos Electricos\", \"Servicios de Salud, Belleza y Recreacion\", \"Servicio Personales (Deliveries, etc.)\", \"Ferreterias y Hogar\", \"Musica\", \"Ropas\", \"Tecnologia y Software\", \"Licores\", \"Servicios Educativos\", \"Tienda De Venta Especializada\", \"Servicios Agropecuarios\", \"Servicios de Textiles e Imprenta\", \"Supermercados y Alimentos\", \"Gasolineras y Vehiculos\", \"Servicios Gubernamentales\", \"Servicios de Comunicacion, Internet y Telecable\", \"Vida Nocturna\", \"Comida Rapida\", \"Cine y Peliculas\"], \"y\": [17.23390418382831, 16.808589411329137, 16.22641509433962, 15.180102915951972, 14.102564102564102, 13.114754098360656, 11.479944674965422, 11.312700106723586, 10.214408233276158, 9.923664122137405, 9.597041074557135, 9.297052154195011, 9.280283303822518, 8.673469387755102, 8.635097493036211, 8.243929983060418, 8.1117132138391, 7.9787234042553195, 7.8431372549019605, 7.7665004748338085, 7.302262031273721, 6.696660321854992, 6.17721979621543, 5.964912280701754, 5.908912446014919, 2.5078369905956115], \"type\": \"bar\", \"uid\": \"09d4f1fa-84ea-4c35-a822-50609ba27f61\"}, {\"name\": \"500k en adelante\", \"x\": [\"Articulos de Oficina\", \"Hoteles Moteles Resorts\", \"Restaurantes\", \"Servicios de Construccion y Decoracion\", \"Servicios de Transporte y Viajes\", \"Ventas y Servicios de Equipos Electricos\", \"Otros Servicios\", \"Ferreterias y Hogar\", \"Servicios de Salud, Belleza y Recreacion\", \"Instituciones Financieras y Aseguradoras\", \"Musica\", \"Ropas\", \"Tienda De Venta Especializada\", \"Licores\", \"Servicios Gubernamentales\", \"Supermercados y Alimentos\", \"Gasolineras y Vehiculos\", \"Servicio Personales (Deliveries, etc.)\", \"Servicios Educativos\", \"Tecnologia y Software\", \"Servicios de Comunicacion, Internet y Telecable\", \"Servicios Agropecuarios\", \"Comida Rapida\", \"Vida Nocturna\", \"Cine y Peliculas\", \"Servicios de Textiles e Imprenta\"], \"y\": [5.737704918032787, 2.893081761006289, 2.7097333622371558, 2.5641025641025643, 2.3694927804516848, 1.7075773745997866, 1.5214384508990317, 1.323729803387191, 1.260720411663808, 1.2006861063464838, 1.1337868480725624, 1.0936360795750442, 1.0921217173822426, 1.021355617455896, 0.917113687489185, 0.8784425451092118, 0.7843732604625272, 0.7633587786259542, 0.7340485601355167, 0.6802721088435374, 0.5458515283842795, 0.5319148936170213, 0.5300353356890459, 0.4678362573099415, null, null], \"type\": \"bar\", \"uid\": \"7d6a2731-c0fb-4369-a696-5499a5f18386\"}], {\"autosize\": true, \"barmode\": \"stack\", \"title\": {\"text\": \"Preferencias por Categoria por Rango de Limite\"}, \"xaxis\": {\"title\": {\"font\": {\"color\": \"#14A751\", \"family\": \"Myriad\", \"size\": 20}, \"text\": \"Categoria_Agrupada\"}}, \"yaxis\": {\"title\": {\"font\": {\"color\": \"#14A751\", \"family\": \"Myriad\", \"size\": 20}, \"text\": \"Porcentaje_Clientes (%)\"}}}, {\"showLink\": false, \"linkText\": \"Export to plot.ly\", \"plotlyServerURL\": \"https://plot.ly\"})});</script><script type=\"text/javascript\">window.addEventListener(\"resize\", function(){window._Plotly.Plots.resize(document.getElementById(\"d142083a-f02b-44f2-abd1-e1b8447c726c\"));});</script>"
      ]
     },
     "metadata": {},
     "output_type": "display_data"
    }
   ],
   "source": [
    "stacked_bar_plotly(pct_preferencias_limite,\"Categoria_Agrupada\",\"Rango_Limite_TC\"\n",
    "                   ,\"Porcentaje_Clientes (%)\",\"Preferencias por Categoria por Rango de Limite\")"
   ]
  },
  {
   "cell_type": "markdown",
   "metadata": {
    "slideshow": {
     "slide_type": "subslide"
    }
   },
   "source": [
    "Con el limite de TC, se ven preferencias similares a las encontradas en los segmentos. Esto tiene sentido, ya que el poder adquisitivo economico está relacionado al limite otorgado en las tarjetas."
   ]
  },
  {
   "cell_type": "markdown",
   "metadata": {
    "slideshow": {
     "slide_type": "subslide"
    }
   },
   "source": [
    "#### Sexo"
   ]
  },
  {
   "cell_type": "code",
   "execution_count": 96,
   "metadata": {
    "slideshow": {
     "slide_type": "skip"
    }
   },
   "outputs": [
    {
     "data": {
      "text/html": [
       "<div>\n",
       "<style scoped>\n",
       "    .dataframe tbody tr th:only-of-type {\n",
       "        vertical-align: middle;\n",
       "    }\n",
       "\n",
       "    .dataframe tbody tr th {\n",
       "        vertical-align: top;\n",
       "    }\n",
       "\n",
       "    .dataframe thead th {\n",
       "        text-align: right;\n",
       "    }\n",
       "</style>\n",
       "<table border=\"1\" class=\"dataframe\">\n",
       "  <thead>\n",
       "    <tr style=\"text-align: right;\">\n",
       "      <th></th>\n",
       "      <th>Categoria_Agrupada</th>\n",
       "      <th>Sexo</th>\n",
       "      <th>Porcentaje_Clientes (%)</th>\n",
       "    </tr>\n",
       "  </thead>\n",
       "  <tbody>\n",
       "    <tr>\n",
       "      <th>0</th>\n",
       "      <td>Articulos de Oficina</td>\n",
       "      <td>F</td>\n",
       "      <td>41.393443</td>\n",
       "    </tr>\n",
       "    <tr>\n",
       "      <th>1</th>\n",
       "      <td>Articulos de Oficina</td>\n",
       "      <td>M</td>\n",
       "      <td>58.606557</td>\n",
       "    </tr>\n",
       "    <tr>\n",
       "      <th>2</th>\n",
       "      <td>Cine y Peliculas</td>\n",
       "      <td>F</td>\n",
       "      <td>35.423197</td>\n",
       "    </tr>\n",
       "    <tr>\n",
       "      <th>3</th>\n",
       "      <td>Cine y Peliculas</td>\n",
       "      <td>M</td>\n",
       "      <td>64.576803</td>\n",
       "    </tr>\n",
       "    <tr>\n",
       "      <th>4</th>\n",
       "      <td>Comida Rapida</td>\n",
       "      <td>F</td>\n",
       "      <td>40.380840</td>\n",
       "    </tr>\n",
       "  </tbody>\n",
       "</table>\n",
       "</div>"
      ],
      "text/plain": [
       "     Categoria_Agrupada Sexo  Porcentaje_Clientes (%)\n",
       "0  Articulos de Oficina    F                41.393443\n",
       "1  Articulos de Oficina    M                58.606557\n",
       "2      Cine y Peliculas    F                35.423197\n",
       "3      Cine y Peliculas    M                64.576803\n",
       "4         Comida Rapida    F                40.380840"
      ]
     },
     "execution_count": 96,
     "metadata": {},
     "output_type": "execute_result"
    }
   ],
   "source": [
    "pct_preferencias_sexo = create_count_percentage_by_group(preferencias_clientes_full\n",
    "                                              ,[\"Categoria_Agrupada\",\"Sexo\"],[\"Codigo_Cliente\"]\n",
    "                ,[\"Categoria_Agrupada\",\"Sexo\",\"Porcentaje_Clientes (%)\"])\n",
    "\n",
    "pct_preferencias_sexo.head()"
   ]
  },
  {
   "cell_type": "code",
   "execution_count": 97,
   "metadata": {
    "slideshow": {
     "slide_type": "subslide"
    }
   },
   "outputs": [
    {
     "data": {
      "application/vnd.plotly.v1+json": {
       "config": {
        "linkText": "Export to plot.ly",
        "plotlyServerURL": "https://plot.ly",
        "showLink": false
       },
       "data": [
        {
         "name": "F",
         "type": "bar",
         "uid": "70c47e20-6b42-44ce-94d0-ce03bf45ef21",
         "x": [
          "Ropas",
          "Servicios de Salud, Belleza y Recreacion",
          "Servicios Educativos",
          "Supermercados y Alimentos",
          "Servicios de Comunicacion, Internet y Telecable",
          "Articulos de Oficina",
          "Comida Rapida",
          "Servicio Personales (Deliveries, etc.)",
          "Servicios de Transporte y Viajes",
          "Instituciones Financieras y Aseguradoras",
          "Musica",
          "Servicios Gubernamentales",
          "Ventas y Servicios de Equipos Electricos",
          "Otros Servicios",
          "Tienda De Venta Especializada",
          "Servicios de Construccion y Decoracion",
          "Cine y Peliculas",
          "Servicios de Textiles e Imprenta",
          "Servicios Agropecuarios",
          "Ferreterias y Hogar",
          "Restaurantes",
          "Tecnologia y Software",
          "Hoteles Moteles Resorts",
          "Gasolineras y Vehiculos",
          "Vida Nocturna",
          "Licores"
         ],
         "y": [
          65.29528174148527,
          56.20068610634648,
          50.423489553924334,
          44.71153846153846,
          42.885735080058225,
          41.39344262295082,
          40.38084020416176,
          39.69465648854962,
          39.54091077378749,
          39.36535162950257,
          38.888888888888886,
          37.4286208686624,
          37.246531483457844,
          36.65283540802213,
          36.44018340975406,
          35.8974358974359,
          35.42319749216301,
          35.294117647058826,
          34.57446808510638,
          32.99591201090131,
          32.039887275092134,
          30.612244897959183,
          29.81132075471698,
          26.005768938818886,
          20.584795321637426,
          17.734447539461467
         ]
        },
        {
         "name": "M",
         "type": "bar",
         "uid": "1374a377-3adb-41d3-812a-a027b46543c7",
         "x": [
          "Licores",
          "Vida Nocturna",
          "Gasolineras y Vehiculos",
          "Hoteles Moteles Resorts",
          "Tecnologia y Software",
          "Restaurantes",
          "Ferreterias y Hogar",
          "Servicios Agropecuarios",
          "Servicios de Textiles e Imprenta",
          "Cine y Peliculas",
          "Servicios de Construccion y Decoracion",
          "Tienda De Venta Especializada",
          "Otros Servicios",
          "Ventas y Servicios de Equipos Electricos",
          "Servicios Gubernamentales",
          "Musica",
          "Instituciones Financieras y Aseguradoras",
          "Servicios de Transporte y Viajes",
          "Servicio Personales (Deliveries, etc.)",
          "Comida Rapida",
          "Articulos de Oficina",
          "Servicios de Comunicacion, Internet y Telecable",
          "Supermercados y Alimentos",
          "Servicios Educativos",
          "Servicios de Salud, Belleza y Recreacion",
          "Ropas"
         ],
         "y": [
          82.26555246053853,
          79.41520467836257,
          73.99423106118111,
          70.18867924528301,
          69.38775510204081,
          67.96011272490787,
          67.0040879890987,
          65.42553191489361,
          64.70588235294117,
          64.57680250783699,
          64.1025641025641,
          63.55981659024594,
          63.34716459197787,
          62.753468516542156,
          62.5713791313376,
          61.111111111111114,
          60.63464837049743,
          60.45908922621251,
          60.30534351145038,
          59.61915979583824,
          58.60655737704918,
          57.114264919941775,
          55.28846153846154,
          49.576510446075666,
          43.79931389365352,
          34.70471825851474
         ]
        }
       ],
       "layout": {
        "autosize": true,
        "barmode": "stack",
        "title": {
         "text": "Preferencias por Categoria por Sexo"
        },
        "xaxis": {
         "title": {
          "font": {
           "color": "#14A751",
           "family": "Myriad",
           "size": 20
          },
          "text": "Categoria_Agrupada"
         }
        },
        "yaxis": {
         "title": {
          "font": {
           "color": "#14A751",
           "family": "Myriad",
           "size": 20
          },
          "text": "Porcentaje_Clientes (%)"
         }
        }
       }
      },
      "text/html": [
       "<div id=\"2d7360bc-0390-4029-821d-c6df64099be1\" style=\"height: 525px; width: 100%;\" class=\"plotly-graph-div\"></div><script type=\"text/javascript\">require([\"plotly\"], function(Plotly) { window.PLOTLYENV=window.PLOTLYENV || {};window.PLOTLYENV.BASE_URL=\"https://plot.ly\";Plotly.newPlot(\"2d7360bc-0390-4029-821d-c6df64099be1\", [{\"name\": \"F\", \"x\": [\"Ropas\", \"Servicios de Salud, Belleza y Recreacion\", \"Servicios Educativos\", \"Supermercados y Alimentos\", \"Servicios de Comunicacion, Internet y Telecable\", \"Articulos de Oficina\", \"Comida Rapida\", \"Servicio Personales (Deliveries, etc.)\", \"Servicios de Transporte y Viajes\", \"Instituciones Financieras y Aseguradoras\", \"Musica\", \"Servicios Gubernamentales\", \"Ventas y Servicios de Equipos Electricos\", \"Otros Servicios\", \"Tienda De Venta Especializada\", \"Servicios de Construccion y Decoracion\", \"Cine y Peliculas\", \"Servicios de Textiles e Imprenta\", \"Servicios Agropecuarios\", \"Ferreterias y Hogar\", \"Restaurantes\", \"Tecnologia y Software\", \"Hoteles Moteles Resorts\", \"Gasolineras y Vehiculos\", \"Vida Nocturna\", \"Licores\"], \"y\": [65.29528174148527, 56.20068610634648, 50.423489553924334, 44.71153846153846, 42.885735080058225, 41.39344262295082, 40.38084020416176, 39.69465648854962, 39.54091077378749, 39.36535162950257, 38.888888888888886, 37.4286208686624, 37.246531483457844, 36.65283540802213, 36.44018340975406, 35.8974358974359, 35.42319749216301, 35.294117647058826, 34.57446808510638, 32.99591201090131, 32.039887275092134, 30.612244897959183, 29.81132075471698, 26.005768938818886, 20.584795321637426, 17.734447539461467], \"type\": \"bar\", \"uid\": \"70c47e20-6b42-44ce-94d0-ce03bf45ef21\"}, {\"name\": \"M\", \"x\": [\"Licores\", \"Vida Nocturna\", \"Gasolineras y Vehiculos\", \"Hoteles Moteles Resorts\", \"Tecnologia y Software\", \"Restaurantes\", \"Ferreterias y Hogar\", \"Servicios Agropecuarios\", \"Servicios de Textiles e Imprenta\", \"Cine y Peliculas\", \"Servicios de Construccion y Decoracion\", \"Tienda De Venta Especializada\", \"Otros Servicios\", \"Ventas y Servicios de Equipos Electricos\", \"Servicios Gubernamentales\", \"Musica\", \"Instituciones Financieras y Aseguradoras\", \"Servicios de Transporte y Viajes\", \"Servicio Personales (Deliveries, etc.)\", \"Comida Rapida\", \"Articulos de Oficina\", \"Servicios de Comunicacion, Internet y Telecable\", \"Supermercados y Alimentos\", \"Servicios Educativos\", \"Servicios de Salud, Belleza y Recreacion\", \"Ropas\"], \"y\": [82.26555246053853, 79.41520467836257, 73.99423106118111, 70.18867924528301, 69.38775510204081, 67.96011272490787, 67.0040879890987, 65.42553191489361, 64.70588235294117, 64.57680250783699, 64.1025641025641, 63.55981659024594, 63.34716459197787, 62.753468516542156, 62.5713791313376, 61.111111111111114, 60.63464837049743, 60.45908922621251, 60.30534351145038, 59.61915979583824, 58.60655737704918, 57.114264919941775, 55.28846153846154, 49.576510446075666, 43.79931389365352, 34.70471825851474], \"type\": \"bar\", \"uid\": \"1374a377-3adb-41d3-812a-a027b46543c7\"}], {\"autosize\": true, \"barmode\": \"stack\", \"title\": {\"text\": \"Preferencias por Categoria por Sexo\"}, \"xaxis\": {\"title\": {\"font\": {\"color\": \"#14A751\", \"family\": \"Myriad\", \"size\": 20}, \"text\": \"Categoria_Agrupada\"}}, \"yaxis\": {\"title\": {\"font\": {\"color\": \"#14A751\", \"family\": \"Myriad\", \"size\": 20}, \"text\": \"Porcentaje_Clientes (%)\"}}}, {\"showLink\": false, \"linkText\": \"Export to plot.ly\", \"plotlyServerURL\": \"https://plot.ly\"})});</script><script type=\"text/javascript\">window.addEventListener(\"resize\", function(){window._Plotly.Plots.resize(document.getElementById(\"2d7360bc-0390-4029-821d-c6df64099be1\"));});</script>"
      ],
      "text/vnd.plotly.v1+html": [
       "<div id=\"2d7360bc-0390-4029-821d-c6df64099be1\" style=\"height: 525px; width: 100%;\" class=\"plotly-graph-div\"></div><script type=\"text/javascript\">require([\"plotly\"], function(Plotly) { window.PLOTLYENV=window.PLOTLYENV || {};window.PLOTLYENV.BASE_URL=\"https://plot.ly\";Plotly.newPlot(\"2d7360bc-0390-4029-821d-c6df64099be1\", [{\"name\": \"F\", \"x\": [\"Ropas\", \"Servicios de Salud, Belleza y Recreacion\", \"Servicios Educativos\", \"Supermercados y Alimentos\", \"Servicios de Comunicacion, Internet y Telecable\", \"Articulos de Oficina\", \"Comida Rapida\", \"Servicio Personales (Deliveries, etc.)\", \"Servicios de Transporte y Viajes\", \"Instituciones Financieras y Aseguradoras\", \"Musica\", \"Servicios Gubernamentales\", \"Ventas y Servicios de Equipos Electricos\", \"Otros Servicios\", \"Tienda De Venta Especializada\", \"Servicios de Construccion y Decoracion\", \"Cine y Peliculas\", \"Servicios de Textiles e Imprenta\", \"Servicios Agropecuarios\", \"Ferreterias y Hogar\", \"Restaurantes\", \"Tecnologia y Software\", \"Hoteles Moteles Resorts\", \"Gasolineras y Vehiculos\", \"Vida Nocturna\", \"Licores\"], \"y\": [65.29528174148527, 56.20068610634648, 50.423489553924334, 44.71153846153846, 42.885735080058225, 41.39344262295082, 40.38084020416176, 39.69465648854962, 39.54091077378749, 39.36535162950257, 38.888888888888886, 37.4286208686624, 37.246531483457844, 36.65283540802213, 36.44018340975406, 35.8974358974359, 35.42319749216301, 35.294117647058826, 34.57446808510638, 32.99591201090131, 32.039887275092134, 30.612244897959183, 29.81132075471698, 26.005768938818886, 20.584795321637426, 17.734447539461467], \"type\": \"bar\", \"uid\": \"70c47e20-6b42-44ce-94d0-ce03bf45ef21\"}, {\"name\": \"M\", \"x\": [\"Licores\", \"Vida Nocturna\", \"Gasolineras y Vehiculos\", \"Hoteles Moteles Resorts\", \"Tecnologia y Software\", \"Restaurantes\", \"Ferreterias y Hogar\", \"Servicios Agropecuarios\", \"Servicios de Textiles e Imprenta\", \"Cine y Peliculas\", \"Servicios de Construccion y Decoracion\", \"Tienda De Venta Especializada\", \"Otros Servicios\", \"Ventas y Servicios de Equipos Electricos\", \"Servicios Gubernamentales\", \"Musica\", \"Instituciones Financieras y Aseguradoras\", \"Servicios de Transporte y Viajes\", \"Servicio Personales (Deliveries, etc.)\", \"Comida Rapida\", \"Articulos de Oficina\", \"Servicios de Comunicacion, Internet y Telecable\", \"Supermercados y Alimentos\", \"Servicios Educativos\", \"Servicios de Salud, Belleza y Recreacion\", \"Ropas\"], \"y\": [82.26555246053853, 79.41520467836257, 73.99423106118111, 70.18867924528301, 69.38775510204081, 67.96011272490787, 67.0040879890987, 65.42553191489361, 64.70588235294117, 64.57680250783699, 64.1025641025641, 63.55981659024594, 63.34716459197787, 62.753468516542156, 62.5713791313376, 61.111111111111114, 60.63464837049743, 60.45908922621251, 60.30534351145038, 59.61915979583824, 58.60655737704918, 57.114264919941775, 55.28846153846154, 49.576510446075666, 43.79931389365352, 34.70471825851474], \"type\": \"bar\", \"uid\": \"1374a377-3adb-41d3-812a-a027b46543c7\"}], {\"autosize\": true, \"barmode\": \"stack\", \"title\": {\"text\": \"Preferencias por Categoria por Sexo\"}, \"xaxis\": {\"title\": {\"font\": {\"color\": \"#14A751\", \"family\": \"Myriad\", \"size\": 20}, \"text\": \"Categoria_Agrupada\"}}, \"yaxis\": {\"title\": {\"font\": {\"color\": \"#14A751\", \"family\": \"Myriad\", \"size\": 20}, \"text\": \"Porcentaje_Clientes (%)\"}}}, {\"showLink\": false, \"linkText\": \"Export to plot.ly\", \"plotlyServerURL\": \"https://plot.ly\"})});</script><script type=\"text/javascript\">window.addEventListener(\"resize\", function(){window._Plotly.Plots.resize(document.getElementById(\"2d7360bc-0390-4029-821d-c6df64099be1\"));});</script>"
      ]
     },
     "metadata": {},
     "output_type": "display_data"
    }
   ],
   "source": [
    "stacked_bar_plotly(pct_preferencias_sexo,\"Categoria_Agrupada\",\"Sexo\"\n",
    "                   ,\"Porcentaje_Clientes (%)\",\"Preferencias por Categoria por Sexo\")"
   ]
  },
  {
   "cell_type": "markdown",
   "metadata": {
    "slideshow": {
     "slide_type": "subslide"
    }
   },
   "source": [
    "Al analizar por Sexo, se notan las siguientes observaciones: \n",
    "\n",
    "- Las categorias de Ropas y Salud,Belleza y Recreación son preferidas por las mujeres.\n",
    "- La Vida Nocturna, Licores y Vehiculos son preferidas por los hombres.\n",
    "- Existe parecido en ambos sexos para las categorias de Educación, Supermercados, Comida Rapida, Finanzas entre otros."
   ]
  },
  {
   "cell_type": "markdown",
   "metadata": {
    "slideshow": {
     "slide_type": "subslide"
    }
   },
   "source": [
    "Cabe destacar que algunas categorias como Restaurantes, Hoteles, y Viajes, aunque sean dominadas por hombres, la naturaleza del hombre invitar a las mujeres en actividades como esa, sesga los resultados hacia el sexo masculino."
   ]
  },
  {
   "cell_type": "markdown",
   "metadata": {
    "slideshow": {
     "slide_type": "subslide"
    }
   },
   "source": [
    "#### Zona"
   ]
  },
  {
   "cell_type": "code",
   "execution_count": 98,
   "metadata": {
    "slideshow": {
     "slide_type": "skip"
    }
   },
   "outputs": [
    {
     "data": {
      "text/html": [
       "<div>\n",
       "<style scoped>\n",
       "    .dataframe tbody tr th:only-of-type {\n",
       "        vertical-align: middle;\n",
       "    }\n",
       "\n",
       "    .dataframe tbody tr th {\n",
       "        vertical-align: top;\n",
       "    }\n",
       "\n",
       "    .dataframe thead th {\n",
       "        text-align: right;\n",
       "    }\n",
       "</style>\n",
       "<table border=\"1\" class=\"dataframe\">\n",
       "  <thead>\n",
       "    <tr style=\"text-align: right;\">\n",
       "      <th></th>\n",
       "      <th>Categoria_Agrupada</th>\n",
       "      <th>Zona</th>\n",
       "      <th>Porcentaje_Clientes (%)</th>\n",
       "    </tr>\n",
       "  </thead>\n",
       "  <tbody>\n",
       "    <tr>\n",
       "      <th>0</th>\n",
       "      <td>Articulos de Oficina</td>\n",
       "      <td>Metropolitana</td>\n",
       "      <td>70.081967</td>\n",
       "    </tr>\n",
       "    <tr>\n",
       "      <th>1</th>\n",
       "      <td>Articulos de Oficina</td>\n",
       "      <td>Norte</td>\n",
       "      <td>29.918033</td>\n",
       "    </tr>\n",
       "    <tr>\n",
       "      <th>2</th>\n",
       "      <td>Cine y Peliculas</td>\n",
       "      <td>Metropolitana</td>\n",
       "      <td>76.489028</td>\n",
       "    </tr>\n",
       "    <tr>\n",
       "      <th>3</th>\n",
       "      <td>Cine y Peliculas</td>\n",
       "      <td>Norte</td>\n",
       "      <td>23.510972</td>\n",
       "    </tr>\n",
       "    <tr>\n",
       "      <th>4</th>\n",
       "      <td>Comida Rapida</td>\n",
       "      <td>Metropolitana</td>\n",
       "      <td>72.182960</td>\n",
       "    </tr>\n",
       "  </tbody>\n",
       "</table>\n",
       "</div>"
      ],
      "text/plain": [
       "     Categoria_Agrupada           Zona  Porcentaje_Clientes (%)\n",
       "0  Articulos de Oficina  Metropolitana                70.081967\n",
       "1  Articulos de Oficina          Norte                29.918033\n",
       "2      Cine y Peliculas  Metropolitana                76.489028\n",
       "3      Cine y Peliculas          Norte                23.510972\n",
       "4         Comida Rapida  Metropolitana                72.182960"
      ]
     },
     "execution_count": 98,
     "metadata": {},
     "output_type": "execute_result"
    }
   ],
   "source": [
    "pct_preferencias_zona = create_count_percentage_by_group(preferencias_clientes_full\n",
    "                                              ,[\"Categoria_Agrupada\",\"Zona\"],[\"Codigo_Cliente\"]\n",
    "                ,[\"Categoria_Agrupada\",\"Zona\",\"Porcentaje_Clientes (%)\"])\n",
    "\n",
    "pct_preferencias_zona.head()"
   ]
  },
  {
   "cell_type": "code",
   "execution_count": 99,
   "metadata": {
    "slideshow": {
     "slide_type": "subslide"
    }
   },
   "outputs": [
    {
     "data": {
      "application/vnd.plotly.v1+json": {
       "config": {
        "linkText": "Export to plot.ly",
        "plotlyServerURL": "https://plot.ly",
        "showLink": false
       },
       "data": [
        {
         "name": "Metropolitana",
         "type": "bar",
         "uid": "fbcbf066-6fbe-4426-a046-b73498eaba03",
         "x": [
          "Servicios de Construccion y Decoracion",
          "Cine y Peliculas",
          "Comida Rapida",
          "Licores",
          "Servicios de Textiles e Imprenta",
          "Articulos de Oficina",
          "Servicio Personales (Deliveries, etc.)",
          "Vida Nocturna",
          "Restaurantes",
          "Servicios de Salud, Belleza y Recreacion",
          "Ropas",
          "Supermercados y Alimentos",
          "Tienda De Venta Especializada",
          "Otros Servicios",
          "Servicios Educativos",
          "Servicios de Comunicacion, Internet y Telecable",
          "Hoteles Moteles Resorts",
          "Gasolineras y Vehiculos",
          "Ferreterias y Hogar",
          "Musica",
          "Servicios de Transporte y Viajes",
          "Instituciones Financieras y Aseguradoras",
          "Tecnologia y Software",
          "Servicios Gubernamentales",
          "Servicios Agropecuarios",
          "Ventas y Servicios de Equipos Electricos"
         ],
         "y": [
          85.8974358974359,
          76.48902821316615,
          72.18296034550451,
          70.84493964716806,
          70.58823529411765,
          70.08196721311475,
          69.46564885496183,
          65.57377049180327,
          64.12925612665366,
          64.07617086978898,
          60.99593707677883,
          60.834075393291776,
          60.76878178937714,
          60.16597510373444,
          59.966120835686056,
          59.72879504914452,
          59.119496855345915,
          57.98876461359381,
          57.71851275063266,
          57.142857142857146,
          56.53461680858941,
          56.260720411663804,
          54.93197278911565,
          54.578500952051236,
          47.340425531914896,
          32.657417289220916
         ]
        },
        {
         "name": "Norte",
         "type": "bar",
         "uid": "952a6e18-0e84-4b4c-be0d-3c63b9480519",
         "x": [
          "Ventas y Servicios de Equipos Electricos",
          "Servicios Agropecuarios",
          "Servicios Gubernamentales",
          "Tecnologia y Software",
          "Instituciones Financieras y Aseguradoras",
          "Servicios de Transporte y Viajes",
          "Musica",
          "Ferreterias y Hogar",
          "Gasolineras y Vehiculos",
          "Hoteles Moteles Resorts",
          "Servicios de Comunicacion, Internet y Telecable",
          "Servicios Educativos",
          "Otros Servicios",
          "Tienda De Venta Especializada",
          "Supermercados y Alimentos",
          "Ropas",
          "Servicios de Salud, Belleza y Recreacion",
          "Restaurantes",
          "Vida Nocturna",
          "Servicio Personales (Deliveries, etc.)",
          "Articulos de Oficina",
          "Servicios de Textiles e Imprenta",
          "Licores",
          "Comida Rapida",
          "Cine y Peliculas",
          "Servicios de Construccion y Decoracion"
         ],
         "y": [
          67.34258271077908,
          52.659574468085104,
          45.421499047948764,
          45.06802721088435,
          43.739279588336196,
          43.46538319141059,
          42.857142857142854,
          42.28148724936734,
          42.01123538640619,
          40.880503144654085,
          40.27120495085548,
          40.033879164313944,
          39.83402489626556,
          39.23121821062286,
          39.165924606708224,
          39.00406292322117,
          35.92382913021101,
          35.87074387334635,
          34.42622950819672,
          30.53435114503817,
          29.918032786885245,
          29.41176470588235,
          29.155060352831942,
          27.817039654495485,
          23.510971786833856,
          14.102564102564102
         ]
        }
       ],
       "layout": {
        "autosize": true,
        "barmode": "stack",
        "title": {
         "text": "Preferencias por Categoria por Zona"
        },
        "xaxis": {
         "title": {
          "font": {
           "color": "#14A751",
           "family": "Myriad",
           "size": 20
          },
          "text": "Categoria_Agrupada"
         }
        },
        "yaxis": {
         "title": {
          "font": {
           "color": "#14A751",
           "family": "Myriad",
           "size": 20
          },
          "text": "Porcentaje_Clientes (%)"
         }
        }
       }
      },
      "text/html": [
       "<div id=\"cf0490ee-96af-4d39-ad8d-7435c63e77db\" style=\"height: 525px; width: 100%;\" class=\"plotly-graph-div\"></div><script type=\"text/javascript\">require([\"plotly\"], function(Plotly) { window.PLOTLYENV=window.PLOTLYENV || {};window.PLOTLYENV.BASE_URL=\"https://plot.ly\";Plotly.newPlot(\"cf0490ee-96af-4d39-ad8d-7435c63e77db\", [{\"name\": \"Metropolitana\", \"x\": [\"Servicios de Construccion y Decoracion\", \"Cine y Peliculas\", \"Comida Rapida\", \"Licores\", \"Servicios de Textiles e Imprenta\", \"Articulos de Oficina\", \"Servicio Personales (Deliveries, etc.)\", \"Vida Nocturna\", \"Restaurantes\", \"Servicios de Salud, Belleza y Recreacion\", \"Ropas\", \"Supermercados y Alimentos\", \"Tienda De Venta Especializada\", \"Otros Servicios\", \"Servicios Educativos\", \"Servicios de Comunicacion, Internet y Telecable\", \"Hoteles Moteles Resorts\", \"Gasolineras y Vehiculos\", \"Ferreterias y Hogar\", \"Musica\", \"Servicios de Transporte y Viajes\", \"Instituciones Financieras y Aseguradoras\", \"Tecnologia y Software\", \"Servicios Gubernamentales\", \"Servicios Agropecuarios\", \"Ventas y Servicios de Equipos Electricos\"], \"y\": [85.8974358974359, 76.48902821316615, 72.18296034550451, 70.84493964716806, 70.58823529411765, 70.08196721311475, 69.46564885496183, 65.57377049180327, 64.12925612665366, 64.07617086978898, 60.99593707677883, 60.834075393291776, 60.76878178937714, 60.16597510373444, 59.966120835686056, 59.72879504914452, 59.119496855345915, 57.98876461359381, 57.71851275063266, 57.142857142857146, 56.53461680858941, 56.260720411663804, 54.93197278911565, 54.578500952051236, 47.340425531914896, 32.657417289220916], \"type\": \"bar\", \"uid\": \"fbcbf066-6fbe-4426-a046-b73498eaba03\"}, {\"name\": \"Norte\", \"x\": [\"Ventas y Servicios de Equipos Electricos\", \"Servicios Agropecuarios\", \"Servicios Gubernamentales\", \"Tecnologia y Software\", \"Instituciones Financieras y Aseguradoras\", \"Servicios de Transporte y Viajes\", \"Musica\", \"Ferreterias y Hogar\", \"Gasolineras y Vehiculos\", \"Hoteles Moteles Resorts\", \"Servicios de Comunicacion, Internet y Telecable\", \"Servicios Educativos\", \"Otros Servicios\", \"Tienda De Venta Especializada\", \"Supermercados y Alimentos\", \"Ropas\", \"Servicios de Salud, Belleza y Recreacion\", \"Restaurantes\", \"Vida Nocturna\", \"Servicio Personales (Deliveries, etc.)\", \"Articulos de Oficina\", \"Servicios de Textiles e Imprenta\", \"Licores\", \"Comida Rapida\", \"Cine y Peliculas\", \"Servicios de Construccion y Decoracion\"], \"y\": [67.34258271077908, 52.659574468085104, 45.421499047948764, 45.06802721088435, 43.739279588336196, 43.46538319141059, 42.857142857142854, 42.28148724936734, 42.01123538640619, 40.880503144654085, 40.27120495085548, 40.033879164313944, 39.83402489626556, 39.23121821062286, 39.165924606708224, 39.00406292322117, 35.92382913021101, 35.87074387334635, 34.42622950819672, 30.53435114503817, 29.918032786885245, 29.41176470588235, 29.155060352831942, 27.817039654495485, 23.510971786833856, 14.102564102564102], \"type\": \"bar\", \"uid\": \"952a6e18-0e84-4b4c-be0d-3c63b9480519\"}], {\"autosize\": true, \"barmode\": \"stack\", \"title\": {\"text\": \"Preferencias por Categoria por Zona\"}, \"xaxis\": {\"title\": {\"font\": {\"color\": \"#14A751\", \"family\": \"Myriad\", \"size\": 20}, \"text\": \"Categoria_Agrupada\"}}, \"yaxis\": {\"title\": {\"font\": {\"color\": \"#14A751\", \"family\": \"Myriad\", \"size\": 20}, \"text\": \"Porcentaje_Clientes (%)\"}}}, {\"showLink\": false, \"linkText\": \"Export to plot.ly\", \"plotlyServerURL\": \"https://plot.ly\"})});</script><script type=\"text/javascript\">window.addEventListener(\"resize\", function(){window._Plotly.Plots.resize(document.getElementById(\"cf0490ee-96af-4d39-ad8d-7435c63e77db\"));});</script>"
      ],
      "text/vnd.plotly.v1+html": [
       "<div id=\"cf0490ee-96af-4d39-ad8d-7435c63e77db\" style=\"height: 525px; width: 100%;\" class=\"plotly-graph-div\"></div><script type=\"text/javascript\">require([\"plotly\"], function(Plotly) { window.PLOTLYENV=window.PLOTLYENV || {};window.PLOTLYENV.BASE_URL=\"https://plot.ly\";Plotly.newPlot(\"cf0490ee-96af-4d39-ad8d-7435c63e77db\", [{\"name\": \"Metropolitana\", \"x\": [\"Servicios de Construccion y Decoracion\", \"Cine y Peliculas\", \"Comida Rapida\", \"Licores\", \"Servicios de Textiles e Imprenta\", \"Articulos de Oficina\", \"Servicio Personales (Deliveries, etc.)\", \"Vida Nocturna\", \"Restaurantes\", \"Servicios de Salud, Belleza y Recreacion\", \"Ropas\", \"Supermercados y Alimentos\", \"Tienda De Venta Especializada\", \"Otros Servicios\", \"Servicios Educativos\", \"Servicios de Comunicacion, Internet y Telecable\", \"Hoteles Moteles Resorts\", \"Gasolineras y Vehiculos\", \"Ferreterias y Hogar\", \"Musica\", \"Servicios de Transporte y Viajes\", \"Instituciones Financieras y Aseguradoras\", \"Tecnologia y Software\", \"Servicios Gubernamentales\", \"Servicios Agropecuarios\", \"Ventas y Servicios de Equipos Electricos\"], \"y\": [85.8974358974359, 76.48902821316615, 72.18296034550451, 70.84493964716806, 70.58823529411765, 70.08196721311475, 69.46564885496183, 65.57377049180327, 64.12925612665366, 64.07617086978898, 60.99593707677883, 60.834075393291776, 60.76878178937714, 60.16597510373444, 59.966120835686056, 59.72879504914452, 59.119496855345915, 57.98876461359381, 57.71851275063266, 57.142857142857146, 56.53461680858941, 56.260720411663804, 54.93197278911565, 54.578500952051236, 47.340425531914896, 32.657417289220916], \"type\": \"bar\", \"uid\": \"fbcbf066-6fbe-4426-a046-b73498eaba03\"}, {\"name\": \"Norte\", \"x\": [\"Ventas y Servicios de Equipos Electricos\", \"Servicios Agropecuarios\", \"Servicios Gubernamentales\", \"Tecnologia y Software\", \"Instituciones Financieras y Aseguradoras\", \"Servicios de Transporte y Viajes\", \"Musica\", \"Ferreterias y Hogar\", \"Gasolineras y Vehiculos\", \"Hoteles Moteles Resorts\", \"Servicios de Comunicacion, Internet y Telecable\", \"Servicios Educativos\", \"Otros Servicios\", \"Tienda De Venta Especializada\", \"Supermercados y Alimentos\", \"Ropas\", \"Servicios de Salud, Belleza y Recreacion\", \"Restaurantes\", \"Vida Nocturna\", \"Servicio Personales (Deliveries, etc.)\", \"Articulos de Oficina\", \"Servicios de Textiles e Imprenta\", \"Licores\", \"Comida Rapida\", \"Cine y Peliculas\", \"Servicios de Construccion y Decoracion\"], \"y\": [67.34258271077908, 52.659574468085104, 45.421499047948764, 45.06802721088435, 43.739279588336196, 43.46538319141059, 42.857142857142854, 42.28148724936734, 42.01123538640619, 40.880503144654085, 40.27120495085548, 40.033879164313944, 39.83402489626556, 39.23121821062286, 39.165924606708224, 39.00406292322117, 35.92382913021101, 35.87074387334635, 34.42622950819672, 30.53435114503817, 29.918032786885245, 29.41176470588235, 29.155060352831942, 27.817039654495485, 23.510971786833856, 14.102564102564102], \"type\": \"bar\", \"uid\": \"952a6e18-0e84-4b4c-be0d-3c63b9480519\"}], {\"autosize\": true, \"barmode\": \"stack\", \"title\": {\"text\": \"Preferencias por Categoria por Zona\"}, \"xaxis\": {\"title\": {\"font\": {\"color\": \"#14A751\", \"family\": \"Myriad\", \"size\": 20}, \"text\": \"Categoria_Agrupada\"}}, \"yaxis\": {\"title\": {\"font\": {\"color\": \"#14A751\", \"family\": \"Myriad\", \"size\": 20}, \"text\": \"Porcentaje_Clientes (%)\"}}}, {\"showLink\": false, \"linkText\": \"Export to plot.ly\", \"plotlyServerURL\": \"https://plot.ly\"})});</script><script type=\"text/javascript\">window.addEventListener(\"resize\", function(){window._Plotly.Plots.resize(document.getElementById(\"cf0490ee-96af-4d39-ad8d-7435c63e77db\"));});</script>"
      ]
     },
     "metadata": {},
     "output_type": "display_data"
    }
   ],
   "source": [
    "stacked_bar_plotly(pct_preferencias_zona,\"Categoria_Agrupada\",\"Zona\"\n",
    "                   ,\"Porcentaje_Clientes (%)\",\"Preferencias por Categoria por Zona\")"
   ]
  },
  {
   "cell_type": "markdown",
   "metadata": {
    "slideshow": {
     "slide_type": "subslide"
    }
   },
   "source": [
    "Por Zona, se puede apreciar lo siguiente: \n",
    "\n",
    "- Mayor presencia de las categorias de Construcción, Cine, Delivery y Comida Rapida en la zona Metro.\n",
    "- Mayor presencia de las categorias de Equipos Electricos y Agropecuarios en la zona Norte.\n",
    "- Igual presencia en las demás, con un poco más de peso en la zona Metro."
   ]
  },
  {
   "cell_type": "markdown",
   "metadata": {
    "slideshow": {
     "slide_type": "slide"
    }
   },
   "source": [
    "# Inclusión en Vista 360"
   ]
  },
  {
   "cell_type": "markdown",
   "metadata": {
    "slideshow": {
     "slide_type": "subslide"
    }
   },
   "source": [
    "Las preferencias de comercios serán incluidas en la aplicación de Vista 360. El calculo será realizado utilizando las transacciones de un cliente en el ultimo año, y utilizando el calculo del RFM. Los rangos de las variables (ejemplo la Cantidad) para los score de RFM serán guardados y leidos a la hora de crear las preferencias. "
   ]
  },
  {
   "cell_type": "markdown",
   "metadata": {
    "slideshow": {
     "slide_type": "subslide"
    }
   },
   "source": [
    "Las preferencias serán mostradas en el perfil del cliente, en la columna preferencias. Tendrán iconos según la preferencia calculada. "
   ]
  },
  {
   "cell_type": "markdown",
   "metadata": {
    "slideshow": {
     "slide_type": "fragment"
    }
   },
   "source": [
    "![title](http://react.rocks/images/converted/react-evil-icons.jpg)"
   ]
  },
  {
   "cell_type": "markdown",
   "metadata": {
    "slideshow": {
     "slide_type": "slide"
    }
   },
   "source": [
    "# Conclusiones y Posibles Mejoras"
   ]
  },
  {
   "cell_type": "markdown",
   "metadata": {
    "slideshow": {
     "slide_type": "subslide"
    }
   },
   "source": [
    "Pudimos determinar las preferencias de comercios de clientes según las categorias de comercios que frecuentan. Utilizamos varias metodologias para determinarlas, y analizamos las diferencias que trae usar una sobre otra. Al final, utilizamos una que combina la recencia, frecuencia y valor monetario de las transacciones del cliente, para tener un valor más certero."
   ]
  },
  {
   "cell_type": "markdown",
   "metadata": {
    "slideshow": {
     "slide_type": "subslide"
    }
   },
   "source": [
    "Algunas posibles mejoras: \n",
    "\n",
    "- Añadir datos de transacciones con tarjeta de debito. No todos usan exclusivamente su tarjeta de crédito.\n",
    "- Añadir un \"peso categorico\" que asigna menos valor a categorias muy comunes (es decir habría menos peso de preferencia para Supermercados y Gasolineras).\n",
    "- Hacer un análisis más profundo de las categorias agrupadas, añadiendo nuevas y agrupando más categorias similares."
   ]
  },
  {
   "cell_type": "markdown",
   "metadata": {
    "slideshow": {
     "slide_type": "slide"
    }
   },
   "source": [
    "# *FIN*"
   ]
  }
 ],
 "metadata": {
  "celltoolbar": "Slideshow",
  "kernelspec": {
   "display_name": "Python 3",
   "language": "python",
   "name": "python3"
  },
  "language_info": {
   "codemirror_mode": {
    "name": "ipython",
    "version": 3
   },
   "file_extension": ".py",
   "mimetype": "text/x-python",
   "name": "python",
   "nbconvert_exporter": "python",
   "pygments_lexer": "ipython3",
   "version": "3.6.8"
  },
  "livereveal": {
   "scroll": true
  }
 },
 "nbformat": 4,
 "nbformat_minor": 2
}
